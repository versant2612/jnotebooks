{
  "nbformat": 4,
  "nbformat_minor": 0,
  "metadata": {
    "colab": {
      "name": "SiameseBERT-SemanticSearch.ipynb",
      "provenance": [],
      "collapsed_sections": [],
      "include_colab_link": true
    },
    "kernelspec": {
      "name": "python3",
      "display_name": "Python 3"
    },
    "accelerator": "GPU"
  },
  "cells": [
    {
      "cell_type": "markdown",
      "metadata": {
        "id": "view-in-github",
        "colab_type": "text"
      },
      "source": [
        "<a href=\"https://colab.research.google.com/github/versant2612/jnotebooks/blob/main/content/courses/deeplearning/notebooks/SiameseBERT_SemanticSearch.ipynb\" target=\"_parent\"><img src=\"https://colab.research.google.com/assets/colab-badge.svg\" alt=\"Open In Colab\"/></a>"
      ]
    },
    {
      "cell_type": "markdown",
      "metadata": {
        "id": "liIk8f980xT5"
      },
      "source": [
        "# Sentence Embeddings using Siamese BERT-Networks\n",
        "---\n",
        "This Google Colab Notebook illustrates using the Sentence Transformer python library to quickly create BERT embeddings for sentences and perform fast semantic searches.\n",
        "\n",
        "The Sentence Transformer library is available on [pypi](https://pypi.org/project/sentence-transformers/) and [github](https://github.com/UKPLab/sentence-transformers). The library implements code from the ACL 2019 paper entitled \"[Sentence-BERT: Sentence Embeddings using Siamese BERT-Networks](https://www.aclweb.org/anthology/D19-1410.pdf)\" by Nils Reimers and Iryna Gurevych.\n"
      ]
    },
    {
      "cell_type": "markdown",
      "metadata": {
        "id": "bzljhyTQEZds"
      },
      "source": [
        "## Install Sentence Transformer Library"
      ]
    },
    {
      "cell_type": "code",
      "metadata": {
        "id": "AmxRYxNDvn6y",
        "colab": {
          "base_uri": "https://localhost:8080/",
          "height": 802
        },
        "outputId": "905d49f5-6453-429d-fff3-18dbd186ccf4"
      },
      "source": [
        "# Install the library using pip\n",
        "!pip install sentence-transformers"
      ],
      "execution_count": null,
      "outputs": [
        {
          "output_type": "stream",
          "text": [
            "Collecting sentence-transformers\n",
            "\u001b[?25l  Downloading https://files.pythonhosted.org/packages/ce/4b/0add07b1eebbbe83e77fb5ac4e72e87046c3fc2c9cb16f7d1cd8c6921a1d/sentence-transformers-0.3.7.2.tar.gz (59kB)\n",
            "\u001b[K     |████████████████████████████████| 61kB 5.2MB/s \n",
            "\u001b[?25hCollecting transformers<3.4.0,>=3.1.0\n",
            "\u001b[?25l  Downloading https://files.pythonhosted.org/packages/19/22/aff234f4a841f8999e68a7a94bdd4b60b4cebcfeca5d67d61cd08c9179de/transformers-3.3.1-py3-none-any.whl (1.1MB)\n",
            "\u001b[K     |████████████████████████████████| 1.1MB 10.5MB/s \n",
            "\u001b[?25hRequirement already satisfied: tqdm in /usr/local/lib/python3.6/dist-packages (from sentence-transformers) (4.41.1)\n",
            "Requirement already satisfied: torch>=1.2.0 in /usr/local/lib/python3.6/dist-packages (from sentence-transformers) (1.6.0+cu101)\n",
            "Requirement already satisfied: numpy in /usr/local/lib/python3.6/dist-packages (from sentence-transformers) (1.18.5)\n",
            "Requirement already satisfied: scikit-learn in /usr/local/lib/python3.6/dist-packages (from sentence-transformers) (0.22.2.post1)\n",
            "Requirement already satisfied: scipy in /usr/local/lib/python3.6/dist-packages (from sentence-transformers) (1.4.1)\n",
            "Requirement already satisfied: nltk in /usr/local/lib/python3.6/dist-packages (from sentence-transformers) (3.2.5)\n",
            "Collecting sentencepiece!=0.1.92\n",
            "\u001b[?25l  Downloading https://files.pythonhosted.org/packages/d4/a4/d0a884c4300004a78cca907a6ff9a5e9fe4f090f5d95ab341c53d28cbc58/sentencepiece-0.1.91-cp36-cp36m-manylinux1_x86_64.whl (1.1MB)\n",
            "\u001b[K     |████████████████████████████████| 1.1MB 53.5MB/s \n",
            "\u001b[?25hRequirement already satisfied: filelock in /usr/local/lib/python3.6/dist-packages (from transformers<3.4.0,>=3.1.0->sentence-transformers) (3.0.12)\n",
            "Requirement already satisfied: packaging in /usr/local/lib/python3.6/dist-packages (from transformers<3.4.0,>=3.1.0->sentence-transformers) (20.4)\n",
            "Collecting tokenizers==0.8.1.rc2\n",
            "\u001b[?25l  Downloading https://files.pythonhosted.org/packages/80/83/8b9fccb9e48eeb575ee19179e2bdde0ee9a1904f97de5f02d19016b8804f/tokenizers-0.8.1rc2-cp36-cp36m-manylinux1_x86_64.whl (3.0MB)\n",
            "\u001b[K     |████████████████████████████████| 3.0MB 49.5MB/s \n",
            "\u001b[?25hRequirement already satisfied: regex!=2019.12.17 in /usr/local/lib/python3.6/dist-packages (from transformers<3.4.0,>=3.1.0->sentence-transformers) (2019.12.20)\n",
            "Requirement already satisfied: requests in /usr/local/lib/python3.6/dist-packages (from transformers<3.4.0,>=3.1.0->sentence-transformers) (2.23.0)\n",
            "Collecting sacremoses\n",
            "\u001b[?25l  Downloading https://files.pythonhosted.org/packages/7d/34/09d19aff26edcc8eb2a01bed8e98f13a1537005d31e95233fd48216eed10/sacremoses-0.0.43.tar.gz (883kB)\n",
            "\u001b[K     |████████████████████████████████| 890kB 56.3MB/s \n",
            "\u001b[?25hRequirement already satisfied: dataclasses; python_version < \"3.7\" in /usr/local/lib/python3.6/dist-packages (from transformers<3.4.0,>=3.1.0->sentence-transformers) (0.7)\n",
            "Requirement already satisfied: future in /usr/local/lib/python3.6/dist-packages (from torch>=1.2.0->sentence-transformers) (0.16.0)\n",
            "Requirement already satisfied: joblib>=0.11 in /usr/local/lib/python3.6/dist-packages (from scikit-learn->sentence-transformers) (0.16.0)\n",
            "Requirement already satisfied: six in /usr/local/lib/python3.6/dist-packages (from nltk->sentence-transformers) (1.15.0)\n",
            "Requirement already satisfied: pyparsing>=2.0.2 in /usr/local/lib/python3.6/dist-packages (from packaging->transformers<3.4.0,>=3.1.0->sentence-transformers) (2.4.7)\n",
            "Requirement already satisfied: urllib3!=1.25.0,!=1.25.1,<1.26,>=1.21.1 in /usr/local/lib/python3.6/dist-packages (from requests->transformers<3.4.0,>=3.1.0->sentence-transformers) (1.24.3)\n",
            "Requirement already satisfied: certifi>=2017.4.17 in /usr/local/lib/python3.6/dist-packages (from requests->transformers<3.4.0,>=3.1.0->sentence-transformers) (2020.6.20)\n",
            "Requirement already satisfied: chardet<4,>=3.0.2 in /usr/local/lib/python3.6/dist-packages (from requests->transformers<3.4.0,>=3.1.0->sentence-transformers) (3.0.4)\n",
            "Requirement already satisfied: idna<3,>=2.5 in /usr/local/lib/python3.6/dist-packages (from requests->transformers<3.4.0,>=3.1.0->sentence-transformers) (2.10)\n",
            "Requirement already satisfied: click in /usr/local/lib/python3.6/dist-packages (from sacremoses->transformers<3.4.0,>=3.1.0->sentence-transformers) (7.1.2)\n",
            "Building wheels for collected packages: sentence-transformers, sacremoses\n",
            "  Building wheel for sentence-transformers (setup.py) ... \u001b[?25l\u001b[?25hdone\n",
            "  Created wheel for sentence-transformers: filename=sentence_transformers-0.3.7.2-cp36-none-any.whl size=91190 sha256=dda86e16257ccb3efdae251bb50ebd2da028d82d1341370b9a18708666c76e30\n",
            "  Stored in directory: /root/.cache/pip/wheels/4b/8f/23/7f93e91176acc7c2d651b54fa9f01e3624a47904145c4d133e\n",
            "  Building wheel for sacremoses (setup.py) ... \u001b[?25l\u001b[?25hdone\n",
            "  Created wheel for sacremoses: filename=sacremoses-0.0.43-cp36-none-any.whl size=893257 sha256=3c5e9c04c0efbd66b1fb31bfe7b7b6bdf67365a79ce040c79f4d9184f0b7ea29\n",
            "  Stored in directory: /root/.cache/pip/wheels/29/3c/fd/7ce5c3f0666dab31a50123635e6fb5e19ceb42ce38d4e58f45\n",
            "Successfully built sentence-transformers sacremoses\n",
            "Installing collected packages: sentencepiece, tokenizers, sacremoses, transformers, sentence-transformers\n",
            "Successfully installed sacremoses-0.0.43 sentence-transformers-0.3.7.2 sentencepiece-0.1.91 tokenizers-0.8.1rc2 transformers-3.3.1\n"
          ],
          "name": "stdout"
        }
      ]
    },
    {
      "cell_type": "markdown",
      "metadata": {
        "id": "eIAKz6KVEndZ"
      },
      "source": [
        "## Load the BERT Model"
      ]
    },
    {
      "cell_type": "code",
      "metadata": {
        "id": "5IO_j2Ofv5pq",
        "colab": {
          "base_uri": "https://localhost:8080/",
          "height": 34
        },
        "outputId": "e773b0f9-48e5-45db-bfc4-1cd15a33e5e6"
      },
      "source": [
        "from sentence_transformers import SentenceTransformer\n",
        "\n",
        "# Load the BERT model. Various models trained on Natural Language Inference (NLI) https://github.com/UKPLab/sentence-transformers/blob/master/docs/pretrained-models/nli-models.md and \n",
        "# Semantic Textual Similarity are available https://github.com/UKPLab/sentence-transformers/blob/master/docs/pretrained-models/sts-models.md\n",
        "\n",
        "model = SentenceTransformer('bert-base-nli-mean-tokens')"
      ],
      "execution_count": null,
      "outputs": [
        {
          "output_type": "stream",
          "text": [
            "100%|██████████| 405M/405M [00:51<00:00, 7.92MB/s]\n"
          ],
          "name": "stderr"
        }
      ]
    },
    {
      "cell_type": "markdown",
      "metadata": {
        "id": "I7_Ib3ITEwgO"
      },
      "source": [
        "## Setup a Corpus"
      ]
    },
    {
      "cell_type": "code",
      "metadata": {
        "id": "rEa50nefv7HY",
        "colab": {
          "base_uri": "https://localhost:8080/",
          "height": 1000
        },
        "outputId": "03a002e7-fbb1-458c-f512-24db7f2de94f"
      },
      "source": [
        "# A corpus is a list with documents split by sentences.\n",
        "\n",
        "sentences = ['Absence of sanity', \n",
        "             'Lack of saneness',\n",
        "             'A man is eating food.',\n",
        "             'A man is eating a piece of bread.',\n",
        "             'The girl is carrying a baby.',\n",
        "             'A man is riding a horse.',\n",
        "             'A woman is playing violin.',\n",
        "             'Two men pushed carts through the woods.',\n",
        "             'A man is riding a white horse on an enclosed ground.',\n",
        "             'A monkey is playing drums.',\n",
        "             'A cheetah is running behind its prey.']\n",
        "\n",
        "# Each sentence is encoded as a 1-D vector with 78 columns\n",
        "sentence_embeddings = model.encode(sentences)\n",
        "\n",
        "print('Sample BERT embedding vector - length', len(sentence_embeddings[0]))\n",
        "\n",
        "print('Sample BERT embedding vector - note includes negative values', sentence_embeddings[0])"
      ],
      "execution_count": null,
      "outputs": [
        {
          "output_type": "stream",
          "text": [
            "Sample BERT embedding vector - length 768\n",
            "Sample BERT embedding vector - note includes negative values [ 2.95402944e-01  2.91811436e-01  2.16480088e+00  2.20419794e-01\n",
            " -1.30862771e-02  1.01950371e+00  1.51298153e+00  2.34132320e-01\n",
            "  2.73057610e-01  1.35122865e-01 -1.11313331e+00 -1.25885352e-01\n",
            "  1.45378396e-01  9.77708817e-01  1.39352274e+00  4.57705200e-01\n",
            " -5.82130790e-01 -7.24941134e-01 -3.61734450e-01 -2.27515027e-01\n",
            "  1.66629069e-02  2.04862550e-01  6.55132949e-01 -1.29376423e+00\n",
            " -7.26099491e-01 -1.91135973e-01 -3.07211190e-01 -1.30278611e+00\n",
            " -1.42963862e+00  5.67500899e-03  3.54811519e-01  4.83713001e-01\n",
            "  6.65388465e-01  5.33848584e-01  6.40497088e-01  5.90408325e-01\n",
            "  7.83849061e-02 -1.07759213e+00 -1.24676727e-01 -3.98406595e-01\n",
            "  7.36314774e-01  5.28292835e-01  5.63290417e-01  4.14545923e-01\n",
            "  4.49179173e-01 -9.58785564e-02  1.45424581e+00 -2.69144714e-01\n",
            " -2.44059891e-01 -1.10387063e+00 -2.00923488e-01 -2.17445171e-03\n",
            "  1.83387911e+00  1.06518483e+00 -5.11946321e-01 -1.11248517e+00\n",
            "  5.59789956e-01 -5.89609027e-01  1.07621944e+00  7.49265730e-01\n",
            "  4.32666242e-01  1.76307112e-01 -1.72129329e-02  1.19170032e-01\n",
            " -8.37448001e-01  1.88446328e-01 -7.46746082e-03  1.70311444e-02\n",
            " -4.29176271e-01 -5.72340369e-01  6.22608423e-01 -3.38024288e-01\n",
            "  1.03712723e-01  2.42106602e-01 -9.82075214e-01 -2.63343990e-01\n",
            "  4.15540695e-01  2.79155642e-01 -1.03487171e-01  7.32837021e-01\n",
            "  2.78023541e-01  7.52160132e-01  8.08235526e-01 -4.87504184e-01\n",
            " -7.64051557e-01 -7.08028600e-02  5.39888144e-01  2.24032760e-01\n",
            " -1.66969895e+00 -2.01101422e-01  2.13853687e-01  1.08926678e+00\n",
            "  5.79519928e-01 -3.32589537e-01 -9.75302875e-01  2.37978138e-02\n",
            " -1.68780401e-01  2.63479054e-01  1.64727643e-01  2.03110725e-01\n",
            "  8.12670123e-03  3.75386477e-01  4.53516632e-01  4.21483293e-02\n",
            "  4.72985178e-01  3.53581280e-01 -1.55092686e-01  3.71253252e-01\n",
            "  3.54824811e-01  5.11554703e-02 -9.36767578e-01  1.42013252e+00\n",
            "  7.63064504e-01 -8.58591914e-01 -5.74659824e-01  2.43794210e-02\n",
            " -1.39292645e+00  3.14163119e-01 -2.08898298e-02  4.01286185e-01\n",
            "  8.56514573e-01  2.12013245e-01  1.93166405e-01 -8.65446478e-02\n",
            "  3.66492808e-01 -5.34847260e-01  9.08364117e-01 -1.47460356e-01\n",
            " -4.34119314e-01  1.38952270e-01 -2.85755545e-01  8.91503930e-01\n",
            " -9.49378848e-01 -6.12360016e-02 -1.63512558e-01  2.15334110e-02\n",
            "  9.33666825e-02 -1.83846503e-01 -7.05076456e-02 -9.50030237e-02\n",
            " -7.78035343e-01  5.08425534e-01 -2.38958120e-01  1.18629076e-01\n",
            " -2.22939923e-01 -4.55788791e-01  7.77875781e-01  5.58181882e-01\n",
            " -6.46435559e-01 -3.76423508e-01 -9.94759917e-01 -2.24633247e-01\n",
            "  2.56237239e-01  3.92683804e-01 -3.80205840e-01 -5.66550136e-01\n",
            "  1.06151187e+00  6.39036953e-01  2.45125964e-01 -2.10276559e-01\n",
            " -2.03608319e-01  5.58223069e-01  5.87127097e-02  4.09846961e-01\n",
            "  9.85408872e-02  5.68383560e-02 -3.91429067e-01  2.61983722e-01\n",
            "  1.85061753e-01 -7.71072268e-01  6.81888700e-01 -6.14751458e-01\n",
            " -9.09989953e-01 -5.37010968e-01 -2.67421186e-01  6.41147494e-02\n",
            " -1.47128999e-01  8.36788774e-01  2.73965210e-01  2.99047053e-01\n",
            "  1.75318211e-01 -8.45175758e-02  1.32096410e+00 -1.32269979e+00\n",
            " -8.96274447e-01 -7.21393704e-01  9.03012902e-02 -5.28525054e-01\n",
            " -5.90585954e-02 -1.73462123e-01 -1.08447266e+00 -9.68358696e-01\n",
            "  7.07607865e-01 -1.08554196e+00  7.90787265e-02 -1.23736456e-01\n",
            "  1.04828283e-01 -4.38559622e-01 -9.64851603e-02  1.21586859e-01\n",
            "  7.08318710e-01 -7.40591705e-01 -6.13742657e-02  5.97689450e-01\n",
            "  5.36595464e-01  9.54431176e-01  5.82718141e-02 -7.02314258e-01\n",
            " -5.21192193e-01 -5.31055272e-01 -6.87113106e-01 -2.28840321e-01\n",
            " -1.25095204e-01  3.82895470e-01  9.40875173e-01 -1.53620017e+00\n",
            "  3.08551610e-01 -1.07018924e+00 -9.22981575e-02  1.83376878e-01\n",
            "  2.36132577e-01 -9.44777668e-01  3.63419592e-01  1.02014877e-01\n",
            " -2.61932552e-01  1.31475377e+00 -8.66962522e-02  4.19598192e-01\n",
            " -5.64484715e-01 -2.40892366e-01  9.56283957e-02  2.88403332e-01\n",
            " -1.26559615e+00  9.68207493e-02 -6.86096430e-01 -9.73237216e-01\n",
            "  4.98170197e-01 -6.72291934e-01  6.18023813e-01 -2.36298770e-01\n",
            " -1.19644012e-02  2.23921344e-01  1.29233611e+00  9.04313564e-01\n",
            " -6.94556952e-01  2.12914303e-01  1.41126603e-01 -1.09073663e+00\n",
            " -2.61027426e-01  3.72416168e-01  5.65628231e-01 -7.63028264e-01\n",
            "  2.54305124e-01  2.96842337e-01  6.39281929e-01 -3.68397057e-01\n",
            " -1.50474697e-01 -2.06995875e-01  4.89719093e-01 -1.07649362e+00\n",
            " -4.69321787e-01  5.64346135e-01 -8.54325414e-01  2.01306894e-01\n",
            " -3.64126772e-01 -4.83238131e-01 -2.99138367e-01 -2.37890929e-01\n",
            " -7.14594662e-01  3.88848707e-02  2.88149178e-01 -8.43381107e-01\n",
            " -1.32529065e-01  3.20764124e-01 -5.64771175e-01 -6.50783777e-01\n",
            "  1.23112619e+00 -3.79267752e-01 -5.36719859e-01 -1.18963286e-01\n",
            "  5.57513237e-01  7.38234282e-01 -1.65188789e+00  4.81853098e-01\n",
            " -9.48715031e-01  9.54266250e-01  6.12537682e-01  2.52186239e-01\n",
            " -2.26502419e-01 -1.06310263e-01 -6.21922970e-01  7.16752410e-01\n",
            " -3.86202753e-01 -7.54139066e-01  5.86001217e-01 -2.63744891e-01\n",
            "  2.03416318e-01 -5.31250298e-01 -9.58163440e-01  7.24046886e-01\n",
            " -6.24142170e-01 -1.32547051e-01 -7.14519441e-01  2.18565658e-01\n",
            " -6.77283406e-01 -1.44099534e-01 -3.61370951e-01  8.55807900e-01\n",
            "  4.30026472e-01  5.20425498e-01 -1.25135815e+00  8.63328017e-03\n",
            " -8.13418210e-01 -1.89724073e-01  6.97538972e-01 -2.71261156e-01\n",
            " -9.60209370e-01 -5.67387521e-01 -1.97102323e-01 -8.45596910e-01\n",
            "  4.09596056e-01  4.65881974e-01  1.00615621e-01  1.79212376e-01\n",
            "  3.18223774e-01 -1.94156915e-01 -2.31447127e-02  5.31907678e-01\n",
            "  2.07857296e-01 -1.38748929e-01 -1.25763267e-01 -1.67028773e+00\n",
            "  7.72697106e-02  3.29650164e-01  9.59620833e-01  9.71129417e-01\n",
            " -8.59887123e-01 -7.97947407e-01 -4.50175703e-01  6.09350145e-01\n",
            " -9.92599279e-02 -1.26160538e+00 -4.80852604e-01 -4.37261909e-02\n",
            "  7.61089385e-01 -4.90454853e-01 -1.16635025e+00 -1.26680601e+00\n",
            "  4.23250258e-01 -3.28321904e-01  1.13249317e-01  1.19094634e+00\n",
            " -4.76775557e-01  2.77292609e-01 -6.62052631e-01 -6.26967490e-01\n",
            " -3.28042924e-01  4.62100565e-01  4.22710292e-02  1.11228628e-02\n",
            "  3.49018246e-01  3.41067284e-01 -2.20341772e-01 -8.18508267e-01\n",
            "  6.06628776e-01 -6.28642201e-01  2.82574177e-01  4.81881231e-01\n",
            "  1.42555869e+00 -1.52597204e-03 -5.17759204e-01 -2.46805605e-02\n",
            " -5.39778113e-01  2.85306036e-01 -2.21777052e-01 -1.85012788e-01\n",
            "  3.11429650e-01 -2.07644626e-01 -2.50214517e-01 -9.53149199e-01\n",
            "  4.12619174e-01  3.92304435e-02  1.41120285e-01 -3.55186701e-01\n",
            "  1.18068123e+00 -3.14618796e-01  4.79557127e-01 -4.70073700e-01\n",
            "  1.77134857e-01  6.75846875e-01  9.84488606e-01  2.68136084e-01\n",
            " -7.01488275e-03 -2.85394400e-01 -1.52261466e-01 -1.11626410e+00\n",
            "  1.02338731e-01  5.77064395e-01  3.41381669e-01  4.19948757e-01\n",
            "  4.03284699e-01  2.95105875e-01  9.24367726e-01  1.26249266e+00\n",
            "  1.20447159e+00  9.47557151e-01  4.87716980e-02  4.61913049e-01\n",
            " -8.18414867e-01  4.46733952e-01  6.60864770e-01  4.44435745e-01\n",
            " -9.46657300e-01  3.16685140e-01 -5.51689446e-01 -1.82610542e-01\n",
            " -1.46252856e-01 -1.01644230e+00  7.33199239e-01  1.08742774e+00\n",
            " -6.23244882e-01 -6.87371492e-01 -1.63678065e-01  2.05873638e-01\n",
            " -1.28123167e-04  1.58518422e+00 -2.15279311e-01 -3.93540561e-01\n",
            " -2.25849792e-01 -4.96902131e-02 -3.16225141e-01 -2.08419859e-02\n",
            " -7.36598790e-01  5.96843421e-01 -6.45120442e-01 -5.47668815e-01\n",
            "  1.46693200e-01 -1.00796354e+00  2.46947721e-01 -1.16965473e-01\n",
            "  1.06088769e+00  1.71405915e-02  1.60032123e-01 -1.61019899e-02\n",
            " -4.65260208e-01 -3.54801804e-01 -7.89501548e-01 -5.38766861e-01\n",
            "  4.41756725e-01 -1.14354946e-01  2.15809390e-01  3.88404310e-01\n",
            " -5.96565127e-01  6.83732033e-01  1.11033094e+00  8.61530125e-01\n",
            " -1.48576528e-01  1.11748528e+00  3.42844516e-01 -8.33449140e-02\n",
            "  3.36356387e-02  3.10089737e-01 -1.54736972e+00 -4.20449018e-01\n",
            "  8.92352015e-02 -1.90214545e-01 -7.60473013e-02 -9.25956547e-01\n",
            " -2.31246024e-01  3.78083885e-01 -9.29461300e-01 -2.05470800e-01\n",
            " -1.10455133e-01  2.51402497e-01  8.28986317e-02  4.65330452e-01\n",
            " -1.59002960e+00  1.67833511e-02 -1.03856064e-01  4.42655414e-01\n",
            "  5.59934795e-01  4.51579750e-01 -7.67550990e-02 -4.73889261e-01\n",
            " -1.16150498e+00  2.94715226e-01  2.40399241e-01  3.64251554e-01\n",
            "  5.29475212e-01  2.42434442e-03  1.62737519e-02 -1.22207522e-01\n",
            " -1.02022338e+00 -1.01030004e+00 -3.02591383e-01 -2.43044570e-01\n",
            " -7.07274795e-01  1.77668422e-01  2.10999131e-01  7.66401649e-01\n",
            "  3.03304613e-01 -9.95233655e-03 -5.04402936e-01 -5.96487820e-01\n",
            "  4.28530306e-01  7.56299719e-02  1.18148172e+00  2.74926238e-02\n",
            "  1.09997845e+00  1.69377685e-01  1.15801476e-01  7.44199753e-01\n",
            " -1.96189582e-01 -5.51070869e-01 -3.15140843e-01 -7.55082130e-01\n",
            " -5.86988807e-01  4.44423735e-01 -3.26272428e-01 -5.73182464e-01\n",
            " -4.43318784e-01  3.59878898e-01 -4.29273620e-02  8.31856370e-01\n",
            "  6.22972131e-01 -2.17173457e-01 -9.20349777e-01  9.19905663e-01\n",
            " -7.29420409e-02  5.15981019e-02 -9.65983495e-02 -1.27198979e-01\n",
            " -3.96581709e-01  4.10281941e-02  2.23800331e-01  2.97161102e-01\n",
            "  2.92265594e-01 -5.09368598e-01 -5.68876982e-01  4.27781582e-01\n",
            "  4.16459262e-01  4.65236723e-01  1.06364739e+00 -6.52427733e-01\n",
            " -8.28918159e-01  3.47215608e-02  3.42104524e-01  1.88819230e-01\n",
            "  5.04421890e-01 -2.34062195e-01  1.80037439e-01  4.29086685e-01\n",
            "  2.30354995e-01 -2.83437073e-01  2.34265402e-01 -5.11488438e-01\n",
            "  4.76539135e-01  1.56475902e-01 -1.47166386e-01 -1.02309179e+00\n",
            " -5.59814334e-01 -3.14808160e-01  1.36167286e-02  2.48336166e-01\n",
            " -5.14447212e-01 -9.95984256e-01  2.44895816e-02 -2.81419121e-02\n",
            "  2.93588698e-01 -6.17681205e-01  2.71538824e-01 -6.88657343e-01\n",
            "  5.12018502e-01 -5.74777424e-02 -2.89483845e-01 -2.38753155e-01\n",
            "  5.62780976e-01 -1.02241433e+00 -6.51534379e-01  2.27026224e-01\n",
            "  3.18955004e-01  8.17961097e-02 -5.93580678e-02 -1.17566574e+00\n",
            " -4.10226360e-02 -2.96684980e-01  5.82193971e-01 -7.70743251e-01\n",
            " -7.15862736e-02  4.76809084e-01  3.29380572e-01 -5.99578738e-01\n",
            "  5.35213342e-03 -3.21954966e-01  1.17016995e+00 -1.79935336e-01\n",
            " -5.21227360e-01 -2.49460012e-01  4.84305561e-01 -2.64464676e-01\n",
            " -2.03607723e-01  3.04992735e-01 -1.25715005e+00  7.55808949e-01\n",
            " -6.03416979e-01  8.71126428e-02 -1.06220827e-01 -5.40654659e-01\n",
            " -5.11183798e-01 -4.32210527e-02  6.84743166e-01 -9.05072391e-01\n",
            "  4.51819934e-02 -2.63025731e-01 -7.73667812e-01 -7.93841720e-01\n",
            " -3.95872772e-01  2.98923310e-02  1.12445629e+00  8.02642941e-01\n",
            " -3.85726839e-01 -7.29575932e-01  6.11615479e-01 -1.75381571e-01\n",
            " -1.70759469e-01 -1.05162585e+00  1.05050945e+00 -6.94110394e-01\n",
            "  6.68203056e-01 -1.40023351e-01  4.58646297e-01  5.88182621e-02\n",
            "  3.39238644e-01  2.20731705e-01 -4.91491020e-01  8.13486099e-01\n",
            "  1.32252097e+00  1.83043331e-01  2.82913774e-01 -4.13828224e-01\n",
            "  2.75092900e-01 -1.03680015e+00  4.73541737e-01  6.67740226e-01\n",
            " -7.56591409e-02  9.01939720e-02 -8.08835685e-01 -1.11946044e-02\n",
            " -4.65080030e-02  7.15481877e-01 -1.27313226e-01 -6.92540407e-01\n",
            " -7.13321984e-01  2.09888697e-01 -3.56735617e-01 -2.66319335e-01\n",
            " -4.60458130e-01  7.38244038e-03 -8.48066509e-01 -8.13465118e-01\n",
            "  2.13946432e-01 -5.31533480e-01 -8.76829624e-02  3.71387184e-01\n",
            "  4.14128691e-01  8.61193955e-01  8.82487819e-02  3.36407959e-01\n",
            "  8.24471265e-02  1.00937808e+00  1.82786420e-01  4.32676189e-02\n",
            "  1.73484787e-01 -1.22647035e+00 -1.27436042e-01 -7.31792927e-01\n",
            "  9.08650279e-01 -8.02065253e-01  2.60243595e-01  8.27423409e-02\n",
            "  1.52960017e-01  1.81249827e-01 -7.75715828e-01  3.96855712e-01\n",
            "  6.91959381e-01 -2.00028703e-01 -1.84013337e-01  7.82089606e-02\n",
            " -4.08994287e-01 -3.83004099e-02  8.61753106e-01 -2.74388015e-01\n",
            " -9.74847898e-02 -1.02602696e+00 -1.26833409e-01  1.11962521e+00\n",
            "  6.53883874e-01  1.42315105e-01 -4.75913525e-01 -3.21261175e-02\n",
            " -2.65989453e-01 -1.16978005e-01 -5.93443274e-01  6.56192303e-01\n",
            " -5.73521018e-01 -7.07489550e-01 -7.29676843e-01  6.20050868e-03\n",
            "  6.79842591e-01  4.15461063e-01 -3.41879666e-01  2.28170443e+00\n",
            " -1.02978480e+00  4.97357130e-01 -4.68666613e-01  1.19645035e+00\n",
            " -6.38582289e-01 -1.35883614e-01 -7.98879087e-01 -5.45744598e-01\n",
            " -4.36387628e-01 -4.08294857e-01 -2.27469355e-01 -1.78952247e-01\n",
            "  5.60196042e-02  2.35111743e-01 -8.29315364e-01  1.66122075e-02\n",
            " -8.07581902e-01 -6.34335518e-01  3.33200276e-01  2.99568206e-01\n",
            " -8.49243045e-01  5.52450605e-02  8.02987754e-01  4.63941485e-01\n",
            "  6.54758692e-01 -5.37145126e-04 -2.04843715e-01  9.76368725e-01\n",
            " -3.53016376e-01  9.11225498e-01  7.22659230e-01 -3.19766074e-01\n",
            "  2.27476045e-01 -2.76821375e-01  4.26936775e-01  3.22493583e-01\n",
            " -4.22099888e-01  2.96952546e-01  6.81850255e-01  1.47002423e+00\n",
            " -2.75379457e-02 -7.22703457e-01  3.05489190e-02 -5.42969182e-02\n",
            " -5.06122708e-01  4.57351506e-02  8.26341733e-02  4.99086082e-01\n",
            "  9.00193036e-01 -8.83195221e-01 -9.96071637e-01 -2.98155308e-01\n",
            " -4.14106548e-01 -5.26974499e-01 -5.91102898e-01 -2.92363316e-01]\n"
          ],
          "name": "stdout"
        }
      ]
    },
    {
      "cell_type": "markdown",
      "metadata": {
        "id": "QLZaLMDuGhEh"
      },
      "source": [
        "## Perform Semantic Search"
      ]
    },
    {
      "cell_type": "code",
      "metadata": {
        "id": "D6wkgQmywt0k",
        "colab": {
          "base_uri": "https://localhost:8080/",
          "height": 246
        },
        "outputId": "003548d4-90e9-433b-cefc-0f8f0440141f"
      },
      "source": [
        "import scipy\n",
        "#@title Sematic Search Form\n",
        "\n",
        "# code adapted from https://github.com/UKPLab/sentence-transformers/blob/master/examples/application_semantic_search.py\n",
        "\n",
        "query = 'comida' #@param {type: 'string'}\n",
        "\n",
        "queries = [query]\n",
        "query_embeddings = model.encode(queries)\n",
        "\n",
        "# Find the closest 5 sentences of the corpus for each query sentence based on cosine similarity\n",
        "number_top_matches = 5 #@param {type: \"number\"}\n",
        "\n",
        "print(\"Semantic Search Results\")\n",
        "\n",
        "for query, query_embedding in zip(queries, query_embeddings):\n",
        "    distances = scipy.spatial.distance.cdist([query_embedding], sentence_embeddings, \"cosine\")[0]\n",
        "\n",
        "    results = zip(range(len(distances)), distances)\n",
        "    results = sorted(results, key=lambda x: x[1])\n",
        "\n",
        "    print(\"\\n\\n======================\\n\\n\")\n",
        "    print(\"Query:\", query)\n",
        "    print(\"\\nTop 5 most similar sentences in corpus:\")\n",
        "\n",
        "    for idx, distance in results[0:number_top_matches]:\n",
        "        print(sentences[idx].strip(), \"(Cosine Score: %.4f)\" % (1-distance))"
      ],
      "execution_count": 1,
      "outputs": [
        {
          "output_type": "error",
          "ename": "NameError",
          "evalue": "ignored",
          "traceback": [
            "\u001b[0;31m---------------------------------------------------------------------------\u001b[0m",
            "\u001b[0;31mNameError\u001b[0m                                 Traceback (most recent call last)",
            "\u001b[0;32m<ipython-input-1-1b9dfb35e454>\u001b[0m in \u001b[0;36m<module>\u001b[0;34m()\u001b[0m\n\u001b[1;32m      7\u001b[0m \u001b[0;34m\u001b[0m\u001b[0m\n\u001b[1;32m      8\u001b[0m \u001b[0mqueries\u001b[0m \u001b[0;34m=\u001b[0m \u001b[0;34m[\u001b[0m\u001b[0mquery\u001b[0m\u001b[0;34m]\u001b[0m\u001b[0;34m\u001b[0m\u001b[0;34m\u001b[0m\u001b[0m\n\u001b[0;32m----> 9\u001b[0;31m \u001b[0mquery_embeddings\u001b[0m \u001b[0;34m=\u001b[0m \u001b[0mmodel\u001b[0m\u001b[0;34m.\u001b[0m\u001b[0mencode\u001b[0m\u001b[0;34m(\u001b[0m\u001b[0mqueries\u001b[0m\u001b[0;34m)\u001b[0m\u001b[0;34m\u001b[0m\u001b[0;34m\u001b[0m\u001b[0m\n\u001b[0m\u001b[1;32m     10\u001b[0m \u001b[0;34m\u001b[0m\u001b[0m\n\u001b[1;32m     11\u001b[0m \u001b[0;31m# Find the closest 5 sentences of the corpus for each query sentence based on cosine similarity\u001b[0m\u001b[0;34m\u001b[0m\u001b[0;34m\u001b[0m\u001b[0;34m\u001b[0m\u001b[0m\n",
            "\u001b[0;31mNameError\u001b[0m: name 'model' is not defined"
          ]
        }
      ]
    }
  ]
}