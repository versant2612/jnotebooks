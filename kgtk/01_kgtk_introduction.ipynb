{
  "nbformat": 4,
  "nbformat_minor": 5,
  "metadata": {
    "jupytext": {
      "formats": "ipynb,py:light"
    },
    "kernelspec": {
      "display_name": "Python 3 (ipykernel)",
      "language": "python",
      "name": "python3"
    },
    "language_info": {
      "codemirror_mode": {
        "name": "ipython",
        "version": 3
      },
      "file_extension": ".py",
      "mimetype": "text/x-python",
      "name": "python",
      "nbconvert_exporter": "python",
      "pygments_lexer": "ipython3",
      "version": "3.9.7"
    },
    "colab": {
      "name": "01-kgtk-introduction.ipynb",
      "provenance": [],
      "collapsed_sections": [],
      "include_colab_link": true
    }
  },
  "cells": [
    {
      "cell_type": "markdown",
      "metadata": {
        "id": "view-in-github",
        "colab_type": "text"
      },
      "source": [
        "<a href=\"https://colab.research.google.com/github/versant2612/jnotebooks/blob/main/kgtk/01_kgtk_introduction.ipynb\" target=\"_parent\"><img src=\"https://colab.research.google.com/assets/colab-badge.svg\" alt=\"Open In Colab\"/></a>"
      ]
    },
    {
      "cell_type": "code",
      "metadata": {
        "id": "axeS9uewQ1Cr",
        "colab": {
          "base_uri": "https://localhost:8080/",
          "height": 1000
        },
        "outputId": "1a11773a-851d-43c7-aef5-d556bed96958"
      },
      "source": [
        "!pip install kgtk==1.0.1"
      ],
      "id": "axeS9uewQ1Cr",
      "execution_count": 1,
      "outputs": [
        {
          "output_type": "stream",
          "name": "stdout",
          "text": [
            "Collecting kgtk==1.0.1\n",
            "  Downloading kgtk-1.0.1-py3-none-any.whl (550 kB)\n",
            "\u001b[K     |████████████████████████████████| 550 kB 4.0 MB/s \n",
            "\u001b[?25hCollecting loguru\n",
            "  Downloading loguru-0.5.3-py3-none-any.whl (57 kB)\n",
            "\u001b[K     |████████████████████████████████| 57 kB 3.9 MB/s \n",
            "\u001b[?25hRequirement already satisfied: seaborn in /usr/local/lib/python3.7/dist-packages (from kgtk==1.0.1) (0.11.2)\n",
            "Requirement already satisfied: dill>=0.3.2 in /usr/local/lib/python3.7/dist-packages (from kgtk==1.0.1) (0.3.4)\n",
            "Collecting mypy\n",
            "  Downloading mypy-0.910-cp37-cp37m-manylinux2010_x86_64.whl (21.5 MB)\n",
            "\u001b[K     |████████████████████████████████| 21.5 MB 79.5 MB/s \n",
            "\u001b[?25hCollecting parsley>=1.3\n",
            "  Downloading Parsley-1.3-py2.py3-none-any.whl (88 kB)\n",
            "\u001b[K     |████████████████████████████████| 88 kB 8.0 MB/s \n",
            "\u001b[?25hCollecting rdflib>=6.0.2\n",
            "  Downloading rdflib-6.0.2-py3-none-any.whl (407 kB)\n",
            "\u001b[K     |████████████████████████████████| 407 kB 73.9 MB/s \n",
            "\u001b[?25hCollecting iso-639\n",
            "  Downloading iso-639-0.4.5.tar.gz (167 kB)\n",
            "\u001b[K     |████████████████████████████████| 167 kB 62.8 MB/s \n",
            "\u001b[?25hRequirement already satisfied: attrs in /usr/local/lib/python3.7/dist-packages (from kgtk==1.0.1) (21.2.0)\n",
            "Collecting SPARQLWrapper\n",
            "  Downloading SPARQLWrapper-1.8.5-py3-none-any.whl (26 kB)\n",
            "Collecting redis\n",
            "  Downloading redis-4.0.1-py3-none-any.whl (118 kB)\n",
            "\u001b[K     |████████████████████████████████| 118 kB 57.1 MB/s \n",
            "\u001b[?25hCollecting rfc3986\n",
            "  Downloading rfc3986-1.5.0-py2.py3-none-any.whl (31 kB)\n",
            "Collecting pycountry\n",
            "  Downloading pycountry-20.7.3.tar.gz (10.1 MB)\n",
            "\u001b[K     |████████████████████████████████| 10.1 MB 42.5 MB/s \n",
            "\u001b[?25hRequirement already satisfied: thinc==7.4.0 in /usr/local/lib/python3.7/dist-packages (from kgtk==1.0.1) (7.4.0)\n",
            "Requirement already satisfied: plac==1.1.3 in /usr/local/lib/python3.7/dist-packages (from kgtk==1.0.1) (1.1.3)\n",
            "Collecting sh>=1.13\n",
            "  Downloading sh-1.14.2-py2.py3-none-any.whl (40 kB)\n",
            "\u001b[K     |████████████████████████████████| 40 kB 4.8 MB/s \n",
            "\u001b[?25hCollecting sentence-transformers\n",
            "  Downloading sentence-transformers-2.1.0.tar.gz (78 kB)\n",
            "\u001b[K     |████████████████████████████████| 78 kB 6.8 MB/s \n",
            "\u001b[?25hCollecting pyrallel.lib==0.0.9\n",
            "  Downloading pyrallel.lib-0.0.9-py3-none-any.whl (24 kB)\n",
            "Collecting mgzip>=0.2.1\n",
            "  Downloading mgzip-0.2.1.tar.gz (9.6 kB)\n",
            "Collecting pyshacl>=0.17.1\n",
            "  Downloading pyshacl-0.17.2-py3-none-any.whl (1.2 MB)\n",
            "\u001b[K     |████████████████████████████████| 1.2 MB 37.1 MB/s \n",
            "\u001b[?25hRequirement already satisfied: tqdm in /usr/local/lib/python3.7/dist-packages (from kgtk==1.0.1) (4.62.3)\n",
            "Collecting shortuuid\n",
            "  Downloading shortuuid-1.0.8-py3-none-any.whl (9.5 kB)\n",
            "Collecting simplejson\n",
            "  Downloading simplejson-3.17.6-cp37-cp37m-manylinux_2_5_x86_64.manylinux1_x86_64.manylinux_2_12_x86_64.manylinux2010_x86_64.whl (130 kB)\n",
            "\u001b[K     |████████████████████████████████| 130 kB 57.9 MB/s \n",
            "\u001b[?25hCollecting rdflib-jsonld>=0.6.2\n",
            "  Downloading rdflib_jsonld-0.6.2-py2.py3-none-any.whl (4.0 kB)\n",
            "Requirement already satisfied: sklearn in /usr/local/lib/python3.7/dist-packages (from kgtk==1.0.1) (0.0)\n",
            "Collecting rltk\n",
            "  Downloading rltk-2.0.0a20-py3-none-any.whl (81 kB)\n",
            "\u001b[K     |████████████████████████████████| 81 kB 9.2 MB/s \n",
            "\u001b[?25hCollecting torchbiggraph\n",
            "  Downloading torchbiggraph-1.0.0-py3-none-any.whl (99 kB)\n",
            "\u001b[K     |████████████████████████████████| 99 kB 8.1 MB/s \n",
            "\u001b[?25hCollecting odictliteral\n",
            "  Downloading odictliteral-1.0.0.tar.gz (3.1 kB)\n",
            "Collecting lz4\n",
            "  Downloading lz4-3.1.3-cp37-cp37m-manylinux2010_x86_64.whl (1.8 MB)\n",
            "\u001b[K     |████████████████████████████████| 1.8 MB 44.6 MB/s \n",
            "\u001b[?25hCollecting etk>=2.2.8\n",
            "  Downloading etk-2.2.8-py3-none-any.whl (203 kB)\n",
            "\u001b[K     |████████████████████████████████| 203 kB 55.2 MB/s \n",
            "\u001b[?25hCollecting typing>=3.6\n",
            "  Downloading typing-3.7.4.3.tar.gz (78 kB)\n",
            "\u001b[K     |████████████████████████████████| 78 kB 6.6 MB/s \n",
            "\u001b[?25hRequirement already satisfied: multiprocess>=0.70 in /usr/local/lib/python3.7/dist-packages (from pyrallel.lib==0.0.9->kgtk==1.0.1) (0.70.12.2)\n",
            "Requirement already satisfied: blis<0.5.0,>=0.4.0 in /usr/local/lib/python3.7/dist-packages (from thinc==7.4.0->kgtk==1.0.1) (0.4.1)\n",
            "Requirement already satisfied: srsly<1.1.0,>=0.0.6 in /usr/local/lib/python3.7/dist-packages (from thinc==7.4.0->kgtk==1.0.1) (1.0.5)\n",
            "Requirement already satisfied: catalogue<1.1.0,>=0.0.7 in /usr/local/lib/python3.7/dist-packages (from thinc==7.4.0->kgtk==1.0.1) (1.0.0)\n",
            "Requirement already satisfied: preshed<3.1.0,>=1.0.1 in /usr/local/lib/python3.7/dist-packages (from thinc==7.4.0->kgtk==1.0.1) (3.0.6)\n",
            "Requirement already satisfied: cymem<2.1.0,>=2.0.2 in /usr/local/lib/python3.7/dist-packages (from thinc==7.4.0->kgtk==1.0.1) (2.0.6)\n",
            "Requirement already satisfied: numpy>=1.7.0 in /usr/local/lib/python3.7/dist-packages (from thinc==7.4.0->kgtk==1.0.1) (1.19.5)\n",
            "Requirement already satisfied: wasabi<1.1.0,>=0.0.9 in /usr/local/lib/python3.7/dist-packages (from thinc==7.4.0->kgtk==1.0.1) (0.8.2)\n",
            "Requirement already satisfied: murmurhash<1.1.0,>=0.28.0 in /usr/local/lib/python3.7/dist-packages (from thinc==7.4.0->kgtk==1.0.1) (1.0.6)\n",
            "Requirement already satisfied: importlib-metadata>=0.20 in /usr/local/lib/python3.7/dist-packages (from catalogue<1.1.0,>=0.0.7->thinc==7.4.0->kgtk==1.0.1) (4.8.2)\n",
            "Collecting pyexcel-io>=0.5.6\n",
            "  Downloading pyexcel_io-0.6.5-py2.py3-none-any.whl (44 kB)\n",
            "\u001b[K     |████████████████████████████████| 44 kB 2.3 MB/s \n",
            "\u001b[?25hRequirement already satisfied: jdcal>=1.3 in /usr/local/lib/python3.7/dist-packages (from etk>=2.2.8->kgtk==1.0.1) (1.4.1)\n",
            "Requirement already satisfied: toolz>=0.9.0 in /usr/local/lib/python3.7/dist-packages (from etk>=2.2.8->kgtk==1.0.1) (0.11.2)\n",
            "Collecting pyexcel-xlsx>=0.5.6\n",
            "  Downloading pyexcel_xlsx-0.6.0-py2.py3-none-any.whl (9.6 kB)\n",
            "Requirement already satisfied: idna>=2.6 in /usr/local/lib/python3.7/dist-packages (from etk>=2.2.8->kgtk==1.0.1) (2.10)\n",
            "Collecting langdetect>=1.0.7\n",
            "  Downloading langdetect-1.0.9.tar.gz (981 kB)\n",
            "\u001b[K     |████████████████████████████████| 981 kB 71.8 MB/s \n",
            "\u001b[?25hRequirement already satisfied: termcolor>=1.1.0 in /usr/local/lib/python3.7/dist-packages (from etk>=2.2.8->kgtk==1.0.1) (1.1.0)\n",
            "Requirement already satisfied: pytz>=2018.3 in /usr/local/lib/python3.7/dist-packages (from etk>=2.2.8->kgtk==1.0.1) (2018.9)\n",
            "Collecting ujson>=1.35\n",
            "  Downloading ujson-4.2.0-cp37-cp37m-manylinux_2_17_x86_64.manylinux2014_x86_64.whl (214 kB)\n",
            "\u001b[K     |████████████████████████████████| 214 kB 54.7 MB/s \n",
            "\u001b[?25hRequirement already satisfied: requests>=2.18.4 in /usr/local/lib/python3.7/dist-packages (from etk>=2.2.8->kgtk==1.0.1) (2.23.0)\n",
            "Requirement already satisfied: pathlib>=1.0.1 in /usr/local/lib/python3.7/dist-packages (from etk>=2.2.8->kgtk==1.0.1) (1.0.1)\n",
            "Requirement already satisfied: chardet>=3.0.4 in /usr/local/lib/python3.7/dist-packages (from etk>=2.2.8->kgtk==1.0.1) (3.0.4)\n",
            "Requirement already satisfied: html5lib>=1.0b8 in /usr/local/lib/python3.7/dist-packages (from etk>=2.2.8->kgtk==1.0.1) (1.0.1)\n",
            "Collecting pyexcel-xls>=0.5.6\n",
            "  Downloading pyexcel_xls-0.7.0-py2.py3-none-any.whl (11 kB)\n",
            "Requirement already satisfied: pandas>=0.22.0 in /usr/local/lib/python3.7/dist-packages (from etk>=2.2.8->kgtk==1.0.1) (1.1.5)\n",
            "Collecting cytoolz>=0.8.2\n",
            "  Downloading cytoolz-0.11.2.tar.gz (481 kB)\n",
            "\u001b[K     |████████████████████████████████| 481 kB 39.3 MB/s \n",
            "\u001b[?25hCollecting pygtrie>=2.2\n",
            "  Downloading pygtrie-2.4.2.tar.gz (35 kB)\n",
            "Requirement already satisfied: spacy==2.2.4 in /usr/local/lib/python3.7/dist-packages (from etk>=2.2.8->kgtk==1.0.1) (2.2.4)\n",
            "Collecting ftfy>=4.4.3\n",
            "  Downloading ftfy-6.0.3.tar.gz (64 kB)\n",
            "\u001b[K     |████████████████████████████████| 64 kB 2.4 MB/s \n",
            "\u001b[?25hCollecting tabula-py>=1.4.3\n",
            "  Downloading tabula_py-2.3.0-py3-none-any.whl (12.0 MB)\n",
            "\u001b[K     |████████████████████████████████| 12.0 MB 102 kB/s \n",
            "\u001b[?25hCollecting isodate>=0.6.0\n",
            "  Downloading isodate-0.6.0-py2.py3-none-any.whl (45 kB)\n",
            "\u001b[K     |████████████████████████████████| 45 kB 3.1 MB/s \n",
            "\u001b[?25hCollecting ply>=3.11\n",
            "  Downloading ply-3.11-py2.py3-none-any.whl (49 kB)\n",
            "\u001b[K     |████████████████████████████████| 49 kB 5.6 MB/s \n",
            "\u001b[?25hRequirement already satisfied: decorator>=4.2.1 in /usr/local/lib/python3.7/dist-packages (from etk>=2.2.8->kgtk==1.0.1) (4.4.2)\n",
            "Collecting msgpack-numpy<0.4.4.0\n",
            "  Downloading msgpack_numpy-0.4.3.2-py2.py3-none-any.whl (5.2 kB)\n",
            "Requirement already satisfied: python-dateutil>=2.7.2 in /usr/local/lib/python3.7/dist-packages (from etk>=2.2.8->kgtk==1.0.1) (2.8.2)\n",
            "Requirement already satisfied: urllib3>=1.22 in /usr/local/lib/python3.7/dist-packages (from etk>=2.2.8->kgtk==1.0.1) (1.24.3)\n",
            "Collecting msgpack-python>=0.5.4\n",
            "  Downloading msgpack-python-0.5.6.tar.gz (138 kB)\n",
            "\u001b[K     |████████████████████████████████| 138 kB 54.3 MB/s \n",
            "\u001b[?25hCollecting jsonpath-ng>=1.4.3\n",
            "  Downloading jsonpath_ng-1.5.3-py3-none-any.whl (29 kB)\n",
            "Collecting langid>=1.1.6\n",
            "  Downloading langid-1.1.6.tar.gz (1.9 MB)\n",
            "\u001b[K     |████████████████████████████████| 1.9 MB 56.4 MB/s \n",
            "\u001b[?25hRequirement already satisfied: wrapt>=1.10.11 in /usr/local/lib/python3.7/dist-packages (from etk>=2.2.8->kgtk==1.0.1) (1.13.3)\n",
            "Requirement already satisfied: tzlocal>=1.5.1 in /usr/local/lib/python3.7/dist-packages (from etk>=2.2.8->kgtk==1.0.1) (1.5.1)\n",
            "Collecting lml>=0.0.1\n",
            "  Downloading lml-0.1.0-py2.py3-none-any.whl (10 kB)\n",
            "Collecting pyexcel>=0.5.7\n",
            "  Downloading pyexcel-0.6.7-py2.py3-none-any.whl (88 kB)\n",
            "\u001b[K     |████████████████████████████████| 88 kB 8.0 MB/s \n",
            "\u001b[?25hCollecting dateparser>=0.7.0\n",
            "  Downloading dateparser-1.1.0-py2.py3-none-any.whl (288 kB)\n",
            "\u001b[K     |████████████████████████████████| 288 kB 44.5 MB/s \n",
            "\u001b[?25hRequirement already satisfied: six>=1.11.0 in /usr/local/lib/python3.7/dist-packages (from etk>=2.2.8->kgtk==1.0.1) (1.15.0)\n",
            "Requirement already satisfied: wcwidth>=0.1.7 in /usr/local/lib/python3.7/dist-packages (from etk>=2.2.8->kgtk==1.0.1) (0.2.5)\n",
            "Collecting cssselect>=1.0.3\n",
            "  Downloading cssselect-1.1.0-py2.py3-none-any.whl (16 kB)\n",
            "Requirement already satisfied: lxml>=4.1.1 in /usr/local/lib/python3.7/dist-packages (from etk>=2.2.8->kgtk==1.0.1) (4.2.6)\n",
            "Requirement already satisfied: pyparsing>=2.2.0 in /usr/local/lib/python3.7/dist-packages (from etk>=2.2.8->kgtk==1.0.1) (3.0.6)\n",
            "Requirement already satisfied: beautifulsoup4>=4.6.0 in /usr/local/lib/python3.7/dist-packages (from etk>=2.2.8->kgtk==1.0.1) (4.6.3)\n",
            "Requirement already satisfied: setuptools in /usr/local/lib/python3.7/dist-packages (from spacy==2.2.4->etk>=2.2.8->kgtk==1.0.1) (57.4.0)\n",
            "Requirement already satisfied: regex!=2019.02.19,!=2021.8.27 in /usr/local/lib/python3.7/dist-packages (from dateparser>=0.7.0->etk>=2.2.8->kgtk==1.0.1) (2019.12.20)\n",
            "Requirement already satisfied: webencodings in /usr/local/lib/python3.7/dist-packages (from html5lib>=1.0b8->etk>=2.2.8->kgtk==1.0.1) (0.5.1)\n",
            "Requirement already satisfied: zipp>=0.5 in /usr/local/lib/python3.7/dist-packages (from importlib-metadata>=0.20->catalogue<1.1.0,>=0.0.7->thinc==7.4.0->kgtk==1.0.1) (3.6.0)\n",
            "Requirement already satisfied: typing-extensions>=3.6.4 in /usr/local/lib/python3.7/dist-packages (from importlib-metadata>=0.20->catalogue<1.1.0,>=0.0.7->thinc==7.4.0->kgtk==1.0.1) (3.10.0.2)\n",
            "Requirement already satisfied: msgpack>=0.3.0 in /usr/local/lib/python3.7/dist-packages (from msgpack-numpy<0.4.4.0->etk>=2.2.8->kgtk==1.0.1) (1.0.2)\n",
            "Collecting texttable>=0.8.2\n",
            "  Downloading texttable-1.6.4-py2.py3-none-any.whl (10 kB)\n",
            "Requirement already satisfied: xlrd in /usr/local/lib/python3.7/dist-packages (from pyexcel-xls>=0.5.6->etk>=2.2.8->kgtk==1.0.1) (1.1.0)\n",
            "Requirement already satisfied: xlwt in /usr/local/lib/python3.7/dist-packages (from pyexcel-xls>=0.5.6->etk>=2.2.8->kgtk==1.0.1) (1.3.0)\n",
            "Collecting openpyxl>=2.6.1\n",
            "  Downloading openpyxl-3.0.9-py2.py3-none-any.whl (242 kB)\n",
            "\u001b[K     |████████████████████████████████| 242 kB 73.6 MB/s \n",
            "\u001b[?25hRequirement already satisfied: et-xmlfile in /usr/local/lib/python3.7/dist-packages (from openpyxl>=2.6.1->pyexcel-xlsx>=0.5.6->etk>=2.2.8->kgtk==1.0.1) (1.1.0)\n",
            "Collecting owlrl<6.0.0,>=5.2.3\n",
            "  Downloading owlrl-5.2.3-py3-none-any.whl (57 kB)\n",
            "\u001b[K     |████████████████████████████████| 57 kB 5.0 MB/s \n",
            "\u001b[?25hRequirement already satisfied: prettytable<3.0.0,>=2.2.1 in /usr/local/lib/python3.7/dist-packages (from pyshacl>=0.17.1->kgtk==1.0.1) (2.4.0)\n",
            "Requirement already satisfied: certifi>=2017.4.17 in /usr/local/lib/python3.7/dist-packages (from requests>=2.18.4->etk>=2.2.8->kgtk==1.0.1) (2021.10.8)\n",
            "Collecting distro\n",
            "  Downloading distro-1.6.0-py2.py3-none-any.whl (19 kB)\n",
            "Requirement already satisfied: toml in /usr/local/lib/python3.7/dist-packages (from mypy->kgtk==1.0.1) (0.10.2)\n",
            "Collecting typed-ast<1.5.0,>=1.4.0\n",
            "  Downloading typed_ast-1.4.3-cp37-cp37m-manylinux1_x86_64.whl (743 kB)\n",
            "\u001b[K     |████████████████████████████████| 743 kB 70.7 MB/s \n",
            "\u001b[?25hCollecting mypy-extensions<0.5.0,>=0.4.3\n",
            "  Downloading mypy_extensions-0.4.3-py2.py3-none-any.whl (4.5 kB)\n",
            "Collecting deprecated\n",
            "  Downloading Deprecated-1.2.13-py2.py3-none-any.whl (9.6 kB)\n",
            "Requirement already satisfied: scipy>=1.1.0 in /usr/local/lib/python3.7/dist-packages (from rltk->kgtk==1.0.1) (1.4.1)\n",
            "Requirement already satisfied: Cython>=0.28.0 in /usr/local/lib/python3.7/dist-packages (from rltk->kgtk==1.0.1) (0.29.24)\n",
            "Requirement already satisfied: distributed>=1.23 in /usr/local/lib/python3.7/dist-packages (from rltk->kgtk==1.0.1) (1.25.3)\n",
            "Requirement already satisfied: matplotlib>=2.0.0 in /usr/local/lib/python3.7/dist-packages (from rltk->kgtk==1.0.1) (3.2.2)\n",
            "Collecting pandas>=0.22.0\n",
            "  Downloading pandas-1.3.4-cp37-cp37m-manylinux_2_17_x86_64.manylinux2014_x86_64.whl (11.3 MB)\n",
            "\u001b[K     |████████████████████████████████| 11.3 MB 12.2 MB/s \n",
            "\u001b[?25hRequirement already satisfied: dask>=0.19.2 in /usr/local/lib/python3.7/dist-packages (from rltk->kgtk==1.0.1) (2.12.0)\n",
            "Requirement already satisfied: tblib in /usr/local/lib/python3.7/dist-packages (from distributed>=1.23->rltk->kgtk==1.0.1) (1.7.0)\n",
            "Requirement already satisfied: click>=6.6 in /usr/local/lib/python3.7/dist-packages (from distributed>=1.23->rltk->kgtk==1.0.1) (7.1.2)\n",
            "Requirement already satisfied: tornado>=4.5.1 in /usr/local/lib/python3.7/dist-packages (from distributed>=1.23->rltk->kgtk==1.0.1) (5.1.1)\n",
            "Requirement already satisfied: zict>=0.1.3 in /usr/local/lib/python3.7/dist-packages (from distributed>=1.23->rltk->kgtk==1.0.1) (2.0.0)\n",
            "Requirement already satisfied: cloudpickle>=0.2.2 in /usr/local/lib/python3.7/dist-packages (from distributed>=1.23->rltk->kgtk==1.0.1) (1.3.0)\n",
            "Requirement already satisfied: psutil>=5.0 in /usr/local/lib/python3.7/dist-packages (from distributed>=1.23->rltk->kgtk==1.0.1) (5.4.8)\n",
            "Requirement already satisfied: sortedcontainers!=2.0.0,!=2.0.1 in /usr/local/lib/python3.7/dist-packages (from distributed>=1.23->rltk->kgtk==1.0.1) (2.4.0)\n",
            "Requirement already satisfied: pyyaml in /usr/local/lib/python3.7/dist-packages (from distributed>=1.23->rltk->kgtk==1.0.1) (3.13)\n",
            "Requirement already satisfied: cycler>=0.10 in /usr/local/lib/python3.7/dist-packages (from matplotlib>=2.0.0->rltk->kgtk==1.0.1) (0.11.0)\n",
            "Requirement already satisfied: kiwisolver>=1.0.1 in /usr/local/lib/python3.7/dist-packages (from matplotlib>=2.0.0->rltk->kgtk==1.0.1) (1.3.2)\n",
            "Requirement already satisfied: heapdict in /usr/local/lib/python3.7/dist-packages (from zict>=0.1.3->distributed>=1.23->rltk->kgtk==1.0.1) (1.0.1)\n",
            "Collecting transformers<5.0.0,>=4.6.0\n",
            "  Downloading transformers-4.12.5-py3-none-any.whl (3.1 MB)\n",
            "\u001b[K     |████████████████████████████████| 3.1 MB 39.2 MB/s \n",
            "\u001b[?25hCollecting tokenizers>=0.10.3\n",
            "  Downloading tokenizers-0.10.3-cp37-cp37m-manylinux_2_5_x86_64.manylinux1_x86_64.manylinux_2_12_x86_64.manylinux2010_x86_64.whl (3.3 MB)\n",
            "\u001b[K     |████████████████████████████████| 3.3 MB 46.3 MB/s \n",
            "\u001b[?25hRequirement already satisfied: torch>=1.6.0 in /usr/local/lib/python3.7/dist-packages (from sentence-transformers->kgtk==1.0.1) (1.10.0+cu111)\n",
            "Requirement already satisfied: torchvision in /usr/local/lib/python3.7/dist-packages (from sentence-transformers->kgtk==1.0.1) (0.11.1+cu111)\n",
            "Requirement already satisfied: scikit-learn in /usr/local/lib/python3.7/dist-packages (from sentence-transformers->kgtk==1.0.1) (1.0.1)\n",
            "Requirement already satisfied: nltk in /usr/local/lib/python3.7/dist-packages (from sentence-transformers->kgtk==1.0.1) (3.2.5)\n",
            "Collecting sentencepiece\n",
            "  Downloading sentencepiece-0.1.96-cp37-cp37m-manylinux_2_17_x86_64.manylinux2014_x86_64.whl (1.2 MB)\n",
            "\u001b[K     |████████████████████████████████| 1.2 MB 68.9 MB/s \n",
            "\u001b[?25hCollecting huggingface-hub\n",
            "  Downloading huggingface_hub-0.1.2-py3-none-any.whl (59 kB)\n",
            "\u001b[K     |████████████████████████████████| 59 kB 6.5 MB/s \n",
            "\u001b[?25hCollecting pyyaml\n",
            "  Downloading PyYAML-6.0-cp37-cp37m-manylinux_2_5_x86_64.manylinux1_x86_64.manylinux_2_12_x86_64.manylinux2010_x86_64.whl (596 kB)\n",
            "\u001b[K     |████████████████████████████████| 596 kB 58.5 MB/s \n",
            "\u001b[?25hCollecting sacremoses\n",
            "  Downloading sacremoses-0.0.46-py3-none-any.whl (895 kB)\n",
            "\u001b[K     |████████████████████████████████| 895 kB 77.0 MB/s \n",
            "\u001b[?25hRequirement already satisfied: filelock in /usr/local/lib/python3.7/dist-packages (from transformers<5.0.0,>=4.6.0->sentence-transformers->kgtk==1.0.1) (3.4.0)\n",
            "Requirement already satisfied: packaging>=20.0 in /usr/local/lib/python3.7/dist-packages (from transformers<5.0.0,>=4.6.0->sentence-transformers->kgtk==1.0.1) (21.3)\n",
            "Requirement already satisfied: joblib in /usr/local/lib/python3.7/dist-packages (from sacremoses->transformers<5.0.0,>=4.6.0->sentence-transformers->kgtk==1.0.1) (1.1.0)\n",
            "Requirement already satisfied: threadpoolctl>=2.0.0 in /usr/local/lib/python3.7/dist-packages (from scikit-learn->sentence-transformers->kgtk==1.0.1) (3.0.0)\n",
            "Requirement already satisfied: h5py>=2.8 in /usr/local/lib/python3.7/dist-packages (from torchbiggraph->kgtk==1.0.1) (3.1.0)\n",
            "Requirement already satisfied: cached-property in /usr/local/lib/python3.7/dist-packages (from h5py>=2.8->torchbiggraph->kgtk==1.0.1) (1.5.2)\n",
            "Requirement already satisfied: pillow!=8.3.0,>=5.3.0 in /usr/local/lib/python3.7/dist-packages (from torchvision->sentence-transformers->kgtk==1.0.1) (7.1.2)\n",
            "Building wheels for collected packages: cytoolz, ftfy, langdetect, langid, mgzip, msgpack-python, pygtrie, typing, iso-639, odictliteral, pycountry, sentence-transformers\n",
            "  Building wheel for cytoolz (setup.py) ... \u001b[?25l\u001b[?25hdone\n",
            "  Created wheel for cytoolz: filename=cytoolz-0.11.2-cp37-cp37m-linux_x86_64.whl size=1231079 sha256=f8e34e4e3d7fad9a4c6b849a5e16c71f19c447cef566f91a72b9be5adeb7016b\n",
            "  Stored in directory: /root/.cache/pip/wheels/38/70/71/ca13ea3d36ccd0b3d0ec7d7a4ca67522048d695b556bba4f59\n",
            "  Building wheel for ftfy (setup.py) ... \u001b[?25l\u001b[?25hdone\n",
            "  Created wheel for ftfy: filename=ftfy-6.0.3-py3-none-any.whl size=41933 sha256=f24cba6e27620bc4ca6e64ce7e7b6d33fa672c9f37d88d6be52499f1803a9b45\n",
            "  Stored in directory: /root/.cache/pip/wheels/19/f5/38/273eb3b5e76dfd850619312f693716ac4518b498f5ffb6f56d\n",
            "  Building wheel for langdetect (setup.py) ... \u001b[?25l\u001b[?25hdone\n",
            "  Created wheel for langdetect: filename=langdetect-1.0.9-py3-none-any.whl size=993242 sha256=be0f3dc6f0cc1ddc9423f00329bbc04aaa281c3da40d1bd31a53e9956945fe28\n",
            "  Stored in directory: /root/.cache/pip/wheels/c5/96/8a/f90c59ed25d75e50a8c10a1b1c2d4c402e4dacfa87f3aff36a\n",
            "  Building wheel for langid (setup.py) ... \u001b[?25l\u001b[?25hdone\n",
            "  Created wheel for langid: filename=langid-1.1.6-py3-none-any.whl size=1941187 sha256=0d8d7ab2f9f981a764bd73f068fa9bbf204dff7dd1b700af6a641e13479265be\n",
            "  Stored in directory: /root/.cache/pip/wheels/2b/bb/7f/11e4db39477278161e882eadc46fb558949a28b13470fc74b8\n",
            "  Building wheel for mgzip (setup.py) ... \u001b[?25l\u001b[?25hdone\n",
            "  Created wheel for mgzip: filename=mgzip-0.2.1-py3-none-any.whl size=10348 sha256=fdcf52a37f771c1545930348c4c73cc9d4a58bdcc9594af98532d6cbd11a1e7f\n",
            "  Stored in directory: /root/.cache/pip/wheels/d9/57/56/34e22ae1ab1ed3c8108a88dc00f43f59e9763e0c6df0da137f\n",
            "  Building wheel for msgpack-python (setup.py) ... \u001b[?25l\u001b[?25hdone\n",
            "  Created wheel for msgpack-python: filename=msgpack_python-0.5.6-cp37-cp37m-linux_x86_64.whl size=305436 sha256=881c90309fcf90004c76af0be164f2051cf333a7ea9e3972513eb291d961b697\n",
            "  Stored in directory: /root/.cache/pip/wheels/f8/6c/02/92ebc97f3b99ad5bfc675be2c513f9cb3504fdbe338314f377\n",
            "  Building wheel for pygtrie (setup.py) ... \u001b[?25l\u001b[?25hdone\n",
            "  Created wheel for pygtrie: filename=pygtrie-2.4.2-py3-none-any.whl size=19062 sha256=2ebad5fd99eab32507cf7cec255c99dbb607948eccfa5343516a4459fc674414\n",
            "  Stored in directory: /root/.cache/pip/wheels/d3/f8/ba/1d828b1603ea422686eb694253a43cb3a5901ea4696c1e0603\n",
            "  Building wheel for typing (setup.py) ... \u001b[?25l\u001b[?25hdone\n",
            "  Created wheel for typing: filename=typing-3.7.4.3-py3-none-any.whl size=26324 sha256=22d16d9265fbc8e3287914bec282abe51127a0e971b70fb247961777b7b6061e\n",
            "  Stored in directory: /root/.cache/pip/wheels/35/f3/15/01aa6571f0a72ee6ae7b827c1491c37a1f72d686fd22b43b0e\n",
            "  Building wheel for iso-639 (setup.py) ... \u001b[?25l\u001b[?25hdone\n",
            "  Created wheel for iso-639: filename=iso_639-0.4.5-py3-none-any.whl size=169061 sha256=d147c03430e3e2552d2e7d95118747e0c80c29bc97b26a5dfad5a52adff42d7c\n",
            "  Stored in directory: /root/.cache/pip/wheels/47/60/19/6d020fc92138ed1b113a18271e83ea4b5525fe770cb45b9a2e\n",
            "  Building wheel for odictliteral (setup.py) ... \u001b[?25l\u001b[?25hdone\n",
            "  Created wheel for odictliteral: filename=odictliteral-1.0.0-py3-none-any.whl size=3122 sha256=8714b00b05cc38b23a4698db5f7405bc06c59423c4db4e775cee054d03cc2b23\n",
            "  Stored in directory: /root/.cache/pip/wheels/3f/25/10/2ce4f3d7e604b790796f487e5e77a90b544eb2302d0ace109b\n",
            "  Building wheel for pycountry (setup.py) ... \u001b[?25l\u001b[?25hdone\n",
            "  Created wheel for pycountry: filename=pycountry-20.7.3-py2.py3-none-any.whl size=10746883 sha256=39f89478355baf4f878fb3e9d26ef4e9ae3f726c797b3779087679638500dce7\n",
            "  Stored in directory: /root/.cache/pip/wheels/57/e8/3f/120ccc1ff7541c108bc5d656e2a14c39da0d824653b62284c6\n",
            "  Building wheel for sentence-transformers (setup.py) ... \u001b[?25l\u001b[?25hdone\n",
            "  Created wheel for sentence-transformers: filename=sentence_transformers-2.1.0-py3-none-any.whl size=121000 sha256=63ced94aa251e7b5ec16c002e5b1703bc2f72e5ebb41e5c5a6dd639cbadc772b\n",
            "  Stored in directory: /root/.cache/pip/wheels/90/f0/bb/ed1add84da70092ea526466eadc2bfb197c4bcb8d4fa5f7bad\n",
            "Successfully built cytoolz ftfy langdetect langid mgzip msgpack-python pygtrie typing iso-639 odictliteral pycountry sentence-transformers\n",
            "Installing collected packages: isodate, rdflib, pyyaml, lml, typing, tokenizers, texttable, sacremoses, pyexcel-io, ply, pandas, owlrl, openpyxl, huggingface-hub, distro, ujson, typed-ast, transformers, tabula-py, SPARQLWrapper, sentencepiece, rdflib-jsonld, pyshacl, pyrallel.lib, pygtrie, pyexcel-xlsx, pyexcel-xls, pyexcel, mypy-extensions, msgpack-python, msgpack-numpy, langid, langdetect, jsonpath-ng, ftfy, deprecated, dateparser, cytoolz, cssselect, torchbiggraph, simplejson, shortuuid, sh, sentence-transformers, rltk, rfc3986, redis, pycountry, parsley, odictliteral, mypy, mgzip, lz4, loguru, iso-639, etk, kgtk\n",
            "  Attempting uninstall: pyyaml\n",
            "    Found existing installation: PyYAML 3.13\n",
            "    Uninstalling PyYAML-3.13:\n",
            "      Successfully uninstalled PyYAML-3.13\n",
            "  Attempting uninstall: pandas\n",
            "    Found existing installation: pandas 1.1.5\n",
            "    Uninstalling pandas-1.1.5:\n",
            "      Successfully uninstalled pandas-1.1.5\n",
            "  Attempting uninstall: openpyxl\n",
            "    Found existing installation: openpyxl 2.5.9\n",
            "    Uninstalling openpyxl-2.5.9:\n",
            "      Successfully uninstalled openpyxl-2.5.9\n",
            "\u001b[31mERROR: pip's dependency resolver does not currently take into account all the packages that are installed. This behaviour is the source of the following dependency conflicts.\n",
            "google-colab 1.0.0 requires pandas~=1.1.0; python_version >= \"3.0\", but you have pandas 1.3.4 which is incompatible.\u001b[0m\n",
            "Successfully installed SPARQLWrapper-1.8.5 cssselect-1.1.0 cytoolz-0.11.2 dateparser-1.1.0 deprecated-1.2.13 distro-1.6.0 etk-2.2.8 ftfy-6.0.3 huggingface-hub-0.1.2 iso-639-0.4.5 isodate-0.6.0 jsonpath-ng-1.5.3 kgtk-1.0.1 langdetect-1.0.9 langid-1.1.6 lml-0.1.0 loguru-0.5.3 lz4-3.1.3 mgzip-0.2.1 msgpack-numpy-0.4.3.2 msgpack-python-0.5.6 mypy-0.910 mypy-extensions-0.4.3 odictliteral-1.0.0 openpyxl-3.0.9 owlrl-5.2.3 pandas-1.3.4 parsley-1.3 ply-3.11 pycountry-20.7.3 pyexcel-0.6.7 pyexcel-io-0.6.5 pyexcel-xls-0.7.0 pyexcel-xlsx-0.6.0 pygtrie-2.4.2 pyrallel.lib-0.0.9 pyshacl-0.17.2 pyyaml-6.0 rdflib-6.0.2 rdflib-jsonld-0.6.2 redis-4.0.1 rfc3986-1.5.0 rltk-2.0.0a20 sacremoses-0.0.46 sentence-transformers-2.1.0 sentencepiece-0.1.96 sh-1.14.2 shortuuid-1.0.8 simplejson-3.17.6 tabula-py-2.3.0 texttable-1.6.4 tokenizers-0.10.3 torchbiggraph-1.0.0 transformers-4.12.5 typed-ast-1.4.3 typing-3.7.4.3 ujson-4.2.0\n"
          ]
        },
        {
          "output_type": "display_data",
          "data": {
            "application/vnd.colab-display-data+json": {
              "pip_warning": {
                "packages": [
                  "pandas",
                  "typing"
                ]
              }
            }
          },
          "metadata": {}
        }
      ]
    },
    {
      "cell_type": "markdown",
      "metadata": {
        "id": "51d077a7"
      },
      "source": [
        "# Query knowledge graphs with KGTK Kypher"
      ],
      "id": "51d077a7"
    },
    {
      "cell_type": "markdown",
      "metadata": {
        "id": "a0bef068"
      },
      "source": [
        "This tutorial gives an overview of the core features of the KGTK Kypher query language.  \n",
        "\n",
        "For additional details refer to the reading list at the end. "
      ],
      "id": "a0bef068"
    },
    {
      "cell_type": "markdown",
      "metadata": {
        "id": "28ca9cbc"
      },
      "source": [
        "### Notebook data setup"
      ],
      "id": "28ca9cbc"
    },
    {
      "cell_type": "code",
      "metadata": {
        "id": "2d11ddcf"
      },
      "source": [
        "import os\n",
        "import os.path\n",
        "\n",
        "from kgtk.configure_kgtk_notebooks import ConfigureKGTK"
      ],
      "id": "2d11ddcf",
      "execution_count": 2,
      "outputs": []
    },
    {
      "cell_type": "code",
      "metadata": {
        "tags": [
          "parameters"
        ],
        "id": "cfe8ba35"
      },
      "source": [
        "# Parameters\n",
        "\n",
        "# Folders on local machine where to create the output and temporary files:\n",
        "input_path = None\n",
        "output_path = \"/tmp/projects\"\n",
        "project_name = \"tutorial-kypher\""
      ],
      "id": "cfe8ba35",
      "execution_count": 3,
      "outputs": []
    },
    {
      "cell_type": "code",
      "metadata": {
        "id": "0e28525d",
        "colab": {
          "base_uri": "https://localhost:8080/"
        },
        "outputId": "78f017ca-b013-40d3-f006-2efeedd16b63"
      },
      "source": [
        "# These are all the KG files that we use in this notebook:\n",
        "small_files = [\n",
        "    \"small-graph.tsv\",\n",
        "    \"small-films.tsv\",\n",
        "    \"small-props.tsv\",\n",
        "    \"small-quals.tsv\",\n",
        "]\n",
        "\n",
        "big_files = [\n",
        "    \"all\",\n",
        "    \"label\",\n",
        "    \"pagerank_undirected\",\n",
        "]\n",
        "\n",
        "ck = ConfigureKGTK(big_files)\n",
        "ck.configure_kgtk(input_graph_path=input_path, output_path=output_path, project_name=project_name)\n",
        "\n",
        "# small files are special and need some extra steps:\n",
        "ck_small = ConfigureKGTK(small_files, input_files_url=\"https://github.com/usc-isi-i2/kgtk-tutorial-files/raw/main/datasets/arnold-small\")\n",
        "ck_small.configure_kgtk(input_graph_path='ignore', output_path=output_path, project_name=project_name)\n",
        "ck_small.graph_files.update({f:f for f in small_files})\n",
        "ck_small.configure_kgtk(input_graph_path=input_path, output_path=output_path, project_name=project_name)"
      ],
      "id": "0e28525d",
      "execution_count": 4,
      "outputs": [
        {
          "output_type": "stream",
          "name": "stdout",
          "text": [
            "User home: /root\n",
            "Current dir: /content\n",
            "KGTK dir: /\n",
            "Use-cases dir: //use-cases\n",
            "--2021-11-20 19:48:39--  https://github.com/usc-isi-i2/kgtk-tutorial-files/raw/main/datasets/arnold/all.tsv.gz\n",
            "Resolving github.com (github.com)... 52.69.186.44\n",
            "Connecting to github.com (github.com)|52.69.186.44|:443... connected.\n",
            "HTTP request sent, awaiting response... 301 Moved Permanently\n",
            "Location: https://github.com/usc-isi-i2/kgtk-notebooks/raw/main/datasets/arnold/all.tsv.gz [following]\n",
            "--2021-11-20 19:48:40--  https://github.com/usc-isi-i2/kgtk-notebooks/raw/main/datasets/arnold/all.tsv.gz\n",
            "Reusing existing connection to github.com:443.\n",
            "HTTP request sent, awaiting response... 302 Found\n",
            "Location: https://raw.githubusercontent.com/usc-isi-i2/kgtk-notebooks/main/datasets/arnold/all.tsv.gz [following]\n",
            "--2021-11-20 19:48:40--  https://raw.githubusercontent.com/usc-isi-i2/kgtk-notebooks/main/datasets/arnold/all.tsv.gz\n",
            "Resolving raw.githubusercontent.com (raw.githubusercontent.com)... 185.199.111.133, 185.199.110.133, 185.199.109.133, ...\n",
            "Connecting to raw.githubusercontent.com (raw.githubusercontent.com)|185.199.111.133|:443... connected.\n",
            "HTTP request sent, awaiting response... 200 OK\n",
            "Length: 45510513 (43M) [application/octet-stream]\n",
            "Saving to: ‘/root/isi-kgtk-tutorial/input/all.tsv.gz’\n",
            "\n",
            "     0K .......... .......... .......... .......... ..........  0% 3.80M 11s\n",
            "    50K .......... .......... .......... .......... ..........  0% 4.27M 11s\n",
            "   100K .......... .......... .......... .......... ..........  0% 20.3M 8s\n",
            "   150K .......... .......... .......... .......... ..........  0% 13.9M 7s\n",
            "   200K .......... .......... .......... .......... ..........  0% 6.70M 7s\n",
            "   250K .......... .......... .......... .......... ..........  0% 41.3M 6s\n",
            "   300K .......... .......... .......... .......... ..........  0% 25.7M 5s\n",
            "   350K .......... .......... .......... .......... ..........  0% 41.7M 5s\n",
            "   400K .......... .......... .......... .......... ..........  1% 43.7M 4s\n",
            "   450K .......... .......... .......... .......... ..........  1% 43.3M 4s\n",
            "   500K .......... .......... .......... .......... ..........  1% 8.13M 4s\n",
            "   550K .......... .......... .......... .......... ..........  1% 49.8M 4s\n",
            "   600K .......... .......... .......... .......... ..........  1% 77.5M 3s\n",
            "   650K .......... .......... .......... .......... ..........  1% 56.1M 3s\n",
            "   700K .......... .......... .......... .......... ..........  1% 57.3M 3s\n",
            "   750K .......... .......... .......... .......... ..........  1% 54.2M 3s\n",
            "   800K .......... .......... .......... .......... ..........  1%  149M 3s\n",
            "   850K .......... .......... .......... .......... ..........  2% 62.9M 3s\n",
            "   900K .......... .......... .......... .......... ..........  2% 82.4M 3s\n",
            "   950K .......... .......... .......... .......... ..........  2% 74.1M 2s\n",
            "  1000K .......... .......... .......... .......... ..........  2% 10.5M 3s\n",
            "  1050K .......... .......... .......... .......... ..........  2%  101M 2s\n",
            "  1100K .......... .......... .......... .......... ..........  2% 53.2M 2s\n",
            "  1150K .......... .......... .......... .......... ..........  2% 67.7M 2s\n",
            "  1200K .......... .......... .......... .......... ..........  2% 56.6M 2s\n",
            "  1250K .......... .......... .......... .......... ..........  2% 81.2M 2s\n",
            "  1300K .......... .......... .......... .......... ..........  3% 76.5M 2s\n",
            "  1350K .......... .......... .......... .......... ..........  3% 49.5M 2s\n",
            "  1400K .......... .......... .......... .......... ..........  3% 51.3M 2s\n",
            "  1450K .......... .......... .......... .......... ..........  3% 78.8M 2s\n",
            "  1500K .......... .......... .......... .......... ..........  3% 97.0M 2s\n",
            "  1550K .......... .......... .......... .......... ..........  3% 87.4M 2s\n",
            "  1600K .......... .......... .......... .......... ..........  3% 79.5M 2s\n",
            "  1650K .......... .......... .......... .......... ..........  3%  147M 2s\n",
            "  1700K .......... .......... .......... .......... ..........  3%  134M 2s\n",
            "  1750K .......... .......... .......... .......... ..........  4%  125M 2s\n",
            "  1800K .......... .......... .......... .......... ..........  4%  142M 2s\n",
            "  1850K .......... .......... .......... .......... ..........  4%  147M 2s\n",
            "  1900K .......... .......... .......... .......... ..........  4%  138M 2s\n",
            "  1950K .......... .......... .......... .......... ..........  4%  112M 2s\n",
            "  2000K .......... .......... .......... .......... ..........  4%  145M 2s\n",
            "  2050K .......... .......... .......... .......... ..........  4%  147M 1s\n",
            "  2100K .......... .......... .......... .......... ..........  4% 40.4M 1s\n",
            "  2150K .......... .......... .......... .......... ..........  4%  113M 1s\n",
            "  2200K .......... .......... .......... .......... ..........  5% 39.6M 1s\n",
            "  2250K .......... .......... .......... .......... ..........  5% 66.9M 1s\n",
            "  2300K .......... .......... .......... .......... ..........  5% 54.7M 1s\n",
            "  2350K .......... .......... .......... .......... ..........  5% 51.6M 1s\n",
            "  2400K .......... .......... .......... .......... ..........  5% 65.0M 1s\n",
            "  2450K .......... .......... .......... .......... ..........  5% 54.5M 1s\n",
            "  2500K .......... .......... .......... .......... ..........  5% 52.2M 1s\n",
            "  2550K .......... .......... .......... .......... ..........  5% 31.8M 1s\n",
            "  2600K .......... .......... .......... .......... ..........  5%  142M 1s\n",
            "  2650K .......... .......... .......... .......... ..........  6%  121M 1s\n",
            "  2700K .......... .......... .......... .......... ..........  6%  146M 1s\n",
            "  2750K .......... .......... .......... .......... ..........  6%  103M 1s\n",
            "  2800K .......... .......... .......... .......... ..........  6%  134M 1s\n",
            "  2850K .......... .......... .......... .......... ..........  6%  146M 1s\n",
            "  2900K .......... .......... .......... .......... ..........  6%  145M 1s\n",
            "  2950K .......... .......... .......... .......... ..........  6%  119M 1s\n",
            "  3000K .......... .......... .......... .......... ..........  6%  116M 1s\n",
            "  3050K .......... .......... .......... .......... ..........  6% 59.1M 1s\n",
            "  3100K .......... .......... .......... .......... ..........  7%  138M 1s\n",
            "  3150K .......... .......... .......... .......... ..........  7% 29.0M 1s\n",
            "  3200K .......... .......... .......... .......... ..........  7% 49.5M 1s\n",
            "  3250K .......... .......... .......... .......... ..........  7%  118M 1s\n",
            "  3300K .......... .......... .......... .......... ..........  7%  115M 1s\n",
            "  3350K .......... .......... .......... .......... ..........  7% 88.8M 1s\n",
            "  3400K .......... .......... .......... .......... ..........  7%  102M 1s\n",
            "  3450K .......... .......... .......... .......... ..........  7%  127M 1s\n",
            "  3500K .......... .......... .......... .......... ..........  7%  101M 1s\n",
            "  3550K .......... .......... .......... .......... ..........  8% 94.0M 1s\n",
            "  3600K .......... .......... .......... .......... ..........  8%  131M 1s\n",
            "  3650K .......... .......... .......... .......... ..........  8% 97.5M 1s\n",
            "  3700K .......... .......... .......... .......... ..........  8% 93.5M 1s\n",
            "  3750K .......... .......... .......... .......... ..........  8%  124M 1s\n",
            "  3800K .......... .......... .......... .......... ..........  8%  139M 1s\n",
            "  3850K .......... .......... .......... .......... ..........  8%  102M 1s\n",
            "  3900K .......... .......... .......... .......... ..........  8% 81.2M 1s\n",
            "  3950K .......... .......... .......... .......... ..........  9%  122M 1s\n",
            "  4000K .......... .......... .......... .......... ..........  9%  139M 1s\n",
            "  4050K .......... .......... .......... .......... ..........  9%  128M 1s\n",
            "  4100K .......... .......... .......... .......... ..........  9%  144M 1s\n",
            "  4150K .......... .......... .......... .......... ..........  9% 54.4M 1s\n",
            "  4200K .......... .......... .......... .......... ..........  9% 96.8M 1s\n",
            "  4250K .......... .......... .......... .......... ..........  9% 99.0M 1s\n",
            "  4300K .......... .......... .......... .......... ..........  9%  143M 1s\n",
            "  4350K .......... .......... .......... .......... ..........  9% 91.4M 1s\n",
            "  4400K .......... .......... .......... .......... .......... 10%  149M 1s\n",
            "  4450K .......... .......... .......... .......... .......... 10%  103M 1s\n",
            "  4500K .......... .......... .......... .......... .......... 10%  118M 1s\n",
            "  4550K .......... .......... .......... .......... .......... 10% 88.5M 1s\n",
            "  4600K .......... .......... .......... .......... .......... 10% 95.9M 1s\n",
            "  4650K .......... .......... .......... .......... .......... 10% 81.0M 1s\n",
            "  4700K .......... .......... .......... .......... .......... 10%  145M 1s\n",
            "  4750K .......... .......... .......... .......... .......... 10%  130M 1s\n",
            "  4800K .......... .......... .......... .......... .......... 10% 95.5M 1s\n",
            "  4850K .......... .......... .......... .......... .......... 11%  144M 1s\n",
            "  4900K .......... .......... .......... .......... .......... 11% 78.4M 1s\n",
            "  4950K .......... .......... .......... .......... .......... 11% 89.9M 1s\n",
            "  5000K .......... .......... .......... .......... .......... 11%  100M 1s\n",
            "  5050K .......... .......... .......... .......... .......... 11%  146M 1s\n",
            "  5100K .......... .......... .......... .......... .......... 11%  138M 1s\n",
            "  5150K .......... .......... .......... .......... .......... 11% 87.6M 1s\n",
            "  5200K .......... .......... .......... .......... .......... 11% 82.2M 1s\n",
            "  5250K .......... .......... .......... .......... .......... 11%  145M 1s\n",
            "  5300K .......... .......... .......... .......... .......... 12%  135M 1s\n",
            "  5350K .......... .......... .......... .......... .......... 12%  118M 1s\n",
            "  5400K .......... .......... .......... .......... .......... 12%  147M 1s\n",
            "  5450K .......... .......... .......... .......... .......... 12%  135M 1s\n",
            "  5500K .......... .......... .......... .......... .......... 12%  147M 1s\n",
            "  5550K .......... .......... .......... .......... .......... 12% 45.6M 1s\n",
            "  5600K .......... .......... .......... .......... .......... 12%  108M 1s\n",
            "  5650K .......... .......... .......... .......... .......... 12% 98.8M 1s\n",
            "  5700K .......... .......... .......... .......... .......... 12%  144M 1s\n",
            "  5750K .......... .......... .......... .......... .......... 13% 67.9M 1s\n",
            "  5800K .......... .......... .......... .......... .......... 13%  144M 1s\n",
            "  5850K .......... .......... .......... .......... .......... 13% 96.0M 1s\n",
            "  5900K .......... .......... .......... .......... .......... 13%  106M 1s\n",
            "  5950K .......... .......... .......... .......... .......... 13% 90.8M 1s\n",
            "  6000K .......... .......... .......... .......... .......... 13%  149M 1s\n",
            "  6050K .......... .......... .......... .......... .......... 13%  145M 1s\n",
            "  6100K .......... .......... .......... .......... .......... 13% 59.9M 1s\n",
            "  6150K .......... .......... .......... .......... .......... 13% 85.3M 1s\n",
            "  6200K .......... .......... .......... .......... .......... 14%  145M 1s\n",
            "  6250K .......... .......... .......... .......... .......... 14% 51.1M 1s\n",
            "  6300K .......... .......... .......... .......... .......... 14% 99.4M 1s\n",
            "  6350K .......... .......... .......... .......... .......... 14% 99.8M 1s\n",
            "  6400K .......... .......... .......... .......... .......... 14% 67.3M 1s\n",
            "  6450K .......... .......... .......... .......... .......... 14% 47.3M 1s\n",
            "  6500K .......... .......... .......... .......... .......... 14%  140M 1s\n",
            "  6550K .......... .......... .......... .......... .......... 14%  120M 1s\n",
            "  6600K .......... .......... .......... .......... .......... 14%  165M 1s\n",
            "  6650K .......... .......... .......... .......... .......... 15%  142M 1s\n",
            "  6700K .......... .......... .......... .......... .......... 15% 40.0M 1s\n",
            "  6750K .......... .......... .......... .......... .......... 15% 78.2M 1s\n",
            "  6800K .......... .......... .......... .......... .......... 15% 59.3M 1s\n",
            "  6850K .......... .......... .......... .......... .......... 15%  153M 1s\n",
            "  6900K .......... .......... .......... .......... .......... 15%  169M 1s\n",
            "  6950K .......... .......... .......... .......... .......... 15% 68.2M 1s\n",
            "  7000K .......... .......... .......... .......... .......... 15%  164M 1s\n",
            "  7050K .......... .......... .......... .......... .......... 15%  117M 1s\n",
            "  7100K .......... .......... .......... .......... .......... 16%  194M 1s\n",
            "  7150K .......... .......... .......... .......... .......... 16%  168M 1s\n",
            "  7200K .......... .......... .......... .......... .......... 16% 80.2M 1s\n",
            "  7250K .......... .......... .......... .......... .......... 16%  126M 1s\n",
            "  7300K .......... .......... .......... .......... .......... 16%  103M 1s\n",
            "  7350K .......... .......... .......... .......... .......... 16%  127M 1s\n",
            "  7400K .......... .......... .......... .......... .......... 16% 75.5M 1s\n",
            "  7450K .......... .......... .......... .......... .......... 16%  147M 1s\n",
            "  7500K .......... .......... .......... .......... .......... 16%  134M 1s\n",
            "  7550K .......... .......... .......... .......... .......... 17%  131M 1s\n",
            "  7600K .......... .......... .......... .......... .......... 17% 62.3M 1s\n",
            "  7650K .......... .......... .......... .......... .......... 17%  144M 1s\n",
            "  7700K .......... .......... .......... .......... .......... 17%  132M 1s\n",
            "  7750K .......... .......... .......... .......... .......... 17% 85.8M 1s\n",
            "  7800K .......... .......... .......... .......... .......... 17%  130M 1s\n",
            "  7850K .......... .......... .......... .......... .......... 17%  142M 1s\n",
            "  7900K .......... .......... .......... .......... .......... 17%  146M 1s\n",
            "  7950K .......... .......... .......... .......... .......... 18%  124M 1s\n",
            "  8000K .......... .......... .......... .......... .......... 18%  146M 1s\n",
            "  8050K .......... .......... .......... .......... .......... 18% 55.5M 1s\n",
            "  8100K .......... .......... .......... .......... .......... 18%  103M 1s\n",
            "  8150K .......... .......... .......... .......... .......... 18% 81.5M 1s\n",
            "  8200K .......... .......... .......... .......... .......... 18%  148M 1s\n",
            "  8250K .......... .......... .......... .......... .......... 18% 98.7M 1s\n",
            "  8300K .......... .......... .......... .......... .......... 18%  132M 1s\n",
            "  8350K .......... .......... .......... .......... .......... 18% 75.6M 1s\n",
            "  8400K .......... .......... .......... .......... .......... 19%  148M 1s\n",
            "  8450K .......... .......... .......... .......... .......... 19% 80.7M 1s\n",
            "  8500K .......... .......... .......... .......... .......... 19%  146M 1s\n",
            "  8550K .......... .......... .......... .......... .......... 19% 71.5M 1s\n",
            "  8600K .......... .......... .......... .......... .......... 19%  102M 1s\n",
            "  8650K .......... .......... .......... .......... .......... 19%  129M 1s\n",
            "  8700K .......... .......... .......... .......... .......... 19%  100M 1s\n",
            "  8750K .......... .......... .......... .......... .......... 19% 85.6M 1s\n",
            "  8800K .......... .......... .......... .......... .......... 19%  143M 1s\n",
            "  8850K .......... .......... .......... .......... .......... 20%  133M 1s\n",
            "  8900K .......... .......... .......... .......... .......... 20%  102M 1s\n",
            "  8950K .......... .......... .......... .......... .......... 20% 62.6M 1s\n",
            "  9000K .......... .......... .......... .......... .......... 20%  144M 1s\n",
            "  9050K .......... .......... .......... .......... .......... 20% 78.4M 1s\n",
            "  9100K .......... .......... .......... .......... .......... 20%  143M 1s\n",
            "  9150K .......... .......... .......... .......... .......... 20%  132M 1s\n",
            "  9200K .......... .......... .......... .......... .......... 20%  132M 1s\n",
            "  9250K .......... .......... .......... .......... .......... 20%  141M 1s\n",
            "  9300K .......... .......... .......... .......... .......... 21%  147M 1s\n",
            "  9350K .......... .......... .......... .......... .......... 21% 53.0M 1s\n",
            "  9400K .......... .......... .......... .......... .......... 21% 97.4M 1s\n",
            "  9450K .......... .......... .......... .......... .......... 21%  145M 1s\n",
            "  9500K .......... .......... .......... .......... .......... 21%  145M 1s\n",
            "  9550K .......... .......... .......... .......... .......... 21% 71.8M 1s\n",
            "  9600K .......... .......... .......... .......... .......... 21%  102M 1s\n",
            "  9650K .......... .......... .......... .......... .......... 21%  104M 1s\n",
            "  9700K .......... .......... .......... .......... .......... 21%  149M 1s\n",
            "  9750K .......... .......... .......... .......... .......... 22% 88.3M 1s\n",
            "  9800K .......... .......... .......... .......... .......... 22%  145M 1s\n",
            "  9850K .......... .......... .......... .......... .......... 22% 76.6M 1s\n",
            "  9900K .......... .......... .......... .......... .......... 22%  104M 1s\n",
            "  9950K .......... .......... .......... .......... .......... 22%  123M 1s\n",
            " 10000K .......... .......... .......... .......... .......... 22%  146M 1s\n",
            " 10050K .......... .......... .......... .......... .......... 22% 77.6M 1s\n",
            " 10100K .......... .......... .......... .......... .......... 22%  101M 1s\n",
            " 10150K .......... .......... .......... .......... .......... 22% 80.0M 1s\n",
            " 10200K .......... .......... .......... .......... .......... 23% 95.6M 1s\n",
            " 10250K .......... .......... .......... .......... .......... 23%  132M 1s\n",
            " 10300K .......... .......... .......... .......... .......... 23%  147M 1s\n",
            " 10350K .......... .......... .......... .......... .......... 23%  118M 1s\n",
            " 10400K .......... .......... .......... .......... .......... 23% 80.3M 1s\n",
            " 10450K .......... .......... .......... .......... .......... 23%  145M 1s\n",
            " 10500K .......... .......... .......... .......... .......... 23%  133M 1s\n",
            " 10550K .......... .......... .......... .......... .......... 23%  120M 1s\n",
            " 10600K .......... .......... .......... .......... .......... 23%  139M 1s\n",
            " 10650K .......... .......... .......... .......... .......... 24% 48.9M 1s\n",
            " 10700K .......... .......... .......... .......... .......... 24%  141M 1s\n",
            " 10750K .......... .......... .......... .......... .......... 24% 93.7M 1s\n",
            " 10800K .......... .......... .......... .......... .......... 24%  130M 1s\n",
            " 10850K .......... .......... .......... .......... .......... 24% 78.8M 1s\n",
            " 10900K .......... .......... .......... .......... .......... 24% 95.3M 1s\n",
            " 10950K .......... .......... .......... .......... .......... 24%  122M 0s\n",
            " 11000K .......... .......... .......... .......... .......... 24%  125M 0s\n",
            " 11050K .......... .......... .......... .......... .......... 24% 91.5M 0s\n",
            " 11100K .......... .......... .......... .......... .......... 25% 84.5M 0s\n",
            " 11150K .......... .......... .......... .......... .......... 25% 69.5M 0s\n",
            " 11200K .......... .......... .......... .......... .......... 25%  135M 0s\n",
            " 11250K .......... .......... .......... .......... .......... 25%  147M 0s\n",
            " 11300K .......... .......... .......... .......... .......... 25% 65.4M 0s\n",
            " 11350K .......... .......... .......... .......... .......... 25%  123M 0s\n",
            " 11400K .......... .......... .......... .......... .......... 25% 95.2M 0s\n",
            " 11450K .......... .......... .......... .......... .......... 25%  104M 0s\n",
            " 11500K .......... .......... .......... .......... .......... 25%  133M 0s\n",
            " 11550K .......... .......... .......... .......... .......... 26%  127M 0s\n",
            " 11600K .......... .......... .......... .......... .......... 26%  145M 0s\n",
            " 11650K .......... .......... .......... .......... .......... 26% 65.6M 0s\n",
            " 11700K .......... .......... .......... .......... .......... 26%  139M 0s\n",
            " 11750K .......... .......... .......... .......... .......... 26%  115M 0s\n",
            " 11800K .......... .......... .......... .......... .......... 26%  148M 0s\n",
            " 11850K .......... .......... .......... .......... .......... 26%  138M 0s\n",
            " 11900K .......... .......... .......... .......... .......... 26% 58.8M 0s\n",
            " 11950K .......... .......... .......... .......... .......... 27%  123M 0s\n",
            " 12000K .......... .......... .......... .......... .......... 27%  124M 0s\n",
            " 12050K .......... .......... .......... .......... .......... 27% 87.3M 0s\n",
            " 12100K .......... .......... .......... .......... .......... 27%  102M 0s\n",
            " 12150K .......... .......... .......... .......... .......... 27%  117M 0s\n",
            " 12200K .......... .......... .......... .......... .......... 27% 90.3M 0s\n",
            " 12250K .......... .......... .......... .......... .......... 27%  102M 0s\n",
            " 12300K .......... .......... .......... .......... .......... 27%  121M 0s\n",
            " 12350K .......... .......... .......... .......... .......... 27% 53.1M 0s\n",
            " 12400K .......... .......... .......... .......... .......... 28% 96.5M 0s\n",
            " 12450K .......... .......... .......... .......... .......... 28% 89.7M 0s\n",
            " 12500K .......... .......... .......... .......... .......... 28%  139M 0s\n",
            " 12550K .......... .......... .......... .......... .......... 28% 88.9M 0s\n",
            " 12600K .......... .......... .......... .......... .......... 28%  102M 0s\n",
            " 12650K .......... .......... .......... .......... .......... 28% 97.6M 0s\n",
            " 12700K .......... .......... .......... .......... .......... 28%  142M 0s\n",
            " 12750K .......... .......... .......... .......... .......... 28% 89.2M 0s\n",
            " 12800K .......... .......... .......... .......... .......... 28%  147M 0s\n",
            " 12850K .......... .......... .......... .......... .......... 29%  140M 0s\n",
            " 12900K .......... .......... .......... .......... .......... 29%  141M 0s\n",
            " 12950K .......... .......... .......... .......... .......... 29% 60.4M 0s\n",
            " 13000K .......... .......... .......... .......... .......... 29%  142M 0s\n",
            " 13050K .......... .......... .......... .......... .......... 29%  147M 0s\n",
            " 13100K .......... .......... .......... .......... .......... 29%  135M 0s\n",
            " 13150K .......... .......... .......... .......... .......... 29%  117M 0s\n",
            " 13200K .......... .......... .......... .......... .......... 29% 57.8M 0s\n",
            " 13250K .......... .......... .......... .......... .......... 29%  136M 0s\n",
            " 13300K .......... .......... .......... .......... .......... 30% 77.2M 0s\n",
            " 13350K .......... .......... .......... .......... .......... 30% 87.2M 0s\n",
            " 13400K .......... .......... .......... .......... .......... 30%  144M 0s\n",
            " 13450K .......... .......... .......... .......... .......... 30% 79.7M 0s\n",
            " 13500K .......... .......... .......... .......... .......... 30%  140M 0s\n",
            " 13550K .......... .......... .......... .......... .......... 30%  127M 0s\n",
            " 13600K .......... .......... .......... .......... .......... 30% 74.6M 0s\n",
            " 13650K .......... .......... .......... .......... .......... 30%  144M 0s\n",
            " 13700K .......... .......... .......... .......... .......... 30% 96.1M 0s\n",
            " 13750K .......... .......... .......... .......... .......... 31% 88.7M 0s\n",
            " 13800K .......... .......... .......... .......... .......... 31%  136M 0s\n",
            " 13850K .......... .......... .......... .......... .......... 31%  100M 0s\n",
            " 13900K .......... .......... .......... .......... .......... 31%  101M 0s\n",
            " 13950K .......... .......... .......... .......... .......... 31%  117M 0s\n",
            " 14000K .......... .......... .......... .......... .......... 31%  107M 0s\n",
            " 14050K .......... .......... .......... .......... .......... 31% 96.9M 0s\n",
            " 14100K .......... .......... .......... .......... .......... 31%  145M 0s\n",
            " 14150K .......... .......... .......... .......... .......... 31%  118M 0s\n",
            " 14200K .......... .......... .......... .......... .......... 32%  147M 0s\n",
            " 14250K .......... .......... .......... .......... .......... 32% 57.8M 0s\n",
            " 14300K .......... .......... .......... .......... .......... 32%  133M 0s\n",
            " 14350K .......... .......... .......... .......... .......... 32%  140M 0s\n",
            " 14400K .......... .......... .......... .......... .......... 32%  130M 0s\n",
            " 14450K .......... .......... .......... .......... .......... 32%  141M 0s\n",
            " 14500K .......... .......... .......... .......... .......... 32%  164M 0s\n",
            " 14550K .......... .......... .......... .......... .......... 32%  136M 0s\n",
            " 14600K .......... .......... .......... .......... .......... 32%  154M 0s\n",
            " 14650K .......... .......... .......... .......... .......... 33%  137M 0s\n",
            " 14700K .......... .......... .......... .......... .......... 33%  181M 0s\n",
            " 14750K .......... .......... .......... .......... .......... 33%  127M 0s\n",
            " 14800K .......... .......... .......... .......... .......... 33%  138M 0s\n",
            " 14850K .......... .......... .......... .......... .......... 33%  136M 0s\n",
            " 14900K .......... .......... .......... .......... .......... 33%  136M 0s\n",
            " 14950K .......... .......... .......... .......... .......... 33%  140M 0s\n",
            " 15000K .......... .......... .......... .......... .......... 33%  135M 0s\n",
            " 15050K .......... .......... .......... .......... .......... 33%  142M 0s\n",
            " 15100K .......... .......... .......... .......... .......... 34%  147M 0s\n",
            " 15150K .......... .......... .......... .......... .......... 34%  161M 0s\n",
            " 15200K .......... .......... .......... .......... .......... 34%  135M 0s\n",
            " 15250K .......... .......... .......... .......... .......... 34%  141M 0s\n",
            " 15300K .......... .......... .......... .......... .......... 34%  134M 0s\n",
            " 15350K .......... .......... .......... .......... .......... 34%  125M 0s\n",
            " 15400K .......... .......... .......... .......... .......... 34%  143M 0s\n",
            " 15450K .......... .......... .......... .......... .......... 34%  144M 0s\n",
            " 15500K .......... .......... .......... .......... .......... 34%  184M 0s\n",
            " 15550K .......... .......... .......... .......... .......... 35%  126M 0s\n",
            " 15600K .......... .......... .......... .......... .......... 35%  155M 0s\n",
            " 15650K .......... .......... .......... .......... .......... 35%  160M 0s\n",
            " 15700K .......... .......... .......... .......... .......... 35%  128M 0s\n",
            " 15750K .......... .......... .......... .......... .......... 35%  120M 0s\n",
            " 15800K .......... .......... .......... .......... .......... 35%  137M 0s\n",
            " 15850K .......... .......... .......... .......... .......... 35%  144M 0s\n",
            " 15900K .......... .......... .......... .......... .......... 35%  141M 0s\n",
            " 15950K .......... .......... .......... .......... .......... 36%  153M 0s\n",
            " 16000K .......... .......... .......... .......... .......... 36%  169M 0s\n",
            " 16050K .......... .......... .......... .......... .......... 36%  144M 0s\n",
            " 16100K .......... .......... .......... .......... .......... 36%  139M 0s\n",
            " 16150K .......... .......... .......... .......... .......... 36%  119M 0s\n",
            " 16200K .......... .......... .......... .......... .......... 36%  146M 0s\n",
            " 16250K .......... .......... .......... .......... .......... 36%  143M 0s\n",
            " 16300K .......... .......... .......... .......... .......... 36%  179M 0s\n",
            " 16350K .......... .......... .......... .......... .......... 36%  167M 0s\n",
            " 16400K .......... .......... .......... .......... .......... 37%  175M 0s\n",
            " 16450K .......... .......... .......... .......... .......... 37%  166M 0s\n",
            " 16500K .......... .......... .......... .......... .......... 37%  145M 0s\n",
            " 16550K .......... .......... .......... .......... .......... 37%  119M 0s\n",
            " 16600K .......... .......... .......... .......... .......... 37%  145M 0s\n",
            " 16650K .......... .......... .......... .......... .......... 37%  181M 0s\n",
            " 16700K .......... .......... .......... .......... .......... 37%  139M 0s\n",
            " 16750K .......... .......... .......... .......... .......... 37%  132M 0s\n",
            " 16800K .......... .......... .......... .......... .......... 37%  176M 0s\n",
            " 16850K .......... .......... .......... .......... .......... 38% 91.1M 0s\n",
            " 16900K .......... .......... .......... .......... .......... 38%  131M 0s\n",
            " 16950K .......... .......... .......... .......... .......... 38% 86.7M 0s\n",
            " 17000K .......... .......... .......... .......... .......... 38%  162M 0s\n",
            " 17050K .......... .......... .......... .......... .......... 38%  158M 0s\n",
            " 17100K .......... .......... .......... .......... .......... 38%  140M 0s\n",
            " 17150K .......... .......... .......... .......... .......... 38%  170M 0s\n",
            " 17200K .......... .......... .......... .......... .......... 38%  142M 0s\n",
            " 17250K .......... .......... .......... .......... .......... 38%  165M 0s\n",
            " 17300K .......... .......... .......... .......... .......... 39%  152M 0s\n",
            " 17350K .......... .......... .......... .......... .......... 39%  125M 0s\n",
            " 17400K .......... .......... .......... .......... .......... 39%  137M 0s\n",
            " 17450K .......... .......... .......... .......... .......... 39%  145M 0s\n",
            " 17500K .......... .......... .......... .......... .......... 39%  170M 0s\n",
            " 17550K .......... .......... .......... .......... .......... 39%  128M 0s\n",
            " 17600K .......... .......... .......... .......... .......... 39%  135M 0s\n",
            " 17650K .......... .......... .......... .......... .......... 39%  141M 0s\n",
            " 17700K .......... .......... .......... .......... .......... 39%  131M 0s\n",
            " 17750K .......... .......... .......... .......... .......... 40%  141M 0s\n",
            " 17800K .......... .......... .......... .......... .......... 40%  155M 0s\n",
            " 17850K .......... .......... .......... .......... .......... 40%  140M 0s\n",
            " 17900K .......... .......... .......... .......... .......... 40%  129M 0s\n",
            " 17950K .......... .......... .......... .......... .......... 40%  124M 0s\n",
            " 18000K .......... .......... .......... .......... .......... 40%  132M 0s\n",
            " 18050K .......... .......... .......... .......... .......... 40%  199M 0s\n",
            " 18100K .......... .......... .......... .......... .......... 40%  183M 0s\n",
            " 18150K .......... .......... .......... .......... .......... 40%  130M 0s\n",
            " 18200K .......... .......... .......... .......... .......... 41%  163M 0s\n",
            " 18250K .......... .......... .......... .......... .......... 41%  172M 0s\n",
            " 18300K .......... .......... .......... .......... .......... 41%  131M 0s\n",
            " 18350K .......... .......... .......... .......... .......... 41%  136M 0s\n",
            " 18400K .......... .......... .......... .......... .......... 41%  153M 0s\n",
            " 18450K .......... .......... .......... .......... .......... 41%  173M 0s\n",
            " 18500K .......... .......... .......... .......... .......... 41%  143M 0s\n",
            " 18550K .......... .......... .......... .......... .......... 41% 86.6M 0s\n",
            " 18600K .......... .......... .......... .......... .......... 41%  139M 0s\n",
            " 18650K .......... .......... .......... .......... .......... 42%  137M 0s\n",
            " 18700K .......... .......... .......... .......... .......... 42%  131M 0s\n",
            " 18750K .......... .......... .......... .......... .......... 42%  136M 0s\n",
            " 18800K .......... .......... .......... .......... .......... 42%  178M 0s\n",
            " 18850K .......... .......... .......... .......... .......... 42%  136M 0s\n",
            " 18900K .......... .......... .......... .......... .......... 42%  134M 0s\n",
            " 18950K .......... .......... .......... .......... .......... 42% 83.6M 0s\n",
            " 19000K .......... .......... .......... .......... .......... 42%  119M 0s\n",
            " 19050K .......... .......... .......... .......... .......... 42% 74.5M 0s\n",
            " 19100K .......... .......... .......... .......... .......... 43%  135M 0s\n",
            " 19150K .......... .......... .......... .......... .......... 43%  134M 0s\n",
            " 19200K .......... .......... .......... .......... .......... 43%  136M 0s\n",
            " 19250K .......... .......... .......... .......... .......... 43%  170M 0s\n",
            " 19300K .......... .......... .......... .......... .......... 43%  124M 0s\n",
            " 19350K .......... .......... .......... .......... .......... 43%  109M 0s\n",
            " 19400K .......... .......... .......... .......... .......... 43%  144M 0s\n",
            " 19450K .......... .......... .......... .......... .......... 43% 83.6M 0s\n",
            " 19500K .......... .......... .......... .......... .......... 43%  103M 0s\n",
            " 19550K .......... .......... .......... .......... .......... 44%  118M 0s\n",
            " 19600K .......... .......... .......... .......... .......... 44%  136M 0s\n",
            " 19650K .......... .......... .......... .......... .......... 44% 91.0M 0s\n",
            " 19700K .......... .......... .......... .......... .......... 44% 85.6M 0s\n",
            " 19750K .......... .......... .......... .......... .......... 44% 75.9M 0s\n",
            " 19800K .......... .......... .......... .......... .......... 44%  153M 0s\n",
            " 19850K .......... .......... .......... .......... .......... 44%  121M 0s\n",
            " 19900K .......... .......... .......... .......... .......... 44%  148M 0s\n",
            " 19950K .......... .......... .......... .......... .......... 45%  127M 0s\n",
            " 20000K .......... .......... .......... .......... .......... 45%  114M 0s\n",
            " 20050K .......... .......... .......... .......... .......... 45%  137M 0s\n",
            " 20100K .......... .......... .......... .......... .......... 45%  127M 0s\n",
            " 20150K .......... .......... .......... .......... .......... 45%  116M 0s\n",
            " 20200K .......... .......... .......... .......... .......... 45%  145M 0s\n",
            " 20250K .......... .......... .......... .......... .......... 45%  103M 0s\n",
            " 20300K .......... .......... .......... .......... .......... 45%  103M 0s\n",
            " 20350K .......... .......... .......... .......... .......... 45% 90.2M 0s\n",
            " 20400K .......... .......... .......... .......... .......... 46%  117M 0s\n",
            " 20450K .......... .......... .......... .......... .......... 46%  128M 0s\n",
            " 20500K .......... .......... .......... .......... .......... 46%  131M 0s\n",
            " 20550K .......... .......... .......... .......... .......... 46%  131M 0s\n",
            " 20600K .......... .......... .......... .......... .......... 46%  145M 0s\n",
            " 20650K .......... .......... .......... .......... .......... 46%  137M 0s\n",
            " 20700K .......... .......... .......... .......... .......... 46%  149M 0s\n",
            " 20750K .......... .......... .......... .......... .......... 46%  122M 0s\n",
            " 20800K .......... .......... .......... .......... .......... 46%  143M 0s\n",
            " 20850K .......... .......... .......... .......... .......... 47%  146M 0s\n",
            " 20900K .......... .......... .......... .......... .......... 47%  147M 0s\n",
            " 20950K .......... .......... .......... .......... .......... 47%  141M 0s\n",
            " 21000K .......... .......... .......... .......... .......... 47%  122M 0s\n",
            " 21050K .......... .......... .......... .......... .......... 47%  138M 0s\n",
            " 21100K .......... .......... .......... .......... .......... 47%  141M 0s\n",
            " 21150K .......... .......... .......... .......... .......... 47%  124M 0s\n",
            " 21200K .......... .......... .......... .......... .......... 47%  138M 0s\n",
            " 21250K .......... .......... .......... .......... .......... 47%  150M 0s\n",
            " 21300K .......... .......... .......... .......... .......... 48%  109M 0s\n",
            " 21350K .......... .......... .......... .......... .......... 48% 71.5M 0s\n",
            " 21400K .......... .......... .......... .......... .......... 48% 90.9M 0s\n",
            " 21450K .......... .......... .......... .......... .......... 48%  100M 0s\n",
            " 21500K .......... .......... .......... .......... .......... 48%  133M 0s\n",
            " 21550K .......... .......... .......... .......... .......... 48%  135M 0s\n",
            " 21600K .......... .......... .......... .......... .......... 48%  123M 0s\n",
            " 21650K .......... .......... .......... .......... .......... 48%  139M 0s\n",
            " 21700K .......... .......... .......... .......... .......... 48%  143M 0s\n",
            " 21750K .......... .......... .......... .......... .......... 49%  128M 0s\n",
            " 21800K .......... .......... .......... .......... .......... 49%  142M 0s\n",
            " 21850K .......... .......... .......... .......... .......... 49%  110M 0s\n",
            " 21900K .......... .......... .......... .......... .......... 49%  132M 0s\n",
            " 21950K .......... .......... .......... .......... .......... 49%  102M 0s\n",
            " 22000K .......... .......... .......... .......... .......... 49%  152M 0s\n",
            " 22050K .......... .......... .......... .......... .......... 49%  134M 0s\n",
            " 22100K .......... .......... .......... .......... .......... 49%  144M 0s\n",
            " 22150K .......... .......... .......... .......... .......... 49%  132M 0s\n",
            " 22200K .......... .......... .......... .......... .......... 50%  147M 0s\n",
            " 22250K .......... .......... .......... .......... .......... 50%  154M 0s\n",
            " 22300K .......... .......... .......... .......... .......... 50%  126M 0s\n",
            " 22350K .......... .......... .......... .......... .......... 50%  137M 0s\n",
            " 22400K .......... .......... .......... .......... .......... 50%  142M 0s\n",
            " 22450K .......... .......... .......... .......... .......... 50%  138M 0s\n",
            " 22500K .......... .......... .......... .......... .......... 50%  154M 0s\n",
            " 22550K .......... .......... .......... .......... .......... 50%  109M 0s\n",
            " 22600K .......... .......... .......... .......... .......... 50%  135M 0s\n",
            " 22650K .......... .......... .......... .......... .......... 51%  149M 0s\n",
            " 22700K .......... .......... .......... .......... .......... 51%  147M 0s\n",
            " 22750K .......... .......... .......... .......... .......... 51%  125M 0s\n",
            " 22800K .......... .......... .......... .......... .......... 51%  139M 0s\n",
            " 22850K .......... .......... .......... .......... .......... 51% 78.7M 0s\n",
            " 22900K .......... .......... .......... .......... .......... 51% 85.1M 0s\n",
            " 22950K .......... .......... .......... .......... .......... 51% 93.4M 0s\n",
            " 23000K .......... .......... .......... .......... .......... 51%  158M 0s\n",
            " 23050K .......... .......... .......... .......... .......... 51%  135M 0s\n",
            " 23100K .......... .......... .......... .......... .......... 52%  139M 0s\n",
            " 23150K .......... .......... .......... .......... .......... 52%  132M 0s\n",
            " 23200K .......... .......... .......... .......... .......... 52% 97.1M 0s\n",
            " 23250K .......... .......... .......... .......... .......... 52%  113M 0s\n",
            " 23300K .......... .......... .......... .......... .......... 52%  137M 0s\n",
            " 23350K .......... .......... .......... .......... .......... 52%  123M 0s\n",
            " 23400K .......... .......... .......... .......... .......... 52% 97.6M 0s\n",
            " 23450K .......... .......... .......... .......... .......... 52% 87.0M 0s\n",
            " 23500K .......... .......... .......... .......... .......... 52%  135M 0s\n",
            " 23550K .......... .......... .......... .......... .......... 53% 85.2M 0s\n",
            " 23600K .......... .......... .......... .......... .......... 53%  144M 0s\n",
            " 23650K .......... .......... .......... .......... .......... 53%  154M 0s\n",
            " 23700K .......... .......... .......... .......... .......... 53%  131M 0s\n",
            " 23750K .......... .......... .......... .......... .......... 53%  125M 0s\n",
            " 23800K .......... .......... .......... .......... .......... 53%  139M 0s\n",
            " 23850K .......... .......... .......... .......... .......... 53%  133M 0s\n",
            " 23900K .......... .......... .......... .......... .......... 53%  159M 0s\n",
            " 23950K .......... .......... .......... .......... .......... 54%  138M 0s\n",
            " 24000K .......... .......... .......... .......... .......... 54%  199M 0s\n",
            " 24050K .......... .......... .......... .......... .......... 54%  197M 0s\n",
            " 24100K .......... .......... .......... .......... .......... 54%  186M 0s\n",
            " 24150K .......... .......... .......... .......... .......... 54% 79.4M 0s\n",
            " 24200K .......... .......... .......... .......... .......... 54%  171M 0s\n",
            " 24250K .......... .......... .......... .......... .......... 54%  187M 0s\n",
            " 24300K .......... .......... .......... .......... .......... 54%  195M 0s\n",
            " 24350K .......... .......... .......... .......... .......... 54%  174M 0s\n",
            " 24400K .......... .......... .......... .......... .......... 55%  168M 0s\n",
            " 24450K .......... .......... .......... .......... .......... 55%  126M 0s\n",
            " 24500K .......... .......... .......... .......... .......... 55% 87.1M 0s\n",
            " 24550K .......... .......... .......... .......... .......... 55%  103M 0s\n",
            " 24600K .......... .......... .......... .......... .......... 55%  187M 0s\n",
            " 24650K .......... .......... .......... .......... .......... 55%  195M 0s\n",
            " 24700K .......... .......... .......... .......... .......... 55%  121M 0s\n",
            " 24750K .......... .......... .......... .......... .......... 55%  156M 0s\n",
            " 24800K .......... .......... .......... .......... .......... 55%  183M 0s\n",
            " 24850K .......... .......... .......... .......... .......... 56%  154M 0s\n",
            " 24900K .......... .......... .......... .......... .......... 56%  149M 0s\n",
            " 24950K .......... .......... .......... .......... .......... 56%  106M 0s\n",
            " 25000K .......... .......... .......... .......... .......... 56%  182M 0s\n",
            " 25050K .......... .......... .......... .......... .......... 56%  196M 0s\n",
            " 25100K .......... .......... .......... .......... .......... 56%  195M 0s\n",
            " 25150K .......... .......... .......... .......... .......... 56%  113M 0s\n",
            " 25200K .......... .......... .......... .......... .......... 56%  102M 0s\n",
            " 25250K .......... .......... .......... .......... .......... 56%  130M 0s\n",
            " 25300K .......... .......... .......... .......... .......... 57%  120M 0s\n",
            " 25350K .......... .......... .......... .......... .......... 57%  112M 0s\n",
            " 25400K .......... .......... .......... .......... .......... 57%  134M 0s\n",
            " 25450K .......... .......... .......... .......... .......... 57%  152M 0s\n",
            " 25500K .......... .......... .......... .......... .......... 57%  112M 0s\n",
            " 25550K .......... .......... .......... .......... .......... 57%  112M 0s\n",
            " 25600K .......... .......... .......... .......... .......... 57%  145M 0s\n",
            " 25650K .......... .......... .......... .......... .......... 57%  106M 0s\n",
            " 25700K .......... .......... .......... .......... .......... 57%  113M 0s\n",
            " 25750K .......... .......... .......... .......... .......... 58%  116M 0s\n",
            " 25800K .......... .......... .......... .......... .......... 58%  133M 0s\n",
            " 25850K .......... .......... .......... .......... .......... 58% 81.3M 0s\n",
            " 25900K .......... .......... .......... .......... .......... 58%  131M 0s\n",
            " 25950K .......... .......... .......... .......... .......... 58%  128M 0s\n",
            " 26000K .......... .......... .......... .......... .......... 58%  157M 0s\n",
            " 26050K .......... .......... .......... .......... .......... 58% 78.8M 0s\n",
            " 26100K .......... .......... .......... .......... .......... 58%  130M 0s\n",
            " 26150K .......... .......... .......... .......... .......... 58%  113M 0s\n",
            " 26200K .......... .......... .......... .......... .......... 59%  143M 0s\n",
            " 26250K .......... .......... .......... .......... .......... 59%  149M 0s\n",
            " 26300K .......... .......... .......... .......... .......... 59%  153M 0s\n",
            " 26350K .......... .......... .......... .......... .......... 59%  129M 0s\n",
            " 26400K .......... .......... .......... .......... .......... 59%  141M 0s\n",
            " 26450K .......... .......... .......... .......... .......... 59%  212M 0s\n",
            " 26500K .......... .......... .......... .......... .......... 59% 93.3M 0s\n",
            " 26550K .......... .......... .......... .......... .......... 59%  104M 0s\n",
            " 26600K .......... .......... .......... .......... .......... 59%  146M 0s\n",
            " 26650K .......... .......... .......... .......... .......... 60%  120M 0s\n",
            " 26700K .......... .......... .......... .......... .......... 60% 98.5M 0s\n",
            " 26750K .......... .......... .......... .......... .......... 60%  120M 0s\n",
            " 26800K .......... .......... .......... .......... .......... 60%  134M 0s\n",
            " 26850K .......... .......... .......... .......... .......... 60%  139M 0s\n",
            " 26900K .......... .......... .......... .......... .......... 60%  116M 0s\n",
            " 26950K .......... .......... .......... .......... .......... 60%  115M 0s\n",
            " 27000K .......... .......... .......... .......... .......... 60%  161M 0s\n",
            " 27050K .......... .......... .......... .......... .......... 60%  140M 0s\n",
            " 27100K .......... .......... .......... .......... .......... 61%  152M 0s\n",
            " 27150K .......... .......... .......... .......... .......... 61%  101M 0s\n",
            " 27200K .......... .......... .......... .......... .......... 61%  152M 0s\n",
            " 27250K .......... .......... .......... .......... .......... 61%  123M 0s\n",
            " 27300K .......... .......... .......... .......... .......... 61%  138M 0s\n",
            " 27350K .......... .......... .......... .......... .......... 61%  123M 0s\n",
            " 27400K .......... .......... .......... .......... .......... 61%  144M 0s\n",
            " 27450K .......... .......... .......... .......... .......... 61%  129M 0s\n",
            " 27500K .......... .......... .......... .......... .......... 61%  125M 0s\n",
            " 27550K .......... .......... .......... .......... .......... 62%  120M 0s\n",
            " 27600K .......... .......... .......... .......... .......... 62%  179M 0s\n",
            " 27650K .......... .......... .......... .......... .......... 62%  147M 0s\n",
            " 27700K .......... .......... .......... .......... .......... 62%  145M 0s\n",
            " 27750K .......... .......... .......... .......... .......... 62%  129M 0s\n",
            " 27800K .......... .......... .......... .......... .......... 62%  158M 0s\n",
            " 27850K .......... .......... .......... .......... .......... 62%  183M 0s\n",
            " 27900K .......... .......... .......... .......... .......... 62%  163M 0s\n",
            " 27950K .......... .......... .......... .......... .......... 63%  132M 0s\n",
            " 28000K .......... .......... .......... .......... .......... 63%  134M 0s\n",
            " 28050K .......... .......... .......... .......... .......... 63%  180M 0s\n",
            " 28100K .......... .......... .......... .......... .......... 63%  195M 0s\n",
            " 28150K .......... .......... .......... .......... .......... 63%  119M 0s\n",
            " 28200K .......... .......... .......... .......... .......... 63%  119M 0s\n",
            " 28250K .......... .......... .......... .......... .......... 63%  175M 0s\n",
            " 28300K .......... .......... .......... .......... .......... 63%  188M 0s\n",
            " 28350K .......... .......... .......... .......... .......... 63%  176M 0s\n",
            " 28400K .......... .......... .......... .......... .......... 64%  168M 0s\n",
            " 28450K .......... .......... .......... .......... .......... 64%  169M 0s\n",
            " 28500K .......... .......... .......... .......... .......... 64%  116M 0s\n",
            " 28550K .......... .......... .......... .......... .......... 64%  115M 0s\n",
            " 28600K .......... .......... .......... .......... .......... 64%  186M 0s\n",
            " 28650K .......... .......... .......... .......... .......... 64%  171M 0s\n",
            " 28700K .......... .......... .......... .......... .......... 64%  119M 0s\n",
            " 28750K .......... .......... .......... .......... .......... 64%  159M 0s\n",
            " 28800K .......... .......... .......... .......... .......... 64%  142M 0s\n",
            " 28850K .......... .......... .......... .......... .......... 65%  138M 0s\n",
            " 28900K .......... .......... .......... .......... .......... 65%  158M 0s\n",
            " 28950K .......... .......... .......... .......... .......... 65%  128M 0s\n",
            " 29000K .......... .......... .......... .......... .......... 65% 95.5M 0s\n",
            " 29050K .......... .......... .......... .......... .......... 65%  180M 0s\n",
            " 29100K .......... .......... .......... .......... .......... 65%  195M 0s\n",
            " 29150K .......... .......... .......... .......... .......... 65%  172M 0s\n",
            " 29200K .......... .......... .......... .......... .......... 65%  189M 0s\n",
            " 29250K .......... .......... .......... .......... .......... 65%  117M 0s\n",
            " 29300K .......... .......... .......... .......... .......... 66%  109M 0s\n",
            " 29350K .......... .......... .......... .......... .......... 66%  132M 0s\n",
            " 29400K .......... .......... .......... .......... .......... 66%  190M 0s\n",
            " 29450K .......... .......... .......... .......... .......... 66%  131M 0s\n",
            " 29500K .......... .......... .......... .......... .......... 66%  155M 0s\n",
            " 29550K .......... .......... .......... .......... .......... 66%  146M 0s\n",
            " 29600K .......... .......... .......... .......... .......... 66%  160M 0s\n",
            " 29650K .......... .......... .......... .......... .......... 66%  185M 0s\n",
            " 29700K .......... .......... .......... .......... .......... 66%  163M 0s\n",
            " 29750K .......... .......... .......... .......... .......... 67%  114M 0s\n",
            " 29800K .......... .......... .......... .......... .......... 67%  116M 0s\n",
            " 29850K .......... .......... .......... .......... .......... 67%  166M 0s\n",
            " 29900K .......... .......... .......... .......... .......... 67%  193M 0s\n",
            " 29950K .......... .......... .......... .......... .......... 67%  175M 0s\n",
            " 30000K .......... .......... .......... .......... .......... 67%  189M 0s\n",
            " 30050K .......... .......... .......... .......... .......... 67%  113M 0s\n",
            " 30100K .......... .......... .......... .......... .......... 67%  119M 0s\n",
            " 30150K .......... .......... .......... .......... .......... 67%  159M 0s\n",
            " 30200K .......... .......... .......... .......... .......... 68%  200M 0s\n",
            " 30250K .......... .......... .......... .......... .......... 68%  139M 0s\n",
            " 30300K .......... .......... .......... .......... .......... 68%  102M 0s\n",
            " 30350K .......... .......... .......... .......... .......... 68%  177M 0s\n",
            " 30400K .......... .......... .......... .......... .......... 68%  146M 0s\n",
            " 30450K .......... .......... .......... .......... .......... 68%  198M 0s\n",
            " 30500K .......... .......... .......... .......... .......... 68%  147M 0s\n",
            " 30550K .......... .......... .......... .......... .......... 68% 86.7M 0s\n",
            " 30600K .......... .......... .......... .......... .......... 68%  199M 0s\n",
            " 30650K .......... .......... .......... .......... .......... 69%  156M 0s\n",
            " 30700K .......... .......... .......... .......... .......... 69%  148M 0s\n",
            " 30750K .......... .......... .......... .......... .......... 69%  149M 0s\n",
            " 30800K .......... .......... .......... .......... .......... 69%  182M 0s\n",
            " 30850K .......... .......... .......... .......... .......... 69%  157M 0s\n",
            " 30900K .......... .......... .......... .......... .......... 69%  124M 0s\n",
            " 30950K .......... .......... .......... .......... .......... 69%  164M 0s\n",
            " 31000K .......... .......... .......... .......... .......... 69%  198M 0s\n",
            " 31050K .......... .......... .......... .......... .......... 69%  194M 0s\n",
            " 31100K .......... .......... .......... .......... .......... 70%  218M 0s\n",
            " 31150K .......... .......... .......... .......... .......... 70% 92.6M 0s\n",
            " 31200K .......... .......... .......... .......... .......... 70%  160M 0s\n",
            " 31250K .......... .......... .......... .......... .......... 70%  199M 0s\n",
            " 31300K .......... .......... .......... .......... .......... 70%  183M 0s\n",
            " 31350K .......... .......... .......... .......... .......... 70%  119M 0s\n",
            " 31400K .......... .......... .......... .......... .......... 70%  129M 0s\n",
            " 31450K .......... .......... .......... .......... .......... 70%  157M 0s\n",
            " 31500K .......... .......... .......... .......... .......... 70%  168M 0s\n",
            " 31550K .......... .......... .......... .......... .......... 71%  131M 0s\n",
            " 31600K .......... .......... .......... .......... .......... 71%  163M 0s\n",
            " 31650K .......... .......... .......... .......... .......... 71%  127M 0s\n",
            " 31700K .......... .......... .......... .......... .......... 71%  124M 0s\n",
            " 31750K .......... .......... .......... .......... .......... 71%  117M 0s\n",
            " 31800K .......... .......... .......... .......... .......... 71%  191M 0s\n",
            " 31850K .......... .......... .......... .......... .......... 71%  195M 0s\n",
            " 31900K .......... .......... .......... .......... .......... 71%  192M 0s\n",
            " 31950K .......... .......... .......... .......... .......... 72% 97.1M 0s\n",
            " 32000K .......... .......... .......... .......... .......... 72%  198M 0s\n",
            " 32050K .......... .......... .......... .......... .......... 72%  203M 0s\n",
            " 32100K .......... .......... .......... .......... .......... 72%  198M 0s\n",
            " 32150K .......... .......... .......... .......... .......... 72%  133M 0s\n",
            " 32200K .......... .......... .......... .......... .......... 72%  108M 0s\n",
            " 32250K .......... .......... .......... .......... .......... 72%  164M 0s\n",
            " 32300K .......... .......... .......... .......... .......... 72%  191M 0s\n",
            " 32350K .......... .......... .......... .......... .......... 72%  118M 0s\n",
            " 32400K .......... .......... .......... .......... .......... 73%  123M 0s\n",
            " 32450K .......... .......... .......... .......... .......... 73%  189M 0s\n",
            " 32500K .......... .......... .......... .......... .......... 73%  162M 0s\n",
            " 32550K .......... .......... .......... .......... .......... 73%  135M 0s\n",
            " 32600K .......... .......... .......... .......... .......... 73%  140M 0s\n",
            " 32650K .......... .......... .......... .......... .......... 73%  149M 0s\n",
            " 32700K .......... .......... .......... .......... .......... 73%  121M 0s\n",
            " 32750K .......... .......... .......... .......... .......... 73%  120M 0s\n",
            " 32800K .......... .......... .......... .......... .......... 73%  186M 0s\n",
            " 32850K .......... .......... .......... .......... .......... 74%  192M 0s\n",
            " 32900K .......... .......... .......... .......... .......... 74%  198M 0s\n",
            " 32950K .......... .......... .......... .......... .......... 74%  171M 0s\n",
            " 33000K .......... .......... .......... .......... .......... 74%  169M 0s\n",
            " 33050K .......... .......... .......... .......... .......... 74%  172M 0s\n",
            " 33100K .......... .......... .......... .......... .......... 74%  186M 0s\n",
            " 33150K .......... .......... .......... .......... .......... 74%  182M 0s\n",
            " 33200K .......... .......... .......... .......... .......... 74%  163M 0s\n",
            " 33250K .......... .......... .......... .......... .......... 74%  167M 0s\n",
            " 33300K .......... .......... .......... .......... .......... 75%  175M 0s\n",
            " 33350K .......... .......... .......... .......... .......... 75%  139M 0s\n",
            " 33400K .......... .......... .......... .......... .......... 75%  170M 0s\n",
            " 33450K .......... .......... .......... .......... .......... 75%  177M 0s\n",
            " 33500K .......... .......... .......... .......... .......... 75%  164M 0s\n",
            " 33550K .......... .......... .......... .......... .......... 75%  157M 0s\n",
            " 33600K .......... .......... .......... .......... .......... 75%  169M 0s\n",
            " 33650K .......... .......... .......... .......... .......... 75%  191M 0s\n",
            " 33700K .......... .......... .......... .......... .......... 75%  187M 0s\n",
            " 33750K .......... .......... .......... .......... .......... 76%  145M 0s\n",
            " 33800K .......... .......... .......... .......... .......... 76%  203M 0s\n",
            " 33850K .......... .......... .......... .......... .......... 76%  200M 0s\n",
            " 33900K .......... .......... .......... .......... .......... 76%  175M 0s\n",
            " 33950K .......... .......... .......... .......... .......... 76%  172M 0s\n",
            " 34000K .......... .......... .......... .......... .......... 76%  160M 0s\n",
            " 34050K .......... .......... .......... .......... .......... 76%  173M 0s\n",
            " 34100K .......... .......... .......... .......... .......... 76%  192M 0s\n",
            " 34150K .......... .......... .......... .......... .......... 76%  168M 0s\n",
            " 34200K .......... .......... .......... .......... .......... 77%  191M 0s\n",
            " 34250K .......... .......... .......... .......... .......... 77%  178M 0s\n",
            " 34300K .......... .......... .......... .......... .......... 77%  169M 0s\n",
            " 34350K .......... .......... .......... .......... .......... 77%  174M 0s\n",
            " 34400K .......... .......... .......... .......... .......... 77%  192M 0s\n",
            " 34450K .......... .......... .......... .......... .......... 77%  169M 0s\n",
            " 34500K .......... .......... .......... .......... .......... 77%  190M 0s\n",
            " 34550K .......... .......... .......... .......... .......... 77%  138M 0s\n",
            " 34600K .......... .......... .......... .......... .......... 77%  178M 0s\n",
            " 34650K .......... .......... .......... .......... .......... 78%  190M 0s\n",
            " 34700K .......... .......... .......... .......... .......... 78%  185M 0s\n",
            " 34750K .......... .......... .......... .......... .......... 78%  167M 0s\n",
            " 34800K .......... .......... .......... .......... .......... 78%  168M 0s\n",
            " 34850K .......... .......... .......... .......... .......... 78%  160M 0s\n",
            " 34900K .......... .......... .......... .......... .......... 78%  191M 0s\n",
            " 34950K .......... .......... .......... .......... .......... 78%  151M 0s\n",
            " 35000K .......... .......... .......... .......... .......... 78%  184M 0s\n",
            " 35050K .......... .......... .......... .......... .......... 78%  195M 0s\n",
            " 35100K .......... .......... .......... .......... .......... 79%  203M 0s\n",
            " 35150K .......... .......... .......... .......... .......... 79%  165M 0s\n",
            " 35200K .......... .......... .......... .......... .......... 79%  210M 0s\n",
            " 35250K .......... .......... .......... .......... .......... 79%  179M 0s\n",
            " 35300K .......... .......... .......... .......... .......... 79%  186M 0s\n",
            " 35350K .......... .......... .......... .......... .......... 79%  151M 0s\n",
            " 35400K .......... .......... .......... .......... .......... 79%  153M 0s\n",
            " 35450K .......... .......... .......... .......... .......... 79%  174M 0s\n",
            " 35500K .......... .......... .......... .......... .......... 79%  157M 0s\n",
            " 35550K .......... .......... .......... .......... .......... 80%  148M 0s\n",
            " 35600K .......... .......... .......... .......... .......... 80%  174M 0s\n",
            " 35650K .......... .......... .......... .......... .......... 80%  149M 0s\n",
            " 35700K .......... .......... .......... .......... .......... 80%  180M 0s\n",
            " 35750K .......... .......... .......... .......... .......... 80%  155M 0s\n",
            " 35800K .......... .......... .......... .......... .......... 80%  168M 0s\n",
            " 35850K .......... .......... .......... .......... .......... 80%  165M 0s\n",
            " 35900K .......... .......... .......... .......... .......... 80%  179M 0s\n",
            " 35950K .......... .......... .......... .......... .......... 81%  153M 0s\n",
            " 36000K .......... .......... .......... .......... .......... 81%  180M 0s\n",
            " 36050K .......... .......... .......... .......... .......... 81%  179M 0s\n",
            " 36100K .......... .......... .......... .......... .......... 81%  195M 0s\n",
            " 36150K .......... .......... .......... .......... .......... 81%  153M 0s\n",
            " 36200K .......... .......... .......... .......... .......... 81%  167M 0s\n",
            " 36250K .......... .......... .......... .......... .......... 81%  178M 0s\n",
            " 36300K .......... .......... .......... .......... .......... 81%  199M 0s\n",
            " 36350K .......... .......... .......... .......... .......... 81%  171M 0s\n",
            " 36400K .......... .......... .......... .......... .......... 82%  168M 0s\n",
            " 36450K .......... .......... .......... .......... .......... 82%  190M 0s\n",
            " 36500K .......... .......... .......... .......... .......... 82%  167M 0s\n",
            " 36550K .......... .......... .......... .......... .......... 82%  148M 0s\n",
            " 36600K .......... .......... .......... .......... .......... 82%  193M 0s\n",
            " 36650K .......... .......... .......... .......... .......... 82%  172M 0s\n",
            " 36700K .......... .......... .......... .......... .......... 82%  180M 0s\n",
            " 36750K .......... .......... .......... .......... .......... 82%  145M 0s\n",
            " 36800K .......... .......... .......... .......... .......... 82%  203M 0s\n",
            " 36850K .......... .......... .......... .......... .......... 83%  166M 0s\n",
            " 36900K .......... .......... .......... .......... .......... 83%  166M 0s\n",
            " 36950K .......... .......... .......... .......... .......... 83%  138M 0s\n",
            " 37000K .......... .......... .......... .......... .......... 83%  193M 0s\n",
            " 37050K .......... .......... .......... .......... .......... 83%  190M 0s\n",
            " 37100K .......... .......... .......... .......... .......... 83%  182M 0s\n",
            " 37150K .......... .......... .......... .......... .......... 83%  150M 0s\n",
            " 37200K .......... .......... .......... .......... .......... 83%  202M 0s\n",
            " 37250K .......... .......... .......... .......... .......... 83%  181M 0s\n",
            " 37300K .......... .......... .......... .......... .......... 84%  198M 0s\n",
            " 37350K .......... .......... .......... .......... .......... 84%  157M 0s\n",
            " 37400K .......... .......... .......... .......... .......... 84%  155M 0s\n",
            " 37450K .......... .......... .......... .......... .......... 84%  173M 0s\n",
            " 37500K .......... .......... .......... .......... .......... 84%  190M 0s\n",
            " 37550K .......... .......... .......... .......... .......... 84%  160M 0s\n",
            " 37600K .......... .......... .......... .......... .......... 84%  177M 0s\n",
            " 37650K .......... .......... .......... .......... .......... 84%  200M 0s\n",
            " 37700K .......... .......... .......... .......... .......... 84%  196M 0s\n",
            " 37750K .......... .......... .......... .......... .......... 85%  149M 0s\n",
            " 37800K .......... .......... .......... .......... .......... 85%  186M 0s\n",
            " 37850K .......... .......... .......... .......... .......... 85%  199M 0s\n",
            " 37900K .......... .......... .......... .......... .......... 85%  181M 0s\n",
            " 37950K .......... .......... .......... .......... .......... 85%  168M 0s\n",
            " 38000K .......... .......... .......... .......... .......... 85%  168M 0s\n",
            " 38050K .......... .......... .......... .......... .......... 85%  184M 0s\n",
            " 38100K .......... .......... .......... .......... .......... 85%  189M 0s\n",
            " 38150K .......... .......... .......... .......... .......... 85%  142M 0s\n",
            " 38200K .......... .......... .......... .......... .......... 86%  195M 0s\n",
            " 38250K .......... .......... .......... .......... .......... 86%  226M 0s\n",
            " 38300K .......... .......... .......... .......... .......... 86%  173M 0s\n",
            " 38350K .......... .......... .......... .......... .......... 86%  168M 0s\n",
            " 38400K .......... .......... .......... .......... .......... 86%  184M 0s\n",
            " 38450K .......... .......... .......... .......... .......... 86%  205M 0s\n",
            " 38500K .......... .......... .......... .......... .......... 86%  176M 0s\n",
            " 38550K .......... .......... .......... .......... .......... 86%  155M 0s\n",
            " 38600K .......... .......... .......... .......... .......... 86%  189M 0s\n",
            " 38650K .......... .......... .......... .......... .......... 87%  167M 0s\n",
            " 38700K .......... .......... .......... .......... .......... 87%  157M 0s\n",
            " 38750K .......... .......... .......... .......... .......... 87%  173M 0s\n",
            " 38800K .......... .......... .......... .......... .......... 87%  169M 0s\n",
            " 38850K .......... .......... .......... .......... .......... 87%  173M 0s\n",
            " 38900K .......... .......... .......... .......... .......... 87%  174M 0s\n",
            " 38950K .......... .......... .......... .......... .......... 87%  156M 0s\n",
            " 39000K .......... .......... .......... .......... .......... 87%  180M 0s\n",
            " 39050K .......... .......... .......... .......... .......... 87%  170M 0s\n",
            " 39100K .......... .......... .......... .......... .......... 88%  187M 0s\n",
            " 39150K .......... .......... .......... .......... .......... 88%  167M 0s\n",
            " 39200K .......... .......... .......... .......... .......... 88%  172M 0s\n",
            " 39250K .......... .......... .......... .......... .......... 88%  229M 0s\n",
            " 39300K .......... .......... .......... .......... .......... 88%  319M 0s\n",
            " 39350K .......... .......... .......... .......... .......... 88%  204M 0s\n",
            " 39400K .......... .......... .......... .......... .......... 88%  177M 0s\n",
            " 39450K .......... .......... .......... .......... .......... 88%  288M 0s\n",
            " 39500K .......... .......... .......... .......... .......... 88%  251M 0s\n",
            " 39550K .......... .......... .......... .......... .......... 89%  298M 0s\n",
            " 39600K .......... .......... .......... .......... .......... 89%  323M 0s\n",
            " 39650K .......... .......... .......... .......... .......... 89%  328M 0s\n",
            " 39700K .......... .......... .......... .......... .......... 89%  288M 0s\n",
            " 39750K .......... .......... .......... .......... .......... 89%  143M 0s\n",
            " 39800K .......... .......... .......... .......... .......... 89%  214M 0s\n",
            " 39850K .......... .......... .......... .......... .......... 89%  200M 0s\n",
            " 39900K .......... .......... .......... .......... .......... 89%  170M 0s\n",
            " 39950K .......... .......... .......... .......... .......... 90%  167M 0s\n",
            " 40000K .......... .......... .......... .......... .......... 90%  309M 0s\n",
            " 40050K .......... .......... .......... .......... .......... 90%  337M 0s\n",
            " 40100K .......... .......... .......... .......... .......... 90%  326M 0s\n",
            " 40150K .......... .......... .......... .......... .......... 90%  259M 0s\n",
            " 40200K .......... .......... .......... .......... .......... 90%  281M 0s\n",
            " 40250K .......... .......... .......... .......... .......... 90%  241M 0s\n",
            " 40300K .......... .......... .......... .......... .......... 90%  204M 0s\n",
            " 40350K .......... .......... .......... .......... .......... 90%  166M 0s\n",
            " 40400K .......... .......... .......... .......... .......... 91%  179M 0s\n",
            " 40450K .......... .......... .......... .......... .......... 91%  171M 0s\n",
            " 40500K .......... .......... .......... .......... .......... 91%  187M 0s\n",
            " 40550K .......... .......... .......... .......... .......... 91%  153M 0s\n",
            " 40600K .......... .......... .......... .......... .......... 91%  169M 0s\n",
            " 40650K .......... .......... .......... .......... .......... 91%  190M 0s\n",
            " 40700K .......... .......... .......... .......... .......... 91%  303M 0s\n",
            " 40750K .......... .......... .......... .......... .......... 91%  286M 0s\n",
            " 40800K .......... .......... .......... .......... .......... 91%  192M 0s\n",
            " 40850K .......... .......... .......... .......... .......... 92%  200M 0s\n",
            " 40900K .......... .......... .......... .......... .......... 92%  204M 0s\n",
            " 40950K .......... .......... .......... .......... .......... 92%  181M 0s\n",
            " 41000K .......... .......... .......... .......... .......... 92%  146M 0s\n",
            " 41050K .......... .......... .......... .......... .......... 92%  139M 0s\n",
            " 41100K .......... .......... .......... .......... .......... 92%  180M 0s\n",
            " 41150K .......... .......... .......... .......... .......... 92%  122M 0s\n",
            " 41200K .......... .......... .......... .......... .......... 92%  162M 0s\n",
            " 41250K .......... .......... .......... .......... .......... 92%  182M 0s\n",
            " 41300K .......... .......... .......... .......... .......... 93%  181M 0s\n",
            " 41350K .......... .......... .......... .......... .......... 93%  147M 0s\n",
            " 41400K .......... .......... .......... .......... .......... 93%  195M 0s\n",
            " 41450K .......... .......... .......... .......... .......... 93% 92.6M 0s\n",
            " 41500K .......... .......... .......... .......... .......... 93%  172M 0s\n",
            " 41550K .......... .......... .......... .......... .......... 93%  148M 0s\n",
            " 41600K .......... .......... .......... .......... .......... 93%  174M 0s\n",
            " 41650K .......... .......... .......... .......... .......... 93%  158M 0s\n",
            " 41700K .......... .......... .......... .......... .......... 93%  179M 0s\n",
            " 41750K .......... .......... .......... .......... .......... 94%  126M 0s\n",
            " 41800K .......... .......... .......... .......... .......... 94%  170M 0s\n",
            " 41850K .......... .......... .......... .......... .......... 94%  177M 0s\n",
            " 41900K .......... .......... .......... .......... .......... 94%  150M 0s\n",
            " 41950K .......... .......... .......... .......... .......... 94%  153M 0s\n",
            " 42000K .......... .......... .......... .......... .......... 94%  176M 0s\n",
            " 42050K .......... .......... .......... .......... .......... 94%  180M 0s\n",
            " 42100K .......... .......... .......... .......... .......... 94%  183M 0s\n",
            " 42150K .......... .......... .......... .......... .......... 94%  154M 0s\n",
            " 42200K .......... .......... .......... .......... .......... 95%  183M 0s\n",
            " 42250K .......... .......... .......... .......... .......... 95%  136M 0s\n",
            " 42300K .......... .......... .......... .......... .......... 95%  193M 0s\n",
            " 42350K .......... .......... .......... .......... .......... 95%  200M 0s\n",
            " 42400K .......... .......... .......... .......... .......... 95%  204M 0s\n",
            " 42450K .......... .......... .......... .......... .......... 95%  176M 0s\n",
            " 42500K .......... .......... .......... .......... .......... 95%  174M 0s\n",
            " 42550K .......... .......... .......... .......... .......... 95%  155M 0s\n",
            " 42600K .......... .......... .......... .......... .......... 95%  195M 0s\n",
            " 42650K .......... .......... .......... .......... .......... 96%  177M 0s\n",
            " 42700K .......... .......... .......... .......... .......... 96%  184M 0s\n",
            " 42750K .......... .......... .......... .......... .......... 96%  168M 0s\n",
            " 42800K .......... .......... .......... .......... .......... 96% 89.5M 0s\n",
            " 42850K .......... .......... .......... .......... .......... 96%  185M 0s\n",
            " 42900K .......... .......... .......... .......... .......... 96%  176M 0s\n",
            " 42950K .......... .......... .......... .......... .......... 96%  143M 0s\n",
            " 43000K .......... .......... .......... .......... .......... 96%  167M 0s\n",
            " 43050K .......... .......... .......... .......... .......... 96%  141M 0s\n",
            " 43100K .......... .......... .......... .......... .......... 97%  167M 0s\n",
            " 43150K .......... .......... .......... .......... .......... 97%  163M 0s\n",
            " 43200K .......... .......... .......... .......... .......... 97%  192M 0s\n",
            " 43250K .......... .......... .......... .......... .......... 97%  190M 0s\n",
            " 43300K .......... .......... .......... .......... .......... 97%  143M 0s\n",
            " 43350K .......... .......... .......... .......... .......... 97%  122M 0s\n",
            " 43400K .......... .......... .......... .......... .......... 97%  148M 0s\n",
            " 43450K .......... .......... .......... .......... .......... 97%  133M 0s\n",
            " 43500K .......... .......... .......... .......... .......... 97%  122M 0s\n",
            " 43550K .......... .......... .......... .......... .......... 98%  124M 0s\n",
            " 43600K .......... .......... .......... .......... .......... 98%  142M 0s\n",
            " 43650K .......... .......... .......... .......... .......... 98%  141M 0s\n",
            " 43700K .......... .......... .......... .......... .......... 98%  140M 0s\n",
            " 43750K .......... .......... .......... .......... .......... 98%  125M 0s\n",
            " 43800K .......... .......... .......... .......... .......... 98%  149M 0s\n",
            " 43850K .......... .......... .......... .......... .......... 98%  143M 0s\n",
            " 43900K .......... .......... .......... .......... .......... 98%  152M 0s\n",
            " 43950K .......... .......... .......... .......... .......... 99%  135M 0s\n",
            " 44000K .......... .......... .......... .......... .......... 99%  142M 0s\n",
            " 44050K .......... .......... .......... .......... .......... 99%  147M 0s\n",
            " 44100K .......... .......... .......... .......... .......... 99%  150M 0s\n",
            " 44150K .......... .......... .......... .......... .......... 99%  120M 0s\n",
            " 44200K .......... .......... .......... .......... .......... 99%  149M 0s\n",
            " 44250K .......... .......... .......... .......... .......... 99%  148M 0s\n",
            " 44300K .......... .......... .......... .......... .......... 99%  141M 0s\n",
            " 44350K .......... .......... .......... .......... .......... 99%  133M 0s\n",
            " 44400K .......... .......... .......... .......... ...       100%  153M=0.4s\n",
            "\n",
            "2021-11-20 19:48:43 (110 MB/s) - ‘/root/isi-kgtk-tutorial/input/all.tsv.gz’ saved [45510513/45510513]\n",
            "\n",
            "--2021-11-20 19:48:43--  https://github.com/usc-isi-i2/kgtk-tutorial-files/raw/main/datasets/arnold/labels.en.tsv.gz\n",
            "Resolving github.com (github.com)... 52.69.186.44\n",
            "Connecting to github.com (github.com)|52.69.186.44|:443... connected.\n",
            "HTTP request sent, awaiting response... 301 Moved Permanently\n",
            "Location: https://github.com/usc-isi-i2/kgtk-notebooks/raw/main/datasets/arnold/labels.en.tsv.gz [following]\n",
            "--2021-11-20 19:48:44--  https://github.com/usc-isi-i2/kgtk-notebooks/raw/main/datasets/arnold/labels.en.tsv.gz\n",
            "Reusing existing connection to github.com:443.\n",
            "HTTP request sent, awaiting response... 302 Found\n",
            "Location: https://raw.githubusercontent.com/usc-isi-i2/kgtk-notebooks/main/datasets/arnold/labels.en.tsv.gz [following]\n",
            "--2021-11-20 19:48:44--  https://raw.githubusercontent.com/usc-isi-i2/kgtk-notebooks/main/datasets/arnold/labels.en.tsv.gz\n",
            "Resolving raw.githubusercontent.com (raw.githubusercontent.com)... 185.199.110.133, 185.199.109.133, 185.199.108.133, ...\n",
            "Connecting to raw.githubusercontent.com (raw.githubusercontent.com)|185.199.110.133|:443... connected.\n",
            "HTTP request sent, awaiting response... 200 OK\n",
            "Length: 1070169 (1.0M) [application/octet-stream]\n",
            "Saving to: ‘/root/isi-kgtk-tutorial/input/labels.en.tsv.gz’\n",
            "\n",
            "     0K .......... .......... .......... .......... ..........  4% 4.03M 0s\n",
            "    50K .......... .......... .......... .......... ..........  9% 3.75M 0s\n",
            "   100K .......... .......... .......... .......... .......... 14% 13.7M 0s\n",
            "   150K .......... .......... .......... .......... .......... 19% 13.2M 0s\n",
            "   200K .......... .......... .......... .......... .......... 23% 11.5M 0s\n",
            "   250K .......... .......... .......... .......... .......... 28% 16.1M 0s\n",
            "   300K .......... .......... .......... .......... .......... 33% 16.3M 0s\n",
            "   350K .......... .......... .......... .......... .......... 38% 14.9M 0s\n",
            "   400K .......... .......... .......... .......... .......... 43% 20.4M 0s\n",
            "   450K .......... .......... .......... .......... .......... 47% 11.8M 0s\n",
            "   500K .......... .......... .......... .......... .......... 52% 60.8M 0s\n",
            "   550K .......... .......... .......... .......... .......... 57% 53.1M 0s\n",
            "   600K .......... .......... .......... .......... .......... 62% 64.2M 0s\n",
            "   650K .......... .......... .......... .......... .......... 66% 52.7M 0s\n",
            "   700K .......... .......... .......... .......... .......... 71% 42.0M 0s\n",
            "   750K .......... .......... .......... .......... .......... 76% 34.7M 0s\n",
            "   800K .......... .......... .......... .......... .......... 81% 45.1M 0s\n",
            "   850K .......... .......... .......... .......... .......... 86% 61.0M 0s\n",
            "   900K .......... .......... .......... .......... .......... 90% 38.4M 0s\n",
            "   950K .......... .......... .......... .......... .......... 95% 37.3M 0s\n",
            "  1000K .......... .......... .......... .......... .....     100%  133M=0.06s\n",
            "\n",
            "2021-11-20 19:48:45 (16.1 MB/s) - ‘/root/isi-kgtk-tutorial/input/labels.en.tsv.gz’ saved [1070169/1070169]\n",
            "\n",
            "--2021-11-20 19:48:45--  https://github.com/usc-isi-i2/kgtk-tutorial-files/raw/main/datasets/arnold/metadata.pagerank.undirected.tsv.gz\n",
            "Resolving github.com (github.com)... 52.69.186.44\n",
            "Connecting to github.com (github.com)|52.69.186.44|:443... connected.\n",
            "HTTP request sent, awaiting response... 301 Moved Permanently\n",
            "Location: https://github.com/usc-isi-i2/kgtk-notebooks/raw/main/datasets/arnold/metadata.pagerank.undirected.tsv.gz [following]\n",
            "--2021-11-20 19:48:45--  https://github.com/usc-isi-i2/kgtk-notebooks/raw/main/datasets/arnold/metadata.pagerank.undirected.tsv.gz\n",
            "Reusing existing connection to github.com:443.\n",
            "HTTP request sent, awaiting response... 302 Found\n",
            "Location: https://raw.githubusercontent.com/usc-isi-i2/kgtk-notebooks/main/datasets/arnold/metadata.pagerank.undirected.tsv.gz [following]\n",
            "--2021-11-20 19:48:45--  https://raw.githubusercontent.com/usc-isi-i2/kgtk-notebooks/main/datasets/arnold/metadata.pagerank.undirected.tsv.gz\n",
            "Resolving raw.githubusercontent.com (raw.githubusercontent.com)... 185.199.111.133, 185.199.110.133, 185.199.109.133, ...\n",
            "Connecting to raw.githubusercontent.com (raw.githubusercontent.com)|185.199.111.133|:443... connected.\n",
            "HTTP request sent, awaiting response... 200 OK\n",
            "Length: 2208946 (2.1M) [application/octet-stream]\n",
            "Saving to: ‘/root/isi-kgtk-tutorial/input/metadata.pagerank.undirected.tsv.gz’\n",
            "\n",
            "     0K .......... .......... .......... .......... ..........  2% 3.70M 1s\n",
            "    50K .......... .......... .......... .......... ..........  4% 4.10M 1s\n",
            "   100K .......... .......... .......... .......... ..........  6% 23.7M 0s\n",
            "   150K .......... .......... .......... .......... ..........  9% 14.3M 0s\n",
            "   200K .......... .......... .......... .......... .......... 11% 6.44M 0s\n",
            "   250K .......... .......... .......... .......... .......... 13% 53.2M 0s\n",
            "   300K .......... .......... .......... .......... .......... 16% 31.9M 0s\n",
            "   350K .......... .......... .......... .......... .......... 18% 28.4M 0s\n",
            "   400K .......... .......... .......... .......... .......... 20% 32.5M 0s\n",
            "   450K .......... .......... .......... .......... .......... 23% 48.7M 0s\n",
            "   500K .......... .......... .......... .......... .......... 25% 8.28M 0s\n",
            "   550K .......... .......... .......... .......... .......... 27% 38.5M 0s\n",
            "   600K .......... .......... .......... .......... .......... 30% 40.0M 0s\n",
            "   650K .......... .......... .......... .......... .......... 32%  136M 0s\n",
            "   700K .......... .......... .......... .......... .......... 34% 79.2M 0s\n",
            "   750K .......... .......... .......... .......... .......... 37% 63.8M 0s\n",
            "   800K .......... .......... .......... .......... .......... 39% 66.1M 0s\n",
            "   850K .......... .......... .......... .......... .......... 41% 67.8M 0s\n",
            "   900K .......... .......... .......... .......... .......... 44% 66.0M 0s\n",
            "   950K .......... .......... .......... .......... .......... 46%  114M 0s\n",
            "  1000K .......... .......... .......... .......... .......... 48% 9.40M 0s\n",
            "  1050K .......... .......... .......... .......... .......... 50% 84.9M 0s\n",
            "  1100K .......... .......... .......... .......... .......... 53% 69.7M 0s\n",
            "  1150K .......... .......... .......... .......... .......... 55% 82.1M 0s\n",
            "  1200K .......... .......... .......... .......... .......... 57%  144M 0s\n",
            "  1250K .......... .......... .......... .......... .......... 60% 32.4M 0s\n",
            "  1300K .......... .......... .......... .......... .......... 62% 75.3M 0s\n",
            "  1350K .......... .......... .......... .......... .......... 64% 53.6M 0s\n",
            "  1400K .......... .......... .......... .......... .......... 67% 75.2M 0s\n",
            "  1450K .......... .......... .......... .......... .......... 69% 95.4M 0s\n",
            "  1500K .......... .......... .......... .......... .......... 71% 86.1M 0s\n",
            "  1550K .......... .......... .......... .......... .......... 74% 78.0M 0s\n",
            "  1600K .......... .......... .......... .......... .......... 76%  140M 0s\n",
            "  1650K .......... .......... .......... .......... .......... 78%  144M 0s\n",
            "  1700K .......... .......... .......... .......... .......... 81%  126M 0s\n",
            "  1750K .......... .......... .......... .......... .......... 83%  143M 0s\n",
            "  1800K .......... .......... .......... .......... .......... 85%  148M 0s\n",
            "  1850K .......... .......... .......... .......... .......... 88%  124M 0s\n",
            "  1900K .......... .......... .......... .......... .......... 90%  146M 0s\n",
            "  1950K .......... .......... .......... .......... .......... 92%  139M 0s\n",
            "  2000K .......... .......... .......... .......... .......... 95% 24.0M 0s\n",
            "  2050K .......... .......... .......... .......... .......... 97%  130M 0s\n",
            "  2100K .......... .......... .......... .......... .......... 99%  144M 0s\n",
            "  2150K .......                                               100%  105M=0.08s\n",
            "\n",
            "2021-11-20 19:48:46 (27.7 MB/s) - ‘/root/isi-kgtk-tutorial/input/metadata.pagerank.undirected.tsv.gz’ saved [2208946/2208946]\n",
            "\n",
            "User home: /root\n",
            "Current dir: /content\n",
            "KGTK dir: /\n",
            "Use-cases dir: //use-cases\n",
            "--2021-11-20 19:48:46--  https://github.com/usc-isi-i2/kgtk-tutorial-files/raw/main/datasets/arnold-small/small-graph.tsv\n",
            "Resolving github.com (github.com)... 52.69.186.44\n",
            "Connecting to github.com (github.com)|52.69.186.44|:443... connected.\n",
            "HTTP request sent, awaiting response... 301 Moved Permanently\n",
            "Location: https://github.com/usc-isi-i2/kgtk-notebooks/raw/main/datasets/arnold-small/small-graph.tsv [following]\n",
            "--2021-11-20 19:48:47--  https://github.com/usc-isi-i2/kgtk-notebooks/raw/main/datasets/arnold-small/small-graph.tsv\n",
            "Reusing existing connection to github.com:443.\n",
            "HTTP request sent, awaiting response... 302 Found\n",
            "Location: https://raw.githubusercontent.com/usc-isi-i2/kgtk-notebooks/main/datasets/arnold-small/small-graph.tsv [following]\n",
            "--2021-11-20 19:48:47--  https://raw.githubusercontent.com/usc-isi-i2/kgtk-notebooks/main/datasets/arnold-small/small-graph.tsv\n",
            "Resolving raw.githubusercontent.com (raw.githubusercontent.com)... 185.199.109.133, 185.199.110.133, 185.199.108.133, ...\n",
            "Connecting to raw.githubusercontent.com (raw.githubusercontent.com)|185.199.109.133|:443... connected.\n",
            "HTTP request sent, awaiting response... 200 OK\n",
            "Length: 382 [text/plain]\n",
            "Saving to: ‘/root/isi-kgtk-tutorial/input/small-graph.tsv’\n",
            "\n",
            "     0K                                                       100% 16.9M=0s\n",
            "\n",
            "2021-11-20 19:48:47 (16.9 MB/s) - ‘/root/isi-kgtk-tutorial/input/small-graph.tsv’ saved [382/382]\n",
            "\n",
            "--2021-11-20 19:48:47--  https://github.com/usc-isi-i2/kgtk-tutorial-files/raw/main/datasets/arnold-small/small-films.tsv\n",
            "Resolving github.com (github.com)... 13.114.40.48\n",
            "Connecting to github.com (github.com)|13.114.40.48|:443... connected.\n",
            "HTTP request sent, awaiting response... 301 Moved Permanently\n",
            "Location: https://github.com/usc-isi-i2/kgtk-notebooks/raw/main/datasets/arnold-small/small-films.tsv [following]\n",
            "--2021-11-20 19:48:48--  https://github.com/usc-isi-i2/kgtk-notebooks/raw/main/datasets/arnold-small/small-films.tsv\n",
            "Reusing existing connection to github.com:443.\n",
            "HTTP request sent, awaiting response... 302 Found\n",
            "Location: https://raw.githubusercontent.com/usc-isi-i2/kgtk-notebooks/main/datasets/arnold-small/small-films.tsv [following]\n",
            "--2021-11-20 19:48:48--  https://raw.githubusercontent.com/usc-isi-i2/kgtk-notebooks/main/datasets/arnold-small/small-films.tsv\n",
            "Resolving raw.githubusercontent.com (raw.githubusercontent.com)... 185.199.109.133, 185.199.110.133, 185.199.108.133, ...\n",
            "Connecting to raw.githubusercontent.com (raw.githubusercontent.com)|185.199.109.133|:443... connected.\n",
            "HTTP request sent, awaiting response... 200 OK\n",
            "Length: 590 [text/plain]\n",
            "Saving to: ‘/root/isi-kgtk-tutorial/input/small-films.tsv’\n",
            "\n",
            "     0K                                                       100% 20.4M=0s\n",
            "\n",
            "2021-11-20 19:48:48 (20.4 MB/s) - ‘/root/isi-kgtk-tutorial/input/small-films.tsv’ saved [590/590]\n",
            "\n",
            "--2021-11-20 19:48:48--  https://github.com/usc-isi-i2/kgtk-tutorial-files/raw/main/datasets/arnold-small/small-props.tsv\n",
            "Resolving github.com (github.com)... 13.114.40.48\n",
            "Connecting to github.com (github.com)|13.114.40.48|:443... connected.\n",
            "HTTP request sent, awaiting response... 301 Moved Permanently\n",
            "Location: https://github.com/usc-isi-i2/kgtk-notebooks/raw/main/datasets/arnold-small/small-props.tsv [following]\n",
            "--2021-11-20 19:48:48--  https://github.com/usc-isi-i2/kgtk-notebooks/raw/main/datasets/arnold-small/small-props.tsv\n",
            "Reusing existing connection to github.com:443.\n",
            "HTTP request sent, awaiting response... 302 Found\n",
            "Location: https://raw.githubusercontent.com/usc-isi-i2/kgtk-notebooks/main/datasets/arnold-small/small-props.tsv [following]\n",
            "--2021-11-20 19:48:49--  https://raw.githubusercontent.com/usc-isi-i2/kgtk-notebooks/main/datasets/arnold-small/small-props.tsv\n",
            "Resolving raw.githubusercontent.com (raw.githubusercontent.com)... 185.199.108.133, 185.199.109.133, 185.199.110.133, ...\n",
            "Connecting to raw.githubusercontent.com (raw.githubusercontent.com)|185.199.108.133|:443... connected.\n",
            "HTTP request sent, awaiting response... 200 OK\n",
            "Length: 93 [text/plain]\n",
            "Saving to: ‘/root/isi-kgtk-tutorial/input/small-props.tsv’\n",
            "\n",
            "     0K                                                       100% 3.18M=0s\n",
            "\n",
            "2021-11-20 19:48:49 (3.18 MB/s) - ‘/root/isi-kgtk-tutorial/input/small-props.tsv’ saved [93/93]\n",
            "\n",
            "--2021-11-20 19:48:49--  https://github.com/usc-isi-i2/kgtk-tutorial-files/raw/main/datasets/arnold-small/small-quals.tsv\n",
            "Resolving github.com (github.com)... 52.69.186.44\n",
            "Connecting to github.com (github.com)|52.69.186.44|:443... connected.\n",
            "HTTP request sent, awaiting response... 301 Moved Permanently\n",
            "Location: https://github.com/usc-isi-i2/kgtk-notebooks/raw/main/datasets/arnold-small/small-quals.tsv [following]\n",
            "--2021-11-20 19:48:49--  https://github.com/usc-isi-i2/kgtk-notebooks/raw/main/datasets/arnold-small/small-quals.tsv\n",
            "Reusing existing connection to github.com:443.\n",
            "HTTP request sent, awaiting response... 302 Found\n",
            "Location: https://raw.githubusercontent.com/usc-isi-i2/kgtk-notebooks/main/datasets/arnold-small/small-quals.tsv [following]\n",
            "--2021-11-20 19:48:50--  https://raw.githubusercontent.com/usc-isi-i2/kgtk-notebooks/main/datasets/arnold-small/small-quals.tsv\n",
            "Resolving raw.githubusercontent.com (raw.githubusercontent.com)... 185.199.108.133, 185.199.109.133, 185.199.110.133, ...\n",
            "Connecting to raw.githubusercontent.com (raw.githubusercontent.com)|185.199.108.133|:443... connected.\n",
            "HTTP request sent, awaiting response... 200 OK\n",
            "Length: 285 [text/plain]\n",
            "Saving to: ‘/root/isi-kgtk-tutorial/input/small-quals.tsv’\n",
            "\n",
            "     0K                                                       100% 11.0M=0s\n",
            "\n",
            "2021-11-20 19:48:50 (11.0 MB/s) - ‘/root/isi-kgtk-tutorial/input/small-quals.tsv’ saved [285/285]\n",
            "\n"
          ]
        }
      ]
    },
    {
      "cell_type": "code",
      "metadata": {
        "id": "22ddd656",
        "colab": {
          "base_uri": "https://localhost:8080/"
        },
        "outputId": "e29e920f-4303-470b-be6c-f16759fcba35"
      },
      "source": [
        "ck.print_env_variables()"
      ],
      "id": "22ddd656",
      "execution_count": 5,
      "outputs": [
        {
          "output_type": "stream",
          "name": "stdout",
          "text": [
            "KGTK_LABEL_FILE: /root/isi-kgtk-tutorial/input/labels.en.tsv.gz\n",
            "OUT: /tmp/projects/tutorial-kypher\n",
            "USE_CASES_DIR: //use-cases\n",
            "EXAMPLES_DIR: //examples\n",
            "KGTK_GRAPH_CACHE: /tmp/projects/tutorial-kypher/temp.tutorial-kypher/wikidata.sqlite3.db\n",
            "GRAPH: /root/isi-kgtk-tutorial/input\n",
            "KGTK_OPTION_DEBUG: false\n",
            "kypher: kgtk query --graph-cache /tmp/projects/tutorial-kypher/temp.tutorial-kypher/wikidata.sqlite3.db\n",
            "kgtk: kgtk\n",
            "TEMP: /tmp/projects/tutorial-kypher/temp.tutorial-kypher\n",
            "STORE: /tmp/projects/tutorial-kypher/temp.tutorial-kypher/wikidata.sqlite3.db\n",
            "all: /root/isi-kgtk-tutorial/input/all.tsv.gz\n",
            "label: /root/isi-kgtk-tutorial/input/labels.en.tsv.gz\n",
            "pagerank_undirected: /root/isi-kgtk-tutorial/input/metadata.pagerank.undirected.tsv.gz\n"
          ]
        }
      ]
    },
    {
      "cell_type": "code",
      "metadata": {
        "id": "dc7adad9"
      },
      "source": [
        "os.environ['TUT_HOME'] = os.path.join(os.getenv('HOME'),  'Projects/kgtk/code/kgtk-notebooks')\n",
        "os.environ['SMALL_DATA_HOME'] = os.getenv('GRAPH') or os.path.join(os.getenv('TUT_HOME'), 'datasets/arnold-small/')\n",
        "os.environ['BIG_DATA_HOME']   = os.getenv('GRAPH') or os.path.join(os.getenv('TUT_HOME'), 'datasets/arnold/')\n",
        "os.environ['GRAPH'] = os.path.join(os.getenv('SMALL_DATA_HOME'), 'small-graph.tsv')\n",
        "os.environ['FILMS'] = os.path.join(os.getenv('SMALL_DATA_HOME'), 'small-films.tsv')\n",
        "os.environ['QUALS'] = os.path.join(os.getenv('SMALL_DATA_HOME'), 'small-quals.tsv')\n",
        "os.environ['PROPS'] = os.path.join(os.getenv('SMALL_DATA_HOME'), 'small-props.tsv')"
      ],
      "id": "dc7adad9",
      "execution_count": 6,
      "outputs": []
    },
    {
      "cell_type": "markdown",
      "metadata": {
        "lines_to_next_cell": 2,
        "id": "50f97f88"
      },
      "source": [
        "## Usage of `query` command\n",
        "```\n",
        "usage: kgtk query [-h] [-i INPUT_FILE [INPUT_FILE ...]] [--as NAME]\n",
        "                  [--comment COMMENT] [--query QUERY] [--match PATTERN]\n",
        "                  [--where CLAUSE] [--opt PATTERN] [--with CLAUSE]\n",
        "                  [--where: CLAUSE] [--return CLAUSE] [--order-by CLAUSE]\n",
        "                  [--skip CLAUSE] [--limit CLAUSE] [--para NAME=VAL]\n",
        "                  [--spara NAME=VAL] [--lqpara NAME=VAL] [--no-header]\n",
        "                  [--force] [--index MODE [MODE ...]] [--idx SPEC [SPEC ...]]\n",
        "                  [--explain [MODE]] [--graph-cache GRAPH_CACHE_FILE]\n",
        "                  [--show-cache] [--import MODULE_LIST] [-o OUTPUT]\n",
        "\n",
        "Query one or more KGTK files with Kypher.\n",
        "IMPORTANT: input can come from stdin but chaining queries is not yet supported.\n",
        "\n",
        "Input options:\n",
        "  -i INPUT_FILE [INPUT_FILE ...], --input-files INPUT_FILE [INPUT_FILE ...]\n",
        "                        One or more input files to query, maybe compressed\n",
        "                        (May be omitted or '-' for stdin.)\n",
        "  --as NAME             alias name to be used for preceding input\n",
        "  --comment COMMENT     comment string to store for the preceding input\n",
        "                        (displayed by --show-cache)\n",
        "\n",
        "Query options:\n",
        "  --query QUERY         complete Kypher query combining all clauses, if\n",
        "                        supplied, all other specialized clause arguments will\n",
        "                        be ignored\n",
        "  --match PATTERN       MATCH pattern of a Kypher query, defaults to universal\n",
        "                        node pattern `()'\n",
        "  --where CLAUSE        WHERE clause to a preceding --match, --opt or --with\n",
        "                        clause\n",
        "  --opt PATTERN, --optional PATTERN\n",
        "                        OPTIONAL MATCH pattern(s) of a Kypher query (zero or\n",
        "                        more)\n",
        "  --with CLAUSE         WITH clause of a Kypher query (only 'WITH * ...' is\n",
        "                        currently supported)\n",
        "  --where: CLAUSE       final global WHERE clause, shorthand for 'WITH * WHERE\n",
        "                        ...'\n",
        "  --return CLAUSE       RETURN clause of a Kypher query (defaults to *)\n",
        "  --order-by CLAUSE     ORDER BY clause of a Kypher query\n",
        "  --skip CLAUSE         SKIP clause of a Kypher query\n",
        "  --limit CLAUSE        LIMIT clause of a Kypher query\n",
        "  --para NAME=VAL       zero or more named value parameters to be passed to\n",
        "                        the query\n",
        "  --spara NAME=VAL      zero or more named string parameters to be passed to\n",
        "                        the query\n",
        "  --lqpara NAME=VAL     zero or more named LQ-string parameters to be passed\n",
        "                        to the query\n",
        "\n",
        "Output options:\n",
        "  --no-header           do not generate a header row with column names\n",
        "  -o OUTPUT, --out OUTPUT\n",
        "                        output file to write to, if `-' (the default) output\n",
        "                        goes to stdout. Files with extensions .gz, .bz2 or .xz\n",
        "                        will be appropriately compressed.\n",
        "\n",
        "Control options:\n",
        "  --force               force problematic queries to run against advice\n",
        "  --index MODE [MODE ...], --index-mode MODE [MODE ...]\n",
        "                        default index creation MODE for all inputs (default:\n",
        "                        auto); can be overridden with --idx for specific\n",
        "                        inputs\n",
        "  --idx SPEC [SPEC ...], --input-index SPEC [SPEC ...]\n",
        "                        create index(es) according to SPEC for the preceding\n",
        "                        input only\n",
        "  --explain [MODE]      explain the query execution and indexing plan\n",
        "                        according to MODE (plan, full, expert, default: plan).\n",
        "                        This will not actually run or create anything.\n",
        "  --graph-cache GRAPH_CACHE_FILE\n",
        "                        database cache where graphs will be imported before\n",
        "                        they are queried (defaults to per-user temporary file)\n",
        "  --show-cache          describe the current content of the graph cache and\n",
        "                        exit (does not actually run a query or import data)\n",
        "  --import MODULE_LIST  Python modules needed to define user extensions to\n",
        "                        built-in functions\n",
        "  -h, --help            show this help message and exit\n",
        "```"
      ],
      "id": "50f97f88"
    },
    {
      "cell_type": "markdown",
      "metadata": {
        "id": "becbc95b"
      },
      "source": [
        "## Selecting edges with the `--match` clause"
      ],
      "id": "becbc95b"
    },
    {
      "cell_type": "markdown",
      "metadata": {
        "id": "6bfb0429"
      },
      "source": [
        "- KGTK `query` either takes a full Kypher `--query` or individual Kypher clauses such as `--match`,\n",
        "  `--return`, etc.\n",
        "- individual clauses are automatically assembled into the proper order, easier in Unix shell environment"
      ],
      "id": "6bfb0429"
    },
    {
      "cell_type": "markdown",
      "metadata": {
        "id": "1bcfa3a4"
      },
      "source": [
        "**Example**\n",
        "- simple query on a single input graph with an anonymous edge pattern\n",
        "- for convenience we use shell variable `$GRAPH` to point to small data file\n",
        "- **IMPORTANT**: use quotes around the match pattern to protect from the shell\n",
        "- this matches all edges and returns the whole file"
      ],
      "id": "1bcfa3a4"
    },
    {
      "cell_type": "code",
      "metadata": {
        "id": "1d2a9d08",
        "colab": {
          "base_uri": "https://localhost:8080/"
        },
        "outputId": "2928169a-e42f-47f9-f025-4e3e3bf43c25"
      },
      "source": [
        "!echo $GRAPH"
      ],
      "id": "1d2a9d08",
      "execution_count": 7,
      "outputs": [
        {
          "output_type": "stream",
          "name": "stdout",
          "text": [
            "/root/isi-kgtk-tutorial/input/small-graph.tsv\n"
          ]
        }
      ]
    },
    {
      "cell_type": "code",
      "metadata": {
        "id": "5130f672",
        "colab": {
          "base_uri": "https://localhost:8080/"
        },
        "outputId": "ddb03eca-d633-4536-c74d-ac93b73b154b"
      },
      "source": [
        "!kgtk query -i $GRAPH --match '()-[]->()'"
      ],
      "id": "5130f672",
      "execution_count": 8,
      "outputs": [
        {
          "output_type": "stream",
          "name": "stdout",
          "text": [
            "id\tnode1\tlabel\tnode2\n",
            "e1\tm_shriver\tspouse\ta_schwarzenegger\n",
            "e2\ta_schwarzenegger\tcoactor\tl_hamilton\n",
            "e3\tg_rydstrom\tcolleague\tg_borders\n",
            "e4\tg_rydstrom\tcolleague\ta_schwarzenegger\n",
            "e5\ta_schwarzenegger\tname\t'Arnold Schwarzenegger'@de\n",
            "e6\tl_hamilton\tname\t'Linda Hamilton'@en\n",
            "e7\tg_rydstrom\tname\t'Gary R. Rydstrom'@en\n",
            "e8\tg_borders\tname\t'Gloria S. Borders'@en\n",
            "e9\tm_shriver\tname\t'Maria Shriver'@en\n"
          ]
        }
      ]
    },
    {
      "cell_type": "markdown",
      "metadata": {
        "id": "NzcUCxHnqjNC"
      },
      "source": [
        "= graph ?g (?s, ?p, ?o)"
      ],
      "id": "NzcUCxHnqjNC"
    },
    {
      "cell_type": "markdown",
      "metadata": {
        "id": "7733bff5"
      },
      "source": [
        "- match pattern starts with anonymous node connecting via an\n",
        "  anonymous relation to another anonymous node\n",
        "- matched against the four core columns specifying an edge in each line of the KGTK\n",
        "  input file\n",
        "- from-node is matched against `node1`, relation is\n",
        "  matched against `id` and `label` (more on that distinction later), and\n",
        "  the to-node is matched against `node2`\n",
        "- for each KGTK line matching the pattern, output is generated according to the `--return` clause\n",
        "- default for `--return` is `*` which means all columns of a matching line will be output"
      ],
      "id": "7733bff5"
    },
    {
      "cell_type": "markdown",
      "metadata": {
        "id": "9c4fb588"
      },
      "source": [
        "**Equivalent query:**\n",
        "- singular anonymous node pattern will be completed to a full edge"
      ],
      "id": "9c4fb588"
    },
    {
      "cell_type": "code",
      "metadata": {
        "id": "db30d4a5",
        "colab": {
          "base_uri": "https://localhost:8080/"
        },
        "outputId": "01724b4b-574a-481b-fba7-da7e7d3a0c7f"
      },
      "source": [
        "!kgtk query -i $GRAPH --match '()'"
      ],
      "id": "db30d4a5",
      "execution_count": 9,
      "outputs": [
        {
          "output_type": "stream",
          "name": "stdout",
          "text": [
            "id\tnode1\tlabel\tnode2\n",
            "e1\tm_shriver\tspouse\ta_schwarzenegger\n",
            "e2\ta_schwarzenegger\tcoactor\tl_hamilton\n",
            "e3\tg_rydstrom\tcolleague\tg_borders\n",
            "e4\tg_rydstrom\tcolleague\ta_schwarzenegger\n",
            "e5\ta_schwarzenegger\tname\t'Arnold Schwarzenegger'@de\n",
            "e6\tl_hamilton\tname\t'Linda Hamilton'@en\n",
            "e7\tg_rydstrom\tname\t'Gary R. Rydstrom'@en\n",
            "e8\tg_borders\tname\t'Gloria S. Borders'@en\n",
            "e9\tm_shriver\tname\t'Maria Shriver'@en\n"
          ]
        }
      ]
    },
    {
      "cell_type": "markdown",
      "metadata": {
        "id": "547b54f2"
      },
      "source": [
        "**Equivalent query:**\n",
        "- that pattern is also the default for `--match`"
      ],
      "id": "547b54f2"
    },
    {
      "cell_type": "code",
      "metadata": {
        "id": "3510b2fc",
        "colab": {
          "base_uri": "https://localhost:8080/"
        },
        "outputId": "240602c9-06e0-4fd3-f633-dac271b2deea"
      },
      "source": [
        "!kgtk query -i $GRAPH"
      ],
      "id": "3510b2fc",
      "execution_count": 10,
      "outputs": [
        {
          "output_type": "stream",
          "name": "stdout",
          "text": [
            "id\tnode1\tlabel\tnode2\n",
            "e1\tm_shriver\tspouse\ta_schwarzenegger\n",
            "e2\ta_schwarzenegger\tcoactor\tl_hamilton\n",
            "e3\tg_rydstrom\tcolleague\tg_borders\n",
            "e4\tg_rydstrom\tcolleague\ta_schwarzenegger\n",
            "e5\ta_schwarzenegger\tname\t'Arnold Schwarzenegger'@de\n",
            "e6\tl_hamilton\tname\t'Linda Hamilton'@en\n",
            "e7\tg_rydstrom\tname\t'Gary R. Rydstrom'@en\n",
            "e8\tg_borders\tname\t'Gloria S. Borders'@en\n",
            "e9\tm_shriver\tname\t'Maria Shriver'@en\n"
          ]
        }
      ]
    },
    {
      "cell_type": "markdown",
      "metadata": {
        "id": "2634d31c"
      },
      "source": [
        "**Equivalent command:** `kgtk cat`"
      ],
      "id": "2634d31c"
    },
    {
      "cell_type": "code",
      "metadata": {
        "lines_to_next_cell": 2,
        "id": "9f348d66",
        "colab": {
          "base_uri": "https://localhost:8080/"
        },
        "outputId": "96496210-e4ce-4a8d-839a-a82b5e1cd528"
      },
      "source": [
        "!kgtk cat -i $GRAPH"
      ],
      "id": "9f348d66",
      "execution_count": 11,
      "outputs": [
        {
          "output_type": "stream",
          "name": "stdout",
          "text": [
            "id\tnode1\tlabel\tnode2\n",
            "e1\tm_shriver\tspouse\ta_schwarzenegger\n",
            "e2\ta_schwarzenegger\tcoactor\tl_hamilton\n",
            "e3\tg_rydstrom\tcolleague\tg_borders\n",
            "e4\tg_rydstrom\tcolleague\ta_schwarzenegger\n",
            "e5\ta_schwarzenegger\tname\t'Arnold Schwarzenegger'@de\n",
            "e6\tl_hamilton\tname\t'Linda Hamilton'@en\n",
            "e7\tg_rydstrom\tname\t'Gary R. Rydstrom'@en\n",
            "e8\tg_borders\tname\t'Gloria S. Borders'@en\n",
            "e9\tm_shriver\tname\t'Maria Shriver'@en\n"
          ]
        }
      ]
    },
    {
      "cell_type": "markdown",
      "metadata": {
        "id": "cc441053"
      },
      "source": [
        "### Restricting output\n",
        "- use `--limit` and/or `--skip` to control output volume,\n",
        "  especially to test queries on larger data"
      ],
      "id": "cc441053"
    },
    {
      "cell_type": "code",
      "metadata": {
        "id": "6807d9af",
        "colab": {
          "base_uri": "https://localhost:8080/"
        },
        "outputId": "6c60c432-7656-4bea-ccc4-9221d69de674"
      },
      "source": [
        "!kgtk query -i $GRAPH --limit 3"
      ],
      "id": "6807d9af",
      "execution_count": 12,
      "outputs": [
        {
          "output_type": "stream",
          "name": "stdout",
          "text": [
            "id\tnode1\tlabel\tnode2\n",
            "e1\tm_shriver\tspouse\ta_schwarzenegger\n",
            "e2\ta_schwarzenegger\tcoactor\tl_hamilton\n",
            "e3\tg_rydstrom\tcolleague\tg_borders\n"
          ]
        }
      ]
    },
    {
      "cell_type": "code",
      "metadata": {
        "id": "bbd440e1",
        "colab": {
          "base_uri": "https://localhost:8080/"
        },
        "outputId": "bb1d5050-810f-40d2-e083-3b0280739055"
      },
      "source": [
        "!kgtk query -i $GRAPH --skip 2 --limit 3"
      ],
      "id": "bbd440e1",
      "execution_count": 13,
      "outputs": [
        {
          "output_type": "stream",
          "name": "stdout",
          "text": [
            "id\tnode1\tlabel\tnode2\n",
            "e3\tg_rydstrom\tcolleague\tg_borders\n",
            "e4\tg_rydstrom\tcolleague\ta_schwarzenegger\n",
            "e5\ta_schwarzenegger\tname\t'Arnold Schwarzenegger'@de\n"
          ]
        }
      ]
    },
    {
      "cell_type": "markdown",
      "metadata": {
        "id": "7rywr8ZvrGeE"
      },
      "source": [
        "SPARQL => skip = offset"
      ],
      "id": "7rywr8ZvrGeE"
    },
    {
      "cell_type": "code",
      "metadata": {
        "lines_to_next_cell": 2,
        "id": "caa2991c",
        "colab": {
          "base_uri": "https://localhost:8080/"
        },
        "outputId": "02e50b19-e662-44d2-9846-0d25f587d16e"
      },
      "source": [
        "!kgtk query -i $GRAPH / head -n 3"
      ],
      "id": "caa2991c",
      "execution_count": 14,
      "outputs": [
        {
          "output_type": "stream",
          "name": "stdout",
          "text": [
            "id\tnode1\tlabel\tnode2\n",
            "e1\tm_shriver\tspouse\ta_schwarzenegger\n",
            "e2\ta_schwarzenegger\tcoactor\tl_hamilton\n",
            "e3\tg_rydstrom\tcolleague\tg_borders\n"
          ]
        }
      ]
    },
    {
      "cell_type": "markdown",
      "metadata": {
        "id": "21484bae"
      },
      "source": [
        "### Restricting edges\n",
        "- patterns can be made more specific by restricting some of the elements of an edge\n",
        "- for example, filter for all edges that start with `m_shriver`"
      ],
      "id": "21484bae"
    },
    {
      "cell_type": "code",
      "metadata": {
        "id": "579b24f6",
        "colab": {
          "base_uri": "https://localhost:8080/"
        },
        "outputId": "4ffb3586-eff8-43f1-d1ef-a4d9861ddae2"
      },
      "source": [
        "!kgtk query -i $GRAPH --match '(:m_shriver)-[]->()'"
      ],
      "id": "579b24f6",
      "execution_count": 15,
      "outputs": [
        {
          "output_type": "stream",
          "name": "stdout",
          "text": [
            "id\tnode1\tlabel\tnode2\n",
            "e1\tm_shriver\tspouse\ta_schwarzenegger\n",
            "e9\tm_shriver\tname\t'Maria Shriver'@en\n"
          ]
        }
      ]
    },
    {
      "cell_type": "markdown",
      "metadata": {
        "id": "56ac3776"
      },
      "source": [
        "- **Kypher vs. Cypher**: in Cypher the restriction `m_shriver` would be interpreted as a node *type* in a property graph, in KGTK Kypher\n",
        "it is interpreted as the ID of a particular node"
      ],
      "id": "56ac3776"
    },
    {
      "cell_type": "markdown",
      "metadata": {
        "id": "af32722e"
      },
      "source": [
        "**Example**\n",
        "- filter on the relation of an edge\n",
        "- select all edges with label `name` using the same colon-restriction syntax we used for nodes"
      ],
      "id": "af32722e"
    },
    {
      "cell_type": "code",
      "metadata": {
        "id": "fa10dac3",
        "colab": {
          "base_uri": "https://localhost:8080/"
        },
        "outputId": "6c56e409-3dba-4410-9fd5-5ac95eb54853"
      },
      "source": [
        "!kgtk query -i $GRAPH --match '()-[:name]->()'"
      ],
      "id": "fa10dac3",
      "execution_count": 16,
      "outputs": [
        {
          "output_type": "stream",
          "name": "stdout",
          "text": [
            "id\tnode1\tlabel\tnode2\n",
            "e5\ta_schwarzenegger\tname\t'Arnold Schwarzenegger'@de\n",
            "e6\tl_hamilton\tname\t'Linda Hamilton'@en\n",
            "e7\tg_rydstrom\tname\t'Gary R. Rydstrom'@en\n",
            "e8\tg_borders\tname\t'Gloria S. Borders'@en\n",
            "e9\tm_shriver\tname\t'Maria Shriver'@en\n"
          ]
        }
      ]
    },
    {
      "cell_type": "markdown",
      "metadata": {
        "id": "70207f7c"
      },
      "source": [
        "- for relations, the interpretation of restrictions on the label of an\n",
        "edge (as opposed to its `id`) is more in line with standard Cypher."
      ],
      "id": "70207f7c"
    },
    {
      "cell_type": "markdown",
      "metadata": {
        "id": "841a95e3"
      },
      "source": [
        "**Example**\n",
        "- node and relation restrictions can be combined\n",
        "- for example, here we select all `name` edges starting from node `a_schwarzenegger`"
      ],
      "id": "841a95e3"
    },
    {
      "cell_type": "code",
      "metadata": {
        "lines_to_next_cell": 2,
        "id": "d54b0533",
        "colab": {
          "base_uri": "https://localhost:8080/"
        },
        "outputId": "2cc5f370-4c2f-4a47-b59e-321a249153fc"
      },
      "source": [
        "!kgtk query -i $GRAPH --match '(:a_schwarzenegger)-[:name]->()'"
      ],
      "id": "d54b0533",
      "execution_count": 17,
      "outputs": [
        {
          "output_type": "stream",
          "name": "stdout",
          "text": [
            "id\tnode1\tlabel\tnode2\n",
            "e5\ta_schwarzenegger\tname\t'Arnold Schwarzenegger'@de\n"
          ]
        }
      ]
    },
    {
      "cell_type": "markdown",
      "metadata": {
        "id": "7dd48f36"
      },
      "source": [
        "## Filtering with the `--where` clause"
      ],
      "id": "7dd48f36"
    },
    {
      "cell_type": "markdown",
      "metadata": {
        "id": "0ecba3ba"
      },
      "source": [
        "- `--where` holds a possibly complex Boolean expression that gets evaluated as additional edge filter\n",
        "- only edges for which it evaluates to true will be returned\n",
        "- `--where` can be used to express more complex conditions and computations that cannot be expressed in `--match`\n",
        "- to connect to values selected by `--match` we need pattern *variables*\n",
        "- variables are specified with simple names in the node or relationship part of a pattern\n",
        "- below we use `p` as the variable for the starting node of the edge pattern\n",
        "- in the `--where` clause we restrict which values are allowed for `p`\n",
        "- this query is equivalent to the one above where we restricted the starting node directly in the match pattern:"
      ],
      "id": "0ecba3ba"
    },
    {
      "cell_type": "code",
      "metadata": {
        "id": "3ec0af12",
        "colab": {
          "base_uri": "https://localhost:8080/"
        },
        "outputId": "068e9f22-ccb1-4822-a130-472cf6751409"
      },
      "source": [
        "!kgtk query -i $GRAPH \\\n",
        "     --match '(p)-[:name]->()' \\\n",
        "     --where 'p = \"m_shriver\"'"
      ],
      "id": "3ec0af12",
      "execution_count": 18,
      "outputs": [
        {
          "output_type": "stream",
          "name": "stdout",
          "text": [
            "id\tnode1\tlabel\tnode2\n",
            "e9\tm_shriver\tname\t'Maria Shriver'@en\n"
          ]
        }
      ]
    },
    {
      "cell_type": "markdown",
      "metadata": {
        "id": "7957db5f"
      },
      "source": [
        "**Equivalent query:**\n",
        "- specifies the starting node restriction twice which is ok but redundant"
      ],
      "id": "7957db5f"
    },
    {
      "cell_type": "code",
      "metadata": {
        "id": "a394af91",
        "colab": {
          "base_uri": "https://localhost:8080/"
        },
        "outputId": "17a8563a-a9d2-4c1d-dff4-676c3d1c609b"
      },
      "source": [
        "!kgtk query -i $GRAPH \\\n",
        "     --match '(p:m_shriver)-[:name]->()' \\\n",
        "     --where 'p = \"m_shriver\"'"
      ],
      "id": "a394af91",
      "execution_count": 19,
      "outputs": [
        {
          "output_type": "stream",
          "name": "stdout",
          "text": [
            "id\tnode1\tlabel\tnode2\n",
            "e9\tm_shriver\tname\t'Maria Shriver'@en\n"
          ]
        }
      ]
    },
    {
      "cell_type": "markdown",
      "metadata": {
        "id": "5ffdb95d"
      },
      "source": [
        "- **IMPORTANT**: constants such as `m_shriver` need to be quoted when used in `--where`, similar to SQL\n",
        "- this needs extra care so quotes will not be consumed by the Unix shell"
      ],
      "id": "5ffdb95d"
    },
    {
      "cell_type": "markdown",
      "metadata": {
        "id": "b08921e4"
      },
      "source": [
        "**Example**\n",
        "- use a regular expression to filter on the names attached to nodes\n",
        "- the `=~` operator matches a value against a regular expression\n",
        "- **Kypher vs. Cypher**: Kypher use Python regexp syntax, Cypher uses Java regexps\n",
        "- select all `name` edges that lead to a name that contains a double letter:"
      ],
      "id": "b08921e4"
    },
    {
      "cell_type": "code",
      "metadata": {
        "id": "8df2fb4c",
        "colab": {
          "base_uri": "https://localhost:8080/"
        },
        "outputId": "e38630bf-819f-4e9d-fec5-9c13d98d9838"
      },
      "source": [
        "!kgtk query -i $GRAPH \\\n",
        "     --match '(p)-[:name]->(n)' \\\n",
        "     --where 'n =~ \".*(.)\\\\1.*\"'"
      ],
      "id": "8df2fb4c",
      "execution_count": 20,
      "outputs": [
        {
          "output_type": "stream",
          "name": "stdout",
          "text": [
            "id\tnode1\tlabel\tnode2\n",
            "e5\ta_schwarzenegger\tname\t'Arnold Schwarzenegger'@de\n"
          ]
        }
      ]
    },
    {
      "cell_type": "markdown",
      "metadata": {
        "id": "b3263a68"
      },
      "source": [
        "**Example**\n",
        "- filter based on a list of values (a form of disjunction)\n",
        "- any edge where `p` is equal to one of the listed values will be returned\n",
        "- **Kypher vs. Cypher**: Kypher only allows lists of literals such as strings\n",
        "  or numbers, Cypher also allows variables and expressions"
      ],
      "id": "b3263a68"
    },
    {
      "cell_type": "code",
      "metadata": {
        "id": "e0b986bf",
        "colab": {
          "base_uri": "https://localhost:8080/"
        },
        "outputId": "0dcf3615-f815-4826-c595-55d3f44dbec9"
      },
      "source": [
        "!kgtk query -i $GRAPH \\\n",
        "     --match '(p)-[:name]->(n)' \\\n",
        "     --where 'p IN [\"g_borders\", \"g_rydstrom\"]'"
      ],
      "id": "e0b986bf",
      "execution_count": 21,
      "outputs": [
        {
          "output_type": "stream",
          "name": "stdout",
          "text": [
            "id\tnode1\tlabel\tnode2\n",
            "e7\tg_rydstrom\tname\t'Gary R. Rydstrom'@en\n",
            "e8\tg_borders\tname\t'Gloria S. Borders'@en\n"
          ]
        }
      ]
    },
    {
      "cell_type": "markdown",
      "metadata": {
        "id": "b83cbdf1"
      },
      "source": [
        "**Example**\n",
        "- filter based on a comparison operator and a computation using built-in functions\n",
        "- **IMPORTANT**: all columns in a KGTK file are treated as text (even if they contain numbers)\n",
        "- the expression below filters for names that start with the letter `L` or later\n",
        "- note that quotes of KGTK string literals are part of their value and need to be accounted for\n",
        "- for this we use the built-in function `substr` to extract the first letter of each name"
      ],
      "id": "b83cbdf1"
    },
    {
      "cell_type": "code",
      "metadata": {
        "lines_to_next_cell": 2,
        "id": "f80eb655",
        "colab": {
          "base_uri": "https://localhost:8080/"
        },
        "outputId": "e19d0280-f9fb-42ee-a765-430106717b93"
      },
      "source": [
        "!kgtk query -i $GRAPH \\\n",
        "     --match '(p)-[:name]->(n)' \\\n",
        "     --where \"substr(n,2,1) >= 'L'\""
      ],
      "id": "f80eb655",
      "execution_count": 22,
      "outputs": [
        {
          "output_type": "stream",
          "name": "stdout",
          "text": [
            "id\tnode1\tlabel\tnode2\n",
            "e6\tl_hamilton\tname\t'Linda Hamilton'@en\n",
            "e9\tm_shriver\tname\t'Maria Shriver'@en\n"
          ]
        }
      ]
    },
    {
      "cell_type": "markdown",
      "metadata": {
        "id": "2d4ceebc"
      },
      "source": [
        "## Sorting results with the `--order-by` clause"
      ],
      "id": "2d4ceebc"
    },
    {
      "cell_type": "markdown",
      "metadata": {
        "id": "d513b98a"
      },
      "source": [
        "- use `--order-by` to sort results just like in Cypher and SQL\n",
        "- this query sorts matched results by names in ascending order:"
      ],
      "id": "d513b98a"
    },
    {
      "cell_type": "code",
      "metadata": {
        "lines_to_next_cell": 2,
        "id": "a0f82ae8",
        "colab": {
          "base_uri": "https://localhost:8080/"
        },
        "outputId": "eeba6670-cc11-405b-c87c-f5a347013ed4"
      },
      "source": [
        "!kgtk query -i $GRAPH \\\n",
        "     --match '(p)-[:name]->(n)' \\\n",
        "     --where \"upper(substr(n,2,1)) >= 'L'\" \\\n",
        "     --order-by n"
      ],
      "id": "a0f82ae8",
      "execution_count": 23,
      "outputs": [
        {
          "output_type": "stream",
          "name": "stdout",
          "text": [
            "id\tnode1\tlabel\tnode2\n",
            "e6\tl_hamilton\tname\t'Linda Hamilton'@en\n",
            "e9\tm_shriver\tname\t'Maria Shriver'@en\n"
          ]
        }
      ]
    },
    {
      "cell_type": "markdown",
      "metadata": {
        "id": "7a375a76"
      },
      "source": [
        "- order by an expression value, this time in descending order:"
      ],
      "id": "7a375a76"
    },
    {
      "cell_type": "code",
      "metadata": {
        "lines_to_next_cell": 2,
        "id": "180baf9d",
        "colab": {
          "base_uri": "https://localhost:8080/"
        },
        "outputId": "e4ba9233-63bc-4084-95ba-e69f35e82278"
      },
      "source": [
        "!kgtk query -i $GRAPH \\\n",
        "     --match '(p)-[:name]->(n)' \\\n",
        "     --where \"substr(n,2,1) >= 'L'\" \\\n",
        "     --order-by \"substr(n,2,1) desc\""
      ],
      "id": "180baf9d",
      "execution_count": 24,
      "outputs": [
        {
          "output_type": "stream",
          "name": "stdout",
          "text": [
            "id\tnode1\tlabel\tnode2\n",
            "e9\tm_shriver\tname\t'Maria Shriver'@en\n",
            "e6\tl_hamilton\tname\t'Linda Hamilton'@en\n"
          ]
        }
      ]
    },
    {
      "cell_type": "markdown",
      "metadata": {
        "id": "f27a5dac"
      },
      "source": [
        "## Controlling results with the `--return` clause"
      ],
      "id": "f27a5dac"
    },
    {
      "cell_type": "markdown",
      "metadata": {
        "id": "7755871b"
      },
      "source": [
        "- use `--return` to control which columns are output, in which order, with what headers\n",
        "- by default `*` is used which means all columns of matching edge(s) are output\n",
        "- use KGTK and SQLite built-in functions to transform output values or compute additional ones\n",
        "- use `distict` to eliminate duplicates\n",
        "- use aggregation function to get counts, max, average, etc."
      ],
      "id": "7755871b"
    },
    {
      "cell_type": "markdown",
      "metadata": {
        "id": "7ca3b0fd"
      },
      "source": [
        "**Example**\n",
        "- select only the `node1` and `node2` columns by referencing pattern variables `p` and `n`\n",
        "- note, that the result generated here is not valid KGTK (missing `id` and `label`)"
      ],
      "id": "7ca3b0fd"
    },
    {
      "cell_type": "code",
      "metadata": {
        "id": "c2ebb33c",
        "colab": {
          "base_uri": "https://localhost:8080/"
        },
        "outputId": "8cac4b14-2011-4ac6-93a0-14f72a6c0ab2"
      },
      "source": [
        "!kgtk query -i $GRAPH \\\n",
        "     --match '(p)-[:name]->(n)' \\\n",
        "     --where 'n =~ \".*(.)\\\\1.*\"' \\\n",
        "     --return 'p, n'"
      ],
      "id": "c2ebb33c",
      "execution_count": 25,
      "outputs": [
        {
          "output_type": "stream",
          "name": "stdout",
          "text": [
            "node1\tnode2\n",
            "a_schwarzenegger\t'Arnold Schwarzenegger'@de\n"
          ]
        }
      ]
    },
    {
      "cell_type": "markdown",
      "metadata": {
        "id": "f04c5488"
      },
      "source": [
        "**Example**\n",
        "- return all columns but switching their order\n",
        "- **Kypher vs. Cypher**: Kypher relation variables such as `r` below\n",
        "  get bound to edge IDs; other components of an edge such as its `label`\n",
        "  can then be access via property syntax such as `r.label`\n",
        "- this query now produces valid KGTK"
      ],
      "id": "f04c5488"
    },
    {
      "cell_type": "code",
      "metadata": {
        "id": "6a07ab49",
        "colab": {
          "base_uri": "https://localhost:8080/"
        },
        "outputId": "bc5c685e-f2a1-4005-d5d0-649f1fa99fd2"
      },
      "source": [
        "!kgtk query -i $GRAPH \\\n",
        "     --match '(p)-[r:name]->(n)' \\\n",
        "     --where 'n =~ \".*(.)\\\\1.*\"' \\\n",
        "     --return 'p, n, r, r.label'"
      ],
      "id": "6a07ab49",
      "execution_count": 26,
      "outputs": [
        {
          "output_type": "stream",
          "name": "stdout",
          "text": [
            "node1\tnode2\tid\tlabel\n",
            "a_schwarzenegger\t'Arnold Schwarzenegger'@de\te5\tname\n"
          ]
        }
      ]
    },
    {
      "cell_type": "markdown",
      "metadata": {
        "id": "49970cf4"
      },
      "source": [
        "**Example**\n",
        "- summarize data via `distinct` to eliminate duplicates"
      ],
      "id": "49970cf4"
    },
    {
      "cell_type": "code",
      "metadata": {
        "id": "6d286af7",
        "colab": {
          "base_uri": "https://localhost:8080/"
        },
        "outputId": "cdc9154b-7a1e-416a-8521-f3126c584043"
      },
      "source": [
        "!kgtk query -i $GRAPH \\\n",
        "     --match '(p)-[r]->(n)' \\\n",
        "     --return 'distinct r.label' \\\n",
        "     --order-by r.label"
      ],
      "id": "6d286af7",
      "execution_count": 27,
      "outputs": [
        {
          "output_type": "stream",
          "name": "stdout",
          "text": [
            "label\n",
            "coactor\n",
            "colleague\n",
            "name\n",
            "spouse\n"
          ]
        }
      ]
    },
    {
      "cell_type": "markdown",
      "metadata": {
        "id": "ecd5305b"
      },
      "source": [
        "**Example**\n",
        "- transform data with built-in functions, e.g., change value to lower case"
      ],
      "id": "ecd5305b"
    },
    {
      "cell_type": "code",
      "metadata": {
        "id": "fcb5c6f4",
        "colab": {
          "base_uri": "https://localhost:8080/"
        },
        "outputId": "de1ec566-bc37-4271-b3d4-439e88d79b78"
      },
      "source": [
        "!kgtk query -i $GRAPH \\\n",
        "     --match '(p)-[r:name]->(n)' \\\n",
        "     --where 'n =~ \".*(.)\\\\1.*\"' \\\n",
        "     --return 'p, r.label, lower(n), r'"
      ],
      "id": "fcb5c6f4",
      "execution_count": 28,
      "outputs": [
        {
          "output_type": "stream",
          "name": "stdout",
          "text": [
            "node1\tlabel\tlower(graph_1_c1.\"node2\")\tid\n",
            "a_schwarzenegger\tname\t'arnold schwarzenegger'@de\te5\n"
          ]
        }
      ]
    },
    {
      "cell_type": "markdown",
      "metadata": {
        "id": "c0d7b19f"
      },
      "source": [
        "**Example**\n",
        "- specify proper column headers for output values, e.g., designate the transformed value as `node2`"
      ],
      "id": "c0d7b19f"
    },
    {
      "cell_type": "code",
      "metadata": {
        "id": "6ff2aa95",
        "colab": {
          "base_uri": "https://localhost:8080/"
        },
        "outputId": "fd3f08b0-412f-4e79-df6c-b52c6b6fb8bc"
      },
      "source": [
        "!kgtk query -i $GRAPH \\\n",
        "     --match '(p)-[r:name]->(n)' \\\n",
        "     --where 'n =~ \".*(.)\\\\1.*\"' \\\n",
        "     --return 'p, r.label, lower(n) as node2, r'"
      ],
      "id": "6ff2aa95",
      "execution_count": 29,
      "outputs": [
        {
          "output_type": "stream",
          "name": "stdout",
          "text": [
            "node1\tlabel\tnode2\tid\n",
            "a_schwarzenegger\tname\t'arnold schwarzenegger'@de\te5\n"
          ]
        }
      ]
    },
    {
      "cell_type": "markdown",
      "metadata": {
        "id": "ffa27b10"
      },
      "source": [
        "**Example**\n",
        "- use KGTK built-in functions to manipulate KGTK values\n",
        "- here we change a symbol to a string (which is a legal `node1` in KGTK data model)"
      ],
      "id": "ffa27b10"
    },
    {
      "cell_type": "code",
      "metadata": {
        "id": "da737147",
        "colab": {
          "base_uri": "https://localhost:8080/"
        },
        "outputId": "b9040553-09d9-4958-ee05-c85dab7c07de"
      },
      "source": [
        "!kgtk query -i $GRAPH \\\n",
        "     --match '(p)-[r:name]->(n)' \\\n",
        "     --where 'n =~ \".*(.)\\\\1.*\"' \\\n",
        "     --return 'kgtk_stringify(p) as node1, r.label, n, r'"
      ],
      "id": "da737147",
      "execution_count": 30,
      "outputs": [
        {
          "output_type": "stream",
          "name": "stdout",
          "text": [
            "node1\tlabel\tnode2\tid\n",
            "\"a_schwarzenegger\"\tname\t'Arnold Schwarzenegger'@de\te5\n"
          ]
        }
      ]
    },
    {
      "cell_type": "markdown",
      "metadata": {
        "id": "472d713e"
      },
      "source": [
        "**Example**\n",
        "- access components of structured literals with property syntax (treat them as *virtual properties*)\n",
        "- but this is just syntactic sugar for calling the KGTK function\n",
        "- extra output column is named with column path syntax (`lang` of `node2`)\n",
        "- special characters need to be backtick-quoted"
      ],
      "id": "472d713e"
    },
    {
      "cell_type": "code",
      "metadata": {
        "lines_to_next_cell": 2,
        "id": "afd031b8",
        "colab": {
          "base_uri": "https://localhost:8080/"
        },
        "outputId": "789a12cb-1e4f-4d56-9318-df37bf9c75e5"
      },
      "source": [
        "!kgtk query -i $GRAPH \\\n",
        "     --match '(p)-[r:name]->(n)' \\\n",
        "     --where 'kgtk_lqstring(n) and n.kgtk_lqstring_lang != \"en\"' \\\n",
        "     --return 'r, p, r.label, lower(n) as node2, n.kgtk_lqstring_lang as `node2;lang`'"
      ],
      "id": "afd031b8",
      "execution_count": 31,
      "outputs": [
        {
          "output_type": "stream",
          "name": "stdout",
          "text": [
            "id\tnode1\tlabel\tnode2\tnode2;lang\n",
            "e5\ta_schwarzenegger\tname\t'arnold schwarzenegger'@de\tde\n"
          ]
        }
      ]
    },
    {
      "cell_type": "markdown",
      "metadata": {
        "id": "e65fa69d"
      },
      "source": [
        "## Querying connected edges through graph patterns"
      ],
      "id": "e65fa69d"
    },
    {
      "cell_type": "markdown",
      "metadata": {
        "id": "c5f8938d"
      },
      "source": [
        "- in KGs  we will often want to combine multiple edges into a query\n",
        "- connection could be within a graph or across graphs or both\n",
        "- in database parlance this is generally called a *join*\n",
        "- in Kypher (or Cypher) we can express such queries very concisely using graph patterns\n",
        "- this ASCII pattern language is probably the single-most useful aspect of K/Cypher\n",
        "- for example, find colleagues and their names:"
      ],
      "id": "c5f8938d"
    },
    {
      "cell_type": "code",
      "metadata": {
        "id": "a25f411b",
        "colab": {
          "base_uri": "https://localhost:8080/"
        },
        "outputId": "41de8367-7cf4-4fc3-9bd0-74c40330c2a4"
      },
      "source": [
        "!kgtk query -i $GRAPH \\\n",
        "     --match '(na)<-[:name]-(a)-[r:colleague]->(b)-[:name]->(nb)' \\\n",
        "     --return 'r, na as node1, r.label, nb as node2'"
      ],
      "id": "a25f411b",
      "execution_count": 32,
      "outputs": [
        {
          "output_type": "stream",
          "name": "stdout",
          "text": [
            "id\tnode1\tlabel\tnode2\n",
            "e3\t'Gary R. Rydstrom'@en\tcolleague\t'Gloria S. Borders'@en\n",
            "e4\t'Gary R. Rydstrom'@en\tcolleague\t'Arnold Schwarzenegger'@de\n"
          ]
        }
      ]
    },
    {
      "cell_type": "markdown",
      "metadata": {
        "id": "0ace1986"
      },
      "source": [
        "**Example**\n",
        "- combine path patterns with `--where` expression for more elaborate filtering\n",
        "- below we select starting edges where at least one of the nodes has a German name"
      ],
      "id": "0ace1986"
    },
    {
      "cell_type": "code",
      "metadata": {
        "id": "955b4593",
        "colab": {
          "base_uri": "https://localhost:8080/"
        },
        "outputId": "ee1a829d-926c-478c-efef-a9c154c15002"
      },
      "source": [
        "!kgtk query -i $GRAPH \\\n",
        "     --match '(na)<-[:name]-(a)-[r:colleague]->(b)-[:name]->(nb)' \\\n",
        "     --where 'na.kgtk_lqstring_lang = \"de\" OR nb.kgtk_lqstring_lang = \"de\"' \\\n",
        "     --return 'r, na as node1, r.label, nb as node2'"
      ],
      "id": "955b4593",
      "execution_count": 33,
      "outputs": [
        {
          "output_type": "stream",
          "name": "stdout",
          "text": [
            "id\tnode1\tlabel\tnode2\n",
            "e4\t'Gary R. Rydstrom'@en\tcolleague\t'Arnold Schwarzenegger'@de\n"
          ]
        }
      ]
    },
    {
      "cell_type": "markdown",
      "metadata": {
        "id": "3b6840fc"
      },
      "source": [
        "**Example**\n",
        "- it is good practice to only name pattern variables that are actually needed and leave others anonymous"
      ],
      "id": "3b6840fc"
    },
    {
      "cell_type": "code",
      "metadata": {
        "lines_to_next_cell": 2,
        "id": "09fdf20d",
        "colab": {
          "base_uri": "https://localhost:8080/"
        },
        "outputId": "eef3f9a0-9c85-4d8a-f556-9459bceb5282"
      },
      "source": [
        "!kgtk query -i $GRAPH \\\n",
        "     --match '(na)<-[:name]-()-[r:colleague]->()-[:name]->(nb)' \\\n",
        "     --return 'r, na as node1, r.label, nb as node2'"
      ],
      "id": "09fdf20d",
      "execution_count": 34,
      "outputs": [
        {
          "output_type": "stream",
          "name": "stdout",
          "text": [
            "id\tnode1\tlabel\tnode2\n",
            "e3\t'Gary R. Rydstrom'@en\tcolleague\t'Gloria S. Borders'@en\n",
            "e4\t'Gary R. Rydstrom'@en\tcolleague\t'Arnold Schwarzenegger'@de\n"
          ]
        }
      ]
    },
    {
      "cell_type": "markdown",
      "metadata": {
        "id": "4ec2f765"
      },
      "source": [
        "## Querying connected edges across multiple graphs"
      ],
      "id": "4ec2f765"
    },
    {
      "cell_type": "markdown",
      "metadata": {
        "id": "8061cef7"
      },
      "source": [
        "- Kypher can combine information from different graphs described in separate KGTK files\n",
        "- allows one to mix and match information, or to organize data into different logical parts\n",
        "- to query multiple graphs we need to specify two or more input files\n",
        "- *graph variables* are used to associate pattern clauses with the graph they apply to\n",
        "- for graphs to connect they need to have some node or edge IDs in common\n",
        "- **Kypher vs. Cypher*: Cypher does not address multi-graph queries\n",
        "- to illustrate this we use a second example graph of film data shown here:"
      ],
      "id": "8061cef7"
    },
    {
      "cell_type": "code",
      "metadata": {
        "id": "98faf82c",
        "colab": {
          "base_uri": "https://localhost:8080/"
        },
        "outputId": "c641bd93-2074-47c8-93db-80876d121e2c"
      },
      "source": [
        "!echo $FILMS"
      ],
      "id": "98faf82c",
      "execution_count": 35,
      "outputs": [
        {
          "output_type": "stream",
          "name": "stdout",
          "text": [
            "/root/isi-kgtk-tutorial/input/small-films.tsv\n"
          ]
        }
      ]
    },
    {
      "cell_type": "code",
      "metadata": {
        "id": "2834c11b",
        "colab": {
          "base_uri": "https://localhost:8080/"
        },
        "outputId": "77bd10ee-8b94-4d0b-9845-4a5d3b99cf01"
      },
      "source": [
        "!kgtk query -i $FILMS --match '()-[]->()'"
      ],
      "id": "2834c11b",
      "execution_count": 36,
      "outputs": [
        {
          "output_type": "stream",
          "name": "stdout",
          "text": [
            "id\tnode1\tlabel\tnode2\n",
            "t1\tterminator2_jd\tname\t'Terminator 2'@en\n",
            "t2\tterminator2_jd\tinstance_of\tfilm\n",
            "t3\tterminator2_jd\tgenre\tscience_fiction\n",
            "t4\tterminator2_jd\tgenre\taction\n",
            "t5\tterminator2_jd\tcast\ta_schwarzenegger\n",
            "t6\tterminator2_jd\tcast\tl_hamilton\n",
            "t7\tterminator2_jd\tcrew\tg_rydstrom\n",
            "t8\tterminator2_jd\tcrew\tg_borders\n",
            "t9\tterminator2_jd\taward\tacademy-best-sound-editing\n",
            "t10\tterminator2_jd\tpublication_date\t^1991-07-03T00:00:00Z/11\n",
            "t11\tterminator2_jd\tpublication_date\t^1995-07-01T00:00:00Z/11\n",
            "t12\tfilm\tsubclass_of\tvisual_artwork\n",
            "t13\ts_connor\tname\t'Sarah Connor'@en\n",
            "t14\tterminator\tname\t'Terminator'@en\n"
          ]
        }
      ]
    },
    {
      "cell_type": "markdown",
      "metadata": {
        "id": "a5b19871"
      },
      "source": [
        "**Example**\n",
        "- let's query for people whose spouse is a film actor\n",
        "- a graph variable followed by `:` means all clauses following it are to be applied to that graph,\n",
        "  until overridden by another graph variable\n",
        "- graph variables are matched to input files in a simple greedy matching scheme (see manual),\n",
        "  for example, here we use a substring of each input file name\n",
        "- multiple edges in the pattern are separated by commas to allow for graph switching"
      ],
      "id": "a5b19871"
    },
    {
      "cell_type": "code",
      "metadata": {
        "id": "3100a084",
        "colab": {
          "base_uri": "https://localhost:8080/"
        },
        "outputId": "df1c58fe-a928-4f3f-ed4a-fc412f861808"
      },
      "source": [
        "!kgtk query -i $GRAPH -i $FILMS \\\n",
        "     --match 'graph: (x)-[r:spouse]->(y), \\\n",
        "              films: (y)<-[:cast]-(f)-[:instance_of]->(:film)' \\\n",
        "     --return 'r, x, r.label, y, f as `node2;acted_in`'"
      ],
      "id": "3100a084",
      "execution_count": 37,
      "outputs": [
        {
          "output_type": "stream",
          "name": "stdout",
          "text": [
            "id\tnode1\tlabel\tnode2\tnode2;acted_in\n",
            "e1\tm_shriver\tspouse\ta_schwarzenegger\tterminator2_jd\n"
          ]
        }
      ]
    },
    {
      "cell_type": "markdown",
      "metadata": {
        "id": "86f272e7"
      },
      "source": [
        "**Example**\n",
        "- let's further restrict that the acting had to be done before 1985"
      ],
      "id": "86f272e7"
    },
    {
      "cell_type": "code",
      "metadata": {
        "lines_to_next_cell": 2,
        "id": "1fb135c4",
        "colab": {
          "base_uri": "https://localhost:8080/"
        },
        "outputId": "f1df50f1-5c31-4fcf-90f6-6d26eef5b45b"
      },
      "source": [
        "!kgtk query -i $GRAPH -i $FILMS \\\n",
        "     --match 'graph: (x)-[r:spouse]->(y), \\\n",
        "              films: (y)<-[:cast]-(f)-[:instance_of]->(:film), \\\n",
        "                     (f)-[:publication_date]->(d)' \\\n",
        "     --where 'd < \"^1995\"' \\\n",
        "     --return 'r, x, r.label, y, f as `node2;acted_in`, d as `node2;acted_when`'"
      ],
      "id": "1fb135c4",
      "execution_count": 38,
      "outputs": [
        {
          "output_type": "stream",
          "name": "stdout",
          "text": [
            "id\tnode1\tlabel\tnode2\tnode2;acted_in\tnode2;acted_when\n",
            "e1\tm_shriver\tspouse\ta_schwarzenegger\tterminator2_jd\t^1991-07-03T00:00:00Z/11\n"
          ]
        }
      ]
    },
    {
      "cell_type": "markdown",
      "metadata": {
        "id": "040183db"
      },
      "source": [
        "## Aggregation"
      ],
      "id": "040183db"
    },
    {
      "cell_type": "markdown",
      "metadata": {
        "id": "878f3af7"
      },
      "source": [
        "- similar to SQL and Cypher, Kypher supports aggregation functions such\n",
        "  as `count`, `min`, `max`, `avg`, etc.\n",
        "- one of the simplest and most frequently used operations is counting rows via `count`"
      ],
      "id": "878f3af7"
    },
    {
      "cell_type": "markdown",
      "metadata": {
        "id": "3a27616e"
      },
      "source": [
        "**Example**\n",
        "- count how many edges have `terminator2_jd` as their starting node"
      ],
      "id": "3a27616e"
    },
    {
      "cell_type": "code",
      "metadata": {
        "id": "d093572e",
        "colab": {
          "base_uri": "https://localhost:8080/"
        },
        "outputId": "0c41695b-38bf-43d8-f1de-152c3e6907c1"
      },
      "source": [
        "!kgtk query -i $FILMS \\\n",
        "     --match '(:terminator2_jd)-[r]->()' \\\n",
        "     --return 'count(r) as N'"
      ],
      "id": "d093572e",
      "execution_count": 39,
      "outputs": [
        {
          "output_type": "stream",
          "name": "stdout",
          "text": [
            "N\n",
            "11\n"
          ]
        }
      ]
    },
    {
      "cell_type": "markdown",
      "metadata": {
        "id": "c24a502d"
      },
      "source": [
        "**Example**\n",
        "- counts may include duplicate values (every selected edge will be counted)\n",
        "- we can use `distinct` keyword as the first argument to `count` (or any aggregation function) to exclude duplicates"
      ],
      "id": "c24a502d"
    },
    {
      "cell_type": "code",
      "metadata": {
        "id": "3d5e4e83",
        "colab": {
          "base_uri": "https://localhost:8080/"
        },
        "outputId": "6dac9e0a-77f0-45f6-f097-14f0aa39bcc6"
      },
      "source": [
        "!kgtk query -i $FILMS \\\n",
        "     --match '(:terminator2_jd)-[r]->()' \\\n",
        "     --return 'count(distinct r.label) as N'"
      ],
      "id": "3d5e4e83",
      "execution_count": 40,
      "outputs": [
        {
          "output_type": "stream",
          "name": "stdout",
          "text": [
            "N\n",
            "7\n"
          ]
        }
      ]
    },
    {
      "cell_type": "markdown",
      "metadata": {
        "id": "838358eb"
      },
      "source": [
        "**Example**\n",
        "- Kypher does not have an explicit `group by` clause (different from SPARQL or SQL)\n",
        "- grouping is inferred from clause type and order in the `return` statement\n",
        "  and sorts rows into into groups before an aggregation operation is applied to each group\n",
        "- below we group by relation label and then select the maximum `node2` for each label (lexicographically)"
      ],
      "id": "838358eb"
    },
    {
      "cell_type": "code",
      "metadata": {
        "id": "28935f79",
        "colab": {
          "base_uri": "https://localhost:8080/"
        },
        "outputId": "a24dac65-5348-404d-ee93-06ec74cfd274"
      },
      "source": [
        "!kgtk query -i $FILMS \\\n",
        "     --match '(x)-[r]->(y)' \\\n",
        "     --return 'r.label, max(y) as node2, x, r'"
      ],
      "id": "28935f79",
      "execution_count": 41,
      "outputs": [
        {
          "output_type": "stream",
          "name": "stdout",
          "text": [
            "label\tnode2\tnode1\tid\n",
            "award\tacademy-best-sound-editing\tterminator2_jd\tt9\n",
            "cast\tl_hamilton\tterminator2_jd\tt6\n",
            "crew\tg_rydstrom\tterminator2_jd\tt7\n",
            "genre\tscience_fiction\tterminator2_jd\tt3\n",
            "instance_of\tfilm\tterminator2_jd\tt2\n",
            "name\t'Terminator'@en\tterminator\tt14\n",
            "publication_date\t^1995-07-01T00:00:00Z/11\tterminator2_jd\tt11\n",
            "subclass_of\tvisual_artwork\tfilm\tt12\n"
          ]
        }
      ]
    },
    {
      "cell_type": "markdown",
      "metadata": {
        "id": "aRSLxuMzyDmP"
      },
      "source": [
        "EU NÃO ENTENDI O GROUP BY (QUE O KIPHER NÃO TEM EXPLìCITO MAS ACABA SENDO IMPLICITO QUANDO USA FUNÇÃO DE AGREGAÇÃO)"
      ],
      "id": "aRSLxuMzyDmP"
    },
    {
      "cell_type": "markdown",
      "metadata": {
        "lines_to_next_cell": 2,
        "id": "bc9ea6c6"
      },
      "source": [
        "**Mildly tricky**: the query applied the `max` function to groups of\n",
        "result rows where `r.label` had the same value.  But for this to\n",
        "work we had to move the other output variables `x` and `r` to the\n",
        "end, otherwise they would have been the grouping criterion (that's\n",
        "the drawback of implicit grouping)."
      ],
      "id": "bc9ea6c6"
    },
    {
      "cell_type": "markdown",
      "metadata": {
        "id": "f35835f3"
      },
      "source": [
        "## Optional match"
      ],
      "id": "f35835f3"
    },
    {
      "cell_type": "markdown",
      "metadata": {
        "id": "9e44058a"
      },
      "source": [
        "- real-world KGs often only have partial coverage of certain relations\n",
        "- for example, not every node might have a name or label\n",
        "- Kypher's optional match patterns can be used to hande incomplete information,\n",
        "  since they are allowed to fail and will generate NULL values for such cases\n",
        "- each Kypher query must have exactly one strict `--match` clause and\n",
        "  can have zero or more optional match clauses introduced by `--opt`\n",
        "- **Kypher vs. Cypher**: this is more than Cypher which can have any\n",
        "  number of strict and/or optional patterns in any order\n",
        "- each strict and optional match clause can have its own `--where` clause\n",
        "- below we sometimes use a third graph of edge qualifiers shown here:"
      ],
      "id": "9e44058a"
    },
    {
      "cell_type": "code",
      "metadata": {
        "id": "16ad326b",
        "colab": {
          "base_uri": "https://localhost:8080/"
        },
        "outputId": "14aede97-3a8a-47bf-c9a2-452cf68dc0f3"
      },
      "source": [
        "!echo $QUALS"
      ],
      "id": "16ad326b",
      "execution_count": 42,
      "outputs": [
        {
          "output_type": "stream",
          "name": "stdout",
          "text": [
            "/root/isi-kgtk-tutorial/input/small-quals.tsv\n"
          ]
        }
      ]
    },
    {
      "cell_type": "code",
      "metadata": {
        "id": "11b32803",
        "colab": {
          "base_uri": "https://localhost:8080/"
        },
        "outputId": "3adceb72-dbbb-4b52-ebf7-c048df6ed3a0"
      },
      "source": [
        "!kgtk query -i $QUALS"
      ],
      "id": "11b32803",
      "execution_count": 43,
      "outputs": [
        {
          "output_type": "stream",
          "name": "stdout",
          "text": [
            "id\tnode1\tlabel\tnode2\n",
            "q1\tt5\trole\tterminator\n",
            "q2\tt6\trole\ts_connor\n",
            "q3\tt9\tpoint_in_time\t^1992-03-30T00:00:00Z/11\n",
            "q4 \tt9\twinner\tg_rydstrom\n",
            "q5 \tt9\twinner\tg_borders\n",
            "q6 \tt10\tlocation\tunited_states\n",
            "q8 \tt11\tlocation\trussia\n",
            "q9\te1\tstart\t^1986-04-26T08:00:00Z/11\n",
            "q10\te1\tend\t^2011-07-01T10:00:00Z/11\n"
          ]
        }
      ]
    },
    {
      "cell_type": "markdown",
      "metadata": {
        "id": "d774227d"
      },
      "source": [
        "**Example**\n",
        "- start with a strict query to find people associated with a movie and\n",
        "  any awards they may have won"
      ],
      "id": "d774227d"
    },
    {
      "cell_type": "code",
      "metadata": {
        "id": "d1cea397",
        "colab": {
          "base_uri": "https://localhost:8080/"
        },
        "outputId": "44858138-b87d-4114-82b0-c505fa90ba41"
      },
      "source": [
        "!kgtk query -i $GRAPH -i $FILMS -i $QUALS \\\n",
        "     --match  'graph: (p)-[:name]->(), \\\n",
        "               films: (f)-[:instance_of]->(:film), (f)-[]->(p), (f)-[ra:award]->(a), \\\n",
        "               quals: (ra)-[:winner]->(p)' \\\n",
        "     --return 'p as person, f as film, a as award'"
      ],
      "id": "d1cea397",
      "execution_count": 44,
      "outputs": [
        {
          "output_type": "stream",
          "name": "stdout",
          "text": [
            "person\tfilm\taward\n",
            "g_rydstrom\tterminator2_jd\tacademy-best-sound-editing\n",
            "g_borders\tterminator2_jd\tacademy-best-sound-editing\n"
          ]
        }
      ]
    },
    {
      "cell_type": "markdown",
      "metadata": {
        "id": "3f394b5d"
      },
      "source": [
        "- result only lists some of the people, since not all participants won awards\n",
        "- this makes us miss some potentially useful data\n",
        "- to make sure we retrieve all people associated with a movie and optionally\n",
        "  any awards they may have received, we can use this query:"
      ],
      "id": "3f394b5d"
    },
    {
      "cell_type": "code",
      "metadata": {
        "id": "7a03c50b",
        "colab": {
          "base_uri": "https://localhost:8080/"
        },
        "outputId": "02d00886-0c52-4120-b299-773590a49db1"
      },
      "source": [
        "!kgtk query -i $GRAPH -i $FILMS -i $QUALS \\\n",
        "     --match  'graph: (p)-[:name]->(), \\\n",
        "               films: (f)-[:instance_of]->(:film), (f)-[]->(p)' \\\n",
        "     --opt    'films: (f)-[ra:award]->(a), \\\n",
        "               quals: (ra)-[:winner]->(p)' \\\n",
        "     --return 'p as person, f as film, a as award'"
      ],
      "id": "7a03c50b",
      "execution_count": 45,
      "outputs": [
        {
          "output_type": "stream",
          "name": "stdout",
          "text": [
            "person\tfilm\taward\n",
            "a_schwarzenegger\tterminator2_jd\t\n",
            "l_hamilton\tterminator2_jd\t\n",
            "g_rydstrom\tterminator2_jd\tacademy-best-sound-editing\n",
            "g_borders\tterminator2_jd\tacademy-best-sound-editing\n"
          ]
        }
      ]
    },
    {
      "cell_type": "markdown",
      "metadata": {
        "id": "edf97278"
      },
      "source": [
        "- now we get all relevant people and missing awards are simply empty (or NULL)\n",
        "- note how edge qualifiers associate information to an edge ID (e.g., the winner of an award)\n",
        "- optional patterns are either fully satisfied for a set of bindings, or not at all,\n",
        "  there are no partial matches"
      ],
      "id": "edf97278"
    },
    {
      "cell_type": "markdown",
      "metadata": {
        "id": "5d1ab442"
      },
      "source": [
        "**Example**\n",
        "- multiple independent optional clauses to also get spouses and to filter awards\n",
        "  after 1990"
      ],
      "id": "5d1ab442"
    },
    {
      "cell_type": "code",
      "metadata": {
        "id": "20da4b70",
        "colab": {
          "base_uri": "https://localhost:8080/"
        },
        "outputId": "3ff7eac9-bb2a-4b13-bdac-050f1bf79f39"
      },
      "source": [
        "!kgtk query -i $GRAPH -i $FILMS -i $QUALS \\\n",
        "     --match  'graph: (p)-[:name]->(), \\\n",
        "               films: (f)-[:instance_of]->(:film), (f)-[]->(p)' \\\n",
        "     --opt    'films: (f)-[ra:award]->(a), \\\n",
        "               quals: (ra)-[:winner]->(p), (ra)-[:point_in_time]->(ad)' \\\n",
        "     --where  'ad >= 1990' \\\n",
        "     --opt    'graph: (s)-[:spouse]->(p)' \\\n",
        "     --return 'p as person, f as film, a as award, s as spouse'"
      ],
      "id": "20da4b70",
      "execution_count": 46,
      "outputs": [
        {
          "output_type": "stream",
          "name": "stdout",
          "text": [
            "person\tfilm\taward\tspouse\n",
            "a_schwarzenegger\tterminator2_jd\t\tm_shriver\n",
            "l_hamilton\tterminator2_jd\t\t\n",
            "g_rydstrom\tterminator2_jd\tacademy-best-sound-editing\t\n",
            "g_borders\tterminator2_jd\tacademy-best-sound-editing\t\n"
          ]
        }
      ]
    },
    {
      "cell_type": "markdown",
      "metadata": {
        "id": "3d137982"
      },
      "source": [
        "**Example**\n",
        "- compare that to the SQL produced"
      ],
      "id": "3d137982"
    },
    {
      "cell_type": "code",
      "metadata": {
        "id": "e04ba8cf",
        "colab": {
          "base_uri": "https://localhost:8080/"
        },
        "outputId": "ad4c9a28-51c3-42f9-a041-1d94b6f781aa"
      },
      "source": [
        "!kgtk --debug query -i $GRAPH -i $FILMS -i $QUALS \\\n",
        "     --match  'graph: (p)-[:name]->(), \\\n",
        "               films: (f)-[:instance_of]->(:film), (f)-[]->(p)' \\\n",
        "     --opt    'films: (f)-[ra:award]->(a), \\\n",
        "               quals: (ra)-[:winner]->(p), (ra)-[:point_in_time]->(ad)' \\\n",
        "     --where  'ad >= 1990' \\\n",
        "     --opt    'graph: (s)-[:spouse]->(p)' \\\n",
        "     --return 'p as person, f as film, a as award, s as spouse'"
      ],
      "id": "e04ba8cf",
      "execution_count": 47,
      "outputs": [
        {
          "output_type": "stream",
          "name": "stdout",
          "text": [
            "[2021-11-20 19:49:16 query]: SQL Translation:\n",
            "---------------------------------------------\n",
            "  SELECT graph_1_c1.\"node1\" \"_aLias.person\", graph_2_c2.\"node1\" \"_aLias.film\", graph_2_c4.\"node2\" \"_aLias.award\", graph_1_c7.\"node1\" \"_aLias.spouse\"\n",
            "     FROM graph_1 AS graph_1_c1\n",
            "     INNER JOIN graph_2 AS graph_2_c2, graph_2 AS graph_2_c3\n",
            "     ON graph_1_c1.\"node1\" = graph_2_c3.\"node2\"\n",
            "        AND graph_2_c2.\"node1\" = graph_2_c3.\"node1\"\n",
            "        AND graph_1_c1.\"label\" = ?\n",
            "        AND graph_2_c2.\"label\" = ?\n",
            "        AND graph_2_c2.\"node2\" = ?\n",
            "     LEFT JOIN (graph_2 AS graph_2_c4\n",
            "         INNER JOIN graph_3 AS graph_3_c5, graph_3 AS graph_3_c6\n",
            "         ON graph_2_c4.\"id\" = graph_3_c5.\"node1\"\n",
            "            AND graph_2_c4.\"id\" = graph_3_c6.\"node1\"\n",
            "            AND graph_2_c4.\"label\" = ?\n",
            "            AND graph_3_c5.\"label\" = ?\n",
            "            AND graph_3_c6.\"label\" = ?\n",
            "            AND (graph_3_c6.\"node2\" >= ?))\n",
            "     ON graph_1_c1.\"node1\" = graph_3_c5.\"node2\"\n",
            "        AND graph_2_c2.\"node1\" = graph_2_c4.\"node1\"\n",
            "     LEFT JOIN graph_1 AS graph_1_c7\n",
            "     ON graph_1_c1.\"node1\" = graph_1_c7.\"node2\"\n",
            "        AND graph_1_c7.\"label\" = ?\n",
            "  PARAS: ['name', 'instance_of', 'film', 'award', 'winner', 'point_in_time', 1990, 'spouse']\n",
            "---------------------------------------------\n",
            "person\tfilm\taward\tspouse\n",
            "a_schwarzenegger\tterminator2_jd\t\tm_shriver\n",
            "l_hamilton\tterminator2_jd\t\t\n",
            "g_rydstrom\tterminator2_jd\tacademy-best-sound-editing\t\n",
            "g_borders\tterminator2_jd\tacademy-best-sound-editing\t\n"
          ]
        }
      ]
    },
    {
      "cell_type": "markdown",
      "metadata": {
        "lines_to_next_cell": 2,
        "id": "8b7017cf"
      },
      "source": [
        "- see the manual for more examples\n",
        "- e.g., how to do `NOT EXISTS` with an optional clause"
      ],
      "id": "8b7017cf"
    },
    {
      "cell_type": "markdown",
      "metadata": {
        "id": "27883225"
      },
      "source": [
        "## Full-text search"
      ],
      "id": "27883225"
    },
    {
      "cell_type": "markdown",
      "metadata": {
        "id": "17fc223a"
      },
      "source": [
        "- Kypher supports efficient full-text search over large graph data via SQLite's FTS5 module\n",
        "- matching uses specialized indexes which can be created easily and efficiently"
      ],
      "id": "17fc223a"
    },
    {
      "cell_type": "markdown",
      "metadata": {
        "id": "bd6efd32"
      },
      "source": [
        "**Example**\n",
        "- we define a text index on the `node2` column of `GRAPH` and then use `textmatch` to match against `node2` values\n",
        "- multiple indexes can be defined on the same graph column, we can provide names to disambiguate\n",
        "- **minor caveat**: use of an older Python version requires us to provide extra index definition options,\n",
        "  since the default `trigram` tokenizer is currently only supported in Python 3.9 or later\n",
        "- match scores are negative with the best being the smallest (most negative) "
      ],
      "id": "bd6efd32"
    },
    {
      "cell_type": "code",
      "metadata": {
        "id": "d00ef3eb"
      },
      "source": [
        "!rm -f $KGTK_GRAPH_CACHE  # bug workaround"
      ],
      "id": "d00ef3eb",
      "execution_count": 48,
      "outputs": []
    },
    {
      "cell_type": "code",
      "metadata": {
        "lines_to_next_cell": 2,
        "id": "b5280356",
        "colab": {
          "base_uri": "https://localhost:8080/"
        },
        "outputId": "30c70a61-60c9-4fcc-f979-1faafa888ec8"
      },
      "source": [
        "!kgtk query -i $GRAPH --idx auto text:node2//name=myidx//tokenize=ascii//prefix=3 \\\n",
        "     --match '(x)-[r]->(y)' \\\n",
        "     --where 'textmatch(y, \"sch*\")' \\\n",
        "     --return 'x, r.label, y, matchscore(y) as score' \\\n",
        "     --order 'score'"
      ],
      "id": "b5280356",
      "execution_count": 49,
      "outputs": [
        {
          "output_type": "stream",
          "name": "stdout",
          "text": [
            "node1\tlabel\tnode2\tscore\n",
            "m_shriver\tspouse\ta_schwarzenegger\t-0.6991202559002525\n",
            "g_rydstrom\tcolleague\ta_schwarzenegger\t-0.6991202559002525\n",
            "a_schwarzenegger\tname\t'Arnold Schwarzenegger'@de\t-0.5994217687032093\n"
          ]
        }
      ]
    },
    {
      "cell_type": "markdown",
      "metadata": {
        "id": "c723779c"
      },
      "source": [
        "**Example**\n",
        "- `textmatch` patterns use a phrase-based language that allows\n",
        "  multi-word phrases, Boolean expressions, multi-column expressions, suffix patterns, etc. (see manual)\n",
        "- here is an example of a Boolean expression\n",
        "- note that the index only needs to be specified the first time around, repeating it is a no-op"
      ],
      "id": "c723779c"
    },
    {
      "cell_type": "code",
      "metadata": {
        "id": "8824450f",
        "colab": {
          "base_uri": "https://localhost:8080/"
        },
        "outputId": "1066aea5-8113-42d7-ab13-8f7d7180913d"
      },
      "source": [
        "!kgtk query -i $GRAPH \\\n",
        "     --match '(x)-[r]->(y)' \\\n",
        "     --where 'textmatch(y, \"sch* OR linda\")' \\\n",
        "     --return 'x, r.label, y, matchscore(y) as score' \\\n",
        "     --order 'score'"
      ],
      "id": "8824450f",
      "execution_count": 50,
      "outputs": [
        {
          "output_type": "stream",
          "name": "stdout",
          "text": [
            "node1\tlabel\tnode2\tscore\n",
            "l_hamilton\tname\t'Linda Hamilton'@en\t-1.6796313036328494\n",
            "m_shriver\tspouse\ta_schwarzenegger\t-0.6991202559002525\n",
            "g_rydstrom\tcolleague\ta_schwarzenegger\t-0.6991202559002525\n",
            "a_schwarzenegger\tname\t'Arnold Schwarzenegger'@de\t-0.5994217687032093\n"
          ]
        }
      ]
    },
    {
      "cell_type": "markdown",
      "metadata": {
        "id": "766202b2"
      },
      "source": [
        "The `trigram` tokenizer (available with Python 3.9) also supports\n",
        "case-insensitive SQL `LIKE` patterns and case-sensitive `GLOB`\n",
        "patterns (see manual)."
      ],
      "id": "766202b2"
    },
    {
      "cell_type": "markdown",
      "metadata": {
        "id": "84bc14e9"
      },
      "source": [
        "**Example**\n",
        "- text indexes can be qualified with their name to select between multiple options"
      ],
      "id": "84bc14e9"
    },
    {
      "cell_type": "code",
      "metadata": {
        "id": "c21dada9",
        "colab": {
          "base_uri": "https://localhost:8080/"
        },
        "outputId": "49df811e-ef9d-40c0-99af-8c6dd4e16dbc"
      },
      "source": [
        "!kgtk query -i $GRAPH \\\n",
        "     --match '(x)-[r]->(y)' \\\n",
        "     --where 'textmatch(myidx.y, \"schw*\")' \\\n",
        "     --return 'x, r.label, y, matchscore(myidx.y) as score' \\\n",
        "     --order 'score'"
      ],
      "id": "c21dada9",
      "execution_count": 51,
      "outputs": [
        {
          "output_type": "stream",
          "name": "stdout",
          "text": [
            "node1\tlabel\tnode2\tscore\n",
            "m_shriver\tspouse\ta_schwarzenegger\t-0.6991202559002525\n",
            "g_rydstrom\tcolleague\ta_schwarzenegger\t-0.6991202559002525\n",
            "a_schwarzenegger\tname\t'Arnold Schwarzenegger'@de\t-0.5994217687032093\n"
          ]
        }
      ]
    },
    {
      "cell_type": "markdown",
      "metadata": {
        "id": "515437d9"
      },
      "source": [
        "**Example**\n",
        "- a text index may index more than one column\n",
        "- then the text match expression can use column-specific filters"
      ],
      "id": "515437d9"
    },
    {
      "cell_type": "code",
      "metadata": {
        "id": "e223c619",
        "colab": {
          "base_uri": "https://localhost:8080/"
        },
        "outputId": "002bffd9-c0a4-42a1-b4d4-cbb90df39b79"
      },
      "source": [
        "!kgtk query -i $GRAPH --idx auto text:node1,node2//name=multi//tokenize=ascii//prefix=3 \\\n",
        "     --match '(x)-[r]->(y)' \\\n",
        "     --where 'textmatch(multi.r, \"node1: g* AND node2 : borders\")' \\\n",
        "     --return 'x, r.label, y, matchscore(multi.r) as score' \\\n",
        "     --order 'score'"
      ],
      "id": "e223c619",
      "execution_count": 52,
      "outputs": [
        {
          "output_type": "stream",
          "name": "stdout",
          "text": [
            "node1\tlabel\tnode2\tscore\n",
            "g_rydstrom\tcolleague\tg_borders\t-1.391983808592556\n",
            "g_borders\tname\t'Gloria S. Borders'@en\t-1.1761930172126576\n"
          ]
        }
      ]
    },
    {
      "cell_type": "code",
      "metadata": {
        "lines_to_next_cell": 2,
        "id": "aa5b9961",
        "colab": {
          "base_uri": "https://localhost:8080/"
        },
        "outputId": "a1bde898-f8db-4d3c-88d8-ea22a545885f"
      },
      "source": [
        "!kgtk query -i $GRAPH \\\n",
        "     --match '(x)-[r]->(y)' \\\n",
        "     --where 'textmatch(multi.r, \"node1: g* NOT node2 : borders\")' \\\n",
        "     --return 'x, r.label, y, matchscore(multi.r) as score' \\\n",
        "     --order 'score'"
      ],
      "id": "aa5b9961",
      "execution_count": 53,
      "outputs": [
        {
          "output_type": "stream",
          "name": "stdout",
          "text": [
            "node1\tlabel\tnode2\tscore\n",
            "g_rydstrom\tcolleague\ta_schwarzenegger\t-0.2149880837001077\n",
            "g_rydstrom\tname\t'Gary R. Rydstrom'@en\t-0.18165978747100012\n"
          ]
        }
      ]
    },
    {
      "cell_type": "markdown",
      "metadata": {
        "id": "f639e370"
      },
      "source": [
        "## Input and output specification options"
      ],
      "id": "f639e370"
    },
    {
      "cell_type": "markdown",
      "metadata": {
        "id": "6d2198c1"
      },
      "source": [
        "```\n",
        "  -i INPUT_FILE [INPUT_FILE ...], --input-files INPUT_FILE [INPUT_FILE ...]\n",
        "                        One or more input files to query (maybe compressed).\n",
        "                        (Required, use '-' for stdin.)\n",
        "  --as NAME             alias name to be used for preceding input\n",
        "  --comment COMMENT     comment string to store for the preceding input\n",
        "                        (displayed by --show-cache)\n",
        "  --no-header           do not generate a header row with column names\n",
        "  -o OUTPUT, --out OUTPUT\n",
        "                        output file to write to, if `-' (the default) output\n",
        "                        goes to stdout. Files with extensions .gz, .bz2 or .xz\n",
        "                        will be appropriately compressed.\n",
        "```"
      ],
      "id": "6d2198c1"
    },
    {
      "cell_type": "markdown",
      "metadata": {
        "id": "ef7fdcd3"
      },
      "source": [
        "**Example**"
      ],
      "id": "ef7fdcd3"
    },
    {
      "cell_type": "code",
      "metadata": {
        "lines_to_next_cell": 2,
        "id": "7fb32f69"
      },
      "source": [
        "!kgtk query -i $GRAPH -i $FILMS --as works --comment 'Film information' --no-header \\\n",
        "     --match 'graph: (x)-[]->(y), works: (f)-[r]->(x)' \\\n",
        "     --return 'r, f, r.label, x' \\\n",
        "     -o $TEMP/example-query.tsv.gz"
      ],
      "id": "7fb32f69",
      "execution_count": 54,
      "outputs": []
    },
    {
      "cell_type": "code",
      "metadata": {
        "id": "UxoCDpLh2mA5",
        "colab": {
          "base_uri": "https://localhost:8080/"
        },
        "outputId": "fb9e6c0f-72d7-4420-f17d-32dee0c130d7"
      },
      "source": [
        "!cat $TEMP/example-query.tsv.gz"
      ],
      "id": "UxoCDpLh2mA5",
      "execution_count": 55,
      "outputs": [
        {
          "output_type": "stream",
          "name": "stdout",
          "text": [
            "\u001f�\b\b@Q�a\u0002�example-query.tsv\u0000��K\n",
            "�0\f\u0005�u{\u001c��mBlC��\u0003�����\u0000*�p?��Ѩ ��Z1��㦆���3N)\u0012���W��\u001c��@k�\u00174��\u000b�ᛢ����M�q�Ik�\u0017\u0000\u0000\u0000��\u0003\u0000v#\fx�\u0000\u0000\u0000"
          ]
        }
      ]
    },
    {
      "cell_type": "markdown",
      "metadata": {
        "id": "e62f7dca"
      },
      "source": [
        "## Graph cache"
      ],
      "id": "e62f7dca"
    },
    {
      "cell_type": "markdown",
      "metadata": {
        "id": "ed49d72e"
      },
      "source": [
        "- when input files are queries they are first imported into SQLite database tables\n",
        "- this is very fast but can be noticable for larger data\n",
        "- import of WD claims file with 1B edges (~16 GB compressed) takes 20 minutes on laptop\n",
        "- resulting database is cached into a *graph cache* to amortize this over multiple queries\n",
        "- indexes built to speed up queries or text search are also cached\n",
        "- if data change is detected, data will be re-imported and re-indexed automatically"
      ],
      "id": "ed49d72e"
    },
    {
      "cell_type": "markdown",
      "metadata": {
        "id": "cf1e0351"
      },
      "source": [
        "- location of the cache file can be controlled with `--graph-cache FILE` or the `KGTK_GRAPH_CACHE`\n",
        "  environment variable\n",
        "- otherwise a default location in `/tmp` will be used"
      ],
      "id": "cf1e0351"
    },
    {
      "cell_type": "markdown",
      "metadata": {
        "id": "5168ef96"
      },
      "source": [
        "- cache is a *true cache*, that is it is safe to delete it and it will be rebuilt automatically\n",
        "  (as long as the relevant data files are still available)\n",
        "- however, we increasingly find cases where the cache is explicitly managed, for example,\n",
        "  to support the browser or to ship large data to somebody else\n",
        "- cache files can become very large and should be on an SSD drive for best performance"
      ],
      "id": "5168ef96"
    },
    {
      "cell_type": "markdown",
      "metadata": {
        "id": "b5e9f195"
      },
      "source": [
        "**Example**\n",
        "- display the current content of the cache with `--show-cache`"
      ],
      "id": "b5e9f195"
    },
    {
      "cell_type": "code",
      "metadata": {
        "lines_to_next_cell": 2,
        "id": "ee45124d",
        "colab": {
          "base_uri": "https://localhost:8080/"
        },
        "outputId": "91bdf249-c6ef-4690-aabf-d938f1d4f999"
      },
      "source": [
        "!kgtk query --show-cache"
      ],
      "id": "ee45124d",
      "execution_count": 56,
      "outputs": [
        {
          "output_type": "stream",
          "name": "stdout",
          "text": [
            "Graph Cache:\n",
            "DB file: /tmp/projects/tutorial-kypher/temp.tutorial-kypher/wikidata.sqlite3.db\n",
            "  size:  72.00 KB   \tfree:  0 Bytes   \tmodified:  2021-11-20 19:49:20\n",
            "\n",
            "KGTK File Information:\n",
            "/root/isi-kgtk-tutorial/input/small-graph.tsv:\n",
            "  size:  382 Bytes   \tmodified:  2021-11-20 19:48:47   \tgraph:  graph_1\n",
            "works:\n",
            "  size:  590 Bytes   \tmodified:  2021-11-20 19:48:48   \tgraph:  graph_2\n",
            "  comment:  Film information\n",
            "\n",
            "Graph Table Information:\n",
            "graph_1:\n",
            "  size:  40.00 KB   \tcreated:  2021-11-20 19:49:17\n",
            "  header:  ['id', 'node1', 'label', 'node2']\n",
            "graph_2:\n",
            "  size:  12.00 KB   \tcreated:  2021-11-20 19:49:20\n",
            "  header:  ['id', 'node1', 'label', 'node2']\n"
          ]
        }
      ]
    },
    {
      "cell_type": "markdown",
      "metadata": {
        "id": "18ec64d4"
      },
      "source": [
        "## Defining and using custom functions"
      ],
      "id": "18ec64d4"
    },
    {
      "cell_type": "markdown",
      "metadata": {
        "id": "b87f16f5"
      },
      "source": [
        "- when provided built-in functions are not enough, custom functions can be executed via Python"
      ],
      "id": "b87f16f5"
    },
    {
      "cell_type": "markdown",
      "metadata": {
        "id": "ca613f46"
      },
      "source": [
        "**Example**\n",
        "- perform some random modifications on the `GRAPH` data\n",
        "- note that values returned by `pyeval` and `pycall` must be simple literals"
      ],
      "id": "ca613f46"
    },
    {
      "cell_type": "code",
      "metadata": {
        "lines_to_next_cell": 2,
        "id": "d6032d24",
        "colab": {
          "base_uri": "https://localhost:8080/"
        },
        "outputId": "fd27a4ec-04c6-47db-cd6c-fee815740674"
      },
      "source": [
        "!kgtk query -i $GRAPH --import 'uuid, math as m' \\\n",
        "     --match '(x)-[r:name]->(y)' \\\n",
        "     --where 'kgtk_lqstring(y)' \\\n",
        "     --return 'y as name, \\\n",
        "               pyeval(printf($FMT, y)) as swapname, \\\n",
        "               pycall(\"m.fmod\", length(y), 2) as isodd, \\\n",
        "               pycall(\"uuid.uuid4\") as uuid' \\\n",
        "     --para FMT='\"%s\".swapcase()'"
      ],
      "id": "d6032d24",
      "execution_count": 57,
      "outputs": [
        {
          "output_type": "stream",
          "name": "stdout",
          "text": [
            "name\tswapname\tisodd\tuuid\n",
            "'Arnold Schwarzenegger'@de\t'aRNOLD sCHWARZENEGGER'@DE\t0.0\t43f1a5f8-5661-4227-bfb2-ed2207f05766\n",
            "'Linda Hamilton'@en\t'lINDA hAMILTON'@EN\t1.0\tb6c40744-98b3-4162-94e8-e6436be4cf85\n",
            "'Gary R. Rydstrom'@en\t'gARY r. rYDSTROM'@EN\t1.0\tc86588d6-d524-41f2-a10e-877c1c0418c0\n",
            "'Gloria S. Borders'@en\t'gLORIA s. bORDERS'@EN\t0.0\t5991ed93-9462-4a9f-b422-b4425880dab7\n",
            "'Maria Shriver'@en\t'mARIA sHRIVER'@EN\t0.0\t7c44a930-0eaa-4d19-b08f-4545f7a62577\n"
          ]
        }
      ]
    },
    {
      "cell_type": "markdown",
      "metadata": {
        "id": "2d53abb0"
      },
      "source": [
        "## Debugging"
      ],
      "id": "2d53abb0"
    },
    {
      "cell_type": "markdown",
      "metadata": {
        "id": "7e2fee34"
      },
      "source": [
        "**Example**\n",
        "- `query` accepts the `--debug` and `--expert` options to show additional output\n",
        "- this shows query translation, data import and indexing, etc.\n",
        "- here we can see how built-in functions are called directly in SQL:"
      ],
      "id": "7e2fee34"
    },
    {
      "cell_type": "code",
      "metadata": {
        "lines_to_next_cell": 2,
        "id": "9c61736f",
        "colab": {
          "base_uri": "https://localhost:8080/"
        },
        "outputId": "123a157e-b786-4f61-bb8e-d6515aa4fa8b"
      },
      "source": [
        "!rm -f $KGTK_GRAPH_CACHE\n",
        "\n",
        "!kgtk --debug query -i $GRAPH \\\n",
        "     --match '(p)-[r:name]->(n)' \\\n",
        "     --where 'n.kgtk_lqstring_lang = \"de\"'"
      ],
      "id": "9c61736f",
      "execution_count": 58,
      "outputs": [
        {
          "output_type": "stream",
          "name": "stdout",
          "text": [
            "[2021-11-20 19:49:23 sqlstore]: IMPORT graph via csv.reader into table graph_1 from /root/isi-kgtk-tutorial/input/small-graph.tsv ...\n",
            "[2021-11-20 19:49:23 query]: SQL Translation:\n",
            "---------------------------------------------\n",
            "  SELECT *\n",
            "     FROM graph_1 AS graph_1_c1\n",
            "     WHERE graph_1_c1.\"label\" = ?\n",
            "        AND (kgtk_lqstring_lang(graph_1_c1.\"node2\") = ?)\n",
            "  PARAS: ['name', 'de']\n",
            "---------------------------------------------\n",
            "[2021-11-20 19:49:23 sqlstore]: CREATE INDEX \"graph_1_label_idx\" ON \"graph_1\" (\"label\")\n",
            "[2021-11-20 19:49:23 sqlstore]: ANALYZE \"graph_1_label_idx\"\n",
            "id\tnode1\tlabel\tnode2\n",
            "e5\ta_schwarzenegger\tname\t'Arnold Schwarzenegger'@de\n"
          ]
        }
      ]
    },
    {
      "cell_type": "markdown",
      "metadata": {
        "id": "c0f3bd4a"
      },
      "source": [
        "- run it again to show how imported data and indexes are reused"
      ],
      "id": "c0f3bd4a"
    },
    {
      "cell_type": "code",
      "metadata": {
        "lines_to_next_cell": 2,
        "id": "a0272483",
        "colab": {
          "base_uri": "https://localhost:8080/"
        },
        "outputId": "6bcf35de-d004-4b91-80af-4fa1f427f3eb"
      },
      "source": [
        "!kgtk --debug query -i $GRAPH \\\n",
        "     --match '(p)-[r:name]->(n)' \\\n",
        "     --where 'n.kgtk_lqstring_lang = \"de\"'"
      ],
      "id": "a0272483",
      "execution_count": 59,
      "outputs": [
        {
          "output_type": "stream",
          "name": "stdout",
          "text": [
            "[2021-11-20 19:49:23 query]: SQL Translation:\n",
            "---------------------------------------------\n",
            "  SELECT *\n",
            "     FROM graph_1 AS graph_1_c1\n",
            "     WHERE graph_1_c1.\"label\" = ?\n",
            "        AND (kgtk_lqstring_lang(graph_1_c1.\"node2\") = ?)\n",
            "  PARAS: ['name', 'de']\n",
            "---------------------------------------------\n",
            "id\tnode1\tlabel\tnode2\n",
            "e5\ta_schwarzenegger\tname\t'Arnold Schwarzenegger'@de\n"
          ]
        }
      ]
    },
    {
      "cell_type": "markdown",
      "metadata": {
        "id": "f57eb238"
      },
      "source": [
        "## Querying based on edge qualifiers"
      ],
      "id": "f57eb238"
    },
    {
      "cell_type": "markdown",
      "metadata": {
        "id": "cc83ef1c"
      },
      "source": [
        "- one of the motivations for developing Kypher was the \"Wikidata time machine use case\"\n",
        "- find all statements with temporal annotations after a certain time and remove them\n",
        "  to only retain facts known before that time\n",
        "- in Wikidata temporal annotations are attached via edge qualifiers\n",
        "- in KGTK those are represented via edges linked to another edge's ID"
      ],
      "id": "cc83ef1c"
    },
    {
      "cell_type": "markdown",
      "metadata": {
        "id": "19f71825"
      },
      "source": [
        "**Example**\n",
        "1. look for base edges in the `GRAPH` graph\n",
        "2. link to qualifiers in the `QUALS` graph via edge id `r`\n",
        "3. restrict the qualifiers based on edge labels\n",
        "   `ql` that are listed in the `PROPS` graph\n",
        "4. restrict to edges that have a time with year of at most 2000\n",
        "5. output the qualifying base edges with their temporal annotations"
      ],
      "id": "19f71825"
    },
    {
      "cell_type": "code",
      "metadata": {
        "id": "4c70b1bd",
        "colab": {
          "base_uri": "https://localhost:8080/"
        },
        "outputId": "aacba5c3-0ea9-4766-83a9-9a286c36f033"
      },
      "source": [
        "!kgtk query -i $QUALS"
      ],
      "id": "4c70b1bd",
      "execution_count": 60,
      "outputs": [
        {
          "output_type": "stream",
          "name": "stdout",
          "text": [
            "id\tnode1\tlabel\tnode2\n",
            "q1\tt5\trole\tterminator\n",
            "q2\tt6\trole\ts_connor\n",
            "q3\tt9\tpoint_in_time\t^1992-03-30T00:00:00Z/11\n",
            "q4 \tt9\twinner\tg_rydstrom\n",
            "q5 \tt9\twinner\tg_borders\n",
            "q6 \tt10\tlocation\tunited_states\n",
            "q8 \tt11\tlocation\trussia\n",
            "q9\te1\tstart\t^1986-04-26T08:00:00Z/11\n",
            "q10\te1\tend\t^2011-07-01T10:00:00Z/11\n"
          ]
        }
      ]
    },
    {
      "cell_type": "code",
      "metadata": {
        "id": "af9b03bc",
        "colab": {
          "base_uri": "https://localhost:8080/"
        },
        "outputId": "bfd05248-a301-4c86-ce90-5300eada81d6"
      },
      "source": [
        "!kgtk query -i $PROPS"
      ],
      "id": "af9b03bc",
      "execution_count": 61,
      "outputs": [
        {
          "output_type": "stream",
          "name": "stdout",
          "text": [
            "id\tnode1\tlabel\tnode2\n",
            "p11\tstart\tmember\tset1\n",
            "p12\tend\tmember\tset1\n",
            "p12\tpoint_in_time\tmember\tset1\n"
          ]
        }
      ]
    },
    {
      "cell_type": "markdown",
      "metadata": {
        "id": "cd7867ea"
      },
      "source": [
        "- the crucial part of the query below is how we use the `id` of the base edge `r` as the `node1` of the qualifier edge `q` whose label `ql` has to be one of the properties listed in `PROPS`\n",
        "- we also need to use Kypher property syntax to introduce the match variable `ql`"
      ],
      "id": "cd7867ea"
    },
    {
      "cell_type": "code",
      "metadata": {
        "lines_to_next_cell": 2,
        "id": "a96b0621",
        "colab": {
          "base_uri": "https://localhost:8080/"
        },
        "outputId": "f01d169b-4466-43d9-b73d-a9b01a6d9c3f"
      },
      "source": [
        "!kgtk query -i $GRAPH -i $QUALS -i $PROPS  \\\n",
        "     --match \"graph: (x)-[r]->(y),  \\\n",
        "              quals: (r)-[q {label: ql}]->(time), \\\n",
        "              props: (ql)-[]->()\" \\\n",
        "     --where \"time.kgtk_date_year <= 2000\" \\\n",
        "     --return \"r as id, x, r.label, y, ql as trel, time as time\""
      ],
      "id": "a96b0621",
      "execution_count": 62,
      "outputs": [
        {
          "output_type": "stream",
          "name": "stdout",
          "text": [
            "id\tnode1\tlabel\tnode2\ttrel\ttime\n",
            "e1\tm_shriver\tspouse\ta_schwarzenegger\tstart\t^1986-04-26T08:00:00Z/11\n"
          ]
        }
      ]
    },
    {
      "cell_type": "markdown",
      "metadata": {
        "id": "16b1ac79"
      },
      "source": [
        "## Further reading"
      ],
      "id": "16b1ac79"
    },
    {
      "cell_type": "markdown",
      "metadata": {
        "id": "b87e6aa7"
      },
      "source": [
        "- [Kypher manual](https://github.com/usc-isi-i2/kgtk/blob/dev/docs/transform/query.md)\n",
        "  - [Kypher vs. Cypher and unfinished features](https://github.com/usc-isi-i2/kgtk/blob/dev/docs/transform/query.md#differences-to-cypher)\n",
        "  - [Kypher API](https://github.com/usc-isi-i2/kgtk/blob/dev/kgtk/kypher/api.py)\n",
        "- [KGTK manual](https://kgtk.readthedocs.io/en/dev/)\n",
        "- [KGTK data model](https://kgtk.readthedocs.io/en/dev/data_model/)\n",
        "- [KGTK GitHub site](https://github.com/usc-isi-i2/kgtk)\n",
        "- [KGTK Tutorial use cases](https://github.com/usc-isi-i2/kgtk-notebooks/tree/main/tutorial)\n",
        "- [KGTK use cases](https://github.com/usc-isi-i2/kgtk/tree/dev/use-cases)\n",
        "- [openCypher](https://www.opencypher.org/)\n",
        "- [Cypher](https://neo4j.com/developer/cypher/)"
      ],
      "id": "b87e6aa7"
    }
  ]
}