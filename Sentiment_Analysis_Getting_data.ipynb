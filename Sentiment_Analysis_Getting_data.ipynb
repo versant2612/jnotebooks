{
  "nbformat": 4,
  "nbformat_minor": 0,
  "metadata": {
    "colab": {
      "name": "Sentiment Analysis - Getting data.ipynb",
      "provenance": [],
      "include_colab_link": true
    },
    "kernelspec": {
      "name": "python3",
      "display_name": "Python 3"
    },
    "accelerator": "GPU"
  },
  "cells": [
    {
      "cell_type": "markdown",
      "metadata": {
        "id": "view-in-github",
        "colab_type": "text"
      },
      "source": [
        "<a href=\"https://colab.research.google.com/github/versant2612/jnotebooks/blob/main/Sentiment_Analysis_Getting_data.ipynb\" target=\"_parent\"><img src=\"https://colab.research.google.com/assets/colab-badge.svg\" alt=\"Open In Colab\"/></a>"
      ]
    },
    {
      "cell_type": "markdown",
      "metadata": {
        "id": "y4ICpNayURhv"
      },
      "source": [
        "### Data Scraping"
      ]
    },
    {
      "cell_type": "code",
      "metadata": {
        "colab": {
          "base_uri": "https://localhost:8080/"
        },
        "id": "hhjGIJPwT4jD",
        "outputId": "8786de6e-aa31-49af-b34b-02aac34233fa"
      },
      "source": [
        "#Install Google play scraper: https://github.com/JoMingyu/google-play-scraper\n",
        "!pip install google_play_scraper"
      ],
      "execution_count": null,
      "outputs": [
        {
          "output_type": "stream",
          "name": "stdout",
          "text": [
            "Collecting google_play_scraper\n",
            "  Downloading google-play-scraper-1.0.2.tar.gz (52 kB)\n",
            "\u001b[?25l\r\u001b[K     |██████▏                         | 10 kB 22.6 MB/s eta 0:00:01\r\u001b[K     |████████████▍                   | 20 kB 26.2 MB/s eta 0:00:01\r\u001b[K     |██████████████████▋             | 30 kB 11.9 MB/s eta 0:00:01\r\u001b[K     |████████████████████████▉       | 40 kB 9.4 MB/s eta 0:00:01\r\u001b[K     |███████████████████████████████ | 51 kB 5.4 MB/s eta 0:00:01\r\u001b[K     |████████████████████████████████| 52 kB 1.1 MB/s \n",
            "\u001b[?25hBuilding wheels for collected packages: google-play-scraper\n",
            "  Building wheel for google-play-scraper (setup.py) ... \u001b[?25l\u001b[?25hdone\n",
            "  Created wheel for google-play-scraper: filename=google_play_scraper-1.0.2-py3-none-any.whl size=24393 sha256=c85a8853695c37e8aeca7d015b4af5545623cc729aab5d072e2f2bc27786b841\n",
            "  Stored in directory: /root/.cache/pip/wheels/98/99/eb/bbb9d24a5c526980647efc10336eaaeffcf07749f581111128\n",
            "Successfully built google-play-scraper\n",
            "Installing collected packages: google-play-scraper\n",
            "Successfully installed google-play-scraper-1.0.2\n"
          ]
        }
      ]
    },
    {
      "cell_type": "code",
      "metadata": {
        "id": "XE2MTH-7TvNm"
      },
      "source": [
        "import json\n",
        "import pandas as pd\n",
        "from tqdm import tqdm\n",
        "\n",
        "import seaborn as sns\n",
        "import matplotlib.pyplot as plt\n",
        "\n",
        "from pygments import highlight\n",
        "from pygments.lexers import JsonLexer\n",
        "from pygments.formatters import TerminalFormatter\n",
        "\n",
        "from google_play_scraper import Sort, reviews, app\n",
        "\n",
        "%matplotlib inline\n",
        "%config InlineBackend.figure_format='retina'\n",
        "\n",
        "sns.set(style='whitegrid', palette='muted', font_scale=1.2)"
      ],
      "execution_count": null,
      "outputs": []
    },
    {
      "cell_type": "markdown",
      "metadata": {
        "id": "Ivhl7kSGUEGR"
      },
      "source": [
        "#### Top 10 Food and Drinks Apps in Brazil (09/21/2021)\n",
        "\n",
        "1. iFodd ⇒ br.com.brainweb.ifood\n",
        "\n",
        "2. Zé delivery ⇒ com.cerveceriamodelo.modelonow\n",
        "\n",
        "3. McDonald's ⇒ com.mcdo.mcdonalds\n",
        "\n",
        "4. Habibi's ⇒ habibs.alphacode.com.br\n",
        "\n",
        "5. 99Food ⇒ com.xiaojukeji.didi.brazil.customer\n",
        "\n",
        "6. Uber Eats ⇒ com.ubercab.eats\n",
        "\n",
        "7. Rappi ⇒ com.grability.rappi\n",
        "\n",
        "8. Burker King ⇒ burgerking.com.br.appandroid\n",
        "\n",
        "9. Madero ⇒ br.com.Madero\n",
        "\n",
        "10. Aiqfome ⇒ com.vanuatu.aiqfome\n",
        "\n",
        "Source: https://www.appannie.com/"
      ]
    },
    {
      "cell_type": "code",
      "metadata": {
        "id": "bNfxsZbfT1M8"
      },
      "source": [
        "apps_ids = ['br.com.brainweb.ifood', 'com.cerveceriamodelo.modelonow',\n",
        "\n",
        "'com.mcdo.mcdonalds', 'habibs.alphacode.com.br',\n",
        "\n",
        "'com.xiaojukeji.didi.brazil.customer',\n",
        "\n",
        "'com.ubercab.eats', 'com.grability.rappi',\n",
        "\n",
        "'burgerking.com.br.appandroid', 'br.com.Madero',\n",
        "\n",
        "'com.vanuatu.aiqfome']"
      ],
      "execution_count": null,
      "outputs": []
    },
    {
      "cell_type": "markdown",
      "metadata": {
        "id": "lJcV4fGKWKub"
      },
      "source": [
        "Scraping data for each app"
      ]
    },
    {
      "cell_type": "code",
      "metadata": {
        "colab": {
          "base_uri": "https://localhost:8080/"
        },
        "id": "7KHikUDCWM0E",
        "outputId": "d2c07629-9b52-4cb8-cdc2-4997f57acbec"
      },
      "source": [
        "app_infos = []\n",
        "\n",
        "for ap in tqdm(apps_ids):\n",
        "    info = app(ap, lang='en', country='us')\n",
        "    del info['comments']\n",
        "    app_infos.append(info)"
      ],
      "execution_count": null,
      "outputs": [
        {
          "output_type": "stream",
          "name": "stderr",
          "text": [
            "100%|██████████| 10/10 [00:02<00:00,  4.49it/s]\n"
          ]
        }
      ]
    },
    {
      "cell_type": "code",
      "metadata": {
        "colab": {
          "base_uri": "https://localhost:8080/",
          "height": 598
        },
        "id": "5oZHhlKmWN5Y",
        "outputId": "16c14c13-9bda-46f3-e928-c7f19924b0d2"
      },
      "source": [
        "app_infos_df = pd.DataFrame(app_infos)\n",
        "app_infos_df.head()"
      ],
      "execution_count": null,
      "outputs": [
        {
          "output_type": "execute_result",
          "data": {
            "text/html": [
              "<div>\n",
              "<style scoped>\n",
              "    .dataframe tbody tr th:only-of-type {\n",
              "        vertical-align: middle;\n",
              "    }\n",
              "\n",
              "    .dataframe tbody tr th {\n",
              "        vertical-align: top;\n",
              "    }\n",
              "\n",
              "    .dataframe thead th {\n",
              "        text-align: right;\n",
              "    }\n",
              "</style>\n",
              "<table border=\"1\" class=\"dataframe\">\n",
              "  <thead>\n",
              "    <tr style=\"text-align: right;\">\n",
              "      <th></th>\n",
              "      <th>title</th>\n",
              "      <th>description</th>\n",
              "      <th>descriptionHTML</th>\n",
              "      <th>summary</th>\n",
              "      <th>summaryHTML</th>\n",
              "      <th>installs</th>\n",
              "      <th>minInstalls</th>\n",
              "      <th>score</th>\n",
              "      <th>ratings</th>\n",
              "      <th>reviews</th>\n",
              "      <th>histogram</th>\n",
              "      <th>price</th>\n",
              "      <th>free</th>\n",
              "      <th>currency</th>\n",
              "      <th>sale</th>\n",
              "      <th>saleTime</th>\n",
              "      <th>originalPrice</th>\n",
              "      <th>saleText</th>\n",
              "      <th>offersIAP</th>\n",
              "      <th>inAppProductPrice</th>\n",
              "      <th>size</th>\n",
              "      <th>androidVersion</th>\n",
              "      <th>androidVersionText</th>\n",
              "      <th>developer</th>\n",
              "      <th>developerId</th>\n",
              "      <th>developerEmail</th>\n",
              "      <th>developerWebsite</th>\n",
              "      <th>developerAddress</th>\n",
              "      <th>privacyPolicy</th>\n",
              "      <th>developerInternalID</th>\n",
              "      <th>genre</th>\n",
              "      <th>genreId</th>\n",
              "      <th>icon</th>\n",
              "      <th>headerImage</th>\n",
              "      <th>screenshots</th>\n",
              "      <th>video</th>\n",
              "      <th>videoImage</th>\n",
              "      <th>contentRating</th>\n",
              "      <th>contentRatingDescription</th>\n",
              "      <th>adSupported</th>\n",
              "      <th>containsAds</th>\n",
              "      <th>released</th>\n",
              "      <th>updated</th>\n",
              "      <th>version</th>\n",
              "      <th>recentChanges</th>\n",
              "      <th>recentChangesHTML</th>\n",
              "      <th>editorsChoice</th>\n",
              "      <th>similarApps</th>\n",
              "      <th>moreByDeveloper</th>\n",
              "      <th>appId</th>\n",
              "      <th>url</th>\n",
              "    </tr>\n",
              "  </thead>\n",
              "  <tbody>\n",
              "    <tr>\n",
              "      <th>0</th>\n",
              "      <td>iFood Delivery de Comida</td>\n",
              "      <td>Baixe o app e peça sua comida no iFood. Aqui v...</td>\n",
              "      <td>Baixe o app e peça sua comida no iFood. Aqui v...</td>\n",
              "      <td>Delivery of grocery orders &amp; restaurant food i...</td>\n",
              "      <td>Delivery of grocery orders &amp;amp; restaurant fo...</td>\n",
              "      <td>50,000,000+</td>\n",
              "      <td>50000000</td>\n",
              "      <td>4.765971</td>\n",
              "      <td>7372114</td>\n",
              "      <td>1167238</td>\n",
              "      <td>[100055, 36104, 202501, 811749, 6221705]</td>\n",
              "      <td>0</td>\n",
              "      <td>True</td>\n",
              "      <td>USD</td>\n",
              "      <td>False</td>\n",
              "      <td>None</td>\n",
              "      <td>None</td>\n",
              "      <td>None</td>\n",
              "      <td>False</td>\n",
              "      <td>None</td>\n",
              "      <td>75M</td>\n",
              "      <td>5.0</td>\n",
              "      <td>5.0 and up</td>\n",
              "      <td>iFood Delivery de Comida e Mercado</td>\n",
              "      <td>iFood+Delivery+de+Comida+e+Mercado</td>\n",
              "      <td>ifood@ifood.com.br</td>\n",
              "      <td>http://www.ifood.com.br</td>\n",
              "      <td>None</td>\n",
              "      <td>https://institucional.ifood.com.br/abrindo-a-c...</td>\n",
              "      <td>7021917525281657200</td>\n",
              "      <td>Food &amp; Drink</td>\n",
              "      <td>FOOD_AND_DRINK</td>\n",
              "      <td>https://play-lh.googleusercontent.com/1Y_VGOwY...</td>\n",
              "      <td>https://play-lh.googleusercontent.com/Faula1rT...</td>\n",
              "      <td>[https://play-lh.googleusercontent.com/mp4veJL...</td>\n",
              "      <td>None</td>\n",
              "      <td>None</td>\n",
              "      <td>Everyone</td>\n",
              "      <td>None</td>\n",
              "      <td>None</td>\n",
              "      <td>False</td>\n",
              "      <td>Apr 25, 2012</td>\n",
              "      <td>1631556201</td>\n",
              "      <td>9.120.0</td>\n",
              "      <td>Olá, fã de comida boa! Esta versão não traz gr...</td>\n",
              "      <td>Olá, fã de comida boa! Esta versão não traz gr...</td>\n",
              "      <td>False</td>\n",
              "      <td>[com.mercadopago.wallet, com.wabi.customer, co...</td>\n",
              "      <td>[global.maplink.and_pru]</td>\n",
              "      <td>br.com.brainweb.ifood</td>\n",
              "      <td>https://play.google.com/store/apps/details?id=...</td>\n",
              "    </tr>\n",
              "    <tr>\n",
              "      <th>1</th>\n",
              "      <td>Zé Delivery de Bebidas - Gelada a Preço de Mer...</td>\n",
              "      <td>Zé Delivery: o maior app de bebidas do país! \\...</td>\n",
              "      <td>Zé Delivery: o maior app de bebidas do país! &lt;...</td>\n",
              "      <td>Cold drinks delivery with fast delivery and lo...</td>\n",
              "      <td>Cold drinks delivery with fast delivery and lo...</td>\n",
              "      <td>5,000,000+</td>\n",
              "      <td>5000000</td>\n",
              "      <td>4.879586</td>\n",
              "      <td>392640</td>\n",
              "      <td>186472</td>\n",
              "      <td>[6596, 1135, 2916, 11655, 370338]</td>\n",
              "      <td>0</td>\n",
              "      <td>True</td>\n",
              "      <td>USD</td>\n",
              "      <td>False</td>\n",
              "      <td>None</td>\n",
              "      <td>None</td>\n",
              "      <td>None</td>\n",
              "      <td>False</td>\n",
              "      <td>None</td>\n",
              "      <td>60M</td>\n",
              "      <td>5.0</td>\n",
              "      <td>5.0 and up</td>\n",
              "      <td>Zé Delivery</td>\n",
              "      <td>Z%C3%A9+Delivery</td>\n",
              "      <td>atendimento@ze.delivery</td>\n",
              "      <td>https://ze.delivery/</td>\n",
              "      <td>R. Dr. Renato Paes de Barros, 1017 - Itaim Bib...</td>\n",
              "      <td>https://ze.delivery/terms?isApp=true</td>\n",
              "      <td>8661611515991206213</td>\n",
              "      <td>Food &amp; Drink</td>\n",
              "      <td>FOOD_AND_DRINK</td>\n",
              "      <td>https://play-lh.googleusercontent.com/GZJkM5S7...</td>\n",
              "      <td>https://play-lh.googleusercontent.com/E2PcXg8l...</td>\n",
              "      <td>[https://play-lh.googleusercontent.com/miavcPa...</td>\n",
              "      <td>https://www.youtube.com/embed/UWejHPyYi0Y?ps=p...</td>\n",
              "      <td>https://play-lh.googleusercontent.com/E2PcXg8l...</td>\n",
              "      <td>Everyone</td>\n",
              "      <td>None</td>\n",
              "      <td>None</td>\n",
              "      <td>False</td>\n",
              "      <td>Aug 19, 2016</td>\n",
              "      <td>1629147236</td>\n",
              "      <td>21.32.1</td>\n",
              "      <td>Alô, alô, tá chegando uma atualização bem quen...</td>\n",
              "      <td>Alô, alô, tá chegando uma atualização bem quen...</td>\n",
              "      <td>False</td>\n",
              "      <td>[com.wabi.customer, com.cornershopapp.android,...</td>\n",
              "      <td>[com.zedelivery.deliveryman]</td>\n",
              "      <td>com.cerveceriamodelo.modelonow</td>\n",
              "      <td>https://play.google.com/store/apps/details?id=...</td>\n",
              "    </tr>\n",
              "    <tr>\n",
              "      <th>2</th>\n",
              "      <td>McDonald's App - Latinoamérica</td>\n",
              "      <td>Enter the new McDonald's App and get exclusive...</td>\n",
              "      <td>Enter the new McDonald&amp;#39;s App and get exclu...</td>\n",
              "      <td>Enjoy esclusive discounts, promotions and coup...</td>\n",
              "      <td>Enjoy esclusive discounts, promotions and coup...</td>\n",
              "      <td>10,000,000+</td>\n",
              "      <td>10000000</td>\n",
              "      <td>4.548815</td>\n",
              "      <td>473060</td>\n",
              "      <td>150983</td>\n",
              "      <td>[27511, 5112, 16486, 55082, 368869]</td>\n",
              "      <td>0</td>\n",
              "      <td>True</td>\n",
              "      <td>USD</td>\n",
              "      <td>False</td>\n",
              "      <td>None</td>\n",
              "      <td>None</td>\n",
              "      <td>None</td>\n",
              "      <td>False</td>\n",
              "      <td>None</td>\n",
              "      <td>53M</td>\n",
              "      <td>6.0</td>\n",
              "      <td>6.0 and up</td>\n",
              "      <td>Arcos Dorados</td>\n",
              "      <td>Arcos+Dorados</td>\n",
              "      <td>apps@br.mcd.com</td>\n",
              "      <td>http://www.mcdonalds.com.ar</td>\n",
              "      <td>None</td>\n",
              "      <td>https://api-discover-mcd.gigigoapps.com/app/te...</td>\n",
              "      <td>7424281334030416541</td>\n",
              "      <td>Food &amp; Drink</td>\n",
              "      <td>FOOD_AND_DRINK</td>\n",
              "      <td>https://play-lh.googleusercontent.com/TCx8i7sv...</td>\n",
              "      <td>https://play-lh.googleusercontent.com/GEr93a5r...</td>\n",
              "      <td>[https://play-lh.googleusercontent.com/gLTfmrF...</td>\n",
              "      <td>None</td>\n",
              "      <td>None</td>\n",
              "      <td>Everyone</td>\n",
              "      <td>None</td>\n",
              "      <td>None</td>\n",
              "      <td>False</td>\n",
              "      <td>Mar 27, 2017</td>\n",
              "      <td>1630913072</td>\n",
              "      <td>3.0.4</td>\n",
              "      <td>Information security improvements.\\r\\nPerforma...</td>\n",
              "      <td>Information security improvements.&lt;br&gt;Performa...</td>\n",
              "      <td>False</td>\n",
              "      <td>[com.mcdonalds.app, com.wabi.customer, com.lit...</td>\n",
              "      <td>[br.com.app.gpuu1676426.gpuuddceac8a3bd1d549b5...</td>\n",
              "      <td>com.mcdo.mcdonalds</td>\n",
              "      <td>https://play.google.com/store/apps/details?id=...</td>\n",
              "    </tr>\n",
              "    <tr>\n",
              "      <th>3</th>\n",
              "      <td>Habib's</td>\n",
              "      <td>Novo App Habib’s \\r\\n+ Ágil \\r\\n+ Moderno \\r\\n...</td>\n",
              "      <td>Novo App Habib’s &lt;br&gt;+ Ágil &lt;br&gt;+ Moderno &lt;br&gt;...</td>\n",
              "      <td>Get to know the new Habib's application and sa...</td>\n",
              "      <td>Get to know the new Habib&amp;#39;s application an...</td>\n",
              "      <td>1,000,000+</td>\n",
              "      <td>1000000</td>\n",
              "      <td>4.176516</td>\n",
              "      <td>103888</td>\n",
              "      <td>37994</td>\n",
              "      <td>[12578, 3094, 6109, 13736, 68371]</td>\n",
              "      <td>0</td>\n",
              "      <td>True</td>\n",
              "      <td>USD</td>\n",
              "      <td>False</td>\n",
              "      <td>None</td>\n",
              "      <td>None</td>\n",
              "      <td>None</td>\n",
              "      <td>False</td>\n",
              "      <td>None</td>\n",
              "      <td>35M</td>\n",
              "      <td>5.1</td>\n",
              "      <td>5.1 and up</td>\n",
              "      <td>Grupo Habib´s</td>\n",
              "      <td>Grupo+Habib%C2%B4s</td>\n",
              "      <td>android@deliveryhabibs.com.br</td>\n",
              "      <td>http://www.habibs.com.br</td>\n",
              "      <td>None</td>\n",
              "      <td>https://www.habibs.com.br/institucional/politi...</td>\n",
              "      <td>8400498754421918442</td>\n",
              "      <td>Food &amp; Drink</td>\n",
              "      <td>FOOD_AND_DRINK</td>\n",
              "      <td>https://play-lh.googleusercontent.com/JL6DWNLi...</td>\n",
              "      <td>https://play-lh.googleusercontent.com/5-OQNWks...</td>\n",
              "      <td>[https://play-lh.googleusercontent.com/1MhOfLd...</td>\n",
              "      <td>None</td>\n",
              "      <td>None</td>\n",
              "      <td>Everyone</td>\n",
              "      <td>None</td>\n",
              "      <td>None</td>\n",
              "      <td>False</td>\n",
              "      <td>None</td>\n",
              "      <td>1631116286</td>\n",
              "      <td>3.7.5</td>\n",
              "      <td>Chegou a semana Bibsfiha o/\\r\\nE nós trouxemos...</td>\n",
              "      <td>Chegou a semana Bibsfiha o/&lt;br&gt;E nós trouxemos...</td>\n",
              "      <td>False</td>\n",
              "      <td>None</td>\n",
              "      <td>[ragazzo.alphacode.com.br, tendall.alphacode.c...</td>\n",
              "      <td>habibs.alphacode.com.br</td>\n",
              "      <td>https://play.google.com/store/apps/details?id=...</td>\n",
              "    </tr>\n",
              "    <tr>\n",
              "      <th>4</th>\n",
              "      <td>99 Food – Food Delivery</td>\n",
              "      <td>Did you feel hungry? Open the app!\\r\\n99Food c...</td>\n",
              "      <td>Did you feel hungry? Open the app!&lt;br&gt;99Food c...</td>\n",
              "      <td>Your favorite food in one app</td>\n",
              "      <td>Your favorite food in one app</td>\n",
              "      <td>5,000,000+</td>\n",
              "      <td>5000000</td>\n",
              "      <td>4.320486</td>\n",
              "      <td>95765</td>\n",
              "      <td>35083</td>\n",
              "      <td>[12077, 1492, 2716, 6854, 72626]</td>\n",
              "      <td>0</td>\n",
              "      <td>True</td>\n",
              "      <td>USD</td>\n",
              "      <td>False</td>\n",
              "      <td>None</td>\n",
              "      <td>None</td>\n",
              "      <td>None</td>\n",
              "      <td>False</td>\n",
              "      <td>None</td>\n",
              "      <td>68M</td>\n",
              "      <td>4.4</td>\n",
              "      <td>4.4 and up</td>\n",
              "      <td>99 Food</td>\n",
              "      <td>99+Food</td>\n",
              "      <td>food@99app.com</td>\n",
              "      <td>None</td>\n",
              "      <td>None</td>\n",
              "      <td>https://img0.99taxis.mobi/static/dpubimg/93435...</td>\n",
              "      <td>7203530700268872440</td>\n",
              "      <td>Food &amp; Drink</td>\n",
              "      <td>FOOD_AND_DRINK</td>\n",
              "      <td>https://play-lh.googleusercontent.com/Er03qQQU...</td>\n",
              "      <td>https://play-lh.googleusercontent.com/q1h-yPYV...</td>\n",
              "      <td>[https://play-lh.googleusercontent.com/i3TFFGk...</td>\n",
              "      <td>None</td>\n",
              "      <td>None</td>\n",
              "      <td>Everyone</td>\n",
              "      <td>None</td>\n",
              "      <td>True</td>\n",
              "      <td>True</td>\n",
              "      <td>None</td>\n",
              "      <td>1631848878</td>\n",
              "      <td>1.3.6</td>\n",
              "      <td>1. Optimized visual effects to enhance your us...</td>\n",
              "      <td>1. Optimized visual effects to enhance your us...</td>\n",
              "      <td>False</td>\n",
              "      <td>[com.uber.restaurants, com.cornershopapp.andro...</td>\n",
              "      <td>None</td>\n",
              "      <td>com.xiaojukeji.didi.brazil.customer</td>\n",
              "      <td>https://play.google.com/store/apps/details?id=...</td>\n",
              "    </tr>\n",
              "  </tbody>\n",
              "</table>\n",
              "</div>"
            ],
            "text/plain": [
              "                                               title  ...                                                url\n",
              "0                           iFood Delivery de Comida  ...  https://play.google.com/store/apps/details?id=...\n",
              "1  Zé Delivery de Bebidas - Gelada a Preço de Mer...  ...  https://play.google.com/store/apps/details?id=...\n",
              "2                     McDonald's App - Latinoamérica  ...  https://play.google.com/store/apps/details?id=...\n",
              "3                                            Habib's  ...  https://play.google.com/store/apps/details?id=...\n",
              "4                            99 Food – Food Delivery  ...  https://play.google.com/store/apps/details?id=...\n",
              "\n",
              "[5 rows x 51 columns]"
            ]
          },
          "metadata": {},
          "execution_count": 5
        }
      ]
    },
    {
      "cell_type": "markdown",
      "metadata": {
        "id": "o_Sbkh5NWe4E"
      },
      "source": [
        "#### Scraping App Reviews\n",
        "\n",
        "We want:\n",
        "* Balanced dataset — roughly the same number of reviews for each score (1–5)\n",
        "* A representative sample of the reviews for each app\n",
        "\n",
        "\n",
        "We can satisfy the first requirement by using the scraping package option to filter the review score. For the second, we’ll sort the reviews by their helpfulness, which are the reviews that Google Play thinks are most important."
      ]
    },
    {
      "cell_type": "code",
      "metadata": {
        "colab": {
          "base_uri": "https://localhost:8080/"
        },
        "id": "LskH3ZFPWfy3",
        "outputId": "0dd466c9-00b6-490a-ca22-6bbac09e42a9"
      },
      "source": [
        "app_reviews = []\n",
        "\n",
        "for ap in tqdm(apps_ids):\n",
        "    for score in list(range(1, 6)):\n",
        "        for sort_order in [Sort.MOST_RELEVANT, Sort.NEWEST]:\n",
        "            rvs, _ = reviews(\n",
        "                ap,\n",
        "                lang='pt',\n",
        "                country='br',\n",
        "                sort=sort_order,\n",
        "                count= 200 if score == 3 else 100,\n",
        "                filter_score_with=score\n",
        "            )\n",
        "            for r in rvs:\n",
        "                r['sortOrder'] = 'most_relevant' if sort_order == Sort.MOST_RELEVANT else 'newest'\n",
        "                r['appId'] = ap\n",
        "            app_reviews.extend(rvs)"
      ],
      "execution_count": null,
      "outputs": [
        {
          "output_type": "stream",
          "name": "stderr",
          "text": [
            "100%|██████████| 10/10 [00:51<00:00,  5.15s/it]\n"
          ]
        }
      ]
    },
    {
      "cell_type": "code",
      "metadata": {
        "colab": {
          "base_uri": "https://localhost:8080/"
        },
        "id": "5hQjouWFWjQL",
        "outputId": "a9623e09-66f8-4693-8965-a6b4fae10cf1"
      },
      "source": [
        "len(app_reviews)"
      ],
      "execution_count": null,
      "outputs": [
        {
          "output_type": "execute_result",
          "data": {
            "text/plain": [
              "11584"
            ]
          },
          "metadata": {},
          "execution_count": 7
        }
      ]
    },
    {
      "cell_type": "markdown",
      "metadata": {
        "id": "U4FSjNC8WrB6"
      },
      "source": [
        "Saving reviews in a CSV file"
      ]
    },
    {
      "cell_type": "code",
      "metadata": {
        "id": "M6g1bxdjWrb7"
      },
      "source": [
        "app_reviews_df = pd.DataFrame(app_reviews)"
      ],
      "execution_count": null,
      "outputs": []
    },
    {
      "cell_type": "code",
      "metadata": {
        "colab": {
          "base_uri": "https://localhost:8080/",
          "height": 479
        },
        "id": "8aPS9GSpXaan",
        "outputId": "f11db96e-7b82-444c-bfea-ac20b47ee534"
      },
      "source": [
        "app_reviews_df.head()"
      ],
      "execution_count": null,
      "outputs": [
        {
          "output_type": "execute_result",
          "data": {
            "text/html": [
              "<div>\n",
              "<style scoped>\n",
              "    .dataframe tbody tr th:only-of-type {\n",
              "        vertical-align: middle;\n",
              "    }\n",
              "\n",
              "    .dataframe tbody tr th {\n",
              "        vertical-align: top;\n",
              "    }\n",
              "\n",
              "    .dataframe thead th {\n",
              "        text-align: right;\n",
              "    }\n",
              "</style>\n",
              "<table border=\"1\" class=\"dataframe\">\n",
              "  <thead>\n",
              "    <tr style=\"text-align: right;\">\n",
              "      <th></th>\n",
              "      <th>reviewId</th>\n",
              "      <th>userName</th>\n",
              "      <th>userImage</th>\n",
              "      <th>content</th>\n",
              "      <th>score</th>\n",
              "      <th>thumbsUpCount</th>\n",
              "      <th>reviewCreatedVersion</th>\n",
              "      <th>at</th>\n",
              "      <th>replyContent</th>\n",
              "      <th>repliedAt</th>\n",
              "      <th>sortOrder</th>\n",
              "      <th>appId</th>\n",
              "    </tr>\n",
              "  </thead>\n",
              "  <tbody>\n",
              "    <tr>\n",
              "      <th>0</th>\n",
              "      <td>gp:AOqpTOG7ludjKBDYoRdqsIotlf0HrMb1hlmX2TeSFuI...</td>\n",
              "      <td>Pâmela Ferreira</td>\n",
              "      <td>https://play-lh.googleusercontent.com/a-/AOh14...</td>\n",
              "      <td>Baixei o app, porém não tenho um uso constante...</td>\n",
              "      <td>1</td>\n",
              "      <td>6</td>\n",
              "      <td>9.120.0</td>\n",
              "      <td>2021-09-20 16:20:46</td>\n",
              "      <td>None</td>\n",
              "      <td>NaT</td>\n",
              "      <td>most_relevant</td>\n",
              "      <td>br.com.brainweb.ifood</td>\n",
              "    </tr>\n",
              "    <tr>\n",
              "      <th>1</th>\n",
              "      <td>gp:AOqpTOENQ5qBeVTVATwodjFdhOGh3jt8k4m_SnIila8...</td>\n",
              "      <td>Hugo Farias</td>\n",
              "      <td>https://play-lh.googleusercontent.com/a-/AOh14...</td>\n",
              "      <td>ATENDIMENTO LIXO,pode parecer um aplicativo at...</td>\n",
              "      <td>1</td>\n",
              "      <td>86</td>\n",
              "      <td>9.120.0</td>\n",
              "      <td>2021-09-19 23:59:20</td>\n",
              "      <td>None</td>\n",
              "      <td>NaT</td>\n",
              "      <td>most_relevant</td>\n",
              "      <td>br.com.brainweb.ifood</td>\n",
              "    </tr>\n",
              "    <tr>\n",
              "      <th>2</th>\n",
              "      <td>gp:AOqpTOE0qONngImjzbowKH1gbLOia-AshfDX6A3Kg-d...</td>\n",
              "      <td>Carlos Wilton</td>\n",
              "      <td>https://play-lh.googleusercontent.com/a-/AOh14...</td>\n",
              "      <td>A falta de opções para ajudar o cliente quando...</td>\n",
              "      <td>1</td>\n",
              "      <td>50</td>\n",
              "      <td>9.120.0</td>\n",
              "      <td>2021-09-20 00:46:46</td>\n",
              "      <td>None</td>\n",
              "      <td>NaT</td>\n",
              "      <td>most_relevant</td>\n",
              "      <td>br.com.brainweb.ifood</td>\n",
              "    </tr>\n",
              "    <tr>\n",
              "      <th>3</th>\n",
              "      <td>gp:AOqpTOFchLfH2xwfwc9lzOOIkmPQQKO6fMSRJPuPvwZ...</td>\n",
              "      <td>Luiz Ponzo</td>\n",
              "      <td>https://play-lh.googleusercontent.com/a-/AOh14...</td>\n",
              "      <td>Excelente app Me incomoda ver menos do que 5 e...</td>\n",
              "      <td>1</td>\n",
              "      <td>16</td>\n",
              "      <td>9.120.0</td>\n",
              "      <td>2021-09-17 16:09:35</td>\n",
              "      <td>None</td>\n",
              "      <td>NaT</td>\n",
              "      <td>most_relevant</td>\n",
              "      <td>br.com.brainweb.ifood</td>\n",
              "    </tr>\n",
              "    <tr>\n",
              "      <th>4</th>\n",
              "      <td>gp:AOqpTOE7VvhDZBFb88xCwMO1lR5VY-HU6OTtd6qEe-e...</td>\n",
              "      <td>Victoria Lopes</td>\n",
              "      <td>https://play-lh.googleusercontent.com/a-/AOh14...</td>\n",
              "      <td>A plataforma tem grande alcance, porém diversa...</td>\n",
              "      <td>1</td>\n",
              "      <td>358</td>\n",
              "      <td>9.117.1</td>\n",
              "      <td>2021-09-03 01:53:47</td>\n",
              "      <td>None</td>\n",
              "      <td>NaT</td>\n",
              "      <td>most_relevant</td>\n",
              "      <td>br.com.brainweb.ifood</td>\n",
              "    </tr>\n",
              "  </tbody>\n",
              "</table>\n",
              "</div>"
            ],
            "text/plain": [
              "                                            reviewId  ...                  appId\n",
              "0  gp:AOqpTOG7ludjKBDYoRdqsIotlf0HrMb1hlmX2TeSFuI...  ...  br.com.brainweb.ifood\n",
              "1  gp:AOqpTOENQ5qBeVTVATwodjFdhOGh3jt8k4m_SnIila8...  ...  br.com.brainweb.ifood\n",
              "2  gp:AOqpTOE0qONngImjzbowKH1gbLOia-AshfDX6A3Kg-d...  ...  br.com.brainweb.ifood\n",
              "3  gp:AOqpTOFchLfH2xwfwc9lzOOIkmPQQKO6fMSRJPuPvwZ...  ...  br.com.brainweb.ifood\n",
              "4  gp:AOqpTOE7VvhDZBFb88xCwMO1lR5VY-HU6OTtd6qEe-e...  ...  br.com.brainweb.ifood\n",
              "\n",
              "[5 rows x 12 columns]"
            ]
          },
          "metadata": {},
          "execution_count": 9
        }
      ]
    },
    {
      "cell_type": "code",
      "metadata": {
        "id": "s4BQ6l4ZXZas"
      },
      "source": [
        "app_reviews_df.to_csv('reviews.csv', index=None, header=True)"
      ],
      "execution_count": null,
      "outputs": []
    },
    {
      "cell_type": "code",
      "metadata": {
        "id": "KyGyX-cJfHlu"
      },
      "source": [
        ""
      ],
      "execution_count": null,
      "outputs": []
    }
  ]
}