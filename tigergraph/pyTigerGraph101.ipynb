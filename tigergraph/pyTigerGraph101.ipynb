{
  "nbformat": 4,
  "nbformat_minor": 0,
  "metadata": {
    "colab": {
      "name": "pyTigerGraph101",
      "provenance": [],
      "collapsed_sections": [],
      "include_colab_link": true
    },
    "kernelspec": {
      "display_name": "Python 3",
      "name": "python3"
    },
    "language_info": {
      "name": "python"
    }
  },
  "cells": [
    {
      "cell_type": "markdown",
      "metadata": {
        "id": "view-in-github",
        "colab_type": "text"
      },
      "source": [
        "<a href=\"https://colab.research.google.com/github/versant2612/jnotebooks/blob/main/tigergraph/pyTigerGraph101.ipynb\" target=\"_parent\"><img src=\"https://colab.research.google.com/assets/colab-badge.svg\" alt=\"Open In Colab\"/></a>"
      ]
    },
    {
      "cell_type": "markdown",
      "metadata": {
        "id": "owRhnxW15t_w"
      },
      "source": [
        "## Install pyTigerGraph"
      ]
    },
    {
      "cell_type": "code",
      "metadata": {
        "id": "JmsrV-SNnx31",
        "colab": {
          "base_uri": "https://localhost:8080/"
        },
        "outputId": "b4ca1cf1-d700-49cb-b9a7-aba81a5fb310"
      },
      "source": [
        "# Setup\n",
        "!pip install pyTigerGraph"
      ],
      "execution_count": 1,
      "outputs": [
        {
          "output_type": "stream",
          "name": "stdout",
          "text": [
            "Requirement already satisfied: pyTigerGraph in /usr/local/lib/python3.7/dist-packages (0.0.9.8.5)\n",
            "Requirement already satisfied: requests in /usr/local/lib/python3.7/dist-packages (from pyTigerGraph) (2.23.0)\n",
            "Requirement already satisfied: validators in /usr/local/lib/python3.7/dist-packages (from pyTigerGraph) (0.18.2)\n",
            "Requirement already satisfied: pandas in /usr/local/lib/python3.7/dist-packages (from pyTigerGraph) (1.1.5)\n",
            "Requirement already satisfied: pyTigerDriver in /usr/local/lib/python3.7/dist-packages (from pyTigerGraph) (1.0.14)\n",
            "Requirement already satisfied: pytz>=2017.2 in /usr/local/lib/python3.7/dist-packages (from pandas->pyTigerGraph) (2018.9)\n",
            "Requirement already satisfied: numpy>=1.15.4 in /usr/local/lib/python3.7/dist-packages (from pandas->pyTigerGraph) (1.19.5)\n",
            "Requirement already satisfied: python-dateutil>=2.7.3 in /usr/local/lib/python3.7/dist-packages (from pandas->pyTigerGraph) (2.8.2)\n",
            "Requirement already satisfied: six>=1.5 in /usr/local/lib/python3.7/dist-packages (from python-dateutil>=2.7.3->pandas->pyTigerGraph) (1.15.0)\n",
            "Requirement already satisfied: certifi>=2017.4.17 in /usr/local/lib/python3.7/dist-packages (from requests->pyTigerGraph) (2021.10.8)\n",
            "Requirement already satisfied: idna<3,>=2.5 in /usr/local/lib/python3.7/dist-packages (from requests->pyTigerGraph) (2.10)\n",
            "Requirement already satisfied: urllib3!=1.25.0,!=1.25.1,<1.26,>=1.21.1 in /usr/local/lib/python3.7/dist-packages (from requests->pyTigerGraph) (1.24.3)\n",
            "Requirement already satisfied: chardet<4,>=3.0.2 in /usr/local/lib/python3.7/dist-packages (from requests->pyTigerGraph) (3.0.4)\n",
            "Requirement already satisfied: decorator>=3.4.0 in /usr/local/lib/python3.7/dist-packages (from validators->pyTigerGraph) (4.4.2)\n"
          ]
        }
      ]
    },
    {
      "cell_type": "markdown",
      "metadata": {
        "id": "pSsJAzc_5yNN"
      },
      "source": [
        "## Add Imports and Establish Initial Connection"
      ]
    },
    {
      "cell_type": "code",
      "metadata": {
        "colab": {
          "base_uri": "https://localhost:8080/"
        },
        "id": "vqpwQh1_noLK",
        "outputId": "c16ded46-f231-4757-a4f5-849a167f9316"
      },
      "source": [
        "# Imports\n",
        "import pyTigerGraph as tg\n",
        "import json\n",
        "import pandas as pd\n",
        "\n",
        "# Connection parameters\n",
        "hostName = \"https://socialnetwork-tg.i.tgcloud.io\"\n",
        "userName = \"tigergraph\"\n",
        "password = \"tigergraph\"\n",
        "\n",
        "conn = tg.TigerGraphConnection(host=hostName, username=userName, password=password)\n",
        "\n",
        "print(\"Connected\")"
      ],
      "execution_count": 2,
      "outputs": [
        {
          "output_type": "stream",
          "name": "stdout",
          "text": [
            "Connected\n"
          ]
        }
      ]
    },
    {
      "cell_type": "markdown",
      "metadata": {
        "id": "SDPUKGDc55bJ"
      },
      "source": [
        "**Define and Publish the Schema**\n",
        "\n",
        "HASHTAG é um nó pq vai ser necessário filtrar por esse valor. Se fosse só um atributo isso não seria possível? "
      ]
    },
    {
      "cell_type": "code",
      "metadata": {
        "id": "tbLUKiA4oSKX",
        "colab": {
          "base_uri": "https://localhost:8080/"
        },
        "outputId": "10c38264-c562-41b8-c1f9-62130d0865ed"
      },
      "source": [
        "# DEFINE / CREATE ALL EDGES AND VERTICES \n",
        "results = conn.gsql('''\n",
        "  USE GLOBAL\n",
        "  CREATE VERTEX Person (PRIMARY_ID id STRING, name STRING, email STRING, username STRING, created_at DATETIME) WITH primary_id_as_attribute=\"true\"\n",
        "  CREATE VERTEX Post (PRIMARY_ID id STRING, content STRING, posted_date DATETIME, deleted BOOL) WITH primary_id_as_attribute=\"true\"\n",
        "  CREATE VERTEX Hashtag (PRIMARY_ID tag STRING) WITH primary_id_as_attribute=\"true\"\n",
        "  CREATE VERTEX Message (PRIMARY_ID id STRING, subject STRING, body STRING) WITH primary_id_as_attribute=\"true\"\n",
        "  CREATE DIRECTED EDGE posted (From Person, To Post, post_date DATETIME) WITH REVERSE_EDGE=\"reverse_posted\"\n",
        "  CREATE DIRECTED EDGE liked (From Person, To Post, like_date DATETIME) WITH REVERSE_EDGE=\"reverse_liked\"\n",
        "  CREATE DIRECTED EDGE has_tag (From Post, To Hashtag) WITH REVERSE_EDGE=\"reverse_has_tag\"\n",
        "  CREATE DIRECTED EDGE sent_message (From Person, To Message, to_person STRING, sent_date DATETIME) WITH REVERSE_EDGE=\"reverse_sent_message\"\n",
        "  CREATE DIRECTED EDGE received_message (From Message, To Person, from_person STRING, receive_date DATETIME, opened_date DATETIME) WITH REVERSE_EDGE=\"reverse_received_message\"\n",
        "''')\n",
        "print(results)"
      ],
      "execution_count": 3,
      "outputs": [
        {
          "output_type": "stream",
          "name": "stdout",
          "text": [
            "Successfully created vertex types: [Person].\n",
            "Successfully created vertex types: [Post].\n",
            "Successfully created vertex types: [Hashtag].\n",
            "Successfully created vertex types: [Message].\n",
            "Successfully created edge types: [posted].\n",
            "Successfully created reverse edge types: [reverse_posted].\n",
            "Successfully created edge types: [liked].\n",
            "Successfully created reverse edge types: [reverse_liked].\n",
            "Successfully created edge types: [has_tag].\n",
            "Successfully created reverse edge types: [reverse_has_tag].\n",
            "Successfully created edge types: [sent_message].\n",
            "Successfully created reverse edge types: [reverse_sent_message].\n",
            "Successfully created edge types: [received_message].\n",
            "Successfully created reverse edge types: [reverse_received_message].\n"
          ]
        }
      ]
    },
    {
      "cell_type": "markdown",
      "metadata": {
        "id": "bMz6fxfx59Xz"
      },
      "source": [
        "## Create the Graph"
      ]
    },
    {
      "cell_type": "code",
      "metadata": {
        "id": "-cgC8b7OcZDd"
      },
      "source": [
        "results = conn.gsql('CREATE GRAPH MyGraph(Person, Post, Hashtag, Message, posted, reverse_posted, liked, reverse_liked, has_tag, reverse_has_tag, sent_message, reverse_sent_message, received_message, reverse_received_message)')"
      ],
      "execution_count": 4,
      "outputs": []
    },
    {
      "cell_type": "code",
      "metadata": {
        "id": "SbxyEaptc2Ri"
      },
      "source": [
        "# conn.graphname=\"MyGraph\"\n",
        "secret = conn.createSecret()\n",
        "authToken = conn.getToken(secret)\n",
        "authToken = authToken[0]\n",
        "# print(authToken)\n",
        "# authToken = 'rc7reopbis1667ksgcppq5v5fb99p6s1'\n",
        "conn = tg.TigerGraphConnection(host=hostName, graphname=\"MyGraph\", username=userName, password=password, apiToken=authToken)\n",
        "\n",
        "def pprint(string):\n",
        "  print(json.dumps(string, indent=2))"
      ],
      "execution_count": 5,
      "outputs": []
    },
    {
      "cell_type": "markdown",
      "metadata": {
        "id": "e4ITTdsTjSZl"
      },
      "source": [
        "## Clone the Data"
      ]
    },
    {
      "cell_type": "code",
      "metadata": {
        "id": "jd3ybHzHeJKU",
        "colab": {
          "base_uri": "https://localhost:8080/"
        },
        "outputId": "41d9b884-a4ae-4fb0-cd3c-95b217a13450"
      },
      "source": [
        "!git clone https://github.com/DanBarkus/TigerGraph-101.git"
      ],
      "execution_count": 6,
      "outputs": [
        {
          "output_type": "stream",
          "name": "stdout",
          "text": [
            "fatal: destination path 'TigerGraph-101' already exists and is not an empty directory.\n"
          ]
        }
      ]
    },
    {
      "cell_type": "markdown",
      "metadata": {
        "id": "MTWWoepV6Dc0"
      },
      "source": [
        "## Create Loading Jobs"
      ]
    },
    {
      "cell_type": "markdown",
      "metadata": {
        "id": "Up4f5hmq7MZl"
      },
      "source": [
        "### Posts"
      ]
    },
    {
      "cell_type": "markdown",
      "metadata": {
        "id": "oXH8W3KIjVUC"
      },
      "source": [
        "Let's take a look at what one of our files looks like so we can write a loading job."
      ]
    },
    {
      "cell_type": "code",
      "metadata": {
        "colab": {
          "base_uri": "https://localhost:8080/"
        },
        "id": "dV1wMpIMeZaY",
        "outputId": "6797a97d-672f-47d6-e757-9d0e7906494d"
      },
      "source": [
        "!head -n 2 /content/TigerGraph-101/posts.csv"
      ],
      "execution_count": 7,
      "outputs": [
        {
          "output_type": "stream",
          "name": "stdout",
          "text": [
            "id,content,posted_date,by_user,deleted,hashtag_1,hashtag_2,hashtag_3,hashtag_4\n",
            "1,\"Proin interdum mauris non ligula pellentesque ultrices. Phasellus id sapien in sapien iaculis congue. Vivamus metus arcu, adipiscing molestie, hendrerit at, vulputate vitae, nisl. Aenean lectus. Pellentesque eget nunc. Donec quis orci eget orci vehicula condimentum. Curabitur in libero ut massa volutpat convallis. Morbi odio odio, elementum eu, interdum eu, tincidunt in, leo.\",2019-08-04 20:43:08,69,False,Compatible,Organized,,workforce\n"
          ]
        }
      ]
    },
    {
      "cell_type": "markdown",
      "metadata": {
        "id": "cxgULtty6JXS"
      },
      "source": [
        "This one and the messages file will look like a mess in this display because they contain sentances of text as dummy data which makes them not show up too well in the csv preview. You can just reference the header through for loading jobs."
      ]
    },
    {
      "cell_type": "markdown",
      "metadata": {
        "id": "M7Y081TD6Xh5"
      },
      "source": [
        "Here it's important to note that the `$0`, `$1` values line up with the columns of your data.\n",
        "In this example:\n",
        "- `$0` is the `id` column,\n",
        "- `$1` is `content`,\n",
        "- `$2` is `posted_date`\n",
        "- and so on"
      ]
    },
    {
      "cell_type": "code",
      "metadata": {
        "colab": {
          "base_uri": "https://localhost:8080/"
        },
        "id": "22W6W58idFW5",
        "outputId": "8df9f9dd-aafb-43cd-bf84-edfa3c60d286"
      },
      "source": [
        "results = conn.gsql('''\n",
        "  USE GRAPH MyGraph\n",
        "  BEGIN\n",
        "  CREATE LOADING JOB load_posts FOR GRAPH MyGraph {\n",
        "  DEFINE FILENAME MyDataSource;\n",
        "  LOAD MyDataSource TO VERTEX Post VALUES($0, $1, $2, $4) USING SEPARATOR=\",\", HEADER=\"true\", EOL=\"\\\\n\", QUOTE=\"double\";\n",
        "  LOAD MyDataSource TO VERTEX Hashtag VALUES($5) USING SEPARATOR=\",\", HEADER=\"true\", EOL=\"\\\\n\", QUOTE=\"double\";\n",
        "  LOAD MyDataSource TO VERTEX Hashtag VALUES($6) USING SEPARATOR=\",\", HEADER=\"true\", EOL=\"\\\\n\", QUOTE=\"double\";\n",
        "  LOAD MyDataSource TO VERTEX Hashtag VALUES($7) USING SEPARATOR=\",\", HEADER=\"true\", EOL=\"\\\\n\", QUOTE=\"double\";\n",
        "  LOAD MyDataSource TO VERTEX Hashtag VALUES($8) USING SEPARATOR=\",\", HEADER=\"true\", EOL=\"\\\\n\", QUOTE=\"double\";\n",
        "  LOAD MyDataSource TO EDGE posted VALUES($3, $0, $2) USING SEPARATOR=\",\", HEADER=\"true\", EOL=\"\\\\n\", QUOTE=\"double\";\n",
        "  LOAD MyDataSource TO EDGE has_tag VALUES($0, $5) USING SEPARATOR=\",\", HEADER=\"true\", EOL=\"\\\\n\", QUOTE=\"double\";\n",
        "  LOAD MyDataSource TO EDGE has_tag VALUES($0, $6) USING SEPARATOR=\",\", HEADER=\"true\", EOL=\"\\\\n\", QUOTE=\"double\";\n",
        "  LOAD MyDataSource TO EDGE has_tag VALUES($0, $7) USING SEPARATOR=\",\", HEADER=\"true\", EOL=\"\\\\n\", QUOTE=\"double\";\n",
        "  LOAD MyDataSource TO EDGE has_tag VALUES($0, $8) USING SEPARATOR=\",\", HEADER=\"true\", EOL=\"\\\\n\", QUOTE=\"double\";\n",
        "  }\n",
        "  END\n",
        "  ''')\n",
        "print(results)"
      ],
      "execution_count": 8,
      "outputs": [
        {
          "output_type": "stream",
          "name": "stdout",
          "text": [
            "Using graph 'MyGraph'\n",
            "Successfully created loading jobs: [load_posts].\n"
          ]
        }
      ]
    },
    {
      "cell_type": "markdown",
      "metadata": {
        "id": "bt7d2uQH7PQ8"
      },
      "source": [
        "### Likes"
      ]
    },
    {
      "cell_type": "code",
      "metadata": {
        "colab": {
          "base_uri": "https://localhost:8080/"
        },
        "id": "Ss_CClYVgGvJ",
        "outputId": "24dce587-0d89-4173-e6ec-69110c134557"
      },
      "source": [
        "!head -n 2 /content/TigerGraph-101/likes.csv"
      ],
      "execution_count": 9,
      "outputs": [
        {
          "output_type": "stream",
          "name": "stdout",
          "text": [
            "id,by_user,liked_post,liked_date\n",
            "1,65,798,2019-01-02 08:11:14\n"
          ]
        }
      ]
    },
    {
      "cell_type": "code",
      "metadata": {
        "id": "rcd8zeEHgCs2",
        "colab": {
          "base_uri": "https://localhost:8080/"
        },
        "outputId": "613f18ee-dec7-491f-fb55-d3aa74d20e2f"
      },
      "source": [
        "results = conn.gsql('''\n",
        "  USE GRAPH MyGraph\n",
        "  BEGIN\n",
        "  CREATE LOADING JOB load_likes FOR GRAPH MyGraph {\n",
        "  DEFINE FILENAME MyDataSource;\n",
        "  LOAD MyDataSource TO EDGE liked VALUES($1, $2, $3) USING SEPARATOR=\",\", HEADER=\"true\", EOL=\"\\\\n\";\n",
        "  }\n",
        "  END\n",
        "  ''')\n",
        "print(results)"
      ],
      "execution_count": 10,
      "outputs": [
        {
          "output_type": "stream",
          "name": "stdout",
          "text": [
            "Using graph 'MyGraph'\n",
            "Successfully created loading jobs: [load_likes].\n"
          ]
        }
      ]
    },
    {
      "cell_type": "markdown",
      "metadata": {
        "id": "J1YnB6Wa7RSP"
      },
      "source": [
        "### Messages"
      ]
    },
    {
      "cell_type": "code",
      "metadata": {
        "colab": {
          "base_uri": "https://localhost:8080/"
        },
        "id": "YvKh_8p4gfGC",
        "outputId": "73cf6fa6-2461-42bc-b9d7-b1e62700fdb8"
      },
      "source": [
        "!head -n 2 /content/TigerGraph-101/messages.csv"
      ],
      "execution_count": 11,
      "outputs": [
        {
          "output_type": "stream",
          "name": "stdout",
          "text": [
            "id,body,subject,by_user,to_user,send_date,read_date\n",
            "1,\"Integer pede justo, lacinia eget, tincidunt eget, tempus vel, pede. Morbi porttitor lorem id ligula. Suspendisse ornare consequat lectus. In est risus, auctor sed, tristique in, tempus sit amet, sem. Fusce consequat. Nulla nisl.\",Nulla facilisi.,22,62,2019-05-01 03:40:51,2019-06-10 03:40:51\n"
          ]
        }
      ]
    },
    {
      "cell_type": "code",
      "metadata": {
        "colab": {
          "base_uri": "https://localhost:8080/"
        },
        "id": "Zerob6pDgmq2",
        "outputId": "8d8ad631-7a89-4cce-a4c5-2d1058182fbb"
      },
      "source": [
        "results = conn.gsql('''\n",
        "  USE GRAPH MyGraph\n",
        "  BEGIN\n",
        "  CREATE LOADING JOB load_messages FOR GRAPH MyGraph {\n",
        "  DEFINE FILENAME MyDataSource;\n",
        "  LOAD MyDataSource TO VERTEX Message VALUES($0, $2, $1) USING SEPARATOR=\",\", HEADER=\"true\", EOL=\"\\\\n\", QUOTE=\"double\";\n",
        "  LOAD MyDataSource TO EDGE sent_message VALUES($3, $0, $4, $5) USING SEPARATOR=\",\", HEADER=\"true\", EOL=\"\\\\n\", QUOTE=\"double\";\n",
        "  LOAD MyDataSource TO EDGE received_message VALUES($0, $4, $3, $5, $6) USING SEPARATOR=\",\", HEADER=\"true\", EOL=\"\\\\n\", QUOTE=\"double\";\n",
        "  }\n",
        "  END''')\n",
        "print(results)"
      ],
      "execution_count": 12,
      "outputs": [
        {
          "output_type": "stream",
          "name": "stdout",
          "text": [
            "Using graph 'MyGraph'\n",
            "Successfully created loading jobs: [load_messages].\n"
          ]
        }
      ]
    },
    {
      "cell_type": "markdown",
      "metadata": {
        "id": "e4ccCXKd7TSG"
      },
      "source": [
        "### Users"
      ]
    },
    {
      "cell_type": "code",
      "metadata": {
        "colab": {
          "base_uri": "https://localhost:8080/"
        },
        "id": "MYGn5P2BiLro",
        "outputId": "29332cb6-db48-4f83-9a54-1983c07286f0"
      },
      "source": [
        "!head -n 2 /content/TigerGraph-101/users.csv"
      ],
      "execution_count": 13,
      "outputs": [
        {
          "output_type": "stream",
          "name": "stdout",
          "text": [
            "id,email,username,name,join_date\n",
            "1,mgeistmann0@accuweather.com,mgeistmann0,Marvin Geistmann,2018-09-30 07:31:34\n"
          ]
        }
      ]
    },
    {
      "cell_type": "code",
      "metadata": {
        "colab": {
          "base_uri": "https://localhost:8080/"
        },
        "id": "XVO9H5OkiWwj",
        "outputId": "8a9c3fdb-3d21-4b07-d8e1-98c5fe7df412"
      },
      "source": [
        "results = conn.gsql('''\n",
        "  USE GRAPH MyGraph\n",
        "  BEGIN\n",
        "  CREATE LOADING JOB load_people FOR GRAPH MyGraph {\n",
        "  DEFINE FILENAME MyDataSource;\n",
        "  LOAD MyDataSource TO VERTEX Person VALUES($0, $3, $1, $2, $4) USING SEPARATOR=\",\", HEADER=\"true\", EOL=\"\\\\n\";\n",
        "  }\n",
        "  END\n",
        "  ''')\n",
        "print(results)"
      ],
      "execution_count": 14,
      "outputs": [
        {
          "output_type": "stream",
          "name": "stdout",
          "text": [
            "Using graph 'MyGraph'\n",
            "Successfully created loading jobs: [load_people].\n"
          ]
        }
      ]
    },
    {
      "cell_type": "code",
      "metadata": {
        "id": "59b2NhAzwuFi",
        "colab": {
          "base_uri": "https://localhost:8080/"
        },
        "outputId": "c4e9cf42-9793-4df0-bbe9-3b15f5a0219a"
      },
      "source": [
        "results = conn.gsql('''\n",
        "USE GRAPH MyGraph\n",
        "SHOW JOBS\n",
        "''')\n",
        "pprint(results)"
      ],
      "execution_count": 15,
      "outputs": [
        {
          "output_type": "stream",
          "name": "stdout",
          "text": [
            "\"Encountered \\\" <IDENTIFIER> \\\"JOBS \\\"\\\" at line 3, column 6.\\nWas expecting one of:\\n\\\"DATA_SOURCE\\\" ...\\n\\\"edge\\\" ...\\n\\\"graph\\\" ...\\n\\\"group\\\" ...\\n\\\"job\\\" ...\\n\\\"loading\\\" ...\\n\\\"privilege\\\" ...\\n\\\"query\\\" ...\\n\\\"role\\\" ...\\n\\\"secret\\\" ...\\n\\\"tag\\\" ...\\n\\\"user\\\" ...\\n\\\"vertex\\\" ...\\n\"\n"
          ]
        }
      ]
    },
    {
      "cell_type": "markdown",
      "metadata": {
        "id": "Nm8hvEJo7YqM"
      },
      "source": [
        "## Load Data"
      ]
    },
    {
      "cell_type": "code",
      "metadata": {
        "id": "450w8nYGllZQ",
        "colab": {
          "base_uri": "https://localhost:8080/"
        },
        "outputId": "2973bb8a-4d6c-4343-bd82-f99a21fd9843"
      },
      "source": [
        "# Load the posts file wiht the 'load_posts' job\n",
        "posts_file = '/content/TigerGraph-101/posts.csv'\n",
        "results = conn.uploadFile(posts_file, fileTag='MyDataSource', jobName='load_posts')\n",
        "print(json.dumps(results, indent=2))"
      ],
      "execution_count": 16,
      "outputs": [
        {
          "output_type": "stream",
          "name": "stdout",
          "text": [
            "[\n",
            "  {\n",
            "    \"sourceFileName\": \"Online_POST\",\n",
            "    \"statistics\": {\n",
            "      \"validLine\": 1001,\n",
            "      \"rejectLine\": 0,\n",
            "      \"failedConditionLine\": 0,\n",
            "      \"notEnoughToken\": 0,\n",
            "      \"invalidJson\": 0,\n",
            "      \"oversizeToken\": 0,\n",
            "      \"vertex\": [\n",
            "        {\n",
            "          \"typeName\": \"Post\",\n",
            "          \"validObject\": 1000,\n",
            "          \"noIdFound\": 0,\n",
            "          \"invalidAttribute\": 1,\n",
            "          \"invalidAttributeLines\": [\n",
            "            \"1:posted_date\"\n",
            "          ],\n",
            "          \"invalidAttributeLinesData\": [\n",
            "            \"id,content,posted_date,by_user,deleted,hashtag_1,hashtag_2,hashtag_3,hashtag_4\\n\"\n",
            "          ],\n",
            "          \"invalidVertexType\": 0,\n",
            "          \"invalidPrimaryId\": 0,\n",
            "          \"invalidSecondaryId\": 0,\n",
            "          \"incorrectFixedBinaryLength\": 0\n",
            "        },\n",
            "        {\n",
            "          \"typeName\": \"Hashtag\",\n",
            "          \"validObject\": 1001,\n",
            "          \"noIdFound\": 0,\n",
            "          \"invalidAttribute\": 0,\n",
            "          \"invalidVertexType\": 0,\n",
            "          \"invalidPrimaryId\": 0,\n",
            "          \"invalidSecondaryId\": 0,\n",
            "          \"incorrectFixedBinaryLength\": 0\n",
            "        },\n",
            "        {\n",
            "          \"typeName\": \"Hashtag\",\n",
            "          \"validObject\": 797,\n",
            "          \"noIdFound\": 204,\n",
            "          \"invalidAttribute\": 0,\n",
            "          \"invalidVertexType\": 0,\n",
            "          \"invalidPrimaryId\": 0,\n",
            "          \"invalidSecondaryId\": 0,\n",
            "          \"incorrectFixedBinaryLength\": 0\n",
            "        },\n",
            "        {\n",
            "          \"typeName\": \"Hashtag\",\n",
            "          \"validObject\": 494,\n",
            "          \"noIdFound\": 507,\n",
            "          \"invalidAttribute\": 0,\n",
            "          \"invalidVertexType\": 0,\n",
            "          \"invalidPrimaryId\": 0,\n",
            "          \"invalidSecondaryId\": 0,\n",
            "          \"incorrectFixedBinaryLength\": 0\n",
            "        },\n",
            "        {\n",
            "          \"typeName\": \"Hashtag\",\n",
            "          \"validObject\": 282,\n",
            "          \"noIdFound\": 719,\n",
            "          \"invalidAttribute\": 0,\n",
            "          \"invalidVertexType\": 0,\n",
            "          \"invalidPrimaryId\": 0,\n",
            "          \"invalidSecondaryId\": 0,\n",
            "          \"incorrectFixedBinaryLength\": 0\n",
            "        }\n",
            "      ],\n",
            "      \"edge\": [\n",
            "        {\n",
            "          \"typeName\": \"posted\",\n",
            "          \"validObject\": 1000,\n",
            "          \"noIdFound\": 0,\n",
            "          \"invalidAttribute\": 1,\n",
            "          \"invalidAttributeLines\": [\n",
            "            \"1:post_date\"\n",
            "          ],\n",
            "          \"invalidAttributeLinesData\": [\n",
            "            \"id,content,posted_date,by_user,deleted,hashtag_1,hashtag_2,hashtag_3,hashtag_4\\n\"\n",
            "          ],\n",
            "          \"invalidVertexType\": 0,\n",
            "          \"invalidPrimaryId\": 0,\n",
            "          \"invalidSecondaryId\": 0,\n",
            "          \"incorrectFixedBinaryLength\": 0\n",
            "        },\n",
            "        {\n",
            "          \"typeName\": \"has_tag\",\n",
            "          \"validObject\": 1001,\n",
            "          \"noIdFound\": 0,\n",
            "          \"invalidAttribute\": 0,\n",
            "          \"invalidVertexType\": 0,\n",
            "          \"invalidPrimaryId\": 0,\n",
            "          \"invalidSecondaryId\": 0,\n",
            "          \"incorrectFixedBinaryLength\": 0\n",
            "        },\n",
            "        {\n",
            "          \"typeName\": \"has_tag\",\n",
            "          \"validObject\": 797,\n",
            "          \"noIdFound\": 204,\n",
            "          \"invalidAttribute\": 0,\n",
            "          \"invalidVertexType\": 0,\n",
            "          \"invalidPrimaryId\": 0,\n",
            "          \"invalidSecondaryId\": 0,\n",
            "          \"incorrectFixedBinaryLength\": 0\n",
            "        },\n",
            "        {\n",
            "          \"typeName\": \"has_tag\",\n",
            "          \"validObject\": 494,\n",
            "          \"noIdFound\": 507,\n",
            "          \"invalidAttribute\": 0,\n",
            "          \"invalidVertexType\": 0,\n",
            "          \"invalidPrimaryId\": 0,\n",
            "          \"invalidSecondaryId\": 0,\n",
            "          \"incorrectFixedBinaryLength\": 0\n",
            "        },\n",
            "        {\n",
            "          \"typeName\": \"has_tag\",\n",
            "          \"validObject\": 282,\n",
            "          \"noIdFound\": 719,\n",
            "          \"invalidAttribute\": 0,\n",
            "          \"invalidVertexType\": 0,\n",
            "          \"invalidPrimaryId\": 0,\n",
            "          \"invalidSecondaryId\": 0,\n",
            "          \"incorrectFixedBinaryLength\": 0\n",
            "        }\n",
            "      ],\n",
            "      \"deleteVertex\": [],\n",
            "      \"deleteEdge\": []\n",
            "    }\n",
            "  }\n",
            "]\n"
          ]
        }
      ]
    },
    {
      "cell_type": "code",
      "metadata": {
        "id": "GQ45NPXTlk7d",
        "colab": {
          "base_uri": "https://localhost:8080/"
        },
        "outputId": "d63a2382-65f6-45aa-ebef-e61faacc504f"
      },
      "source": [
        "# Load the likes file wiht the 'load_likes' job\n",
        "likes_file = '/content/TigerGraph-101/likes.csv'\n",
        "results = conn.uploadFile(likes_file, fileTag='MyDataSource', jobName='load_likes')\n",
        "print(json.dumps(results, indent=2))"
      ],
      "execution_count": 17,
      "outputs": [
        {
          "output_type": "stream",
          "name": "stdout",
          "text": [
            "[\n",
            "  {\n",
            "    \"sourceFileName\": \"Online_POST\",\n",
            "    \"statistics\": {\n",
            "      \"validLine\": 5001,\n",
            "      \"rejectLine\": 0,\n",
            "      \"failedConditionLine\": 0,\n",
            "      \"notEnoughToken\": 0,\n",
            "      \"invalidJson\": 0,\n",
            "      \"oversizeToken\": 0,\n",
            "      \"vertex\": [],\n",
            "      \"edge\": [\n",
            "        {\n",
            "          \"typeName\": \"liked\",\n",
            "          \"validObject\": 5000,\n",
            "          \"noIdFound\": 0,\n",
            "          \"invalidAttribute\": 1,\n",
            "          \"invalidAttributeLines\": [\n",
            "            \"1:like_date\"\n",
            "          ],\n",
            "          \"invalidAttributeLinesData\": [\n",
            "            \"id,by_user,liked_post,liked_date\\n\"\n",
            "          ],\n",
            "          \"invalidVertexType\": 0,\n",
            "          \"invalidPrimaryId\": 0,\n",
            "          \"invalidSecondaryId\": 0,\n",
            "          \"incorrectFixedBinaryLength\": 0\n",
            "        }\n",
            "      ],\n",
            "      \"deleteVertex\": [],\n",
            "      \"deleteEdge\": []\n",
            "    }\n",
            "  }\n",
            "]\n"
          ]
        }
      ]
    },
    {
      "cell_type": "code",
      "metadata": {
        "id": "6rxfhiE-lkDQ",
        "colab": {
          "base_uri": "https://localhost:8080/"
        },
        "outputId": "ce84f7a8-e753-4ce3-a770-fe17e7f1b31f"
      },
      "source": [
        "# Load the messages file wiht the 'load_messages' job\n",
        "messages_file = '/content/TigerGraph-101/messages.csv'\n",
        "results = conn.uploadFile(messages_file, fileTag='MyDataSource', jobName='load_messages')\n",
        "print(json.dumps(results, indent=2))"
      ],
      "execution_count": 18,
      "outputs": [
        {
          "output_type": "stream",
          "name": "stdout",
          "text": [
            "[\n",
            "  {\n",
            "    \"sourceFileName\": \"Online_POST\",\n",
            "    \"statistics\": {\n",
            "      \"validLine\": 1001,\n",
            "      \"rejectLine\": 0,\n",
            "      \"failedConditionLine\": 0,\n",
            "      \"notEnoughToken\": 0,\n",
            "      \"invalidJson\": 0,\n",
            "      \"oversizeToken\": 0,\n",
            "      \"vertex\": [\n",
            "        {\n",
            "          \"typeName\": \"Message\",\n",
            "          \"validObject\": 1001,\n",
            "          \"noIdFound\": 0,\n",
            "          \"invalidAttribute\": 0,\n",
            "          \"invalidVertexType\": 0,\n",
            "          \"invalidPrimaryId\": 0,\n",
            "          \"invalidSecondaryId\": 0,\n",
            "          \"incorrectFixedBinaryLength\": 0\n",
            "        }\n",
            "      ],\n",
            "      \"edge\": [\n",
            "        {\n",
            "          \"typeName\": \"sent_message\",\n",
            "          \"validObject\": 1000,\n",
            "          \"noIdFound\": 0,\n",
            "          \"invalidAttribute\": 1,\n",
            "          \"invalidAttributeLines\": [\n",
            "            \"1:sent_date\"\n",
            "          ],\n",
            "          \"invalidAttributeLinesData\": [\n",
            "            \"id,body,subject,by_user,to_user,send_date,read_date\\n\"\n",
            "          ],\n",
            "          \"invalidVertexType\": 0,\n",
            "          \"invalidPrimaryId\": 0,\n",
            "          \"invalidSecondaryId\": 0,\n",
            "          \"incorrectFixedBinaryLength\": 0\n",
            "        },\n",
            "        {\n",
            "          \"typeName\": \"received_message\",\n",
            "          \"validObject\": 1000,\n",
            "          \"noIdFound\": 0,\n",
            "          \"invalidAttribute\": 1,\n",
            "          \"invalidAttributeLines\": [\n",
            "            \"1:receive_date\"\n",
            "          ],\n",
            "          \"invalidAttributeLinesData\": [\n",
            "            \"id,body,subject,by_user,to_user,send_date,read_date\\n\"\n",
            "          ],\n",
            "          \"invalidVertexType\": 0,\n",
            "          \"invalidPrimaryId\": 0,\n",
            "          \"invalidSecondaryId\": 0,\n",
            "          \"incorrectFixedBinaryLength\": 0\n",
            "        }\n",
            "      ],\n",
            "      \"deleteVertex\": [],\n",
            "      \"deleteEdge\": []\n",
            "    }\n",
            "  }\n",
            "]\n"
          ]
        }
      ]
    },
    {
      "cell_type": "code",
      "metadata": {
        "id": "b4G_4vpdlDt8",
        "colab": {
          "base_uri": "https://localhost:8080/"
        },
        "outputId": "d87c66c7-40fb-4521-fe50-cf84ccd7f040"
      },
      "source": [
        "# Load the people file wiht the 'load_people' job\n",
        "people_file = '/content/TigerGraph-101/users.csv'\n",
        "results = conn.uploadFile(people_file, fileTag='MyDataSource', jobName='load_people')\n",
        "print(json.dumps(results, indent=2))"
      ],
      "execution_count": 19,
      "outputs": [
        {
          "output_type": "stream",
          "name": "stdout",
          "text": [
            "[\n",
            "  {\n",
            "    \"sourceFileName\": \"Online_POST\",\n",
            "    \"statistics\": {\n",
            "      \"validLine\": 101,\n",
            "      \"rejectLine\": 0,\n",
            "      \"failedConditionLine\": 0,\n",
            "      \"notEnoughToken\": 0,\n",
            "      \"invalidJson\": 0,\n",
            "      \"oversizeToken\": 0,\n",
            "      \"vertex\": [\n",
            "        {\n",
            "          \"typeName\": \"Person\",\n",
            "          \"validObject\": 100,\n",
            "          \"noIdFound\": 0,\n",
            "          \"invalidAttribute\": 1,\n",
            "          \"invalidAttributeLines\": [\n",
            "            \"1:created_at\"\n",
            "          ],\n",
            "          \"invalidAttributeLinesData\": [\n",
            "            \"id,email,username,name,join_date\\n\"\n",
            "          ],\n",
            "          \"invalidVertexType\": 0,\n",
            "          \"invalidPrimaryId\": 0,\n",
            "          \"invalidSecondaryId\": 0,\n",
            "          \"incorrectFixedBinaryLength\": 0\n",
            "        }\n",
            "      ],\n",
            "      \"edge\": [],\n",
            "      \"deleteVertex\": [],\n",
            "      \"deleteEdge\": []\n",
            "    }\n",
            "  }\n",
            "]\n"
          ]
        }
      ]
    },
    {
      "cell_type": "markdown",
      "metadata": {
        "id": "gAFCKYK61nzx"
      },
      "source": [
        "## Exploring the Graph"
      ]
    },
    {
      "cell_type": "markdown",
      "metadata": {
        "id": "4rJ_Vedw7oms"
      },
      "source": [
        "### Get Vertex and Edge Schema"
      ]
    },
    {
      "cell_type": "code",
      "metadata": {
        "colab": {
          "base_uri": "https://localhost:8080/"
        },
        "id": "g9F25xMY1p0p",
        "outputId": "45ad608a-b27a-46ef-a0bb-f4bd9087a3f9"
      },
      "source": [
        "results = conn.getVertexTypes()\n",
        "print(f\"Verticies: {results}\")\n",
        "vertices = results\n",
        "\n",
        "results = conn.getEdgeTypes()\n",
        "print(f\"Edges: {results}\")\n",
        "edges = results"
      ],
      "execution_count": 20,
      "outputs": [
        {
          "output_type": "stream",
          "name": "stdout",
          "text": [
            "Verticies: ['Person', 'Post', 'Hashtag', 'Message']\n",
            "Edges: ['posted', 'liked', 'has_tag', 'sent_message', 'received_message']\n"
          ]
        }
      ]
    },
    {
      "cell_type": "code",
      "metadata": {
        "id": "RrWUEQ7p2TOK",
        "colab": {
          "base_uri": "https://localhost:8080/"
        },
        "outputId": "f00fbd83-feb9-4b7a-cefb-1c871ab47192"
      },
      "source": [
        "\n",
        "print(f\"Results for Post vertex\")\n",
        "pprint(conn.getVertexType(\"Message\"))\n",
        "\n",
        "print(\"-----------------\")\n",
        "print(f\"Results for liked edge\")\n",
        "pprint(conn.getEdgeType(\"liked\"))\n"
      ],
      "execution_count": 21,
      "outputs": [
        {
          "output_type": "stream",
          "name": "stdout",
          "text": [
            "Results for Post vertex\n",
            "{\n",
            "  \"Config\": {\n",
            "    \"TAGGABLE\": false,\n",
            "    \"STATS\": \"OUTDEGREE_BY_EDGETYPE\",\n",
            "    \"PRIMARY_ID_AS_ATTRIBUTE\": true\n",
            "  },\n",
            "  \"Attributes\": [\n",
            "    {\n",
            "      \"AttributeType\": {\n",
            "        \"Name\": \"STRING\"\n",
            "      },\n",
            "      \"IsPartOfCompositeKey\": false,\n",
            "      \"PrimaryIdAsAttribute\": false,\n",
            "      \"AttributeName\": \"subject\",\n",
            "      \"HasIndex\": false,\n",
            "      \"internalAttribute\": false,\n",
            "      \"IsPrimaryKey\": false\n",
            "    },\n",
            "    {\n",
            "      \"AttributeType\": {\n",
            "        \"Name\": \"STRING\"\n",
            "      },\n",
            "      \"IsPartOfCompositeKey\": false,\n",
            "      \"PrimaryIdAsAttribute\": false,\n",
            "      \"AttributeName\": \"body\",\n",
            "      \"HasIndex\": false,\n",
            "      \"internalAttribute\": false,\n",
            "      \"IsPrimaryKey\": false\n",
            "    }\n",
            "  ],\n",
            "  \"PrimaryId\": {\n",
            "    \"AttributeType\": {\n",
            "      \"Name\": \"STRING\"\n",
            "    },\n",
            "    \"IsPartOfCompositeKey\": false,\n",
            "    \"PrimaryIdAsAttribute\": true,\n",
            "    \"AttributeName\": \"id\",\n",
            "    \"HasIndex\": false,\n",
            "    \"internalAttribute\": false,\n",
            "    \"IsPrimaryKey\": false\n",
            "  },\n",
            "  \"Name\": \"Message\"\n",
            "}\n",
            "-----------------\n",
            "Results for liked edge\n",
            "{\n",
            "  \"IsDirected\": true,\n",
            "  \"ToVertexTypeName\": \"Post\",\n",
            "  \"Config\": {\n",
            "    \"REVERSE_EDGE\": \"reverse_liked\"\n",
            "  },\n",
            "  \"Attributes\": [\n",
            "    {\n",
            "      \"AttributeType\": {\n",
            "        \"Name\": \"DATETIME\"\n",
            "      },\n",
            "      \"IsPartOfCompositeKey\": false,\n",
            "      \"PrimaryIdAsAttribute\": false,\n",
            "      \"AttributeName\": \"like_date\",\n",
            "      \"HasIndex\": false,\n",
            "      \"internalAttribute\": false,\n",
            "      \"IsPrimaryKey\": false\n",
            "    }\n",
            "  ],\n",
            "  \"FromVertexTypeName\": \"Person\",\n",
            "  \"Name\": \"liked\"\n",
            "}\n"
          ]
        }
      ]
    },
    {
      "cell_type": "markdown",
      "metadata": {
        "id": "jWUaoSAa5ir6"
      },
      "source": [
        "## Counting Data"
      ]
    },
    {
      "cell_type": "code",
      "metadata": {
        "colab": {
          "base_uri": "https://localhost:8080/"
        },
        "id": "rkFt8Y9I3kYp",
        "outputId": "232c1ef1-47eb-45b3-e7c7-d02b4e2260e0"
      },
      "source": [
        "print(\"Vertex Counts\")\n",
        "for vertex in vertices:\n",
        "  print(f\"There are {conn.getVertexCount(vertex)} {vertex} vertices in the graph\")\n",
        "\n",
        "print(\"--------------\")\n",
        "print(\"Edge Counts\")\n",
        "for edge in edges:\n",
        "  print(f\"There are {conn.getEdgeCount(edge)} {edge} edges in the graph\")"
      ],
      "execution_count": 22,
      "outputs": [
        {
          "output_type": "stream",
          "name": "stdout",
          "text": [
            "Vertex Counts\n",
            "There are 100 Person vertices in the graph\n",
            "There are 1001 Post vertices in the graph\n",
            "There are 308 Hashtag vertices in the graph\n",
            "There are 1001 Message vertices in the graph\n",
            "--------------\n",
            "Edge Counts\n",
            "There are 1000 posted edges in the graph\n",
            "There are 4869 liked edges in the graph\n",
            "There are 2567 has_tag edges in the graph\n",
            "There are 1000 sent_message edges in the graph\n",
            "There are 1000 received_message edges in the graph\n"
          ]
        }
      ]
    },
    {
      "cell_type": "markdown",
      "metadata": {
        "id": "TnUz48uPCxQk"
      },
      "source": [
        "## Extracting Data"
      ]
    },
    {
      "cell_type": "markdown",
      "metadata": {
        "id": "MYVeVJvwHZlP"
      },
      "source": [
        "### Vertex/Edge Set Format"
      ]
    },
    {
      "cell_type": "markdown",
      "metadata": {
        "id": "eX3x8Ao9ENDm"
      },
      "source": [
        "#### Getting a Vertex"
      ]
    },
    {
      "cell_type": "code",
      "metadata": {
        "id": "QKIHiOeSC2IO",
        "colab": {
          "base_uri": "https://localhost:8080/"
        },
        "outputId": "d4a47c6f-7d69-4566-aa53-58e5b944fd53"
      },
      "source": [
        "results = conn.getVerticesById(\"Person\", \"30\")\n",
        "pprint(results)"
      ],
      "execution_count": 23,
      "outputs": [
        {
          "output_type": "stream",
          "name": "stdout",
          "text": [
            "[\n",
            "  {\n",
            "    \"v_id\": \"30\",\n",
            "    \"v_type\": \"Person\",\n",
            "    \"attributes\": {\n",
            "      \"id\": \"30\",\n",
            "      \"name\": \"Garrot Mattin\",\n",
            "      \"email\": \"gmattint@dion.ne.jp\",\n",
            "      \"username\": \"gmattint\",\n",
            "      \"created_at\": \"2018-12-23 08:52:51\"\n",
            "    }\n",
            "  }\n",
            "]\n"
          ]
        }
      ]
    },
    {
      "cell_type": "markdown",
      "metadata": {
        "id": "wvRr72nfERqZ"
      },
      "source": [
        "#### Or Multiple Vertices"
      ]
    },
    {
      "cell_type": "code",
      "metadata": {
        "id": "dCDiIakzEULm",
        "colab": {
          "base_uri": "https://localhost:8080/"
        },
        "outputId": "5bad5e55-2510-4e86-cc93-fe3326309b95"
      },
      "source": [
        "tdf1 = conn.getVerticesById(\"Post\", [\"200\",\"400\"])\n",
        "pprint(tdf1)"
      ],
      "execution_count": 24,
      "outputs": [
        {
          "output_type": "stream",
          "name": "stdout",
          "text": [
            "[\n",
            "  {\n",
            "    \"v_id\": \"200\",\n",
            "    \"v_type\": \"Post\",\n",
            "    \"attributes\": {\n",
            "      \"id\": \"200\",\n",
            "      \"content\": \"Fusce consequat. Nulla nisl. Nunc nisl. Duis bibendum, felis sed interdum venenatis, turpis enim blandit mi, in porttitor pede justo eu massa. Donec dapibus.\",\n",
            "      \"posted_date\": \"2021-02-01 17:37:03\",\n",
            "      \"deleted\": true\n",
            "    }\n",
            "  },\n",
            "  {\n",
            "    \"v_id\": \"400\",\n",
            "    \"v_type\": \"Post\",\n",
            "    \"attributes\": {\n",
            "      \"id\": \"400\",\n",
            "      \"content\": \"Nulla neque libero, convallis eget, eleifend luctus, ultricies eu, nibh. Quisque id justo sit amet sapien dignissim vestibulum. Vestibulum ante ipsum primis in faucibus orci luctus et ultrices posuere cubilia Curae; Nulla dapibus dolor vel est. Donec odio justo, sollicitudin ut, suscipit a, feugiat et, eros.\",\n",
            "      \"posted_date\": \"2020-03-16 11:19:30\",\n",
            "      \"deleted\": false\n",
            "    }\n",
            "  }\n",
            "]\n"
          ]
        }
      ]
    },
    {
      "cell_type": "markdown",
      "metadata": {
        "id": "vqJASpgJEg6-"
      },
      "source": [
        "#### Count Edges Connected to a Vertex"
      ]
    },
    {
      "cell_type": "code",
      "metadata": {
        "id": "t-wNtrkfEj3y",
        "colab": {
          "base_uri": "https://localhost:8080/"
        },
        "outputId": "865b4d6c-f86b-48bb-c165-29c66fa1f609"
      },
      "source": [
        "results = conn.getEdgeCountFrom(\"Person\", \"38\")\n",
        "pprint(results)"
      ],
      "execution_count": 25,
      "outputs": [
        {
          "output_type": "stream",
          "name": "stdout",
          "text": [
            "{\n",
            "  \"posted\": 6,\n",
            "  \"reverse_posted\": 0,\n",
            "  \"liked\": 38,\n",
            "  \"reverse_liked\": 0,\n",
            "  \"has_tag\": 0,\n",
            "  \"reverse_has_tag\": 0,\n",
            "  \"sent_message\": 13,\n",
            "  \"reverse_sent_message\": 0,\n",
            "  \"received_message\": 0,\n",
            "  \"reverse_received_message\": 13\n",
            "}\n"
          ]
        }
      ]
    },
    {
      "cell_type": "markdown",
      "metadata": {
        "id": "4g2KqQmpE1KJ"
      },
      "source": [
        "#### Show all Edges Connected to a Vertex"
      ]
    },
    {
      "cell_type": "code",
      "metadata": {
        "id": "OWVCDSvCE598",
        "colab": {
          "base_uri": "https://localhost:8080/"
        },
        "outputId": "bd69c2e2-5cb4-4fc4-f8e4-43b6deb1d602"
      },
      "source": [
        "results = conn.getEdges(\"Post\", \"345\")\n",
        "pprint(results)"
      ],
      "execution_count": 26,
      "outputs": [
        {
          "output_type": "stream",
          "name": "stdout",
          "text": [
            "[\n",
            "  {\n",
            "    \"e_type\": \"reverse_posted\",\n",
            "    \"directed\": true,\n",
            "    \"from_id\": \"345\",\n",
            "    \"from_type\": \"Post\",\n",
            "    \"to_id\": \"59\",\n",
            "    \"to_type\": \"Person\",\n",
            "    \"attributes\": {\n",
            "      \"post_date\": \"2021-04-05 22:33:38\"\n",
            "    }\n",
            "  },\n",
            "  {\n",
            "    \"e_type\": \"reverse_liked\",\n",
            "    \"directed\": true,\n",
            "    \"from_id\": \"345\",\n",
            "    \"from_type\": \"Post\",\n",
            "    \"to_id\": \"63\",\n",
            "    \"to_type\": \"Person\",\n",
            "    \"attributes\": {\n",
            "      \"like_date\": \"2020-12-17 22:14:48\"\n",
            "    }\n",
            "  },\n",
            "  {\n",
            "    \"e_type\": \"reverse_liked\",\n",
            "    \"directed\": true,\n",
            "    \"from_id\": \"345\",\n",
            "    \"from_type\": \"Post\",\n",
            "    \"to_id\": \"85\",\n",
            "    \"to_type\": \"Person\",\n",
            "    \"attributes\": {\n",
            "      \"like_date\": \"2020-03-16 15:25:18\"\n",
            "    }\n",
            "  },\n",
            "  {\n",
            "    \"e_type\": \"reverse_liked\",\n",
            "    \"directed\": true,\n",
            "    \"from_id\": \"345\",\n",
            "    \"from_type\": \"Post\",\n",
            "    \"to_id\": \"30\",\n",
            "    \"to_type\": \"Person\",\n",
            "    \"attributes\": {\n",
            "      \"like_date\": \"2019-07-25 11:46:19\"\n",
            "    }\n",
            "  },\n",
            "  {\n",
            "    \"e_type\": \"reverse_liked\",\n",
            "    \"directed\": true,\n",
            "    \"from_id\": \"345\",\n",
            "    \"from_type\": \"Post\",\n",
            "    \"to_id\": \"54\",\n",
            "    \"to_type\": \"Person\",\n",
            "    \"attributes\": {\n",
            "      \"like_date\": \"2019-10-03 05:38:34\"\n",
            "    }\n",
            "  },\n",
            "  {\n",
            "    \"e_type\": \"reverse_liked\",\n",
            "    \"directed\": true,\n",
            "    \"from_id\": \"345\",\n",
            "    \"from_type\": \"Post\",\n",
            "    \"to_id\": \"22\",\n",
            "    \"to_type\": \"Person\",\n",
            "    \"attributes\": {\n",
            "      \"like_date\": \"2018-10-12 17:29:36\"\n",
            "    }\n",
            "  },\n",
            "  {\n",
            "    \"e_type\": \"reverse_liked\",\n",
            "    \"directed\": true,\n",
            "    \"from_id\": \"345\",\n",
            "    \"from_type\": \"Post\",\n",
            "    \"to_id\": \"19\",\n",
            "    \"to_type\": \"Person\",\n",
            "    \"attributes\": {\n",
            "      \"like_date\": \"2019-04-26 01:03:07\"\n",
            "    }\n",
            "  },\n",
            "  {\n",
            "    \"e_type\": \"reverse_liked\",\n",
            "    \"directed\": true,\n",
            "    \"from_id\": \"345\",\n",
            "    \"from_type\": \"Post\",\n",
            "    \"to_id\": \"97\",\n",
            "    \"to_type\": \"Person\",\n",
            "    \"attributes\": {\n",
            "      \"like_date\": \"2018-10-25 13:48:50\"\n",
            "    }\n",
            "  },\n",
            "  {\n",
            "    \"e_type\": \"reverse_liked\",\n",
            "    \"directed\": true,\n",
            "    \"from_id\": \"345\",\n",
            "    \"from_type\": \"Post\",\n",
            "    \"to_id\": \"95\",\n",
            "    \"to_type\": \"Person\",\n",
            "    \"attributes\": {\n",
            "      \"like_date\": \"2019-09-20 06:45:41\"\n",
            "    }\n",
            "  },\n",
            "  {\n",
            "    \"e_type\": \"has_tag\",\n",
            "    \"directed\": true,\n",
            "    \"from_id\": \"345\",\n",
            "    \"from_type\": \"Post\",\n",
            "    \"to_id\": \"Reactive\",\n",
            "    \"to_type\": \"Hashtag\",\n",
            "    \"attributes\": {}\n",
            "  },\n",
            "  {\n",
            "    \"e_type\": \"has_tag\",\n",
            "    \"directed\": true,\n",
            "    \"from_id\": \"345\",\n",
            "    \"from_type\": \"Post\",\n",
            "    \"to_id\": \"product\",\n",
            "    \"to_type\": \"Hashtag\",\n",
            "    \"attributes\": {}\n",
            "  }\n",
            "]\n"
          ]
        }
      ]
    },
    {
      "cell_type": "markdown",
      "metadata": {
        "id": "ckFBOkiOCzyk"
      },
      "source": [
        "### As Pandas Dataframe\n",
        "Supports all of the above in native Pandas Dataframe format."
      ]
    },
    {
      "cell_type": "markdown",
      "metadata": {
        "id": "MqGq0jozFayA"
      },
      "source": [
        "#### All Vertices of one Type"
      ]
    },
    {
      "cell_type": "code",
      "metadata": {
        "id": "tfUKpWbaFM3u",
        "colab": {
          "base_uri": "https://localhost:8080/"
        },
        "outputId": "67cb348f-38cc-45db-92ab-52a3dbd045d5"
      },
      "source": [
        "df1 = conn.getVertexDataframe(\"Hashtag\")\n",
        "print(df1)"
      ],
      "execution_count": 27,
      "outputs": [
        {
          "output_type": "stream",
          "name": "stdout",
          "text": [
            "                 v_id               tag\n",
            "0          middleware        middleware\n",
            "1          Horizontal        Horizontal\n",
            "2     next generation   next generation\n",
            "3           Operative         Operative\n",
            "4     object-oriented   object-oriented\n",
            "..                ...               ...\n",
            "303      service-desk      service-desk\n",
            "304  Open-architected  Open-architected\n",
            "305         Ergonomic         Ergonomic\n",
            "306          software          software\n",
            "307        complexity        complexity\n",
            "\n",
            "[308 rows x 2 columns]\n"
          ]
        }
      ]
    },
    {
      "cell_type": "markdown",
      "metadata": {
        "id": "Cs5chjJBFgw8"
      },
      "source": [
        "#### One or More Vertex"
      ]
    },
    {
      "cell_type": "code",
      "metadata": {
        "id": "ZqZZ8r0EFiMg",
        "colab": {
          "base_uri": "https://localhost:8080/"
        },
        "outputId": "05fb2133-c1f8-4844-9cf3-2868341256ee"
      },
      "source": [
        "df2 = conn.getVertexDataframeById(\"Post\", [\"45\"])\n",
        "print(df2)"
      ],
      "execution_count": 28,
      "outputs": [
        {
          "output_type": "stream",
          "name": "stdout",
          "text": [
            "  v_id  id  ...          posted_date deleted\n",
            "0   45  45  ...  2019-05-30 13:14:33   False\n",
            "\n",
            "[1 rows x 5 columns]\n"
          ]
        }
      ]
    },
    {
      "cell_type": "markdown",
      "metadata": {
        "id": "P5KKOIxcF7Co"
      },
      "source": [
        "#### Convert Vertex/Edge Set to Dataframe\n",
        "We'll use the results from the 'Or Multiple Vertices' cell. "
      ]
    },
    {
      "cell_type": "code",
      "metadata": {
        "id": "5toKOF-1GIjH",
        "colab": {
          "base_uri": "https://localhost:8080/"
        },
        "outputId": "4f4f9ce1-ace9-4f0c-a285-f1b0130bad06"
      },
      "source": [
        "df3 = conn.vertexSetToDataFrame(tdf1)\n",
        "print(df3)"
      ],
      "execution_count": 29,
      "outputs": [
        {
          "output_type": "stream",
          "name": "stdout",
          "text": [
            "  v_id   id  ...          posted_date deleted\n",
            "0  200  200  ...  2021-02-01 17:37:03    True\n",
            "1  400  400  ...  2020-03-16 11:19:30   False\n",
            "\n",
            "[2 rows x 5 columns]\n"
          ]
        }
      ]
    },
    {
      "cell_type": "markdown",
      "metadata": {
        "id": "zswIzwgKHnCr"
      },
      "source": [
        "#### Get Edges"
      ]
    },
    {
      "cell_type": "code",
      "metadata": {
        "id": "jnPTicB4HwpH",
        "colab": {
          "base_uri": "https://localhost:8080/"
        },
        "outputId": "139907dd-9f54-4652-d9f6-8f43aee987ff"
      },
      "source": [
        "df4 = conn.getEdgesDataframe(\"Post\", \"344\", limit=3)\n",
        "print(df4)"
      ],
      "execution_count": 30,
      "outputs": [
        {
          "output_type": "stream",
          "name": "stdout",
          "text": [
            "  from_type from_id to_type to_id            post_date            like_date\n",
            "0      Post     344  Person    92  2019-02-10 11:18:04                  NaN\n",
            "1      Post     344  Person    69                  NaN  2021-05-08 21:31:39\n",
            "2      Post     344  Person    73                  NaN  2018-12-30 16:54:19\n"
          ]
        }
      ]
    },
    {
      "cell_type": "markdown",
      "metadata": {
        "id": "AijIsGUr5fDq"
      },
      "source": [
        "## Path Finding\n",
        "Find paths between vertices.\n",
        "\n",
        "Supported are:\n",
        "- shortestPath - one shortest path between vertices\n",
        "- allPaths - all paths within the specified edge limit"
      ]
    },
    {
      "cell_type": "code",
      "metadata": {
        "id": "MxIMRX1x5UPQ",
        "colab": {
          "base_uri": "https://localhost:8080/"
        },
        "outputId": "7c042d1e-4205-44f3-929b-bd8ea89c577a"
      },
      "source": [
        "results = conn.shortestPath([(\"Person\", \"50\")], [(\"Person\", \"45\")])\n",
        "pprint(results)"
      ],
      "execution_count": 31,
      "outputs": [
        {
          "output_type": "stream",
          "name": "stdout",
          "text": [
            "[{'type': 'Person', 'id': '50'}]\n",
            "[{'type': 'Person', 'id': '45'}]\n",
            "[\n",
            "  {\n",
            "    \"vertices\": [\n",
            "      {\n",
            "        \"v_id\": \"50\",\n",
            "        \"v_type\": \"Person\",\n",
            "        \"attributes\": {\n",
            "          \"id\": \"50\",\n",
            "          \"name\": \"Hali Dales\",\n",
            "          \"email\": \"hdales1d@comsenz.com\",\n",
            "          \"username\": \"hdales1d\",\n",
            "          \"created_at\": \"2021-02-01 17:45:56\"\n",
            "        }\n",
            "      },\n",
            "      {\n",
            "        \"v_id\": \"45\",\n",
            "        \"v_type\": \"Person\",\n",
            "        \"attributes\": {\n",
            "          \"id\": \"45\",\n",
            "          \"name\": \"Agathe Van Zon\",\n",
            "          \"email\": \"avan18@geocities.com\",\n",
            "          \"username\": \"avan18\",\n",
            "          \"created_at\": \"2019-08-04 04:31:23\"\n",
            "        }\n",
            "      },\n",
            "      {\n",
            "        \"v_id\": \"614\",\n",
            "        \"v_type\": \"Post\",\n",
            "        \"attributes\": {\n",
            "          \"id\": \"614\",\n",
            "          \"content\": \"Etiam vel augue. Vestibulum rutrum rutrum neque. Aenean auctor gravida sem.\",\n",
            "          \"posted_date\": \"2020-08-27 22:24:11\",\n",
            "          \"deleted\": false\n",
            "        }\n",
            "      }\n",
            "    ],\n",
            "    \"edges\": [\n",
            "      {\n",
            "        \"e_type\": \"liked\",\n",
            "        \"from_id\": \"50\",\n",
            "        \"from_type\": \"Person\",\n",
            "        \"to_id\": \"614\",\n",
            "        \"to_type\": \"Post\",\n",
            "        \"directed\": true,\n",
            "        \"attributes\": {\n",
            "          \"like_date\": \"2020-08-26 09:06:20\"\n",
            "        }\n",
            "      },\n",
            "      {\n",
            "        \"e_type\": \"reverse_liked\",\n",
            "        \"from_id\": \"614\",\n",
            "        \"from_type\": \"Post\",\n",
            "        \"to_id\": \"45\",\n",
            "        \"to_type\": \"Person\",\n",
            "        \"directed\": true,\n",
            "        \"attributes\": {\n",
            "          \"like_date\": \"2021-02-25 05:29:57\"\n",
            "        }\n",
            "      }\n",
            "    ]\n",
            "  }\n",
            "]\n"
          ]
        }
      ]
    },
    {
      "cell_type": "markdown",
      "metadata": {
        "id": "GHEELAkc71YG"
      },
      "source": [
        "## Queries"
      ]
    },
    {
      "cell_type": "markdown",
      "metadata": {
        "id": "yLGmhxJqHzIC"
      },
      "source": [
        "### All Hashtags from all Posts from Input User"
      ]
    },
    {
      "cell_type": "markdown",
      "metadata": {
        "id": "dPhwOjdHFU8i"
      },
      "source": [
        "Person -posted> Post -has_tag> Hash_tag ... graph path"
      ]
    },
    {
      "cell_type": "code",
      "metadata": {
        "colab": {
          "base_uri": "https://localhost:8080/"
        },
        "id": "OhQVIRL8uEsH",
        "outputId": "cd56c368-abcd-4a87-80a0-66335e329967"
      },
      "source": [
        "results = conn.gsql('''\n",
        "  USE GRAPH MyGraph\n",
        "  CREATE QUERY hashtags_from_person(VERTEX<Person> inPer) FOR GRAPH MyGraph SYNTAX v2 { \n",
        "  \n",
        "  person = {inPer};\n",
        "\n",
        "  tag = SELECT t FROM person:pe - (posted>) - Post:p - (has_tag>) - Hashtag:t;\n",
        "\n",
        "  // Below line does the same thing and looks cleaner, intermediate nodes can be ignored if not being referenced\n",
        "  // tag = SELECT t FROM person:pe - (posted>.has_tag>) - Hashtag:t;\n",
        "\n",
        "  PRINT tag;\n",
        "  }\n",
        "  ''')\n",
        "pprint(results)"
      ],
      "execution_count": 32,
      "outputs": [
        {
          "output_type": "stream",
          "name": "stdout",
          "text": [
            "\"Using graph 'MyGraph'\\nSuccessfully created queries: [hashtags_from_person].\"\n"
          ]
        }
      ]
    },
    {
      "cell_type": "markdown",
      "metadata": {
        "id": "z16UsQUYzYkn"
      },
      "source": [
        "### Posts that Users who Liked the Source Post Also Liked"
      ]
    },
    {
      "cell_type": "markdown",
      "metadata": {
        "id": "ejh-W7VJFnym"
      },
      "source": [
        "post <like- Person -liked> post ... graph path, vertice Person in commom\n"
      ]
    },
    {
      "cell_type": "code",
      "metadata": {
        "colab": {
          "base_uri": "https://localhost:8080/"
        },
        "id": "Wb5LzMVyzN5D",
        "outputId": "11d814a8-4725-4978-fe46-acbd09bf8108"
      },
      "source": [
        "results = conn.gsql('''\n",
        "  USE GRAPH MyGraph\n",
        "  CREATE QUERY most_common_mutual_liked_post(VERTEX<Post> inPost, INT maxReturn) FOR GRAPH MyGraph SYNTAX v2 {\n",
        "  TYPEDEF tuple<STRING post, INT likes> frequency;\n",
        "  \n",
        "  // Find the posts most liked by the group of people who liked the input post\n",
        "  HeapAccum<frequency>(maxReturn, likes DESC) @@topTestResults;\n",
        "  SumAccum<INT> @likes;\n",
        "  \n",
        "  post = {inPost};\n",
        "  \n",
        "  ml = SELECT op FROM post - (<liked) - Person - (liked>) - Post:op\n",
        "  ACCUM\n",
        "    op.@likes += 1\n",
        "  POST-ACCUM\n",
        "    @@topTestResults += frequency(op.id, op.@likes);\n",
        "  \n",
        "  PRINT @@topTestResults;\n",
        "}\n",
        "  ''')\n",
        "pprint(results)"
      ],
      "execution_count": 33,
      "outputs": [
        {
          "output_type": "stream",
          "name": "stdout",
          "text": [
            "\"Using graph 'MyGraph'\\nSuccessfully created queries: [most_common_mutual_liked_post].\"\n"
          ]
        }
      ]
    },
    {
      "cell_type": "markdown",
      "metadata": {
        "id": "QP5kArQPKKKN"
      },
      "source": [
        "### Similarity Algo\n",
        "\n",
        "Jaccard similarity-esque algorithm that will be referenced as a sub-query."
      ]
    },
    {
      "cell_type": "markdown",
      "metadata": {
        "id": "aabd8cHUGQ0G"
      },
      "source": [
        "Jaccard é calculado pela interseção / união das hash tags ... cada pessoa tem um conjunto de hash tags de acordo com os posts que deu like"
      ]
    },
    {
      "cell_type": "code",
      "metadata": {
        "colab": {
          "base_uri": "https://localhost:8080/"
        },
        "id": "lhGT8gmKJKEN",
        "outputId": "9db95553-a22d-4f1d-b5c7-76c0885171f7"
      },
      "source": [
        "results = conn.gsql('''\n",
        "  USE GRAPH MyGraph\n",
        "  CREATE QUERY similarity(Set<STRING> A, Set<STRING> B) FOR GRAPH MyGraph RETURNS (FLOAT){ \n",
        "\tSetAccum<STRING> @@inter, @@uni;\n",
        "\tFLOAT similarity;\n",
        "\t\n",
        "\tIF A.size() != 0 AND B.size() !=0 THEN\n",
        "\t  @@inter = A INTERSECT B;\n",
        "\t  @@uni = A UNION B;\n",
        "\t\n",
        "\t  IF @@inter.size() == 0 THEN\n",
        "\t    similarity = 0;\n",
        "\t  ELSE \n",
        "\t    similarity = @@inter.size()*1.0/@@uni.size();\n",
        "\t    END;\n",
        "\tELSE\n",
        "\t  similarity = 0;\n",
        "\t  END;\n",
        "\t\n",
        "\tPRINT similarity;\n",
        "\tRETURN similarity;\n",
        "}\n",
        "  ''')\n",
        "pprint(results)"
      ],
      "execution_count": 34,
      "outputs": [
        {
          "output_type": "stream",
          "name": "stdout",
          "text": [
            "\"Using graph 'MyGraph'\\nSuccessfully created queries: [similarity].\"\n"
          ]
        }
      ]
    },
    {
      "cell_type": "markdown",
      "metadata": {
        "id": "C1wU47_KKOGZ"
      },
      "source": [
        "### Find Users Who Like Similar Hashtags to what Input User Posts"
      ]
    },
    {
      "cell_type": "code",
      "metadata": {
        "colab": {
          "base_uri": "https://localhost:8080/"
        },
        "id": "Ic2QnIzdJuKD",
        "outputId": "e690564c-7136-4eb4-c341-24ab7e4401e9"
      },
      "source": [
        "results = conn.gsql('''\n",
        "  USE GRAPH MyGraph\n",
        "  CREATE QUERY people_with_similar_tags(VERTEX<Person> inPer, INT maxReturn) FOR GRAPH MyGraph SYNTAX v2{ \n",
        "  TYPEDEF tuple<STRING person, FLOAT tag> simTags;\n",
        "  \n",
        "  HeapAccum<simTags>(maxReturn, tag DESC) @@topTagResults;\n",
        "  SetAccum<STRING> @tags;\n",
        "  SetAccum<STRING> @@inTags;\n",
        "  person = {inPer};\n",
        "  people = {Person.*};\n",
        "  \n",
        "  // Get the hashtags of our input person's posts\n",
        "  ourTags = SELECT t FROM person - (posted>.has_tag>) - Hashtag:t\n",
        "  ACCUM\n",
        "    @@inTags += t.tag;\n",
        "  \n",
        "  // Get the hashtags of all posts all people have liked\n",
        "  simPeople = SELECT p FROM people:p - (liked>.has_tag>) - Hashtag:t\n",
        "  ACCUM\n",
        "    p.@tags += t.tag\n",
        "  POST-ACCUM\n",
        "  // Compare the group of hashtags from our input person to that of the person we're currently checking\n",
        "    @@topTagResults += simTags(p.id,similarity(@@inTags,p.@tags));\n",
        "  \n",
        "  PRINT @@topTagResults;\n",
        "  }\n",
        "  ''')\n",
        "pprint(results)"
      ],
      "execution_count": 35,
      "outputs": [
        {
          "output_type": "stream",
          "name": "stdout",
          "text": [
            "\"Using graph 'MyGraph'\\nSuccessfully created queries: [people_with_similar_tags].\"\n"
          ]
        }
      ]
    },
    {
      "cell_type": "markdown",
      "metadata": {
        "id": "SJJWItcnHoeJ"
      },
      "source": [
        "## Installing Queries\n",
        "\n",
        "Installing the queries will take about 6 minutes total."
      ]
    },
    {
      "cell_type": "code",
      "metadata": {
        "id": "ZYV6DScUDxDi",
        "colab": {
          "base_uri": "https://localhost:8080/",
          "height": 72
        },
        "outputId": "a9886c1d-c762-4092-cb4a-c5a64716784d"
      },
      "source": [
        "conn.gsql('''\n",
        "  USE GRAPH MyGraph\n",
        "  INSTALL QUERY similarity\n",
        "''')"
      ],
      "execution_count": 36,
      "outputs": [
        {
          "output_type": "execute_result",
          "data": {
            "application/vnd.google.colaboratory.intrinsic+json": {
              "type": "string"
            },
            "text/plain": [
              "'Using graph \\'MyGraph\\'\\nStart installing queries, about 1 minute ...\\nsimilarity query: curl -X GET \\'https://127.0.0.1:9000/query/MyGraph/similarity?A=VALUE&B=VALUE\\'. Add -H \"Authorization: Bearer TOKEN\" if authentication is enabled.\\nSelect \\'m1\\' as compile server, now connecting ...\\nNode \\'m1\\' is prepared as compile server.\\n\\nQuery installation finished.'"
            ]
          },
          "metadata": {},
          "execution_count": 36
        }
      ]
    },
    {
      "cell_type": "markdown",
      "metadata": {
        "id": "c8zrD8nzN-As"
      },
      "source": [
        "## Run Queries"
      ]
    },
    {
      "cell_type": "markdown",
      "metadata": {
        "id": "7wa1r7-aOxfB"
      },
      "source": [
        "### Hashtags a Person has Posted\n",
        "\n",
        "Returned as a Vertex Set, note that the additional vertex information is returned as well as the name."
      ]
    },
    {
      "cell_type": "code",
      "metadata": {
        "id": "GwyCOJisN86t",
        "colab": {
          "base_uri": "https://localhost:8080/",
          "height": 343
        },
        "outputId": "543a294f-0f35-4439-f549-0c83c07d8a0a"
      },
      "source": [
        "results = conn.runInstalledQuery(\"hashtags_from_person\", params={\"inPer\": \"50\"})\n",
        "pprint(results)"
      ],
      "execution_count": 37,
      "outputs": [
        {
          "output_type": "error",
          "ename": "HTTPError",
          "evalue": "ignored",
          "traceback": [
            "\u001b[0;31m---------------------------------------------------------------------------\u001b[0m",
            "\u001b[0;31mHTTPError\u001b[0m                                 Traceback (most recent call last)",
            "\u001b[0;32m<ipython-input-37-274b3ba5d3d8>\u001b[0m in \u001b[0;36m<module>\u001b[0;34m()\u001b[0m\n\u001b[0;32m----> 1\u001b[0;31m \u001b[0mresults\u001b[0m \u001b[0;34m=\u001b[0m \u001b[0mconn\u001b[0m\u001b[0;34m.\u001b[0m\u001b[0mrunInstalledQuery\u001b[0m\u001b[0;34m(\u001b[0m\u001b[0;34m\"hashtags_from_person\"\u001b[0m\u001b[0;34m,\u001b[0m \u001b[0mparams\u001b[0m\u001b[0;34m=\u001b[0m\u001b[0;34m{\u001b[0m\u001b[0;34m\"inPer\"\u001b[0m\u001b[0;34m:\u001b[0m \u001b[0;34m\"50\"\u001b[0m\u001b[0;34m}\u001b[0m\u001b[0;34m)\u001b[0m\u001b[0;34m\u001b[0m\u001b[0;34m\u001b[0m\u001b[0m\n\u001b[0m\u001b[1;32m      2\u001b[0m \u001b[0mpprint\u001b[0m\u001b[0;34m(\u001b[0m\u001b[0mresults\u001b[0m\u001b[0;34m)\u001b[0m\u001b[0;34m\u001b[0m\u001b[0;34m\u001b[0m\u001b[0m\n",
            "\u001b[0;32m/usr/local/lib/python3.7/dist-packages/pyTigerGraph/pyTigerGraph.py\u001b[0m in \u001b[0;36mrunInstalledQuery\u001b[0;34m(self, queryName, params, timeout, sizeLimit, usePost)\u001b[0m\n\u001b[1;32m   1174\u001b[0m         \u001b[0;32melse\u001b[0m\u001b[0;34m:\u001b[0m\u001b[0;34m\u001b[0m\u001b[0;34m\u001b[0m\u001b[0m\n\u001b[1;32m   1175\u001b[0m             return self._get(self.restppUrl + \"/query/\" + self.graphname + \"/\" + queryName, params=params,\n\u001b[0;32m-> 1176\u001b[0;31m                              headers={\"RESPONSE-LIMIT\": str(sizeLimit), \"GSQL-TIMEOUT\": str(timeout)})\n\u001b[0m\u001b[1;32m   1177\u001b[0m \u001b[0;34m\u001b[0m\u001b[0m\n\u001b[1;32m   1178\u001b[0m     \u001b[0;32mdef\u001b[0m \u001b[0mrunInterpretedQuery\u001b[0m\u001b[0;34m(\u001b[0m\u001b[0mself\u001b[0m\u001b[0;34m,\u001b[0m \u001b[0mqueryText\u001b[0m\u001b[0;34m,\u001b[0m \u001b[0mparams\u001b[0m\u001b[0;34m=\u001b[0m\u001b[0;32mNone\u001b[0m\u001b[0;34m)\u001b[0m\u001b[0;34m:\u001b[0m\u001b[0;34m\u001b[0m\u001b[0;34m\u001b[0m\u001b[0m\n",
            "\u001b[0;32m/usr/local/lib/python3.7/dist-packages/pyTigerGraph/pyTigerGraph.py\u001b[0m in \u001b[0;36m_get\u001b[0;34m(self, url, authMode, headers, resKey, skipCheck, params)\u001b[0m\n\u001b[1;32m    212\u001b[0m         \u001b[0mFor\u001b[0m \u001b[0margument\u001b[0m \u001b[0mdetails\u001b[0m\u001b[0;34m,\u001b[0m \u001b[0msee\u001b[0m\u001b[0;31m \u001b[0m\u001b[0;31m`\u001b[0m\u001b[0m_req\u001b[0m\u001b[0;31m`\u001b[0m\u001b[0;34m.\u001b[0m\u001b[0;34m\u001b[0m\u001b[0;34m\u001b[0m\u001b[0m\n\u001b[1;32m    213\u001b[0m         \"\"\"\n\u001b[0;32m--> 214\u001b[0;31m         \u001b[0mres\u001b[0m \u001b[0;34m=\u001b[0m \u001b[0mself\u001b[0m\u001b[0;34m.\u001b[0m\u001b[0m_req\u001b[0m\u001b[0;34m(\u001b[0m\u001b[0;34m\"GET\"\u001b[0m\u001b[0;34m,\u001b[0m \u001b[0murl\u001b[0m\u001b[0;34m,\u001b[0m \u001b[0mauthMode\u001b[0m\u001b[0;34m,\u001b[0m \u001b[0mheaders\u001b[0m\u001b[0;34m,\u001b[0m \u001b[0;32mNone\u001b[0m\u001b[0;34m,\u001b[0m \u001b[0mresKey\u001b[0m\u001b[0;34m,\u001b[0m \u001b[0mskipCheck\u001b[0m\u001b[0;34m,\u001b[0m \u001b[0mparams\u001b[0m\u001b[0;34m)\u001b[0m\u001b[0;34m\u001b[0m\u001b[0;34m\u001b[0m\u001b[0m\n\u001b[0m\u001b[1;32m    215\u001b[0m         \u001b[0;32mreturn\u001b[0m \u001b[0mres\u001b[0m\u001b[0;34m\u001b[0m\u001b[0;34m\u001b[0m\u001b[0m\n\u001b[1;32m    216\u001b[0m \u001b[0;34m\u001b[0m\u001b[0m\n",
            "\u001b[0;32m/usr/local/lib/python3.7/dist-packages/pyTigerGraph/pyTigerGraph.py\u001b[0m in \u001b[0;36m_req\u001b[0;34m(self, method, url, authMode, headers, data, resKey, skipCheck, params)\u001b[0m\n\u001b[1;32m    195\u001b[0m \u001b[0;34m\u001b[0m\u001b[0m\n\u001b[1;32m    196\u001b[0m         \u001b[0;32mif\u001b[0m \u001b[0mres\u001b[0m\u001b[0;34m.\u001b[0m\u001b[0mstatus_code\u001b[0m \u001b[0;34m!=\u001b[0m \u001b[0;36m200\u001b[0m\u001b[0;34m:\u001b[0m\u001b[0;34m\u001b[0m\u001b[0;34m\u001b[0m\u001b[0m\n\u001b[0;32m--> 197\u001b[0;31m             \u001b[0mres\u001b[0m\u001b[0;34m.\u001b[0m\u001b[0mraise_for_status\u001b[0m\u001b[0;34m(\u001b[0m\u001b[0;34m)\u001b[0m\u001b[0;34m\u001b[0m\u001b[0;34m\u001b[0m\u001b[0m\n\u001b[0m\u001b[1;32m    198\u001b[0m         \u001b[0mres\u001b[0m \u001b[0;34m=\u001b[0m \u001b[0mjson\u001b[0m\u001b[0;34m.\u001b[0m\u001b[0mloads\u001b[0m\u001b[0;34m(\u001b[0m\u001b[0mres\u001b[0m\u001b[0;34m.\u001b[0m\u001b[0mtext\u001b[0m\u001b[0;34m)\u001b[0m\u001b[0;34m\u001b[0m\u001b[0;34m\u001b[0m\u001b[0m\n\u001b[1;32m    199\u001b[0m         \u001b[0;32mif\u001b[0m \u001b[0;32mnot\u001b[0m \u001b[0mskipCheck\u001b[0m\u001b[0;34m:\u001b[0m\u001b[0;34m\u001b[0m\u001b[0;34m\u001b[0m\u001b[0m\n",
            "\u001b[0;32m/usr/local/lib/python3.7/dist-packages/requests/models.py\u001b[0m in \u001b[0;36mraise_for_status\u001b[0;34m(self)\u001b[0m\n\u001b[1;32m    939\u001b[0m \u001b[0;34m\u001b[0m\u001b[0m\n\u001b[1;32m    940\u001b[0m         \u001b[0;32mif\u001b[0m \u001b[0mhttp_error_msg\u001b[0m\u001b[0;34m:\u001b[0m\u001b[0;34m\u001b[0m\u001b[0;34m\u001b[0m\u001b[0m\n\u001b[0;32m--> 941\u001b[0;31m             \u001b[0;32mraise\u001b[0m \u001b[0mHTTPError\u001b[0m\u001b[0;34m(\u001b[0m\u001b[0mhttp_error_msg\u001b[0m\u001b[0;34m,\u001b[0m \u001b[0mresponse\u001b[0m\u001b[0;34m=\u001b[0m\u001b[0mself\u001b[0m\u001b[0;34m)\u001b[0m\u001b[0;34m\u001b[0m\u001b[0;34m\u001b[0m\u001b[0m\n\u001b[0m\u001b[1;32m    942\u001b[0m \u001b[0;34m\u001b[0m\u001b[0m\n\u001b[1;32m    943\u001b[0m     \u001b[0;32mdef\u001b[0m \u001b[0mclose\u001b[0m\u001b[0;34m(\u001b[0m\u001b[0mself\u001b[0m\u001b[0;34m)\u001b[0m\u001b[0;34m:\u001b[0m\u001b[0;34m\u001b[0m\u001b[0;34m\u001b[0m\u001b[0m\n",
            "\u001b[0;31mHTTPError\u001b[0m: 422 Client Error: query is disabled for url: https://socialnetwork-tg.i.tgcloud.io:9000/query/MyGraph/hashtags_from_person?inPer=50"
          ]
        }
      ]
    },
    {
      "cell_type": "markdown",
      "metadata": {
        "id": "uqZfowPWPArK"
      },
      "source": [
        "### Posts Most Liked by the People who Liked the Input Post\n",
        "\n",
        "- `inPost` is the input post, currently set to post id `500`. Feel free to change that and see how other posts relate.\n",
        "- `maxReturn` is the max number of like posts to return. Currently set to `10`"
      ]
    },
    {
      "cell_type": "code",
      "metadata": {
        "id": "UEE2gxA4OM5p",
        "colab": {
          "base_uri": "https://localhost:8080/",
          "height": 362
        },
        "outputId": "8560b8fa-0dcc-44b6-8d65-e7964fea7009"
      },
      "source": [
        "results = conn.runInstalledQuery(\"most_common_mutual_liked_post\", params={\"inPost\": \"500\",\"maxReturn\": \"10\"})\n",
        "pprint(results)"
      ],
      "execution_count": 38,
      "outputs": [
        {
          "output_type": "error",
          "ename": "HTTPError",
          "evalue": "ignored",
          "traceback": [
            "\u001b[0;31m---------------------------------------------------------------------------\u001b[0m",
            "\u001b[0;31mHTTPError\u001b[0m                                 Traceback (most recent call last)",
            "\u001b[0;32m<ipython-input-38-6195c789675e>\u001b[0m in \u001b[0;36m<module>\u001b[0;34m()\u001b[0m\n\u001b[0;32m----> 1\u001b[0;31m \u001b[0mresults\u001b[0m \u001b[0;34m=\u001b[0m \u001b[0mconn\u001b[0m\u001b[0;34m.\u001b[0m\u001b[0mrunInstalledQuery\u001b[0m\u001b[0;34m(\u001b[0m\u001b[0;34m\"most_common_mutual_liked_post\"\u001b[0m\u001b[0;34m,\u001b[0m \u001b[0mparams\u001b[0m\u001b[0;34m=\u001b[0m\u001b[0;34m{\u001b[0m\u001b[0;34m\"inPost\"\u001b[0m\u001b[0;34m:\u001b[0m \u001b[0;34m\"500\"\u001b[0m\u001b[0;34m,\u001b[0m\u001b[0;34m\"maxReturn\"\u001b[0m\u001b[0;34m:\u001b[0m \u001b[0;34m\"10\"\u001b[0m\u001b[0;34m}\u001b[0m\u001b[0;34m)\u001b[0m\u001b[0;34m\u001b[0m\u001b[0;34m\u001b[0m\u001b[0m\n\u001b[0m\u001b[1;32m      2\u001b[0m \u001b[0mpprint\u001b[0m\u001b[0;34m(\u001b[0m\u001b[0mresults\u001b[0m\u001b[0;34m)\u001b[0m\u001b[0;34m\u001b[0m\u001b[0;34m\u001b[0m\u001b[0m\n",
            "\u001b[0;32m/usr/local/lib/python3.7/dist-packages/pyTigerGraph/pyTigerGraph.py\u001b[0m in \u001b[0;36mrunInstalledQuery\u001b[0;34m(self, queryName, params, timeout, sizeLimit, usePost)\u001b[0m\n\u001b[1;32m   1174\u001b[0m         \u001b[0;32melse\u001b[0m\u001b[0;34m:\u001b[0m\u001b[0;34m\u001b[0m\u001b[0;34m\u001b[0m\u001b[0m\n\u001b[1;32m   1175\u001b[0m             return self._get(self.restppUrl + \"/query/\" + self.graphname + \"/\" + queryName, params=params,\n\u001b[0;32m-> 1176\u001b[0;31m                              headers={\"RESPONSE-LIMIT\": str(sizeLimit), \"GSQL-TIMEOUT\": str(timeout)})\n\u001b[0m\u001b[1;32m   1177\u001b[0m \u001b[0;34m\u001b[0m\u001b[0m\n\u001b[1;32m   1178\u001b[0m     \u001b[0;32mdef\u001b[0m \u001b[0mrunInterpretedQuery\u001b[0m\u001b[0;34m(\u001b[0m\u001b[0mself\u001b[0m\u001b[0;34m,\u001b[0m \u001b[0mqueryText\u001b[0m\u001b[0;34m,\u001b[0m \u001b[0mparams\u001b[0m\u001b[0;34m=\u001b[0m\u001b[0;32mNone\u001b[0m\u001b[0;34m)\u001b[0m\u001b[0;34m:\u001b[0m\u001b[0;34m\u001b[0m\u001b[0;34m\u001b[0m\u001b[0m\n",
            "\u001b[0;32m/usr/local/lib/python3.7/dist-packages/pyTigerGraph/pyTigerGraph.py\u001b[0m in \u001b[0;36m_get\u001b[0;34m(self, url, authMode, headers, resKey, skipCheck, params)\u001b[0m\n\u001b[1;32m    212\u001b[0m         \u001b[0mFor\u001b[0m \u001b[0margument\u001b[0m \u001b[0mdetails\u001b[0m\u001b[0;34m,\u001b[0m \u001b[0msee\u001b[0m\u001b[0;31m \u001b[0m\u001b[0;31m`\u001b[0m\u001b[0m_req\u001b[0m\u001b[0;31m`\u001b[0m\u001b[0;34m.\u001b[0m\u001b[0;34m\u001b[0m\u001b[0;34m\u001b[0m\u001b[0m\n\u001b[1;32m    213\u001b[0m         \"\"\"\n\u001b[0;32m--> 214\u001b[0;31m         \u001b[0mres\u001b[0m \u001b[0;34m=\u001b[0m \u001b[0mself\u001b[0m\u001b[0;34m.\u001b[0m\u001b[0m_req\u001b[0m\u001b[0;34m(\u001b[0m\u001b[0;34m\"GET\"\u001b[0m\u001b[0;34m,\u001b[0m \u001b[0murl\u001b[0m\u001b[0;34m,\u001b[0m \u001b[0mauthMode\u001b[0m\u001b[0;34m,\u001b[0m \u001b[0mheaders\u001b[0m\u001b[0;34m,\u001b[0m \u001b[0;32mNone\u001b[0m\u001b[0;34m,\u001b[0m \u001b[0mresKey\u001b[0m\u001b[0;34m,\u001b[0m \u001b[0mskipCheck\u001b[0m\u001b[0;34m,\u001b[0m \u001b[0mparams\u001b[0m\u001b[0;34m)\u001b[0m\u001b[0;34m\u001b[0m\u001b[0;34m\u001b[0m\u001b[0m\n\u001b[0m\u001b[1;32m    215\u001b[0m         \u001b[0;32mreturn\u001b[0m \u001b[0mres\u001b[0m\u001b[0;34m\u001b[0m\u001b[0;34m\u001b[0m\u001b[0m\n\u001b[1;32m    216\u001b[0m \u001b[0;34m\u001b[0m\u001b[0m\n",
            "\u001b[0;32m/usr/local/lib/python3.7/dist-packages/pyTigerGraph/pyTigerGraph.py\u001b[0m in \u001b[0;36m_req\u001b[0;34m(self, method, url, authMode, headers, data, resKey, skipCheck, params)\u001b[0m\n\u001b[1;32m    195\u001b[0m \u001b[0;34m\u001b[0m\u001b[0m\n\u001b[1;32m    196\u001b[0m         \u001b[0;32mif\u001b[0m \u001b[0mres\u001b[0m\u001b[0;34m.\u001b[0m\u001b[0mstatus_code\u001b[0m \u001b[0;34m!=\u001b[0m \u001b[0;36m200\u001b[0m\u001b[0;34m:\u001b[0m\u001b[0;34m\u001b[0m\u001b[0;34m\u001b[0m\u001b[0m\n\u001b[0;32m--> 197\u001b[0;31m             \u001b[0mres\u001b[0m\u001b[0;34m.\u001b[0m\u001b[0mraise_for_status\u001b[0m\u001b[0;34m(\u001b[0m\u001b[0;34m)\u001b[0m\u001b[0;34m\u001b[0m\u001b[0;34m\u001b[0m\u001b[0m\n\u001b[0m\u001b[1;32m    198\u001b[0m         \u001b[0mres\u001b[0m \u001b[0;34m=\u001b[0m \u001b[0mjson\u001b[0m\u001b[0;34m.\u001b[0m\u001b[0mloads\u001b[0m\u001b[0;34m(\u001b[0m\u001b[0mres\u001b[0m\u001b[0;34m.\u001b[0m\u001b[0mtext\u001b[0m\u001b[0;34m)\u001b[0m\u001b[0;34m\u001b[0m\u001b[0;34m\u001b[0m\u001b[0m\n\u001b[1;32m    199\u001b[0m         \u001b[0;32mif\u001b[0m \u001b[0;32mnot\u001b[0m \u001b[0mskipCheck\u001b[0m\u001b[0;34m:\u001b[0m\u001b[0;34m\u001b[0m\u001b[0;34m\u001b[0m\u001b[0m\n",
            "\u001b[0;32m/usr/local/lib/python3.7/dist-packages/requests/models.py\u001b[0m in \u001b[0;36mraise_for_status\u001b[0;34m(self)\u001b[0m\n\u001b[1;32m    939\u001b[0m \u001b[0;34m\u001b[0m\u001b[0m\n\u001b[1;32m    940\u001b[0m         \u001b[0;32mif\u001b[0m \u001b[0mhttp_error_msg\u001b[0m\u001b[0;34m:\u001b[0m\u001b[0;34m\u001b[0m\u001b[0;34m\u001b[0m\u001b[0m\n\u001b[0;32m--> 941\u001b[0;31m             \u001b[0;32mraise\u001b[0m \u001b[0mHTTPError\u001b[0m\u001b[0;34m(\u001b[0m\u001b[0mhttp_error_msg\u001b[0m\u001b[0;34m,\u001b[0m \u001b[0mresponse\u001b[0m\u001b[0;34m=\u001b[0m\u001b[0mself\u001b[0m\u001b[0;34m)\u001b[0m\u001b[0;34m\u001b[0m\u001b[0;34m\u001b[0m\u001b[0m\n\u001b[0m\u001b[1;32m    942\u001b[0m \u001b[0;34m\u001b[0m\u001b[0m\n\u001b[1;32m    943\u001b[0m     \u001b[0;32mdef\u001b[0m \u001b[0mclose\u001b[0m\u001b[0;34m(\u001b[0m\u001b[0mself\u001b[0m\u001b[0;34m)\u001b[0m\u001b[0;34m:\u001b[0m\u001b[0;34m\u001b[0m\u001b[0;34m\u001b[0m\u001b[0m\n",
            "\u001b[0;31mHTTPError\u001b[0m: 422 Client Error: query is disabled for url: https://socialnetwork-tg.i.tgcloud.io:9000/query/MyGraph/most_common_mutual_liked_post?inPost=500&maxReturn=10"
          ]
        }
      ]
    },
    {
      "cell_type": "markdown",
      "metadata": {
        "id": "E_Qf4_N-Pqla"
      },
      "source": [
        "### People who Like Posts with Similar Hashtags to what Input User Posts\n",
        "\n",
        "- `inPer` is the input person who you are finding similar people to.\n",
        "- `maxReturn` is the max number of similar people to return."
      ]
    },
    {
      "cell_type": "code",
      "metadata": {
        "id": "kO6MEEqjOfOg",
        "colab": {
          "base_uri": "https://localhost:8080/",
          "height": 362
        },
        "outputId": "85db85e4-1aad-4adf-c903-27ce0f4a6d9a"
      },
      "source": [
        "results = conn.runInstalledQuery(\"people_with_similar_tags\", params={\"inPer\": \"50\",\"maxReturn\": \"10\"})\n",
        "pprint(results)"
      ],
      "execution_count": 39,
      "outputs": [
        {
          "output_type": "error",
          "ename": "HTTPError",
          "evalue": "ignored",
          "traceback": [
            "\u001b[0;31m---------------------------------------------------------------------------\u001b[0m",
            "\u001b[0;31mHTTPError\u001b[0m                                 Traceback (most recent call last)",
            "\u001b[0;32m<ipython-input-39-1a0203b11983>\u001b[0m in \u001b[0;36m<module>\u001b[0;34m()\u001b[0m\n\u001b[0;32m----> 1\u001b[0;31m \u001b[0mresults\u001b[0m \u001b[0;34m=\u001b[0m \u001b[0mconn\u001b[0m\u001b[0;34m.\u001b[0m\u001b[0mrunInstalledQuery\u001b[0m\u001b[0;34m(\u001b[0m\u001b[0;34m\"people_with_similar_tags\"\u001b[0m\u001b[0;34m,\u001b[0m \u001b[0mparams\u001b[0m\u001b[0;34m=\u001b[0m\u001b[0;34m{\u001b[0m\u001b[0;34m\"inPer\"\u001b[0m\u001b[0;34m:\u001b[0m \u001b[0;34m\"50\"\u001b[0m\u001b[0;34m,\u001b[0m\u001b[0;34m\"maxReturn\"\u001b[0m\u001b[0;34m:\u001b[0m \u001b[0;34m\"10\"\u001b[0m\u001b[0;34m}\u001b[0m\u001b[0;34m)\u001b[0m\u001b[0;34m\u001b[0m\u001b[0;34m\u001b[0m\u001b[0m\n\u001b[0m\u001b[1;32m      2\u001b[0m \u001b[0mpprint\u001b[0m\u001b[0;34m(\u001b[0m\u001b[0mresults\u001b[0m\u001b[0;34m)\u001b[0m\u001b[0;34m\u001b[0m\u001b[0;34m\u001b[0m\u001b[0m\n",
            "\u001b[0;32m/usr/local/lib/python3.7/dist-packages/pyTigerGraph/pyTigerGraph.py\u001b[0m in \u001b[0;36mrunInstalledQuery\u001b[0;34m(self, queryName, params, timeout, sizeLimit, usePost)\u001b[0m\n\u001b[1;32m   1174\u001b[0m         \u001b[0;32melse\u001b[0m\u001b[0;34m:\u001b[0m\u001b[0;34m\u001b[0m\u001b[0;34m\u001b[0m\u001b[0m\n\u001b[1;32m   1175\u001b[0m             return self._get(self.restppUrl + \"/query/\" + self.graphname + \"/\" + queryName, params=params,\n\u001b[0;32m-> 1176\u001b[0;31m                              headers={\"RESPONSE-LIMIT\": str(sizeLimit), \"GSQL-TIMEOUT\": str(timeout)})\n\u001b[0m\u001b[1;32m   1177\u001b[0m \u001b[0;34m\u001b[0m\u001b[0m\n\u001b[1;32m   1178\u001b[0m     \u001b[0;32mdef\u001b[0m \u001b[0mrunInterpretedQuery\u001b[0m\u001b[0;34m(\u001b[0m\u001b[0mself\u001b[0m\u001b[0;34m,\u001b[0m \u001b[0mqueryText\u001b[0m\u001b[0;34m,\u001b[0m \u001b[0mparams\u001b[0m\u001b[0;34m=\u001b[0m\u001b[0;32mNone\u001b[0m\u001b[0;34m)\u001b[0m\u001b[0;34m:\u001b[0m\u001b[0;34m\u001b[0m\u001b[0;34m\u001b[0m\u001b[0m\n",
            "\u001b[0;32m/usr/local/lib/python3.7/dist-packages/pyTigerGraph/pyTigerGraph.py\u001b[0m in \u001b[0;36m_get\u001b[0;34m(self, url, authMode, headers, resKey, skipCheck, params)\u001b[0m\n\u001b[1;32m    212\u001b[0m         \u001b[0mFor\u001b[0m \u001b[0margument\u001b[0m \u001b[0mdetails\u001b[0m\u001b[0;34m,\u001b[0m \u001b[0msee\u001b[0m\u001b[0;31m \u001b[0m\u001b[0;31m`\u001b[0m\u001b[0m_req\u001b[0m\u001b[0;31m`\u001b[0m\u001b[0;34m.\u001b[0m\u001b[0;34m\u001b[0m\u001b[0;34m\u001b[0m\u001b[0m\n\u001b[1;32m    213\u001b[0m         \"\"\"\n\u001b[0;32m--> 214\u001b[0;31m         \u001b[0mres\u001b[0m \u001b[0;34m=\u001b[0m \u001b[0mself\u001b[0m\u001b[0;34m.\u001b[0m\u001b[0m_req\u001b[0m\u001b[0;34m(\u001b[0m\u001b[0;34m\"GET\"\u001b[0m\u001b[0;34m,\u001b[0m \u001b[0murl\u001b[0m\u001b[0;34m,\u001b[0m \u001b[0mauthMode\u001b[0m\u001b[0;34m,\u001b[0m \u001b[0mheaders\u001b[0m\u001b[0;34m,\u001b[0m \u001b[0;32mNone\u001b[0m\u001b[0;34m,\u001b[0m \u001b[0mresKey\u001b[0m\u001b[0;34m,\u001b[0m \u001b[0mskipCheck\u001b[0m\u001b[0;34m,\u001b[0m \u001b[0mparams\u001b[0m\u001b[0;34m)\u001b[0m\u001b[0;34m\u001b[0m\u001b[0;34m\u001b[0m\u001b[0m\n\u001b[0m\u001b[1;32m    215\u001b[0m         \u001b[0;32mreturn\u001b[0m \u001b[0mres\u001b[0m\u001b[0;34m\u001b[0m\u001b[0;34m\u001b[0m\u001b[0m\n\u001b[1;32m    216\u001b[0m \u001b[0;34m\u001b[0m\u001b[0m\n",
            "\u001b[0;32m/usr/local/lib/python3.7/dist-packages/pyTigerGraph/pyTigerGraph.py\u001b[0m in \u001b[0;36m_req\u001b[0;34m(self, method, url, authMode, headers, data, resKey, skipCheck, params)\u001b[0m\n\u001b[1;32m    195\u001b[0m \u001b[0;34m\u001b[0m\u001b[0m\n\u001b[1;32m    196\u001b[0m         \u001b[0;32mif\u001b[0m \u001b[0mres\u001b[0m\u001b[0;34m.\u001b[0m\u001b[0mstatus_code\u001b[0m \u001b[0;34m!=\u001b[0m \u001b[0;36m200\u001b[0m\u001b[0;34m:\u001b[0m\u001b[0;34m\u001b[0m\u001b[0;34m\u001b[0m\u001b[0m\n\u001b[0;32m--> 197\u001b[0;31m             \u001b[0mres\u001b[0m\u001b[0;34m.\u001b[0m\u001b[0mraise_for_status\u001b[0m\u001b[0;34m(\u001b[0m\u001b[0;34m)\u001b[0m\u001b[0;34m\u001b[0m\u001b[0;34m\u001b[0m\u001b[0m\n\u001b[0m\u001b[1;32m    198\u001b[0m         \u001b[0mres\u001b[0m \u001b[0;34m=\u001b[0m \u001b[0mjson\u001b[0m\u001b[0;34m.\u001b[0m\u001b[0mloads\u001b[0m\u001b[0;34m(\u001b[0m\u001b[0mres\u001b[0m\u001b[0;34m.\u001b[0m\u001b[0mtext\u001b[0m\u001b[0;34m)\u001b[0m\u001b[0;34m\u001b[0m\u001b[0;34m\u001b[0m\u001b[0m\n\u001b[1;32m    199\u001b[0m         \u001b[0;32mif\u001b[0m \u001b[0;32mnot\u001b[0m \u001b[0mskipCheck\u001b[0m\u001b[0;34m:\u001b[0m\u001b[0;34m\u001b[0m\u001b[0;34m\u001b[0m\u001b[0m\n",
            "\u001b[0;32m/usr/local/lib/python3.7/dist-packages/requests/models.py\u001b[0m in \u001b[0;36mraise_for_status\u001b[0;34m(self)\u001b[0m\n\u001b[1;32m    939\u001b[0m \u001b[0;34m\u001b[0m\u001b[0m\n\u001b[1;32m    940\u001b[0m         \u001b[0;32mif\u001b[0m \u001b[0mhttp_error_msg\u001b[0m\u001b[0;34m:\u001b[0m\u001b[0;34m\u001b[0m\u001b[0;34m\u001b[0m\u001b[0m\n\u001b[0;32m--> 941\u001b[0;31m             \u001b[0;32mraise\u001b[0m \u001b[0mHTTPError\u001b[0m\u001b[0;34m(\u001b[0m\u001b[0mhttp_error_msg\u001b[0m\u001b[0;34m,\u001b[0m \u001b[0mresponse\u001b[0m\u001b[0;34m=\u001b[0m\u001b[0mself\u001b[0m\u001b[0;34m)\u001b[0m\u001b[0;34m\u001b[0m\u001b[0;34m\u001b[0m\u001b[0m\n\u001b[0m\u001b[1;32m    942\u001b[0m \u001b[0;34m\u001b[0m\u001b[0m\n\u001b[1;32m    943\u001b[0m     \u001b[0;32mdef\u001b[0m \u001b[0mclose\u001b[0m\u001b[0;34m(\u001b[0m\u001b[0mself\u001b[0m\u001b[0;34m)\u001b[0m\u001b[0;34m:\u001b[0m\u001b[0;34m\u001b[0m\u001b[0;34m\u001b[0m\u001b[0m\n",
            "\u001b[0;31mHTTPError\u001b[0m: 422 Client Error: query is disabled for url: https://socialnetwork-tg.i.tgcloud.io:9000/query/MyGraph/people_with_similar_tags?inPer=50&maxReturn=10"
          ]
        }
      ]
    },
    {
      "cell_type": "markdown",
      "metadata": {
        "id": "1J9PbEfeJZdY"
      },
      "source": [
        "## Clear the Whole Graph\n",
        "DANGER ZONE"
      ]
    },
    {
      "cell_type": "code",
      "metadata": {
        "colab": {
          "base_uri": "https://localhost:8080/",
          "height": 91
        },
        "id": "2uNaRku7ixVK",
        "outputId": "86136e63-9531-4afd-ddde-23916332e304"
      },
      "source": [
        "conn.gsql('''\n",
        "USE GLOBAL\n",
        "DROP ALL\n",
        "''')"
      ],
      "execution_count": 67,
      "outputs": [
        {
          "output_type": "execute_result",
          "data": {
            "application/vnd.google.colaboratory.intrinsic+json": {
              "type": "string"
            },
            "text/plain": [
              "'Dropping all, about 1 minute ...\\nAbort all active loading jobs\\nTry to abort all loading jobs on graph MyGraph, it may take a while ...\\n[ABORT_SUCCESS] No active Loading Job to abort.\\nTry to abort all loading jobs on graph OutroGrafo, it may take a while ...\\n[ABORT_SUCCESS] No active Loading Job to abort.\\nResetting GPE...\\nSuccessfully reset GPE and GSE\\nStopping GPE GSE\\nSuccessfully stopped GPE GSE in 0.003 seconds\\nClearing graph store...\\nSuccessfully cleared graph store\\nStarting GPE GSE RESTPP\\nSuccessfully started GPE GSE RESTPP in 0.157 seconds\\nEverything is dropped.'"
            ]
          },
          "metadata": {},
          "execution_count": 67
        }
      ]
    },
    {
      "cell_type": "code",
      "metadata": {
        "id": "E8LePQlwWrs5"
      },
      "source": [
        ""
      ],
      "execution_count": null,
      "outputs": []
    }
  ]
}