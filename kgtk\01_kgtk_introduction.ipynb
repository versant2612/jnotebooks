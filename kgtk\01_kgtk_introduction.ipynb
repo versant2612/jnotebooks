{
  "nbformat": 4,
  "nbformat_minor": 5,
  "metadata": {
    "jupytext": {
      "formats": "ipynb,py:light"
    },
    "kernelspec": {
      "display_name": "Python 3 (ipykernel)",
      "language": "python",
      "name": "python3"
    },
    "language_info": {
      "codemirror_mode": {
        "name": "ipython",
        "version": 3
      },
      "file_extension": ".py",
      "mimetype": "text/x-python",
      "name": "python",
      "nbconvert_exporter": "python",
      "pygments_lexer": "ipython3",
      "version": "3.9.7"
    },
    "colab": {
      "name": "01-kgtk-introduction.ipynb",
      "provenance": [],
      "collapsed_sections": [],
      "include_colab_link": true
    }
  },
  "cells": [
    {
      "cell_type": "markdown",
      "metadata": {
        "id": "view-in-github",
        "colab_type": "text"
      },
      "source": [
        "<a href=\"https://colab.research.google.com/github/versant2612/jnotebooks/blob/main/kgtk%5C01_kgtk_introduction.ipynb\" target=\"_parent\"><img src=\"https://colab.research.google.com/assets/colab-badge.svg\" alt=\"Open In Colab\"/></a>"
      ]
    },
    {
      "cell_type": "code",
      "metadata": {
        "id": "axeS9uewQ1Cr"
      },
      "source": [
        "!pip install kgtk==1.0.1"
      ],
      "id": "axeS9uewQ1Cr",
      "execution_count": null,
      "outputs": []
    },
    {
      "cell_type": "markdown",
      "metadata": {
        "id": "51d077a7"
      },
      "source": [
        "# Query knowledge graphs with KGTK Kypher"
      ],
      "id": "51d077a7"
    },
    {
      "cell_type": "markdown",
      "metadata": {
        "id": "a0bef068"
      },
      "source": [
        "This tutorial gives an overview of the core features of the KGTK Kypher query language.  \n",
        "\n",
        "For additional details refer to the reading list at the end. "
      ],
      "id": "a0bef068"
    },
    {
      "cell_type": "markdown",
      "metadata": {
        "id": "28ca9cbc"
      },
      "source": [
        "### Notebook data setup"
      ],
      "id": "28ca9cbc"
    },
    {
      "cell_type": "code",
      "metadata": {
        "id": "2d11ddcf"
      },
      "source": [
        "import os\n",
        "import os.path\n",
        "\n",
        "from kgtk.configure_kgtk_notebooks import ConfigureKGTK"
      ],
      "id": "2d11ddcf",
      "execution_count": null,
      "outputs": []
    },
    {
      "cell_type": "code",
      "metadata": {
        "tags": [
          "parameters"
        ],
        "id": "cfe8ba35"
      },
      "source": [
        "# Parameters\n",
        "\n",
        "# Folders on local machine where to create the output and temporary files:\n",
        "input_path = None\n",
        "output_path = \"/tmp/projects\"\n",
        "project_name = \"tutorial-kypher\""
      ],
      "id": "cfe8ba35",
      "execution_count": null,
      "outputs": []
    },
    {
      "cell_type": "code",
      "metadata": {
        "id": "0e28525d"
      },
      "source": [
        "# These are all the KG files that we use in this notebook:\n",
        "small_files = [\n",
        "    \"small-graph.tsv\",\n",
        "    \"small-films.tsv\",\n",
        "    \"small-props.tsv\",\n",
        "    \"small-quals.tsv\",\n",
        "]\n",
        "\n",
        "big_files = [\n",
        "    \"all\",\n",
        "    \"label\",\n",
        "    \"pagerank_undirected\",\n",
        "]\n",
        "\n",
        "ck = ConfigureKGTK(big_files)\n",
        "ck.configure_kgtk(input_graph_path=input_path, output_path=output_path, project_name=project_name)\n",
        "\n",
        "# small files are special and need some extra steps:\n",
        "ck_small = ConfigureKGTK(small_files, input_files_url=\"https://github.com/usc-isi-i2/kgtk-tutorial-files/raw/main/datasets/arnold-small\")\n",
        "ck_small.configure_kgtk(input_graph_path='ignore', output_path=output_path, project_name=project_name)\n",
        "ck_small.graph_files.update({f:f for f in small_files})\n",
        "ck_small.configure_kgtk(input_graph_path=input_path, output_path=output_path, project_name=project_name)"
      ],
      "id": "0e28525d",
      "execution_count": null,
      "outputs": []
    },
    {
      "cell_type": "code",
      "metadata": {
        "id": "22ddd656",
        "colab": {
          "base_uri": "https://localhost:8080/"
        },
        "outputId": "b70622e7-7e99-4545-f1df-386aeb01f418"
      },
      "source": [
        "ck.print_env_variables()"
      ],
      "id": "22ddd656",
      "execution_count": null,
      "outputs": [
        {
          "output_type": "stream",
          "name": "stdout",
          "text": [
            "EXAMPLES_DIR: //examples\n",
            "kypher: kgtk query --graph-cache /tmp/projects/tutorial-kypher/temp.tutorial-kypher/wikidata.sqlite3.db\n",
            "TEMP: /tmp/projects/tutorial-kypher/temp.tutorial-kypher\n",
            "OUT: /tmp/projects/tutorial-kypher\n",
            "STORE: /tmp/projects/tutorial-kypher/temp.tutorial-kypher/wikidata.sqlite3.db\n",
            "GRAPH: /root/isi-kgtk-tutorial/input\n",
            "USE_CASES_DIR: //use-cases\n",
            "KGTK_GRAPH_CACHE: /tmp/projects/tutorial-kypher/temp.tutorial-kypher/wikidata.sqlite3.db\n",
            "KGTK_OPTION_DEBUG: false\n",
            "KGTK_LABEL_FILE: /root/isi-kgtk-tutorial/input/labels.en.tsv.gz\n",
            "kgtk: kgtk\n",
            "all: /root/isi-kgtk-tutorial/input/all.tsv.gz\n",
            "label: /root/isi-kgtk-tutorial/input/labels.en.tsv.gz\n",
            "pagerank_undirected: /root/isi-kgtk-tutorial/input/metadata.pagerank.undirected.tsv.gz\n"
          ]
        }
      ]
    },
    {
      "cell_type": "code",
      "metadata": {
        "id": "dc7adad9"
      },
      "source": [
        "os.environ['TUT_HOME'] = os.path.join(os.getenv('HOME'),  'Projects/kgtk/code/kgtk-notebooks')\n",
        "os.environ['SMALL_DATA_HOME'] = os.getenv('GRAPH') or os.path.join(os.getenv('TUT_HOME'), 'datasets/arnold-small/')\n",
        "os.environ['BIG_DATA_HOME']   = os.getenv('GRAPH') or os.path.join(os.getenv('TUT_HOME'), 'datasets/arnold/')\n",
        "os.environ['GRAPH'] = os.path.join(os.getenv('SMALL_DATA_HOME'), 'small-graph.tsv')\n",
        "os.environ['FILMS'] = os.path.join(os.getenv('SMALL_DATA_HOME'), 'small-films.tsv')\n",
        "os.environ['QUALS'] = os.path.join(os.getenv('SMALL_DATA_HOME'), 'small-quals.tsv')\n",
        "os.environ['PROPS'] = os.path.join(os.getenv('SMALL_DATA_HOME'), 'small-props.tsv')"
      ],
      "id": "dc7adad9",
      "execution_count": null,
      "outputs": []
    },
    {
      "cell_type": "markdown",
      "metadata": {
        "lines_to_next_cell": 2,
        "id": "50f97f88"
      },
      "source": [
        "## Usage of `query` command\n",
        "```\n",
        "usage: kgtk query [-h] [-i INPUT_FILE [INPUT_FILE ...]] [--as NAME]\n",
        "                  [--comment COMMENT] [--query QUERY] [--match PATTERN]\n",
        "                  [--where CLAUSE] [--opt PATTERN] [--with CLAUSE]\n",
        "                  [--where: CLAUSE] [--return CLAUSE] [--order-by CLAUSE]\n",
        "                  [--skip CLAUSE] [--limit CLAUSE] [--para NAME=VAL]\n",
        "                  [--spara NAME=VAL] [--lqpara NAME=VAL] [--no-header]\n",
        "                  [--force] [--index MODE [MODE ...]] [--idx SPEC [SPEC ...]]\n",
        "                  [--explain [MODE]] [--graph-cache GRAPH_CACHE_FILE]\n",
        "                  [--show-cache] [--import MODULE_LIST] [-o OUTPUT]\n",
        "\n",
        "Query one or more KGTK files with Kypher.\n",
        "IMPORTANT: input can come from stdin but chaining queries is not yet supported.\n",
        "\n",
        "Input options:\n",
        "  -i INPUT_FILE [INPUT_FILE ...], --input-files INPUT_FILE [INPUT_FILE ...]\n",
        "                        One or more input files to query, maybe compressed\n",
        "                        (May be omitted or '-' for stdin.)\n",
        "  --as NAME             alias name to be used for preceding input\n",
        "  --comment COMMENT     comment string to store for the preceding input\n",
        "                        (displayed by --show-cache)\n",
        "\n",
        "Query options:\n",
        "  --query QUERY         complete Kypher query combining all clauses, if\n",
        "                        supplied, all other specialized clause arguments will\n",
        "                        be ignored\n",
        "  --match PATTERN       MATCH pattern of a Kypher query, defaults to universal\n",
        "                        node pattern `()'\n",
        "  --where CLAUSE        WHERE clause to a preceding --match, --opt or --with\n",
        "                        clause\n",
        "  --opt PATTERN, --optional PATTERN\n",
        "                        OPTIONAL MATCH pattern(s) of a Kypher query (zero or\n",
        "                        more)\n",
        "  --with CLAUSE         WITH clause of a Kypher query (only 'WITH * ...' is\n",
        "                        currently supported)\n",
        "  --where: CLAUSE       final global WHERE clause, shorthand for 'WITH * WHERE\n",
        "                        ...'\n",
        "  --return CLAUSE       RETURN clause of a Kypher query (defaults to *)\n",
        "  --order-by CLAUSE     ORDER BY clause of a Kypher query\n",
        "  --skip CLAUSE         SKIP clause of a Kypher query\n",
        "  --limit CLAUSE        LIMIT clause of a Kypher query\n",
        "  --para NAME=VAL       zero or more named value parameters to be passed to\n",
        "                        the query\n",
        "  --spara NAME=VAL      zero or more named string parameters to be passed to\n",
        "                        the query\n",
        "  --lqpara NAME=VAL     zero or more named LQ-string parameters to be passed\n",
        "                        to the query\n",
        "\n",
        "Output options:\n",
        "  --no-header           do not generate a header row with column names\n",
        "  -o OUTPUT, --out OUTPUT\n",
        "                        output file to write to, if `-' (the default) output\n",
        "                        goes to stdout. Files with extensions .gz, .bz2 or .xz\n",
        "                        will be appropriately compressed.\n",
        "\n",
        "Control options:\n",
        "  --force               force problematic queries to run against advice\n",
        "  --index MODE [MODE ...], --index-mode MODE [MODE ...]\n",
        "                        default index creation MODE for all inputs (default:\n",
        "                        auto); can be overridden with --idx for specific\n",
        "                        inputs\n",
        "  --idx SPEC [SPEC ...], --input-index SPEC [SPEC ...]\n",
        "                        create index(es) according to SPEC for the preceding\n",
        "                        input only\n",
        "  --explain [MODE]      explain the query execution and indexing plan\n",
        "                        according to MODE (plan, full, expert, default: plan).\n",
        "                        This will not actually run or create anything.\n",
        "  --graph-cache GRAPH_CACHE_FILE\n",
        "                        database cache where graphs will be imported before\n",
        "                        they are queried (defaults to per-user temporary file)\n",
        "  --show-cache          describe the current content of the graph cache and\n",
        "                        exit (does not actually run a query or import data)\n",
        "  --import MODULE_LIST  Python modules needed to define user extensions to\n",
        "                        built-in functions\n",
        "  -h, --help            show this help message and exit\n",
        "```"
      ],
      "id": "50f97f88"
    },
    {
      "cell_type": "markdown",
      "metadata": {
        "id": "becbc95b"
      },
      "source": [
        "## Selecting edges with the `--match` clause"
      ],
      "id": "becbc95b"
    },
    {
      "cell_type": "markdown",
      "metadata": {
        "id": "6bfb0429"
      },
      "source": [
        "- KGTK `query` either takes a full Kypher `--query` or individual Kypher clauses such as `--match`,\n",
        "  `--return`, etc.\n",
        "- individual clauses are automatically assembled into the proper order, easier in Unix shell environment"
      ],
      "id": "6bfb0429"
    },
    {
      "cell_type": "markdown",
      "metadata": {
        "id": "1bcfa3a4"
      },
      "source": [
        "**Example**\n",
        "- simple query on a single input graph with an anonymous edge pattern\n",
        "- for convenience we use shell variable `$GRAPH` to point to small data file\n",
        "- **IMPORTANT**: use quotes around the match pattern to protect from the shell\n",
        "- this matches all edges and returns the whole file"
      ],
      "id": "1bcfa3a4"
    },
    {
      "cell_type": "code",
      "metadata": {
        "id": "1d2a9d08",
        "colab": {
          "base_uri": "https://localhost:8080/"
        },
        "outputId": "8df93798-6672-4846-cf63-033f5ec0bf61"
      },
      "source": [
        "!echo $GRAPH"
      ],
      "id": "1d2a9d08",
      "execution_count": null,
      "outputs": [
        {
          "output_type": "stream",
          "name": "stdout",
          "text": [
            "/root/isi-kgtk-tutorial/input/small-graph.tsv\n"
          ]
        }
      ]
    },
    {
      "cell_type": "code",
      "metadata": {
        "id": "5130f672",
        "colab": {
          "base_uri": "https://localhost:8080/"
        },
        "outputId": "42119e84-1c8b-4b17-9ebf-955527def7b0"
      },
      "source": [
        "!kgtk query -i $GRAPH --match '()-[]->()'"
      ],
      "id": "5130f672",
      "execution_count": null,
      "outputs": [
        {
          "output_type": "stream",
          "name": "stdout",
          "text": [
            "id\tnode1\tlabel\tnode2\n",
            "e1\tm_shriver\tspouse\ta_schwarzenegger\n",
            "e2\ta_schwarzenegger\tcoactor\tl_hamilton\n",
            "e3\tg_rydstrom\tcolleague\tg_borders\n",
            "e4\tg_rydstrom\tcolleague\ta_schwarzenegger\n",
            "e5\ta_schwarzenegger\tname\t'Arnold Schwarzenegger'@de\n",
            "e6\tl_hamilton\tname\t'Linda Hamilton'@en\n",
            "e7\tg_rydstrom\tname\t'Gary R. Rydstrom'@en\n",
            "e8\tg_borders\tname\t'Gloria S. Borders'@en\n",
            "e9\tm_shriver\tname\t'Maria Shriver'@en\n"
          ]
        }
      ]
    },
    {
      "cell_type": "markdown",
      "metadata": {
        "id": "7733bff5"
      },
      "source": [
        "- match pattern starts with anonymous node connecting via an\n",
        "  anonymous relation to another anonymous node\n",
        "- matched against the four core columns specifying an edge in each line of the KGTK\n",
        "  input file\n",
        "- from-node is matched against `node1`, relation is\n",
        "  matched against `id` and `label` (more on that distinction later), and\n",
        "  the to-node is matched against `node2`\n",
        "- for each KGTK line matching the pattern, output is generated according to the `--return` clause\n",
        "- default for `--return` is `*` which means all columns of a matching line will be output"
      ],
      "id": "7733bff5"
    },
    {
      "cell_type": "markdown",
      "metadata": {
        "id": "9c4fb588"
      },
      "source": [
        "**Equivalent query:**\n",
        "- singular anonymous node pattern will be completed to a full edge"
      ],
      "id": "9c4fb588"
    },
    {
      "cell_type": "code",
      "metadata": {
        "id": "db30d4a5",
        "colab": {
          "base_uri": "https://localhost:8080/"
        },
        "outputId": "dabe1bbc-f917-42ad-ba1f-5d09e3d1bd92"
      },
      "source": [
        "!kgtk query -i $GRAPH --match '()'"
      ],
      "id": "db30d4a5",
      "execution_count": null,
      "outputs": [
        {
          "output_type": "stream",
          "name": "stdout",
          "text": [
            "id\tnode1\tlabel\tnode2\n",
            "e1\tm_shriver\tspouse\ta_schwarzenegger\n",
            "e2\ta_schwarzenegger\tcoactor\tl_hamilton\n",
            "e3\tg_rydstrom\tcolleague\tg_borders\n",
            "e4\tg_rydstrom\tcolleague\ta_schwarzenegger\n",
            "e5\ta_schwarzenegger\tname\t'Arnold Schwarzenegger'@de\n",
            "e6\tl_hamilton\tname\t'Linda Hamilton'@en\n",
            "e7\tg_rydstrom\tname\t'Gary R. Rydstrom'@en\n",
            "e8\tg_borders\tname\t'Gloria S. Borders'@en\n",
            "e9\tm_shriver\tname\t'Maria Shriver'@en\n"
          ]
        }
      ]
    },
    {
      "cell_type": "markdown",
      "metadata": {
        "id": "547b54f2"
      },
      "source": [
        "**Equivalent query:**\n",
        "- that pattern is also the default for `--match`"
      ],
      "id": "547b54f2"
    },
    {
      "cell_type": "code",
      "metadata": {
        "id": "3510b2fc",
        "colab": {
          "base_uri": "https://localhost:8080/"
        },
        "outputId": "044cbfa0-1f01-4b21-ac83-518cc91d5b17"
      },
      "source": [
        "!kgtk query -i $GRAPH"
      ],
      "id": "3510b2fc",
      "execution_count": null,
      "outputs": [
        {
          "output_type": "stream",
          "name": "stdout",
          "text": [
            "id\tnode1\tlabel\tnode2\n",
            "e1\tm_shriver\tspouse\ta_schwarzenegger\n",
            "e2\ta_schwarzenegger\tcoactor\tl_hamilton\n",
            "e3\tg_rydstrom\tcolleague\tg_borders\n",
            "e4\tg_rydstrom\tcolleague\ta_schwarzenegger\n",
            "e5\ta_schwarzenegger\tname\t'Arnold Schwarzenegger'@de\n",
            "e6\tl_hamilton\tname\t'Linda Hamilton'@en\n",
            "e7\tg_rydstrom\tname\t'Gary R. Rydstrom'@en\n",
            "e8\tg_borders\tname\t'Gloria S. Borders'@en\n",
            "e9\tm_shriver\tname\t'Maria Shriver'@en\n"
          ]
        }
      ]
    },
    {
      "cell_type": "markdown",
      "metadata": {
        "id": "2634d31c"
      },
      "source": [
        "**Equivalent command:** `kgtk cat`"
      ],
      "id": "2634d31c"
    },
    {
      "cell_type": "code",
      "metadata": {
        "lines_to_next_cell": 2,
        "id": "9f348d66",
        "colab": {
          "base_uri": "https://localhost:8080/"
        },
        "outputId": "3936805f-619d-4866-a1fb-0505bb9dac34"
      },
      "source": [
        "!kgtk cat -i $GRAPH"
      ],
      "id": "9f348d66",
      "execution_count": null,
      "outputs": [
        {
          "output_type": "stream",
          "name": "stdout",
          "text": [
            "id\tnode1\tlabel\tnode2\n",
            "e1\tm_shriver\tspouse\ta_schwarzenegger\n",
            "e2\ta_schwarzenegger\tcoactor\tl_hamilton\n",
            "e3\tg_rydstrom\tcolleague\tg_borders\n",
            "e4\tg_rydstrom\tcolleague\ta_schwarzenegger\n",
            "e5\ta_schwarzenegger\tname\t'Arnold Schwarzenegger'@de\n",
            "e6\tl_hamilton\tname\t'Linda Hamilton'@en\n",
            "e7\tg_rydstrom\tname\t'Gary R. Rydstrom'@en\n",
            "e8\tg_borders\tname\t'Gloria S. Borders'@en\n",
            "e9\tm_shriver\tname\t'Maria Shriver'@en\n"
          ]
        }
      ]
    },
    {
      "cell_type": "markdown",
      "metadata": {
        "id": "cc441053"
      },
      "source": [
        "### Restricting output\n",
        "- use `--limit` and/or `--skip` to control output volume,\n",
        "  especially to test queries on larger data"
      ],
      "id": "cc441053"
    },
    {
      "cell_type": "code",
      "metadata": {
        "id": "6807d9af",
        "colab": {
          "base_uri": "https://localhost:8080/"
        },
        "outputId": "63dec38a-0a01-47ac-9f50-0b92e99f76b8"
      },
      "source": [
        "!kgtk query -i $GRAPH --limit 3"
      ],
      "id": "6807d9af",
      "execution_count": null,
      "outputs": [
        {
          "output_type": "stream",
          "name": "stdout",
          "text": [
            "id\tnode1\tlabel\tnode2\n",
            "e1\tm_shriver\tspouse\ta_schwarzenegger\n",
            "e2\ta_schwarzenegger\tcoactor\tl_hamilton\n",
            "e3\tg_rydstrom\tcolleague\tg_borders\n"
          ]
        }
      ]
    },
    {
      "cell_type": "code",
      "metadata": {
        "id": "bbd440e1",
        "colab": {
          "base_uri": "https://localhost:8080/"
        },
        "outputId": "b3795f9b-e535-4ee0-9270-61bb8d4b508a"
      },
      "source": [
        "!kgtk query -i $GRAPH --skip 2 --limit 3"
      ],
      "id": "bbd440e1",
      "execution_count": null,
      "outputs": [
        {
          "output_type": "stream",
          "name": "stdout",
          "text": [
            "id\tnode1\tlabel\tnode2\n",
            "e3\tg_rydstrom\tcolleague\tg_borders\n",
            "e4\tg_rydstrom\tcolleague\ta_schwarzenegger\n",
            "e5\ta_schwarzenegger\tname\t'Arnold Schwarzenegger'@de\n"
          ]
        }
      ]
    },
    {
      "cell_type": "code",
      "metadata": {
        "lines_to_next_cell": 2,
        "id": "caa2991c",
        "colab": {
          "base_uri": "https://localhost:8080/"
        },
        "outputId": "1ad67b4d-d481-45b0-8169-80d8f8e8fe0b"
      },
      "source": [
        "!kgtk query -i $GRAPH / head -n 3"
      ],
      "id": "caa2991c",
      "execution_count": null,
      "outputs": [
        {
          "output_type": "stream",
          "name": "stdout",
          "text": [
            "id\tnode1\tlabel\tnode2\n",
            "e1\tm_shriver\tspouse\ta_schwarzenegger\n",
            "e2\ta_schwarzenegger\tcoactor\tl_hamilton\n",
            "e3\tg_rydstrom\tcolleague\tg_borders\n"
          ]
        }
      ]
    },
    {
      "cell_type": "markdown",
      "metadata": {
        "id": "21484bae"
      },
      "source": [
        "### Restricting edges\n",
        "- patterns can be made more specific by restricting some of the elements of an edge\n",
        "- for example, filter for all edges that start with `m_shriver`"
      ],
      "id": "21484bae"
    },
    {
      "cell_type": "code",
      "metadata": {
        "id": "579b24f6",
        "colab": {
          "base_uri": "https://localhost:8080/"
        },
        "outputId": "a71f5f47-1dba-4284-cabc-20cde0e609ba"
      },
      "source": [
        "!kgtk query -i $GRAPH --match '(:m_shriver)-[]->()'"
      ],
      "id": "579b24f6",
      "execution_count": null,
      "outputs": [
        {
          "output_type": "stream",
          "name": "stdout",
          "text": [
            "id\tnode1\tlabel\tnode2\n",
            "e1\tm_shriver\tspouse\ta_schwarzenegger\n",
            "e9\tm_shriver\tname\t'Maria Shriver'@en\n"
          ]
        }
      ]
    },
    {
      "cell_type": "markdown",
      "metadata": {
        "id": "56ac3776"
      },
      "source": [
        "- **Kypher vs. Cypher**: in Cypher the restriction `m_shriver` would be interpreted as a node *type* in a property graph, in KGTK Kypher\n",
        "it is interpreted as the ID of a particular node"
      ],
      "id": "56ac3776"
    },
    {
      "cell_type": "markdown",
      "metadata": {
        "id": "af32722e"
      },
      "source": [
        "**Example**\n",
        "- filter on the relation of an edge\n",
        "- select all edges with label `name` using the same colon-restriction syntax we used for nodes"
      ],
      "id": "af32722e"
    },
    {
      "cell_type": "code",
      "metadata": {
        "id": "fa10dac3",
        "colab": {
          "base_uri": "https://localhost:8080/"
        },
        "outputId": "54934aa5-5e98-42ae-a671-9c310b44b0ef"
      },
      "source": [
        "!kgtk query -i $GRAPH --match '()-[:name]->()'"
      ],
      "id": "fa10dac3",
      "execution_count": null,
      "outputs": [
        {
          "output_type": "stream",
          "name": "stdout",
          "text": [
            "id\tnode1\tlabel\tnode2\n",
            "e5\ta_schwarzenegger\tname\t'Arnold Schwarzenegger'@de\n",
            "e6\tl_hamilton\tname\t'Linda Hamilton'@en\n",
            "e7\tg_rydstrom\tname\t'Gary R. Rydstrom'@en\n",
            "e8\tg_borders\tname\t'Gloria S. Borders'@en\n",
            "e9\tm_shriver\tname\t'Maria Shriver'@en\n"
          ]
        }
      ]
    },
    {
      "cell_type": "markdown",
      "metadata": {
        "id": "70207f7c"
      },
      "source": [
        "- for relations, the interpretation of restrictions on the label of an\n",
        "edge (as opposed to its `id`) is more in line with standard Cypher."
      ],
      "id": "70207f7c"
    },
    {
      "cell_type": "markdown",
      "metadata": {
        "id": "841a95e3"
      },
      "source": [
        "**Example**\n",
        "- node and relation restrictions can be combined\n",
        "- for example, here we select all `name` edges starting from node `a_schwarzenegger`"
      ],
      "id": "841a95e3"
    },
    {
      "cell_type": "code",
      "metadata": {
        "lines_to_next_cell": 2,
        "id": "d54b0533",
        "colab": {
          "base_uri": "https://localhost:8080/"
        },
        "outputId": "b7408f7d-a687-4d15-b3ec-49181830a334"
      },
      "source": [
        "!kgtk query -i $GRAPH --match '(:a_schwarzenegger)-[:name]->()'"
      ],
      "id": "d54b0533",
      "execution_count": null,
      "outputs": [
        {
          "output_type": "stream",
          "name": "stdout",
          "text": [
            "id\tnode1\tlabel\tnode2\n",
            "e5\ta_schwarzenegger\tname\t'Arnold Schwarzenegger'@de\n"
          ]
        }
      ]
    },
    {
      "cell_type": "markdown",
      "metadata": {
        "id": "7dd48f36"
      },
      "source": [
        "## Filtering with the `--where` clause"
      ],
      "id": "7dd48f36"
    },
    {
      "cell_type": "markdown",
      "metadata": {
        "id": "0ecba3ba"
      },
      "source": [
        "- `--where` holds a possibly complex Boolean expression that gets evaluated as additional edge filter\n",
        "- only edges for which it evaluates to true will be returned\n",
        "- `--where` can be used to express more complex conditions and computations that cannot be expressed in `--match`\n",
        "- to connect to values selected by `--match` we need pattern *variables*\n",
        "- variables are specified with simple names in the node or relationship part of a pattern\n",
        "- below we use `p` as the variable for the starting node of the edge pattern\n",
        "- in the `--where` clause we restrict which values are allowed for `p`\n",
        "- this query is equivalent to the one above where we restricted the starting node directly in the match pattern:"
      ],
      "id": "0ecba3ba"
    },
    {
      "cell_type": "code",
      "metadata": {
        "id": "3ec0af12",
        "colab": {
          "base_uri": "https://localhost:8080/"
        },
        "outputId": "e2617b69-c641-4992-f476-fff36963d761"
      },
      "source": [
        "!kgtk query -i $GRAPH \\\n",
        "     --match '(p)-[:name]->()' \\\n",
        "     --where 'p = \"m_shriver\"'"
      ],
      "id": "3ec0af12",
      "execution_count": null,
      "outputs": [
        {
          "output_type": "stream",
          "name": "stdout",
          "text": [
            "id\tnode1\tlabel\tnode2\n",
            "e9\tm_shriver\tname\t'Maria Shriver'@en\n"
          ]
        }
      ]
    },
    {
      "cell_type": "markdown",
      "metadata": {
        "id": "7957db5f"
      },
      "source": [
        "**Equivalent query:**\n",
        "- specifies the starting node restriction twice which is ok but redundant"
      ],
      "id": "7957db5f"
    },
    {
      "cell_type": "code",
      "metadata": {
        "id": "a394af91",
        "colab": {
          "base_uri": "https://localhost:8080/"
        },
        "outputId": "248d4443-247f-46de-f639-f63a72cebc60"
      },
      "source": [
        "!kgtk query -i $GRAPH \\\n",
        "     --match '(p:m_shriver)-[:name]->()' \\\n",
        "     --where 'p = \"m_shriver\"'"
      ],
      "id": "a394af91",
      "execution_count": null,
      "outputs": [
        {
          "output_type": "stream",
          "name": "stdout",
          "text": [
            "id\tnode1\tlabel\tnode2\n",
            "e9\tm_shriver\tname\t'Maria Shriver'@en\n"
          ]
        }
      ]
    },
    {
      "cell_type": "markdown",
      "metadata": {
        "id": "5ffdb95d"
      },
      "source": [
        "- **IMPORTANT**: constants such as `m_shriver` need to be quoted when used in `--where`, similar to SQL\n",
        "- this needs extra care so quotes will not be consumed by the Unix shell"
      ],
      "id": "5ffdb95d"
    },
    {
      "cell_type": "markdown",
      "metadata": {
        "id": "b08921e4"
      },
      "source": [
        "**Example**\n",
        "- use a regular expression to filter on the names attached to nodes\n",
        "- the `=~` operator matches a value against a regular expression\n",
        "- **Kypher vs. Cypher**: Kypher use Python regexp syntax, Cypher uses Java regexps\n",
        "- select all `name` edges that lead to a name that contains a double letter:"
      ],
      "id": "b08921e4"
    },
    {
      "cell_type": "code",
      "metadata": {
        "id": "8df2fb4c",
        "colab": {
          "base_uri": "https://localhost:8080/"
        },
        "outputId": "1f79eaf9-fcbf-4a9f-c594-87e74c9361b2"
      },
      "source": [
        "!kgtk query -i $GRAPH \\\n",
        "     --match '(p)-[:name]->(n)' \\\n",
        "     --where 'n =~ \".*(.)\\\\1.*\"'"
      ],
      "id": "8df2fb4c",
      "execution_count": null,
      "outputs": [
        {
          "output_type": "stream",
          "name": "stdout",
          "text": [
            "id\tnode1\tlabel\tnode2\n",
            "e5\ta_schwarzenegger\tname\t'Arnold Schwarzenegger'@de\n"
          ]
        }
      ]
    },
    {
      "cell_type": "markdown",
      "metadata": {
        "id": "b3263a68"
      },
      "source": [
        "**Example**\n",
        "- filter based on a list of values (a form of disjunction)\n",
        "- any edge where `p` is equal to one of the listed values will be returned\n",
        "- **Kypher vs. Cypher**: Kypher only allows lists of literals such as strings\n",
        "  or numbers, Cypher also allows variables and expressions"
      ],
      "id": "b3263a68"
    },
    {
      "cell_type": "code",
      "metadata": {
        "id": "e0b986bf",
        "colab": {
          "base_uri": "https://localhost:8080/"
        },
        "outputId": "e0aa5a7a-b396-45cc-b945-c4a3c16c28fb"
      },
      "source": [
        "!kgtk query -i $GRAPH \\\n",
        "     --match '(p)-[:name]->(n)' \\\n",
        "     --where 'p IN [\"g_borders\", \"g_rydstrom\"]'"
      ],
      "id": "e0b986bf",
      "execution_count": null,
      "outputs": [
        {
          "output_type": "stream",
          "name": "stdout",
          "text": [
            "id\tnode1\tlabel\tnode2\n",
            "e7\tg_rydstrom\tname\t'Gary R. Rydstrom'@en\n",
            "e8\tg_borders\tname\t'Gloria S. Borders'@en\n"
          ]
        }
      ]
    },
    {
      "cell_type": "markdown",
      "metadata": {
        "id": "b83cbdf1"
      },
      "source": [
        "**Example**\n",
        "- filter based on a comparison operator and a computation using built-in functions\n",
        "- **IMPORTANT**: all columns in a KGTK file are treated as text (even if they contain numbers)\n",
        "- the expression below filters for names that start with the letter `L` or later\n",
        "- note that quotes of KGTK string literals are part of their value and need to be accounted for\n",
        "- for this we use the built-in function `substr` to extract the first letter of each name"
      ],
      "id": "b83cbdf1"
    },
    {
      "cell_type": "code",
      "metadata": {
        "lines_to_next_cell": 2,
        "id": "f80eb655",
        "colab": {
          "base_uri": "https://localhost:8080/"
        },
        "outputId": "25f759a5-523b-402d-b683-a7757287dcd1"
      },
      "source": [
        "!kgtk query -i $GRAPH \\\n",
        "     --match '(p)-[:name]->(n)' \\\n",
        "     --where \"substr(n,2,1) >= 'L'\""
      ],
      "id": "f80eb655",
      "execution_count": null,
      "outputs": [
        {
          "output_type": "stream",
          "name": "stdout",
          "text": [
            "id\tnode1\tlabel\tnode2\n",
            "e6\tl_hamilton\tname\t'Linda Hamilton'@en\n",
            "e9\tm_shriver\tname\t'Maria Shriver'@en\n"
          ]
        }
      ]
    },
    {
      "cell_type": "markdown",
      "metadata": {
        "id": "2d4ceebc"
      },
      "source": [
        "## Sorting results with the `--order-by` clause"
      ],
      "id": "2d4ceebc"
    },
    {
      "cell_type": "markdown",
      "metadata": {
        "id": "d513b98a"
      },
      "source": [
        "- use `--order-by` to sort results just like in Cypher and SQL\n",
        "- this query sorts matched results by names in ascending order:"
      ],
      "id": "d513b98a"
    },
    {
      "cell_type": "code",
      "metadata": {
        "lines_to_next_cell": 2,
        "id": "a0f82ae8",
        "colab": {
          "base_uri": "https://localhost:8080/"
        },
        "outputId": "0fcf36b7-8f34-4656-de86-d52cb8e7bb8e"
      },
      "source": [
        "!kgtk query -i $GRAPH \\\n",
        "     --match '(p)-[:name]->(n)' \\\n",
        "     --where \"upper(substr(n,2,1)) >= 'L'\" \\\n",
        "     --order-by n"
      ],
      "id": "a0f82ae8",
      "execution_count": null,
      "outputs": [
        {
          "output_type": "stream",
          "name": "stdout",
          "text": [
            "id\tnode1\tlabel\tnode2\n",
            "e6\tl_hamilton\tname\t'Linda Hamilton'@en\n",
            "e9\tm_shriver\tname\t'Maria Shriver'@en\n"
          ]
        }
      ]
    },
    {
      "cell_type": "markdown",
      "metadata": {
        "id": "7a375a76"
      },
      "source": [
        "- order by an expression value, this time in descending order:"
      ],
      "id": "7a375a76"
    },
    {
      "cell_type": "code",
      "metadata": {
        "lines_to_next_cell": 2,
        "id": "180baf9d",
        "colab": {
          "base_uri": "https://localhost:8080/"
        },
        "outputId": "37eb19d4-fd01-4c97-fb0e-7de902750c27"
      },
      "source": [
        "!kgtk query -i $GRAPH \\\n",
        "     --match '(p)-[:name]->(n)' \\\n",
        "     --where \"substr(n,2,1) >= 'L'\" \\\n",
        "     --order-by \"substr(n,2,1) desc\""
      ],
      "id": "180baf9d",
      "execution_count": null,
      "outputs": [
        {
          "output_type": "stream",
          "name": "stdout",
          "text": [
            "id\tnode1\tlabel\tnode2\n",
            "e9\tm_shriver\tname\t'Maria Shriver'@en\n",
            "e6\tl_hamilton\tname\t'Linda Hamilton'@en\n"
          ]
        }
      ]
    },
    {
      "cell_type": "markdown",
      "metadata": {
        "id": "f27a5dac"
      },
      "source": [
        "## Controlling results with the `--return` clause"
      ],
      "id": "f27a5dac"
    },
    {
      "cell_type": "markdown",
      "metadata": {
        "id": "7755871b"
      },
      "source": [
        "- use `--return` to control which columns are output, in which order, with what headers\n",
        "- by default `*` is used which means all columns of matching edge(s) are output\n",
        "- use KGTK and SQLite built-in functions to transform output values or compute additional ones\n",
        "- use `distict` to eliminate duplicates\n",
        "- use aggregation function to get counts, max, average, etc."
      ],
      "id": "7755871b"
    },
    {
      "cell_type": "markdown",
      "metadata": {
        "id": "7ca3b0fd"
      },
      "source": [
        "**Example**\n",
        "- select only the `node1` and `node2` columns by referencing pattern variables `p` and `n`\n",
        "- note, that the result generated here is not valid KGTK (missing `id` and `label`)"
      ],
      "id": "7ca3b0fd"
    },
    {
      "cell_type": "code",
      "metadata": {
        "id": "c2ebb33c",
        "colab": {
          "base_uri": "https://localhost:8080/"
        },
        "outputId": "c4c9f854-d168-45dd-a002-2da9020e1c33"
      },
      "source": [
        "!kgtk query -i $GRAPH \\\n",
        "     --match '(p)-[:name]->(n)' \\\n",
        "     --where 'n =~ \".*(.)\\\\1.*\"' \\\n",
        "     --return 'p, n'"
      ],
      "id": "c2ebb33c",
      "execution_count": null,
      "outputs": [
        {
          "output_type": "stream",
          "name": "stdout",
          "text": [
            "node1\tnode2\n",
            "a_schwarzenegger\t'Arnold Schwarzenegger'@de\n"
          ]
        }
      ]
    },
    {
      "cell_type": "markdown",
      "metadata": {
        "id": "f04c5488"
      },
      "source": [
        "**Example**\n",
        "- return all columns but switching their order\n",
        "- **Kypher vs. Cypher**: Kypher relation variables such as `r` below\n",
        "  get bound to edge IDs; other components of an edge such as its `label`\n",
        "  can then be access via property syntax such as `r.label`\n",
        "- this query now produces valid KGTK"
      ],
      "id": "f04c5488"
    },
    {
      "cell_type": "code",
      "metadata": {
        "id": "6a07ab49",
        "colab": {
          "base_uri": "https://localhost:8080/"
        },
        "outputId": "6dab6945-abb2-4e72-81ff-004c85307016"
      },
      "source": [
        "!kgtk query -i $GRAPH \\\n",
        "     --match '(p)-[r:name]->(n)' \\\n",
        "     --where 'n =~ \".*(.)\\\\1.*\"' \\\n",
        "     --return 'p, n, r, r.label'"
      ],
      "id": "6a07ab49",
      "execution_count": null,
      "outputs": [
        {
          "output_type": "stream",
          "name": "stdout",
          "text": [
            "node1\tnode2\tid\tlabel\n",
            "a_schwarzenegger\t'Arnold Schwarzenegger'@de\te5\tname\n"
          ]
        }
      ]
    },
    {
      "cell_type": "markdown",
      "metadata": {
        "id": "49970cf4"
      },
      "source": [
        "**Example**\n",
        "- summarize data via `distinct` to eliminate duplicates"
      ],
      "id": "49970cf4"
    },
    {
      "cell_type": "code",
      "metadata": {
        "id": "6d286af7",
        "colab": {
          "base_uri": "https://localhost:8080/"
        },
        "outputId": "95886b88-bcd3-4db1-9121-1a2426b99163"
      },
      "source": [
        "!kgtk query -i $GRAPH \\\n",
        "     --match '(p)-[r]->(n)' \\\n",
        "     --return 'distinct r.label' \\\n",
        "     --order-by r.label"
      ],
      "id": "6d286af7",
      "execution_count": null,
      "outputs": [
        {
          "output_type": "stream",
          "name": "stdout",
          "text": [
            "label\n",
            "coactor\n",
            "colleague\n",
            "name\n",
            "spouse\n"
          ]
        }
      ]
    },
    {
      "cell_type": "markdown",
      "metadata": {
        "id": "ecd5305b"
      },
      "source": [
        "**Example**\n",
        "- transform data with built-in functions, e.g., change value to lower case"
      ],
      "id": "ecd5305b"
    },
    {
      "cell_type": "code",
      "metadata": {
        "id": "fcb5c6f4",
        "colab": {
          "base_uri": "https://localhost:8080/"
        },
        "outputId": "d58be485-6e22-4d2c-dec6-5402273e87c2"
      },
      "source": [
        "!kgtk query -i $GRAPH \\\n",
        "     --match '(p)-[r:name]->(n)' \\\n",
        "     --where 'n =~ \".*(.)\\\\1.*\"' \\\n",
        "     --return 'p, r.label, lower(n), r'"
      ],
      "id": "fcb5c6f4",
      "execution_count": null,
      "outputs": [
        {
          "output_type": "stream",
          "name": "stdout",
          "text": [
            "node1\tlabel\tlower(graph_1_c1.\"node2\")\tid\n",
            "a_schwarzenegger\tname\t'arnold schwarzenegger'@de\te5\n"
          ]
        }
      ]
    },
    {
      "cell_type": "markdown",
      "metadata": {
        "id": "c0d7b19f"
      },
      "source": [
        "**Example**\n",
        "- specify proper column headers for output values, e.g., designate the transformed value as `node2`"
      ],
      "id": "c0d7b19f"
    },
    {
      "cell_type": "code",
      "metadata": {
        "id": "6ff2aa95",
        "colab": {
          "base_uri": "https://localhost:8080/"
        },
        "outputId": "097bd999-3a26-473e-ef26-290153cceaf8"
      },
      "source": [
        "!kgtk query -i $GRAPH \\\n",
        "     --match '(p)-[r:name]->(n)' \\\n",
        "     --where 'n =~ \".*(.)\\\\1.*\"' \\\n",
        "     --return 'p, r.label, lower(n) as node2, r'"
      ],
      "id": "6ff2aa95",
      "execution_count": null,
      "outputs": [
        {
          "output_type": "stream",
          "name": "stdout",
          "text": [
            "node1\tlabel\tnode2\tid\n",
            "a_schwarzenegger\tname\t'arnold schwarzenegger'@de\te5\n"
          ]
        }
      ]
    },
    {
      "cell_type": "markdown",
      "metadata": {
        "id": "ffa27b10"
      },
      "source": [
        "**Example**\n",
        "- use KGTK built-in functions to manipulate KGTK values\n",
        "- here we change a symbol to a string (which is a legal `node1` in KGTK data model)"
      ],
      "id": "ffa27b10"
    },
    {
      "cell_type": "code",
      "metadata": {
        "id": "da737147",
        "colab": {
          "base_uri": "https://localhost:8080/"
        },
        "outputId": "f09834dc-e128-4520-c590-d89ca8dd11d8"
      },
      "source": [
        "!kgtk query -i $GRAPH \\\n",
        "     --match '(p)-[r:name]->(n)' \\\n",
        "     --where 'n =~ \".*(.)\\\\1.*\"' \\\n",
        "     --return 'kgtk_stringify(p) as node1, r.label, n, r'"
      ],
      "id": "da737147",
      "execution_count": null,
      "outputs": [
        {
          "output_type": "stream",
          "name": "stdout",
          "text": [
            "node1\tlabel\tnode2\tid\n",
            "\"a_schwarzenegger\"\tname\t'Arnold Schwarzenegger'@de\te5\n"
          ]
        }
      ]
    },
    {
      "cell_type": "markdown",
      "metadata": {
        "id": "472d713e"
      },
      "source": [
        "**Example**\n",
        "- access components of structured literals with property syntax (treat them as *virtual properties*)\n",
        "- but this is just syntactic sugar for calling the KGTK function\n",
        "- extra output column is named with column path syntax (`lang` of `node2`)\n",
        "- special characters need to be backtick-quoted"
      ],
      "id": "472d713e"
    },
    {
      "cell_type": "code",
      "metadata": {
        "lines_to_next_cell": 2,
        "id": "afd031b8",
        "colab": {
          "base_uri": "https://localhost:8080/"
        },
        "outputId": "b387a253-c2de-47df-9182-b316a84b719d"
      },
      "source": [
        "!kgtk query -i $GRAPH \\\n",
        "     --match '(p)-[r:name]->(n)' \\\n",
        "     --where 'kgtk_lqstring(n) and n.kgtk_lqstring_lang != \"en\"' \\\n",
        "     --return 'r, p, r.label, lower(n) as node2, n.kgtk_lqstring_lang as `node2;lang`'"
      ],
      "id": "afd031b8",
      "execution_count": null,
      "outputs": [
        {
          "output_type": "stream",
          "name": "stdout",
          "text": [
            "id\tnode1\tlabel\tnode2\tnode2;lang\n",
            "e5\ta_schwarzenegger\tname\t'arnold schwarzenegger'@de\tde\n"
          ]
        }
      ]
    },
    {
      "cell_type": "markdown",
      "metadata": {
        "id": "e65fa69d"
      },
      "source": [
        "## Querying connected edges through graph patterns"
      ],
      "id": "e65fa69d"
    },
    {
      "cell_type": "markdown",
      "metadata": {
        "id": "c5f8938d"
      },
      "source": [
        "- in KGs  we will often want to combine multiple edges into a query\n",
        "- connection could be within a graph or across graphs or both\n",
        "- in database parlance this is generally called a *join*\n",
        "- in Kypher (or Cypher) we can express such queries very concisely using graph patterns\n",
        "- this ASCII pattern language is probably the single-most useful aspect of K/Cypher\n",
        "- for example, find colleagues and their names:"
      ],
      "id": "c5f8938d"
    },
    {
      "cell_type": "code",
      "metadata": {
        "id": "a25f411b",
        "colab": {
          "base_uri": "https://localhost:8080/"
        },
        "outputId": "39a21fdf-fc10-4054-e26e-4dcb6a314549"
      },
      "source": [
        "!kgtk query -i $GRAPH \\\n",
        "     --match '(na)<-[:name]-(a)-[r:colleague]->(b)-[:name]->(nb)' \\\n",
        "     --return 'r, na as node1, r.label, nb as node2'"
      ],
      "id": "a25f411b",
      "execution_count": null,
      "outputs": [
        {
          "output_type": "stream",
          "name": "stdout",
          "text": [
            "id\tnode1\tlabel\tnode2\n",
            "e3\t'Gary R. Rydstrom'@en\tcolleague\t'Gloria S. Borders'@en\n",
            "e4\t'Gary R. Rydstrom'@en\tcolleague\t'Arnold Schwarzenegger'@de\n"
          ]
        }
      ]
    },
    {
      "cell_type": "markdown",
      "metadata": {
        "id": "0ace1986"
      },
      "source": [
        "**Example**\n",
        "- combine path patterns with `--where` expression for more elaborate filtering\n",
        "- below we select starting edges where at least one of the nodes has a German name"
      ],
      "id": "0ace1986"
    },
    {
      "cell_type": "code",
      "metadata": {
        "id": "955b4593",
        "colab": {
          "base_uri": "https://localhost:8080/"
        },
        "outputId": "864ce34a-a40d-462c-d2eb-e732038c0ebd"
      },
      "source": [
        "!kgtk query -i $GRAPH \\\n",
        "     --match '(na)<-[:name]-(a)-[r:colleague]->(b)-[:name]->(nb)' \\\n",
        "     --where 'na.kgtk_lqstring_lang = \"de\" OR nb.kgtk_lqstring_lang = \"de\"' \\\n",
        "     --return 'r, na as node1, r.label, nb as node2'"
      ],
      "id": "955b4593",
      "execution_count": null,
      "outputs": [
        {
          "output_type": "stream",
          "name": "stdout",
          "text": [
            "id\tnode1\tlabel\tnode2\n",
            "e4\t'Gary R. Rydstrom'@en\tcolleague\t'Arnold Schwarzenegger'@de\n"
          ]
        }
      ]
    },
    {
      "cell_type": "markdown",
      "metadata": {
        "id": "3b6840fc"
      },
      "source": [
        "**Example**\n",
        "- it is good practice to only name pattern variables that are actually needed and leave others anonymous"
      ],
      "id": "3b6840fc"
    },
    {
      "cell_type": "code",
      "metadata": {
        "lines_to_next_cell": 2,
        "id": "09fdf20d",
        "colab": {
          "base_uri": "https://localhost:8080/"
        },
        "outputId": "7bc52ddb-8c0b-4b42-fcba-278597bc302c"
      },
      "source": [
        "!kgtk query -i $GRAPH \\\n",
        "     --match '(na)<-[:name]-()-[r:colleague]->()-[:name]->(nb)' \\\n",
        "     --return 'r, na as node1, r.label, nb as node2'"
      ],
      "id": "09fdf20d",
      "execution_count": null,
      "outputs": [
        {
          "output_type": "stream",
          "name": "stdout",
          "text": [
            "id\tnode1\tlabel\tnode2\n",
            "e3\t'Gary R. Rydstrom'@en\tcolleague\t'Gloria S. Borders'@en\n",
            "e4\t'Gary R. Rydstrom'@en\tcolleague\t'Arnold Schwarzenegger'@de\n"
          ]
        }
      ]
    },
    {
      "cell_type": "markdown",
      "metadata": {
        "id": "4ec2f765"
      },
      "source": [
        "## Querying connected edges across multiple graphs"
      ],
      "id": "4ec2f765"
    },
    {
      "cell_type": "markdown",
      "metadata": {
        "id": "8061cef7"
      },
      "source": [
        "- Kypher can combine information from different graphs described in separate KGTK files\n",
        "- allows one to mix and match information, or to organize data into different logical parts\n",
        "- to query multiple graphs we need to specify two or more input files\n",
        "- *graph variables* are used to associate pattern clauses with the graph they apply to\n",
        "- for graphs to connect they need to have some node or edge IDs in common\n",
        "- **Kypher vs. Cypher*: Cypher does not address multi-graph queries\n",
        "- to illustrate this we use a second example graph of film data shown here:"
      ],
      "id": "8061cef7"
    },
    {
      "cell_type": "code",
      "metadata": {
        "id": "98faf82c",
        "colab": {
          "base_uri": "https://localhost:8080/"
        },
        "outputId": "858af267-ddd6-4be1-fbfd-66328e4b6a08"
      },
      "source": [
        "!echo $FILMS"
      ],
      "id": "98faf82c",
      "execution_count": null,
      "outputs": [
        {
          "output_type": "stream",
          "name": "stdout",
          "text": [
            "/root/isi-kgtk-tutorial/input/small-films.tsv\n"
          ]
        }
      ]
    },
    {
      "cell_type": "code",
      "metadata": {
        "id": "2834c11b",
        "colab": {
          "base_uri": "https://localhost:8080/"
        },
        "outputId": "d8544404-d06c-4305-800a-615aadaa1610"
      },
      "source": [
        "!kgtk query -i $FILMS --match '()-[]->()'"
      ],
      "id": "2834c11b",
      "execution_count": null,
      "outputs": [
        {
          "output_type": "stream",
          "name": "stdout",
          "text": [
            "id\tnode1\tlabel\tnode2\n",
            "t1\tterminator2_jd\tname\t'Terminator 2'@en\n",
            "t2\tterminator2_jd\tinstance_of\tfilm\n",
            "t3\tterminator2_jd\tgenre\tscience_fiction\n",
            "t4\tterminator2_jd\tgenre\taction\n",
            "t5\tterminator2_jd\tcast\ta_schwarzenegger\n",
            "t6\tterminator2_jd\tcast\tl_hamilton\n",
            "t7\tterminator2_jd\tcrew\tg_rydstrom\n",
            "t8\tterminator2_jd\tcrew\tg_borders\n",
            "t9\tterminator2_jd\taward\tacademy-best-sound-editing\n",
            "t10\tterminator2_jd\tpublication_date\t^1991-07-03T00:00:00Z/11\n",
            "t11\tterminator2_jd\tpublication_date\t^1995-07-01T00:00:00Z/11\n",
            "t12\tfilm\tsubclass_of\tvisual_artwork\n",
            "t13\ts_connor\tname\t'Sarah Connor'@en\n",
            "t14\tterminator\tname\t'Terminator'@en\n"
          ]
        }
      ]
    },
    {
      "cell_type": "markdown",
      "metadata": {
        "id": "a5b19871"
      },
      "source": [
        "**Example**\n",
        "- let's query for people whose spouse is a film actor\n",
        "- a graph variable followed by `:` means all clauses following it are to be applied to that graph,\n",
        "  until overridden by another graph variable\n",
        "- graph variables are matched to input files in a simple greedy matching scheme (see manual),\n",
        "  for example, here we use a substring of each input file name\n",
        "- multiple edges in the pattern are separated by commas to allow for graph switching"
      ],
      "id": "a5b19871"
    },
    {
      "cell_type": "code",
      "metadata": {
        "id": "3100a084",
        "colab": {
          "base_uri": "https://localhost:8080/"
        },
        "outputId": "840e64c5-4542-41eb-8c4c-ef82109cd47b"
      },
      "source": [
        "!kgtk query -i $GRAPH -i $FILMS \\\n",
        "     --match 'graph: (x)-[r:spouse]->(y), \\\n",
        "              films: (y)<-[:cast]-(f)-[:instance_of]->(:film)' \\\n",
        "     --return 'r, x, r.label, y, f as `node2;acted_in`'"
      ],
      "id": "3100a084",
      "execution_count": null,
      "outputs": [
        {
          "output_type": "stream",
          "name": "stdout",
          "text": [
            "id\tnode1\tlabel\tnode2\tnode2;acted_in\n",
            "e1\tm_shriver\tspouse\ta_schwarzenegger\tterminator2_jd\n"
          ]
        }
      ]
    },
    {
      "cell_type": "markdown",
      "metadata": {
        "id": "86f272e7"
      },
      "source": [
        "**Example**\n",
        "- let's further restrict that the acting had to be done before 1985"
      ],
      "id": "86f272e7"
    },
    {
      "cell_type": "code",
      "metadata": {
        "lines_to_next_cell": 2,
        "id": "1fb135c4",
        "colab": {
          "base_uri": "https://localhost:8080/"
        },
        "outputId": "b3a1141a-6a85-4e97-c258-7fbb71e9155c"
      },
      "source": [
        "!kgtk query -i $GRAPH -i $FILMS \\\n",
        "     --match 'graph: (x)-[r:spouse]->(y), \\\n",
        "              films: (y)<-[:cast]-(f)-[:instance_of]->(:film), \\\n",
        "                     (f)-[:publication_date]->(d)' \\\n",
        "     --where 'd < \"^1995\"' \\\n",
        "     --return 'r, x, r.label, y, f as `node2;acted_in`, d as `node2;acted_when`'"
      ],
      "id": "1fb135c4",
      "execution_count": null,
      "outputs": [
        {
          "output_type": "stream",
          "name": "stdout",
          "text": [
            "id\tnode1\tlabel\tnode2\tnode2;acted_in\tnode2;acted_when\n",
            "e1\tm_shriver\tspouse\ta_schwarzenegger\tterminator2_jd\t^1991-07-03T00:00:00Z/11\n"
          ]
        }
      ]
    },
    {
      "cell_type": "markdown",
      "metadata": {
        "id": "040183db"
      },
      "source": [
        "## Aggregation"
      ],
      "id": "040183db"
    },
    {
      "cell_type": "markdown",
      "metadata": {
        "id": "878f3af7"
      },
      "source": [
        "- similar to SQL and Cypher, Kypher supports aggregation functions such\n",
        "  as `count`, `min`, `max`, `avg`, etc.\n",
        "- one of the simplest and most frequently used operations is counting rows via `count`"
      ],
      "id": "878f3af7"
    },
    {
      "cell_type": "markdown",
      "metadata": {
        "id": "3a27616e"
      },
      "source": [
        "**Example**\n",
        "- count how many edges have `terminator2_jd` as their starting node"
      ],
      "id": "3a27616e"
    },
    {
      "cell_type": "code",
      "metadata": {
        "id": "d093572e",
        "colab": {
          "base_uri": "https://localhost:8080/"
        },
        "outputId": "a22171d0-2fba-4886-a62d-13cb40d1f601"
      },
      "source": [
        "!kgtk query -i $FILMS \\\n",
        "     --match '(:terminator2_jd)-[r]->()' \\\n",
        "     --return 'count(r) as N'"
      ],
      "id": "d093572e",
      "execution_count": null,
      "outputs": [
        {
          "output_type": "stream",
          "name": "stdout",
          "text": [
            "N\n",
            "11\n"
          ]
        }
      ]
    },
    {
      "cell_type": "markdown",
      "metadata": {
        "id": "c24a502d"
      },
      "source": [
        "**Example**\n",
        "- counts may include duplicate values (every selected edge will be counted)\n",
        "- we can use `distinct` keyword as the first argument to `count` (or any aggregation function) to exclude duplicates"
      ],
      "id": "c24a502d"
    },
    {
      "cell_type": "code",
      "metadata": {
        "id": "3d5e4e83",
        "colab": {
          "base_uri": "https://localhost:8080/"
        },
        "outputId": "ec864233-eb30-463f-cc44-c634456c16cd"
      },
      "source": [
        "!kgtk query -i $FILMS \\\n",
        "     --match '(:terminator2_jd)-[r]->()' \\\n",
        "     --return 'count(distinct r.label) as N'"
      ],
      "id": "3d5e4e83",
      "execution_count": null,
      "outputs": [
        {
          "output_type": "stream",
          "name": "stdout",
          "text": [
            "N\n",
            "7\n"
          ]
        }
      ]
    },
    {
      "cell_type": "markdown",
      "metadata": {
        "id": "838358eb"
      },
      "source": [
        "**Example**\n",
        "- Kypher does not have an explicit `group by` clause (different from SPARQL or SQL)\n",
        "- grouping is inferred from clause type and order in the `return` statement\n",
        "  and sorts rows into into groups before an aggregation operation is applied to each group\n",
        "- below we group by relation label and then select the maximum `node2` for each label (lexicographically)"
      ],
      "id": "838358eb"
    },
    {
      "cell_type": "code",
      "metadata": {
        "id": "28935f79",
        "colab": {
          "base_uri": "https://localhost:8080/"
        },
        "outputId": "6d022917-c3da-4c70-8a7c-d07c65889494"
      },
      "source": [
        "!kgtk query -i $FILMS \\\n",
        "     --match '(x)-[r]->(y)' \\\n",
        "     --return 'r.label, max(y) as node2, x, r'"
      ],
      "id": "28935f79",
      "execution_count": null,
      "outputs": [
        {
          "output_type": "stream",
          "name": "stdout",
          "text": [
            "label\tnode2\tnode1\tid\n",
            "award\tacademy-best-sound-editing\tterminator2_jd\tt9\n",
            "cast\tl_hamilton\tterminator2_jd\tt6\n",
            "crew\tg_rydstrom\tterminator2_jd\tt7\n",
            "genre\tscience_fiction\tterminator2_jd\tt3\n",
            "instance_of\tfilm\tterminator2_jd\tt2\n",
            "name\t'Terminator'@en\tterminator\tt14\n",
            "publication_date\t^1995-07-01T00:00:00Z/11\tterminator2_jd\tt11\n",
            "subclass_of\tvisual_artwork\tfilm\tt12\n"
          ]
        }
      ]
    },
    {
      "cell_type": "markdown",
      "metadata": {
        "lines_to_next_cell": 2,
        "id": "bc9ea6c6"
      },
      "source": [
        "**Mildly tricky**: the query applied the `max` function to groups of\n",
        "result rows where `r.label` had the same value.  But for this to\n",
        "work we had to move the other output variables `x` and `r` to the\n",
        "end, otherwise they would have been the grouping criterion (that's\n",
        "the drawback of implicit grouping)."
      ],
      "id": "bc9ea6c6"
    },
    {
      "cell_type": "markdown",
      "metadata": {
        "id": "f35835f3"
      },
      "source": [
        "## Optional match"
      ],
      "id": "f35835f3"
    },
    {
      "cell_type": "markdown",
      "metadata": {
        "id": "9e44058a"
      },
      "source": [
        "- real-world KGs often only have partial coverage of certain relations\n",
        "- for example, not every node might have a name or label\n",
        "- Kypher's optional match patterns can be used to hande incomplete information,\n",
        "  since they are allowed to fail and will generate NULL values for such cases\n",
        "- each Kypher query must have exactly one strict `--match` clause and\n",
        "  can have zero or more optional match clauses introduced by `--opt`\n",
        "- **Kypher vs. Cypher**: this is more than Cypher which can have any\n",
        "  number of strict and/or optional patterns in any order\n",
        "- each strict and optional match clause can have its own `--where` clause\n",
        "- below we sometimes use a third graph of edge qualifiers shown here:"
      ],
      "id": "9e44058a"
    },
    {
      "cell_type": "code",
      "metadata": {
        "id": "16ad326b",
        "colab": {
          "base_uri": "https://localhost:8080/"
        },
        "outputId": "237eea5e-c471-44fc-d420-af778920fd37"
      },
      "source": [
        "!echo $QUALS"
      ],
      "id": "16ad326b",
      "execution_count": null,
      "outputs": [
        {
          "output_type": "stream",
          "name": "stdout",
          "text": [
            "/root/isi-kgtk-tutorial/input/small-quals.tsv\n"
          ]
        }
      ]
    },
    {
      "cell_type": "code",
      "metadata": {
        "id": "11b32803",
        "colab": {
          "base_uri": "https://localhost:8080/"
        },
        "outputId": "93adfb9e-1b19-4f2e-83c2-56cfe3ca3a37"
      },
      "source": [
        "!kgtk query -i $QUALS"
      ],
      "id": "11b32803",
      "execution_count": null,
      "outputs": [
        {
          "output_type": "stream",
          "name": "stdout",
          "text": [
            "id\tnode1\tlabel\tnode2\n",
            "q1\tt5\trole\tterminator\n",
            "q2\tt6\trole\ts_connor\n",
            "q3\tt9\tpoint_in_time\t^1992-03-30T00:00:00Z/11\n",
            "q4 \tt9\twinner\tg_rydstrom\n",
            "q5 \tt9\twinner\tg_borders\n",
            "q6 \tt10\tlocation\tunited_states\n",
            "q8 \tt11\tlocation\trussia\n",
            "q9\te1\tstart\t^1986-04-26T08:00:00Z/11\n",
            "q10\te1\tend\t^2011-07-01T10:00:00Z/11\n"
          ]
        }
      ]
    },
    {
      "cell_type": "markdown",
      "metadata": {
        "id": "d774227d"
      },
      "source": [
        "**Example**\n",
        "- start with a strict query to find people associated with a movie and\n",
        "  any awards they may have won"
      ],
      "id": "d774227d"
    },
    {
      "cell_type": "code",
      "metadata": {
        "id": "d1cea397",
        "colab": {
          "base_uri": "https://localhost:8080/"
        },
        "outputId": "24465b78-b4ee-4930-d2c5-f54f4bf8870b"
      },
      "source": [
        "!kgtk query -i $GRAPH -i $FILMS -i $QUALS \\\n",
        "     --match  'graph: (p)-[:name]->(), \\\n",
        "               films: (f)-[:instance_of]->(:film), (f)-[]->(p), (f)-[ra:award]->(a), \\\n",
        "               quals: (ra)-[:winner]->(p)' \\\n",
        "     --return 'p as person, f as film, a as award'"
      ],
      "id": "d1cea397",
      "execution_count": null,
      "outputs": [
        {
          "output_type": "stream",
          "name": "stdout",
          "text": [
            "person\tfilm\taward\n",
            "g_rydstrom\tterminator2_jd\tacademy-best-sound-editing\n",
            "g_borders\tterminator2_jd\tacademy-best-sound-editing\n"
          ]
        }
      ]
    },
    {
      "cell_type": "markdown",
      "metadata": {
        "id": "3f394b5d"
      },
      "source": [
        "- result only lists some of the people, since not all participants won awards\n",
        "- this makes us miss some potentially useful data\n",
        "- to make sure we retrieve all people associated with a movie and optionally\n",
        "  any awards they may have received, we can use this query:"
      ],
      "id": "3f394b5d"
    },
    {
      "cell_type": "code",
      "metadata": {
        "id": "7a03c50b",
        "colab": {
          "base_uri": "https://localhost:8080/"
        },
        "outputId": "c900d31e-0af0-455c-ed05-5ff88a3a95e5"
      },
      "source": [
        "!kgtk query -i $GRAPH -i $FILMS -i $QUALS \\\n",
        "     --match  'graph: (p)-[:name]->(), \\\n",
        "               films: (f)-[:instance_of]->(:film), (f)-[]->(p)' \\\n",
        "     --opt    'films: (f)-[ra:award]->(a), \\\n",
        "               quals: (ra)-[:winner]->(p)' \\\n",
        "     --return 'p as person, f as film, a as award'"
      ],
      "id": "7a03c50b",
      "execution_count": null,
      "outputs": [
        {
          "output_type": "stream",
          "name": "stdout",
          "text": [
            "person\tfilm\taward\n",
            "a_schwarzenegger\tterminator2_jd\t\n",
            "l_hamilton\tterminator2_jd\t\n",
            "g_rydstrom\tterminator2_jd\tacademy-best-sound-editing\n",
            "g_borders\tterminator2_jd\tacademy-best-sound-editing\n"
          ]
        }
      ]
    },
    {
      "cell_type": "markdown",
      "metadata": {
        "id": "edf97278"
      },
      "source": [
        "- now we get all relevant people and missing awards are simply empty (or NULL)\n",
        "- note how edge qualifiers associate information to an edge ID (e.g., the winner of an award)\n",
        "- optional patterns are either fully satisfied for a set of bindings, or not at all,\n",
        "  there are no partial matches"
      ],
      "id": "edf97278"
    },
    {
      "cell_type": "markdown",
      "metadata": {
        "id": "5d1ab442"
      },
      "source": [
        "**Example**\n",
        "- multiple independent optional clauses to also get spouses and to filter awards\n",
        "  after 1990"
      ],
      "id": "5d1ab442"
    },
    {
      "cell_type": "code",
      "metadata": {
        "id": "20da4b70",
        "colab": {
          "base_uri": "https://localhost:8080/"
        },
        "outputId": "5f8eaaf0-ced8-46f6-8095-7a2c8556cfa1"
      },
      "source": [
        "!kgtk query -i $GRAPH -i $FILMS -i $QUALS \\\n",
        "     --match  'graph: (p)-[:name]->(), \\\n",
        "               films: (f)-[:instance_of]->(:film), (f)-[]->(p)' \\\n",
        "     --opt    'films: (f)-[ra:award]->(a), \\\n",
        "               quals: (ra)-[:winner]->(p), (ra)-[:point_in_time]->(ad)' \\\n",
        "     --where  'ad >= 1990' \\\n",
        "     --opt    'graph: (s)-[:spouse]->(p)' \\\n",
        "     --return 'p as person, f as film, a as award, s as spouse'"
      ],
      "id": "20da4b70",
      "execution_count": null,
      "outputs": [
        {
          "output_type": "stream",
          "name": "stdout",
          "text": [
            "person\tfilm\taward\tspouse\n",
            "a_schwarzenegger\tterminator2_jd\t\tm_shriver\n",
            "l_hamilton\tterminator2_jd\t\t\n",
            "g_rydstrom\tterminator2_jd\tacademy-best-sound-editing\t\n",
            "g_borders\tterminator2_jd\tacademy-best-sound-editing\t\n"
          ]
        }
      ]
    },
    {
      "cell_type": "markdown",
      "metadata": {
        "id": "3d137982"
      },
      "source": [
        "**Example**\n",
        "- compare that to the SQL produced"
      ],
      "id": "3d137982"
    },
    {
      "cell_type": "code",
      "metadata": {
        "id": "e04ba8cf",
        "colab": {
          "base_uri": "https://localhost:8080/"
        },
        "outputId": "f2a374b5-9643-4599-8a16-5a3e068637c4"
      },
      "source": [
        "!kgtk --debug query -i $GRAPH -i $FILMS -i $QUALS \\\n",
        "     --match  'graph: (p)-[:name]->(), \\\n",
        "               films: (f)-[:instance_of]->(:film), (f)-[]->(p)' \\\n",
        "     --opt    'films: (f)-[ra:award]->(a), \\\n",
        "               quals: (ra)-[:winner]->(p), (ra)-[:point_in_time]->(ad)' \\\n",
        "     --where  'ad >= 1990' \\\n",
        "     --opt    'graph: (s)-[:spouse]->(p)' \\\n",
        "     --return 'p as person, f as film, a as award, s as spouse'"
      ],
      "id": "e04ba8cf",
      "execution_count": null,
      "outputs": [
        {
          "output_type": "stream",
          "name": "stdout",
          "text": [
            "[2021-10-23 18:41:32 query]: SQL Translation:\n",
            "---------------------------------------------\n",
            "  SELECT graph_1_c1.\"node1\" \"_aLias.person\", graph_2_c2.\"node1\" \"_aLias.film\", graph_2_c4.\"node2\" \"_aLias.award\", graph_1_c7.\"node1\" \"_aLias.spouse\"\n",
            "     FROM graph_1 AS graph_1_c1\n",
            "     INNER JOIN graph_2 AS graph_2_c2, graph_2 AS graph_2_c3\n",
            "     ON graph_1_c1.\"node1\" = graph_2_c3.\"node2\"\n",
            "        AND graph_2_c2.\"node1\" = graph_2_c3.\"node1\"\n",
            "        AND graph_1_c1.\"label\" = ?\n",
            "        AND graph_2_c2.\"label\" = ?\n",
            "        AND graph_2_c2.\"node2\" = ?\n",
            "     LEFT JOIN (graph_2 AS graph_2_c4\n",
            "         INNER JOIN graph_3 AS graph_3_c5, graph_3 AS graph_3_c6\n",
            "         ON graph_2_c4.\"id\" = graph_3_c5.\"node1\"\n",
            "            AND graph_2_c4.\"id\" = graph_3_c6.\"node1\"\n",
            "            AND graph_2_c4.\"label\" = ?\n",
            "            AND graph_3_c5.\"label\" = ?\n",
            "            AND graph_3_c6.\"label\" = ?\n",
            "            AND (graph_3_c6.\"node2\" >= ?))\n",
            "     ON graph_1_c1.\"node1\" = graph_3_c5.\"node2\"\n",
            "        AND graph_2_c2.\"node1\" = graph_2_c4.\"node1\"\n",
            "     LEFT JOIN graph_1 AS graph_1_c7\n",
            "     ON graph_1_c1.\"node1\" = graph_1_c7.\"node2\"\n",
            "        AND graph_1_c7.\"label\" = ?\n",
            "  PARAS: ['name', 'instance_of', 'film', 'award', 'winner', 'point_in_time', 1990, 'spouse']\n",
            "---------------------------------------------\n",
            "person\tfilm\taward\tspouse\n",
            "a_schwarzenegger\tterminator2_jd\t\tm_shriver\n",
            "l_hamilton\tterminator2_jd\t\t\n",
            "g_rydstrom\tterminator2_jd\tacademy-best-sound-editing\t\n",
            "g_borders\tterminator2_jd\tacademy-best-sound-editing\t\n"
          ]
        }
      ]
    },
    {
      "cell_type": "markdown",
      "metadata": {
        "lines_to_next_cell": 2,
        "id": "8b7017cf"
      },
      "source": [
        "- see the manual for more examples\n",
        "- e.g., how to do `NOT EXISTS` with an optional clause"
      ],
      "id": "8b7017cf"
    },
    {
      "cell_type": "markdown",
      "metadata": {
        "id": "27883225"
      },
      "source": [
        "## Full-text search"
      ],
      "id": "27883225"
    },
    {
      "cell_type": "markdown",
      "metadata": {
        "id": "17fc223a"
      },
      "source": [
        "- Kypher supports efficient full-text search over large graph data via SQLite's FTS5 module\n",
        "- matching uses specialized indexes which can be created easily and efficiently"
      ],
      "id": "17fc223a"
    },
    {
      "cell_type": "markdown",
      "metadata": {
        "id": "bd6efd32"
      },
      "source": [
        "**Example**\n",
        "- we define a text index on the `node2` column of `GRAPH` and then use `textmatch` to match against `node2` values\n",
        "- multiple indexes can be defined on the same graph column, we can provide names to disambiguate\n",
        "- **minor caveat**: use of an older Python version requires us to provide extra index definition options,\n",
        "  since the default `trigram` tokenizer is currently only supported in Python 3.9 or later\n",
        "- match scores are negative with the best being the smallest (most negative) "
      ],
      "id": "bd6efd32"
    },
    {
      "cell_type": "code",
      "metadata": {
        "id": "d00ef3eb"
      },
      "source": [
        "!rm -f $KGTK_GRAPH_CACHE  # bug workaround"
      ],
      "id": "d00ef3eb",
      "execution_count": null,
      "outputs": []
    },
    {
      "cell_type": "code",
      "metadata": {
        "lines_to_next_cell": 2,
        "id": "b5280356",
        "colab": {
          "base_uri": "https://localhost:8080/"
        },
        "outputId": "29b00594-f235-48dc-da92-edc3aee80c9c"
      },
      "source": [
        "!kgtk query -i $GRAPH --idx auto text:node2//name=myidx//tokenize=ascii//prefix=3 \\\n",
        "     --match '(x)-[r]->(y)' \\\n",
        "     --where 'textmatch(y, \"sch*\")' \\\n",
        "     --return 'x, r.label, y, matchscore(y) as score' \\\n",
        "     --order 'score'"
      ],
      "id": "b5280356",
      "execution_count": null,
      "outputs": [
        {
          "output_type": "stream",
          "name": "stdout",
          "text": [
            "node1\tlabel\tnode2\tscore\n",
            "m_shriver\tspouse\ta_schwarzenegger\t-0.6991202559002525\n",
            "g_rydstrom\tcolleague\ta_schwarzenegger\t-0.6991202559002525\n",
            "a_schwarzenegger\tname\t'Arnold Schwarzenegger'@de\t-0.5994217687032093\n"
          ]
        }
      ]
    },
    {
      "cell_type": "markdown",
      "metadata": {
        "id": "c723779c"
      },
      "source": [
        "**Example**\n",
        "- `textmatch` patterns use a phrase-based language that allows\n",
        "  multi-word phrases, Boolean expressions, multi-column expressions, suffix patterns, etc. (see manual)\n",
        "- here is an example of a Boolean expression\n",
        "- note that the index only needs to be specified the first time around, repeating it is a no-op"
      ],
      "id": "c723779c"
    },
    {
      "cell_type": "code",
      "metadata": {
        "id": "8824450f",
        "colab": {
          "base_uri": "https://localhost:8080/"
        },
        "outputId": "58e9972d-abb2-422c-acb3-c25aaf74721b"
      },
      "source": [
        "!kgtk query -i $GRAPH \\\n",
        "     --match '(x)-[r]->(y)' \\\n",
        "     --where 'textmatch(y, \"sch* OR linda\")' \\\n",
        "     --return 'x, r.label, y, matchscore(y) as score' \\\n",
        "     --order 'score'"
      ],
      "id": "8824450f",
      "execution_count": null,
      "outputs": [
        {
          "output_type": "stream",
          "name": "stdout",
          "text": [
            "node1\tlabel\tnode2\tscore\n",
            "l_hamilton\tname\t'Linda Hamilton'@en\t-1.6796313036328494\n",
            "m_shriver\tspouse\ta_schwarzenegger\t-0.6991202559002525\n",
            "g_rydstrom\tcolleague\ta_schwarzenegger\t-0.6991202559002525\n",
            "a_schwarzenegger\tname\t'Arnold Schwarzenegger'@de\t-0.5994217687032093\n"
          ]
        }
      ]
    },
    {
      "cell_type": "markdown",
      "metadata": {
        "id": "766202b2"
      },
      "source": [
        "The `trigram` tokenizer (available with Python 3.9) also supports\n",
        "case-insensitive SQL `LIKE` patterns and case-sensitive `GLOB`\n",
        "patterns (see manual)."
      ],
      "id": "766202b2"
    },
    {
      "cell_type": "markdown",
      "metadata": {
        "id": "84bc14e9"
      },
      "source": [
        "**Example**\n",
        "- text indexes can be qualified with their name to select between multiple options"
      ],
      "id": "84bc14e9"
    },
    {
      "cell_type": "code",
      "metadata": {
        "id": "c21dada9",
        "colab": {
          "base_uri": "https://localhost:8080/"
        },
        "outputId": "d9d2c837-a840-4d4a-f82d-a8ea93db017e"
      },
      "source": [
        "!kgtk query -i $GRAPH \\\n",
        "     --match '(x)-[r]->(y)' \\\n",
        "     --where 'textmatch(myidx.y, \"schw*\")' \\\n",
        "     --return 'x, r.label, y, matchscore(myidx.y) as score' \\\n",
        "     --order 'score'"
      ],
      "id": "c21dada9",
      "execution_count": null,
      "outputs": [
        {
          "output_type": "stream",
          "name": "stdout",
          "text": [
            "node1\tlabel\tnode2\tscore\n",
            "m_shriver\tspouse\ta_schwarzenegger\t-0.6991202559002525\n",
            "g_rydstrom\tcolleague\ta_schwarzenegger\t-0.6991202559002525\n",
            "a_schwarzenegger\tname\t'Arnold Schwarzenegger'@de\t-0.5994217687032093\n"
          ]
        }
      ]
    },
    {
      "cell_type": "markdown",
      "metadata": {
        "id": "515437d9"
      },
      "source": [
        "**Example**\n",
        "- a text index may index more than one column\n",
        "- then the text match expression can use column-specific filters"
      ],
      "id": "515437d9"
    },
    {
      "cell_type": "code",
      "metadata": {
        "id": "e223c619",
        "colab": {
          "base_uri": "https://localhost:8080/"
        },
        "outputId": "ed044262-903a-48fe-f6a2-8602152f2f42"
      },
      "source": [
        "!kgtk query -i $GRAPH --idx auto text:node1,node2//name=multi//tokenize=ascii//prefix=3 \\\n",
        "     --match '(x)-[r]->(y)' \\\n",
        "     --where 'textmatch(multi.r, \"node1: g* AND node2 : borders\")' \\\n",
        "     --return 'x, r.label, y, matchscore(multi.r) as score' \\\n",
        "     --order 'score'"
      ],
      "id": "e223c619",
      "execution_count": null,
      "outputs": [
        {
          "output_type": "stream",
          "name": "stdout",
          "text": [
            "node1\tlabel\tnode2\tscore\n",
            "g_rydstrom\tcolleague\tg_borders\t-1.391983808592556\n",
            "g_borders\tname\t'Gloria S. Borders'@en\t-1.1761930172126576\n"
          ]
        }
      ]
    },
    {
      "cell_type": "code",
      "metadata": {
        "lines_to_next_cell": 2,
        "id": "aa5b9961",
        "colab": {
          "base_uri": "https://localhost:8080/"
        },
        "outputId": "21c722f8-8cd0-4c43-810c-b66704973f8b"
      },
      "source": [
        "!kgtk query -i $GRAPH \\\n",
        "     --match '(x)-[r]->(y)' \\\n",
        "     --where 'textmatch(multi.r, \"node1: g* NOT node2 : borders\")' \\\n",
        "     --return 'x, r.label, y, matchscore(multi.r) as score' \\\n",
        "     --order 'score'"
      ],
      "id": "aa5b9961",
      "execution_count": null,
      "outputs": [
        {
          "output_type": "stream",
          "name": "stdout",
          "text": [
            "node1\tlabel\tnode2\tscore\n",
            "g_rydstrom\tcolleague\ta_schwarzenegger\t-0.2149880837001077\n",
            "g_rydstrom\tname\t'Gary R. Rydstrom'@en\t-0.18165978747100012\n"
          ]
        }
      ]
    },
    {
      "cell_type": "markdown",
      "metadata": {
        "id": "f639e370"
      },
      "source": [
        "## Input and output specification options"
      ],
      "id": "f639e370"
    },
    {
      "cell_type": "markdown",
      "metadata": {
        "id": "6d2198c1"
      },
      "source": [
        "```\n",
        "  -i INPUT_FILE [INPUT_FILE ...], --input-files INPUT_FILE [INPUT_FILE ...]\n",
        "                        One or more input files to query (maybe compressed).\n",
        "                        (Required, use '-' for stdin.)\n",
        "  --as NAME             alias name to be used for preceding input\n",
        "  --comment COMMENT     comment string to store for the preceding input\n",
        "                        (displayed by --show-cache)\n",
        "  --no-header           do not generate a header row with column names\n",
        "  -o OUTPUT, --out OUTPUT\n",
        "                        output file to write to, if `-' (the default) output\n",
        "                        goes to stdout. Files with extensions .gz, .bz2 or .xz\n",
        "                        will be appropriately compressed.\n",
        "```"
      ],
      "id": "6d2198c1"
    },
    {
      "cell_type": "markdown",
      "metadata": {
        "id": "ef7fdcd3"
      },
      "source": [
        "**Example**"
      ],
      "id": "ef7fdcd3"
    },
    {
      "cell_type": "code",
      "metadata": {
        "lines_to_next_cell": 2,
        "id": "7fb32f69"
      },
      "source": [
        "!kgtk query -i $GRAPH -i $FILMS --as works --comment 'Film information' --no-header \\\n",
        "     --match 'graph: (x)-[]->(y), works: (f)-[r]->(x)' \\\n",
        "     --return 'r, f, r.label, x' \\\n",
        "     -o $TEMP/example-query.tsv.gz"
      ],
      "id": "7fb32f69",
      "execution_count": null,
      "outputs": []
    },
    {
      "cell_type": "markdown",
      "metadata": {
        "id": "e62f7dca"
      },
      "source": [
        "## Graph cache"
      ],
      "id": "e62f7dca"
    },
    {
      "cell_type": "markdown",
      "metadata": {
        "id": "ed49d72e"
      },
      "source": [
        "- when input files are queries they are first imported into SQLite database tables\n",
        "- this is very fast but can be noticable for larger data\n",
        "- import of WD claims file with 1B edges (~16 GB compressed) takes 20 minutes on laptop\n",
        "- resulting database is cached into a *graph cache* to amortize this over multiple queries\n",
        "- indexes built to speed up queries or text search are also cached\n",
        "- if data change is detected, data will be re-imported and re-indexed automatically"
      ],
      "id": "ed49d72e"
    },
    {
      "cell_type": "markdown",
      "metadata": {
        "id": "cf1e0351"
      },
      "source": [
        "- location of the cache file can be controlled with `--graph-cache FILE` or the `KGTK_GRAPH_CACHE`\n",
        "  environment variable\n",
        "- otherwise a default location in `/tmp` will be used"
      ],
      "id": "cf1e0351"
    },
    {
      "cell_type": "markdown",
      "metadata": {
        "id": "5168ef96"
      },
      "source": [
        "- cache is a *true cache*, that is it is safe to delete it and it will be rebuilt automatically\n",
        "  (as long as the relevant data files are still available)\n",
        "- however, we increasingly find cases where the cache is explicitly managed, for example,\n",
        "  to support the browser or to ship large data to somebody else\n",
        "- cache files can become very large and should be on an SSD drive for best performance"
      ],
      "id": "5168ef96"
    },
    {
      "cell_type": "markdown",
      "metadata": {
        "id": "b5e9f195"
      },
      "source": [
        "**Example**\n",
        "- display the current content of the cache with `--show-cache`"
      ],
      "id": "b5e9f195"
    },
    {
      "cell_type": "code",
      "metadata": {
        "lines_to_next_cell": 2,
        "id": "ee45124d",
        "colab": {
          "base_uri": "https://localhost:8080/"
        },
        "outputId": "0e075186-ea61-48cc-8544-a6891e5cb89e"
      },
      "source": [
        "!kgtk query --show-cache"
      ],
      "id": "ee45124d",
      "execution_count": null,
      "outputs": [
        {
          "output_type": "stream",
          "name": "stdout",
          "text": [
            "Graph Cache:\n",
            "DB file: /tmp/projects/tutorial-kypher/temp.tutorial-kypher/wikidata.sqlite3.db\n",
            "  size:  72.00 KB   \tfree:  0 Bytes   \tmodified:  2021-10-23 18:42:02\n",
            "\n",
            "KGTK File Information:\n",
            "/root/isi-kgtk-tutorial/input/small-graph.tsv:\n",
            "  size:  382 Bytes   \tmodified:  2021-10-23 18:35:29   \tgraph:  graph_1\n",
            "works:\n",
            "  size:  590 Bytes   \tmodified:  2021-10-23 18:35:29   \tgraph:  graph_2\n",
            "  comment:  Film information\n",
            "\n",
            "Graph Table Information:\n",
            "graph_1:\n",
            "  size:  40.00 KB   \tcreated:  2021-10-23 18:41:47\n",
            "  header:  ['id', 'node1', 'label', 'node2']\n",
            "graph_2:\n",
            "  size:  12.00 KB   \tcreated:  2021-10-23 18:42:02\n",
            "  header:  ['id', 'node1', 'label', 'node2']\n"
          ]
        }
      ]
    },
    {
      "cell_type": "markdown",
      "metadata": {
        "id": "18ec64d4"
      },
      "source": [
        "## Defining and using custom functions"
      ],
      "id": "18ec64d4"
    },
    {
      "cell_type": "markdown",
      "metadata": {
        "id": "b87f16f5"
      },
      "source": [
        "- when provided built-in functions are not enough, custom functions can be executed via Python"
      ],
      "id": "b87f16f5"
    },
    {
      "cell_type": "markdown",
      "metadata": {
        "id": "ca613f46"
      },
      "source": [
        "**Example**\n",
        "- perform some random modifications on the `GRAPH` data\n",
        "- note that values returned by `pyeval` and `pycall` must be simple literals"
      ],
      "id": "ca613f46"
    },
    {
      "cell_type": "code",
      "metadata": {
        "lines_to_next_cell": 2,
        "id": "d6032d24",
        "colab": {
          "base_uri": "https://localhost:8080/"
        },
        "outputId": "3e0a65f3-4dce-4d3e-9044-94f63c7d81b9"
      },
      "source": [
        "!kgtk query -i $GRAPH --import 'uuid, math as m' \\\n",
        "     --match '(x)-[r:name]->(y)' \\\n",
        "     --where 'kgtk_lqstring(y)' \\\n",
        "     --return 'y as name, \\\n",
        "               pyeval(printf($FMT, y)) as swapname, \\\n",
        "               pycall(\"m.fmod\", length(y), 2) as isodd, \\\n",
        "               pycall(\"uuid.uuid4\") as uuid' \\\n",
        "     --para FMT='\"%s\".swapcase()'"
      ],
      "id": "d6032d24",
      "execution_count": null,
      "outputs": [
        {
          "output_type": "stream",
          "name": "stdout",
          "text": [
            "name\tswapname\tisodd\tuuid\n",
            "'Arnold Schwarzenegger'@de\t'aRNOLD sCHWARZENEGGER'@DE\t0.0\t155d8a58-a2d0-4dff-8e0e-175c74e95d7b\n",
            "'Linda Hamilton'@en\t'lINDA hAMILTON'@EN\t1.0\t34d48da9-8cf0-4757-8fe6-3f06d481a86c\n",
            "'Gary R. Rydstrom'@en\t'gARY r. rYDSTROM'@EN\t1.0\t60692805-4244-4c1d-961c-7326a56c7b97\n",
            "'Gloria S. Borders'@en\t'gLORIA s. bORDERS'@EN\t0.0\t604b5dc7-33d5-4c88-8b60-2ab1bbe58040\n",
            "'Maria Shriver'@en\t'mARIA sHRIVER'@EN\t0.0\td946330a-72b8-49a8-afc0-bc309ff58c13\n"
          ]
        }
      ]
    },
    {
      "cell_type": "markdown",
      "metadata": {
        "id": "2d53abb0"
      },
      "source": [
        "## Debugging"
      ],
      "id": "2d53abb0"
    },
    {
      "cell_type": "markdown",
      "metadata": {
        "id": "7e2fee34"
      },
      "source": [
        "**Example**\n",
        "- `query` accepts the `--debug` and `--expert` options to show additional output\n",
        "- this shows query translation, data import and indexing, etc.\n",
        "- here we can see how built-in functions are called directly in SQL:"
      ],
      "id": "7e2fee34"
    },
    {
      "cell_type": "code",
      "metadata": {
        "lines_to_next_cell": 2,
        "id": "9c61736f",
        "colab": {
          "base_uri": "https://localhost:8080/"
        },
        "outputId": "fbd290b7-e60c-4732-da97-94f0b39f09c2"
      },
      "source": [
        "!rm -f $KGTK_GRAPH_CACHE\n",
        "\n",
        "!kgtk --debug query -i $GRAPH \\\n",
        "     --match '(p)-[r:name]->(n)' \\\n",
        "     --where 'n.kgtk_lqstring_lang = \"de\"'"
      ],
      "id": "9c61736f",
      "execution_count": null,
      "outputs": [
        {
          "output_type": "stream",
          "name": "stdout",
          "text": [
            "[2021-10-23 18:42:16 sqlstore]: IMPORT graph via csv.reader into table graph_1 from /root/isi-kgtk-tutorial/input/small-graph.tsv ...\n",
            "[2021-10-23 18:42:16 query]: SQL Translation:\n",
            "---------------------------------------------\n",
            "  SELECT *\n",
            "     FROM graph_1 AS graph_1_c1\n",
            "     WHERE graph_1_c1.\"label\" = ?\n",
            "        AND (kgtk_lqstring_lang(graph_1_c1.\"node2\") = ?)\n",
            "  PARAS: ['name', 'de']\n",
            "---------------------------------------------\n",
            "[2021-10-23 18:42:16 sqlstore]: CREATE INDEX \"graph_1_label_idx\" ON \"graph_1\" (\"label\")\n",
            "[2021-10-23 18:42:16 sqlstore]: ANALYZE \"graph_1_label_idx\"\n",
            "id\tnode1\tlabel\tnode2\n",
            "e5\ta_schwarzenegger\tname\t'Arnold Schwarzenegger'@de\n"
          ]
        }
      ]
    },
    {
      "cell_type": "markdown",
      "metadata": {
        "id": "c0f3bd4a"
      },
      "source": [
        "- run it again to show how imported data and indexes are reused"
      ],
      "id": "c0f3bd4a"
    },
    {
      "cell_type": "code",
      "metadata": {
        "lines_to_next_cell": 2,
        "id": "a0272483",
        "colab": {
          "base_uri": "https://localhost:8080/"
        },
        "outputId": "eb536632-01e4-4b10-efbb-c0dbb16a2d60"
      },
      "source": [
        "!kgtk --debug query -i $GRAPH \\\n",
        "     --match '(p)-[r:name]->(n)' \\\n",
        "     --where 'n.kgtk_lqstring_lang = \"de\"'"
      ],
      "id": "a0272483",
      "execution_count": null,
      "outputs": [
        {
          "output_type": "stream",
          "name": "stdout",
          "text": [
            "[2021-10-23 18:42:18 query]: SQL Translation:\n",
            "---------------------------------------------\n",
            "  SELECT *\n",
            "     FROM graph_1 AS graph_1_c1\n",
            "     WHERE graph_1_c1.\"label\" = ?\n",
            "        AND (kgtk_lqstring_lang(graph_1_c1.\"node2\") = ?)\n",
            "  PARAS: ['name', 'de']\n",
            "---------------------------------------------\n",
            "id\tnode1\tlabel\tnode2\n",
            "e5\ta_schwarzenegger\tname\t'Arnold Schwarzenegger'@de\n"
          ]
        }
      ]
    },
    {
      "cell_type": "markdown",
      "metadata": {
        "id": "f57eb238"
      },
      "source": [
        "## Querying based on edge qualifiers"
      ],
      "id": "f57eb238"
    },
    {
      "cell_type": "markdown",
      "metadata": {
        "id": "cc83ef1c"
      },
      "source": [
        "- one of the motivations for developing Kypher was the \"Wikidata time machine use case\"\n",
        "- find all statements with temporal annotations after a certain time and remove them\n",
        "  to only retain facts known before that time\n",
        "- in Wikidata temporal annotations are attached via edge qualifiers\n",
        "- in KGTK those are represented via edges linked to another edge's ID"
      ],
      "id": "cc83ef1c"
    },
    {
      "cell_type": "markdown",
      "metadata": {
        "id": "19f71825"
      },
      "source": [
        "**Example**\n",
        "1. look for base edges in the `GRAPH` graph\n",
        "2. link to qualifiers in the `QUALS` graph via edge id `r`\n",
        "3. restrict the qualifiers based on edge labels\n",
        "   `ql` that are listed in the `PROPS` graph\n",
        "4. restrict to edges that have a time with year of at most 2000\n",
        "5. output the qualifying base edges with their temporal annotations"
      ],
      "id": "19f71825"
    },
    {
      "cell_type": "code",
      "metadata": {
        "id": "4c70b1bd",
        "colab": {
          "base_uri": "https://localhost:8080/"
        },
        "outputId": "f210519c-71cb-430c-bd4d-981ff9e7ecee"
      },
      "source": [
        "!kgtk query -i $QUALS"
      ],
      "id": "4c70b1bd",
      "execution_count": null,
      "outputs": [
        {
          "output_type": "stream",
          "name": "stdout",
          "text": [
            "id\tnode1\tlabel\tnode2\n",
            "q1\tt5\trole\tterminator\n",
            "q2\tt6\trole\ts_connor\n",
            "q3\tt9\tpoint_in_time\t^1992-03-30T00:00:00Z/11\n",
            "q4 \tt9\twinner\tg_rydstrom\n",
            "q5 \tt9\twinner\tg_borders\n",
            "q6 \tt10\tlocation\tunited_states\n",
            "q8 \tt11\tlocation\trussia\n",
            "q9\te1\tstart\t^1986-04-26T08:00:00Z/11\n",
            "q10\te1\tend\t^2011-07-01T10:00:00Z/11\n"
          ]
        }
      ]
    },
    {
      "cell_type": "code",
      "metadata": {
        "id": "af9b03bc",
        "colab": {
          "base_uri": "https://localhost:8080/"
        },
        "outputId": "3ad507a7-5a64-4772-d0aa-a5a55e2846f6"
      },
      "source": [
        "!kgtk query -i $PROPS"
      ],
      "id": "af9b03bc",
      "execution_count": null,
      "outputs": [
        {
          "output_type": "stream",
          "name": "stdout",
          "text": [
            "id\tnode1\tlabel\tnode2\n",
            "p11\tstart\tmember\tset1\n",
            "p12\tend\tmember\tset1\n",
            "p12\tpoint_in_time\tmember\tset1\n"
          ]
        }
      ]
    },
    {
      "cell_type": "markdown",
      "metadata": {
        "id": "cd7867ea"
      },
      "source": [
        "- the crucial part of the query below is how we use the `id` of the base edge `r` as the `node1` of the qualifier edge `q` whose label `ql` has to be one of the properties listed in `PROPS`\n",
        "- we also need to use Kypher property syntax to introduce the match variable `ql`"
      ],
      "id": "cd7867ea"
    },
    {
      "cell_type": "code",
      "metadata": {
        "lines_to_next_cell": 2,
        "id": "a96b0621",
        "colab": {
          "base_uri": "https://localhost:8080/"
        },
        "outputId": "1fa68847-39c8-4edd-8ae0-c6db1868d354"
      },
      "source": [
        "!kgtk query -i $GRAPH -i $QUALS -i $PROPS  \\\n",
        "     --match \"graph: (x)-[r]->(y),  \\\n",
        "              quals: (r)-[q {label: ql}]->(time), \\\n",
        "              props: (ql)-[]->()\" \\\n",
        "     --where \"time.kgtk_date_year <= 2000\" \\\n",
        "     --return \"r as id, x, r.label, y, ql as trel, time as time\""
      ],
      "id": "a96b0621",
      "execution_count": null,
      "outputs": [
        {
          "output_type": "stream",
          "name": "stdout",
          "text": [
            "id\tnode1\tlabel\tnode2\ttrel\ttime\n",
            "e1\tm_shriver\tspouse\ta_schwarzenegger\tstart\t^1986-04-26T08:00:00Z/11\n"
          ]
        }
      ]
    },
    {
      "cell_type": "markdown",
      "metadata": {
        "id": "16b1ac79"
      },
      "source": [
        "## Further reading"
      ],
      "id": "16b1ac79"
    },
    {
      "cell_type": "markdown",
      "metadata": {
        "id": "b87e6aa7"
      },
      "source": [
        "- [Kypher manual](https://github.com/usc-isi-i2/kgtk/blob/dev/docs/transform/query.md)\n",
        "  - [Kypher vs. Cypher and unfinished features](https://github.com/usc-isi-i2/kgtk/blob/dev/docs/transform/query.md#differences-to-cypher)\n",
        "  - [Kypher API](https://github.com/usc-isi-i2/kgtk/blob/dev/kgtk/kypher/api.py)\n",
        "- [KGTK manual](https://kgtk.readthedocs.io/en/dev/)\n",
        "- [KGTK data model](https://kgtk.readthedocs.io/en/dev/data_model/)\n",
        "- [KGTK GitHub site](https://github.com/usc-isi-i2/kgtk)\n",
        "- [KGTK Tutorial use cases](https://github.com/usc-isi-i2/kgtk-notebooks/tree/main/tutorial)\n",
        "- [KGTK use cases](https://github.com/usc-isi-i2/kgtk/tree/dev/use-cases)\n",
        "- [openCypher](https://www.opencypher.org/)\n",
        "- [Cypher](https://neo4j.com/developer/cypher/)"
      ],
      "id": "b87e6aa7"
    }
  ]
}