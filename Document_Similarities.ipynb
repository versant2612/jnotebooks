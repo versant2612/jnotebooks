{
  "nbformat": 4,
  "nbformat_minor": 0,
  "metadata": {
    "colab": {
      "name": "Document_Similarities.ipynb",
      "provenance": [],
      "collapsed_sections": [
        "J3H7zfoTodpF",
        "L7oG1uuGodpp"
      ],
      "include_colab_link": true
    },
    "kernelspec": {
      "display_name": "Python 3",
      "language": "python",
      "name": "python3"
    },
    "language_info": {
      "codemirror_mode": {
        "name": "ipython",
        "version": 3
      },
      "file_extension": ".py",
      "mimetype": "text/x-python",
      "name": "python",
      "nbconvert_exporter": "python",
      "pygments_lexer": "ipython3",
      "version": "3.7.3"
    },
    "widgets": {
      "application/vnd.jupyter.widget-state+json": {
        "d50dbc243a1e41fb88568352f993c743": {
          "model_module": "@jupyter-widgets/controls",
          "model_name": "HBoxModel",
          "model_module_version": "1.5.0",
          "state": {
            "_view_name": "HBoxView",
            "_dom_classes": [],
            "_model_name": "HBoxModel",
            "_view_module": "@jupyter-widgets/controls",
            "_model_module_version": "1.5.0",
            "_view_count": null,
            "_view_module_version": "1.5.0",
            "box_style": "",
            "layout": "IPY_MODEL_75d90cc5677f46e688f1a7d691d64a01",
            "_model_module": "@jupyter-widgets/controls",
            "children": [
              "IPY_MODEL_2cb7d59f002d4ef8bd2ff27a26230e04",
              "IPY_MODEL_7f04c75093374cc58ff6886faa2e0b90",
              "IPY_MODEL_88cf89087b5b4d36ac8aa531911a5281"
            ]
          }
        },
        "75d90cc5677f46e688f1a7d691d64a01": {
          "model_module": "@jupyter-widgets/base",
          "model_name": "LayoutModel",
          "model_module_version": "1.2.0",
          "state": {
            "_view_name": "LayoutView",
            "grid_template_rows": null,
            "right": null,
            "justify_content": null,
            "_view_module": "@jupyter-widgets/base",
            "overflow": null,
            "_model_module_version": "1.2.0",
            "_view_count": null,
            "flex_flow": null,
            "width": null,
            "min_width": null,
            "border": null,
            "align_items": null,
            "bottom": null,
            "_model_module": "@jupyter-widgets/base",
            "top": null,
            "grid_column": null,
            "overflow_y": null,
            "overflow_x": null,
            "grid_auto_flow": null,
            "grid_area": null,
            "grid_template_columns": null,
            "flex": null,
            "_model_name": "LayoutModel",
            "justify_items": null,
            "grid_row": null,
            "max_height": null,
            "align_content": null,
            "visibility": null,
            "align_self": null,
            "height": null,
            "min_height": null,
            "padding": null,
            "grid_auto_rows": null,
            "grid_gap": null,
            "max_width": null,
            "order": null,
            "_view_module_version": "1.2.0",
            "grid_template_areas": null,
            "object_position": null,
            "object_fit": null,
            "grid_auto_columns": null,
            "margin": null,
            "display": null,
            "left": null
          }
        },
        "2cb7d59f002d4ef8bd2ff27a26230e04": {
          "model_module": "@jupyter-widgets/controls",
          "model_name": "HTMLModel",
          "model_module_version": "1.5.0",
          "state": {
            "_view_name": "HTMLView",
            "style": "IPY_MODEL_72ea37d1c39943ef85d8ac2bd2793c79",
            "_dom_classes": [],
            "description": "",
            "_model_name": "HTMLModel",
            "placeholder": "​",
            "_view_module": "@jupyter-widgets/controls",
            "_model_module_version": "1.5.0",
            "value": "Downloading https://raw.githubusercontent.com/stanfordnlp/stanza-resources/main/resources_1.3.0.json: ",
            "_view_count": null,
            "_view_module_version": "1.5.0",
            "description_tooltip": null,
            "_model_module": "@jupyter-widgets/controls",
            "layout": "IPY_MODEL_1da7c90c967145769ee2c021a647dded"
          }
        },
        "7f04c75093374cc58ff6886faa2e0b90": {
          "model_module": "@jupyter-widgets/controls",
          "model_name": "FloatProgressModel",
          "model_module_version": "1.5.0",
          "state": {
            "_view_name": "ProgressView",
            "style": "IPY_MODEL_85e1590f848245fb9af179e7d3ef10a3",
            "_dom_classes": [],
            "description": "",
            "_model_name": "FloatProgressModel",
            "bar_style": "success",
            "max": 24459,
            "_view_module": "@jupyter-widgets/controls",
            "_model_module_version": "1.5.0",
            "value": 24459,
            "_view_count": null,
            "_view_module_version": "1.5.0",
            "orientation": "horizontal",
            "min": 0,
            "description_tooltip": null,
            "_model_module": "@jupyter-widgets/controls",
            "layout": "IPY_MODEL_a9eb8da4ec4f460b915d6242840eb158"
          }
        },
        "88cf89087b5b4d36ac8aa531911a5281": {
          "model_module": "@jupyter-widgets/controls",
          "model_name": "HTMLModel",
          "model_module_version": "1.5.0",
          "state": {
            "_view_name": "HTMLView",
            "style": "IPY_MODEL_41f77eed4c2a4a7a9c7496d39252785f",
            "_dom_classes": [],
            "description": "",
            "_model_name": "HTMLModel",
            "placeholder": "​",
            "_view_module": "@jupyter-widgets/controls",
            "_model_module_version": "1.5.0",
            "value": " 142k/? [00:00&lt;00:00, 3.21MB/s]",
            "_view_count": null,
            "_view_module_version": "1.5.0",
            "description_tooltip": null,
            "_model_module": "@jupyter-widgets/controls",
            "layout": "IPY_MODEL_3a88326d5a5e41b4849f752dd12cc00c"
          }
        },
        "72ea37d1c39943ef85d8ac2bd2793c79": {
          "model_module": "@jupyter-widgets/controls",
          "model_name": "DescriptionStyleModel",
          "model_module_version": "1.5.0",
          "state": {
            "_view_name": "StyleView",
            "_model_name": "DescriptionStyleModel",
            "description_width": "",
            "_view_module": "@jupyter-widgets/base",
            "_model_module_version": "1.5.0",
            "_view_count": null,
            "_view_module_version": "1.2.0",
            "_model_module": "@jupyter-widgets/controls"
          }
        },
        "1da7c90c967145769ee2c021a647dded": {
          "model_module": "@jupyter-widgets/base",
          "model_name": "LayoutModel",
          "model_module_version": "1.2.0",
          "state": {
            "_view_name": "LayoutView",
            "grid_template_rows": null,
            "right": null,
            "justify_content": null,
            "_view_module": "@jupyter-widgets/base",
            "overflow": null,
            "_model_module_version": "1.2.0",
            "_view_count": null,
            "flex_flow": null,
            "width": null,
            "min_width": null,
            "border": null,
            "align_items": null,
            "bottom": null,
            "_model_module": "@jupyter-widgets/base",
            "top": null,
            "grid_column": null,
            "overflow_y": null,
            "overflow_x": null,
            "grid_auto_flow": null,
            "grid_area": null,
            "grid_template_columns": null,
            "flex": null,
            "_model_name": "LayoutModel",
            "justify_items": null,
            "grid_row": null,
            "max_height": null,
            "align_content": null,
            "visibility": null,
            "align_self": null,
            "height": null,
            "min_height": null,
            "padding": null,
            "grid_auto_rows": null,
            "grid_gap": null,
            "max_width": null,
            "order": null,
            "_view_module_version": "1.2.0",
            "grid_template_areas": null,
            "object_position": null,
            "object_fit": null,
            "grid_auto_columns": null,
            "margin": null,
            "display": null,
            "left": null
          }
        },
        "85e1590f848245fb9af179e7d3ef10a3": {
          "model_module": "@jupyter-widgets/controls",
          "model_name": "ProgressStyleModel",
          "model_module_version": "1.5.0",
          "state": {
            "_view_name": "StyleView",
            "_model_name": "ProgressStyleModel",
            "description_width": "",
            "_view_module": "@jupyter-widgets/base",
            "_model_module_version": "1.5.0",
            "_view_count": null,
            "_view_module_version": "1.2.0",
            "bar_color": null,
            "_model_module": "@jupyter-widgets/controls"
          }
        },
        "a9eb8da4ec4f460b915d6242840eb158": {
          "model_module": "@jupyter-widgets/base",
          "model_name": "LayoutModel",
          "model_module_version": "1.2.0",
          "state": {
            "_view_name": "LayoutView",
            "grid_template_rows": null,
            "right": null,
            "justify_content": null,
            "_view_module": "@jupyter-widgets/base",
            "overflow": null,
            "_model_module_version": "1.2.0",
            "_view_count": null,
            "flex_flow": null,
            "width": null,
            "min_width": null,
            "border": null,
            "align_items": null,
            "bottom": null,
            "_model_module": "@jupyter-widgets/base",
            "top": null,
            "grid_column": null,
            "overflow_y": null,
            "overflow_x": null,
            "grid_auto_flow": null,
            "grid_area": null,
            "grid_template_columns": null,
            "flex": null,
            "_model_name": "LayoutModel",
            "justify_items": null,
            "grid_row": null,
            "max_height": null,
            "align_content": null,
            "visibility": null,
            "align_self": null,
            "height": null,
            "min_height": null,
            "padding": null,
            "grid_auto_rows": null,
            "grid_gap": null,
            "max_width": null,
            "order": null,
            "_view_module_version": "1.2.0",
            "grid_template_areas": null,
            "object_position": null,
            "object_fit": null,
            "grid_auto_columns": null,
            "margin": null,
            "display": null,
            "left": null
          }
        },
        "41f77eed4c2a4a7a9c7496d39252785f": {
          "model_module": "@jupyter-widgets/controls",
          "model_name": "DescriptionStyleModel",
          "model_module_version": "1.5.0",
          "state": {
            "_view_name": "StyleView",
            "_model_name": "DescriptionStyleModel",
            "description_width": "",
            "_view_module": "@jupyter-widgets/base",
            "_model_module_version": "1.5.0",
            "_view_count": null,
            "_view_module_version": "1.2.0",
            "_model_module": "@jupyter-widgets/controls"
          }
        },
        "3a88326d5a5e41b4849f752dd12cc00c": {
          "model_module": "@jupyter-widgets/base",
          "model_name": "LayoutModel",
          "model_module_version": "1.2.0",
          "state": {
            "_view_name": "LayoutView",
            "grid_template_rows": null,
            "right": null,
            "justify_content": null,
            "_view_module": "@jupyter-widgets/base",
            "overflow": null,
            "_model_module_version": "1.2.0",
            "_view_count": null,
            "flex_flow": null,
            "width": null,
            "min_width": null,
            "border": null,
            "align_items": null,
            "bottom": null,
            "_model_module": "@jupyter-widgets/base",
            "top": null,
            "grid_column": null,
            "overflow_y": null,
            "overflow_x": null,
            "grid_auto_flow": null,
            "grid_area": null,
            "grid_template_columns": null,
            "flex": null,
            "_model_name": "LayoutModel",
            "justify_items": null,
            "grid_row": null,
            "max_height": null,
            "align_content": null,
            "visibility": null,
            "align_self": null,
            "height": null,
            "min_height": null,
            "padding": null,
            "grid_auto_rows": null,
            "grid_gap": null,
            "max_width": null,
            "order": null,
            "_view_module_version": "1.2.0",
            "grid_template_areas": null,
            "object_position": null,
            "object_fit": null,
            "grid_auto_columns": null,
            "margin": null,
            "display": null,
            "left": null
          }
        },
        "47d8fcfc587b4811b0c2c6dd487a31a8": {
          "model_module": "@jupyter-widgets/controls",
          "model_name": "HBoxModel",
          "model_module_version": "1.5.0",
          "state": {
            "_view_name": "HBoxView",
            "_dom_classes": [],
            "_model_name": "HBoxModel",
            "_view_module": "@jupyter-widgets/controls",
            "_model_module_version": "1.5.0",
            "_view_count": null,
            "_view_module_version": "1.5.0",
            "box_style": "",
            "layout": "IPY_MODEL_d5ca1c51a6c44627ad33a6061d5d9737",
            "_model_module": "@jupyter-widgets/controls",
            "children": [
              "IPY_MODEL_24f496b2e2534683a02b5d955274d9aa",
              "IPY_MODEL_e2c41ea835d248b386e5f068ed2fba75",
              "IPY_MODEL_239a565feec24103ade0189ecc4b6430"
            ]
          }
        },
        "d5ca1c51a6c44627ad33a6061d5d9737": {
          "model_module": "@jupyter-widgets/base",
          "model_name": "LayoutModel",
          "model_module_version": "1.2.0",
          "state": {
            "_view_name": "LayoutView",
            "grid_template_rows": null,
            "right": null,
            "justify_content": null,
            "_view_module": "@jupyter-widgets/base",
            "overflow": null,
            "_model_module_version": "1.2.0",
            "_view_count": null,
            "flex_flow": null,
            "width": null,
            "min_width": null,
            "border": null,
            "align_items": null,
            "bottom": null,
            "_model_module": "@jupyter-widgets/base",
            "top": null,
            "grid_column": null,
            "overflow_y": null,
            "overflow_x": null,
            "grid_auto_flow": null,
            "grid_area": null,
            "grid_template_columns": null,
            "flex": null,
            "_model_name": "LayoutModel",
            "justify_items": null,
            "grid_row": null,
            "max_height": null,
            "align_content": null,
            "visibility": null,
            "align_self": null,
            "height": null,
            "min_height": null,
            "padding": null,
            "grid_auto_rows": null,
            "grid_gap": null,
            "max_width": null,
            "order": null,
            "_view_module_version": "1.2.0",
            "grid_template_areas": null,
            "object_position": null,
            "object_fit": null,
            "grid_auto_columns": null,
            "margin": null,
            "display": null,
            "left": null
          }
        },
        "24f496b2e2534683a02b5d955274d9aa": {
          "model_module": "@jupyter-widgets/controls",
          "model_name": "HTMLModel",
          "model_module_version": "1.5.0",
          "state": {
            "_view_name": "HTMLView",
            "style": "IPY_MODEL_57822f34402e48489ac4d280ea92f9c2",
            "_dom_classes": [],
            "description": "",
            "_model_name": "HTMLModel",
            "placeholder": "​",
            "_view_module": "@jupyter-widgets/controls",
            "_model_module_version": "1.5.0",
            "value": "Downloading https://huggingface.co/stanfordnlp/stanza-pt/resolve/v1.3.0/models/default.zip: 100%",
            "_view_count": null,
            "_view_module_version": "1.5.0",
            "description_tooltip": null,
            "_model_module": "@jupyter-widgets/controls",
            "layout": "IPY_MODEL_3d4ff6f50da549b4a3bdaba61c7f6ef0"
          }
        },
        "e2c41ea835d248b386e5f068ed2fba75": {
          "model_module": "@jupyter-widgets/controls",
          "model_name": "FloatProgressModel",
          "model_module_version": "1.5.0",
          "state": {
            "_view_name": "ProgressView",
            "style": "IPY_MODEL_4d0a55a1e3314a2b82b55899bf48a62f",
            "_dom_classes": [],
            "description": "",
            "_model_name": "FloatProgressModel",
            "bar_style": "success",
            "max": 209069017,
            "_view_module": "@jupyter-widgets/controls",
            "_model_module_version": "1.5.0",
            "value": 209069017,
            "_view_count": null,
            "_view_module_version": "1.5.0",
            "orientation": "horizontal",
            "min": 0,
            "description_tooltip": null,
            "_model_module": "@jupyter-widgets/controls",
            "layout": "IPY_MODEL_0d720833c11b4d09b64d696bbf3054c1"
          }
        },
        "239a565feec24103ade0189ecc4b6430": {
          "model_module": "@jupyter-widgets/controls",
          "model_name": "HTMLModel",
          "model_module_version": "1.5.0",
          "state": {
            "_view_name": "HTMLView",
            "style": "IPY_MODEL_5c49111e17f245f0aee20f6724b73d15",
            "_dom_classes": [],
            "description": "",
            "_model_name": "HTMLModel",
            "placeholder": "​",
            "_view_module": "@jupyter-widgets/controls",
            "_model_module_version": "1.5.0",
            "value": " 209M/209M [00:06&lt;00:00, 35.8MB/s]",
            "_view_count": null,
            "_view_module_version": "1.5.0",
            "description_tooltip": null,
            "_model_module": "@jupyter-widgets/controls",
            "layout": "IPY_MODEL_1ce887ffb5f2489ca9fe9bdeb25f6a36"
          }
        },
        "57822f34402e48489ac4d280ea92f9c2": {
          "model_module": "@jupyter-widgets/controls",
          "model_name": "DescriptionStyleModel",
          "model_module_version": "1.5.0",
          "state": {
            "_view_name": "StyleView",
            "_model_name": "DescriptionStyleModel",
            "description_width": "",
            "_view_module": "@jupyter-widgets/base",
            "_model_module_version": "1.5.0",
            "_view_count": null,
            "_view_module_version": "1.2.0",
            "_model_module": "@jupyter-widgets/controls"
          }
        },
        "3d4ff6f50da549b4a3bdaba61c7f6ef0": {
          "model_module": "@jupyter-widgets/base",
          "model_name": "LayoutModel",
          "model_module_version": "1.2.0",
          "state": {
            "_view_name": "LayoutView",
            "grid_template_rows": null,
            "right": null,
            "justify_content": null,
            "_view_module": "@jupyter-widgets/base",
            "overflow": null,
            "_model_module_version": "1.2.0",
            "_view_count": null,
            "flex_flow": null,
            "width": null,
            "min_width": null,
            "border": null,
            "align_items": null,
            "bottom": null,
            "_model_module": "@jupyter-widgets/base",
            "top": null,
            "grid_column": null,
            "overflow_y": null,
            "overflow_x": null,
            "grid_auto_flow": null,
            "grid_area": null,
            "grid_template_columns": null,
            "flex": null,
            "_model_name": "LayoutModel",
            "justify_items": null,
            "grid_row": null,
            "max_height": null,
            "align_content": null,
            "visibility": null,
            "align_self": null,
            "height": null,
            "min_height": null,
            "padding": null,
            "grid_auto_rows": null,
            "grid_gap": null,
            "max_width": null,
            "order": null,
            "_view_module_version": "1.2.0",
            "grid_template_areas": null,
            "object_position": null,
            "object_fit": null,
            "grid_auto_columns": null,
            "margin": null,
            "display": null,
            "left": null
          }
        },
        "4d0a55a1e3314a2b82b55899bf48a62f": {
          "model_module": "@jupyter-widgets/controls",
          "model_name": "ProgressStyleModel",
          "model_module_version": "1.5.0",
          "state": {
            "_view_name": "StyleView",
            "_model_name": "ProgressStyleModel",
            "description_width": "",
            "_view_module": "@jupyter-widgets/base",
            "_model_module_version": "1.5.0",
            "_view_count": null,
            "_view_module_version": "1.2.0",
            "bar_color": null,
            "_model_module": "@jupyter-widgets/controls"
          }
        },
        "0d720833c11b4d09b64d696bbf3054c1": {
          "model_module": "@jupyter-widgets/base",
          "model_name": "LayoutModel",
          "model_module_version": "1.2.0",
          "state": {
            "_view_name": "LayoutView",
            "grid_template_rows": null,
            "right": null,
            "justify_content": null,
            "_view_module": "@jupyter-widgets/base",
            "overflow": null,
            "_model_module_version": "1.2.0",
            "_view_count": null,
            "flex_flow": null,
            "width": null,
            "min_width": null,
            "border": null,
            "align_items": null,
            "bottom": null,
            "_model_module": "@jupyter-widgets/base",
            "top": null,
            "grid_column": null,
            "overflow_y": null,
            "overflow_x": null,
            "grid_auto_flow": null,
            "grid_area": null,
            "grid_template_columns": null,
            "flex": null,
            "_model_name": "LayoutModel",
            "justify_items": null,
            "grid_row": null,
            "max_height": null,
            "align_content": null,
            "visibility": null,
            "align_self": null,
            "height": null,
            "min_height": null,
            "padding": null,
            "grid_auto_rows": null,
            "grid_gap": null,
            "max_width": null,
            "order": null,
            "_view_module_version": "1.2.0",
            "grid_template_areas": null,
            "object_position": null,
            "object_fit": null,
            "grid_auto_columns": null,
            "margin": null,
            "display": null,
            "left": null
          }
        },
        "5c49111e17f245f0aee20f6724b73d15": {
          "model_module": "@jupyter-widgets/controls",
          "model_name": "DescriptionStyleModel",
          "model_module_version": "1.5.0",
          "state": {
            "_view_name": "StyleView",
            "_model_name": "DescriptionStyleModel",
            "description_width": "",
            "_view_module": "@jupyter-widgets/base",
            "_model_module_version": "1.5.0",
            "_view_count": null,
            "_view_module_version": "1.2.0",
            "_model_module": "@jupyter-widgets/controls"
          }
        },
        "1ce887ffb5f2489ca9fe9bdeb25f6a36": {
          "model_module": "@jupyter-widgets/base",
          "model_name": "LayoutModel",
          "model_module_version": "1.2.0",
          "state": {
            "_view_name": "LayoutView",
            "grid_template_rows": null,
            "right": null,
            "justify_content": null,
            "_view_module": "@jupyter-widgets/base",
            "overflow": null,
            "_model_module_version": "1.2.0",
            "_view_count": null,
            "flex_flow": null,
            "width": null,
            "min_width": null,
            "border": null,
            "align_items": null,
            "bottom": null,
            "_model_module": "@jupyter-widgets/base",
            "top": null,
            "grid_column": null,
            "overflow_y": null,
            "overflow_x": null,
            "grid_auto_flow": null,
            "grid_area": null,
            "grid_template_columns": null,
            "flex": null,
            "_model_name": "LayoutModel",
            "justify_items": null,
            "grid_row": null,
            "max_height": null,
            "align_content": null,
            "visibility": null,
            "align_self": null,
            "height": null,
            "min_height": null,
            "padding": null,
            "grid_auto_rows": null,
            "grid_gap": null,
            "max_width": null,
            "order": null,
            "_view_module_version": "1.2.0",
            "grid_template_areas": null,
            "object_position": null,
            "object_fit": null,
            "grid_auto_columns": null,
            "margin": null,
            "display": null,
            "left": null
          }
        }
      }
    }
  },
  "cells": [
    {
      "cell_type": "markdown",
      "metadata": {
        "id": "view-in-github",
        "colab_type": "text"
      },
      "source": [
        "<a href=\"https://colab.research.google.com/github/versant2612/jnotebooks/blob/main/Document_Similarities.ipynb\" target=\"_parent\"><img src=\"https://colab.research.google.com/assets/colab-badge.svg\" alt=\"Open In Colab\"/></a>"
      ]
    },
    {
      "cell_type": "code",
      "metadata": {
        "colab": {
          "base_uri": "https://localhost:8080/"
        },
        "id": "nayjN8Vrodod",
        "outputId": "d7421def-f988-4394-e63a-0a3751afed48"
      },
      "source": [
        "import pandas as pd\n",
        "import numpy as np\n",
        "import nltk\n",
        "nltk.download('stopwords')\n",
        "nltk.download('wordnet')\n",
        "from nltk.corpus import stopwords\n",
        "from textblob import Word\n",
        "import re\n",
        "from sklearn.feature_extraction.text import TfidfVectorizer \n",
        "from sklearn.metrics.pairwise import cosine_similarity\n",
        "from sklearn.metrics.pairwise import euclidean_distances\n",
        "from unicodedata import normalize\n"
      ],
      "execution_count": 1,
      "outputs": [
        {
          "output_type": "stream",
          "name": "stdout",
          "text": [
            "[nltk_data] Downloading package stopwords to /root/nltk_data...\n",
            "[nltk_data]   Unzipping corpora/stopwords.zip.\n",
            "[nltk_data] Downloading package wordnet to /root/nltk_data...\n",
            "[nltk_data]   Unzipping corpora/wordnet.zip.\n"
          ]
        }
      ]
    },
    {
      "cell_type": "code",
      "metadata": {
        "colab": {
          "base_uri": "https://localhost:8080/",
          "height": 559,
          "referenced_widgets": [
            "d50dbc243a1e41fb88568352f993c743",
            "75d90cc5677f46e688f1a7d691d64a01",
            "2cb7d59f002d4ef8bd2ff27a26230e04",
            "7f04c75093374cc58ff6886faa2e0b90",
            "88cf89087b5b4d36ac8aa531911a5281",
            "72ea37d1c39943ef85d8ac2bd2793c79",
            "1da7c90c967145769ee2c021a647dded",
            "85e1590f848245fb9af179e7d3ef10a3",
            "a9eb8da4ec4f460b915d6242840eb158",
            "41f77eed4c2a4a7a9c7496d39252785f",
            "3a88326d5a5e41b4849f752dd12cc00c",
            "47d8fcfc587b4811b0c2c6dd487a31a8",
            "d5ca1c51a6c44627ad33a6061d5d9737",
            "24f496b2e2534683a02b5d955274d9aa",
            "e2c41ea835d248b386e5f068ed2fba75",
            "239a565feec24103ade0189ecc4b6430",
            "57822f34402e48489ac4d280ea92f9c2",
            "3d4ff6f50da549b4a3bdaba61c7f6ef0",
            "4d0a55a1e3314a2b82b55899bf48a62f",
            "0d720833c11b4d09b64d696bbf3054c1",
            "5c49111e17f245f0aee20f6724b73d15",
            "1ce887ffb5f2489ca9fe9bdeb25f6a36"
          ]
        },
        "id": "mC3uNspG2eIj",
        "outputId": "a4fe86aa-75d7-4cd8-c3fc-0680035a1a15"
      },
      "source": [
        "# https://lars76.github.io/2018/05/08/portuguese-lemmatizers.html#2\n",
        "!pip install stanza\n",
        "import stanza\n",
        "stanza.download('pt')"
      ],
      "execution_count": 2,
      "outputs": [
        {
          "output_type": "stream",
          "name": "stdout",
          "text": [
            "Collecting stanza\n",
            "  Downloading stanza-1.3.0-py3-none-any.whl (432 kB)\n",
            "\u001b[K     |████████████████████████████████| 432 kB 2.6 MB/s \n",
            "\u001b[?25hRequirement already satisfied: requests in /usr/local/lib/python3.7/dist-packages (from stanza) (2.23.0)\n",
            "Collecting emoji\n",
            "  Downloading emoji-1.6.1.tar.gz (170 kB)\n",
            "\u001b[K     |████████████████████████████████| 170 kB 61.2 MB/s \n",
            "\u001b[?25hRequirement already satisfied: torch>=1.3.0 in /usr/local/lib/python3.7/dist-packages (from stanza) (1.9.0+cu111)\n",
            "Requirement already satisfied: numpy in /usr/local/lib/python3.7/dist-packages (from stanza) (1.19.5)\n",
            "Requirement already satisfied: six in /usr/local/lib/python3.7/dist-packages (from stanza) (1.15.0)\n",
            "Requirement already satisfied: tqdm in /usr/local/lib/python3.7/dist-packages (from stanza) (4.62.3)\n",
            "Requirement already satisfied: protobuf in /usr/local/lib/python3.7/dist-packages (from stanza) (3.17.3)\n",
            "Requirement already satisfied: typing-extensions in /usr/local/lib/python3.7/dist-packages (from torch>=1.3.0->stanza) (3.7.4.3)\n",
            "Requirement already satisfied: certifi>=2017.4.17 in /usr/local/lib/python3.7/dist-packages (from requests->stanza) (2021.5.30)\n",
            "Requirement already satisfied: idna<3,>=2.5 in /usr/local/lib/python3.7/dist-packages (from requests->stanza) (2.10)\n",
            "Requirement already satisfied: urllib3!=1.25.0,!=1.25.1,<1.26,>=1.21.1 in /usr/local/lib/python3.7/dist-packages (from requests->stanza) (1.24.3)\n",
            "Requirement already satisfied: chardet<4,>=3.0.2 in /usr/local/lib/python3.7/dist-packages (from requests->stanza) (3.0.4)\n",
            "Building wheels for collected packages: emoji\n",
            "  Building wheel for emoji (setup.py) ... \u001b[?25l\u001b[?25hdone\n",
            "  Created wheel for emoji: filename=emoji-1.6.1-py3-none-any.whl size=169314 sha256=26a1529570e404bceeefe8c7dd67c58fa36d7c3bfecb5e10690064f624931d0d\n",
            "  Stored in directory: /root/.cache/pip/wheels/ea/5f/d3/03d313ddb3c2a1a427bb4690f1621eea60fe6f2a30cc95940f\n",
            "Successfully built emoji\n",
            "Installing collected packages: emoji, stanza\n",
            "Successfully installed emoji-1.6.1 stanza-1.3.0\n"
          ]
        },
        {
          "output_type": "display_data",
          "data": {
            "application/vnd.jupyter.widget-view+json": {
              "model_id": "d50dbc243a1e41fb88568352f993c743",
              "version_minor": 0,
              "version_major": 2
            },
            "text/plain": [
              "Downloading https://raw.githubusercontent.com/stanfordnlp/stanza-resources/main/resources_1.3.0.json:   0%|   …"
            ]
          },
          "metadata": {}
        },
        {
          "output_type": "stream",
          "name": "stderr",
          "text": [
            "2021-11-04 14:21:49 INFO: Downloading default packages for language: pt (Portuguese)...\n"
          ]
        },
        {
          "output_type": "display_data",
          "data": {
            "application/vnd.jupyter.widget-view+json": {
              "model_id": "47d8fcfc587b4811b0c2c6dd487a31a8",
              "version_minor": 0,
              "version_major": 2
            },
            "text/plain": [
              "Downloading https://huggingface.co/stanfordnlp/stanza-pt/resolve/v1.3.0/models/default.zip:   0%|          | 0…"
            ]
          },
          "metadata": {}
        },
        {
          "output_type": "stream",
          "name": "stderr",
          "text": [
            "2021-11-04 14:21:58 INFO: Finished downloading models and saved to /root/stanza_resources.\n"
          ]
        }
      ]
    },
    {
      "cell_type": "code",
      "metadata": {
        "id": "wv6pYEhdodoi"
      },
      "source": [
        "# Sample corpus\n",
        "documents_corpus = [\n",
        "\"meio ambiente desenvolvimento sustentável natureza socioambientais ética ambiental árvores asfalto drenagem natural de água filtragem reutilização \\\n",
        "dos recursos hídricos fontes naturais de energia eólica e solar gases produzidos reciclagem.\"\n",
        ",\n",
        "\"Maria Celina Bodin de Moraes (Doutorado em direito civil, Università di Camerino, 1986) é Professora Titular de Direito Civil da Faculdade de \\\n",
        "Direito da Universidade do Estado do Rio de Janeiro (UERJ) e Professora Associada do Departamento de Direito da Pontifícia Universidade Católica do \\\n",
        "Rio de Janeiro (PUC-Rio). É ábitra e parecerista em Direito Privado e Editora-chefe da Civilistica.com - Revista Eletrônica de direito civil \\\n",
        "(Qualis A2). Foi diretora do Departamento de Direito da PUC-Rio e coordenadora da área do Direito da Faperj. Atua na área do direito privado, \\\n",
        "principalmente mediante a metodologia do direito civil constitucional. Os temas mais frequentes de sua produção científica são: princípios \\\n",
        "constitucionais da dignidade da pessoa humana e da solidariedade, aplicação direta da Constituição às relações privadas, proteção das pessoas \\\n",
        "vulneráveis, direitos da personalidade, relações familiares, contratos e responsabilidade civil.\"       \n",
        ",\n",
        "\"Possui graduação em Engenharia Mecânica pela Pontifícia Universidade Católica do Rio de Janeiro (1982), mestrado em Engenharia de Produção - \\\n",
        "Departamento de Engenharia Industrial (1996) e doutorado em Engenharia de Produção pela Pontifícia Universidade Católica do Rio de Janeiro (2005). \\\n",
        "O mestrado e doutorado foram ambos na área de Finanças e Análise de Investimentos. Foi Consultor Master da Controladoria - Petróleo Brasileiro - \\\n",
        "Rio de Janeiro - Matriz, onde trabalhou de 01/02/1983 até 05/12/2016. É Professor Adjunto do Departamento de Engenharia Elétrica - PUC-Rio, sendo \\\n",
        "pesquisador do Grupo de Sistemas de Apoio à Decisão - Laboratório de Inteligência Computacional Aplicada. É autor de dois livros texto (pós-graduação) \\\n",
        "de opções reais. É Corporate Advisor do Real Options Group. Ministrou cursos de opções reais na Petrobras de 1996 a 2016, além de cursos de teoria \\\n",
        "dos jogos e valor da informação até 2016. Lá ministrou outros cursos como de análise de risco em projetos, finanças corporativas e project finance. \\\n",
        "Na PUC-Rio ministra curso de opções reais desde 2005 e de jogos de opções reais desde 2006. Coordenou vários projetos de pesquisa entre a Petrobras \\\n",
        "e universidades (principalmente PUC-Rio, mas também FGV e Mines Paris Tech). Já foi orador principal em várias conferências internacionais. Já deu \\\n",
        "seminários de opções reais em instituições internacionais (como o MIT em 2002 e 2003) e entidades nacionais (como a Unicamp em 1998, UFRJ em 2003 e \\\n",
        "a Alliance e Fundação Dom Cabral em 2005). Criou o primeiro website dedicado a opções reais (na PUC em 1995). Desenvolveu várias aplicações \\\n",
        "(inclusive software) de opções reais na Petrobras, onde também implantou padrões de análise de risco, de análise de investimento em informação e \\\n",
        "outros. Tem experiência na área de Engenharia de Produção, com ênfase em Avaliação Econômica de Projetos, atuando principalmente nos seguintes temas: \\\n",
        "opções reais, análise de investimentos sob incertezas, jogos de opções reais, teoria dos jogos, exploração e produção de petróleo, valor da informação, \\\n",
        "análise de risco em projetos, análise de investimento em energia renovável, custo de capital de projetos e financiamento corporativo.\"\n",
        ",\n",
        "\"Doutora em Serviço Social (UERJ-2015). Mestre em Serviço Social (UFRJ -2010). Graduada em Serviço Social (UFRJ -1999). Possui experiência em \\\n",
        "diversas áreas do trabalho profissional do Serviço Social ( Empresa, AssistÊncia Social, Saúde, consultoria/assessoria). É docente e pesquisadora da \\\n",
        "Pontifícia Universidade Católica do Rio de Janeiro nos cursos de graduação e pós-graduação em Serviço Social, trabalhou em empresas multinacionais \\\n",
        "(Farmacêutica - GlaxoSmithKline e Telefonia celular- Claro), ONG (Obra Social do Rio de Janeiro), no setor público atuou na Prefeitura do Rio de \\\n",
        "Janeiro na condição de concursada. Autora do Livro Serviço Social e Consultoria Empresarial (2020), organizadora de coletâneas sobre trabalho, \\\n",
        "Serviço Social e Direitos Humanos.\"\n",
        ",\n",
        "\"Engenheiro Mecânico formado pela Universidade Federal do Rio de Janeiro (1980), MSc em Engenharia Mecânica pela Pontifícia Universidade Católica \\\n",
        "do Rio de Janeiro (1988) e PhD em Engenharia Mecânica - Tecnologia de Aerossóis pela University of Minnesota (1994), USA. Professor Associado do \\\n",
        "Departamento de Engenharia Mecânica da Pontifícia Universidade Católica do Rio de Janeiro, onde coordena o grupo de pesquisas multidisciplinar de \\\n",
        "Engenharia Ambiental - Poluição Atmosférica atuando nos seguintes temas: tecnologia de aerossóis e instrumentação, processos atmosféricos, \\\n",
        "biocombustíveis, controle da poluição (poluentes locais e gases de efeito estufa), captura e armazenamento geológico de carbono, desenvolvimento de \\\n",
        "sensores ambientais, e geração de energia através de resíduos sólidos urbanos (Waste to Energy, WTE). Engenheiro de Petróleo pela Petrobras (CEPET 81), \\\n",
        "onde atuou entre 1981-1985. Membro do IPCC - Intergovernmental Panel on Climate Change (entre 2004-2017), grupo de cientistas que recebeu o Prêmio Nobel\\\n",
        " da Paz em 2007.\"\n",
        ",\n",
        "\"Flávia de Almeida Viveiros de Castro é Juíza de Direito e Professora Convidada da EMERJ (Escola da Magistratura do Estado do Rio de Janeiro) ESAJ \\\n",
        "(Escola de Administração Judiciária do Tribunal de Justiça do Estado do Rio de Janeiro) e Fundação Getúlio Vargas - RJ; Possui Pós-Doutorado em \\\n",
        "Direitos Humanos pelo Instituto JUS GENTIUM da Faculdade de Direito de Coimbra (2017/18). É doutora em Direito o Civil-Constitucional pela Universidade \\\n",
        "de Direito do Estado do Rio de Janeiro(2006). Mestre em Direito pela Pontifícia Universidade Católica do Rio de Janeiro (1999); Mestre em Ciência \\\n",
        "Política (Ciência Política e Sociologia) pela Pontifícia Universidade Católica do Rio de Janeiro (1990); Possui curso de Especialização em direito \\\n",
        "português pelo Centro de Estudos Judiciários de Portugal (1997) e Especialização em Ciência Política, pelo Instituto Metodista Bennett (1985); Graduada \\\n",
        "em Direito e em Comunicação Social, especialidade Jornalismo pela Pontifícia Universidade Católica do Rio de Janeiro (1980 e 1990). É Juíza Titular da \\\n",
        "6ª Vara Cível Regional da Barra da Tijuca, tendo exercido a magistratura em varas de falência, fazenda pública, criminal, tribunal do júri, orfãos e \\\n",
        "sucessões e família. Já assumiu a função de Juíza Eleitoral na 175 Zona Eleitoral. Já exerceu a mesma função em Marechal Hermes, Bangu e Pavuna. Foi \\\n",
        "Juíza Corregedora - Auxiliar da Corregedora de Justiça em (1996);Exerce a docência como palestrante e professora convidada nas áreas de Direito Civil \\\n",
        "e Direito Tributário. Foi coordenadora acadêmica do Instituto de direito da Pontifícia Universidade Católica do Rio de Janeiro e coordenadora acadêmica \\\n",
        "dos cursos de pós-graduação em direito imobiliário, direito fiscal, direito empresarial, direito processual civil e direito da saúde do Instituto de \\\n",
        "Direito da PUC-RJ.\"\n",
        ",\n",
        "\"Vitor Nascimento Aguiar graduou-se em Engenharia Civil com ênfase em Mecânica dos Solos na Universidade Federal do Rio de Janeiro (UFRJ) em 2006. \\\n",
        "Concluiu o mestrado e o doutorado em Engenharia Civil (Geotecnia) pela COPPE/UFRJ em 2008 e 2014. Em suas pesquisas de mestrado e doutorado, investigou \\\n",
        "efeitos de tempo e de velocidade de deformação no adensamento e na resistência ao cisalhamento de argilas moles saturadas. Atuou por dez anos em \\\n",
        "projetos e consultorias de obras de infraestrutura na Mecasolo Engenharia e Consultoria. Realizou estágio de pós-doutorado no Norwegian Geotechnical \\\n",
        "Institute (NGI) de 2017 a 2018. Atualmente é professor do quadro principal do Departamento de Engenharia Civil e Ambiental da Pontifícia Universidade \\\n",
        "Católica do Rio de Janeiro (PUC-Rio), onde leciona a disciplina de Laboratório de Geotecnia na graduação e as disciplinas de Ensaios de Laboratório e \\\n",
        "Geotecnia Experimental na pós-graduação. Tem exercido o cargo de secretário executivo na Associação Brasileira de Mecânica dos Solos - Núcleo RJ.\"\n",
        "]"
      ],
      "execution_count": 3,
      "outputs": []
    },
    {
      "cell_type": "code",
      "metadata": {
        "colab": {
          "base_uri": "https://localhost:8080/"
        },
        "id": "oDGevMav4_9s",
        "outputId": "80c5f724-89ac-4f01-f072-a11328f59ba4"
      },
      "source": [
        "# lemmatization for portuguese\n",
        "\n",
        "stnz = stanza.Pipeline('pt', use_gpu=False)\n",
        "\n",
        "# lemmas_df=pd.DataFrame(stnz(documents),columns=['documents'])\n",
        "\n",
        "# doc = stnz(documents_df['documents'][0])\n",
        "# for sent in doc.sentences: \n",
        "#  for word in sent.words:\n",
        "#    print(word.lemma)\n",
        "\n",
        "length = len(documents_corpus)\n",
        "documents_stnz = []\n",
        "documents = []\n",
        "for i in range(length):\n",
        "  documents_stnz.append(stnz(documents_corpus[i]))\n",
        "  documents.append('')\n",
        "  for sent in documents_stnz[i].sentences: \n",
        "    for word in sent.words:\n",
        "      documents[i] = documents[i] + \" \" + word.lemma\n",
        "\n",
        "# documents_df['documents']=documents_df['documents'].apply(lambda x: \" \".join(word.lemma for sent in stnz(documents_df).sentences for word in sent.words))\n",
        "\n",
        "# documents_df['documents'].apply(lambda x: \" \".join(str(word.lemma for sent in stnz(x).sentences for word in sent.words) for x in x.split()))"
      ],
      "execution_count": 4,
      "outputs": [
        {
          "output_type": "stream",
          "name": "stderr",
          "text": [
            "2021-11-04 14:21:59 INFO: Loading these models for language: pt (Portuguese):\n",
            "=======================\n",
            "| Processor | Package |\n",
            "-----------------------\n",
            "| tokenize  | bosque  |\n",
            "| mwt       | bosque  |\n",
            "| pos       | bosque  |\n",
            "| lemma     | bosque  |\n",
            "| depparse  | bosque  |\n",
            "=======================\n",
            "\n",
            "2021-11-04 14:21:59 INFO: Use device: cpu\n",
            "2021-11-04 14:21:59 INFO: Loading: tokenize\n",
            "2021-11-04 14:21:59 INFO: Loading: mwt\n",
            "2021-11-04 14:21:59 INFO: Loading: pos\n",
            "2021-11-04 14:21:59 INFO: Loading: lemma\n",
            "2021-11-04 14:21:59 INFO: Loading: depparse\n",
            "2021-11-04 14:22:00 INFO: Done loading processors!\n",
            "/usr/local/lib/python3.7/dist-packages/torch/_tensor.py:575: UserWarning: floor_divide is deprecated, and will be removed in a future version of pytorch. It currently rounds toward 0 (like the 'trunc' function NOT 'floor'). This results in incorrect rounding for negative values.\n",
            "To keep the current behavior, use torch.div(a, b, rounding_mode='trunc'), or for actual floor division, use torch.div(a, b, rounding_mode='floor'). (Triggered internally at  /pytorch/aten/src/ATen/native/BinaryOps.cpp:467.)\n",
            "  return torch.floor_divide(self, other)\n"
          ]
        }
      ]
    },
    {
      "cell_type": "code",
      "metadata": {
        "id": "hZNxg33Yodok"
      },
      "source": [
        "pd.set_option('display.max_colwidth', 0)\n",
        "pd.set_option('display.max_columns', 0)"
      ],
      "execution_count": 5,
      "outputs": []
    },
    {
      "cell_type": "code",
      "metadata": {
        "id": "4915Wqjiodon"
      },
      "source": [
        "documents_df=pd.DataFrame(documents,columns=['documents'])"
      ],
      "execution_count": 6,
      "outputs": []
    },
    {
      "cell_type": "markdown",
      "metadata": {
        "id": "obVfuYPFodop"
      },
      "source": [
        "### Corpus Dataframe"
      ]
    },
    {
      "cell_type": "code",
      "metadata": {
        "colab": {
          "base_uri": "https://localhost:8080/",
          "height": 998
        },
        "id": "r8QnxTXkodoq",
        "outputId": "d2d9aaf4-1827-4b27-9043-e551cae543fa"
      },
      "source": [
        "documents_df"
      ],
      "execution_count": 7,
      "outputs": [
        {
          "output_type": "execute_result",
          "data": {
            "text/html": [
              "<div>\n",
              "<style scoped>\n",
              "    .dataframe tbody tr th:only-of-type {\n",
              "        vertical-align: middle;\n",
              "    }\n",
              "\n",
              "    .dataframe tbody tr th {\n",
              "        vertical-align: top;\n",
              "    }\n",
              "\n",
              "    .dataframe thead th {\n",
              "        text-align: right;\n",
              "    }\n",
              "</style>\n",
              "<table border=\"1\" class=\"dataframe\">\n",
              "  <thead>\n",
              "    <tr style=\"text-align: right;\">\n",
              "      <th></th>\n",
              "      <th>documents</th>\n",
              "    </tr>\n",
              "  </thead>\n",
              "  <tbody>\n",
              "    <tr>\n",
              "      <th>0</th>\n",
              "      <td>meio ambiente desenvolvimento sustentável natureza socioambiental ético ambiental árvore asfalto drenagem natural de água filtragem reutilização de o recurso hídrico fonte natural de energia eólico e solar gase produzir reciclagem .</td>\n",
              "    </tr>\n",
              "    <tr>\n",
              "      <th>1</th>\n",
              "      <td>Maria Celina Bodin de Moraes ( Doutorado em direito civil , Università di Camerino , 1986 ) ser Professora Titular de Direito Civil de o Faculdade de Direito de o Universidade de o Estado de o Rio de Janeiro ( UERJ ) e Professora Associada de o Departamento de Direito de o Pontifícia Universidade Católica de o Rio de Janeiro ( PUC-Rio ) . ser ábitro e parecerista em Direito Privado e Editora-chefe de o Civilistica . com - revista Eletrônica de direito civil ( Qualis A2 ) . ser diretora de o Departamento de Direito de o PUC-Rio e coordenadora de o área de o Direito de o Faperj . atuar em o área de o direito privado , principalmente mediante o metodologia de o direito civil constitucional . o tema mais frequente de seu produção científico ser : princípio constitucional de o dignidade de o pessoa humano e de o solidariedade , aplicação direto de o constituição a o relação privado , proteção de o pessoa vulnerável , direito de o personalidade , relação familiar , contrato e responsabilidade civil .</td>\n",
              "    </tr>\n",
              "    <tr>\n",
              "      <th>2</th>\n",
              "      <td>possuir graduação em Engenharia Mecânica por o Pontifícia Universidade Católica de o Rio de Janeiro ( 1982 ) , mestrado em Engenharia de Produção - Departamento de Engenharia Industrial ( 1996 ) e doutorado em Engenharia de Produção por o Pontifícia Universidade Católica de o Rio de Janeiro ( 2005 ) . o mestrado e doutorado ser ambos em o área de Finanças e Análise de Investimentos . ser Consultor Master de o Controladoria - Petróleo Brasileiro - Rio de Janeiro - Matriz , onde trabalhar de 01/02/1983 até 05/12/2016 . ser Professor Adjunto de o Departamento de Engenharia Elétrica - PUC-Rio , ser pesquisador de o Grupo de Sistemas de Apoio a o decisão - Laboratório de Inteligência Computacional aplicar . ser autor de dois livro texto ( pós-graduação ) de opção real . ser Corporate Advisor de o Real Options Group . ministrar curso de opção real em o Petrobras de 1996 a 2016 , além de curso de teoria de o jogo e valor de o informação até 2016 . lá ministrar outro curso como de análise de risco em projeto , finanças corporativo e project finance . em o PUC-Rio ministra curso de opção real desde 2005 e de jogo de opção real desde 2006 . coordenar vários projeto de pesquisa entre o Petrobras e universidade ( principalmente PUC-Rio , mas também FGV e Mines Paris Tech ) . já ser orador principal em várias conferência internacional . já dar seminário de opção real em instituição internacional ( como o MIT em 2002 e 2003 ) e entidade nacional ( como o Unicamp em 1998 , UFRJ em 2003 e o Alliance e Fundação Dom Cabral em 2005 ) . criar o primeiro website dedicar a opção real ( em o PUC em 1995 ) . desenvolver várias aplicação ( inclusive software ) de opção real em o Petrobras , onde também implantar padrão de análise de risco , de análise de investimento em informação e outro . ter experiência em o área de Engenharia de Produção , com ênfase em Avaliação Econômica de Projetos , atuar principalmente em o seguinte tema : opção real , análise de investimento sob incerteza , jogo de opção real , teoria de o jogo , exploração e produção de petróleo , valor de o informação , análise de risco em projeto , análise de investimento em energia renovável , custo de capital de projeto e financiamento corporativo .</td>\n",
              "    </tr>\n",
              "    <tr>\n",
              "      <th>3</th>\n",
              "      <td>doutora em Serviço Social ( UERJ-2015 ) . mestre em Serviço Social ( UFRJ -2010 ) . graduar em Serviço Social ( UFRJ -1999 ) . possuir experiência em diversos área de o trabalho profissional de o Serviço Social ( Empresa , AssistÊncia Social , Saúde , consultoria / assessoria ) . ser docente e pesquisadora de o Pontifícia Universidade Católica de o Rio de Janeiro em o curso de graduação e pós-graduação em Serviço Social , trabalhar em empresa multinacional ( Farmacêutica - GlaxoSmithKline e Telefonia celular - Claro ) , ONG ( Obra Social de o Rio de Janeiro ) , em o setor público atuar em o Prefeitura de o Rio de Janeiro em o condição de concursar . autora de o Livro Serviço Social e Consultoria Empresarial ( 2020 ) , organizadora de coletânea sobre trabalho , Serviço Social e Direitos Humanos .</td>\n",
              "    </tr>\n",
              "    <tr>\n",
              "      <th>4</th>\n",
              "      <td>engenheiro mecânico formar por o Universidade Federal de o Rio de Janeiro ( 1980 ) , MSc em Engenharia Mecânica por o Pontifícia Universidade Católica de o Rio de Janeiro ( 1988 ) e PhD em Engenharia Mecânica - Tecnologia de Aerossóis por o University of Minnesota ( 1994 ) , USA . professor associado de o Departamento de Engenharia Mecânica de o Pontifícia Universidade Católica de o Rio de Janeiro , onde coordenar o grupo de pesquisa multidisciplinar de Engenharia Ambiental - Poluição Atmosférica atuar em o seguinte tema : tecnologia de aerossol e instrumentação , processo atmosférico , biocombustível , controle de o poluição ( poluente local e gase de efeito estufo ) , captura e armazenamento geológico de carbono , desenvolvimento de sensor ambiental , e geração de energia através de resíduo sólido urbano ( Waste to Energy , WTE ) . engenheiro de Petróleo por o Petrobras ( CEPET 81 ) , onde atuar entre 1981-1985 . membro de o IPCC - Intergovernmental Panel on Climate Change ( entre 2004-2017 ) , grupo de cientista que receber o Prêmio Nobel de o Paz em 2007 .</td>\n",
              "    </tr>\n",
              "    <tr>\n",
              "      <th>5</th>\n",
              "      <td>Flávia de Almeida Viveiros de Castro ser Juíza de Direito e Professora convidar de o EMERJ ( Escola de o Magistratura de o Estado de o Rio de Janeiro ) ESAJ ( Escola de Administração Judiciária de o Tribunal de Justiça de o Estado de o Rio de Janeiro ) e Fundação Getúlio Vargas - RJ ; possuir Pós-Doutorado em Direitos Humanos por o Instituto JUS Gentium de o Faculdade de Direito de Coimbra ( 2017/18 ) . ser doutora em Direito o Civil-Constitucional por o Universidade de Direito de o Estado de o Rio de Janeiro(2006 ) . mestre em direito por o Pontifícia Universidade Católica de o Rio de Janeiro ( 1999 ) ; Mestre em Ciência Política ( Ciência Política e Sociologia ) por o Pontifícia Universidade Católica de o Rio de Janeiro ( 1990 ) ; possuir curso de especialização em direito português por o Centro de Estudos Judiciários de Portugal ( 1997 ) e Especialização em Ciência Política , por o Instituto Metodista Bennett ( 1985 ) ; graduar em Direito e em Comunicação Social , especialidade Jornalismo por o Pontifícia Universidade Católica de o Rio de Janeiro ( 1980 e 1990 ) . ser Juíza Titular de o 6ª Vara Cível Regional de o Barra de o Tijuca , ter exercer o magistratura em vara de falência , fazenda público , criminal , tribunal de o júri , órfão e sucessão e família . já assumir o função de Juíza Eleitoral em o 175 Zona Eleitoral . já exercer o mesmo função em Marechal Hermes , Bangu e Pavuna . ser Juíza Corregedora - Auxiliar de o Corregedora de Justiça em ( 1996 ) ; exercer o docência como palestrante e professora convidar em o área de Direito Civil e Direito Tributário . ser coordenadora acadêmico de o Instituto de direito de o Pontifícia Universidade Católica de o Rio de Janeiro e coordenadora acadêmico de o curso de pós-graduação em direito imobiliário , direito fiscal , direito empresarial , direito processual civil e direito de o saúde de o Instituto de Direito de o PUC-RJ .</td>\n",
              "    </tr>\n",
              "    <tr>\n",
              "      <th>6</th>\n",
              "      <td>Vitor Nascimento Aguiar graduar se em Engenharia Civil com ênfase em Mecânica de o Solos em o Universidade Federal de o Rio de Janeiro ( UFRJ ) em 2006 . concluir o mestrado e o doutorado em Engenharia Civil ( Geotecnia ) por o COPPE/UFRJ em 2008 e 2014 . em seu pesquisa de mestrado e doutorado , investigar efeito de tempo e de velocidade de deformação em o adensamento e em o resistência a o cisalhamento de argila mole saturar . atuar por dez ano em projeto e consultoria de obra de infraestrutura em o Mecasolo Engenharia e Consultoria . realizar estágio de pós-doutorado em o Norwegian Geotechnical Institute ( NGI ) de 2017 a 2018 . atualmente ser professor de o quadro principal de o Departamento de Engenharia Civil e Ambiental de o Pontifícia Universidade Católica de o Rio de Janeiro ( PUC-Rio ) , onde lecionar o disciplina de Laboratório de Geotecnia em o graduação e o disciplina de Ensaios de Laboratório e Geotecnia Experimental em o pós-graduação . ter exercer o cargo de secretário executivo em o Associação Brasileira de Mecânica de o Solos - Núcleo RJ .</td>\n",
              "    </tr>\n",
              "  </tbody>\n",
              "</table>\n",
              "</div>"
            ],
            "text/plain": [
              "                                                                                                                                                                                                                                                                                                                                                                                                                                                                                                                                                                                                                                                                                                                                                                                                                                                                                                                                                                                                                                                                                                                                                                                                                                                                                                                                                                                                                                                                                                                                                                                                                                                                                                                                                                                                                                                                                                                                                                                                                                                                                                                                                                                                                                                                                                               documents\n",
              "0   meio ambiente desenvolvimento sustentável natureza socioambiental ético ambiental árvore asfalto drenagem natural de água filtragem reutilização de o recurso hídrico fonte natural de energia eólico e solar gase produzir reciclagem .                                                                                                                                                                                                                                                                                                                                                                                                                                                                                                                                                                                                                                                                                                                                                                                                                                                                                                                                                                                                                                                                                                                                                                                                                                                                                                                                                                                                                                                                                                                                                                                                                                                                                                                                                                                                                                                                                                                                                                                                                                                                            \n",
              "1   Maria Celina Bodin de Moraes ( Doutorado em direito civil , Università di Camerino , 1986 ) ser Professora Titular de Direito Civil de o Faculdade de Direito de o Universidade de o Estado de o Rio de Janeiro ( UERJ ) e Professora Associada de o Departamento de Direito de o Pontifícia Universidade Católica de o Rio de Janeiro ( PUC-Rio ) . ser ábitro e parecerista em Direito Privado e Editora-chefe de o Civilistica . com - revista Eletrônica de direito civil ( Qualis A2 ) . ser diretora de o Departamento de Direito de o PUC-Rio e coordenadora de o área de o Direito de o Faperj . atuar em o área de o direito privado , principalmente mediante o metodologia de o direito civil constitucional . o tema mais frequente de seu produção científico ser : princípio constitucional de o dignidade de o pessoa humano e de o solidariedade , aplicação direto de o constituição a o relação privado , proteção de o pessoa vulnerável , direito de o personalidade , relação familiar , contrato e responsabilidade civil .                                                                                                                                                                                                                                                                                                                                                                                                                                                                                                                                                                                                                                                                                                                                                                                                                                                                                                                                                                                                                                                                                                                                                                                                                                                                   \n",
              "2   possuir graduação em Engenharia Mecânica por o Pontifícia Universidade Católica de o Rio de Janeiro ( 1982 ) , mestrado em Engenharia de Produção - Departamento de Engenharia Industrial ( 1996 ) e doutorado em Engenharia de Produção por o Pontifícia Universidade Católica de o Rio de Janeiro ( 2005 ) . o mestrado e doutorado ser ambos em o área de Finanças e Análise de Investimentos . ser Consultor Master de o Controladoria - Petróleo Brasileiro - Rio de Janeiro - Matriz , onde trabalhar de 01/02/1983 até 05/12/2016 . ser Professor Adjunto de o Departamento de Engenharia Elétrica - PUC-Rio , ser pesquisador de o Grupo de Sistemas de Apoio a o decisão - Laboratório de Inteligência Computacional aplicar . ser autor de dois livro texto ( pós-graduação ) de opção real . ser Corporate Advisor de o Real Options Group . ministrar curso de opção real em o Petrobras de 1996 a 2016 , além de curso de teoria de o jogo e valor de o informação até 2016 . lá ministrar outro curso como de análise de risco em projeto , finanças corporativo e project finance . em o PUC-Rio ministra curso de opção real desde 2005 e de jogo de opção real desde 2006 . coordenar vários projeto de pesquisa entre o Petrobras e universidade ( principalmente PUC-Rio , mas também FGV e Mines Paris Tech ) . já ser orador principal em várias conferência internacional . já dar seminário de opção real em instituição internacional ( como o MIT em 2002 e 2003 ) e entidade nacional ( como o Unicamp em 1998 , UFRJ em 2003 e o Alliance e Fundação Dom Cabral em 2005 ) . criar o primeiro website dedicar a opção real ( em o PUC em 1995 ) . desenvolver várias aplicação ( inclusive software ) de opção real em o Petrobras , onde também implantar padrão de análise de risco , de análise de investimento em informação e outro . ter experiência em o área de Engenharia de Produção , com ênfase em Avaliação Econômica de Projetos , atuar principalmente em o seguinte tema : opção real , análise de investimento sob incerteza , jogo de opção real , teoria de o jogo , exploração e produção de petróleo , valor de o informação , análise de risco em projeto , análise de investimento em energia renovável , custo de capital de projeto e financiamento corporativo .\n",
              "3   doutora em Serviço Social ( UERJ-2015 ) . mestre em Serviço Social ( UFRJ -2010 ) . graduar em Serviço Social ( UFRJ -1999 ) . possuir experiência em diversos área de o trabalho profissional de o Serviço Social ( Empresa , AssistÊncia Social , Saúde , consultoria / assessoria ) . ser docente e pesquisadora de o Pontifícia Universidade Católica de o Rio de Janeiro em o curso de graduação e pós-graduação em Serviço Social , trabalhar em empresa multinacional ( Farmacêutica - GlaxoSmithKline e Telefonia celular - Claro ) , ONG ( Obra Social de o Rio de Janeiro ) , em o setor público atuar em o Prefeitura de o Rio de Janeiro em o condição de concursar . autora de o Livro Serviço Social e Consultoria Empresarial ( 2020 ) , organizadora de coletânea sobre trabalho , Serviço Social e Direitos Humanos .                                                                                                                                                                                                                                                                                                                                                                                                                                                                                                                                                                                                                                                                                                                                                                                                                                                                                                                                                                                                                                                                                                                                                                                                                                                                                                                                                                                                                                                                              \n",
              "4   engenheiro mecânico formar por o Universidade Federal de o Rio de Janeiro ( 1980 ) , MSc em Engenharia Mecânica por o Pontifícia Universidade Católica de o Rio de Janeiro ( 1988 ) e PhD em Engenharia Mecânica - Tecnologia de Aerossóis por o University of Minnesota ( 1994 ) , USA . professor associado de o Departamento de Engenharia Mecânica de o Pontifícia Universidade Católica de o Rio de Janeiro , onde coordenar o grupo de pesquisa multidisciplinar de Engenharia Ambiental - Poluição Atmosférica atuar em o seguinte tema : tecnologia de aerossol e instrumentação , processo atmosférico , biocombustível , controle de o poluição ( poluente local e gase de efeito estufo ) , captura e armazenamento geológico de carbono , desenvolvimento de sensor ambiental , e geração de energia através de resíduo sólido urbano ( Waste to Energy , WTE ) . engenheiro de Petróleo por o Petrobras ( CEPET 81 ) , onde atuar entre 1981-1985 . membro de o IPCC - Intergovernmental Panel on Climate Change ( entre 2004-2017 ) , grupo de cientista que receber o Prêmio Nobel de o Paz em 2007 .                                                                                                                                                                                                                                                                                                                                                                                                                                                                                                                                                                                                                                                                                                                                                                                                                                                                                                                                                                                                                                                                                                                                                                                                \n",
              "5   Flávia de Almeida Viveiros de Castro ser Juíza de Direito e Professora convidar de o EMERJ ( Escola de o Magistratura de o Estado de o Rio de Janeiro ) ESAJ ( Escola de Administração Judiciária de o Tribunal de Justiça de o Estado de o Rio de Janeiro ) e Fundação Getúlio Vargas - RJ ; possuir Pós-Doutorado em Direitos Humanos por o Instituto JUS Gentium de o Faculdade de Direito de Coimbra ( 2017/18 ) . ser doutora em Direito o Civil-Constitucional por o Universidade de Direito de o Estado de o Rio de Janeiro(2006 ) . mestre em direito por o Pontifícia Universidade Católica de o Rio de Janeiro ( 1999 ) ; Mestre em Ciência Política ( Ciência Política e Sociologia ) por o Pontifícia Universidade Católica de o Rio de Janeiro ( 1990 ) ; possuir curso de especialização em direito português por o Centro de Estudos Judiciários de Portugal ( 1997 ) e Especialização em Ciência Política , por o Instituto Metodista Bennett ( 1985 ) ; graduar em Direito e em Comunicação Social , especialidade Jornalismo por o Pontifícia Universidade Católica de o Rio de Janeiro ( 1980 e 1990 ) . ser Juíza Titular de o 6ª Vara Cível Regional de o Barra de o Tijuca , ter exercer o magistratura em vara de falência , fazenda público , criminal , tribunal de o júri , órfão e sucessão e família . já assumir o função de Juíza Eleitoral em o 175 Zona Eleitoral . já exercer o mesmo função em Marechal Hermes , Bangu e Pavuna . ser Juíza Corregedora - Auxiliar de o Corregedora de Justiça em ( 1996 ) ; exercer o docência como palestrante e professora convidar em o área de Direito Civil e Direito Tributário . ser coordenadora acadêmico de o Instituto de direito de o Pontifícia Universidade Católica de o Rio de Janeiro e coordenadora acadêmico de o curso de pós-graduação em direito imobiliário , direito fiscal , direito empresarial , direito processual civil e direito de o saúde de o Instituto de Direito de o PUC-RJ .                                                                                                                                                                                                                                                                                                                                \n",
              "6   Vitor Nascimento Aguiar graduar se em Engenharia Civil com ênfase em Mecânica de o Solos em o Universidade Federal de o Rio de Janeiro ( UFRJ ) em 2006 . concluir o mestrado e o doutorado em Engenharia Civil ( Geotecnia ) por o COPPE/UFRJ em 2008 e 2014 . em seu pesquisa de mestrado e doutorado , investigar efeito de tempo e de velocidade de deformação em o adensamento e em o resistência a o cisalhamento de argila mole saturar . atuar por dez ano em projeto e consultoria de obra de infraestrutura em o Mecasolo Engenharia e Consultoria . realizar estágio de pós-doutorado em o Norwegian Geotechnical Institute ( NGI ) de 2017 a 2018 . atualmente ser professor de o quadro principal de o Departamento de Engenharia Civil e Ambiental de o Pontifícia Universidade Católica de o Rio de Janeiro ( PUC-Rio ) , onde lecionar o disciplina de Laboratório de Geotecnia em o graduação e o disciplina de Ensaios de Laboratório e Geotecnia Experimental em o pós-graduação . ter exercer o cargo de secretário executivo em o Associação Brasileira de Mecânica de o Solos - Núcleo RJ .                                                                                                                                                                                                                                                                                                                                                                                                                                                                                                                                                                                                                                                                                                                                                                                                                                                                                                                                                                                                                                                                                                                                                                                                   "
            ]
          },
          "metadata": {},
          "execution_count": 7
        }
      ]
    },
    {
      "cell_type": "code",
      "metadata": {
        "id": "Cgea0X8Nodot"
      },
      "source": [
        "# removing special characters and stop words from the text\n",
        "stop = stopwords.words('portuguese')\n",
        "# stop.extend(['puc-rio', 'puc', 'rio', 'janeiro', 'pontificia', 'universidade', 'catolica'])\n",
        "documents_df['documents']=documents_df['documents'].apply(lambda x: \" \".join(normalize('NFD', x).encode('ascii', 'ignore').decode(\"utf-8\").lower() for x in x.split() if x not in stop ))\n",
        "documents_df['documents'] = documents_df['documents'].apply(lambda x: \" \".join(re.sub('[^a-zA-Z \\n]', ' ', x).lower() for x in x.split()))\n",
        "# documents_df['documents'] = documents_df['documents'].apply(lambda x: \" \".join(Word(x).lemmatize() for x in x.split() if x not in stop))"
      ],
      "execution_count": 8,
      "outputs": []
    },
    {
      "cell_type": "code",
      "metadata": {
        "colab": {
          "base_uri": "https://localhost:8080/",
          "height": 807
        },
        "id": "fMj8I122bcmH",
        "outputId": "1961fb87-e019-4484-eb9f-4e835972eebf"
      },
      "source": [
        "documents_df"
      ],
      "execution_count": 9,
      "outputs": [
        {
          "output_type": "execute_result",
          "data": {
            "text/html": [
              "<div>\n",
              "<style scoped>\n",
              "    .dataframe tbody tr th:only-of-type {\n",
              "        vertical-align: middle;\n",
              "    }\n",
              "\n",
              "    .dataframe tbody tr th {\n",
              "        vertical-align: top;\n",
              "    }\n",
              "\n",
              "    .dataframe thead th {\n",
              "        text-align: right;\n",
              "    }\n",
              "</style>\n",
              "<table border=\"1\" class=\"dataframe\">\n",
              "  <thead>\n",
              "    <tr style=\"text-align: right;\">\n",
              "      <th></th>\n",
              "      <th>documents</th>\n",
              "    </tr>\n",
              "  </thead>\n",
              "  <tbody>\n",
              "    <tr>\n",
              "      <th>0</th>\n",
              "      <td>meio ambiente desenvolvimento sustentavel natureza socioambiental etico ambiental arvore asfalto drenagem natural agua filtragem reutilizacao recurso hidrico fonte natural energia eolico solar gase produzir reciclagem</td>\n",
              "    </tr>\n",
              "    <tr>\n",
              "      <th>1</th>\n",
              "      <td>maria celina bodin moraes   doutorado direito civil   universita di camerino          ser professora titular direito civil faculdade direito universidade estado rio janeiro   uerj   professora associada departamento direito pontificia universidade catolica rio janeiro   puc rio     ser abitro parecerista direito privado editora chefe civilistica     revista eletronica direito civil   qualis a      ser diretora departamento direito puc rio coordenadora area direito faperj   atuar area direito privado   principalmente mediante metodologia direito civil constitucional   tema frequente producao cientifico ser   principio constitucional dignidade pessoa humano solidariedade   aplicacao direto constituicao relacao privado   protecao pessoa vulneravel   direito personalidade   relacao familiar   contrato responsabilidade civil</td>\n",
              "    </tr>\n",
              "    <tr>\n",
              "      <th>2</th>\n",
              "      <td>possuir graduacao engenharia mecanica pontificia universidade catolica rio janeiro            mestrado engenharia producao   departamento engenharia industrial          doutorado engenharia producao pontificia universidade catolica rio janeiro            mestrado doutorado ser ambos area financas analise investimentos   ser consultor master controladoria   petroleo brasileiro   rio janeiro   matriz   onde trabalhar                         ser professor adjunto departamento engenharia eletrica   puc rio   ser pesquisador grupo sistemas apoio decisao   laboratorio inteligencia computacional aplicar   ser autor dois livro texto   pos graduacao   opcao real   ser corporate advisor real options group   ministrar curso opcao real petrobras             alem curso teoria jogo valor informacao        la ministrar outro curso analise risco projeto   financas corporativo project finance   puc rio ministra curso opcao real desde      jogo opcao real desde        coordenar varios projeto pesquisa petrobras universidade   principalmente puc rio   fgv mines paris tech     ser orador principal varias conferencia internacional   dar seminario opcao real instituicao internacional   mit             entidade nacional   unicamp        ufrj      alliance fundacao dom cabral          criar primeiro website dedicar opcao real   puc          desenvolver varias aplicacao   inclusive software   opcao real petrobras   onde implantar padrao analise risco   analise investimento informacao outro   ter experiencia area engenharia producao   enfase avaliacao economica projetos   atuar principalmente seguinte tema   opcao real   analise investimento sob incerteza   jogo opcao real   teoria jogo   exploracao producao petroleo   valor informacao   analise risco projeto   analise investimento energia renovavel   custo capital projeto financiamento corporativo</td>\n",
              "    </tr>\n",
              "    <tr>\n",
              "      <th>3</th>\n",
              "      <td>doutora servico social   uerj          mestre servico social   ufrj           graduar servico social   ufrj           possuir experiencia diversos area trabalho profissional servico social   empresa   assistencia social   saude   consultoria   assessoria     ser docente pesquisadora pontificia universidade catolica rio janeiro curso graduacao pos graduacao servico social   trabalhar empresa multinacional   farmaceutica   glaxosmithkline telefonia celular   claro     ong   obra social rio janeiro     setor publico atuar prefeitura rio janeiro condicao concursar   autora livro servico social consultoria empresarial            organizadora coletanea sobre trabalho   servico social direitos humanos</td>\n",
              "    </tr>\n",
              "    <tr>\n",
              "      <th>4</th>\n",
              "      <td>engenheiro mecanico formar universidade federal rio janeiro            msc engenharia mecanica pontificia universidade catolica rio janeiro          phd engenharia mecanica   tecnologia aerossois university of minnesota            usa   professor associado departamento engenharia mecanica pontificia universidade catolica rio janeiro   onde coordenar grupo pesquisa multidisciplinar engenharia ambiental   poluicao atmosferica atuar seguinte tema   tecnologia aerossol instrumentacao   processo atmosferico   biocombustivel   controle poluicao   poluente local gase efeito estufo     captura armazenamento geologico carbono   desenvolvimento sensor ambiental   geracao energia atraves residuo solido urbano   waste to energy   wte     engenheiro petroleo petrobras   cepet        onde atuar             membro ipcc   intergovernmental panel on climate change                 grupo cientista receber premio nobel paz</td>\n",
              "    </tr>\n",
              "    <tr>\n",
              "      <th>5</th>\n",
              "      <td>flavia almeida viveiros castro ser juiza direito professora convidar emerj   escola magistratura estado rio janeiro   esaj   escola administracao judiciaria tribunal justica estado rio janeiro   fundacao getulio vargas   rj   possuir pos doutorado direitos humanos instituto jus gentium faculdade direito coimbra               ser doutora direito civil constitucional universidade direito estado rio janeiro          mestre direito pontificia universidade catolica rio janeiro            mestre ciencia politica   ciencia politica sociologia   pontificia universidade catolica rio janeiro            possuir curso especializacao direito portugues centro estudos judiciarios portugal          especializacao ciencia politica   instituto metodista bennett            graduar direito comunicacao social   especialidade jornalismo pontificia universidade catolica rio janeiro                 ser juiza titular   vara civel regional barra tijuca   ter exercer magistratura vara falencia   fazenda publico   criminal   tribunal juri   orfao sucessao familia   assumir funcao juiza eleitoral     zona eleitoral   exercer funcao marechal hermes   bangu pavuna   ser juiza corregedora   auxiliar corregedora justica            exercer docencia palestrante professora convidar area direito civil direito tributario   ser coordenadora academico instituto direito pontificia universidade catolica rio janeiro coordenadora academico curso pos graduacao direito imobiliario   direito fiscal   direito empresarial   direito processual civil direito saude instituto direito puc rj</td>\n",
              "    </tr>\n",
              "    <tr>\n",
              "      <th>6</th>\n",
              "      <td>vitor nascimento aguiar graduar engenharia civil enfase mecanica solos universidade federal rio janeiro   ufrj          concluir mestrado doutorado engenharia civil   geotecnia   coppe ufrj             pesquisa mestrado doutorado   investigar efeito tempo velocidade deformacao adensamento resistencia cisalhamento argila mole saturar   atuar dez ano projeto consultoria obra infraestrutura mecasolo engenharia consultoria   realizar estagio pos doutorado norwegian geotechnical institute   ngi               atualmente ser professor quadro principal departamento engenharia civil ambiental pontificia universidade catolica rio janeiro   puc rio     onde lecionar disciplina laboratorio geotecnia graduacao disciplina ensaios laboratorio geotecnia experimental pos graduacao   ter exercer cargo secretario executivo associacao brasileira mecanica solos   nucleo rj</td>\n",
              "    </tr>\n",
              "  </tbody>\n",
              "</table>\n",
              "</div>"
            ],
            "text/plain": [
              "                                                                                                                                                                                                                                                                                                                                                                                                                                                                                                                                                                                                                                                                                                                                                                                                                                                                                                                                                                                                                                                                                                                                                                                                                                                                                                                                                                                                                                                                                                                                                                                                                                                                                                                                                                                                                                                                                                                          documents\n",
              "0  meio ambiente desenvolvimento sustentavel natureza socioambiental etico ambiental arvore asfalto drenagem natural agua filtragem reutilizacao recurso hidrico fonte natural energia eolico solar gase produzir reciclagem                                                                                                                                                                                                                                                                                                                                                                                                                                                                                                                                                                                                                                                                                                                                                                                                                                                                                                                                                                                                                                                                                                                                                                                                                                                                                                                                                                                                                                                                                                                                                                                                                                                                                                       \n",
              "1  maria celina bodin moraes   doutorado direito civil   universita di camerino          ser professora titular direito civil faculdade direito universidade estado rio janeiro   uerj   professora associada departamento direito pontificia universidade catolica rio janeiro   puc rio     ser abitro parecerista direito privado editora chefe civilistica     revista eletronica direito civil   qualis a      ser diretora departamento direito puc rio coordenadora area direito faperj   atuar area direito privado   principalmente mediante metodologia direito civil constitucional   tema frequente producao cientifico ser   principio constitucional dignidade pessoa humano solidariedade   aplicacao direto constituicao relacao privado   protecao pessoa vulneravel   direito personalidade   relacao familiar   contrato responsabilidade civil                                                                                                                                                                                                                                                                                                                                                                                                                                                                                                                                                                                                                                                                                                                                                                                                                                                                                                                                                                                                                                                                 \n",
              "2  possuir graduacao engenharia mecanica pontificia universidade catolica rio janeiro            mestrado engenharia producao   departamento engenharia industrial          doutorado engenharia producao pontificia universidade catolica rio janeiro            mestrado doutorado ser ambos area financas analise investimentos   ser consultor master controladoria   petroleo brasileiro   rio janeiro   matriz   onde trabalhar                         ser professor adjunto departamento engenharia eletrica   puc rio   ser pesquisador grupo sistemas apoio decisao   laboratorio inteligencia computacional aplicar   ser autor dois livro texto   pos graduacao   opcao real   ser corporate advisor real options group   ministrar curso opcao real petrobras             alem curso teoria jogo valor informacao        la ministrar outro curso analise risco projeto   financas corporativo project finance   puc rio ministra curso opcao real desde      jogo opcao real desde        coordenar varios projeto pesquisa petrobras universidade   principalmente puc rio   fgv mines paris tech     ser orador principal varias conferencia internacional   dar seminario opcao real instituicao internacional   mit             entidade nacional   unicamp        ufrj      alliance fundacao dom cabral          criar primeiro website dedicar opcao real   puc          desenvolver varias aplicacao   inclusive software   opcao real petrobras   onde implantar padrao analise risco   analise investimento informacao outro   ter experiencia area engenharia producao   enfase avaliacao economica projetos   atuar principalmente seguinte tema   opcao real   analise investimento sob incerteza   jogo opcao real   teoria jogo   exploracao producao petroleo   valor informacao   analise risco projeto   analise investimento energia renovavel   custo capital projeto financiamento corporativo  \n",
              "3  doutora servico social   uerj          mestre servico social   ufrj           graduar servico social   ufrj           possuir experiencia diversos area trabalho profissional servico social   empresa   assistencia social   saude   consultoria   assessoria     ser docente pesquisadora pontificia universidade catolica rio janeiro curso graduacao pos graduacao servico social   trabalhar empresa multinacional   farmaceutica   glaxosmithkline telefonia celular   claro     ong   obra social rio janeiro     setor publico atuar prefeitura rio janeiro condicao concursar   autora livro servico social consultoria empresarial            organizadora coletanea sobre trabalho   servico social direitos humanos                                                                                                                                                                                                                                                                                                                                                                                                                                                                                                                                                                                                                                                                                                                                                                                                                                                                                                                                                                                                                                                                                                                                                                                                 \n",
              "4  engenheiro mecanico formar universidade federal rio janeiro            msc engenharia mecanica pontificia universidade catolica rio janeiro          phd engenharia mecanica   tecnologia aerossois university of minnesota            usa   professor associado departamento engenharia mecanica pontificia universidade catolica rio janeiro   onde coordenar grupo pesquisa multidisciplinar engenharia ambiental   poluicao atmosferica atuar seguinte tema   tecnologia aerossol instrumentacao   processo atmosferico   biocombustivel   controle poluicao   poluente local gase efeito estufo     captura armazenamento geologico carbono   desenvolvimento sensor ambiental   geracao energia atraves residuo solido urbano   waste to energy   wte     engenheiro petroleo petrobras   cepet        onde atuar             membro ipcc   intergovernmental panel on climate change                 grupo cientista receber premio nobel paz                                                                                                                                                                                                                                                                                                                                                                                                                                                                                                                                                                                                                                                                                                                                                                                                                                                                                                                                                                            \n",
              "5  flavia almeida viveiros castro ser juiza direito professora convidar emerj   escola magistratura estado rio janeiro   esaj   escola administracao judiciaria tribunal justica estado rio janeiro   fundacao getulio vargas   rj   possuir pos doutorado direitos humanos instituto jus gentium faculdade direito coimbra               ser doutora direito civil constitucional universidade direito estado rio janeiro          mestre direito pontificia universidade catolica rio janeiro            mestre ciencia politica   ciencia politica sociologia   pontificia universidade catolica rio janeiro            possuir curso especializacao direito portugues centro estudos judiciarios portugal          especializacao ciencia politica   instituto metodista bennett            graduar direito comunicacao social   especialidade jornalismo pontificia universidade catolica rio janeiro                 ser juiza titular   vara civel regional barra tijuca   ter exercer magistratura vara falencia   fazenda publico   criminal   tribunal juri   orfao sucessao familia   assumir funcao juiza eleitoral     zona eleitoral   exercer funcao marechal hermes   bangu pavuna   ser juiza corregedora   auxiliar corregedora justica            exercer docencia palestrante professora convidar area direito civil direito tributario   ser coordenadora academico instituto direito pontificia universidade catolica rio janeiro coordenadora academico curso pos graduacao direito imobiliario   direito fiscal   direito empresarial   direito processual civil direito saude instituto direito puc rj                                                                                                                                                                                                                                                                                                    \n",
              "6  vitor nascimento aguiar graduar engenharia civil enfase mecanica solos universidade federal rio janeiro   ufrj          concluir mestrado doutorado engenharia civil   geotecnia   coppe ufrj             pesquisa mestrado doutorado   investigar efeito tempo velocidade deformacao adensamento resistencia cisalhamento argila mole saturar   atuar dez ano projeto consultoria obra infraestrutura mecasolo engenharia consultoria   realizar estagio pos doutorado norwegian geotechnical institute   ngi               atualmente ser professor quadro principal departamento engenharia civil ambiental pontificia universidade catolica rio janeiro   puc rio     onde lecionar disciplina laboratorio geotecnia graduacao disciplina ensaios laboratorio geotecnia experimental pos graduacao   ter exercer cargo secretario executivo associacao brasileira mecanica solos   nucleo rj                                                                                                                                                                                                                                                                                                                                                                                                                                                                                                                                                                                                                                                                                                                                                                                                                                                                                                                                                                                                                                "
            ]
          },
          "metadata": {},
          "execution_count": 9
        }
      ]
    },
    {
      "cell_type": "markdown",
      "metadata": {
        "id": "M6cklpWTodow"
      },
      "source": [
        "#### Tf-idf vectors"
      ]
    },
    {
      "cell_type": "markdown",
      "metadata": {
        "id": "t5DTfaZYtykV"
      },
      "source": [
        "**Embeddings**\n",
        "\n",
        "são as representações vetoriais de texto em que palavras ou sentenças com significado ou contexto semelhantes têm representações semelhantes.\n",
        "\n",
        "![image.png](data:image/png;base64,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)\n",
        "\n",
        "**Tf-idf** é uma combinação de frequência de termo e frequência inversa de documento. Ele atribui um peso a cada palavra no documento, que é calculado usando a frequência dessa palavra no documento e a frequência dos documentos com essa palavra em todo o corpus de documentos."
      ]
    },
    {
      "cell_type": "markdown",
      "metadata": {
        "id": "8-G2ZRAZTxch"
      },
      "source": [
        "TfidfVectorizer: Convert a collection of raw documents to a matrix of TF-IDF features. Equivalent to CountVectorizer followed by TfidfTransformer."
      ]
    },
    {
      "cell_type": "code",
      "metadata": {
        "id": "zXaJKxWIT7ao"
      },
      "source": [
        "tfidfvectoriser=TfidfVectorizer(max_features=128)\n",
        "tfidfvectoriser.fit(documents_df['documents'])\n",
        "tfidf_vectors=tfidfvectoriser.transform(documents_df['documents'])"
      ],
      "execution_count": 10,
      "outputs": []
    },
    {
      "cell_type": "code",
      "metadata": {
        "colab": {
          "base_uri": "https://localhost:8080/"
        },
        "id": "uHOrtNQQodoz",
        "outputId": "fbef992d-9b5a-4c19-9056-b947b80b291d"
      },
      "source": [
        "tfidf_vectors.shape"
      ],
      "execution_count": 11,
      "outputs": [
        {
          "output_type": "execute_result",
          "data": {
            "text/plain": [
              "(7, 128)"
            ]
          },
          "metadata": {},
          "execution_count": 11
        }
      ]
    },
    {
      "cell_type": "code",
      "metadata": {
        "colab": {
          "base_uri": "https://localhost:8080/"
        },
        "id": "7xCyYJNAuaSz",
        "outputId": "d6ffca8d-0b58-4f35-cb0c-e01491763071"
      },
      "source": [
        "# Every vector is already normalised to have unit L2 norm\n",
        "np.linalg.norm(tfidf_vectors.toarray()[0],ord=2)"
      ],
      "execution_count": 12,
      "outputs": [
        {
          "output_type": "execute_result",
          "data": {
            "text/plain": [
              "1.0"
            ]
          },
          "metadata": {},
          "execution_count": 12
        }
      ]
    },
    {
      "cell_type": "code",
      "metadata": {
        "colab": {
          "base_uri": "https://localhost:8080/"
        },
        "id": "0ZfJLWirodo2",
        "outputId": "375b08dc-c088-40e6-c48b-9032115cd639"
      },
      "source": [
        "tfidf_vectors=tfidf_vectors.toarray()\n",
        "print (tfidf_vectors[0])"
      ],
      "execution_count": 13,
      "outputs": [
        {
          "output_type": "stream",
          "name": "stdout",
          "text": [
            "[0.         0.26109401 0.         0.         0.         0.\n",
            " 0.         0.         0.         0.         0.         0.\n",
            " 0.         0.         0.         0.         0.         0.\n",
            " 0.         0.3054564  0.         0.         0.         0.\n",
            " 0.         0.         0.         0.         0.         0.26109401\n",
            " 0.         0.         0.         0.         0.         0.\n",
            " 0.         0.         0.         0.         0.         0.\n",
            " 0.         0.3054564  0.         0.         0.         0.\n",
            " 0.         0.         0.         0.         0.         0.\n",
            " 0.         0.         0.         0.         0.         0.\n",
            " 0.         0.         0.         0.         0.         0.\n",
            " 0.73596337 0.36798169 0.         0.         0.         0.\n",
            " 0.         0.         0.         0.         0.         0.\n",
            " 0.         0.         0.         0.         0.         0.\n",
            " 0.         0.         0.         0.         0.         0.\n",
            " 0.         0.         0.         0.         0.         0.\n",
            " 0.         0.         0.         0.         0.         0.\n",
            " 0.         0.         0.         0.         0.         0.\n",
            " 0.         0.         0.         0.         0.         0.\n",
            " 0.         0.         0.         0.         0.         0.\n",
            " 0.         0.         0.         0.         0.         0.\n",
            " 0.         0.        ]\n"
          ]
        }
      ]
    },
    {
      "cell_type": "markdown",
      "metadata": {
        "id": "xvB33Dg6odo4"
      },
      "source": [
        "##### Every document has been converted into a 64 dimensional vector. As we set the max_features=64"
      ]
    },
    {
      "cell_type": "markdown",
      "metadata": {
        "id": "GguRnIYsodo4"
      },
      "source": [
        "### Pairwise similarity\n",
        "\n",
        "##### Pairwise cosine similarity would just be the dot product of the vectors becasue tf-idf vectors from sklearn are already normalized and L2 norm of these vectors is 1. So denominator of cosine similiarity formula is 1 in this case."
      ]
    },
    {
      "cell_type": "code",
      "metadata": {
        "id": "1GFWHXK1odo5"
      },
      "source": [
        "pairwise_similarities=np.dot(tfidf_vectors,tfidf_vectors.T)\n",
        "pairwise_differences=euclidean_distances(tfidf_vectors)"
      ],
      "execution_count": 14,
      "outputs": []
    },
    {
      "cell_type": "code",
      "metadata": {
        "colab": {
          "base_uri": "https://localhost:8080/"
        },
        "id": "zOFiIAfRodo7",
        "outputId": "8f98357a-bac9-4ba9-996c-8221d0ab6814"
      },
      "source": [
        "print (tfidf_vectors[0])\n",
        "print (pairwise_similarities.shape)\n",
        "print (pairwise_similarities[0][:])"
      ],
      "execution_count": 15,
      "outputs": [
        {
          "output_type": "stream",
          "name": "stdout",
          "text": [
            "[0.         0.26109401 0.         0.         0.         0.\n",
            " 0.         0.         0.         0.         0.         0.\n",
            " 0.         0.         0.         0.         0.         0.\n",
            " 0.         0.3054564  0.         0.         0.         0.\n",
            " 0.         0.         0.         0.         0.         0.26109401\n",
            " 0.         0.         0.         0.         0.         0.\n",
            " 0.         0.         0.         0.         0.         0.\n",
            " 0.         0.3054564  0.         0.         0.         0.\n",
            " 0.         0.         0.         0.         0.         0.\n",
            " 0.         0.         0.         0.         0.         0.\n",
            " 0.         0.         0.         0.         0.         0.\n",
            " 0.73596337 0.36798169 0.         0.         0.         0.\n",
            " 0.         0.         0.         0.         0.         0.\n",
            " 0.         0.         0.         0.         0.         0.\n",
            " 0.         0.         0.         0.         0.         0.\n",
            " 0.         0.         0.         0.         0.         0.\n",
            " 0.         0.         0.         0.         0.         0.\n",
            " 0.         0.         0.         0.         0.         0.\n",
            " 0.         0.         0.         0.         0.         0.\n",
            " 0.         0.         0.         0.         0.         0.\n",
            " 0.         0.         0.         0.         0.         0.\n",
            " 0.         0.        ]\n",
            "(7, 7)\n",
            "[1.         0.         0.00894008 0.         0.14553449 0.\n",
            " 0.02271826]\n"
          ]
        }
      ]
    },
    {
      "cell_type": "markdown",
      "metadata": {
        "id": "x8oqU9Mwodo-"
      },
      "source": [
        "##### similarity is highest, 1 at index 0 becasue they are the same documents"
      ]
    },
    {
      "cell_type": "code",
      "metadata": {
        "id": "m487mu9_odo-"
      },
      "source": [
        "def most_similar(doc_id,similarity_matrix,matrix):\n",
        "    print (f'Document: {documents_df.iloc[doc_id][\"documents\"]}')\n",
        "    print (f'Similar Documents using {matrix}:')\n",
        "    if matrix=='Cosine Similarity':\n",
        "        similar_ix=np.argsort(similarity_matrix[doc_id])[::-1]\n",
        "    elif matrix=='Euclidean Distance':\n",
        "        similar_ix=np.argsort(similarity_matrix[doc_id])\n",
        "    for ix in similar_ix:\n",
        "        if ix==doc_id:\n",
        "            continue\n",
        "        print('Id:', ix, '... ', end=\"\")\n",
        "#        print (f'Document: {documents_df.iloc[ix][\"documents\"]}')\n",
        "        print (f'{matrix} : {similarity_matrix[doc_id][ix]}')"
      ],
      "execution_count": 16,
      "outputs": []
    },
    {
      "cell_type": "markdown",
      "metadata": {
        "id": "2tGHjXWzsvnV"
      },
      "source": [
        "**Similaridade do cosseno** - É o cosseno do ângulo entre dois vetores, que nos dá a distância angular entre os vetores. A fórmula para calcular a similaridade de cosseno entre dois vetores A e B é,\n",
        "\n",
        "![image.png](data:image/png;base64,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)\n",
        "\n",
        "**Distância Euclidiana**\n",
        "\n",
        "![image.png](data:image/png;base64,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)"
      ]
    },
    {
      "cell_type": "code",
      "metadata": {
        "colab": {
          "base_uri": "https://localhost:8080/"
        },
        "id": "OJsEh4QaodpA",
        "outputId": "ec96af17-27ef-4313-c30d-cf57944e053a"
      },
      "source": [
        "most_similar(0,pairwise_similarities,'Cosine Similarity')"
      ],
      "execution_count": 17,
      "outputs": [
        {
          "output_type": "stream",
          "name": "stdout",
          "text": [
            "Document: meio ambiente desenvolvimento sustentavel natureza socioambiental etico ambiental arvore asfalto drenagem natural agua filtragem reutilizacao recurso hidrico fonte natural energia eolico solar gase produzir reciclagem  \n",
            "Similar Documents using Cosine Similarity:\n",
            "Id: 4 ... Cosine Similarity : 0.1455344884543932\n",
            "Id: 6 ... Cosine Similarity : 0.022718259353533755\n",
            "Id: 2 ... Cosine Similarity : 0.00894008178769479\n",
            "Id: 5 ... Cosine Similarity : 0.0\n",
            "Id: 3 ... Cosine Similarity : 0.0\n",
            "Id: 1 ... Cosine Similarity : 0.0\n"
          ]
        }
      ]
    },
    {
      "cell_type": "code",
      "metadata": {
        "colab": {
          "base_uri": "https://localhost:8080/"
        },
        "id": "KwNyW4XqodpD",
        "outputId": "643d7485-b321-4a71-c524-4ede8fd40b0c"
      },
      "source": [
        "most_similar(0,pairwise_differences,'Euclidean Distance')"
      ],
      "execution_count": 18,
      "outputs": [
        {
          "output_type": "stream",
          "name": "stdout",
          "text": [
            "Document: meio ambiente desenvolvimento sustentavel natureza socioambiental etico ambiental arvore asfalto drenagem natural agua filtragem reutilizacao recurso hidrico fonte natural energia eolico solar gase produzir reciclagem  \n",
            "Similar Documents using Euclidean Distance:\n",
            "Id: 4 ... Euclidean Distance : 1.3072608856273538\n",
            "Id: 6 ... Euclidean Distance : 1.3980570379254675\n",
            "Id: 2 ... Euclidean Distance : 1.407877777516433\n",
            "Id: 3 ... Euclidean Distance : 1.4142135623730947\n",
            "Id: 1 ... Euclidean Distance : 1.414213562373095\n",
            "Id: 5 ... Euclidean Distance : 1.4142135623730951\n"
          ]
        }
      ]
    },
    {
      "cell_type": "markdown",
      "metadata": {
        "id": "J3H7zfoTodpF"
      },
      "source": [
        "#### word2vec embeddings"
      ]
    },
    {
      "cell_type": "code",
      "metadata": {
        "colab": {
          "base_uri": "https://localhost:8080/"
        },
        "id": "pEbPb6BJodpF",
        "outputId": "5c3938a3-3121-4503-d9c4-2b8b3ae05609"
      },
      "source": [
        "from keras.preprocessing.text import Tokenizer\n",
        "import gensim\n",
        "from keras.preprocessing.sequence import pad_sequences\n",
        "from nltk.tokenize import word_tokenize\n",
        "import nltk\n",
        "nltk.download('punkt')"
      ],
      "execution_count": 19,
      "outputs": [
        {
          "output_type": "stream",
          "name": "stdout",
          "text": [
            "[nltk_data] Downloading package punkt to /root/nltk_data...\n",
            "[nltk_data]   Unzipping tokenizers/punkt.zip.\n"
          ]
        },
        {
          "output_type": "execute_result",
          "data": {
            "text/plain": [
              "True"
            ]
          },
          "metadata": {},
          "execution_count": 19
        }
      ]
    },
    {
      "cell_type": "code",
      "metadata": {
        "colab": {
          "base_uri": "https://localhost:8080/"
        },
        "id": "cHlL6XtFodpI",
        "outputId": "7da81ccc-b31a-47b9-95e0-3a95b53469c5"
      },
      "source": [
        "# tokenize and pad every document to make them of the same size\n",
        "tokenizer=Tokenizer()\n",
        "tokenizer.fit_on_texts(documents_df['documents'])\n",
        "tokenized_documents=tokenizer.texts_to_sequences(documents_df['documents'])\n",
        "tokenized_paded_documents=pad_sequences(tokenized_documents,maxlen=128,padding='post')\n",
        "vocab_size=len(tokenizer.word_index)+1\n",
        "\n",
        "print (tokenized_paded_documents[0])"
      ],
      "execution_count": 20,
      "outputs": [
        {
          "output_type": "stream",
          "name": "stdout",
          "text": [
            "[113 114  60 115 116 117 118  28 119 120 121  61 122 123 124 125 126 127\n",
            "  61  39 128 129  62 130 131   0   0   0   0   0   0   0   0   0   0   0\n",
            "   0   0   0   0   0   0   0   0   0   0   0   0   0   0   0   0   0   0\n",
            "   0   0   0   0   0   0   0   0   0   0   0   0   0   0   0   0   0   0\n",
            "   0   0   0   0   0   0   0   0   0   0   0   0   0   0   0   0   0   0\n",
            "   0   0   0   0   0   0   0   0   0   0   0   0   0   0   0   0   0   0\n",
            "   0   0   0   0   0   0   0   0   0   0   0   0   0   0   0   0   0   0\n",
            "   0   0]\n"
          ]
        }
      ]
    },
    {
      "cell_type": "markdown",
      "metadata": {
        "id": "WmU-LZrwatnn"
      },
      "source": [
        "We can train our own embeddings if have enough data and computation available or we can use pre-trained embeddings. We will use pre-trained embeddings (Word2Vec and GloVe 300) provided by NILC.\n",
        "\n",
        "http://www.nilc.icmc.usp.br/embeddings"
      ]
    },
    {
      "cell_type": "code",
      "metadata": {
        "id": "SA2tdICzodpL",
        "colab": {
          "base_uri": "https://localhost:8080/"
        },
        "outputId": "56ea0c73-70c3-47ea-d6ac-632d54950b7c"
      },
      "source": [
        "# loading pre-trained embeddings, each word is represented as a 300 dimensional vector\n",
        "import gensim\n",
        "# W2V_PATH=\"https://s3.amazonaws.com/dl4j-distribution/GoogleNews-vectors-negative300.bin.gz\"\n",
        "# model_w2v = gensim.models.KeyedVectors.load_word2vec_format(W2V_PATH, binary=True)\n",
        "\n",
        "!wget \"http://143.107.183.175:22980/download.php?file=embeddings/word2vec/skip_s300.zip\"\n",
        "!unzip *skip_s300.zip\n"
      ],
      "execution_count": 21,
      "outputs": [
        {
          "output_type": "stream",
          "name": "stdout",
          "text": [
            "--2021-11-04 14:22:11--  http://143.107.183.175:22980/download.php?file=embeddings/word2vec/skip_s300.zip\n",
            "Connecting to 143.107.183.175:22980... connected.\n",
            "HTTP request sent, awaiting response... 200 OK\n",
            "Length: 958619745 (914M) [application/octet-stream]\n",
            "Saving to: ‘download.php?file=embeddings%2Fword2vec%2Fskip_s300.zip’\n",
            "\n",
            "download.php?file=e 100%[===================>] 914.21M  11.2MB/s    in 92s     \n",
            "\n",
            "2021-11-04 14:23:43 (9.94 MB/s) - ‘download.php?file=embeddings%2Fword2vec%2Fskip_s300.zip’ saved [958619745/958619745]\n",
            "\n",
            "Archive:  download.php?file=embeddings%2Fword2vec%2Fskip_s300.zip\n",
            "  inflating: skip_s300.txt           \n"
          ]
        }
      ]
    },
    {
      "cell_type": "code",
      "metadata": {
        "id": "K3KckN2Z2G_-"
      },
      "source": [
        "from gensim.models import KeyedVectors\n",
        "model_w2v = KeyedVectors.load_word2vec_format('skip_s300.txt')"
      ],
      "execution_count": 22,
      "outputs": []
    },
    {
      "cell_type": "code",
      "metadata": {
        "id": "POofZ14codpO"
      },
      "source": [
        "# creating embedding matrix, every row is a vector representation from the vocabulary indexed by the tokenizer index. \n",
        "embedding_matrix=np.zeros((vocab_size,300))\n",
        "for word,i in tokenizer.word_index.items():\n",
        "    if word in model_w2v:\n",
        "        embedding_matrix[i]=model_w2v[word]"
      ],
      "execution_count": 23,
      "outputs": []
    },
    {
      "cell_type": "code",
      "metadata": {
        "id": "Xstx71L9odpR",
        "colab": {
          "base_uri": "https://localhost:8080/"
        },
        "outputId": "935876d0-d4bc-407a-e700-1e46afdfd10a"
      },
      "source": [
        "embedding_matrix[0]"
      ],
      "execution_count": 24,
      "outputs": [
        {
          "output_type": "execute_result",
          "data": {
            "text/plain": [
              "array([0., 0., 0., 0., 0., 0., 0., 0., 0., 0., 0., 0., 0., 0., 0., 0., 0.,\n",
              "       0., 0., 0., 0., 0., 0., 0., 0., 0., 0., 0., 0., 0., 0., 0., 0., 0.,\n",
              "       0., 0., 0., 0., 0., 0., 0., 0., 0., 0., 0., 0., 0., 0., 0., 0., 0.,\n",
              "       0., 0., 0., 0., 0., 0., 0., 0., 0., 0., 0., 0., 0., 0., 0., 0., 0.,\n",
              "       0., 0., 0., 0., 0., 0., 0., 0., 0., 0., 0., 0., 0., 0., 0., 0., 0.,\n",
              "       0., 0., 0., 0., 0., 0., 0., 0., 0., 0., 0., 0., 0., 0., 0., 0., 0.,\n",
              "       0., 0., 0., 0., 0., 0., 0., 0., 0., 0., 0., 0., 0., 0., 0., 0., 0.,\n",
              "       0., 0., 0., 0., 0., 0., 0., 0., 0., 0., 0., 0., 0., 0., 0., 0., 0.,\n",
              "       0., 0., 0., 0., 0., 0., 0., 0., 0., 0., 0., 0., 0., 0., 0., 0., 0.,\n",
              "       0., 0., 0., 0., 0., 0., 0., 0., 0., 0., 0., 0., 0., 0., 0., 0., 0.,\n",
              "       0., 0., 0., 0., 0., 0., 0., 0., 0., 0., 0., 0., 0., 0., 0., 0., 0.,\n",
              "       0., 0., 0., 0., 0., 0., 0., 0., 0., 0., 0., 0., 0., 0., 0., 0., 0.,\n",
              "       0., 0., 0., 0., 0., 0., 0., 0., 0., 0., 0., 0., 0., 0., 0., 0., 0.,\n",
              "       0., 0., 0., 0., 0., 0., 0., 0., 0., 0., 0., 0., 0., 0., 0., 0., 0.,\n",
              "       0., 0., 0., 0., 0., 0., 0., 0., 0., 0., 0., 0., 0., 0., 0., 0., 0.,\n",
              "       0., 0., 0., 0., 0., 0., 0., 0., 0., 0., 0., 0., 0., 0., 0., 0., 0.,\n",
              "       0., 0., 0., 0., 0., 0., 0., 0., 0., 0., 0., 0., 0., 0., 0., 0., 0.,\n",
              "       0., 0., 0., 0., 0., 0., 0., 0., 0., 0., 0.])"
            ]
          },
          "metadata": {},
          "execution_count": 24
        }
      ]
    },
    {
      "cell_type": "code",
      "metadata": {
        "id": "4_LEe-S6odpU",
        "scrolled": true,
        "colab": {
          "base_uri": "https://localhost:8080/"
        },
        "outputId": "6e9919ed-0432-41da-ce83-6103b1ceebd4"
      },
      "source": [
        "embedding_matrix[tokenizer.word_index['sustentavel']]"
      ],
      "execution_count": 25,
      "outputs": [
        {
          "output_type": "execute_result",
          "data": {
            "text/plain": [
              "array([ 6.52000010e-02,  5.16929999e-02,  2.11859997e-02,  4.70659994e-02,\n",
              "        8.09770003e-02,  7.90050030e-02, -1.16402999e-01, -1.36920005e-01,\n",
              "        3.48940007e-02,  1.49320001e-02,  1.15750998e-01,  8.41649994e-02,\n",
              "        1.80700002e-03,  9.49579999e-02, -2.36489996e-02,  2.02776000e-01,\n",
              "       -6.20630011e-02, -2.99110003e-02,  1.13460002e-02,  4.74819988e-02,\n",
              "        1.95152998e-01,  1.02639999e-02,  8.94199982e-02, -7.71979988e-02,\n",
              "       -6.19399995e-02,  2.36450005e-02, -6.09840006e-02,  1.04480004e-02,\n",
              "        1.02415003e-01,  5.11710010e-02, -2.09180005e-02, -3.96840014e-02,\n",
              "        1.42610997e-01,  1.98209994e-02, -5.85349984e-02,  2.92339996e-02,\n",
              "        1.64609998e-02,  2.39499994e-02, -2.70809997e-02, -1.33564994e-01,\n",
              "        4.13869992e-02, -1.08425997e-01,  5.00690006e-02,  1.87171996e-01,\n",
              "        1.20569997e-01,  1.04700001e-02,  1.24062002e-01,  3.34019996e-02,\n",
              "        1.35399997e-02, -1.42495006e-01,  1.17574997e-01,  4.55660000e-02,\n",
              "        2.20094994e-01,  4.62910011e-02, -8.69849995e-02,  2.64055014e-01,\n",
              "       -2.71949992e-02,  9.85839963e-02, -3.05698991e-01,  3.91720012e-02,\n",
              "        1.87686995e-01, -1.81159992e-02,  7.71870017e-02,  1.25387996e-01,\n",
              "        3.49330008e-02, -1.17827997e-01,  4.49739993e-02, -9.01480019e-02,\n",
              "       -2.48600002e-02, -6.56550005e-02,  8.65949988e-02, -2.57740002e-02,\n",
              "       -2.41047993e-01,  2.01189995e-01, -1.22419996e-02, -1.17594004e-01,\n",
              "       -6.36779964e-02, -1.57319997e-02, -5.55699989e-02,  6.63399994e-02,\n",
              "        6.87289983e-02, -2.97500007e-02,  1.36000002e-04,  2.22299993e-02,\n",
              "        4.78090011e-02, -2.06465006e-01, -3.18569988e-02,  2.03900002e-02,\n",
              "        6.28169999e-02, -1.29605994e-01, -8.04089978e-02, -1.10280998e-01,\n",
              "       -8.40710029e-02, -2.69510001e-02, -1.63705006e-01,  3.06529999e-02,\n",
              "       -1.54165000e-01, -1.57909006e-01, -2.22960003e-02,  3.56360003e-02,\n",
              "        1.29711002e-01, -3.90379988e-02,  4.80480008e-02, -1.19882002e-01,\n",
              "       -1.61734000e-01, -2.27551997e-01,  8.81170034e-02,  1.52820004e-02,\n",
              "       -5.97449988e-02, -1.21123001e-01, -4.63550016e-02,  1.32262006e-01,\n",
              "        6.41129985e-02, -2.11524993e-01, -7.62479976e-02,  1.16687998e-01,\n",
              "        1.00800000e-01, -1.63230002e-02, -2.89469995e-02,  1.30608007e-01,\n",
              "       -1.66498005e-01,  4.69570011e-02,  2.45639998e-02, -9.20049995e-02,\n",
              "       -6.87120035e-02,  4.69559990e-02, -1.98720004e-02, -1.83073997e-01,\n",
              "       -2.01330006e-01, -1.08929001e-01, -3.09660006e-02,  1.33956000e-01,\n",
              "       -4.52620015e-02,  1.07387997e-01,  7.87919983e-02, -1.29919007e-01,\n",
              "        1.27250999e-01,  3.57379988e-02,  1.29671007e-01, -5.00999973e-04,\n",
              "        3.01479995e-02,  1.37371004e-01, -3.15629989e-02,  1.33100003e-02,\n",
              "        7.22889975e-02,  1.10592000e-01, -1.88752994e-01,  9.56900045e-03,\n",
              "       -1.28730005e-02, -6.47410005e-02, -1.39730005e-02, -2.93930005e-02,\n",
              "        1.91864997e-01, -1.56466007e-01,  4.92350012e-02,  6.15839995e-02,\n",
              "       -4.61639985e-02, -2.71729995e-02,  2.10660007e-02, -3.63180004e-02,\n",
              "        1.70425996e-01, -6.08120002e-02,  8.21850002e-02, -3.39570008e-02,\n",
              "       -2.55178988e-01, -8.73690024e-02,  8.63699988e-03,  6.06580004e-02,\n",
              "       -1.26096994e-01, -2.88389996e-02, -1.56058997e-01,  1.43171996e-01,\n",
              "       -4.96140011e-02, -1.76110007e-02,  2.12634996e-01, -8.28200020e-03,\n",
              "       -4.60349992e-02, -1.84757993e-01,  9.66439992e-02,  1.29181996e-01,\n",
              "       -3.81259993e-02,  2.59499997e-02,  1.33389998e-02, -1.40600000e-03,\n",
              "        1.67350005e-02,  1.26323000e-01,  4.20599990e-02, -4.66430001e-02,\n",
              "        1.71070006e-02, -2.89309993e-02, -7.41600012e-03, -9.89229977e-02,\n",
              "        6.20600022e-03,  2.73470003e-02, -6.02229983e-02, -1.20299996e-03,\n",
              "       -1.15693003e-01,  8.72499961e-03, -7.39599997e-03, -9.44710001e-02,\n",
              "       -3.85349989e-02,  5.40409982e-02, -1.99330002e-02, -1.65350005e-01,\n",
              "       -2.80559994e-02,  1.26442999e-01,  2.89826989e-01, -8.37320015e-02,\n",
              "       -8.01599957e-03,  1.05091996e-01,  1.20956004e-01,  1.35730002e-02,\n",
              "       -9.35359970e-02, -9.01210010e-02, -3.12729999e-02,  1.40384004e-01,\n",
              "        1.39899999e-02, -1.03767000e-01, -1.95278004e-01, -6.90679997e-02,\n",
              "        4.78099994e-02,  1.82109997e-02,  6.62849993e-02, -7.18429983e-02,\n",
              "       -3.21189985e-02, -4.03789990e-02,  1.67679992e-02,  1.18353002e-01,\n",
              "       -2.94450000e-02,  7.23299980e-02,  5.04520014e-02,  6.33139983e-02,\n",
              "       -1.41653001e-01,  1.09398000e-01,  7.56509975e-02, -5.73140010e-02,\n",
              "        1.70666993e-01,  1.50100002e-02, -6.62790015e-02, -9.98899993e-03,\n",
              "        8.69409963e-02, -6.00699987e-03, -1.23549998e-01, -1.65987000e-01,\n",
              "       -1.55481994e-01,  5.47790006e-02,  6.62560016e-02,  1.29822999e-01,\n",
              "        1.18629998e-02,  8.81809965e-02, -1.36657000e-01,  9.34949964e-02,\n",
              "       -2.28524998e-01, -5.69200004e-03, -1.38889000e-01,  9.99180004e-02,\n",
              "       -5.47720008e-02,  1.19780004e-02,  1.14959002e-01, -2.17499994e-02,\n",
              "        1.02137998e-01, -7.24719986e-02, -1.51536003e-01, -9.88399982e-03,\n",
              "        4.71499981e-03,  3.97580005e-02, -7.29190037e-02, -5.34689985e-02,\n",
              "        1.02899000e-01, -9.71719995e-02, -1.22022003e-01, -1.08386002e-01,\n",
              "       -1.72840003e-02,  2.86810007e-02,  2.33750008e-02,  1.08719997e-01,\n",
              "       -7.82409981e-02,  8.70769992e-02, -1.80695996e-01,  2.32100002e-02,\n",
              "        1.20759998e-02,  4.41760011e-02, -1.69733003e-01,  1.31797999e-01,\n",
              "        2.14470997e-01,  3.30310017e-02, -3.34439985e-02,  4.94429991e-02,\n",
              "       -2.10430007e-02,  2.74459999e-02,  1.67999999e-04, -1.17710000e-02,\n",
              "       -3.28989998e-02, -9.71480012e-02, -3.20019983e-02, -2.08500009e-02,\n",
              "       -9.66999959e-03, -1.68575004e-01,  6.79010004e-02,  1.80740003e-02])"
            ]
          },
          "metadata": {},
          "execution_count": 25
        }
      ]
    },
    {
      "cell_type": "code",
      "metadata": {
        "id": "ze3NNOLYodpW"
      },
      "source": [
        "# creating document-word embeddings\n",
        "document_word_embeddings=np.zeros((len(tokenized_paded_documents),128,300))\n",
        "\n",
        "for i in range(len(tokenized_paded_documents)):\n",
        "    for j in range(len(tokenized_paded_documents[0])):\n",
        "        document_word_embeddings[i][j]=embedding_matrix[tokenized_paded_documents[i][j]]"
      ],
      "execution_count": 26,
      "outputs": []
    },
    {
      "cell_type": "code",
      "metadata": {
        "id": "I4JSjhQKodpc",
        "colab": {
          "base_uri": "https://localhost:8080/"
        },
        "outputId": "8fe0432f-f544-4634-aa65-6015f2bbdf21"
      },
      "source": [
        "document_word_embeddings.shape"
      ],
      "execution_count": 27,
      "outputs": [
        {
          "output_type": "execute_result",
          "data": {
            "text/plain": [
              "(7, 128, 300)"
            ]
          },
          "metadata": {},
          "execution_count": 27
        }
      ]
    },
    {
      "cell_type": "markdown",
      "metadata": {
        "id": "X6iHQ-9sbMJi"
      },
      "source": [
        "Now we have to represent every document as a single vector. We can either average or sum over every word vector and convert every 64X300 representation into a 300-dimensional representation. But averaging or summing over all the words would lose the semantic and contextual meaning of the documents. Different lengths of the documents would also have an adverse effect on such operations.\n",
        "\n",
        "One better way of doing this could be taking a weighted average of word vectors using the tf-idf weights. This can handle the variable length problem to a certain extent but cannot keep the semantic and contextual meaning of words. After doing that we can use the pairwise distances to calculate similar documents as we did in the tf-idf model."
      ]
    },
    {
      "cell_type": "code",
      "metadata": {
        "id": "AdtxAgA4odpf",
        "scrolled": true
      },
      "source": [
        "# tf-idf vectors do not keep the original sequence of words, converting them into actual word sequences from the documents\n",
        "\n",
        "document_embeddings=np.zeros((len(tokenized_paded_documents),300))\n",
        "words=tfidfvectoriser.get_feature_names()\n",
        "\n",
        "for i in range(len(document_word_embeddings)):\n",
        "    for j in range(len(words)):\n",
        "        document_embeddings[i]+=embedding_matrix[tokenizer.word_index[words[j]]]*tfidf_vectors[i][j]\n",
        "        \n",
        "document_embeddings=document_embeddings/np.sum(tfidf_vectors,axis=1).reshape(-1,1)\n",
        "    "
      ],
      "execution_count": 28,
      "outputs": []
    },
    {
      "cell_type": "code",
      "metadata": {
        "id": "QHQl0X7modpj"
      },
      "source": [
        "pairwise_similarities=cosine_similarity(document_embeddings)\n",
        "pairwise_differences=euclidean_distances(document_embeddings)"
      ],
      "execution_count": 29,
      "outputs": []
    },
    {
      "cell_type": "code",
      "metadata": {
        "id": "W-xnkF3Rodpl",
        "colab": {
          "base_uri": "https://localhost:8080/"
        },
        "outputId": "ea8c05c3-302a-4d5b-fa69-e86b1f569d32"
      },
      "source": [
        "most_similar(0,pairwise_similarities,'Cosine Similarity')"
      ],
      "execution_count": 30,
      "outputs": [
        {
          "output_type": "stream",
          "name": "stdout",
          "text": [
            "Document: meio ambiente desenvolvimento sustentavel natureza socioambiental etico ambiental arvore asfalto drenagem natural agua filtragem reutilizacao recurso hidrico fonte natural energia eolico solar gase produzir reciclagem  \n",
            "Similar Documents using Cosine Similarity:\n",
            "Id: 2 ... Cosine Similarity : 0.44131498565982613\n",
            "Id: 4 ... Cosine Similarity : 0.4081641287946105\n",
            "Id: 6 ... Cosine Similarity : 0.3785309886250442\n",
            "Id: 3 ... Cosine Similarity : 0.3553731961823813\n",
            "Id: 1 ... Cosine Similarity : 0.27178458607903233\n",
            "Id: 5 ... Cosine Similarity : 0.26827768544591957\n"
          ]
        }
      ]
    },
    {
      "cell_type": "code",
      "metadata": {
        "id": "SqfLobmZodpn",
        "colab": {
          "base_uri": "https://localhost:8080/"
        },
        "outputId": "97d449f6-0a46-4cc2-b0c9-4d5e89ab9810"
      },
      "source": [
        "most_similar(0,pairwise_differences,'Euclidean Distance')"
      ],
      "execution_count": 31,
      "outputs": [
        {
          "output_type": "stream",
          "name": "stdout",
          "text": [
            "Document: meio ambiente desenvolvimento sustentavel natureza socioambiental etico ambiental arvore asfalto drenagem natural agua filtragem reutilizacao recurso hidrico fonte natural energia eolico solar gase produzir reciclagem  \n",
            "Similar Documents using Euclidean Distance:\n",
            "Id: 2 ... Euclidean Distance : 1.4990520845268887\n",
            "Id: 4 ... Euclidean Distance : 1.6028633450992862\n",
            "Id: 3 ... Euclidean Distance : 1.6945406371430412\n",
            "Id: 6 ... Euclidean Distance : 1.755560801523878\n",
            "Id: 5 ... Euclidean Distance : 1.8060854072131798\n",
            "Id: 1 ... Euclidean Distance : 1.8733028499345212\n"
          ]
        }
      ]
    },
    {
      "cell_type": "markdown",
      "metadata": {
        "id": "L7oG1uuGodpp"
      },
      "source": [
        "#### Glove embeddings"
      ]
    },
    {
      "cell_type": "markdown",
      "metadata": {
        "id": "IpK1_HfAa1Uj"
      },
      "source": [
        "Global Vectors for word Embedding (GloVe) is an unsupervised learning algorithm to produce vector representations of word. Training is performed on aggregated global word-word co-occurrence statistics from a corpus, and the resulting representations showcase interesting linear substructures of the word vector space.\n",
        "\n",
        "We will use the pre-trained Glove embeddings. All the steps would remain same as word2vec embeddings it’s just that in this case we will use the Glove pre-trained model. We are using Glove embeddings of 300-dimensions because of the large size of the embeddings file. You can use higher dimensions also"
      ]
    },
    {
      "cell_type": "code",
      "metadata": {
        "id": "Dyl2etaWodpq",
        "colab": {
          "base_uri": "https://localhost:8080/"
        },
        "outputId": "befd9420-9346-4ab7-ce19-4c449e7df9db"
      },
      "source": [
        "# reading Glove word embeddings into a dictionary with \"word\" as key and values as word vectors\n",
        "\n",
        "!wget http://143.107.183.175:22980/download.php?file=embeddings/glove/glove_s300.zip\n",
        "!unzip *glove*.zip\n"
      ],
      "execution_count": null,
      "outputs": [
        {
          "output_type": "stream",
          "name": "stdout",
          "text": [
            "--2021-11-04 14:29:08--  http://143.107.183.175:22980/download.php?file=embeddings/glove/glove_s300.zip\n",
            "Connecting to 143.107.183.175:22980... connected.\n",
            "HTTP request sent, awaiting response... 200 OK\n",
            "Length: 993190150 (947M) [application/octet-stream]\n",
            "Saving to: ‘download.php?file=embeddings%2Fglove%2Fglove_s300.zip’\n",
            "\n",
            ".zip                 46%[========>           ] 443.67M  30.9KB/s    eta 6h 3m  "
          ]
        }
      ]
    },
    {
      "cell_type": "code",
      "metadata": {
        "id": "EwDAd0yE0P3R"
      },
      "source": [
        "from gensim.models import KeyedVectors\n",
        "model_glo = KeyedVectors.load_word2vec_format('glove_s300.txt')\n",
        "\n",
        "# creating embedding matrix, every row is a vector representation from the vocabulary indexed by the tokenizer index. \n",
        "embedding_matrix=np.zeros((vocab_size,300))\n",
        "for word,i in tokenizer.word_index.items():\n",
        "    if word in model_w2v:\n",
        "        embedding_matrix[i]=model_glo[word]"
      ],
      "execution_count": null,
      "outputs": []
    },
    {
      "cell_type": "code",
      "metadata": {
        "id": "elSMrWDKodpu"
      },
      "source": [
        "# tf-idf vectors do not keep the original sequence of words, converting them into actual word sequences from the documents\n",
        "\n",
        "document_embeddings=np.zeros((len(tokenized_paded_documents),300))\n",
        "words=tfidfvectoriser.get_feature_names()\n",
        "\n",
        "for i in range(documents_df.shape[0]):\n",
        "    for j in range(len(words)):\n",
        "        document_embeddings[i]+=embedding_matrix[tokenizer.word_index[words[j]]]*tfidf_vectors[i][j]\n",
        "        \n",
        "document_embeddings=document_embeddings/np.sum(tfidf_vectors,axis=1).reshape(-1,1)"
      ],
      "execution_count": null,
      "outputs": []
    },
    {
      "cell_type": "code",
      "metadata": {
        "id": "tg2Q706Uodpw"
      },
      "source": [
        "document_embeddings.shape"
      ],
      "execution_count": null,
      "outputs": []
    },
    {
      "cell_type": "code",
      "metadata": {
        "id": "yo6yjjnyodpy"
      },
      "source": [
        "pairwise_similarities=cosine_similarity(document_embeddings)\n",
        "pairwise_differences=euclidean_distances(document_embeddings)"
      ],
      "execution_count": null,
      "outputs": []
    },
    {
      "cell_type": "code",
      "metadata": {
        "id": "dzmfvsAlodp0"
      },
      "source": [
        "most_similar(0,pairwise_similarities,'Cosine Similarity')"
      ],
      "execution_count": null,
      "outputs": []
    },
    {
      "cell_type": "code",
      "metadata": {
        "id": "EnrtapNtodp1"
      },
      "source": [
        "most_similar(0,pairwise_differences,'Euclidean Distance')"
      ],
      "execution_count": null,
      "outputs": []
    },
    {
      "cell_type": "markdown",
      "metadata": {
        "id": "hecViuQRodp3"
      },
      "source": [
        "#### Doc2vec model"
      ]
    },
    {
      "cell_type": "markdown",
      "metadata": {
        "id": "Gpx7PRz7bZJn"
      },
      "source": [
        "Doc2vec is an unsupervised learning algorithm to produce vector representations of sentence/paragraph/documents. This is an adaptation of word2vec. Doc2vec can represent an entire documents into a vector. So we don’t have to take average of word vectors to create document vector.\n"
      ]
    },
    {
      "cell_type": "markdown",
      "metadata": {
        "id": "Qywxu8DzupJk"
      },
      "source": [
        "![image.png](data:image/png;base64,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)"
      ]
    },
    {
      "cell_type": "code",
      "metadata": {
        "id": "MDLKLZXPodp4"
      },
      "source": [
        "from gensim.models.doc2vec import Doc2Vec, TaggedDocument"
      ],
      "execution_count": null,
      "outputs": []
    },
    {
      "cell_type": "code",
      "metadata": {
        "id": "5THng5QPodp5"
      },
      "source": [
        "tagged_data = [TaggedDocument(words=word_tokenize(doc), tags=[i]) for i, doc in enumerate(documents_df['documents'])]"
      ],
      "execution_count": null,
      "outputs": []
    },
    {
      "cell_type": "code",
      "metadata": {
        "id": "YURtty-Lodp7",
        "scrolled": true
      },
      "source": [
        "model_d2v = Doc2Vec(vector_size=100,alpha=0.025, min_count=1)\n",
        "  \n",
        "model_d2v.build_vocab(tagged_data)\n",
        "\n",
        "for epoch in range(100):\n",
        "    model_d2v.train(tagged_data,\n",
        "                total_examples=model_d2v.corpus_count,\n",
        "                epochs=model_d2v.epochs)"
      ],
      "execution_count": null,
      "outputs": []
    },
    {
      "cell_type": "code",
      "metadata": {
        "id": "bJfa1EYWodp9"
      },
      "source": [
        "document_embeddings=np.zeros((documents_df.shape[0],100))\n",
        "\n",
        "for i in range(len(document_embeddings)):\n",
        "    document_embeddings[i]=model_d2v.docvecs[i]"
      ],
      "execution_count": null,
      "outputs": []
    },
    {
      "cell_type": "code",
      "metadata": {
        "id": "GtkQELbxodp_"
      },
      "source": [
        "pairwise_similarities=cosine_similarity(document_embeddings)\n",
        "pairwise_differences=euclidean_distances(document_embeddings)"
      ],
      "execution_count": null,
      "outputs": []
    },
    {
      "cell_type": "code",
      "metadata": {
        "id": "bZEEOxDvodqC"
      },
      "source": [
        "most_similar(0,pairwise_similarities,'Cosine Similarity')"
      ],
      "execution_count": null,
      "outputs": []
    },
    {
      "cell_type": "code",
      "metadata": {
        "id": "a81ZJ4btodqF"
      },
      "source": [
        "most_similar(0,pairwise_differences,'Euclidean Distance')"
      ],
      "execution_count": null,
      "outputs": []
    },
    {
      "cell_type": "markdown",
      "metadata": {
        "id": "aVJRh-cSodqH"
      },
      "source": [
        "#### BERT model"
      ]
    },
    {
      "cell_type": "markdown",
      "metadata": {
        "id": "A2MUNVdXbq05"
      },
      "source": [
        "BERT- Bidirectional Encoder Representation from Transformers (BERT) is a state of the art technique for natural language processing pre-training developed by Google. BERT is trained on unlabelled text including Wikipedia and Book corpus. BERT uses transformer architecture, an attention model to learn embeddings for words.\n",
        "\n",
        "BERT consists of two pre training steps Masked Language Modelling (MLM) and Next Sentence Prediction (NSP). In BERT training text is represented using three embeddings, Token Embeddings + Segment Embeddings + Position Embeddings."
      ]
    },
    {
      "cell_type": "markdown",
      "metadata": {
        "id": "AucS9dL3u_E2"
      },
      "source": [
        "![image.png](data:image/png;base64,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)"
      ]
    },
    {
      "cell_type": "code",
      "metadata": {
        "id": "TY_ReGIRodqH"
      },
      "source": [
        "# Install the library using pip\n",
        "!pip install sentence-transformers\n",
        "from sentence_transformers import SentenceTransformer"
      ],
      "execution_count": null,
      "outputs": []
    },
    {
      "cell_type": "markdown",
      "metadata": {
        "id": "FG7Qxjue-Kxz"
      },
      "source": [
        "https://github.com/neuralmind-ai/portuguese-bert\n",
        "\n",
        "# BERTimbau - Portuguese BERT\n",
        "\n"
      ]
    },
    {
      "cell_type": "code",
      "metadata": {
        "id": "IVXJOehRodqK"
      },
      "source": [
        "from transformers import AutoModel, AutoTokenizer\n",
        "\n",
        "sbert_model = SentenceTransformer('neuralmind/bert-base-portuguese-cased')"
      ],
      "execution_count": null,
      "outputs": []
    },
    {
      "cell_type": "code",
      "metadata": {
        "id": "JNvfJ6ZnodqM"
      },
      "source": [
        "document_embeddings = sbert_model.encode(documents_df['documents'])"
      ],
      "execution_count": null,
      "outputs": []
    },
    {
      "cell_type": "code",
      "metadata": {
        "id": "FgMmPQx7o5ny"
      },
      "source": [
        "pairwise_similarities=cosine_similarity(document_embeddings)\n",
        "pairwise_differences=euclidean_distances(document_embeddings)"
      ],
      "execution_count": null,
      "outputs": []
    },
    {
      "cell_type": "code",
      "metadata": {
        "id": "K8jlwGz3o7mv"
      },
      "source": [
        "most_similar(0,pairwise_similarities,'Cosine Similarity')"
      ],
      "execution_count": null,
      "outputs": []
    },
    {
      "cell_type": "code",
      "metadata": {
        "id": "neuyIUs3o9Sc"
      },
      "source": [
        "most_similar(0,pairwise_differences,'Euclidean Distance')"
      ],
      "execution_count": null,
      "outputs": []
    },
    {
      "cell_type": "markdown",
      "metadata": {
        "id": "vQpFJrtid7wu"
      },
      "source": [
        "## Perform Semantic Search"
      ]
    },
    {
      "cell_type": "code",
      "metadata": {
        "id": "D6wkgQmywt0k"
      },
      "source": [
        "import scipy\n",
        "#@title Sematic Search Form\n",
        "\n",
        "# code adapted from https://github.com/UKPLab/sentence-transformers/blob/master/examples/application_semantic_search.py\n",
        "\n",
        "query = 'meio ambiente' #@param {type: 'string'}\n",
        "\n",
        "queries = [query]\n",
        "query_embeddings = sbert_model.encode(queries)\n",
        "\n",
        "# Find the closest 5 documents of the corpus for each query sentence based on cosine similarity\n",
        "number_top_matches = 5 #@param {type: \"number\"}\n",
        "\n",
        "print(\"Semantic Search Results\")\n",
        "\n",
        "for query, query_embedding in zip(queries, query_embeddings):\n",
        "    distances = scipy.spatial.distance.cdist([query_embedding], document_embeddings, \"cosine\")[0]\n",
        "\n",
        "    results = zip(range(len(distances)), distances)\n",
        "    results = sorted(results, key=lambda x: x[1])\n",
        "\n",
        "    print(\"\\n\\n======================\\n\\n\")\n",
        "    print(\"Query:\", query)\n",
        "    print(\"\\nTop 5 most similar documents in corpus:\")\n",
        "\n",
        "    for idx, distance in results[0:number_top_matches]:\n",
        "        print(documents_df['documents'][idx].strip(), \"(Cosine Score: %.4f)\" % (1-distance))"
      ],
      "execution_count": null,
      "outputs": []
    }
  ]
}