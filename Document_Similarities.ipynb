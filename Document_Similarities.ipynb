{
  "nbformat": 4,
  "nbformat_minor": 0,
  "metadata": {
    "colab": {
      "name": "Document_Similarities.ipynb",
      "provenance": [],
      "collapsed_sections": [
        "J3H7zfoTodpF",
        "L7oG1uuGodpp"
      ],
      "include_colab_link": true
    },
    "kernelspec": {
      "display_name": "Python 3",
      "language": "python",
      "name": "python3"
    },
    "language_info": {
      "codemirror_mode": {
        "name": "ipython",
        "version": 3
      },
      "file_extension": ".py",
      "mimetype": "text/x-python",
      "name": "python",
      "nbconvert_exporter": "python",
      "pygments_lexer": "ipython3",
      "version": "3.7.3"
    },
    "widgets": {
      "application/vnd.jupyter.widget-state+json": {
        "5de7addc6188422d898b8457ef480f6c": {
          "model_module": "@jupyter-widgets/controls",
          "model_name": "HBoxModel",
          "model_module_version": "1.5.0",
          "state": {
            "_view_name": "HBoxView",
            "_dom_classes": [],
            "_model_name": "HBoxModel",
            "_view_module": "@jupyter-widgets/controls",
            "_model_module_version": "1.5.0",
            "_view_count": null,
            "_view_module_version": "1.5.0",
            "box_style": "",
            "layout": "IPY_MODEL_e91e8cb65dc742c7a91d032dc283d959",
            "_model_module": "@jupyter-widgets/controls",
            "children": [
              "IPY_MODEL_01f904bff301449c842aeda1956bd602",
              "IPY_MODEL_7c0f655eaac9497da5f82ed96a964daf",
              "IPY_MODEL_57e38fecaa3f4c7fbc98a1bc5b87f20e"
            ]
          }
        },
        "e91e8cb65dc742c7a91d032dc283d959": {
          "model_module": "@jupyter-widgets/base",
          "model_name": "LayoutModel",
          "model_module_version": "1.2.0",
          "state": {
            "_view_name": "LayoutView",
            "grid_template_rows": null,
            "right": null,
            "justify_content": null,
            "_view_module": "@jupyter-widgets/base",
            "overflow": null,
            "_model_module_version": "1.2.0",
            "_view_count": null,
            "flex_flow": null,
            "width": null,
            "min_width": null,
            "border": null,
            "align_items": null,
            "bottom": null,
            "_model_module": "@jupyter-widgets/base",
            "top": null,
            "grid_column": null,
            "overflow_y": null,
            "overflow_x": null,
            "grid_auto_flow": null,
            "grid_area": null,
            "grid_template_columns": null,
            "flex": null,
            "_model_name": "LayoutModel",
            "justify_items": null,
            "grid_row": null,
            "max_height": null,
            "align_content": null,
            "visibility": null,
            "align_self": null,
            "height": null,
            "min_height": null,
            "padding": null,
            "grid_auto_rows": null,
            "grid_gap": null,
            "max_width": null,
            "order": null,
            "_view_module_version": "1.2.0",
            "grid_template_areas": null,
            "object_position": null,
            "object_fit": null,
            "grid_auto_columns": null,
            "margin": null,
            "display": null,
            "left": null
          }
        },
        "01f904bff301449c842aeda1956bd602": {
          "model_module": "@jupyter-widgets/controls",
          "model_name": "HTMLModel",
          "model_module_version": "1.5.0",
          "state": {
            "_view_name": "HTMLView",
            "style": "IPY_MODEL_4b76001575e24ae9a33dc6cbf251f9b4",
            "_dom_classes": [],
            "description": "",
            "_model_name": "HTMLModel",
            "placeholder": "​",
            "_view_module": "@jupyter-widgets/controls",
            "_model_module_version": "1.5.0",
            "value": "Downloading https://raw.githubusercontent.com/stanfordnlp/stanza-resources/main/resources_1.3.0.json: ",
            "_view_count": null,
            "_view_module_version": "1.5.0",
            "description_tooltip": null,
            "_model_module": "@jupyter-widgets/controls",
            "layout": "IPY_MODEL_5e7ae67bcfe7449f8cec665a7b51b927"
          }
        },
        "7c0f655eaac9497da5f82ed96a964daf": {
          "model_module": "@jupyter-widgets/controls",
          "model_name": "FloatProgressModel",
          "model_module_version": "1.5.0",
          "state": {
            "_view_name": "ProgressView",
            "style": "IPY_MODEL_7ffed279a8b447bbbde71c76b5f24a88",
            "_dom_classes": [],
            "description": "",
            "_model_name": "FloatProgressModel",
            "bar_style": "success",
            "max": 24459,
            "_view_module": "@jupyter-widgets/controls",
            "_model_module_version": "1.5.0",
            "value": 24459,
            "_view_count": null,
            "_view_module_version": "1.5.0",
            "orientation": "horizontal",
            "min": 0,
            "description_tooltip": null,
            "_model_module": "@jupyter-widgets/controls",
            "layout": "IPY_MODEL_acc580a4c27a43e3aa73b8e7c185e0e3"
          }
        },
        "57e38fecaa3f4c7fbc98a1bc5b87f20e": {
          "model_module": "@jupyter-widgets/controls",
          "model_name": "HTMLModel",
          "model_module_version": "1.5.0",
          "state": {
            "_view_name": "HTMLView",
            "style": "IPY_MODEL_85d50b6be4eb4efba00c4a04c4dd411f",
            "_dom_classes": [],
            "description": "",
            "_model_name": "HTMLModel",
            "placeholder": "​",
            "_view_module": "@jupyter-widgets/controls",
            "_model_module_version": "1.5.0",
            "value": " 142k/? [00:00&lt;00:00, 2.41MB/s]",
            "_view_count": null,
            "_view_module_version": "1.5.0",
            "description_tooltip": null,
            "_model_module": "@jupyter-widgets/controls",
            "layout": "IPY_MODEL_0f1eadb3919b48ba98d852b6722054a2"
          }
        },
        "4b76001575e24ae9a33dc6cbf251f9b4": {
          "model_module": "@jupyter-widgets/controls",
          "model_name": "DescriptionStyleModel",
          "model_module_version": "1.5.0",
          "state": {
            "_view_name": "StyleView",
            "_model_name": "DescriptionStyleModel",
            "description_width": "",
            "_view_module": "@jupyter-widgets/base",
            "_model_module_version": "1.5.0",
            "_view_count": null,
            "_view_module_version": "1.2.0",
            "_model_module": "@jupyter-widgets/controls"
          }
        },
        "5e7ae67bcfe7449f8cec665a7b51b927": {
          "model_module": "@jupyter-widgets/base",
          "model_name": "LayoutModel",
          "model_module_version": "1.2.0",
          "state": {
            "_view_name": "LayoutView",
            "grid_template_rows": null,
            "right": null,
            "justify_content": null,
            "_view_module": "@jupyter-widgets/base",
            "overflow": null,
            "_model_module_version": "1.2.0",
            "_view_count": null,
            "flex_flow": null,
            "width": null,
            "min_width": null,
            "border": null,
            "align_items": null,
            "bottom": null,
            "_model_module": "@jupyter-widgets/base",
            "top": null,
            "grid_column": null,
            "overflow_y": null,
            "overflow_x": null,
            "grid_auto_flow": null,
            "grid_area": null,
            "grid_template_columns": null,
            "flex": null,
            "_model_name": "LayoutModel",
            "justify_items": null,
            "grid_row": null,
            "max_height": null,
            "align_content": null,
            "visibility": null,
            "align_self": null,
            "height": null,
            "min_height": null,
            "padding": null,
            "grid_auto_rows": null,
            "grid_gap": null,
            "max_width": null,
            "order": null,
            "_view_module_version": "1.2.0",
            "grid_template_areas": null,
            "object_position": null,
            "object_fit": null,
            "grid_auto_columns": null,
            "margin": null,
            "display": null,
            "left": null
          }
        },
        "7ffed279a8b447bbbde71c76b5f24a88": {
          "model_module": "@jupyter-widgets/controls",
          "model_name": "ProgressStyleModel",
          "model_module_version": "1.5.0",
          "state": {
            "_view_name": "StyleView",
            "_model_name": "ProgressStyleModel",
            "description_width": "",
            "_view_module": "@jupyter-widgets/base",
            "_model_module_version": "1.5.0",
            "_view_count": null,
            "_view_module_version": "1.2.0",
            "bar_color": null,
            "_model_module": "@jupyter-widgets/controls"
          }
        },
        "acc580a4c27a43e3aa73b8e7c185e0e3": {
          "model_module": "@jupyter-widgets/base",
          "model_name": "LayoutModel",
          "model_module_version": "1.2.0",
          "state": {
            "_view_name": "LayoutView",
            "grid_template_rows": null,
            "right": null,
            "justify_content": null,
            "_view_module": "@jupyter-widgets/base",
            "overflow": null,
            "_model_module_version": "1.2.0",
            "_view_count": null,
            "flex_flow": null,
            "width": null,
            "min_width": null,
            "border": null,
            "align_items": null,
            "bottom": null,
            "_model_module": "@jupyter-widgets/base",
            "top": null,
            "grid_column": null,
            "overflow_y": null,
            "overflow_x": null,
            "grid_auto_flow": null,
            "grid_area": null,
            "grid_template_columns": null,
            "flex": null,
            "_model_name": "LayoutModel",
            "justify_items": null,
            "grid_row": null,
            "max_height": null,
            "align_content": null,
            "visibility": null,
            "align_self": null,
            "height": null,
            "min_height": null,
            "padding": null,
            "grid_auto_rows": null,
            "grid_gap": null,
            "max_width": null,
            "order": null,
            "_view_module_version": "1.2.0",
            "grid_template_areas": null,
            "object_position": null,
            "object_fit": null,
            "grid_auto_columns": null,
            "margin": null,
            "display": null,
            "left": null
          }
        },
        "85d50b6be4eb4efba00c4a04c4dd411f": {
          "model_module": "@jupyter-widgets/controls",
          "model_name": "DescriptionStyleModel",
          "model_module_version": "1.5.0",
          "state": {
            "_view_name": "StyleView",
            "_model_name": "DescriptionStyleModel",
            "description_width": "",
            "_view_module": "@jupyter-widgets/base",
            "_model_module_version": "1.5.0",
            "_view_count": null,
            "_view_module_version": "1.2.0",
            "_model_module": "@jupyter-widgets/controls"
          }
        },
        "0f1eadb3919b48ba98d852b6722054a2": {
          "model_module": "@jupyter-widgets/base",
          "model_name": "LayoutModel",
          "model_module_version": "1.2.0",
          "state": {
            "_view_name": "LayoutView",
            "grid_template_rows": null,
            "right": null,
            "justify_content": null,
            "_view_module": "@jupyter-widgets/base",
            "overflow": null,
            "_model_module_version": "1.2.0",
            "_view_count": null,
            "flex_flow": null,
            "width": null,
            "min_width": null,
            "border": null,
            "align_items": null,
            "bottom": null,
            "_model_module": "@jupyter-widgets/base",
            "top": null,
            "grid_column": null,
            "overflow_y": null,
            "overflow_x": null,
            "grid_auto_flow": null,
            "grid_area": null,
            "grid_template_columns": null,
            "flex": null,
            "_model_name": "LayoutModel",
            "justify_items": null,
            "grid_row": null,
            "max_height": null,
            "align_content": null,
            "visibility": null,
            "align_self": null,
            "height": null,
            "min_height": null,
            "padding": null,
            "grid_auto_rows": null,
            "grid_gap": null,
            "max_width": null,
            "order": null,
            "_view_module_version": "1.2.0",
            "grid_template_areas": null,
            "object_position": null,
            "object_fit": null,
            "grid_auto_columns": null,
            "margin": null,
            "display": null,
            "left": null
          }
        },
        "5356094b1c7d47808dc95846d9ae7ef4": {
          "model_module": "@jupyter-widgets/controls",
          "model_name": "HBoxModel",
          "model_module_version": "1.5.0",
          "state": {
            "_view_name": "HBoxView",
            "_dom_classes": [],
            "_model_name": "HBoxModel",
            "_view_module": "@jupyter-widgets/controls",
            "_model_module_version": "1.5.0",
            "_view_count": null,
            "_view_module_version": "1.5.0",
            "box_style": "",
            "layout": "IPY_MODEL_acf8b66b7d754cf2bdf84ac3c50ff24f",
            "_model_module": "@jupyter-widgets/controls",
            "children": [
              "IPY_MODEL_0dcb2656d8ad4b429df32f5802361174",
              "IPY_MODEL_374048eec348427eb41e1bb2c02de27e",
              "IPY_MODEL_797c9c27df904d879843fe2373f626e0"
            ]
          }
        },
        "acf8b66b7d754cf2bdf84ac3c50ff24f": {
          "model_module": "@jupyter-widgets/base",
          "model_name": "LayoutModel",
          "model_module_version": "1.2.0",
          "state": {
            "_view_name": "LayoutView",
            "grid_template_rows": null,
            "right": null,
            "justify_content": null,
            "_view_module": "@jupyter-widgets/base",
            "overflow": null,
            "_model_module_version": "1.2.0",
            "_view_count": null,
            "flex_flow": null,
            "width": null,
            "min_width": null,
            "border": null,
            "align_items": null,
            "bottom": null,
            "_model_module": "@jupyter-widgets/base",
            "top": null,
            "grid_column": null,
            "overflow_y": null,
            "overflow_x": null,
            "grid_auto_flow": null,
            "grid_area": null,
            "grid_template_columns": null,
            "flex": null,
            "_model_name": "LayoutModel",
            "justify_items": null,
            "grid_row": null,
            "max_height": null,
            "align_content": null,
            "visibility": null,
            "align_self": null,
            "height": null,
            "min_height": null,
            "padding": null,
            "grid_auto_rows": null,
            "grid_gap": null,
            "max_width": null,
            "order": null,
            "_view_module_version": "1.2.0",
            "grid_template_areas": null,
            "object_position": null,
            "object_fit": null,
            "grid_auto_columns": null,
            "margin": null,
            "display": null,
            "left": null
          }
        },
        "0dcb2656d8ad4b429df32f5802361174": {
          "model_module": "@jupyter-widgets/controls",
          "model_name": "HTMLModel",
          "model_module_version": "1.5.0",
          "state": {
            "_view_name": "HTMLView",
            "style": "IPY_MODEL_7bf8eae6965243688c6c02d730f6de93",
            "_dom_classes": [],
            "description": "",
            "_model_name": "HTMLModel",
            "placeholder": "​",
            "_view_module": "@jupyter-widgets/controls",
            "_model_module_version": "1.5.0",
            "value": "Downloading https://huggingface.co/stanfordnlp/stanza-pt/resolve/v1.3.0/models/default.zip: 100%",
            "_view_count": null,
            "_view_module_version": "1.5.0",
            "description_tooltip": null,
            "_model_module": "@jupyter-widgets/controls",
            "layout": "IPY_MODEL_4feca36750e24285a7af84cc5a82310f"
          }
        },
        "374048eec348427eb41e1bb2c02de27e": {
          "model_module": "@jupyter-widgets/controls",
          "model_name": "FloatProgressModel",
          "model_module_version": "1.5.0",
          "state": {
            "_view_name": "ProgressView",
            "style": "IPY_MODEL_e4f1b71c27d24649ab2c0c8b65225fa9",
            "_dom_classes": [],
            "description": "",
            "_model_name": "FloatProgressModel",
            "bar_style": "success",
            "max": 209069017,
            "_view_module": "@jupyter-widgets/controls",
            "_model_module_version": "1.5.0",
            "value": 209069017,
            "_view_count": null,
            "_view_module_version": "1.5.0",
            "orientation": "horizontal",
            "min": 0,
            "description_tooltip": null,
            "_model_module": "@jupyter-widgets/controls",
            "layout": "IPY_MODEL_2472a45ca9964a4bb87e0233a2ed2988"
          }
        },
        "797c9c27df904d879843fe2373f626e0": {
          "model_module": "@jupyter-widgets/controls",
          "model_name": "HTMLModel",
          "model_module_version": "1.5.0",
          "state": {
            "_view_name": "HTMLView",
            "style": "IPY_MODEL_76d1260635374d759bf7cd98c9ab89f5",
            "_dom_classes": [],
            "description": "",
            "_model_name": "HTMLModel",
            "placeholder": "​",
            "_view_module": "@jupyter-widgets/controls",
            "_model_module_version": "1.5.0",
            "value": " 209M/209M [00:01&lt;00:00, 83.4MB/s]",
            "_view_count": null,
            "_view_module_version": "1.5.0",
            "description_tooltip": null,
            "_model_module": "@jupyter-widgets/controls",
            "layout": "IPY_MODEL_56d7a56a0e1341c9b3a4f2a7163ebd8a"
          }
        },
        "7bf8eae6965243688c6c02d730f6de93": {
          "model_module": "@jupyter-widgets/controls",
          "model_name": "DescriptionStyleModel",
          "model_module_version": "1.5.0",
          "state": {
            "_view_name": "StyleView",
            "_model_name": "DescriptionStyleModel",
            "description_width": "",
            "_view_module": "@jupyter-widgets/base",
            "_model_module_version": "1.5.0",
            "_view_count": null,
            "_view_module_version": "1.2.0",
            "_model_module": "@jupyter-widgets/controls"
          }
        },
        "4feca36750e24285a7af84cc5a82310f": {
          "model_module": "@jupyter-widgets/base",
          "model_name": "LayoutModel",
          "model_module_version": "1.2.0",
          "state": {
            "_view_name": "LayoutView",
            "grid_template_rows": null,
            "right": null,
            "justify_content": null,
            "_view_module": "@jupyter-widgets/base",
            "overflow": null,
            "_model_module_version": "1.2.0",
            "_view_count": null,
            "flex_flow": null,
            "width": null,
            "min_width": null,
            "border": null,
            "align_items": null,
            "bottom": null,
            "_model_module": "@jupyter-widgets/base",
            "top": null,
            "grid_column": null,
            "overflow_y": null,
            "overflow_x": null,
            "grid_auto_flow": null,
            "grid_area": null,
            "grid_template_columns": null,
            "flex": null,
            "_model_name": "LayoutModel",
            "justify_items": null,
            "grid_row": null,
            "max_height": null,
            "align_content": null,
            "visibility": null,
            "align_self": null,
            "height": null,
            "min_height": null,
            "padding": null,
            "grid_auto_rows": null,
            "grid_gap": null,
            "max_width": null,
            "order": null,
            "_view_module_version": "1.2.0",
            "grid_template_areas": null,
            "object_position": null,
            "object_fit": null,
            "grid_auto_columns": null,
            "margin": null,
            "display": null,
            "left": null
          }
        },
        "e4f1b71c27d24649ab2c0c8b65225fa9": {
          "model_module": "@jupyter-widgets/controls",
          "model_name": "ProgressStyleModel",
          "model_module_version": "1.5.0",
          "state": {
            "_view_name": "StyleView",
            "_model_name": "ProgressStyleModel",
            "description_width": "",
            "_view_module": "@jupyter-widgets/base",
            "_model_module_version": "1.5.0",
            "_view_count": null,
            "_view_module_version": "1.2.0",
            "bar_color": null,
            "_model_module": "@jupyter-widgets/controls"
          }
        },
        "2472a45ca9964a4bb87e0233a2ed2988": {
          "model_module": "@jupyter-widgets/base",
          "model_name": "LayoutModel",
          "model_module_version": "1.2.0",
          "state": {
            "_view_name": "LayoutView",
            "grid_template_rows": null,
            "right": null,
            "justify_content": null,
            "_view_module": "@jupyter-widgets/base",
            "overflow": null,
            "_model_module_version": "1.2.0",
            "_view_count": null,
            "flex_flow": null,
            "width": null,
            "min_width": null,
            "border": null,
            "align_items": null,
            "bottom": null,
            "_model_module": "@jupyter-widgets/base",
            "top": null,
            "grid_column": null,
            "overflow_y": null,
            "overflow_x": null,
            "grid_auto_flow": null,
            "grid_area": null,
            "grid_template_columns": null,
            "flex": null,
            "_model_name": "LayoutModel",
            "justify_items": null,
            "grid_row": null,
            "max_height": null,
            "align_content": null,
            "visibility": null,
            "align_self": null,
            "height": null,
            "min_height": null,
            "padding": null,
            "grid_auto_rows": null,
            "grid_gap": null,
            "max_width": null,
            "order": null,
            "_view_module_version": "1.2.0",
            "grid_template_areas": null,
            "object_position": null,
            "object_fit": null,
            "grid_auto_columns": null,
            "margin": null,
            "display": null,
            "left": null
          }
        },
        "76d1260635374d759bf7cd98c9ab89f5": {
          "model_module": "@jupyter-widgets/controls",
          "model_name": "DescriptionStyleModel",
          "model_module_version": "1.5.0",
          "state": {
            "_view_name": "StyleView",
            "_model_name": "DescriptionStyleModel",
            "description_width": "",
            "_view_module": "@jupyter-widgets/base",
            "_model_module_version": "1.5.0",
            "_view_count": null,
            "_view_module_version": "1.2.0",
            "_model_module": "@jupyter-widgets/controls"
          }
        },
        "56d7a56a0e1341c9b3a4f2a7163ebd8a": {
          "model_module": "@jupyter-widgets/base",
          "model_name": "LayoutModel",
          "model_module_version": "1.2.0",
          "state": {
            "_view_name": "LayoutView",
            "grid_template_rows": null,
            "right": null,
            "justify_content": null,
            "_view_module": "@jupyter-widgets/base",
            "overflow": null,
            "_model_module_version": "1.2.0",
            "_view_count": null,
            "flex_flow": null,
            "width": null,
            "min_width": null,
            "border": null,
            "align_items": null,
            "bottom": null,
            "_model_module": "@jupyter-widgets/base",
            "top": null,
            "grid_column": null,
            "overflow_y": null,
            "overflow_x": null,
            "grid_auto_flow": null,
            "grid_area": null,
            "grid_template_columns": null,
            "flex": null,
            "_model_name": "LayoutModel",
            "justify_items": null,
            "grid_row": null,
            "max_height": null,
            "align_content": null,
            "visibility": null,
            "align_self": null,
            "height": null,
            "min_height": null,
            "padding": null,
            "grid_auto_rows": null,
            "grid_gap": null,
            "max_width": null,
            "order": null,
            "_view_module_version": "1.2.0",
            "grid_template_areas": null,
            "object_position": null,
            "object_fit": null,
            "grid_auto_columns": null,
            "margin": null,
            "display": null,
            "left": null
          }
        }
      }
    }
  },
  "cells": [
    {
      "cell_type": "markdown",
      "metadata": {
        "id": "view-in-github",
        "colab_type": "text"
      },
      "source": [
        "<a href=\"https://colab.research.google.com/github/versant2612/jnotebooks/blob/main/Document_Similarities.ipynb\" target=\"_parent\"><img src=\"https://colab.research.google.com/assets/colab-badge.svg\" alt=\"Open In Colab\"/></a>"
      ]
    },
    {
      "cell_type": "code",
      "metadata": {
        "colab": {
          "base_uri": "https://localhost:8080/"
        },
        "id": "nayjN8Vrodod",
        "outputId": "a553e71a-0d0c-4ade-e21e-17fc7caa2bf1"
      },
      "source": [
        "import pandas as pd\n",
        "import numpy as np\n",
        "import nltk\n",
        "nltk.download('stopwords')\n",
        "nltk.download('wordnet')\n",
        "from nltk.corpus import stopwords\n",
        "from textblob import Word\n",
        "import re\n",
        "from sklearn.feature_extraction.text import TfidfVectorizer \n",
        "from sklearn.metrics.pairwise import cosine_similarity\n",
        "from sklearn.metrics.pairwise import euclidean_distances\n",
        "from unicodedata import normalize\n"
      ],
      "execution_count": 1,
      "outputs": [
        {
          "output_type": "stream",
          "name": "stdout",
          "text": [
            "[nltk_data] Downloading package stopwords to /root/nltk_data...\n",
            "[nltk_data]   Unzipping corpora/stopwords.zip.\n",
            "[nltk_data] Downloading package wordnet to /root/nltk_data...\n",
            "[nltk_data]   Unzipping corpora/wordnet.zip.\n"
          ]
        }
      ]
    },
    {
      "cell_type": "code",
      "metadata": {
        "colab": {
          "base_uri": "https://localhost:8080/",
          "height": 559,
          "referenced_widgets": [
            "5de7addc6188422d898b8457ef480f6c",
            "e91e8cb65dc742c7a91d032dc283d959",
            "01f904bff301449c842aeda1956bd602",
            "7c0f655eaac9497da5f82ed96a964daf",
            "57e38fecaa3f4c7fbc98a1bc5b87f20e",
            "4b76001575e24ae9a33dc6cbf251f9b4",
            "5e7ae67bcfe7449f8cec665a7b51b927",
            "7ffed279a8b447bbbde71c76b5f24a88",
            "acc580a4c27a43e3aa73b8e7c185e0e3",
            "85d50b6be4eb4efba00c4a04c4dd411f",
            "0f1eadb3919b48ba98d852b6722054a2",
            "5356094b1c7d47808dc95846d9ae7ef4",
            "acf8b66b7d754cf2bdf84ac3c50ff24f",
            "0dcb2656d8ad4b429df32f5802361174",
            "374048eec348427eb41e1bb2c02de27e",
            "797c9c27df904d879843fe2373f626e0",
            "7bf8eae6965243688c6c02d730f6de93",
            "4feca36750e24285a7af84cc5a82310f",
            "e4f1b71c27d24649ab2c0c8b65225fa9",
            "2472a45ca9964a4bb87e0233a2ed2988",
            "76d1260635374d759bf7cd98c9ab89f5",
            "56d7a56a0e1341c9b3a4f2a7163ebd8a"
          ]
        },
        "id": "mC3uNspG2eIj",
        "outputId": "d42c58fc-ba8c-45c8-8f67-15920a52e44e"
      },
      "source": [
        "# https://lars76.github.io/2018/05/08/portuguese-lemmatizers.html#2\n",
        "!pip install stanza\n",
        "import stanza\n",
        "stanza.download('pt')"
      ],
      "execution_count": 2,
      "outputs": [
        {
          "output_type": "stream",
          "name": "stdout",
          "text": [
            "Collecting stanza\n",
            "  Downloading stanza-1.3.0-py3-none-any.whl (432 kB)\n",
            "\u001b[?25l\r\u001b[K     |▊                               | 10 kB 25.7 MB/s eta 0:00:01\r\u001b[K     |█▌                              | 20 kB 24.9 MB/s eta 0:00:01\r\u001b[K     |██▎                             | 30 kB 27.5 MB/s eta 0:00:01\r\u001b[K     |███                             | 40 kB 26.9 MB/s eta 0:00:01\r\u001b[K     |███▉                            | 51 kB 9.4 MB/s eta 0:00:01\r\u001b[K     |████▌                           | 61 kB 10.8 MB/s eta 0:00:01\r\u001b[K     |█████▎                          | 71 kB 9.3 MB/s eta 0:00:01\r\u001b[K     |██████                          | 81 kB 10.1 MB/s eta 0:00:01\r\u001b[K     |██████▉                         | 92 kB 11.1 MB/s eta 0:00:01\r\u001b[K     |███████▋                        | 102 kB 8.7 MB/s eta 0:00:01\r\u001b[K     |████████▍                       | 112 kB 8.7 MB/s eta 0:00:01\r\u001b[K     |█████████                       | 122 kB 8.7 MB/s eta 0:00:01\r\u001b[K     |█████████▉                      | 133 kB 8.7 MB/s eta 0:00:01\r\u001b[K     |██████████▋                     | 143 kB 8.7 MB/s eta 0:00:01\r\u001b[K     |███████████▍                    | 153 kB 8.7 MB/s eta 0:00:01\r\u001b[K     |████████████▏                   | 163 kB 8.7 MB/s eta 0:00:01\r\u001b[K     |█████████████                   | 174 kB 8.7 MB/s eta 0:00:01\r\u001b[K     |█████████████▋                  | 184 kB 8.7 MB/s eta 0:00:01\r\u001b[K     |██████████████▍                 | 194 kB 8.7 MB/s eta 0:00:01\r\u001b[K     |███████████████▏                | 204 kB 8.7 MB/s eta 0:00:01\r\u001b[K     |████████████████                | 215 kB 8.7 MB/s eta 0:00:01\r\u001b[K     |████████████████▊               | 225 kB 8.7 MB/s eta 0:00:01\r\u001b[K     |█████████████████▍              | 235 kB 8.7 MB/s eta 0:00:01\r\u001b[K     |██████████████████▏             | 245 kB 8.7 MB/s eta 0:00:01\r\u001b[K     |███████████████████             | 256 kB 8.7 MB/s eta 0:00:01\r\u001b[K     |███████████████████▊            | 266 kB 8.7 MB/s eta 0:00:01\r\u001b[K     |████████████████████▌           | 276 kB 8.7 MB/s eta 0:00:01\r\u001b[K     |█████████████████████▎          | 286 kB 8.7 MB/s eta 0:00:01\r\u001b[K     |██████████████████████          | 296 kB 8.7 MB/s eta 0:00:01\r\u001b[K     |██████████████████████▊         | 307 kB 8.7 MB/s eta 0:00:01\r\u001b[K     |███████████████████████▌        | 317 kB 8.7 MB/s eta 0:00:01\r\u001b[K     |████████████████████████▎       | 327 kB 8.7 MB/s eta 0:00:01\r\u001b[K     |█████████████████████████       | 337 kB 8.7 MB/s eta 0:00:01\r\u001b[K     |█████████████████████████▉      | 348 kB 8.7 MB/s eta 0:00:01\r\u001b[K     |██████████████████████████▌     | 358 kB 8.7 MB/s eta 0:00:01\r\u001b[K     |███████████████████████████▎    | 368 kB 8.7 MB/s eta 0:00:01\r\u001b[K     |████████████████████████████    | 378 kB 8.7 MB/s eta 0:00:01\r\u001b[K     |████████████████████████████▉   | 389 kB 8.7 MB/s eta 0:00:01\r\u001b[K     |█████████████████████████████▋  | 399 kB 8.7 MB/s eta 0:00:01\r\u001b[K     |██████████████████████████████▍ | 409 kB 8.7 MB/s eta 0:00:01\r\u001b[K     |███████████████████████████████ | 419 kB 8.7 MB/s eta 0:00:01\r\u001b[K     |███████████████████████████████▉| 430 kB 8.7 MB/s eta 0:00:01\r\u001b[K     |████████████████████████████████| 432 kB 8.7 MB/s \n",
            "\u001b[?25hRequirement already satisfied: tqdm in /usr/local/lib/python3.7/dist-packages (from stanza) (4.62.3)\n",
            "Requirement already satisfied: protobuf in /usr/local/lib/python3.7/dist-packages (from stanza) (3.17.3)\n",
            "Requirement already satisfied: requests in /usr/local/lib/python3.7/dist-packages (from stanza) (2.23.0)\n",
            "Requirement already satisfied: torch>=1.3.0 in /usr/local/lib/python3.7/dist-packages (from stanza) (1.9.0+cu111)\n",
            "Requirement already satisfied: six in /usr/local/lib/python3.7/dist-packages (from stanza) (1.15.0)\n",
            "Requirement already satisfied: numpy in /usr/local/lib/python3.7/dist-packages (from stanza) (1.19.5)\n",
            "Collecting emoji\n",
            "  Downloading emoji-1.6.1.tar.gz (170 kB)\n",
            "\u001b[K     |████████████████████████████████| 170 kB 52.5 MB/s \n",
            "\u001b[?25hRequirement already satisfied: typing-extensions in /usr/local/lib/python3.7/dist-packages (from torch>=1.3.0->stanza) (3.7.4.3)\n",
            "Requirement already satisfied: chardet<4,>=3.0.2 in /usr/local/lib/python3.7/dist-packages (from requests->stanza) (3.0.4)\n",
            "Requirement already satisfied: certifi>=2017.4.17 in /usr/local/lib/python3.7/dist-packages (from requests->stanza) (2021.5.30)\n",
            "Requirement already satisfied: urllib3!=1.25.0,!=1.25.1,<1.26,>=1.21.1 in /usr/local/lib/python3.7/dist-packages (from requests->stanza) (1.24.3)\n",
            "Requirement already satisfied: idna<3,>=2.5 in /usr/local/lib/python3.7/dist-packages (from requests->stanza) (2.10)\n",
            "Building wheels for collected packages: emoji\n",
            "  Building wheel for emoji (setup.py) ... \u001b[?25l\u001b[?25hdone\n",
            "  Created wheel for emoji: filename=emoji-1.6.1-py3-none-any.whl size=169314 sha256=6b6e954297af23a96893da96498f3eaa71e1bc4f72f0430d83a7ca76a6f8cebc\n",
            "  Stored in directory: /root/.cache/pip/wheels/ea/5f/d3/03d313ddb3c2a1a427bb4690f1621eea60fe6f2a30cc95940f\n",
            "Successfully built emoji\n",
            "Installing collected packages: emoji, stanza\n",
            "Successfully installed emoji-1.6.1 stanza-1.3.0\n"
          ]
        },
        {
          "output_type": "display_data",
          "data": {
            "application/vnd.jupyter.widget-view+json": {
              "model_id": "5de7addc6188422d898b8457ef480f6c",
              "version_minor": 0,
              "version_major": 2
            },
            "text/plain": [
              "Downloading https://raw.githubusercontent.com/stanfordnlp/stanza-resources/main/resources_1.3.0.json:   0%|   …"
            ]
          },
          "metadata": {}
        },
        {
          "output_type": "stream",
          "name": "stderr",
          "text": [
            "2021-10-29 18:51:02 INFO: Downloading default packages for language: pt (Portuguese)...\n"
          ]
        },
        {
          "output_type": "display_data",
          "data": {
            "application/vnd.jupyter.widget-view+json": {
              "model_id": "5356094b1c7d47808dc95846d9ae7ef4",
              "version_minor": 0,
              "version_major": 2
            },
            "text/plain": [
              "Downloading https://huggingface.co/stanfordnlp/stanza-pt/resolve/v1.3.0/models/default.zip:   0%|          | 0…"
            ]
          },
          "metadata": {}
        },
        {
          "output_type": "stream",
          "name": "stderr",
          "text": [
            "2021-10-29 18:51:09 INFO: Finished downloading models and saved to /root/stanza_resources.\n"
          ]
        }
      ]
    },
    {
      "cell_type": "code",
      "metadata": {
        "id": "wv6pYEhdodoi"
      },
      "source": [
        "# Sample corpus\n",
        "documents_corpus = [\n",
        "\"meio ambiente desenvolvimento sustentável natureza socioambientais ética ambiental árvores asfalto drenagem natural de água filtragem reutilização \\\n",
        "dos recursos hídricos fontes naturais de energia eólica e solar gases produzidos reciclagem.\"\n",
        ",\n",
        "\"Maria Celina Bodin de Moraes (Doutorado em direito civil, Università di Camerino, 1986) é Professora Titular de Direito Civil da Faculdade de \\\n",
        "Direito da Universidade do Estado do Rio de Janeiro (UERJ) e Professora Associada do Departamento de Direito da Pontifícia Universidade Católica do \\\n",
        "Rio de Janeiro (PUC-Rio). É ábitra e parecerista em Direito Privado e Editora-chefe da Civilistica.com - Revista Eletrônica de direito civil \\\n",
        "(Qualis A2). Foi diretora do Departamento de Direito da PUC-Rio e coordenadora da área do Direito da Faperj. Atua na área do direito privado, \\\n",
        "principalmente mediante a metodologia do direito civil constitucional. Os temas mais frequentes de sua produção científica são: princípios \\\n",
        "constitucionais da dignidade da pessoa humana e da solidariedade, aplicação direta da Constituição às relações privadas, proteção das pessoas \\\n",
        "vulneráveis, direitos da personalidade, relações familiares, contratos e responsabilidade civil.\"       \n",
        ",\n",
        "\"Possui graduação em Engenharia Mecânica pela Pontifícia Universidade Católica do Rio de Janeiro (1982), mestrado em Engenharia de Produção - \\\n",
        "Departamento de Engenharia Industrial (1996) e doutorado em Engenharia de Produção pela Pontifícia Universidade Católica do Rio de Janeiro (2005). \\\n",
        "O mestrado e doutorado foram ambos na área de Finanças e Análise de Investimentos. Foi Consultor Master da Controladoria - Petróleo Brasileiro - \\\n",
        "Rio de Janeiro - Matriz, onde trabalhou de 01/02/1983 até 05/12/2016. É Professor Adjunto do Departamento de Engenharia Elétrica - PUC-Rio, sendo \\\n",
        "pesquisador do Grupo de Sistemas de Apoio à Decisão - Laboratório de Inteligência Computacional Aplicada. É autor de dois livros texto (pós-graduação) \\\n",
        "de opções reais. É Corporate Advisor do Real Options Group. Ministrou cursos de opções reais na Petrobras de 1996 a 2016, além de cursos de teoria \\\n",
        "dos jogos e valor da informação até 2016. Lá ministrou outros cursos como de análise de risco em projetos, finanças corporativas e project finance. \\\n",
        "Na PUC-Rio ministra curso de opções reais desde 2005 e de jogos de opções reais desde 2006. Coordenou vários projetos de pesquisa entre a Petrobras \\\n",
        "e universidades (principalmente PUC-Rio, mas também FGV e Mines Paris Tech). Já foi orador principal em várias conferências internacionais. Já deu \\\n",
        "seminários de opções reais em instituições internacionais (como o MIT em 2002 e 2003) e entidades nacionais (como a Unicamp em 1998, UFRJ em 2003 e \\\n",
        "a Alliance e Fundação Dom Cabral em 2005). Criou o primeiro website dedicado a opções reais (na PUC em 1995). Desenvolveu várias aplicações \\\n",
        "(inclusive software) de opções reais na Petrobras, onde também implantou padrões de análise de risco, de análise de investimento em informação e \\\n",
        "outros. Tem experiência na área de Engenharia de Produção, com ênfase em Avaliação Econômica de Projetos, atuando principalmente nos seguintes temas: \\\n",
        "opções reais, análise de investimentos sob incertezas, jogos de opções reais, teoria dos jogos, exploração e produção de petróleo, valor da informação, \\\n",
        "análise de risco em projetos, análise de investimento em energia renovável, custo de capital de projetos e financiamento corporativo.\"\n",
        ",\n",
        "\"Doutora em Serviço Social (UERJ-2015). Mestre em Serviço Social (UFRJ -2010). Graduada em Serviço Social (UFRJ -1999). Possui experiência em \\\n",
        "diversas áreas do trabalho profissional do Serviço Social ( Empresa, AssistÊncia Social, Saúde, consultoria/assessoria). É docente e pesquisadora da \\\n",
        "Pontifícia Universidade Católica do Rio de Janeiro nos cursos de graduação e pós-graduação em Serviço Social, trabalhou em empresas multinacionais \\\n",
        "(Farmacêutica - GlaxoSmithKline e Telefonia celular- Claro), ONG (Obra Social do Rio de Janeiro), no setor público atuou na Prefeitura do Rio de \\\n",
        "Janeiro na condição de concursada. Autora do Livro Serviço Social e Consultoria Empresarial (2020), organizadora de coletâneas sobre trabalho, \\\n",
        "Serviço Social e Direitos Humanos.\"\n",
        ",\n",
        "\"Engenheiro Mecânico formado pela Universidade Federal do Rio de Janeiro (1980), MSc em Engenharia Mecânica pela Pontifícia Universidade Católica \\\n",
        "do Rio de Janeiro (1988) e PhD em Engenharia Mecânica - Tecnologia de Aerossóis pela University of Minnesota (1994), USA. Professor Associado do \\\n",
        "Departamento de Engenharia Mecânica da Pontifícia Universidade Católica do Rio de Janeiro, onde coordena o grupo de pesquisas multidisciplinar de \\\n",
        "Engenharia Ambiental - Poluição Atmosférica atuando nos seguintes temas: tecnologia de aerossóis e instrumentação, processos atmosféricos, \\\n",
        "biocombustíveis, controle da poluição (poluentes locais e gases de efeito estufa), captura e armazenamento geológico de carbono, desenvolvimento de \\\n",
        "sensores ambientais, e geração de energia através de resíduos sólidos urbanos (Waste to Energy, WTE). Engenheiro de Petróleo pela Petrobras (CEPET 81), \\\n",
        "onde atuou entre 1981-1985. Membro do IPCC - Intergovernmental Panel on Climate Change (entre 2004-2017), grupo de cientistas que recebeu o Prêmio Nobel\\\n",
        " da Paz em 2007.\"\n",
        ",\n",
        "\"Flávia de Almeida Viveiros de Castro é Juíza de Direito e Professora Convidada da EMERJ (Escola da Magistratura do Estado do Rio de Janeiro) ESAJ \\\n",
        "(Escola de Administração Judiciária do Tribunal de Justiça do Estado do Rio de Janeiro) e Fundação Getúlio Vargas - RJ; Possui Pós-Doutorado em \\\n",
        "Direitos Humanos pelo Instituto JUS GENTIUM da Faculdade de Direito de Coimbra (2017/18). É doutora em Direito o Civil-Constitucional pela Universidade \\\n",
        "de Direito do Estado do Rio de Janeiro(2006). Mestre em Direito pela Pontifícia Universidade Católica do Rio de Janeiro (1999); Mestre em Ciência \\\n",
        "Política (Ciência Política e Sociologia) pela Pontifícia Universidade Católica do Rio de Janeiro (1990); Possui curso de Especialização em direito \\\n",
        "português pelo Centro de Estudos Judiciários de Portugal (1997) e Especialização em Ciência Política, pelo Instituto Metodista Bennett (1985); Graduada \\\n",
        "em Direito e em Comunicação Social, especialidade Jornalismo pela Pontifícia Universidade Católica do Rio de Janeiro (1980 e 1990). É Juíza Titular da \\\n",
        "6ª Vara Cível Regional da Barra da Tijuca, tendo exercido a magistratura em varas de falência, fazenda pública, criminal, tribunal do júri, orfãos e \\\n",
        "sucessões e família. Já assumiu a função de Juíza Eleitoral na 175 Zona Eleitoral. Já exerceu a mesma função em Marechal Hermes, Bangu e Pavuna. Foi \\\n",
        "Juíza Corregedora - Auxiliar da Corregedora de Justiça em (1996);Exerce a docência como palestrante e professora convidada nas áreas de Direito Civil \\\n",
        "e Direito Tributário. Foi coordenadora acadêmica do Instituto de direito da Pontifícia Universidade Católica do Rio de Janeiro e coordenadora acadêmica \\\n",
        "dos cursos de pós-graduação em direito imobiliário, direito fiscal, direito empresarial, direito processual civil e direito da saúde do Instituto de \\\n",
        "Direito da PUC-RJ.\"\n",
        ",\n",
        "\"Vitor Nascimento Aguiar graduou-se em Engenharia Civil com ênfase em Mecânica dos Solos na Universidade Federal do Rio de Janeiro (UFRJ) em 2006. \\\n",
        "Concluiu o mestrado e o doutorado em Engenharia Civil (Geotecnia) pela COPPE/UFRJ em 2008 e 2014. Em suas pesquisas de mestrado e doutorado, investigou \\\n",
        "efeitos de tempo e de velocidade de deformação no adensamento e na resistência ao cisalhamento de argilas moles saturadas. Atuou por dez anos em \\\n",
        "projetos e consultorias de obras de infraestrutura na Mecasolo Engenharia e Consultoria. Realizou estágio de pós-doutorado no Norwegian Geotechnical \\\n",
        "Institute (NGI) de 2017 a 2018. Atualmente é professor do quadro principal do Departamento de Engenharia Civil e Ambiental da Pontifícia Universidade \\\n",
        "Católica do Rio de Janeiro (PUC-Rio), onde leciona a disciplina de Laboratório de Geotecnia na graduação e as disciplinas de Ensaios de Laboratório e \\\n",
        "Geotecnia Experimental na pós-graduação. Tem exercido o cargo de secretário executivo na Associação Brasileira de Mecânica dos Solos - Núcleo RJ.\"\n",
        "]"
      ],
      "execution_count": 3,
      "outputs": []
    },
    {
      "cell_type": "code",
      "metadata": {
        "colab": {
          "base_uri": "https://localhost:8080/"
        },
        "id": "oDGevMav4_9s",
        "outputId": "75c6087b-49ed-43e7-bf7a-df0ccabf91f4"
      },
      "source": [
        "# lemmatization for portuguese\n",
        "\n",
        "stnz = stanza.Pipeline('pt', use_gpu=False)\n",
        "\n",
        "# lemmas_df=pd.DataFrame(stnz(documents),columns=['documents'])\n",
        "\n",
        "# doc = stnz(documents_df['documents'][0])\n",
        "# for sent in doc.sentences: \n",
        "#  for word in sent.words:\n",
        "#    print(word.lemma)\n",
        "\n",
        "length = len(documents_corpus)\n",
        "documents_stnz = []\n",
        "documents = []\n",
        "for i in range(length):\n",
        "  documents_stnz.append(stnz(documents_corpus[i]))\n",
        "  documents.append('')\n",
        "  for sent in documents_stnz[i].sentences: \n",
        "    for word in sent.words:\n",
        "      documents[i] = documents[i] + \" \" + word.lemma\n",
        "\n",
        "# documents_df['documents']=documents_df['documents'].apply(lambda x: \" \".join(word.lemma for sent in stnz(documents_df).sentences for word in sent.words))\n",
        "\n",
        "# documents_df['documents'].apply(lambda x: \" \".join(str(word.lemma for sent in stnz(x).sentences for word in sent.words) for x in x.split()))"
      ],
      "execution_count": 7,
      "outputs": [
        {
          "output_type": "stream",
          "name": "stderr",
          "text": [
            "2021-10-29 18:54:22 INFO: Loading these models for language: pt (Portuguese):\n",
            "=======================\n",
            "| Processor | Package |\n",
            "-----------------------\n",
            "| tokenize  | bosque  |\n",
            "| mwt       | bosque  |\n",
            "| pos       | bosque  |\n",
            "| lemma     | bosque  |\n",
            "| depparse  | bosque  |\n",
            "=======================\n",
            "\n",
            "2021-10-29 18:54:22 INFO: Use device: cpu\n",
            "2021-10-29 18:54:22 INFO: Loading: tokenize\n",
            "2021-10-29 18:54:22 INFO: Loading: mwt\n",
            "2021-10-29 18:54:22 INFO: Loading: pos\n",
            "2021-10-29 18:54:23 INFO: Loading: lemma\n",
            "2021-10-29 18:54:23 INFO: Loading: depparse\n",
            "2021-10-29 18:54:23 INFO: Done loading processors!\n"
          ]
        }
      ]
    },
    {
      "cell_type": "code",
      "metadata": {
        "id": "hZNxg33Yodok"
      },
      "source": [
        "pd.set_option('display.max_colwidth', 0)\n",
        "pd.set_option('display.max_columns', 0)"
      ],
      "execution_count": 8,
      "outputs": []
    },
    {
      "cell_type": "code",
      "metadata": {
        "id": "4915Wqjiodon"
      },
      "source": [
        "documents_df=pd.DataFrame(documents,columns=['documents'])"
      ],
      "execution_count": 9,
      "outputs": []
    },
    {
      "cell_type": "markdown",
      "metadata": {
        "id": "obVfuYPFodop"
      },
      "source": [
        "### Corpus Dataframe"
      ]
    },
    {
      "cell_type": "code",
      "metadata": {
        "colab": {
          "base_uri": "https://localhost:8080/",
          "height": 998
        },
        "id": "r8QnxTXkodoq",
        "outputId": "29ad569a-7122-4eb8-df28-848f73299488"
      },
      "source": [
        "documents_df"
      ],
      "execution_count": 11,
      "outputs": [
        {
          "output_type": "execute_result",
          "data": {
            "text/html": [
              "<div>\n",
              "<style scoped>\n",
              "    .dataframe tbody tr th:only-of-type {\n",
              "        vertical-align: middle;\n",
              "    }\n",
              "\n",
              "    .dataframe tbody tr th {\n",
              "        vertical-align: top;\n",
              "    }\n",
              "\n",
              "    .dataframe thead th {\n",
              "        text-align: right;\n",
              "    }\n",
              "</style>\n",
              "<table border=\"1\" class=\"dataframe\">\n",
              "  <thead>\n",
              "    <tr style=\"text-align: right;\">\n",
              "      <th></th>\n",
              "      <th>documents</th>\n",
              "    </tr>\n",
              "  </thead>\n",
              "  <tbody>\n",
              "    <tr>\n",
              "      <th>0</th>\n",
              "      <td>meio ambiente desenvolvimento sustentável natureza socioambiental ético ambiental árvore asfalto drenagem natural de água filtragem reutilização de o recurso hídrico fonte natural de energia eólico e solar gase produzir reciclagem .</td>\n",
              "    </tr>\n",
              "    <tr>\n",
              "      <th>1</th>\n",
              "      <td>Maria Celina Bodin de Moraes ( Doutorado em direito civil , Università di Camerino , 1986 ) ser Professora Titular de Direito Civil de o Faculdade de Direito de o Universidade de o Estado de o Rio de Janeiro ( UERJ ) e Professora Associada de o Departamento de Direito de o Pontifícia Universidade Católica de o Rio de Janeiro ( PUC-Rio ) . ser ábitro e parecerista em Direito Privado e Editora-chefe de o Civilistica . com - revista Eletrônica de direito civil ( Qualis A2 ) . ser diretora de o Departamento de Direito de o PUC-Rio e coordenadora de o área de o Direito de o Faperj . atuar em o área de o direito privado , principalmente mediante o metodologia de o direito civil constitucional . o tema mais frequente de seu produção científico ser : princípio constitucional de o dignidade de o pessoa humano e de o solidariedade , aplicação direto de o constituição a o relação privado , proteção de o pessoa vulnerável , direito de o personalidade , relação familiar , contrato e responsabilidade civil .</td>\n",
              "    </tr>\n",
              "    <tr>\n",
              "      <th>2</th>\n",
              "      <td>possuir graduação em Engenharia Mecânica por o Pontifícia Universidade Católica de o Rio de Janeiro ( 1982 ) , mestrado em Engenharia de Produção - Departamento de Engenharia Industrial ( 1996 ) e doutorado em Engenharia de Produção por o Pontifícia Universidade Católica de o Rio de Janeiro ( 2005 ) . o mestrado e doutorado ser ambos em o área de Finanças e Análise de Investimentos . ser Consultor Master de o Controladoria - Petróleo Brasileiro - Rio de Janeiro - Matriz , onde trabalhar de 01/02/1983 até 05/12/2016 . ser Professor Adjunto de o Departamento de Engenharia Elétrica - PUC-Rio , ser pesquisador de o Grupo de Sistemas de Apoio a o decisão - Laboratório de Inteligência Computacional aplicar . ser autor de dois livro texto ( pós-graduação ) de opção real . ser Corporate Advisor de o Real Options Group . ministrar curso de opção real em o Petrobras de 1996 a 2016 , além de curso de teoria de o jogo e valor de o informação até 2016 . lá ministrar outro curso como de análise de risco em projeto , finanças corporativo e project finance . em o PUC-Rio ministra curso de opção real desde 2005 e de jogo de opção real desde 2006 . coordenar vários projeto de pesquisa entre o Petrobras e universidade ( principalmente PUC-Rio , mas também FGV e Mines Paris Tech ) . já ser orador principal em várias conferência internacional . já dar seminário de opção real em instituição internacional ( como o MIT em 2002 e 2003 ) e entidade nacional ( como o Unicamp em 1998 , UFRJ em 2003 e o Alliance e Fundação Dom Cabral em 2005 ) . criar o primeiro website dedicar a opção real ( em o PUC em 1995 ) . desenvolver várias aplicação ( inclusive software ) de opção real em o Petrobras , onde também implantar padrão de análise de risco , de análise de investimento em informação e outro . ter experiência em o área de Engenharia de Produção , com ênfase em Avaliação Econômica de Projetos , atuar principalmente em o seguinte tema : opção real , análise de investimento sob incerteza , jogo de opção real , teoria de o jogo , exploração e produção de petróleo , valor de o informação , análise de risco em projeto , análise de investimento em energia renovável , custo de capital de projeto e financiamento corporativo .</td>\n",
              "    </tr>\n",
              "    <tr>\n",
              "      <th>3</th>\n",
              "      <td>doutora em Serviço Social ( UERJ-2015 ) . mestre em Serviço Social ( UFRJ -2010 ) . graduar em Serviço Social ( UFRJ -1999 ) . possuir experiência em diversos área de o trabalho profissional de o Serviço Social ( Empresa , AssistÊncia Social , Saúde , consultoria / assessoria ) . ser docente e pesquisadora de o Pontifícia Universidade Católica de o Rio de Janeiro em o curso de graduação e pós-graduação em Serviço Social , trabalhar em empresa multinacional ( Farmacêutica - GlaxoSmithKline e Telefonia celular - Claro ) , ONG ( Obra Social de o Rio de Janeiro ) , em o setor público atuar em o Prefeitura de o Rio de Janeiro em o condição de concursar . autora de o Livro Serviço Social e Consultoria Empresarial ( 2020 ) , organizadora de coletânea sobre trabalho , Serviço Social e Direitos Humanos .</td>\n",
              "    </tr>\n",
              "    <tr>\n",
              "      <th>4</th>\n",
              "      <td>engenheiro mecânico formar por o Universidade Federal de o Rio de Janeiro ( 1980 ) , MSc em Engenharia Mecânica por o Pontifícia Universidade Católica de o Rio de Janeiro ( 1988 ) e PhD em Engenharia Mecânica - Tecnologia de Aerossóis por o University of Minnesota ( 1994 ) , USA . professor associado de o Departamento de Engenharia Mecânica de o Pontifícia Universidade Católica de o Rio de Janeiro , onde coordenar o grupo de pesquisa multidisciplinar de Engenharia Ambiental - Poluição Atmosférica atuar em o seguinte tema : tecnologia de aerossol e instrumentação , processo atmosférico , biocombustível , controle de o poluição ( poluente local e gase de efeito estufo ) , captura e armazenamento geológico de carbono , desenvolvimento de sensor ambiental , e geração de energia através de resíduo sólido urbano ( Waste to Energy , WTE ) . engenheiro de Petróleo por o Petrobras ( CEPET 81 ) , onde atuar entre 1981-1985 . membro de o IPCC - Intergovernmental Panel on Climate Change ( entre 2004-2017 ) , grupo de cientista que receber o Prêmio Nobel de o Paz em 2007 .</td>\n",
              "    </tr>\n",
              "    <tr>\n",
              "      <th>5</th>\n",
              "      <td>Flávia de Almeida Viveiros de Castro ser Juíza de Direito e Professora convidar de o EMERJ ( Escola de o Magistratura de o Estado de o Rio de Janeiro ) ESAJ ( Escola de Administração Judiciária de o Tribunal de Justiça de o Estado de o Rio de Janeiro ) e Fundação Getúlio Vargas - RJ ; possuir Pós-Doutorado em Direitos Humanos por o Instituto JUS Gentium de o Faculdade de Direito de Coimbra ( 2017/18 ) . ser doutora em Direito o Civil-Constitucional por o Universidade de Direito de o Estado de o Rio de Janeiro(2006 ) . mestre em direito por o Pontifícia Universidade Católica de o Rio de Janeiro ( 1999 ) ; Mestre em Ciência Política ( Ciência Política e Sociologia ) por o Pontifícia Universidade Católica de o Rio de Janeiro ( 1990 ) ; possuir curso de especialização em direito português por o Centro de Estudos Judiciários de Portugal ( 1997 ) e Especialização em Ciência Política , por o Instituto Metodista Bennett ( 1985 ) ; graduar em Direito e em Comunicação Social , especialidade Jornalismo por o Pontifícia Universidade Católica de o Rio de Janeiro ( 1980 e 1990 ) . ser Juíza Titular de o 6ª Vara Cível Regional de o Barra de o Tijuca , ter exercer o magistratura em vara de falência , fazenda público , criminal , tribunal de o júri , órfão e sucessão e família . já assumir o função de Juíza Eleitoral em o 175 Zona Eleitoral . já exercer o mesmo função em Marechal Hermes , Bangu e Pavuna . ser Juíza Corregedora - Auxiliar de o Corregedora de Justiça em ( 1996 ) ; exercer o docência como palestrante e professora convidar em o área de Direito Civil e Direito Tributário . ser coordenadora acadêmico de o Instituto de direito de o Pontifícia Universidade Católica de o Rio de Janeiro e coordenadora acadêmico de o curso de pós-graduação em direito imobiliário , direito fiscal , direito empresarial , direito processual civil e direito de o saúde de o Instituto de Direito de o PUC-RJ .</td>\n",
              "    </tr>\n",
              "    <tr>\n",
              "      <th>6</th>\n",
              "      <td>Vitor Nascimento Aguiar graduar se em Engenharia Civil com ênfase em Mecânica de o Solos em o Universidade Federal de o Rio de Janeiro ( UFRJ ) em 2006 . concluir o mestrado e o doutorado em Engenharia Civil ( Geotecnia ) por o COPPE/UFRJ em 2008 e 2014 . em seu pesquisa de mestrado e doutorado , investigar efeito de tempo e de velocidade de deformação em o adensamento e em o resistência a o cisalhamento de argila mole saturar . atuar por dez ano em projeto e consultoria de obra de infraestrutura em o Mecasolo Engenharia e Consultoria . realizar estágio de pós-doutorado em o Norwegian Geotechnical Institute ( NGI ) de 2017 a 2018 . atualmente ser professor de o quadro principal de o Departamento de Engenharia Civil e Ambiental de o Pontifícia Universidade Católica de o Rio de Janeiro ( PUC-Rio ) , onde lecionar o disciplina de Laboratório de Geotecnia em o graduação e o disciplina de Ensaios de Laboratório e Geotecnia Experimental em o pós-graduação . ter exercer o cargo de secretário executivo em o Associação Brasileira de Mecânica de o Solos - Núcleo RJ .</td>\n",
              "    </tr>\n",
              "  </tbody>\n",
              "</table>\n",
              "</div>"
            ],
            "text/plain": [
              "                                                                                                                                                                                                                                                                                                                                                                                                                                                                                                                                                                                                                                                                                                                                                                                                                                                                                                                                                                                                                                                                                                                                                                                                                                                                                                                                                                                                                                                                                                                                                                                                                                                                                                                                                                                                                                                                                                                                                                                                                                                                                                                                                                                                                                                                                                               documents\n",
              "0   meio ambiente desenvolvimento sustentável natureza socioambiental ético ambiental árvore asfalto drenagem natural de água filtragem reutilização de o recurso hídrico fonte natural de energia eólico e solar gase produzir reciclagem .                                                                                                                                                                                                                                                                                                                                                                                                                                                                                                                                                                                                                                                                                                                                                                                                                                                                                                                                                                                                                                                                                                                                                                                                                                                                                                                                                                                                                                                                                                                                                                                                                                                                                                                                                                                                                                                                                                                                                                                                                                                                            \n",
              "1   Maria Celina Bodin de Moraes ( Doutorado em direito civil , Università di Camerino , 1986 ) ser Professora Titular de Direito Civil de o Faculdade de Direito de o Universidade de o Estado de o Rio de Janeiro ( UERJ ) e Professora Associada de o Departamento de Direito de o Pontifícia Universidade Católica de o Rio de Janeiro ( PUC-Rio ) . ser ábitro e parecerista em Direito Privado e Editora-chefe de o Civilistica . com - revista Eletrônica de direito civil ( Qualis A2 ) . ser diretora de o Departamento de Direito de o PUC-Rio e coordenadora de o área de o Direito de o Faperj . atuar em o área de o direito privado , principalmente mediante o metodologia de o direito civil constitucional . o tema mais frequente de seu produção científico ser : princípio constitucional de o dignidade de o pessoa humano e de o solidariedade , aplicação direto de o constituição a o relação privado , proteção de o pessoa vulnerável , direito de o personalidade , relação familiar , contrato e responsabilidade civil .                                                                                                                                                                                                                                                                                                                                                                                                                                                                                                                                                                                                                                                                                                                                                                                                                                                                                                                                                                                                                                                                                                                                                                                                                                                                   \n",
              "2   possuir graduação em Engenharia Mecânica por o Pontifícia Universidade Católica de o Rio de Janeiro ( 1982 ) , mestrado em Engenharia de Produção - Departamento de Engenharia Industrial ( 1996 ) e doutorado em Engenharia de Produção por o Pontifícia Universidade Católica de o Rio de Janeiro ( 2005 ) . o mestrado e doutorado ser ambos em o área de Finanças e Análise de Investimentos . ser Consultor Master de o Controladoria - Petróleo Brasileiro - Rio de Janeiro - Matriz , onde trabalhar de 01/02/1983 até 05/12/2016 . ser Professor Adjunto de o Departamento de Engenharia Elétrica - PUC-Rio , ser pesquisador de o Grupo de Sistemas de Apoio a o decisão - Laboratório de Inteligência Computacional aplicar . ser autor de dois livro texto ( pós-graduação ) de opção real . ser Corporate Advisor de o Real Options Group . ministrar curso de opção real em o Petrobras de 1996 a 2016 , além de curso de teoria de o jogo e valor de o informação até 2016 . lá ministrar outro curso como de análise de risco em projeto , finanças corporativo e project finance . em o PUC-Rio ministra curso de opção real desde 2005 e de jogo de opção real desde 2006 . coordenar vários projeto de pesquisa entre o Petrobras e universidade ( principalmente PUC-Rio , mas também FGV e Mines Paris Tech ) . já ser orador principal em várias conferência internacional . já dar seminário de opção real em instituição internacional ( como o MIT em 2002 e 2003 ) e entidade nacional ( como o Unicamp em 1998 , UFRJ em 2003 e o Alliance e Fundação Dom Cabral em 2005 ) . criar o primeiro website dedicar a opção real ( em o PUC em 1995 ) . desenvolver várias aplicação ( inclusive software ) de opção real em o Petrobras , onde também implantar padrão de análise de risco , de análise de investimento em informação e outro . ter experiência em o área de Engenharia de Produção , com ênfase em Avaliação Econômica de Projetos , atuar principalmente em o seguinte tema : opção real , análise de investimento sob incerteza , jogo de opção real , teoria de o jogo , exploração e produção de petróleo , valor de o informação , análise de risco em projeto , análise de investimento em energia renovável , custo de capital de projeto e financiamento corporativo .\n",
              "3   doutora em Serviço Social ( UERJ-2015 ) . mestre em Serviço Social ( UFRJ -2010 ) . graduar em Serviço Social ( UFRJ -1999 ) . possuir experiência em diversos área de o trabalho profissional de o Serviço Social ( Empresa , AssistÊncia Social , Saúde , consultoria / assessoria ) . ser docente e pesquisadora de o Pontifícia Universidade Católica de o Rio de Janeiro em o curso de graduação e pós-graduação em Serviço Social , trabalhar em empresa multinacional ( Farmacêutica - GlaxoSmithKline e Telefonia celular - Claro ) , ONG ( Obra Social de o Rio de Janeiro ) , em o setor público atuar em o Prefeitura de o Rio de Janeiro em o condição de concursar . autora de o Livro Serviço Social e Consultoria Empresarial ( 2020 ) , organizadora de coletânea sobre trabalho , Serviço Social e Direitos Humanos .                                                                                                                                                                                                                                                                                                                                                                                                                                                                                                                                                                                                                                                                                                                                                                                                                                                                                                                                                                                                                                                                                                                                                                                                                                                                                                                                                                                                                                                                              \n",
              "4   engenheiro mecânico formar por o Universidade Federal de o Rio de Janeiro ( 1980 ) , MSc em Engenharia Mecânica por o Pontifícia Universidade Católica de o Rio de Janeiro ( 1988 ) e PhD em Engenharia Mecânica - Tecnologia de Aerossóis por o University of Minnesota ( 1994 ) , USA . professor associado de o Departamento de Engenharia Mecânica de o Pontifícia Universidade Católica de o Rio de Janeiro , onde coordenar o grupo de pesquisa multidisciplinar de Engenharia Ambiental - Poluição Atmosférica atuar em o seguinte tema : tecnologia de aerossol e instrumentação , processo atmosférico , biocombustível , controle de o poluição ( poluente local e gase de efeito estufo ) , captura e armazenamento geológico de carbono , desenvolvimento de sensor ambiental , e geração de energia através de resíduo sólido urbano ( Waste to Energy , WTE ) . engenheiro de Petróleo por o Petrobras ( CEPET 81 ) , onde atuar entre 1981-1985 . membro de o IPCC - Intergovernmental Panel on Climate Change ( entre 2004-2017 ) , grupo de cientista que receber o Prêmio Nobel de o Paz em 2007 .                                                                                                                                                                                                                                                                                                                                                                                                                                                                                                                                                                                                                                                                                                                                                                                                                                                                                                                                                                                                                                                                                                                                                                                                \n",
              "5   Flávia de Almeida Viveiros de Castro ser Juíza de Direito e Professora convidar de o EMERJ ( Escola de o Magistratura de o Estado de o Rio de Janeiro ) ESAJ ( Escola de Administração Judiciária de o Tribunal de Justiça de o Estado de o Rio de Janeiro ) e Fundação Getúlio Vargas - RJ ; possuir Pós-Doutorado em Direitos Humanos por o Instituto JUS Gentium de o Faculdade de Direito de Coimbra ( 2017/18 ) . ser doutora em Direito o Civil-Constitucional por o Universidade de Direito de o Estado de o Rio de Janeiro(2006 ) . mestre em direito por o Pontifícia Universidade Católica de o Rio de Janeiro ( 1999 ) ; Mestre em Ciência Política ( Ciência Política e Sociologia ) por o Pontifícia Universidade Católica de o Rio de Janeiro ( 1990 ) ; possuir curso de especialização em direito português por o Centro de Estudos Judiciários de Portugal ( 1997 ) e Especialização em Ciência Política , por o Instituto Metodista Bennett ( 1985 ) ; graduar em Direito e em Comunicação Social , especialidade Jornalismo por o Pontifícia Universidade Católica de o Rio de Janeiro ( 1980 e 1990 ) . ser Juíza Titular de o 6ª Vara Cível Regional de o Barra de o Tijuca , ter exercer o magistratura em vara de falência , fazenda público , criminal , tribunal de o júri , órfão e sucessão e família . já assumir o função de Juíza Eleitoral em o 175 Zona Eleitoral . já exercer o mesmo função em Marechal Hermes , Bangu e Pavuna . ser Juíza Corregedora - Auxiliar de o Corregedora de Justiça em ( 1996 ) ; exercer o docência como palestrante e professora convidar em o área de Direito Civil e Direito Tributário . ser coordenadora acadêmico de o Instituto de direito de o Pontifícia Universidade Católica de o Rio de Janeiro e coordenadora acadêmico de o curso de pós-graduação em direito imobiliário , direito fiscal , direito empresarial , direito processual civil e direito de o saúde de o Instituto de Direito de o PUC-RJ .                                                                                                                                                                                                                                                                                                                                \n",
              "6   Vitor Nascimento Aguiar graduar se em Engenharia Civil com ênfase em Mecânica de o Solos em o Universidade Federal de o Rio de Janeiro ( UFRJ ) em 2006 . concluir o mestrado e o doutorado em Engenharia Civil ( Geotecnia ) por o COPPE/UFRJ em 2008 e 2014 . em seu pesquisa de mestrado e doutorado , investigar efeito de tempo e de velocidade de deformação em o adensamento e em o resistência a o cisalhamento de argila mole saturar . atuar por dez ano em projeto e consultoria de obra de infraestrutura em o Mecasolo Engenharia e Consultoria . realizar estágio de pós-doutorado em o Norwegian Geotechnical Institute ( NGI ) de 2017 a 2018 . atualmente ser professor de o quadro principal de o Departamento de Engenharia Civil e Ambiental de o Pontifícia Universidade Católica de o Rio de Janeiro ( PUC-Rio ) , onde lecionar o disciplina de Laboratório de Geotecnia em o graduação e o disciplina de Ensaios de Laboratório e Geotecnia Experimental em o pós-graduação . ter exercer o cargo de secretário executivo em o Associação Brasileira de Mecânica de o Solos - Núcleo RJ .                                                                                                                                                                                                                                                                                                                                                                                                                                                                                                                                                                                                                                                                                                                                                                                                                                                                                                                                                                                                                                                                                                                                                                                                   "
            ]
          },
          "metadata": {},
          "execution_count": 11
        }
      ]
    },
    {
      "cell_type": "code",
      "metadata": {
        "id": "Cgea0X8Nodot"
      },
      "source": [
        "# removing special characters and stop words from the text\n",
        "stop = stopwords.words('portuguese')\n",
        "# stop.extend(['puc-rio', 'puc', 'rio', 'janeiro', 'pontificia', 'universidade', 'catolica'])\n",
        "documents_df['documents']=documents_df['documents'].apply(lambda x: \" \".join(normalize('NFD', x).encode('ascii', 'ignore').decode(\"utf-8\").lower() for x in x.split() if x not in stop ))\n",
        "documents_df['documents'] = documents_df['documents'].apply(lambda x: \" \".join(re.sub('[^a-zA-Z \\n]', ' ', x).lower() for x in x.split()))\n",
        "# documents_df['documents'] = documents_df['documents'].apply(lambda x: \" \".join(Word(x).lemmatize() for x in x.split() if x not in stop))"
      ],
      "execution_count": 12,
      "outputs": []
    },
    {
      "cell_type": "code",
      "metadata": {
        "colab": {
          "base_uri": "https://localhost:8080/",
          "height": 807
        },
        "id": "fMj8I122bcmH",
        "outputId": "fcd44ed1-6440-4732-bfa4-f90c7ceec1c3"
      },
      "source": [
        "documents_df"
      ],
      "execution_count": 13,
      "outputs": [
        {
          "output_type": "execute_result",
          "data": {
            "text/html": [
              "<div>\n",
              "<style scoped>\n",
              "    .dataframe tbody tr th:only-of-type {\n",
              "        vertical-align: middle;\n",
              "    }\n",
              "\n",
              "    .dataframe tbody tr th {\n",
              "        vertical-align: top;\n",
              "    }\n",
              "\n",
              "    .dataframe thead th {\n",
              "        text-align: right;\n",
              "    }\n",
              "</style>\n",
              "<table border=\"1\" class=\"dataframe\">\n",
              "  <thead>\n",
              "    <tr style=\"text-align: right;\">\n",
              "      <th></th>\n",
              "      <th>documents</th>\n",
              "    </tr>\n",
              "  </thead>\n",
              "  <tbody>\n",
              "    <tr>\n",
              "      <th>0</th>\n",
              "      <td>meio ambiente desenvolvimento sustentavel natureza socioambiental etico ambiental arvore asfalto drenagem natural agua filtragem reutilizacao recurso hidrico fonte natural energia eolico solar gase produzir reciclagem</td>\n",
              "    </tr>\n",
              "    <tr>\n",
              "      <th>1</th>\n",
              "      <td>maria celina bodin moraes   doutorado direito civil   universita di camerino          ser professora titular direito civil faculdade direito universidade estado rio janeiro   uerj   professora associada departamento direito pontificia universidade catolica rio janeiro   puc rio     ser abitro parecerista direito privado editora chefe civilistica     revista eletronica direito civil   qualis a      ser diretora departamento direito puc rio coordenadora area direito faperj   atuar area direito privado   principalmente mediante metodologia direito civil constitucional   tema frequente producao cientifico ser   principio constitucional dignidade pessoa humano solidariedade   aplicacao direto constituicao relacao privado   protecao pessoa vulneravel   direito personalidade   relacao familiar   contrato responsabilidade civil</td>\n",
              "    </tr>\n",
              "    <tr>\n",
              "      <th>2</th>\n",
              "      <td>possuir graduacao engenharia mecanica pontificia universidade catolica rio janeiro            mestrado engenharia producao   departamento engenharia industrial          doutorado engenharia producao pontificia universidade catolica rio janeiro            mestrado doutorado ser ambos area financas analise investimentos   ser consultor master controladoria   petroleo brasileiro   rio janeiro   matriz   onde trabalhar                         ser professor adjunto departamento engenharia eletrica   puc rio   ser pesquisador grupo sistemas apoio decisao   laboratorio inteligencia computacional aplicar   ser autor dois livro texto   pos graduacao   opcao real   ser corporate advisor real options group   ministrar curso opcao real petrobras             alem curso teoria jogo valor informacao        la ministrar outro curso analise risco projeto   financas corporativo project finance   puc rio ministra curso opcao real desde      jogo opcao real desde        coordenar varios projeto pesquisa petrobras universidade   principalmente puc rio   fgv mines paris tech     ser orador principal varias conferencia internacional   dar seminario opcao real instituicao internacional   mit             entidade nacional   unicamp        ufrj      alliance fundacao dom cabral          criar primeiro website dedicar opcao real   puc          desenvolver varias aplicacao   inclusive software   opcao real petrobras   onde implantar padrao analise risco   analise investimento informacao outro   ter experiencia area engenharia producao   enfase avaliacao economica projetos   atuar principalmente seguinte tema   opcao real   analise investimento sob incerteza   jogo opcao real   teoria jogo   exploracao producao petroleo   valor informacao   analise risco projeto   analise investimento energia renovavel   custo capital projeto financiamento corporativo</td>\n",
              "    </tr>\n",
              "    <tr>\n",
              "      <th>3</th>\n",
              "      <td>doutora servico social   uerj          mestre servico social   ufrj           graduar servico social   ufrj           possuir experiencia diversos area trabalho profissional servico social   empresa   assistencia social   saude   consultoria   assessoria     ser docente pesquisadora pontificia universidade catolica rio janeiro curso graduacao pos graduacao servico social   trabalhar empresa multinacional   farmaceutica   glaxosmithkline telefonia celular   claro     ong   obra social rio janeiro     setor publico atuar prefeitura rio janeiro condicao concursar   autora livro servico social consultoria empresarial            organizadora coletanea sobre trabalho   servico social direitos humanos</td>\n",
              "    </tr>\n",
              "    <tr>\n",
              "      <th>4</th>\n",
              "      <td>engenheiro mecanico formar universidade federal rio janeiro            msc engenharia mecanica pontificia universidade catolica rio janeiro          phd engenharia mecanica   tecnologia aerossois university of minnesota            usa   professor associado departamento engenharia mecanica pontificia universidade catolica rio janeiro   onde coordenar grupo pesquisa multidisciplinar engenharia ambiental   poluicao atmosferica atuar seguinte tema   tecnologia aerossol instrumentacao   processo atmosferico   biocombustivel   controle poluicao   poluente local gase efeito estufo     captura armazenamento geologico carbono   desenvolvimento sensor ambiental   geracao energia atraves residuo solido urbano   waste to energy   wte     engenheiro petroleo petrobras   cepet        onde atuar             membro ipcc   intergovernmental panel on climate change                 grupo cientista receber premio nobel paz</td>\n",
              "    </tr>\n",
              "    <tr>\n",
              "      <th>5</th>\n",
              "      <td>flavia almeida viveiros castro ser juiza direito professora convidar emerj   escola magistratura estado rio janeiro   esaj   escola administracao judiciaria tribunal justica estado rio janeiro   fundacao getulio vargas   rj   possuir pos doutorado direitos humanos instituto jus gentium faculdade direito coimbra               ser doutora direito civil constitucional universidade direito estado rio janeiro          mestre direito pontificia universidade catolica rio janeiro            mestre ciencia politica   ciencia politica sociologia   pontificia universidade catolica rio janeiro            possuir curso especializacao direito portugues centro estudos judiciarios portugal          especializacao ciencia politica   instituto metodista bennett            graduar direito comunicacao social   especialidade jornalismo pontificia universidade catolica rio janeiro                 ser juiza titular   vara civel regional barra tijuca   ter exercer magistratura vara falencia   fazenda publico   criminal   tribunal juri   orfao sucessao familia   assumir funcao juiza eleitoral     zona eleitoral   exercer funcao marechal hermes   bangu pavuna   ser juiza corregedora   auxiliar corregedora justica            exercer docencia palestrante professora convidar area direito civil direito tributario   ser coordenadora academico instituto direito pontificia universidade catolica rio janeiro coordenadora academico curso pos graduacao direito imobiliario   direito fiscal   direito empresarial   direito processual civil direito saude instituto direito puc rj</td>\n",
              "    </tr>\n",
              "    <tr>\n",
              "      <th>6</th>\n",
              "      <td>vitor nascimento aguiar graduar engenharia civil enfase mecanica solos universidade federal rio janeiro   ufrj          concluir mestrado doutorado engenharia civil   geotecnia   coppe ufrj             pesquisa mestrado doutorado   investigar efeito tempo velocidade deformacao adensamento resistencia cisalhamento argila mole saturar   atuar dez ano projeto consultoria obra infraestrutura mecasolo engenharia consultoria   realizar estagio pos doutorado norwegian geotechnical institute   ngi               atualmente ser professor quadro principal departamento engenharia civil ambiental pontificia universidade catolica rio janeiro   puc rio     onde lecionar disciplina laboratorio geotecnia graduacao disciplina ensaios laboratorio geotecnia experimental pos graduacao   ter exercer cargo secretario executivo associacao brasileira mecanica solos   nucleo rj</td>\n",
              "    </tr>\n",
              "  </tbody>\n",
              "</table>\n",
              "</div>"
            ],
            "text/plain": [
              "                                                                                                                                                                                                                                                                                                                                                                                                                                                                                                                                                                                                                                                                                                                                                                                                                                                                                                                                                                                                                                                                                                                                                                                                                                                                                                                                                                                                                                                                                                                                                                                                                                                                                                                                                                                                                                                                                                                          documents\n",
              "0  meio ambiente desenvolvimento sustentavel natureza socioambiental etico ambiental arvore asfalto drenagem natural agua filtragem reutilizacao recurso hidrico fonte natural energia eolico solar gase produzir reciclagem                                                                                                                                                                                                                                                                                                                                                                                                                                                                                                                                                                                                                                                                                                                                                                                                                                                                                                                                                                                                                                                                                                                                                                                                                                                                                                                                                                                                                                                                                                                                                                                                                                                                                                       \n",
              "1  maria celina bodin moraes   doutorado direito civil   universita di camerino          ser professora titular direito civil faculdade direito universidade estado rio janeiro   uerj   professora associada departamento direito pontificia universidade catolica rio janeiro   puc rio     ser abitro parecerista direito privado editora chefe civilistica     revista eletronica direito civil   qualis a      ser diretora departamento direito puc rio coordenadora area direito faperj   atuar area direito privado   principalmente mediante metodologia direito civil constitucional   tema frequente producao cientifico ser   principio constitucional dignidade pessoa humano solidariedade   aplicacao direto constituicao relacao privado   protecao pessoa vulneravel   direito personalidade   relacao familiar   contrato responsabilidade civil                                                                                                                                                                                                                                                                                                                                                                                                                                                                                                                                                                                                                                                                                                                                                                                                                                                                                                                                                                                                                                                                 \n",
              "2  possuir graduacao engenharia mecanica pontificia universidade catolica rio janeiro            mestrado engenharia producao   departamento engenharia industrial          doutorado engenharia producao pontificia universidade catolica rio janeiro            mestrado doutorado ser ambos area financas analise investimentos   ser consultor master controladoria   petroleo brasileiro   rio janeiro   matriz   onde trabalhar                         ser professor adjunto departamento engenharia eletrica   puc rio   ser pesquisador grupo sistemas apoio decisao   laboratorio inteligencia computacional aplicar   ser autor dois livro texto   pos graduacao   opcao real   ser corporate advisor real options group   ministrar curso opcao real petrobras             alem curso teoria jogo valor informacao        la ministrar outro curso analise risco projeto   financas corporativo project finance   puc rio ministra curso opcao real desde      jogo opcao real desde        coordenar varios projeto pesquisa petrobras universidade   principalmente puc rio   fgv mines paris tech     ser orador principal varias conferencia internacional   dar seminario opcao real instituicao internacional   mit             entidade nacional   unicamp        ufrj      alliance fundacao dom cabral          criar primeiro website dedicar opcao real   puc          desenvolver varias aplicacao   inclusive software   opcao real petrobras   onde implantar padrao analise risco   analise investimento informacao outro   ter experiencia area engenharia producao   enfase avaliacao economica projetos   atuar principalmente seguinte tema   opcao real   analise investimento sob incerteza   jogo opcao real   teoria jogo   exploracao producao petroleo   valor informacao   analise risco projeto   analise investimento energia renovavel   custo capital projeto financiamento corporativo  \n",
              "3  doutora servico social   uerj          mestre servico social   ufrj           graduar servico social   ufrj           possuir experiencia diversos area trabalho profissional servico social   empresa   assistencia social   saude   consultoria   assessoria     ser docente pesquisadora pontificia universidade catolica rio janeiro curso graduacao pos graduacao servico social   trabalhar empresa multinacional   farmaceutica   glaxosmithkline telefonia celular   claro     ong   obra social rio janeiro     setor publico atuar prefeitura rio janeiro condicao concursar   autora livro servico social consultoria empresarial            organizadora coletanea sobre trabalho   servico social direitos humanos                                                                                                                                                                                                                                                                                                                                                                                                                                                                                                                                                                                                                                                                                                                                                                                                                                                                                                                                                                                                                                                                                                                                                                                                 \n",
              "4  engenheiro mecanico formar universidade federal rio janeiro            msc engenharia mecanica pontificia universidade catolica rio janeiro          phd engenharia mecanica   tecnologia aerossois university of minnesota            usa   professor associado departamento engenharia mecanica pontificia universidade catolica rio janeiro   onde coordenar grupo pesquisa multidisciplinar engenharia ambiental   poluicao atmosferica atuar seguinte tema   tecnologia aerossol instrumentacao   processo atmosferico   biocombustivel   controle poluicao   poluente local gase efeito estufo     captura armazenamento geologico carbono   desenvolvimento sensor ambiental   geracao energia atraves residuo solido urbano   waste to energy   wte     engenheiro petroleo petrobras   cepet        onde atuar             membro ipcc   intergovernmental panel on climate change                 grupo cientista receber premio nobel paz                                                                                                                                                                                                                                                                                                                                                                                                                                                                                                                                                                                                                                                                                                                                                                                                                                                                                                                                                                            \n",
              "5  flavia almeida viveiros castro ser juiza direito professora convidar emerj   escola magistratura estado rio janeiro   esaj   escola administracao judiciaria tribunal justica estado rio janeiro   fundacao getulio vargas   rj   possuir pos doutorado direitos humanos instituto jus gentium faculdade direito coimbra               ser doutora direito civil constitucional universidade direito estado rio janeiro          mestre direito pontificia universidade catolica rio janeiro            mestre ciencia politica   ciencia politica sociologia   pontificia universidade catolica rio janeiro            possuir curso especializacao direito portugues centro estudos judiciarios portugal          especializacao ciencia politica   instituto metodista bennett            graduar direito comunicacao social   especialidade jornalismo pontificia universidade catolica rio janeiro                 ser juiza titular   vara civel regional barra tijuca   ter exercer magistratura vara falencia   fazenda publico   criminal   tribunal juri   orfao sucessao familia   assumir funcao juiza eleitoral     zona eleitoral   exercer funcao marechal hermes   bangu pavuna   ser juiza corregedora   auxiliar corregedora justica            exercer docencia palestrante professora convidar area direito civil direito tributario   ser coordenadora academico instituto direito pontificia universidade catolica rio janeiro coordenadora academico curso pos graduacao direito imobiliario   direito fiscal   direito empresarial   direito processual civil direito saude instituto direito puc rj                                                                                                                                                                                                                                                                                                    \n",
              "6  vitor nascimento aguiar graduar engenharia civil enfase mecanica solos universidade federal rio janeiro   ufrj          concluir mestrado doutorado engenharia civil   geotecnia   coppe ufrj             pesquisa mestrado doutorado   investigar efeito tempo velocidade deformacao adensamento resistencia cisalhamento argila mole saturar   atuar dez ano projeto consultoria obra infraestrutura mecasolo engenharia consultoria   realizar estagio pos doutorado norwegian geotechnical institute   ngi               atualmente ser professor quadro principal departamento engenharia civil ambiental pontificia universidade catolica rio janeiro   puc rio     onde lecionar disciplina laboratorio geotecnia graduacao disciplina ensaios laboratorio geotecnia experimental pos graduacao   ter exercer cargo secretario executivo associacao brasileira mecanica solos   nucleo rj                                                                                                                                                                                                                                                                                                                                                                                                                                                                                                                                                                                                                                                                                                                                                                                                                                                                                                                                                                                                                                "
            ]
          },
          "metadata": {},
          "execution_count": 13
        }
      ]
    },
    {
      "cell_type": "markdown",
      "metadata": {
        "id": "M6cklpWTodow"
      },
      "source": [
        "#### Tf-idf vectors"
      ]
    },
    {
      "cell_type": "markdown",
      "metadata": {
        "id": "8-G2ZRAZTxch"
      },
      "source": [
        "TfidfVectorizer: Convert a collection of raw documents to a matrix of TF-IDF features. Equivalent to CountVectorizer followed by TfidfTransformer."
      ]
    },
    {
      "cell_type": "code",
      "metadata": {
        "id": "zXaJKxWIT7ao"
      },
      "source": [
        "tfidfvectoriser=TfidfVectorizer(max_features=128)\n",
        "tfidfvectoriser.fit(documents_df['documents'])\n",
        "tfidf_vectors=tfidfvectoriser.transform(documents_df['documents'])"
      ],
      "execution_count": 14,
      "outputs": []
    },
    {
      "cell_type": "code",
      "metadata": {
        "colab": {
          "base_uri": "https://localhost:8080/"
        },
        "id": "uHOrtNQQodoz",
        "outputId": "e9ba7fd7-fc5d-42e6-a926-6e616ff9484f"
      },
      "source": [
        "tfidf_vectors.shape"
      ],
      "execution_count": 15,
      "outputs": [
        {
          "output_type": "execute_result",
          "data": {
            "text/plain": [
              "(7, 128)"
            ]
          },
          "metadata": {},
          "execution_count": 15
        }
      ]
    },
    {
      "cell_type": "code",
      "metadata": {
        "colab": {
          "base_uri": "https://localhost:8080/"
        },
        "id": "7xCyYJNAuaSz",
        "outputId": "89e7ee47-6bfa-4074-a675-436c8d682878"
      },
      "source": [
        "# Every vector is already normalised to have unit L2 norm\n",
        "np.linalg.norm(tfidf_vectors.toarray()[0],ord=2)"
      ],
      "execution_count": 16,
      "outputs": [
        {
          "output_type": "execute_result",
          "data": {
            "text/plain": [
              "1.0"
            ]
          },
          "metadata": {},
          "execution_count": 16
        }
      ]
    },
    {
      "cell_type": "code",
      "metadata": {
        "colab": {
          "base_uri": "https://localhost:8080/"
        },
        "id": "0ZfJLWirodo2",
        "outputId": "9782290c-1276-439d-f391-fd5ca1b6d90a"
      },
      "source": [
        "tfidf_vectors=tfidf_vectors.toarray()\n",
        "print (tfidf_vectors[0])"
      ],
      "execution_count": 17,
      "outputs": [
        {
          "output_type": "stream",
          "name": "stdout",
          "text": [
            "[0.         0.26109401 0.         0.         0.         0.\n",
            " 0.         0.         0.         0.         0.         0.\n",
            " 0.         0.         0.         0.         0.         0.\n",
            " 0.         0.3054564  0.         0.         0.         0.\n",
            " 0.         0.         0.         0.         0.         0.26109401\n",
            " 0.         0.         0.         0.         0.         0.\n",
            " 0.         0.         0.         0.         0.         0.\n",
            " 0.         0.3054564  0.         0.         0.         0.\n",
            " 0.         0.         0.         0.         0.         0.\n",
            " 0.         0.         0.         0.         0.         0.\n",
            " 0.         0.         0.         0.         0.         0.\n",
            " 0.73596337 0.36798169 0.         0.         0.         0.\n",
            " 0.         0.         0.         0.         0.         0.\n",
            " 0.         0.         0.         0.         0.         0.\n",
            " 0.         0.         0.         0.         0.         0.\n",
            " 0.         0.         0.         0.         0.         0.\n",
            " 0.         0.         0.         0.         0.         0.\n",
            " 0.         0.         0.         0.         0.         0.\n",
            " 0.         0.         0.         0.         0.         0.\n",
            " 0.         0.         0.         0.         0.         0.\n",
            " 0.         0.         0.         0.         0.         0.\n",
            " 0.         0.        ]\n"
          ]
        }
      ]
    },
    {
      "cell_type": "markdown",
      "metadata": {
        "id": "xvB33Dg6odo4"
      },
      "source": [
        "##### Every document has been converted into a 64 dimensional vector. As we set the max_features=64"
      ]
    },
    {
      "cell_type": "markdown",
      "metadata": {
        "id": "GguRnIYsodo4"
      },
      "source": [
        "### Pairwise similarity\n",
        "\n",
        "##### Pairwise cosine similarity would just be the dot product of the vectors becasue tf-idf vectors from sklearn are already normalized and L2 norm of these vectors is 1. So denominator of cosine similiarity formula is 1 in this case."
      ]
    },
    {
      "cell_type": "code",
      "metadata": {
        "id": "1GFWHXK1odo5"
      },
      "source": [
        "pairwise_similarities=np.dot(tfidf_vectors,tfidf_vectors.T)\n",
        "pairwise_differences=euclidean_distances(tfidf_vectors)"
      ],
      "execution_count": 18,
      "outputs": []
    },
    {
      "cell_type": "code",
      "metadata": {
        "colab": {
          "base_uri": "https://localhost:8080/"
        },
        "id": "zOFiIAfRodo7",
        "outputId": "44e20bf2-a1ec-439a-cd81-545cd8c84925"
      },
      "source": [
        "print (tfidf_vectors[0])\n",
        "print (pairwise_similarities.shape)\n",
        "print (pairwise_similarities[0][:])"
      ],
      "execution_count": 19,
      "outputs": [
        {
          "output_type": "stream",
          "name": "stdout",
          "text": [
            "[0.         0.26109401 0.         0.         0.         0.\n",
            " 0.         0.         0.         0.         0.         0.\n",
            " 0.         0.         0.         0.         0.         0.\n",
            " 0.         0.3054564  0.         0.         0.         0.\n",
            " 0.         0.         0.         0.         0.         0.26109401\n",
            " 0.         0.         0.         0.         0.         0.\n",
            " 0.         0.         0.         0.         0.         0.\n",
            " 0.         0.3054564  0.         0.         0.         0.\n",
            " 0.         0.         0.         0.         0.         0.\n",
            " 0.         0.         0.         0.         0.         0.\n",
            " 0.         0.         0.         0.         0.         0.\n",
            " 0.73596337 0.36798169 0.         0.         0.         0.\n",
            " 0.         0.         0.         0.         0.         0.\n",
            " 0.         0.         0.         0.         0.         0.\n",
            " 0.         0.         0.         0.         0.         0.\n",
            " 0.         0.         0.         0.         0.         0.\n",
            " 0.         0.         0.         0.         0.         0.\n",
            " 0.         0.         0.         0.         0.         0.\n",
            " 0.         0.         0.         0.         0.         0.\n",
            " 0.         0.         0.         0.         0.         0.\n",
            " 0.         0.         0.         0.         0.         0.\n",
            " 0.         0.        ]\n",
            "(7, 7)\n",
            "[1.         0.         0.00894008 0.         0.14553449 0.\n",
            " 0.02271826]\n"
          ]
        }
      ]
    },
    {
      "cell_type": "markdown",
      "metadata": {
        "id": "x8oqU9Mwodo-"
      },
      "source": [
        "##### similarity is highest, 1 at index 0 becasue they are the same documents"
      ]
    },
    {
      "cell_type": "code",
      "metadata": {
        "id": "m487mu9_odo-"
      },
      "source": [
        "def most_similar(doc_id,similarity_matrix,matrix):\n",
        "    print (f'Document: {documents_df.iloc[doc_id][\"documents\"]}')\n",
        "    print (f'Similar Documents using {matrix}:')\n",
        "    if matrix=='Cosine Similarity':\n",
        "        similar_ix=np.argsort(similarity_matrix[doc_id])[::-1]\n",
        "    elif matrix=='Euclidean Distance':\n",
        "        similar_ix=np.argsort(similarity_matrix[doc_id])\n",
        "    for ix in similar_ix:\n",
        "        if ix==doc_id:\n",
        "            continue\n",
        "        print('Id:', ix, '... ', end=\"\")\n",
        "#        print (f'Document: {documents_df.iloc[ix][\"documents\"]}')\n",
        "        print (f'{matrix} : {similarity_matrix[doc_id][ix]}')"
      ],
      "execution_count": 24,
      "outputs": []
    },
    {
      "cell_type": "code",
      "metadata": {
        "colab": {
          "base_uri": "https://localhost:8080/"
        },
        "id": "OJsEh4QaodpA",
        "outputId": "412f8285-267c-4f6c-9098-69d90da1d393"
      },
      "source": [
        "most_similar(0,pairwise_similarities,'Cosine Similarity')"
      ],
      "execution_count": 25,
      "outputs": [
        {
          "output_type": "stream",
          "name": "stdout",
          "text": [
            "Document: meio ambiente desenvolvimento sustentavel natureza socioambiental etico ambiental arvore asfalto drenagem natural agua filtragem reutilizacao recurso hidrico fonte natural energia eolico solar gase produzir reciclagem  \n",
            "Similar Documents using Cosine Similarity:\n",
            "Id: 4 ... Cosine Similarity : 0.1455344884543932\n",
            "Id: 6 ... Cosine Similarity : 0.022718259353533755\n",
            "Id: 2 ... Cosine Similarity : 0.00894008178769479\n",
            "Id: 5 ... Cosine Similarity : 0.0\n",
            "Id: 3 ... Cosine Similarity : 0.0\n",
            "Id: 1 ... Cosine Similarity : 0.0\n"
          ]
        }
      ]
    },
    {
      "cell_type": "code",
      "metadata": {
        "colab": {
          "base_uri": "https://localhost:8080/"
        },
        "id": "KwNyW4XqodpD",
        "outputId": "e00ea25d-f840-4c17-9ede-6dfa397e4911"
      },
      "source": [
        "most_similar(0,pairwise_differences,'Euclidean Distance')"
      ],
      "execution_count": 26,
      "outputs": [
        {
          "output_type": "stream",
          "name": "stdout",
          "text": [
            "Document: meio ambiente desenvolvimento sustentavel natureza socioambiental etico ambiental arvore asfalto drenagem natural agua filtragem reutilizacao recurso hidrico fonte natural energia eolico solar gase produzir reciclagem  \n",
            "Similar Documents using Euclidean Distance:\n",
            "Id: 4 ... Euclidean Distance : 1.3072608856273538\n",
            "Id: 6 ... Euclidean Distance : 1.3980570379254675\n",
            "Id: 2 ... Euclidean Distance : 1.407877777516433\n",
            "Id: 3 ... Euclidean Distance : 1.4142135623730947\n",
            "Id: 1 ... Euclidean Distance : 1.414213562373095\n",
            "Id: 5 ... Euclidean Distance : 1.4142135623730951\n"
          ]
        }
      ]
    },
    {
      "cell_type": "markdown",
      "metadata": {
        "id": "J3H7zfoTodpF"
      },
      "source": [
        "#### word2vec embeddings"
      ]
    },
    {
      "cell_type": "code",
      "metadata": {
        "colab": {
          "base_uri": "https://localhost:8080/"
        },
        "id": "pEbPb6BJodpF",
        "outputId": "afcde51a-56e9-4ea9-fd1b-0650d485cd1d"
      },
      "source": [
        "from keras.preprocessing.text import Tokenizer\n",
        "import gensim\n",
        "from keras.preprocessing.sequence import pad_sequences\n",
        "from nltk.tokenize import word_tokenize\n",
        "import nltk\n",
        "nltk.download('punkt')"
      ],
      "execution_count": 27,
      "outputs": [
        {
          "output_type": "stream",
          "name": "stdout",
          "text": [
            "[nltk_data] Downloading package punkt to /root/nltk_data...\n",
            "[nltk_data]   Unzipping tokenizers/punkt.zip.\n"
          ]
        },
        {
          "output_type": "execute_result",
          "data": {
            "text/plain": [
              "True"
            ]
          },
          "metadata": {},
          "execution_count": 27
        }
      ]
    },
    {
      "cell_type": "code",
      "metadata": {
        "colab": {
          "base_uri": "https://localhost:8080/"
        },
        "id": "cHlL6XtFodpI",
        "outputId": "15779b2b-cb6b-4232-c80c-086a225542fe"
      },
      "source": [
        "# tokenize and pad every document to make them of the same size\n",
        "tokenizer=Tokenizer()\n",
        "tokenizer.fit_on_texts(documents_df['documents'])\n",
        "tokenized_documents=tokenizer.texts_to_sequences(documents_df['documents'])\n",
        "tokenized_paded_documents=pad_sequences(tokenized_documents,maxlen=128,padding='post')\n",
        "vocab_size=len(tokenizer.word_index)+1\n",
        "\n",
        "print (tokenized_paded_documents[0])"
      ],
      "execution_count": 28,
      "outputs": [
        {
          "output_type": "stream",
          "name": "stdout",
          "text": [
            "[113 114  60 115 116 117 118  28 119 120 121  61 122 123 124 125 126 127\n",
            "  61  39 128 129  62 130 131   0   0   0   0   0   0   0   0   0   0   0\n",
            "   0   0   0   0   0   0   0   0   0   0   0   0   0   0   0   0   0   0\n",
            "   0   0   0   0   0   0   0   0   0   0   0   0   0   0   0   0   0   0\n",
            "   0   0   0   0   0   0   0   0   0   0   0   0   0   0   0   0   0   0\n",
            "   0   0   0   0   0   0   0   0   0   0   0   0   0   0   0   0   0   0\n",
            "   0   0   0   0   0   0   0   0   0   0   0   0   0   0   0   0   0   0\n",
            "   0   0]\n"
          ]
        }
      ]
    },
    {
      "cell_type": "markdown",
      "metadata": {
        "id": "WmU-LZrwatnn"
      },
      "source": [
        "We can train our own embeddings if have enough data and computation available or we can use pre-trained embeddings. We will use a pre-trained embedding provided by Google."
      ]
    },
    {
      "cell_type": "code",
      "metadata": {
        "id": "SA2tdICzodpL"
      },
      "source": [
        "# loading pre-trained embeddings, each word is represented as a 300 dimensional vector\n",
        "import gensim\n",
        "W2V_PATH=\"https://s3.amazonaws.com/dl4j-distribution/GoogleNews-vectors-negative300.bin.gz\"\n",
        "model_w2v = gensim.models.KeyedVectors.load_word2vec_format(W2V_PATH, binary=True)"
      ],
      "execution_count": 29,
      "outputs": []
    },
    {
      "cell_type": "code",
      "metadata": {
        "id": "POofZ14codpO"
      },
      "source": [
        "# creating embedding matrix, every row is a vector representation from the vocabulary indexed by the tokenizer index. \n",
        "embedding_matrix=np.zeros((vocab_size,300))\n",
        "for word,i in tokenizer.word_index.items():\n",
        "    if word in model_w2v:\n",
        "        embedding_matrix[i]=model_w2v[word]"
      ],
      "execution_count": 30,
      "outputs": []
    },
    {
      "cell_type": "code",
      "metadata": {
        "id": "Xstx71L9odpR",
        "colab": {
          "base_uri": "https://localhost:8080/"
        },
        "outputId": "85fc7502-7266-4dc8-cea6-ceeeaaddf7e5"
      },
      "source": [
        "embedding_matrix[0]"
      ],
      "execution_count": 31,
      "outputs": [
        {
          "output_type": "execute_result",
          "data": {
            "text/plain": [
              "array([0., 0., 0., 0., 0., 0., 0., 0., 0., 0., 0., 0., 0., 0., 0., 0., 0.,\n",
              "       0., 0., 0., 0., 0., 0., 0., 0., 0., 0., 0., 0., 0., 0., 0., 0., 0.,\n",
              "       0., 0., 0., 0., 0., 0., 0., 0., 0., 0., 0., 0., 0., 0., 0., 0., 0.,\n",
              "       0., 0., 0., 0., 0., 0., 0., 0., 0., 0., 0., 0., 0., 0., 0., 0., 0.,\n",
              "       0., 0., 0., 0., 0., 0., 0., 0., 0., 0., 0., 0., 0., 0., 0., 0., 0.,\n",
              "       0., 0., 0., 0., 0., 0., 0., 0., 0., 0., 0., 0., 0., 0., 0., 0., 0.,\n",
              "       0., 0., 0., 0., 0., 0., 0., 0., 0., 0., 0., 0., 0., 0., 0., 0., 0.,\n",
              "       0., 0., 0., 0., 0., 0., 0., 0., 0., 0., 0., 0., 0., 0., 0., 0., 0.,\n",
              "       0., 0., 0., 0., 0., 0., 0., 0., 0., 0., 0., 0., 0., 0., 0., 0., 0.,\n",
              "       0., 0., 0., 0., 0., 0., 0., 0., 0., 0., 0., 0., 0., 0., 0., 0., 0.,\n",
              "       0., 0., 0., 0., 0., 0., 0., 0., 0., 0., 0., 0., 0., 0., 0., 0., 0.,\n",
              "       0., 0., 0., 0., 0., 0., 0., 0., 0., 0., 0., 0., 0., 0., 0., 0., 0.,\n",
              "       0., 0., 0., 0., 0., 0., 0., 0., 0., 0., 0., 0., 0., 0., 0., 0., 0.,\n",
              "       0., 0., 0., 0., 0., 0., 0., 0., 0., 0., 0., 0., 0., 0., 0., 0., 0.,\n",
              "       0., 0., 0., 0., 0., 0., 0., 0., 0., 0., 0., 0., 0., 0., 0., 0., 0.,\n",
              "       0., 0., 0., 0., 0., 0., 0., 0., 0., 0., 0., 0., 0., 0., 0., 0., 0.,\n",
              "       0., 0., 0., 0., 0., 0., 0., 0., 0., 0., 0., 0., 0., 0., 0., 0., 0.,\n",
              "       0., 0., 0., 0., 0., 0., 0., 0., 0., 0., 0.])"
            ]
          },
          "metadata": {},
          "execution_count": 31
        }
      ]
    },
    {
      "cell_type": "code",
      "metadata": {
        "id": "4_LEe-S6odpU",
        "scrolled": true,
        "colab": {
          "base_uri": "https://localhost:8080/"
        },
        "outputId": "a522f69e-4683-46f4-e2bd-d5216401c43c"
      },
      "source": [
        "#embedding_matrix[tokenizer.word_index['sustentavel']]"
      ],
      "execution_count": 32,
      "outputs": [
        {
          "output_type": "execute_result",
          "data": {
            "text/plain": [
              "array([0., 0., 0., 0., 0., 0., 0., 0., 0., 0., 0., 0., 0., 0., 0., 0., 0.,\n",
              "       0., 0., 0., 0., 0., 0., 0., 0., 0., 0., 0., 0., 0., 0., 0., 0., 0.,\n",
              "       0., 0., 0., 0., 0., 0., 0., 0., 0., 0., 0., 0., 0., 0., 0., 0., 0.,\n",
              "       0., 0., 0., 0., 0., 0., 0., 0., 0., 0., 0., 0., 0., 0., 0., 0., 0.,\n",
              "       0., 0., 0., 0., 0., 0., 0., 0., 0., 0., 0., 0., 0., 0., 0., 0., 0.,\n",
              "       0., 0., 0., 0., 0., 0., 0., 0., 0., 0., 0., 0., 0., 0., 0., 0., 0.,\n",
              "       0., 0., 0., 0., 0., 0., 0., 0., 0., 0., 0., 0., 0., 0., 0., 0., 0.,\n",
              "       0., 0., 0., 0., 0., 0., 0., 0., 0., 0., 0., 0., 0., 0., 0., 0., 0.,\n",
              "       0., 0., 0., 0., 0., 0., 0., 0., 0., 0., 0., 0., 0., 0., 0., 0., 0.,\n",
              "       0., 0., 0., 0., 0., 0., 0., 0., 0., 0., 0., 0., 0., 0., 0., 0., 0.,\n",
              "       0., 0., 0., 0., 0., 0., 0., 0., 0., 0., 0., 0., 0., 0., 0., 0., 0.,\n",
              "       0., 0., 0., 0., 0., 0., 0., 0., 0., 0., 0., 0., 0., 0., 0., 0., 0.,\n",
              "       0., 0., 0., 0., 0., 0., 0., 0., 0., 0., 0., 0., 0., 0., 0., 0., 0.,\n",
              "       0., 0., 0., 0., 0., 0., 0., 0., 0., 0., 0., 0., 0., 0., 0., 0., 0.,\n",
              "       0., 0., 0., 0., 0., 0., 0., 0., 0., 0., 0., 0., 0., 0., 0., 0., 0.,\n",
              "       0., 0., 0., 0., 0., 0., 0., 0., 0., 0., 0., 0., 0., 0., 0., 0., 0.,\n",
              "       0., 0., 0., 0., 0., 0., 0., 0., 0., 0., 0., 0., 0., 0., 0., 0., 0.,\n",
              "       0., 0., 0., 0., 0., 0., 0., 0., 0., 0., 0.])"
            ]
          },
          "metadata": {},
          "execution_count": 32
        }
      ]
    },
    {
      "cell_type": "code",
      "metadata": {
        "id": "ze3NNOLYodpW"
      },
      "source": [
        "# creating document-word embeddings\n",
        "document_word_embeddings=np.zeros((len(tokenized_paded_documents),128,300))\n",
        "\n",
        "for i in range(len(tokenized_paded_documents)):\n",
        "    for j in range(len(tokenized_paded_documents[0])):\n",
        "        document_word_embeddings[i][j]=embedding_matrix[tokenized_paded_documents[i][j]]"
      ],
      "execution_count": 33,
      "outputs": []
    },
    {
      "cell_type": "code",
      "metadata": {
        "id": "I4JSjhQKodpc",
        "colab": {
          "base_uri": "https://localhost:8080/"
        },
        "outputId": "a855d572-d2b2-49f5-d7aa-3063c1805132"
      },
      "source": [
        "document_word_embeddings.shape"
      ],
      "execution_count": 34,
      "outputs": [
        {
          "output_type": "execute_result",
          "data": {
            "text/plain": [
              "(7, 128, 300)"
            ]
          },
          "metadata": {},
          "execution_count": 34
        }
      ]
    },
    {
      "cell_type": "markdown",
      "metadata": {
        "id": "X6iHQ-9sbMJi"
      },
      "source": [
        "Now we have to represent every document as a single vector. We can either average or sum over every word vector and convert every 64X300 representation into a 300-dimensional representation. But averaging or summing over all the words would lose the semantic and contextual meaning of the documents. Different lengths of the documents would also have an adverse effect on such operations.\n",
        "\n",
        "One better way of doing this could be taking a weighted average of word vectors using the tf-idf weights. This can handle the variable length problem to a certain extent but cannot keep the semantic and contextual meaning of words. After doing that we can use the pairwise distances to calculate similar documents as we did in the tf-idf model."
      ]
    },
    {
      "cell_type": "code",
      "metadata": {
        "id": "AdtxAgA4odpf",
        "scrolled": true
      },
      "source": [
        "# tf-idf vectors do not keep the original sequence of words, converting them into actual word sequences from the documents\n",
        "\n",
        "document_embeddings=np.zeros((len(tokenized_paded_documents),300))\n",
        "words=tfidfvectoriser.get_feature_names()\n",
        "\n",
        "for i in range(len(document_word_embeddings)):\n",
        "    for j in range(len(words)):\n",
        "        document_embeddings[i]+=embedding_matrix[tokenizer.word_index[words[j]]]*tfidf_vectors[i][j]\n",
        "        \n",
        "document_embeddings=document_embeddings/np.sum(tfidf_vectors,axis=1).reshape(-1,1)\n",
        "    "
      ],
      "execution_count": 35,
      "outputs": []
    },
    {
      "cell_type": "code",
      "metadata": {
        "id": "QHQl0X7modpj"
      },
      "source": [
        "pairwise_similarities=cosine_similarity(document_embeddings)\n",
        "pairwise_differences=euclidean_distances(document_embeddings)"
      ],
      "execution_count": 36,
      "outputs": []
    },
    {
      "cell_type": "code",
      "metadata": {
        "id": "W-xnkF3Rodpl",
        "colab": {
          "base_uri": "https://localhost:8080/"
        },
        "outputId": "91617b7e-63b9-4301-bb38-ffb0c0bb2290"
      },
      "source": [
        "most_similar(0,pairwise_similarities,'Cosine Similarity')"
      ],
      "execution_count": 37,
      "outputs": [
        {
          "output_type": "stream",
          "name": "stdout",
          "text": [
            "Document: meio ambiente desenvolvimento sustentavel natureza socioambiental etico ambiental arvore asfalto drenagem natural agua filtragem reutilizacao recurso hidrico fonte natural energia eolico solar gase produzir reciclagem  \n",
            "Similar Documents using Cosine Similarity:\n",
            "Id: 4 ... Cosine Similarity : 0.29045614844497136\n",
            "Id: 2 ... Cosine Similarity : 0.28598548908100474\n",
            "Id: 3 ... Cosine Similarity : 0.2697103764542472\n",
            "Id: 6 ... Cosine Similarity : 0.22842184078373237\n",
            "Id: 1 ... Cosine Similarity : 0.22620717631579929\n",
            "Id: 5 ... Cosine Similarity : 0.21062273029017017\n"
          ]
        }
      ]
    },
    {
      "cell_type": "code",
      "metadata": {
        "id": "SqfLobmZodpn",
        "colab": {
          "base_uri": "https://localhost:8080/"
        },
        "outputId": "2f2fbdbf-fcea-4f7d-f764-626ab1890e57"
      },
      "source": [
        "most_similar(0,pairwise_differences,'Euclidean Distance')"
      ],
      "execution_count": 38,
      "outputs": [
        {
          "output_type": "stream",
          "name": "stdout",
          "text": [
            "Document: meio ambiente desenvolvimento sustentavel natureza socioambiental etico ambiental arvore asfalto drenagem natural agua filtragem reutilizacao recurso hidrico fonte natural energia eolico solar gase produzir reciclagem  \n",
            "Similar Documents using Euclidean Distance:\n",
            "Id: 4 ... Euclidean Distance : 0.8156059995588341\n",
            "Id: 2 ... Euclidean Distance : 0.8338315501016553\n",
            "Id: 6 ... Euclidean Distance : 0.8392820708883691\n",
            "Id: 5 ... Euclidean Distance : 0.8441755787279037\n",
            "Id: 1 ... Euclidean Distance : 0.8668978910643459\n",
            "Id: 3 ... Euclidean Distance : 0.8818001703451916\n"
          ]
        }
      ]
    },
    {
      "cell_type": "markdown",
      "metadata": {
        "id": "L7oG1uuGodpp"
      },
      "source": [
        "#### Glove embeddings"
      ]
    },
    {
      "cell_type": "markdown",
      "metadata": {
        "id": "IpK1_HfAa1Uj"
      },
      "source": [
        "Global Vectors for word Embedding (GloVe) is an unsupervised learning algorithm to produce vector representations of word. Training is performed on aggregated global word-word co-occurrence statistics from a corpus, and the resulting representations showcase interesting linear substructures of the word vector space.\n",
        "\n",
        "We will use the pre-trained Glove embeddings from Stanford. All the steps would remain same as word2vec embeddings it’s just that in this case we will use the Glove pre-trained model. We are using Glove embeddings of 100-dimensions because of the large size of the embeddings file. You can use higher dimensions also"
      ]
    },
    {
      "cell_type": "code",
      "metadata": {
        "id": "Dyl2etaWodpq",
        "colab": {
          "base_uri": "https://localhost:8080/"
        },
        "outputId": "9392f537-57a2-4ef6-e238-3cb5290d9236"
      },
      "source": [
        "# reading Glove word embeddings into a dictionary with \"word\" as key and values as word vectors\n",
        "\n",
        "!wget http://nlp.stanford.edu/data/glove.6B.zip\n",
        "!unzip glove*.zip\n",
        "\n",
        "embeddings_index = dict()\n",
        "\n",
        "with open('glove.6B.100d.txt', encoding='utf-8') as file:\n",
        "    for line in file:\n",
        "        values = line.split()\n",
        "        word = values[0]\n",
        "        coefs = np.asarray(values[1:], dtype='float32')\n",
        "        embeddings_index[word] = coefs\n",
        "    "
      ],
      "execution_count": 86,
      "outputs": [
        {
          "output_type": "stream",
          "name": "stdout",
          "text": [
            "--2021-10-29 00:05:18--  http://nlp.stanford.edu/data/glove.6B.zip\n",
            "Resolving nlp.stanford.edu (nlp.stanford.edu)... 171.64.67.140\n",
            "Connecting to nlp.stanford.edu (nlp.stanford.edu)|171.64.67.140|:80... connected.\n",
            "HTTP request sent, awaiting response... 302 Found\n",
            "Location: https://nlp.stanford.edu/data/glove.6B.zip [following]\n",
            "--2021-10-29 00:05:18--  https://nlp.stanford.edu/data/glove.6B.zip\n",
            "Connecting to nlp.stanford.edu (nlp.stanford.edu)|171.64.67.140|:443... connected.\n",
            "HTTP request sent, awaiting response... 301 Moved Permanently\n",
            "Location: http://downloads.cs.stanford.edu/nlp/data/glove.6B.zip [following]\n",
            "--2021-10-29 00:05:18--  http://downloads.cs.stanford.edu/nlp/data/glove.6B.zip\n",
            "Resolving downloads.cs.stanford.edu (downloads.cs.stanford.edu)... 171.64.64.22\n",
            "Connecting to downloads.cs.stanford.edu (downloads.cs.stanford.edu)|171.64.64.22|:80... connected.\n",
            "HTTP request sent, awaiting response... 200 OK\n",
            "Length: 862182613 (822M) [application/zip]\n",
            "Saving to: ‘glove.6B.zip.3’\n",
            "\n",
            "glove.6B.zip.3       77%[==============>     ] 638.07M  5.00MB/s    eta 36s    n\n",
            "glove.6B.zip.3       79%[==============>     ] 650.00M  5.00MB/s    eta 34s    n\n",
            "glove.6B.zip.3       81%[===============>    ] 673.84M  5.00MB/s    eta 29s    n\n",
            "glove.6B.zip.3       83%[===============>    ] 685.77M  5.00MB/s    eta 26s    n\n",
            "glove.6B.zip.3       84%[===============>    ] 697.69M  5.00MB/s    eta 25s    n\n",
            "glove.6B.zip.3       86%[================>   ] 713.59M  5.00MB/s    eta 22s    n\n",
            "glove.6B.zip.3       89%[================>   ] 733.46M  5.00MB/s    eta 17s    n\n",
            "glove.6B.zip.3       91%[=================>  ] 749.37M  5.00MB/s    eta 14s    n\n",
            "glove.6B.zip.3      100%[===================>] 822.24M  5.07MB/s    in 2m 40s  \n",
            "\n",
            "2021-10-29 00:07:58 (5.15 MB/s) - ‘glove.6B.zip.3’ saved [862182613/862182613]\n",
            "\n",
            "Archive:  glove.6B.zip\n",
            "replace glove.6B.50d.txt? [y]es, [n]o, [A]ll, [N]one, [r]ename: n\n",
            "replace glove.6B.100d.txt? [y]es, [n]o, [A]ll, [N]one, [r]ename: n\n",
            "replace glove.6B.200d.txt? [y]es, [n]o, [A]ll, [N]one, [r]ename: n\n",
            "replace glove.6B.300d.txt? [y]es, [n]o, [A]ll, [N]one, [r]ename: n\n"
          ]
        }
      ]
    },
    {
      "cell_type": "code",
      "metadata": {
        "id": "27-WY53Yodps"
      },
      "source": [
        "# creating embedding matrix, every row is a vector representation from the vocabulary indexed by the tokenizer index. \n",
        "\n",
        "embedding_matrix=np.zeros((vocab_size,100))\n",
        "\n",
        "for word,i in tokenizer.word_index.items():\n",
        "    embedding_vector = embeddings_index.get(word)\n",
        "    if embedding_vector is not None:\n",
        "        embedding_matrix[i] = embedding_vector"
      ],
      "execution_count": 141,
      "outputs": []
    },
    {
      "cell_type": "code",
      "metadata": {
        "id": "elSMrWDKodpu"
      },
      "source": [
        "# tf-idf vectors do not keep the original sequence of words, converting them into actual word sequences from the documents\n",
        "\n",
        "document_embeddings=np.zeros((len(tokenized_paded_documents),100))\n",
        "words=tfidfvectoriser.get_feature_names()\n",
        "\n",
        "for i in range(documents_df.shape[0]):\n",
        "    for j in range(len(words)):\n",
        "        document_embeddings[i]+=embedding_matrix[tokenizer.word_index[words[j]]]*tfidf_vectors[i][j]\n",
        "        \n",
        "document_embeddings=document_embeddings/np.sum(tfidf_vectors,axis=1).reshape(-1,1)"
      ],
      "execution_count": 142,
      "outputs": []
    },
    {
      "cell_type": "code",
      "metadata": {
        "id": "tg2Q706Uodpw",
        "colab": {
          "base_uri": "https://localhost:8080/"
        },
        "outputId": "58df6e14-9b52-46e9-aac1-8baed96ba045"
      },
      "source": [
        "document_embeddings.shape"
      ],
      "execution_count": 143,
      "outputs": [
        {
          "output_type": "execute_result",
          "data": {
            "text/plain": [
              "(7, 100)"
            ]
          },
          "metadata": {},
          "execution_count": 143
        }
      ]
    },
    {
      "cell_type": "code",
      "metadata": {
        "id": "yo6yjjnyodpy"
      },
      "source": [
        "pairwise_similarities=cosine_similarity(document_embeddings)\n",
        "pairwise_differences=euclidean_distances(document_embeddings)"
      ],
      "execution_count": 144,
      "outputs": []
    },
    {
      "cell_type": "code",
      "metadata": {
        "id": "dzmfvsAlodp0",
        "colab": {
          "base_uri": "https://localhost:8080/"
        },
        "outputId": "7e4e0418-193a-4793-8974-d34cd26b872e"
      },
      "source": [
        "most_similar(0,pairwise_similarities,'Cosine Similarity')"
      ],
      "execution_count": 145,
      "outputs": [
        {
          "output_type": "stream",
          "name": "stdout",
          "text": [
            "Document: meio ambiente desenvolvimento sustentavel natureza socioambiental etico ambiental arvore asfalto drenagem natural agua filtragem reutilizacao recurso hidrico fonte natural energia eolico solar gase produzir reciclagem\n",
            "Similar Documents using Cosine Similarity:\n",
            "Id: 4\n",
            "Document: engenheiro mecanico formar federal msc engenharia mecanica phd engenharia mecanica tecnologia aerossois university of minnesota usa professor associado departamento engenharia mecanica onde coordenar grupo pesquisa multidisciplinar engenharia ambiental poluicao atmosferica atuar seguinte tema tecnologia aerossol instrumentacao processo atmosferico biocombustivel controle poluicao poluente local gase efeito estufo captura armazenamento geologico carbono desenvolvimento sensor ambiental geracao energia atraves residuo solido urbano waste to energy wte engenheiro petroleo petrobras cepet onde atuar membro ipcc intergovernmental panel on climate change grupo cientista receber premio nobel paz\n",
            "Cosine Similarity : 0.8576479837303318\n",
            "Id: 6\n",
            "Document: vitor nascimento aguiar graduar engenharia civil enfase mecanica solo federal ufrj concluir mestrado doutorado engenharia civil geotecnia coppe ufrj pesquisa mestrado doutorado investigar efeito tempo velocidade deformacao adensamento resistencia cisalhamento argila mole saturar atuar dez ano projeto consultoria obra infraestrutura mecasolo engenharia consultoria realizar estagio po doutorado norwegian geotechnical institute ngi atualmente ser professor quadro principal departamento engenharia civil ambiental onde lecionar disciplina laboratorio geotecnia graduacao disciplina ensaios laboratorio geotecnia experimental po graduacao ter exercer cargo secretario executivo associacao brasileira mecanica solo nucleo rj\n",
            "Cosine Similarity : 0.7391687377739804\n",
            "Id: 5\n",
            "Document: flavia almeida viveiros castro ser juiza direito professora convidar emerj escola magistratura estado esaj escola administracao judiciaria tribunal justica estado fundacao getulio vargas rj possuir po doutorado direitos humanos instituto jus gentium faculdade direito coimbra ser doutora direito civil constitucional direito estado mestre direito mestre ciencia politica ciencia politica sociologia possuir curso especializacao direito portugues centro estudos judiciarios portugal especializacao ciencia politica instituto metodista bennett graduar direito comunicacao social especialidade jornalismo ser juiza titular vara civel regional barra tijuca ter exercer magistratura vara falencia fazenda publico criminal tribunal juri orfao sucessao familia ja assumir funcao juiza eleitoral zona eleitoral ja exercer funcao marechal hermes bangu pavuna ser juiza corregedora auxiliar corregedora justica exercer docencia palestrante professora convidar area direito civil direito tributario ser coordenadora academico instituto direito coordenadora academico curso po graduacao direito imobiliario direito fiscal direito empresarial direito processual civil direito saude instituto direito rj\n",
            "Cosine Similarity : 0.6706314757977395\n",
            "Id: 2\n",
            "Document: possuir graduacao engenharia mecanica mestrado engenharia producao departamento engenharia industrial doutorado engenharia producao mestrado doutorado ser ambo area financas analise investimentos ser consultor master controladoria petroleo brasileiro matriz onde trabalhar ate ser professor adjunto departamento engenharia eletrica ser pesquisador grupo sistemas apoio decisao laboratorio inteligencia computacional aplicar ser autor doi livro texto po graduacao opcao real ser corporate advisor real option group ministrar curso opcao real petrobras alem curso teoria jogo valor informacao ate la ministrar outro curso analise risco projeto financas corporativo project finance ministra curso opcao real desde jogo opcao real desde coordenar varios projeto pesquisa petrobras principalmente tambem fgv mine paris tech ja ser orador principal varias conferencia internacional ja dar seminario opcao real instituicao internacional mit entidade nacional unicamp ufrj alliance fundacao dom cabral criar primeiro website dedicar opcao real desenvolver varias aplicacao inclusive software opcao real petrobras onde tambem implantar padrao analise risco analise investimento informacao outro ter experiencia area engenharia producao enfase avaliacao economica projetos atuar principalmente seguinte tema opcao real analise investimento sob incerteza jogo opcao real teoria jogo exploracao producao petroleo valor informacao analise risco projeto analise investimento energia renovavel custo capital projeto financiamento corporativo\n",
            "Cosine Similarity : 0.6523300703116348\n",
            "Id: 1\n",
            "Document: maria celina bodin moraes doutorado direito civil universita di camerino ser professora titular direito civil faculdade direito estado uerj professora associada departamento direito ser abitro parecerista direito privado editora chefe civilistica revista eletronica direito civil qualis ser diretora departamento direito coordenadora area direito faperj atuar area direito privado principalmente mediante metodologia direito civil constitucional tema frequente producao cientifico ser principio constitucional dignidade pessoa humano solidariedade aplicacao direto constituicao relacao privado protecao pessoa vulneravel direito personalidade relacao familiar contrato responsabilidade civil\n",
            "Cosine Similarity : 0.5651805593618906\n",
            "Id: 3\n",
            "Document: doutora servico social uerj mestre servico social ufrj graduar servico social ufrj possuir experiencia diversos area trabalho profissional servico social empresa assistencia social saude consultoria assessoria ser docente pesquisadora curso graduacao po graduacao servico social trabalhar empresa multinacional farmaceutica glaxosmithkline telefonia celular claro ong obra social setor publico atuar prefeitura condicao concursar autora livro servico social consultoria empresarial organizadora coletanea sobre trabalho servico social direitos humanos\n",
            "Cosine Similarity : 0.14653309940201864\n"
          ]
        }
      ]
    },
    {
      "cell_type": "code",
      "metadata": {
        "id": "EnrtapNtodp1",
        "colab": {
          "base_uri": "https://localhost:8080/"
        },
        "outputId": "bd06986a-7bc3-427b-d38c-2821116d05e0"
      },
      "source": [
        "most_similar(0,pairwise_differences,'Euclidean Distance')"
      ],
      "execution_count": 146,
      "outputs": [
        {
          "output_type": "stream",
          "name": "stdout",
          "text": [
            "Document: meio ambiente desenvolvimento sustentavel natureza socioambiental etico ambiental arvore asfalto drenagem natural agua filtragem reutilizacao recurso hidrico fonte natural energia eolico solar gase produzir reciclagem\n",
            "Similar Documents using Euclidean Distance:\n",
            "Id: 4\n",
            "Document: engenheiro mecanico formar federal msc engenharia mecanica phd engenharia mecanica tecnologia aerossois university of minnesota usa professor associado departamento engenharia mecanica onde coordenar grupo pesquisa multidisciplinar engenharia ambiental poluicao atmosferica atuar seguinte tema tecnologia aerossol instrumentacao processo atmosferico biocombustivel controle poluicao poluente local gase efeito estufo captura armazenamento geologico carbono desenvolvimento sensor ambiental geracao energia atraves residuo solido urbano waste to energy wte engenheiro petroleo petrobras cepet onde atuar membro ipcc intergovernmental panel on climate change grupo cientista receber premio nobel paz\n",
            "Euclidean Distance : 1.9539687512559052\n",
            "Id: 5\n",
            "Document: flavia almeida viveiros castro ser juiza direito professora convidar emerj escola magistratura estado esaj escola administracao judiciaria tribunal justica estado fundacao getulio vargas rj possuir po doutorado direitos humanos instituto jus gentium faculdade direito coimbra ser doutora direito civil constitucional direito estado mestre direito mestre ciencia politica ciencia politica sociologia possuir curso especializacao direito portugues centro estudos judiciarios portugal especializacao ciencia politica instituto metodista bennett graduar direito comunicacao social especialidade jornalismo ser juiza titular vara civel regional barra tijuca ter exercer magistratura vara falencia fazenda publico criminal tribunal juri orfao sucessao familia ja assumir funcao juiza eleitoral zona eleitoral ja exercer funcao marechal hermes bangu pavuna ser juiza corregedora auxiliar corregedora justica exercer docencia palestrante professora convidar area direito civil direito tributario ser coordenadora academico instituto direito coordenadora academico curso po graduacao direito imobiliario direito fiscal direito empresarial direito processual civil direito saude instituto direito rj\n",
            "Euclidean Distance : 2.558477642593077\n",
            "Id: 6\n",
            "Document: vitor nascimento aguiar graduar engenharia civil enfase mecanica solo federal ufrj concluir mestrado doutorado engenharia civil geotecnia coppe ufrj pesquisa mestrado doutorado investigar efeito tempo velocidade deformacao adensamento resistencia cisalhamento argila mole saturar atuar dez ano projeto consultoria obra infraestrutura mecasolo engenharia consultoria realizar estagio po doutorado norwegian geotechnical institute ngi atualmente ser professor quadro principal departamento engenharia civil ambiental onde lecionar disciplina laboratorio geotecnia graduacao disciplina ensaios laboratorio geotecnia experimental po graduacao ter exercer cargo secretario executivo associacao brasileira mecanica solo nucleo rj\n",
            "Euclidean Distance : 2.6742161475089\n",
            "Id: 2\n",
            "Document: possuir graduacao engenharia mecanica mestrado engenharia producao departamento engenharia industrial doutorado engenharia producao mestrado doutorado ser ambo area financas analise investimentos ser consultor master controladoria petroleo brasileiro matriz onde trabalhar ate ser professor adjunto departamento engenharia eletrica ser pesquisador grupo sistemas apoio decisao laboratorio inteligencia computacional aplicar ser autor doi livro texto po graduacao opcao real ser corporate advisor real option group ministrar curso opcao real petrobras alem curso teoria jogo valor informacao ate la ministrar outro curso analise risco projeto financas corporativo project finance ministra curso opcao real desde jogo opcao real desde coordenar varios projeto pesquisa petrobras principalmente tambem fgv mine paris tech ja ser orador principal varias conferencia internacional ja dar seminario opcao real instituicao internacional mit entidade nacional unicamp ufrj alliance fundacao dom cabral criar primeiro website dedicar opcao real desenvolver varias aplicacao inclusive software opcao real petrobras onde tambem implantar padrao analise risco analise investimento informacao outro ter experiencia area engenharia producao enfase avaliacao economica projetos atuar principalmente seguinte tema opcao real analise investimento sob incerteza jogo opcao real teoria jogo exploracao producao petroleo valor informacao analise risco projeto analise investimento energia renovavel custo capital projeto financiamento corporativo\n",
            "Euclidean Distance : 2.741784541688126\n",
            "Id: 1\n",
            "Document: maria celina bodin moraes doutorado direito civil universita di camerino ser professora titular direito civil faculdade direito estado uerj professora associada departamento direito ser abitro parecerista direito privado editora chefe civilistica revista eletronica direito civil qualis ser diretora departamento direito coordenadora area direito faperj atuar area direito privado principalmente mediante metodologia direito civil constitucional tema frequente producao cientifico ser principio constitucional dignidade pessoa humano solidariedade aplicacao direto constituicao relacao privado protecao pessoa vulneravel direito personalidade relacao familiar contrato responsabilidade civil\n",
            "Euclidean Distance : 2.843245766005752\n",
            "Id: 3\n",
            "Document: doutora servico social uerj mestre servico social ufrj graduar servico social ufrj possuir experiencia diversos area trabalho profissional servico social empresa assistencia social saude consultoria assessoria ser docente pesquisadora curso graduacao po graduacao servico social trabalhar empresa multinacional farmaceutica glaxosmithkline telefonia celular claro ong obra social setor publico atuar prefeitura condicao concursar autora livro servico social consultoria empresarial organizadora coletanea sobre trabalho servico social direitos humanos\n",
            "Euclidean Distance : 3.633268819828807\n"
          ]
        }
      ]
    },
    {
      "cell_type": "markdown",
      "metadata": {
        "id": "hecViuQRodp3"
      },
      "source": [
        "#### Doc2vec model"
      ]
    },
    {
      "cell_type": "markdown",
      "metadata": {
        "id": "Gpx7PRz7bZJn"
      },
      "source": [
        "Doc2vec is an unsupervised learning algorithm to produce vector representations of sentence/paragraph/documents. This is an adaptation of word2vec. Doc2vec can represent an entire documents into a vector. So we don’t have to take average of word vectors to create document vector.\n"
      ]
    },
    {
      "cell_type": "code",
      "metadata": {
        "id": "MDLKLZXPodp4"
      },
      "source": [
        "from gensim.models.doc2vec import Doc2Vec, TaggedDocument"
      ],
      "execution_count": 147,
      "outputs": []
    },
    {
      "cell_type": "code",
      "metadata": {
        "id": "5THng5QPodp5"
      },
      "source": [
        "tagged_data = [TaggedDocument(words=word_tokenize(doc), tags=[i]) for i, doc in enumerate(documents_df['documents'])]"
      ],
      "execution_count": 148,
      "outputs": []
    },
    {
      "cell_type": "code",
      "metadata": {
        "id": "YURtty-Lodp7",
        "scrolled": true
      },
      "source": [
        "model_d2v = Doc2Vec(vector_size=100,alpha=0.025, min_count=1)\n",
        "  \n",
        "model_d2v.build_vocab(tagged_data)\n",
        "\n",
        "for epoch in range(100):\n",
        "    model_d2v.train(tagged_data,\n",
        "                total_examples=model_d2v.corpus_count,\n",
        "                epochs=model_d2v.epochs)"
      ],
      "execution_count": 149,
      "outputs": []
    },
    {
      "cell_type": "code",
      "metadata": {
        "id": "bJfa1EYWodp9"
      },
      "source": [
        "document_embeddings=np.zeros((documents_df.shape[0],100))\n",
        "\n",
        "for i in range(len(document_embeddings)):\n",
        "    document_embeddings[i]=model_d2v.docvecs[i]"
      ],
      "execution_count": 150,
      "outputs": []
    },
    {
      "cell_type": "code",
      "metadata": {
        "id": "GtkQELbxodp_"
      },
      "source": [
        "pairwise_similarities=cosine_similarity(document_embeddings)\n",
        "pairwise_differences=euclidean_distances(document_embeddings)"
      ],
      "execution_count": 151,
      "outputs": []
    },
    {
      "cell_type": "code",
      "metadata": {
        "id": "bZEEOxDvodqC",
        "colab": {
          "base_uri": "https://localhost:8080/"
        },
        "outputId": "35a569bd-2e68-40eb-8381-8bf2bbc5e51a"
      },
      "source": [
        "most_similar(0,pairwise_similarities,'Cosine Similarity')"
      ],
      "execution_count": 152,
      "outputs": [
        {
          "output_type": "stream",
          "name": "stdout",
          "text": [
            "Document: meio ambiente desenvolvimento sustentavel natureza socioambiental etico ambiental arvore asfalto drenagem natural agua filtragem reutilizacao recurso hidrico fonte natural energia eolico solar gase produzir reciclagem\n",
            "Similar Documents using Cosine Similarity:\n",
            "Id: 1\n",
            "Document: maria celina bodin moraes doutorado direito civil universita di camerino ser professora titular direito civil faculdade direito estado uerj professora associada departamento direito ser abitro parecerista direito privado editora chefe civilistica revista eletronica direito civil qualis ser diretora departamento direito coordenadora area direito faperj atuar area direito privado principalmente mediante metodologia direito civil constitucional tema frequente producao cientifico ser principio constitucional dignidade pessoa humano solidariedade aplicacao direto constituicao relacao privado protecao pessoa vulneravel direito personalidade relacao familiar contrato responsabilidade civil\n",
            "Cosine Similarity : 0.555814356304425\n",
            "Id: 3\n",
            "Document: doutora servico social uerj mestre servico social ufrj graduar servico social ufrj possuir experiencia diversos area trabalho profissional servico social empresa assistencia social saude consultoria assessoria ser docente pesquisadora curso graduacao po graduacao servico social trabalhar empresa multinacional farmaceutica glaxosmithkline telefonia celular claro ong obra social setor publico atuar prefeitura condicao concursar autora livro servico social consultoria empresarial organizadora coletanea sobre trabalho servico social direitos humanos\n",
            "Cosine Similarity : 0.5538379428331839\n",
            "Id: 5\n",
            "Document: flavia almeida viveiros castro ser juiza direito professora convidar emerj escola magistratura estado esaj escola administracao judiciaria tribunal justica estado fundacao getulio vargas rj possuir po doutorado direitos humanos instituto jus gentium faculdade direito coimbra ser doutora direito civil constitucional direito estado mestre direito mestre ciencia politica ciencia politica sociologia possuir curso especializacao direito portugues centro estudos judiciarios portugal especializacao ciencia politica instituto metodista bennett graduar direito comunicacao social especialidade jornalismo ser juiza titular vara civel regional barra tijuca ter exercer magistratura vara falencia fazenda publico criminal tribunal juri orfao sucessao familia ja assumir funcao juiza eleitoral zona eleitoral ja exercer funcao marechal hermes bangu pavuna ser juiza corregedora auxiliar corregedora justica exercer docencia palestrante professora convidar area direito civil direito tributario ser coordenadora academico instituto direito coordenadora academico curso po graduacao direito imobiliario direito fiscal direito empresarial direito processual civil direito saude instituto direito rj\n",
            "Cosine Similarity : 0.5522923480639095\n",
            "Id: 6\n",
            "Document: vitor nascimento aguiar graduar engenharia civil enfase mecanica solo federal ufrj concluir mestrado doutorado engenharia civil geotecnia coppe ufrj pesquisa mestrado doutorado investigar efeito tempo velocidade deformacao adensamento resistencia cisalhamento argila mole saturar atuar dez ano projeto consultoria obra infraestrutura mecasolo engenharia consultoria realizar estagio po doutorado norwegian geotechnical institute ngi atualmente ser professor quadro principal departamento engenharia civil ambiental onde lecionar disciplina laboratorio geotecnia graduacao disciplina ensaios laboratorio geotecnia experimental po graduacao ter exercer cargo secretario executivo associacao brasileira mecanica solo nucleo rj\n",
            "Cosine Similarity : 0.5305134825655317\n",
            "Id: 4\n",
            "Document: engenheiro mecanico formar federal msc engenharia mecanica phd engenharia mecanica tecnologia aerossois university of minnesota usa professor associado departamento engenharia mecanica onde coordenar grupo pesquisa multidisciplinar engenharia ambiental poluicao atmosferica atuar seguinte tema tecnologia aerossol instrumentacao processo atmosferico biocombustivel controle poluicao poluente local gase efeito estufo captura armazenamento geologico carbono desenvolvimento sensor ambiental geracao energia atraves residuo solido urbano waste to energy wte engenheiro petroleo petrobras cepet onde atuar membro ipcc intergovernmental panel on climate change grupo cientista receber premio nobel paz\n",
            "Cosine Similarity : 0.493518127983723\n",
            "Id: 2\n",
            "Document: possuir graduacao engenharia mecanica mestrado engenharia producao departamento engenharia industrial doutorado engenharia producao mestrado doutorado ser ambo area financas analise investimentos ser consultor master controladoria petroleo brasileiro matriz onde trabalhar ate ser professor adjunto departamento engenharia eletrica ser pesquisador grupo sistemas apoio decisao laboratorio inteligencia computacional aplicar ser autor doi livro texto po graduacao opcao real ser corporate advisor real option group ministrar curso opcao real petrobras alem curso teoria jogo valor informacao ate la ministrar outro curso analise risco projeto financas corporativo project finance ministra curso opcao real desde jogo opcao real desde coordenar varios projeto pesquisa petrobras principalmente tambem fgv mine paris tech ja ser orador principal varias conferencia internacional ja dar seminario opcao real instituicao internacional mit entidade nacional unicamp ufrj alliance fundacao dom cabral criar primeiro website dedicar opcao real desenvolver varias aplicacao inclusive software opcao real petrobras onde tambem implantar padrao analise risco analise investimento informacao outro ter experiencia area engenharia producao enfase avaliacao economica projetos atuar principalmente seguinte tema opcao real analise investimento sob incerteza jogo opcao real teoria jogo exploracao producao petroleo valor informacao analise risco projeto analise investimento energia renovavel custo capital projeto financiamento corporativo\n",
            "Cosine Similarity : 0.47100546237480306\n"
          ]
        }
      ]
    },
    {
      "cell_type": "code",
      "metadata": {
        "id": "a81ZJ4btodqF",
        "colab": {
          "base_uri": "https://localhost:8080/"
        },
        "outputId": "b9db54f3-cf8f-40ea-c361-84ddef9024da"
      },
      "source": [
        "most_similar(0,pairwise_differences,'Euclidean Distance')"
      ],
      "execution_count": 153,
      "outputs": [
        {
          "output_type": "stream",
          "name": "stdout",
          "text": [
            "Document: meio ambiente desenvolvimento sustentavel natureza socioambiental etico ambiental arvore asfalto drenagem natural agua filtragem reutilizacao recurso hidrico fonte natural energia eolico solar gase produzir reciclagem\n",
            "Similar Documents using Euclidean Distance:\n",
            "Id: 3\n",
            "Document: doutora servico social uerj mestre servico social ufrj graduar servico social ufrj possuir experiencia diversos area trabalho profissional servico social empresa assistencia social saude consultoria assessoria ser docente pesquisadora curso graduacao po graduacao servico social trabalhar empresa multinacional farmaceutica glaxosmithkline telefonia celular claro ong obra social setor publico atuar prefeitura condicao concursar autora livro servico social consultoria empresarial organizadora coletanea sobre trabalho servico social direitos humanos\n",
            "Euclidean Distance : 16.341824006220982\n",
            "Id: 1\n",
            "Document: maria celina bodin moraes doutorado direito civil universita di camerino ser professora titular direito civil faculdade direito estado uerj professora associada departamento direito ser abitro parecerista direito privado editora chefe civilistica revista eletronica direito civil qualis ser diretora departamento direito coordenadora area direito faperj atuar area direito privado principalmente mediante metodologia direito civil constitucional tema frequente producao cientifico ser principio constitucional dignidade pessoa humano solidariedade aplicacao direto constituicao relacao privado protecao pessoa vulneravel direito personalidade relacao familiar contrato responsabilidade civil\n",
            "Euclidean Distance : 17.275785523294697\n",
            "Id: 6\n",
            "Document: vitor nascimento aguiar graduar engenharia civil enfase mecanica solo federal ufrj concluir mestrado doutorado engenharia civil geotecnia coppe ufrj pesquisa mestrado doutorado investigar efeito tempo velocidade deformacao adensamento resistencia cisalhamento argila mole saturar atuar dez ano projeto consultoria obra infraestrutura mecasolo engenharia consultoria realizar estagio po doutorado norwegian geotechnical institute ngi atualmente ser professor quadro principal departamento engenharia civil ambiental onde lecionar disciplina laboratorio geotecnia graduacao disciplina ensaios laboratorio geotecnia experimental po graduacao ter exercer cargo secretario executivo associacao brasileira mecanica solo nucleo rj\n",
            "Euclidean Distance : 18.743288795565217\n",
            "Id: 5\n",
            "Document: flavia almeida viveiros castro ser juiza direito professora convidar emerj escola magistratura estado esaj escola administracao judiciaria tribunal justica estado fundacao getulio vargas rj possuir po doutorado direitos humanos instituto jus gentium faculdade direito coimbra ser doutora direito civil constitucional direito estado mestre direito mestre ciencia politica ciencia politica sociologia possuir curso especializacao direito portugues centro estudos judiciarios portugal especializacao ciencia politica instituto metodista bennett graduar direito comunicacao social especialidade jornalismo ser juiza titular vara civel regional barra tijuca ter exercer magistratura vara falencia fazenda publico criminal tribunal juri orfao sucessao familia ja assumir funcao juiza eleitoral zona eleitoral ja exercer funcao marechal hermes bangu pavuna ser juiza corregedora auxiliar corregedora justica exercer docencia palestrante professora convidar area direito civil direito tributario ser coordenadora academico instituto direito coordenadora academico curso po graduacao direito imobiliario direito fiscal direito empresarial direito processual civil direito saude instituto direito rj\n",
            "Euclidean Distance : 19.18399932820779\n",
            "Id: 2\n",
            "Document: possuir graduacao engenharia mecanica mestrado engenharia producao departamento engenharia industrial doutorado engenharia producao mestrado doutorado ser ambo area financas analise investimentos ser consultor master controladoria petroleo brasileiro matriz onde trabalhar ate ser professor adjunto departamento engenharia eletrica ser pesquisador grupo sistemas apoio decisao laboratorio inteligencia computacional aplicar ser autor doi livro texto po graduacao opcao real ser corporate advisor real option group ministrar curso opcao real petrobras alem curso teoria jogo valor informacao ate la ministrar outro curso analise risco projeto financas corporativo project finance ministra curso opcao real desde jogo opcao real desde coordenar varios projeto pesquisa petrobras principalmente tambem fgv mine paris tech ja ser orador principal varias conferencia internacional ja dar seminario opcao real instituicao internacional mit entidade nacional unicamp ufrj alliance fundacao dom cabral criar primeiro website dedicar opcao real desenvolver varias aplicacao inclusive software opcao real petrobras onde tambem implantar padrao analise risco analise investimento informacao outro ter experiencia area engenharia producao enfase avaliacao economica projetos atuar principalmente seguinte tema opcao real analise investimento sob incerteza jogo opcao real teoria jogo exploracao producao petroleo valor informacao analise risco projeto analise investimento energia renovavel custo capital projeto financiamento corporativo\n",
            "Euclidean Distance : 20.176250903574783\n",
            "Id: 4\n",
            "Document: engenheiro mecanico formar federal msc engenharia mecanica phd engenharia mecanica tecnologia aerossois university of minnesota usa professor associado departamento engenharia mecanica onde coordenar grupo pesquisa multidisciplinar engenharia ambiental poluicao atmosferica atuar seguinte tema tecnologia aerossol instrumentacao processo atmosferico biocombustivel controle poluicao poluente local gase efeito estufo captura armazenamento geologico carbono desenvolvimento sensor ambiental geracao energia atraves residuo solido urbano waste to energy wte engenheiro petroleo petrobras cepet onde atuar membro ipcc intergovernmental panel on climate change grupo cientista receber premio nobel paz\n",
            "Euclidean Distance : 20.80057384815627\n"
          ]
        }
      ]
    },
    {
      "cell_type": "markdown",
      "metadata": {
        "id": "aVJRh-cSodqH"
      },
      "source": [
        "#### BERT model"
      ]
    },
    {
      "cell_type": "markdown",
      "metadata": {
        "id": "A2MUNVdXbq05"
      },
      "source": [
        "BERT- Bidirectional Encoder Representation from Transformers (BERT) is a state of the art technique for natural language processing pre-training developed by Google. BERT is trained on unlabelled text including Wikipedia and Book corpus. BERT uses transformer architecture, an attention model to learn embeddings for words.\n",
        "\n",
        "BERT consists of two pre training steps Masked Language Modelling (MLM) and Next Sentence Prediction (NSP). In BERT training text is represented using three embeddings, Token Embeddings + Segment Embeddings + Position Embeddings."
      ]
    },
    {
      "cell_type": "code",
      "metadata": {
        "id": "TY_ReGIRodqH",
        "colab": {
          "base_uri": "https://localhost:8080/"
        },
        "outputId": "103b2622-f46c-4213-8774-459529f5e953"
      },
      "source": [
        "# Install the library using pip\n",
        "!pip install sentence-transformers\n",
        "from sentence_transformers import SentenceTransformer"
      ],
      "execution_count": 154,
      "outputs": [
        {
          "output_type": "stream",
          "name": "stdout",
          "text": [
            "Requirement already satisfied: sentence-transformers in /usr/local/lib/python3.7/dist-packages (2.1.0)\n",
            "Requirement already satisfied: transformers<5.0.0,>=4.6.0 in /usr/local/lib/python3.7/dist-packages (from sentence-transformers) (4.12.0)\n",
            "Requirement already satisfied: numpy in /usr/local/lib/python3.7/dist-packages (from sentence-transformers) (1.19.5)\n",
            "Requirement already satisfied: tqdm in /usr/local/lib/python3.7/dist-packages (from sentence-transformers) (4.62.3)\n",
            "Requirement already satisfied: nltk in /usr/local/lib/python3.7/dist-packages (from sentence-transformers) (3.2.5)\n",
            "Requirement already satisfied: sentencepiece in /usr/local/lib/python3.7/dist-packages (from sentence-transformers) (0.1.96)\n",
            "Requirement already satisfied: huggingface-hub in /usr/local/lib/python3.7/dist-packages (from sentence-transformers) (0.0.19)\n",
            "Requirement already satisfied: scipy in /usr/local/lib/python3.7/dist-packages (from sentence-transformers) (1.4.1)\n",
            "Requirement already satisfied: scikit-learn in /usr/local/lib/python3.7/dist-packages (from sentence-transformers) (0.22.2.post1)\n",
            "Requirement already satisfied: tokenizers>=0.10.3 in /usr/local/lib/python3.7/dist-packages (from sentence-transformers) (0.10.3)\n",
            "Requirement already satisfied: torch>=1.6.0 in /usr/local/lib/python3.7/dist-packages (from sentence-transformers) (1.9.0+cu111)\n",
            "Requirement already satisfied: torchvision in /usr/local/lib/python3.7/dist-packages (from sentence-transformers) (0.10.0+cu111)\n",
            "Requirement already satisfied: typing-extensions in /usr/local/lib/python3.7/dist-packages (from torch>=1.6.0->sentence-transformers) (3.7.4.3)\n",
            "Requirement already satisfied: pyyaml>=5.1 in /usr/local/lib/python3.7/dist-packages (from transformers<5.0.0,>=4.6.0->sentence-transformers) (6.0)\n",
            "Requirement already satisfied: requests in /usr/local/lib/python3.7/dist-packages (from transformers<5.0.0,>=4.6.0->sentence-transformers) (2.23.0)\n",
            "Requirement already satisfied: packaging>=20.0 in /usr/local/lib/python3.7/dist-packages (from transformers<5.0.0,>=4.6.0->sentence-transformers) (21.0)\n",
            "Requirement already satisfied: importlib-metadata in /usr/local/lib/python3.7/dist-packages (from transformers<5.0.0,>=4.6.0->sentence-transformers) (4.8.1)\n",
            "Requirement already satisfied: filelock in /usr/local/lib/python3.7/dist-packages (from transformers<5.0.0,>=4.6.0->sentence-transformers) (3.3.0)\n",
            "Requirement already satisfied: sacremoses in /usr/local/lib/python3.7/dist-packages (from transformers<5.0.0,>=4.6.0->sentence-transformers) (0.0.46)\n",
            "Requirement already satisfied: regex!=2019.12.17 in /usr/local/lib/python3.7/dist-packages (from transformers<5.0.0,>=4.6.0->sentence-transformers) (2019.12.20)\n",
            "Requirement already satisfied: pyparsing>=2.0.2 in /usr/local/lib/python3.7/dist-packages (from packaging>=20.0->transformers<5.0.0,>=4.6.0->sentence-transformers) (2.4.7)\n",
            "Requirement already satisfied: zipp>=0.5 in /usr/local/lib/python3.7/dist-packages (from importlib-metadata->transformers<5.0.0,>=4.6.0->sentence-transformers) (3.6.0)\n",
            "Requirement already satisfied: six in /usr/local/lib/python3.7/dist-packages (from nltk->sentence-transformers) (1.15.0)\n",
            "Requirement already satisfied: urllib3!=1.25.0,!=1.25.1,<1.26,>=1.21.1 in /usr/local/lib/python3.7/dist-packages (from requests->transformers<5.0.0,>=4.6.0->sentence-transformers) (1.24.3)\n",
            "Requirement already satisfied: certifi>=2017.4.17 in /usr/local/lib/python3.7/dist-packages (from requests->transformers<5.0.0,>=4.6.0->sentence-transformers) (2021.5.30)\n",
            "Requirement already satisfied: chardet<4,>=3.0.2 in /usr/local/lib/python3.7/dist-packages (from requests->transformers<5.0.0,>=4.6.0->sentence-transformers) (3.0.4)\n",
            "Requirement already satisfied: idna<3,>=2.5 in /usr/local/lib/python3.7/dist-packages (from requests->transformers<5.0.0,>=4.6.0->sentence-transformers) (2.10)\n",
            "Requirement already satisfied: click in /usr/local/lib/python3.7/dist-packages (from sacremoses->transformers<5.0.0,>=4.6.0->sentence-transformers) (7.1.2)\n",
            "Requirement already satisfied: joblib in /usr/local/lib/python3.7/dist-packages (from sacremoses->transformers<5.0.0,>=4.6.0->sentence-transformers) (1.0.1)\n",
            "Requirement already satisfied: pillow>=5.3.0 in /usr/local/lib/python3.7/dist-packages (from torchvision->sentence-transformers) (7.1.2)\n"
          ]
        }
      ]
    },
    {
      "cell_type": "code",
      "metadata": {
        "id": "IVXJOehRodqK"
      },
      "source": [
        "sbert_model = SentenceTransformer('bert-base-nli-mean-tokens')"
      ],
      "execution_count": 155,
      "outputs": []
    },
    {
      "cell_type": "code",
      "metadata": {
        "id": "JNvfJ6ZnodqM"
      },
      "source": [
        "document_embeddings = sbert_model.encode(documents_df['documents'])"
      ],
      "execution_count": 156,
      "outputs": []
    },
    {
      "cell_type": "code",
      "metadata": {
        "id": "FgMmPQx7o5ny"
      },
      "source": [
        "pairwise_similarities=cosine_similarity(document_embeddings)\n",
        "pairwise_differences=euclidean_distances(document_embeddings)"
      ],
      "execution_count": 157,
      "outputs": []
    },
    {
      "cell_type": "code",
      "metadata": {
        "colab": {
          "base_uri": "https://localhost:8080/"
        },
        "id": "K8jlwGz3o7mv",
        "outputId": "4d2ace0b-8da4-4a56-ed6a-e1c1b839874f"
      },
      "source": [
        "most_similar(0,pairwise_similarities,'Cosine Similarity')"
      ],
      "execution_count": 158,
      "outputs": [
        {
          "output_type": "stream",
          "name": "stdout",
          "text": [
            "Document: meio ambiente desenvolvimento sustentavel natureza socioambiental etico ambiental arvore asfalto drenagem natural agua filtragem reutilizacao recurso hidrico fonte natural energia eolico solar gase produzir reciclagem\n",
            "Similar Documents using Cosine Similarity:\n",
            "Id: 6\n",
            "Document: vitor nascimento aguiar graduar engenharia civil enfase mecanica solo federal ufrj concluir mestrado doutorado engenharia civil geotecnia coppe ufrj pesquisa mestrado doutorado investigar efeito tempo velocidade deformacao adensamento resistencia cisalhamento argila mole saturar atuar dez ano projeto consultoria obra infraestrutura mecasolo engenharia consultoria realizar estagio po doutorado norwegian geotechnical institute ngi atualmente ser professor quadro principal departamento engenharia civil ambiental onde lecionar disciplina laboratorio geotecnia graduacao disciplina ensaios laboratorio geotecnia experimental po graduacao ter exercer cargo secretario executivo associacao brasileira mecanica solo nucleo rj\n",
            "Cosine Similarity : 0.7872856855392456\n",
            "Id: 3\n",
            "Document: doutora servico social uerj mestre servico social ufrj graduar servico social ufrj possuir experiencia diversos area trabalho profissional servico social empresa assistencia social saude consultoria assessoria ser docente pesquisadora curso graduacao po graduacao servico social trabalhar empresa multinacional farmaceutica glaxosmithkline telefonia celular claro ong obra social setor publico atuar prefeitura condicao concursar autora livro servico social consultoria empresarial organizadora coletanea sobre trabalho servico social direitos humanos\n",
            "Cosine Similarity : 0.7225074172019958\n",
            "Id: 2\n",
            "Document: possuir graduacao engenharia mecanica mestrado engenharia producao departamento engenharia industrial doutorado engenharia producao mestrado doutorado ser ambo area financas analise investimentos ser consultor master controladoria petroleo brasileiro matriz onde trabalhar ate ser professor adjunto departamento engenharia eletrica ser pesquisador grupo sistemas apoio decisao laboratorio inteligencia computacional aplicar ser autor doi livro texto po graduacao opcao real ser corporate advisor real option group ministrar curso opcao real petrobras alem curso teoria jogo valor informacao ate la ministrar outro curso analise risco projeto financas corporativo project finance ministra curso opcao real desde jogo opcao real desde coordenar varios projeto pesquisa petrobras principalmente tambem fgv mine paris tech ja ser orador principal varias conferencia internacional ja dar seminario opcao real instituicao internacional mit entidade nacional unicamp ufrj alliance fundacao dom cabral criar primeiro website dedicar opcao real desenvolver varias aplicacao inclusive software opcao real petrobras onde tambem implantar padrao analise risco analise investimento informacao outro ter experiencia area engenharia producao enfase avaliacao economica projetos atuar principalmente seguinte tema opcao real analise investimento sob incerteza jogo opcao real teoria jogo exploracao producao petroleo valor informacao analise risco projeto analise investimento energia renovavel custo capital projeto financiamento corporativo\n",
            "Cosine Similarity : 0.7122756838798523\n",
            "Id: 1\n",
            "Document: maria celina bodin moraes doutorado direito civil universita di camerino ser professora titular direito civil faculdade direito estado uerj professora associada departamento direito ser abitro parecerista direito privado editora chefe civilistica revista eletronica direito civil qualis ser diretora departamento direito coordenadora area direito faperj atuar area direito privado principalmente mediante metodologia direito civil constitucional tema frequente producao cientifico ser principio constitucional dignidade pessoa humano solidariedade aplicacao direto constituicao relacao privado protecao pessoa vulneravel direito personalidade relacao familiar contrato responsabilidade civil\n",
            "Cosine Similarity : 0.7060402035713196\n",
            "Id: 5\n",
            "Document: flavia almeida viveiros castro ser juiza direito professora convidar emerj escola magistratura estado esaj escola administracao judiciaria tribunal justica estado fundacao getulio vargas rj possuir po doutorado direitos humanos instituto jus gentium faculdade direito coimbra ser doutora direito civil constitucional direito estado mestre direito mestre ciencia politica ciencia politica sociologia possuir curso especializacao direito portugues centro estudos judiciarios portugal especializacao ciencia politica instituto metodista bennett graduar direito comunicacao social especialidade jornalismo ser juiza titular vara civel regional barra tijuca ter exercer magistratura vara falencia fazenda publico criminal tribunal juri orfao sucessao familia ja assumir funcao juiza eleitoral zona eleitoral ja exercer funcao marechal hermes bangu pavuna ser juiza corregedora auxiliar corregedora justica exercer docencia palestrante professora convidar area direito civil direito tributario ser coordenadora academico instituto direito coordenadora academico curso po graduacao direito imobiliario direito fiscal direito empresarial direito processual civil direito saude instituto direito rj\n",
            "Cosine Similarity : 0.6978522539138794\n",
            "Id: 4\n",
            "Document: engenheiro mecanico formar federal msc engenharia mecanica phd engenharia mecanica tecnologia aerossois university of minnesota usa professor associado departamento engenharia mecanica onde coordenar grupo pesquisa multidisciplinar engenharia ambiental poluicao atmosferica atuar seguinte tema tecnologia aerossol instrumentacao processo atmosferico biocombustivel controle poluicao poluente local gase efeito estufo captura armazenamento geologico carbono desenvolvimento sensor ambiental geracao energia atraves residuo solido urbano waste to energy wte engenheiro petroleo petrobras cepet onde atuar membro ipcc intergovernmental panel on climate change grupo cientista receber premio nobel paz\n",
            "Cosine Similarity : 0.65067458152771\n"
          ]
        }
      ]
    },
    {
      "cell_type": "code",
      "metadata": {
        "colab": {
          "base_uri": "https://localhost:8080/"
        },
        "id": "neuyIUs3o9Sc",
        "outputId": "0fba545c-46be-487d-9f5d-89f90c7fdc7e"
      },
      "source": [
        "most_similar(0,pairwise_differences,'Euclidean Distance')"
      ],
      "execution_count": 159,
      "outputs": [
        {
          "output_type": "stream",
          "name": "stdout",
          "text": [
            "Document: meio ambiente desenvolvimento sustentavel natureza socioambiental etico ambiental arvore asfalto drenagem natural agua filtragem reutilizacao recurso hidrico fonte natural energia eolico solar gase produzir reciclagem\n",
            "Similar Documents using Euclidean Distance:\n",
            "Id: 6\n",
            "Document: vitor nascimento aguiar graduar engenharia civil enfase mecanica solo federal ufrj concluir mestrado doutorado engenharia civil geotecnia coppe ufrj pesquisa mestrado doutorado investigar efeito tempo velocidade deformacao adensamento resistencia cisalhamento argila mole saturar atuar dez ano projeto consultoria obra infraestrutura mecasolo engenharia consultoria realizar estagio po doutorado norwegian geotechnical institute ngi atualmente ser professor quadro principal departamento engenharia civil ambiental onde lecionar disciplina laboratorio geotecnia graduacao disciplina ensaios laboratorio geotecnia experimental po graduacao ter exercer cargo secretario executivo associacao brasileira mecanica solo nucleo rj\n",
            "Euclidean Distance : 9.370848655700684\n",
            "Id: 3\n",
            "Document: doutora servico social uerj mestre servico social ufrj graduar servico social ufrj possuir experiencia diversos area trabalho profissional servico social empresa assistencia social saude consultoria assessoria ser docente pesquisadora curso graduacao po graduacao servico social trabalhar empresa multinacional farmaceutica glaxosmithkline telefonia celular claro ong obra social setor publico atuar prefeitura condicao concursar autora livro servico social consultoria empresarial organizadora coletanea sobre trabalho servico social direitos humanos\n",
            "Euclidean Distance : 10.778410911560059\n",
            "Id: 1\n",
            "Document: maria celina bodin moraes doutorado direito civil universita di camerino ser professora titular direito civil faculdade direito estado uerj professora associada departamento direito ser abitro parecerista direito privado editora chefe civilistica revista eletronica direito civil qualis ser diretora departamento direito coordenadora area direito faperj atuar area direito privado principalmente mediante metodologia direito civil constitucional tema frequente producao cientifico ser principio constitucional dignidade pessoa humano solidariedade aplicacao direto constituicao relacao privado protecao pessoa vulneravel direito personalidade relacao familiar contrato responsabilidade civil\n",
            "Euclidean Distance : 11.012955665588379\n",
            "Id: 5\n",
            "Document: flavia almeida viveiros castro ser juiza direito professora convidar emerj escola magistratura estado esaj escola administracao judiciaria tribunal justica estado fundacao getulio vargas rj possuir po doutorado direitos humanos instituto jus gentium faculdade direito coimbra ser doutora direito civil constitucional direito estado mestre direito mestre ciencia politica ciencia politica sociologia possuir curso especializacao direito portugues centro estudos judiciarios portugal especializacao ciencia politica instituto metodista bennett graduar direito comunicacao social especialidade jornalismo ser juiza titular vara civel regional barra tijuca ter exercer magistratura vara falencia fazenda publico criminal tribunal juri orfao sucessao familia ja assumir funcao juiza eleitoral zona eleitoral ja exercer funcao marechal hermes bangu pavuna ser juiza corregedora auxiliar corregedora justica exercer docencia palestrante professora convidar area direito civil direito tributario ser coordenadora academico instituto direito coordenadora academico curso po graduacao direito imobiliario direito fiscal direito empresarial direito processual civil direito saude instituto direito rj\n",
            "Euclidean Distance : 11.404048919677734\n",
            "Id: 2\n",
            "Document: possuir graduacao engenharia mecanica mestrado engenharia producao departamento engenharia industrial doutorado engenharia producao mestrado doutorado ser ambo area financas analise investimentos ser consultor master controladoria petroleo brasileiro matriz onde trabalhar ate ser professor adjunto departamento engenharia eletrica ser pesquisador grupo sistemas apoio decisao laboratorio inteligencia computacional aplicar ser autor doi livro texto po graduacao opcao real ser corporate advisor real option group ministrar curso opcao real petrobras alem curso teoria jogo valor informacao ate la ministrar outro curso analise risco projeto financas corporativo project finance ministra curso opcao real desde jogo opcao real desde coordenar varios projeto pesquisa petrobras principalmente tambem fgv mine paris tech ja ser orador principal varias conferencia internacional ja dar seminario opcao real instituicao internacional mit entidade nacional unicamp ufrj alliance fundacao dom cabral criar primeiro website dedicar opcao real desenvolver varias aplicacao inclusive software opcao real petrobras onde tambem implantar padrao analise risco analise investimento informacao outro ter experiencia area engenharia producao enfase avaliacao economica projetos atuar principalmente seguinte tema opcao real analise investimento sob incerteza jogo opcao real teoria jogo exploracao producao petroleo valor informacao analise risco projeto analise investimento energia renovavel custo capital projeto financiamento corporativo\n",
            "Euclidean Distance : 11.453008651733398\n",
            "Id: 4\n",
            "Document: engenheiro mecanico formar federal msc engenharia mecanica phd engenharia mecanica tecnologia aerossois university of minnesota usa professor associado departamento engenharia mecanica onde coordenar grupo pesquisa multidisciplinar engenharia ambiental poluicao atmosferica atuar seguinte tema tecnologia aerossol instrumentacao processo atmosferico biocombustivel controle poluicao poluente local gase efeito estufo captura armazenamento geologico carbono desenvolvimento sensor ambiental geracao energia atraves residuo solido urbano waste to energy wte engenheiro petroleo petrobras cepet onde atuar membro ipcc intergovernmental panel on climate change grupo cientista receber premio nobel paz\n",
            "Euclidean Distance : 12.3447847366333\n"
          ]
        }
      ]
    },
    {
      "cell_type": "markdown",
      "metadata": {
        "id": "vQpFJrtid7wu"
      },
      "source": [
        "## Perform Semantic Search"
      ]
    },
    {
      "cell_type": "code",
      "metadata": {
        "id": "D6wkgQmywt0k",
        "colab": {
          "base_uri": "https://localhost:8080/"
        },
        "outputId": "4dfbfb8f-b7a9-40c3-8bcd-b67a693184db"
      },
      "source": [
        "import scipy\n",
        "#@title Sematic Search Form\n",
        "\n",
        "# code adapted from https://github.com/UKPLab/sentence-transformers/blob/master/examples/application_semantic_search.py\n",
        "\n",
        "query = 'meio ambiente' #@param {type: 'string'}\n",
        "\n",
        "queries = [query]\n",
        "query_embeddings = sbert_model.encode(queries)\n",
        "\n",
        "# Find the closest 5 documents of the corpus for each query sentence based on cosine similarity\n",
        "number_top_matches = 5 #@param {type: \"number\"}\n",
        "\n",
        "print(\"Semantic Search Results\")\n",
        "\n",
        "for query, query_embedding in zip(queries, query_embeddings):\n",
        "    distances = scipy.spatial.distance.cdist([query_embedding], document_embeddings, \"cosine\")[0]\n",
        "\n",
        "    results = zip(range(len(distances)), distances)\n",
        "    results = sorted(results, key=lambda x: x[1])\n",
        "\n",
        "    print(\"\\n\\n======================\\n\\n\")\n",
        "    print(\"Query:\", query)\n",
        "    print(\"\\nTop 5 most similar documents in corpus:\")\n",
        "\n",
        "    for idx, distance in results[0:number_top_matches]:\n",
        "        print(documents_df['documents'][idx].strip(), \"(Cosine Score: %.4f)\" % (1-distance))"
      ],
      "execution_count": 160,
      "outputs": [
        {
          "output_type": "stream",
          "name": "stdout",
          "text": [
            "Semantic Search Results\n",
            "\n",
            "\n",
            "======================\n",
            "\n",
            "\n",
            "Query: meio ambiente\n",
            "\n",
            "Top 5 most similar documents in corpus:\n",
            "meio ambiente desenvolvimento sustentavel natureza socioambiental etico ambiental arvore asfalto drenagem natural agua filtragem reutilizacao recurso hidrico fonte natural energia eolico solar gase produzir reciclagem (Cosine Score: 0.6329)\n",
            "flavia almeida viveiros castro ser juiza direito professora convidar emerj escola magistratura estado esaj escola administracao judiciaria tribunal justica estado fundacao getulio vargas rj possuir po doutorado direitos humanos instituto jus gentium faculdade direito coimbra ser doutora direito civil constitucional direito estado mestre direito mestre ciencia politica ciencia politica sociologia possuir curso especializacao direito portugues centro estudos judiciarios portugal especializacao ciencia politica instituto metodista bennett graduar direito comunicacao social especialidade jornalismo ser juiza titular vara civel regional barra tijuca ter exercer magistratura vara falencia fazenda publico criminal tribunal juri orfao sucessao familia ja assumir funcao juiza eleitoral zona eleitoral ja exercer funcao marechal hermes bangu pavuna ser juiza corregedora auxiliar corregedora justica exercer docencia palestrante professora convidar area direito civil direito tributario ser coordenadora academico instituto direito coordenadora academico curso po graduacao direito imobiliario direito fiscal direito empresarial direito processual civil direito saude instituto direito rj (Cosine Score: 0.6131)\n",
            "maria celina bodin moraes doutorado direito civil universita di camerino ser professora titular direito civil faculdade direito estado uerj professora associada departamento direito ser abitro parecerista direito privado editora chefe civilistica revista eletronica direito civil qualis ser diretora departamento direito coordenadora area direito faperj atuar area direito privado principalmente mediante metodologia direito civil constitucional tema frequente producao cientifico ser principio constitucional dignidade pessoa humano solidariedade aplicacao direto constituicao relacao privado protecao pessoa vulneravel direito personalidade relacao familiar contrato responsabilidade civil (Cosine Score: 0.5941)\n",
            "vitor nascimento aguiar graduar engenharia civil enfase mecanica solo federal ufrj concluir mestrado doutorado engenharia civil geotecnia coppe ufrj pesquisa mestrado doutorado investigar efeito tempo velocidade deformacao adensamento resistencia cisalhamento argila mole saturar atuar dez ano projeto consultoria obra infraestrutura mecasolo engenharia consultoria realizar estagio po doutorado norwegian geotechnical institute ngi atualmente ser professor quadro principal departamento engenharia civil ambiental onde lecionar disciplina laboratorio geotecnia graduacao disciplina ensaios laboratorio geotecnia experimental po graduacao ter exercer cargo secretario executivo associacao brasileira mecanica solo nucleo rj (Cosine Score: 0.5554)\n",
            "possuir graduacao engenharia mecanica mestrado engenharia producao departamento engenharia industrial doutorado engenharia producao mestrado doutorado ser ambo area financas analise investimentos ser consultor master controladoria petroleo brasileiro matriz onde trabalhar ate ser professor adjunto departamento engenharia eletrica ser pesquisador grupo sistemas apoio decisao laboratorio inteligencia computacional aplicar ser autor doi livro texto po graduacao opcao real ser corporate advisor real option group ministrar curso opcao real petrobras alem curso teoria jogo valor informacao ate la ministrar outro curso analise risco projeto financas corporativo project finance ministra curso opcao real desde jogo opcao real desde coordenar varios projeto pesquisa petrobras principalmente tambem fgv mine paris tech ja ser orador principal varias conferencia internacional ja dar seminario opcao real instituicao internacional mit entidade nacional unicamp ufrj alliance fundacao dom cabral criar primeiro website dedicar opcao real desenvolver varias aplicacao inclusive software opcao real petrobras onde tambem implantar padrao analise risco analise investimento informacao outro ter experiencia area engenharia producao enfase avaliacao economica projetos atuar principalmente seguinte tema opcao real analise investimento sob incerteza jogo opcao real teoria jogo exploracao producao petroleo valor informacao analise risco projeto analise investimento energia renovavel custo capital projeto financiamento corporativo (Cosine Score: 0.5137)\n"
          ]
        }
      ]
    }
  ]
}