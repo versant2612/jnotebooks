{
  "nbformat": 4,
  "nbformat_minor": 0,
  "metadata": {
    "colab": {
      "name": "Document_Similarities.ipynb",
      "provenance": [],
      "collapsed_sections": [
        "J3H7zfoTodpF",
        "L7oG1uuGodpp"
      ],
      "include_colab_link": true
    },
    "kernelspec": {
      "display_name": "Python 3",
      "language": "python",
      "name": "python3"
    },
    "language_info": {
      "codemirror_mode": {
        "name": "ipython",
        "version": 3
      },
      "file_extension": ".py",
      "mimetype": "text/x-python",
      "name": "python",
      "nbconvert_exporter": "python",
      "pygments_lexer": "ipython3",
      "version": "3.7.3"
    },
    "widgets": {
      "application/vnd.jupyter.widget-state+json": {
        "9fca9d24c79d4dd388f8ec0fec1726d1": {
          "model_module": "@jupyter-widgets/controls",
          "model_name": "HBoxModel",
          "model_module_version": "1.5.0",
          "state": {
            "_view_name": "HBoxView",
            "_dom_classes": [],
            "_model_name": "HBoxModel",
            "_view_module": "@jupyter-widgets/controls",
            "_model_module_version": "1.5.0",
            "_view_count": null,
            "_view_module_version": "1.5.0",
            "box_style": "",
            "layout": "IPY_MODEL_97004fd8625c408d9d297dc878aa77dc",
            "_model_module": "@jupyter-widgets/controls",
            "children": [
              "IPY_MODEL_86d1fcc5451348c09d6ac6ad9dbf109e",
              "IPY_MODEL_526355aafce64e8380e4c469405534a6",
              "IPY_MODEL_05cb8bc5edce450997006e51f5cd7e5c"
            ]
          }
        },
        "97004fd8625c408d9d297dc878aa77dc": {
          "model_module": "@jupyter-widgets/base",
          "model_name": "LayoutModel",
          "model_module_version": "1.2.0",
          "state": {
            "_view_name": "LayoutView",
            "grid_template_rows": null,
            "right": null,
            "justify_content": null,
            "_view_module": "@jupyter-widgets/base",
            "overflow": null,
            "_model_module_version": "1.2.0",
            "_view_count": null,
            "flex_flow": null,
            "width": null,
            "min_width": null,
            "border": null,
            "align_items": null,
            "bottom": null,
            "_model_module": "@jupyter-widgets/base",
            "top": null,
            "grid_column": null,
            "overflow_y": null,
            "overflow_x": null,
            "grid_auto_flow": null,
            "grid_area": null,
            "grid_template_columns": null,
            "flex": null,
            "_model_name": "LayoutModel",
            "justify_items": null,
            "grid_row": null,
            "max_height": null,
            "align_content": null,
            "visibility": null,
            "align_self": null,
            "height": null,
            "min_height": null,
            "padding": null,
            "grid_auto_rows": null,
            "grid_gap": null,
            "max_width": null,
            "order": null,
            "_view_module_version": "1.2.0",
            "grid_template_areas": null,
            "object_position": null,
            "object_fit": null,
            "grid_auto_columns": null,
            "margin": null,
            "display": null,
            "left": null
          }
        },
        "86d1fcc5451348c09d6ac6ad9dbf109e": {
          "model_module": "@jupyter-widgets/controls",
          "model_name": "HTMLModel",
          "model_module_version": "1.5.0",
          "state": {
            "_view_name": "HTMLView",
            "style": "IPY_MODEL_6ef36e2eaf4b4478b7841866770bb1d1",
            "_dom_classes": [],
            "description": "",
            "_model_name": "HTMLModel",
            "placeholder": "​",
            "_view_module": "@jupyter-widgets/controls",
            "_model_module_version": "1.5.0",
            "value": "Downloading https://raw.githubusercontent.com/stanfordnlp/stanza-resources/main/resources_1.3.0.json: ",
            "_view_count": null,
            "_view_module_version": "1.5.0",
            "description_tooltip": null,
            "_model_module": "@jupyter-widgets/controls",
            "layout": "IPY_MODEL_3c0825f2c2c24909af4efb7dde17812e"
          }
        },
        "526355aafce64e8380e4c469405534a6": {
          "model_module": "@jupyter-widgets/controls",
          "model_name": "FloatProgressModel",
          "model_module_version": "1.5.0",
          "state": {
            "_view_name": "ProgressView",
            "style": "IPY_MODEL_f2a8d45f14be405c97dd0347e89cd862",
            "_dom_classes": [],
            "description": "",
            "_model_name": "FloatProgressModel",
            "bar_style": "success",
            "max": 24459,
            "_view_module": "@jupyter-widgets/controls",
            "_model_module_version": "1.5.0",
            "value": 24459,
            "_view_count": null,
            "_view_module_version": "1.5.0",
            "orientation": "horizontal",
            "min": 0,
            "description_tooltip": null,
            "_model_module": "@jupyter-widgets/controls",
            "layout": "IPY_MODEL_3b3654071275445f93f8d7471c2da6dc"
          }
        },
        "05cb8bc5edce450997006e51f5cd7e5c": {
          "model_module": "@jupyter-widgets/controls",
          "model_name": "HTMLModel",
          "model_module_version": "1.5.0",
          "state": {
            "_view_name": "HTMLView",
            "style": "IPY_MODEL_a9fe7361dba746049641aac0b8d30eca",
            "_dom_classes": [],
            "description": "",
            "_model_name": "HTMLModel",
            "placeholder": "​",
            "_view_module": "@jupyter-widgets/controls",
            "_model_module_version": "1.5.0",
            "value": " 142k/? [00:00&lt;00:00, 3.12MB/s]",
            "_view_count": null,
            "_view_module_version": "1.5.0",
            "description_tooltip": null,
            "_model_module": "@jupyter-widgets/controls",
            "layout": "IPY_MODEL_9215f38a4af14d2da319c80aa2c1abfc"
          }
        },
        "6ef36e2eaf4b4478b7841866770bb1d1": {
          "model_module": "@jupyter-widgets/controls",
          "model_name": "DescriptionStyleModel",
          "model_module_version": "1.5.0",
          "state": {
            "_view_name": "StyleView",
            "_model_name": "DescriptionStyleModel",
            "description_width": "",
            "_view_module": "@jupyter-widgets/base",
            "_model_module_version": "1.5.0",
            "_view_count": null,
            "_view_module_version": "1.2.0",
            "_model_module": "@jupyter-widgets/controls"
          }
        },
        "3c0825f2c2c24909af4efb7dde17812e": {
          "model_module": "@jupyter-widgets/base",
          "model_name": "LayoutModel",
          "model_module_version": "1.2.0",
          "state": {
            "_view_name": "LayoutView",
            "grid_template_rows": null,
            "right": null,
            "justify_content": null,
            "_view_module": "@jupyter-widgets/base",
            "overflow": null,
            "_model_module_version": "1.2.0",
            "_view_count": null,
            "flex_flow": null,
            "width": null,
            "min_width": null,
            "border": null,
            "align_items": null,
            "bottom": null,
            "_model_module": "@jupyter-widgets/base",
            "top": null,
            "grid_column": null,
            "overflow_y": null,
            "overflow_x": null,
            "grid_auto_flow": null,
            "grid_area": null,
            "grid_template_columns": null,
            "flex": null,
            "_model_name": "LayoutModel",
            "justify_items": null,
            "grid_row": null,
            "max_height": null,
            "align_content": null,
            "visibility": null,
            "align_self": null,
            "height": null,
            "min_height": null,
            "padding": null,
            "grid_auto_rows": null,
            "grid_gap": null,
            "max_width": null,
            "order": null,
            "_view_module_version": "1.2.0",
            "grid_template_areas": null,
            "object_position": null,
            "object_fit": null,
            "grid_auto_columns": null,
            "margin": null,
            "display": null,
            "left": null
          }
        },
        "f2a8d45f14be405c97dd0347e89cd862": {
          "model_module": "@jupyter-widgets/controls",
          "model_name": "ProgressStyleModel",
          "model_module_version": "1.5.0",
          "state": {
            "_view_name": "StyleView",
            "_model_name": "ProgressStyleModel",
            "description_width": "",
            "_view_module": "@jupyter-widgets/base",
            "_model_module_version": "1.5.0",
            "_view_count": null,
            "_view_module_version": "1.2.0",
            "bar_color": null,
            "_model_module": "@jupyter-widgets/controls"
          }
        },
        "3b3654071275445f93f8d7471c2da6dc": {
          "model_module": "@jupyter-widgets/base",
          "model_name": "LayoutModel",
          "model_module_version": "1.2.0",
          "state": {
            "_view_name": "LayoutView",
            "grid_template_rows": null,
            "right": null,
            "justify_content": null,
            "_view_module": "@jupyter-widgets/base",
            "overflow": null,
            "_model_module_version": "1.2.0",
            "_view_count": null,
            "flex_flow": null,
            "width": null,
            "min_width": null,
            "border": null,
            "align_items": null,
            "bottom": null,
            "_model_module": "@jupyter-widgets/base",
            "top": null,
            "grid_column": null,
            "overflow_y": null,
            "overflow_x": null,
            "grid_auto_flow": null,
            "grid_area": null,
            "grid_template_columns": null,
            "flex": null,
            "_model_name": "LayoutModel",
            "justify_items": null,
            "grid_row": null,
            "max_height": null,
            "align_content": null,
            "visibility": null,
            "align_self": null,
            "height": null,
            "min_height": null,
            "padding": null,
            "grid_auto_rows": null,
            "grid_gap": null,
            "max_width": null,
            "order": null,
            "_view_module_version": "1.2.0",
            "grid_template_areas": null,
            "object_position": null,
            "object_fit": null,
            "grid_auto_columns": null,
            "margin": null,
            "display": null,
            "left": null
          }
        },
        "a9fe7361dba746049641aac0b8d30eca": {
          "model_module": "@jupyter-widgets/controls",
          "model_name": "DescriptionStyleModel",
          "model_module_version": "1.5.0",
          "state": {
            "_view_name": "StyleView",
            "_model_name": "DescriptionStyleModel",
            "description_width": "",
            "_view_module": "@jupyter-widgets/base",
            "_model_module_version": "1.5.0",
            "_view_count": null,
            "_view_module_version": "1.2.0",
            "_model_module": "@jupyter-widgets/controls"
          }
        },
        "9215f38a4af14d2da319c80aa2c1abfc": {
          "model_module": "@jupyter-widgets/base",
          "model_name": "LayoutModel",
          "model_module_version": "1.2.0",
          "state": {
            "_view_name": "LayoutView",
            "grid_template_rows": null,
            "right": null,
            "justify_content": null,
            "_view_module": "@jupyter-widgets/base",
            "overflow": null,
            "_model_module_version": "1.2.0",
            "_view_count": null,
            "flex_flow": null,
            "width": null,
            "min_width": null,
            "border": null,
            "align_items": null,
            "bottom": null,
            "_model_module": "@jupyter-widgets/base",
            "top": null,
            "grid_column": null,
            "overflow_y": null,
            "overflow_x": null,
            "grid_auto_flow": null,
            "grid_area": null,
            "grid_template_columns": null,
            "flex": null,
            "_model_name": "LayoutModel",
            "justify_items": null,
            "grid_row": null,
            "max_height": null,
            "align_content": null,
            "visibility": null,
            "align_self": null,
            "height": null,
            "min_height": null,
            "padding": null,
            "grid_auto_rows": null,
            "grid_gap": null,
            "max_width": null,
            "order": null,
            "_view_module_version": "1.2.0",
            "grid_template_areas": null,
            "object_position": null,
            "object_fit": null,
            "grid_auto_columns": null,
            "margin": null,
            "display": null,
            "left": null
          }
        }
      }
    }
  },
  "cells": [
    {
      "cell_type": "markdown",
      "metadata": {
        "id": "view-in-github",
        "colab_type": "text"
      },
      "source": [
        "<a href=\"https://colab.research.google.com/github/versant2612/jnotebooks/blob/main/Document_Similarities.ipynb\" target=\"_parent\"><img src=\"https://colab.research.google.com/assets/colab-badge.svg\" alt=\"Open In Colab\"/></a>"
      ]
    },
    {
      "cell_type": "code",
      "metadata": {
        "colab": {
          "base_uri": "https://localhost:8080/"
        },
        "id": "nayjN8Vrodod",
        "outputId": "bab509ce-bf54-467c-f4d6-7d8047529f05"
      },
      "source": [
        "import pandas as pd\n",
        "import numpy as np\n",
        "import nltk\n",
        "nltk.download('stopwords')\n",
        "nltk.download('wordnet')\n",
        "from nltk.corpus import stopwords\n",
        "from textblob import Word\n",
        "import re\n",
        "from sklearn.feature_extraction.text import TfidfVectorizer \n",
        "from sklearn.metrics.pairwise import cosine_similarity\n",
        "from sklearn.metrics.pairwise import euclidean_distances\n",
        "from unicodedata import normalize\n"
      ],
      "execution_count": 1,
      "outputs": [
        {
          "output_type": "stream",
          "name": "stdout",
          "text": [
            "[nltk_data] Downloading package stopwords to /root/nltk_data...\n",
            "[nltk_data]   Package stopwords is already up-to-date!\n",
            "[nltk_data] Downloading package wordnet to /root/nltk_data...\n",
            "[nltk_data]   Package wordnet is already up-to-date!\n"
          ]
        }
      ]
    },
    {
      "cell_type": "code",
      "metadata": {
        "colab": {
          "base_uri": "https://localhost:8080/",
          "height": 343,
          "referenced_widgets": [
            "9fca9d24c79d4dd388f8ec0fec1726d1",
            "97004fd8625c408d9d297dc878aa77dc",
            "86d1fcc5451348c09d6ac6ad9dbf109e",
            "526355aafce64e8380e4c469405534a6",
            "05cb8bc5edce450997006e51f5cd7e5c",
            "6ef36e2eaf4b4478b7841866770bb1d1",
            "3c0825f2c2c24909af4efb7dde17812e",
            "f2a8d45f14be405c97dd0347e89cd862",
            "3b3654071275445f93f8d7471c2da6dc",
            "a9fe7361dba746049641aac0b8d30eca",
            "9215f38a4af14d2da319c80aa2c1abfc"
          ]
        },
        "id": "mC3uNspG2eIj",
        "outputId": "5211cf09-8c6e-46cb-8dc8-25c10f1d624b"
      },
      "source": [
        "# https://lars76.github.io/2018/05/08/portuguese-lemmatizers.html#2\n",
        "!pip install stanza\n",
        "import stanza\n",
        "stanza.download('pt')"
      ],
      "execution_count": 2,
      "outputs": [
        {
          "output_type": "stream",
          "name": "stdout",
          "text": [
            "Requirement already satisfied: stanza in /usr/local/lib/python3.7/dist-packages (1.3.0)\n",
            "Requirement already satisfied: tqdm in /usr/local/lib/python3.7/dist-packages (from stanza) (4.62.3)\n",
            "Requirement already satisfied: requests in /usr/local/lib/python3.7/dist-packages (from stanza) (2.23.0)\n",
            "Requirement already satisfied: emoji in /usr/local/lib/python3.7/dist-packages (from stanza) (1.6.1)\n",
            "Requirement already satisfied: six in /usr/local/lib/python3.7/dist-packages (from stanza) (1.15.0)\n",
            "Requirement already satisfied: numpy in /usr/local/lib/python3.7/dist-packages (from stanza) (1.19.5)\n",
            "Requirement already satisfied: protobuf in /usr/local/lib/python3.7/dist-packages (from stanza) (3.17.3)\n",
            "Requirement already satisfied: torch>=1.3.0 in /usr/local/lib/python3.7/dist-packages (from stanza) (1.9.0+cu111)\n",
            "Requirement already satisfied: typing-extensions in /usr/local/lib/python3.7/dist-packages (from torch>=1.3.0->stanza) (3.7.4.3)\n",
            "Requirement already satisfied: chardet<4,>=3.0.2 in /usr/local/lib/python3.7/dist-packages (from requests->stanza) (3.0.4)\n",
            "Requirement already satisfied: idna<3,>=2.5 in /usr/local/lib/python3.7/dist-packages (from requests->stanza) (2.10)\n",
            "Requirement already satisfied: certifi>=2017.4.17 in /usr/local/lib/python3.7/dist-packages (from requests->stanza) (2021.5.30)\n",
            "Requirement already satisfied: urllib3!=1.25.0,!=1.25.1,<1.26,>=1.21.1 in /usr/local/lib/python3.7/dist-packages (from requests->stanza) (1.24.3)\n"
          ]
        },
        {
          "output_type": "display_data",
          "data": {
            "application/vnd.jupyter.widget-view+json": {
              "model_id": "9fca9d24c79d4dd388f8ec0fec1726d1",
              "version_minor": 0,
              "version_major": 2
            },
            "text/plain": [
              "Downloading https://raw.githubusercontent.com/stanfordnlp/stanza-resources/main/resources_1.3.0.json:   0%|   …"
            ]
          },
          "metadata": {}
        },
        {
          "output_type": "stream",
          "name": "stderr",
          "text": [
            "2021-11-03 02:53:52 INFO: Downloading default packages for language: pt (Portuguese)...\n",
            "2021-11-03 02:53:53 INFO: File exists: /root/stanza_resources/pt/default.zip.\n",
            "2021-11-03 02:53:56 INFO: Finished downloading models and saved to /root/stanza_resources.\n"
          ]
        }
      ]
    },
    {
      "cell_type": "code",
      "metadata": {
        "id": "wv6pYEhdodoi"
      },
      "source": [
        "# Sample corpus\n",
        "documents_corpus = [\n",
        "\"meio ambiente desenvolvimento sustentável natureza socioambientais ética ambiental árvores asfalto drenagem natural de água filtragem reutilização \\\n",
        "dos recursos hídricos fontes naturais de energia eólica e solar gases produzidos reciclagem.\"\n",
        ",\n",
        "\"Maria Celina Bodin de Moraes (Doutorado em direito civil, Università di Camerino, 1986) é Professora Titular de Direito Civil da Faculdade de \\\n",
        "Direito da Universidade do Estado do Rio de Janeiro (UERJ) e Professora Associada do Departamento de Direito da Pontifícia Universidade Católica do \\\n",
        "Rio de Janeiro (PUC-Rio). É ábitra e parecerista em Direito Privado e Editora-chefe da Civilistica.com - Revista Eletrônica de direito civil \\\n",
        "(Qualis A2). Foi diretora do Departamento de Direito da PUC-Rio e coordenadora da área do Direito da Faperj. Atua na área do direito privado, \\\n",
        "principalmente mediante a metodologia do direito civil constitucional. Os temas mais frequentes de sua produção científica são: princípios \\\n",
        "constitucionais da dignidade da pessoa humana e da solidariedade, aplicação direta da Constituição às relações privadas, proteção das pessoas \\\n",
        "vulneráveis, direitos da personalidade, relações familiares, contratos e responsabilidade civil.\"       \n",
        ",\n",
        "\"Possui graduação em Engenharia Mecânica pela Pontifícia Universidade Católica do Rio de Janeiro (1982), mestrado em Engenharia de Produção - \\\n",
        "Departamento de Engenharia Industrial (1996) e doutorado em Engenharia de Produção pela Pontifícia Universidade Católica do Rio de Janeiro (2005). \\\n",
        "O mestrado e doutorado foram ambos na área de Finanças e Análise de Investimentos. Foi Consultor Master da Controladoria - Petróleo Brasileiro - \\\n",
        "Rio de Janeiro - Matriz, onde trabalhou de 01/02/1983 até 05/12/2016. É Professor Adjunto do Departamento de Engenharia Elétrica - PUC-Rio, sendo \\\n",
        "pesquisador do Grupo de Sistemas de Apoio à Decisão - Laboratório de Inteligência Computacional Aplicada. É autor de dois livros texto (pós-graduação) \\\n",
        "de opções reais. É Corporate Advisor do Real Options Group. Ministrou cursos de opções reais na Petrobras de 1996 a 2016, além de cursos de teoria \\\n",
        "dos jogos e valor da informação até 2016. Lá ministrou outros cursos como de análise de risco em projetos, finanças corporativas e project finance. \\\n",
        "Na PUC-Rio ministra curso de opções reais desde 2005 e de jogos de opções reais desde 2006. Coordenou vários projetos de pesquisa entre a Petrobras \\\n",
        "e universidades (principalmente PUC-Rio, mas também FGV e Mines Paris Tech). Já foi orador principal em várias conferências internacionais. Já deu \\\n",
        "seminários de opções reais em instituições internacionais (como o MIT em 2002 e 2003) e entidades nacionais (como a Unicamp em 1998, UFRJ em 2003 e \\\n",
        "a Alliance e Fundação Dom Cabral em 2005). Criou o primeiro website dedicado a opções reais (na PUC em 1995). Desenvolveu várias aplicações \\\n",
        "(inclusive software) de opções reais na Petrobras, onde também implantou padrões de análise de risco, de análise de investimento em informação e \\\n",
        "outros. Tem experiência na área de Engenharia de Produção, com ênfase em Avaliação Econômica de Projetos, atuando principalmente nos seguintes temas: \\\n",
        "opções reais, análise de investimentos sob incertezas, jogos de opções reais, teoria dos jogos, exploração e produção de petróleo, valor da informação, \\\n",
        "análise de risco em projetos, análise de investimento em energia renovável, custo de capital de projetos e financiamento corporativo.\"\n",
        ",\n",
        "\"Doutora em Serviço Social (UERJ-2015). Mestre em Serviço Social (UFRJ -2010). Graduada em Serviço Social (UFRJ -1999). Possui experiência em \\\n",
        "diversas áreas do trabalho profissional do Serviço Social ( Empresa, AssistÊncia Social, Saúde, consultoria/assessoria). É docente e pesquisadora da \\\n",
        "Pontifícia Universidade Católica do Rio de Janeiro nos cursos de graduação e pós-graduação em Serviço Social, trabalhou em empresas multinacionais \\\n",
        "(Farmacêutica - GlaxoSmithKline e Telefonia celular- Claro), ONG (Obra Social do Rio de Janeiro), no setor público atuou na Prefeitura do Rio de \\\n",
        "Janeiro na condição de concursada. Autora do Livro Serviço Social e Consultoria Empresarial (2020), organizadora de coletâneas sobre trabalho, \\\n",
        "Serviço Social e Direitos Humanos.\"\n",
        ",\n",
        "\"Engenheiro Mecânico formado pela Universidade Federal do Rio de Janeiro (1980), MSc em Engenharia Mecânica pela Pontifícia Universidade Católica \\\n",
        "do Rio de Janeiro (1988) e PhD em Engenharia Mecânica - Tecnologia de Aerossóis pela University of Minnesota (1994), USA. Professor Associado do \\\n",
        "Departamento de Engenharia Mecânica da Pontifícia Universidade Católica do Rio de Janeiro, onde coordena o grupo de pesquisas multidisciplinar de \\\n",
        "Engenharia Ambiental - Poluição Atmosférica atuando nos seguintes temas: tecnologia de aerossóis e instrumentação, processos atmosféricos, \\\n",
        "biocombustíveis, controle da poluição (poluentes locais e gases de efeito estufa), captura e armazenamento geológico de carbono, desenvolvimento de \\\n",
        "sensores ambientais, e geração de energia através de resíduos sólidos urbanos (Waste to Energy, WTE). Engenheiro de Petróleo pela Petrobras (CEPET 81), \\\n",
        "onde atuou entre 1981-1985. Membro do IPCC - Intergovernmental Panel on Climate Change (entre 2004-2017), grupo de cientistas que recebeu o Prêmio Nobel\\\n",
        " da Paz em 2007.\"\n",
        ",\n",
        "\"Flávia de Almeida Viveiros de Castro é Juíza de Direito e Professora Convidada da EMERJ (Escola da Magistratura do Estado do Rio de Janeiro) ESAJ \\\n",
        "(Escola de Administração Judiciária do Tribunal de Justiça do Estado do Rio de Janeiro) e Fundação Getúlio Vargas - RJ; Possui Pós-Doutorado em \\\n",
        "Direitos Humanos pelo Instituto JUS GENTIUM da Faculdade de Direito de Coimbra (2017/18). É doutora em Direito o Civil-Constitucional pela Universidade \\\n",
        "de Direito do Estado do Rio de Janeiro(2006). Mestre em Direito pela Pontifícia Universidade Católica do Rio de Janeiro (1999); Mestre em Ciência \\\n",
        "Política (Ciência Política e Sociologia) pela Pontifícia Universidade Católica do Rio de Janeiro (1990); Possui curso de Especialização em direito \\\n",
        "português pelo Centro de Estudos Judiciários de Portugal (1997) e Especialização em Ciência Política, pelo Instituto Metodista Bennett (1985); Graduada \\\n",
        "em Direito e em Comunicação Social, especialidade Jornalismo pela Pontifícia Universidade Católica do Rio de Janeiro (1980 e 1990). É Juíza Titular da \\\n",
        "6ª Vara Cível Regional da Barra da Tijuca, tendo exercido a magistratura em varas de falência, fazenda pública, criminal, tribunal do júri, orfãos e \\\n",
        "sucessões e família. Já assumiu a função de Juíza Eleitoral na 175 Zona Eleitoral. Já exerceu a mesma função em Marechal Hermes, Bangu e Pavuna. Foi \\\n",
        "Juíza Corregedora - Auxiliar da Corregedora de Justiça em (1996);Exerce a docência como palestrante e professora convidada nas áreas de Direito Civil \\\n",
        "e Direito Tributário. Foi coordenadora acadêmica do Instituto de direito da Pontifícia Universidade Católica do Rio de Janeiro e coordenadora acadêmica \\\n",
        "dos cursos de pós-graduação em direito imobiliário, direito fiscal, direito empresarial, direito processual civil e direito da saúde do Instituto de \\\n",
        "Direito da PUC-RJ.\"\n",
        ",\n",
        "\"Vitor Nascimento Aguiar graduou-se em Engenharia Civil com ênfase em Mecânica dos Solos na Universidade Federal do Rio de Janeiro (UFRJ) em 2006. \\\n",
        "Concluiu o mestrado e o doutorado em Engenharia Civil (Geotecnia) pela COPPE/UFRJ em 2008 e 2014. Em suas pesquisas de mestrado e doutorado, investigou \\\n",
        "efeitos de tempo e de velocidade de deformação no adensamento e na resistência ao cisalhamento de argilas moles saturadas. Atuou por dez anos em \\\n",
        "projetos e consultorias de obras de infraestrutura na Mecasolo Engenharia e Consultoria. Realizou estágio de pós-doutorado no Norwegian Geotechnical \\\n",
        "Institute (NGI) de 2017 a 2018. Atualmente é professor do quadro principal do Departamento de Engenharia Civil e Ambiental da Pontifícia Universidade \\\n",
        "Católica do Rio de Janeiro (PUC-Rio), onde leciona a disciplina de Laboratório de Geotecnia na graduação e as disciplinas de Ensaios de Laboratório e \\\n",
        "Geotecnia Experimental na pós-graduação. Tem exercido o cargo de secretário executivo na Associação Brasileira de Mecânica dos Solos - Núcleo RJ.\"\n",
        "]"
      ],
      "execution_count": 3,
      "outputs": []
    },
    {
      "cell_type": "code",
      "metadata": {
        "colab": {
          "base_uri": "https://localhost:8080/"
        },
        "id": "oDGevMav4_9s",
        "outputId": "fc2f325d-56c2-4441-9dde-48b80f8d7bbe"
      },
      "source": [
        "# lemmatization for portuguese\n",
        "\n",
        "stnz = stanza.Pipeline('pt', use_gpu=False)\n",
        "\n",
        "# lemmas_df=pd.DataFrame(stnz(documents),columns=['documents'])\n",
        "\n",
        "# doc = stnz(documents_df['documents'][0])\n",
        "# for sent in doc.sentences: \n",
        "#  for word in sent.words:\n",
        "#    print(word.lemma)\n",
        "\n",
        "length = len(documents_corpus)\n",
        "documents_stnz = []\n",
        "documents = []\n",
        "for i in range(length):\n",
        "  documents_stnz.append(stnz(documents_corpus[i]))\n",
        "  documents.append('')\n",
        "  for sent in documents_stnz[i].sentences: \n",
        "    for word in sent.words:\n",
        "      documents[i] = documents[i] + \" \" + word.lemma\n",
        "\n",
        "# documents_df['documents']=documents_df['documents'].apply(lambda x: \" \".join(word.lemma for sent in stnz(documents_df).sentences for word in sent.words))\n",
        "\n",
        "# documents_df['documents'].apply(lambda x: \" \".join(str(word.lemma for sent in stnz(x).sentences for word in sent.words) for x in x.split()))"
      ],
      "execution_count": 4,
      "outputs": [
        {
          "output_type": "stream",
          "name": "stderr",
          "text": [
            "2021-11-03 02:53:56 INFO: Loading these models for language: pt (Portuguese):\n",
            "=======================\n",
            "| Processor | Package |\n",
            "-----------------------\n",
            "| tokenize  | bosque  |\n",
            "| mwt       | bosque  |\n",
            "| pos       | bosque  |\n",
            "| lemma     | bosque  |\n",
            "| depparse  | bosque  |\n",
            "=======================\n",
            "\n",
            "2021-11-03 02:53:56 INFO: Use device: cpu\n",
            "2021-11-03 02:53:56 INFO: Loading: tokenize\n",
            "2021-11-03 02:53:56 INFO: Loading: mwt\n",
            "2021-11-03 02:53:56 INFO: Loading: pos\n",
            "2021-11-03 02:53:56 INFO: Loading: lemma\n",
            "2021-11-03 02:53:56 INFO: Loading: depparse\n",
            "2021-11-03 02:53:57 INFO: Done loading processors!\n",
            "/usr/local/lib/python3.7/dist-packages/torch/_tensor.py:575: UserWarning: floor_divide is deprecated, and will be removed in a future version of pytorch. It currently rounds toward 0 (like the 'trunc' function NOT 'floor'). This results in incorrect rounding for negative values.\n",
            "To keep the current behavior, use torch.div(a, b, rounding_mode='trunc'), or for actual floor division, use torch.div(a, b, rounding_mode='floor'). (Triggered internally at  /pytorch/aten/src/ATen/native/BinaryOps.cpp:467.)\n",
            "  return torch.floor_divide(self, other)\n"
          ]
        }
      ]
    },
    {
      "cell_type": "code",
      "metadata": {
        "id": "hZNxg33Yodok"
      },
      "source": [
        "pd.set_option('display.max_colwidth', 0)\n",
        "pd.set_option('display.max_columns', 0)"
      ],
      "execution_count": 5,
      "outputs": []
    },
    {
      "cell_type": "code",
      "metadata": {
        "id": "4915Wqjiodon"
      },
      "source": [
        "documents_df=pd.DataFrame(documents,columns=['documents'])"
      ],
      "execution_count": 6,
      "outputs": []
    },
    {
      "cell_type": "markdown",
      "metadata": {
        "id": "obVfuYPFodop"
      },
      "source": [
        "### Corpus Dataframe"
      ]
    },
    {
      "cell_type": "code",
      "metadata": {
        "colab": {
          "base_uri": "https://localhost:8080/",
          "height": 998
        },
        "id": "r8QnxTXkodoq",
        "outputId": "c94a1828-efa0-41c1-ea79-5318cc5dc120"
      },
      "source": [
        "documents_df"
      ],
      "execution_count": 7,
      "outputs": [
        {
          "output_type": "execute_result",
          "data": {
            "text/html": [
              "<div>\n",
              "<style scoped>\n",
              "    .dataframe tbody tr th:only-of-type {\n",
              "        vertical-align: middle;\n",
              "    }\n",
              "\n",
              "    .dataframe tbody tr th {\n",
              "        vertical-align: top;\n",
              "    }\n",
              "\n",
              "    .dataframe thead th {\n",
              "        text-align: right;\n",
              "    }\n",
              "</style>\n",
              "<table border=\"1\" class=\"dataframe\">\n",
              "  <thead>\n",
              "    <tr style=\"text-align: right;\">\n",
              "      <th></th>\n",
              "      <th>documents</th>\n",
              "    </tr>\n",
              "  </thead>\n",
              "  <tbody>\n",
              "    <tr>\n",
              "      <th>0</th>\n",
              "      <td>meio ambiente desenvolvimento sustentável natureza socioambiental ético ambiental árvore asfalto drenagem natural de água filtragem reutilização de o recurso hídrico fonte natural de energia eólico e solar gase produzir reciclagem .</td>\n",
              "    </tr>\n",
              "    <tr>\n",
              "      <th>1</th>\n",
              "      <td>Maria Celina Bodin de Moraes ( Doutorado em direito civil , Università di Camerino , 1986 ) ser Professora Titular de Direito Civil de o Faculdade de Direito de o Universidade de o Estado de o Rio de Janeiro ( UERJ ) e Professora Associada de o Departamento de Direito de o Pontifícia Universidade Católica de o Rio de Janeiro ( PUC-Rio ) . ser ábitro e parecerista em Direito Privado e Editora-chefe de o Civilistica . com - revista Eletrônica de direito civil ( Qualis A2 ) . ser diretora de o Departamento de Direito de o PUC-Rio e coordenadora de o área de o Direito de o Faperj . atuar em o área de o direito privado , principalmente mediante o metodologia de o direito civil constitucional . o tema mais frequente de seu produção científico ser : princípio constitucional de o dignidade de o pessoa humano e de o solidariedade , aplicação direto de o constituição a o relação privado , proteção de o pessoa vulnerável , direito de o personalidade , relação familiar , contrato e responsabilidade civil .</td>\n",
              "    </tr>\n",
              "    <tr>\n",
              "      <th>2</th>\n",
              "      <td>possuir graduação em Engenharia Mecânica por o Pontifícia Universidade Católica de o Rio de Janeiro ( 1982 ) , mestrado em Engenharia de Produção - Departamento de Engenharia Industrial ( 1996 ) e doutorado em Engenharia de Produção por o Pontifícia Universidade Católica de o Rio de Janeiro ( 2005 ) . o mestrado e doutorado ser ambos em o área de Finanças e Análise de Investimentos . ser Consultor Master de o Controladoria - Petróleo Brasileiro - Rio de Janeiro - Matriz , onde trabalhar de 01/02/1983 até 05/12/2016 . ser Professor Adjunto de o Departamento de Engenharia Elétrica - PUC-Rio , ser pesquisador de o Grupo de Sistemas de Apoio a o decisão - Laboratório de Inteligência Computacional aplicar . ser autor de dois livro texto ( pós-graduação ) de opção real . ser Corporate Advisor de o Real Options Group . ministrar curso de opção real em o Petrobras de 1996 a 2016 , além de curso de teoria de o jogo e valor de o informação até 2016 . lá ministrar outro curso como de análise de risco em projeto , finanças corporativo e project finance . em o PUC-Rio ministra curso de opção real desde 2005 e de jogo de opção real desde 2006 . coordenar vários projeto de pesquisa entre o Petrobras e universidade ( principalmente PUC-Rio , mas também FGV e Mines Paris Tech ) . já ser orador principal em várias conferência internacional . já dar seminário de opção real em instituição internacional ( como o MIT em 2002 e 2003 ) e entidade nacional ( como o Unicamp em 1998 , UFRJ em 2003 e o Alliance e Fundação Dom Cabral em 2005 ) . criar o primeiro website dedicar a opção real ( em o PUC em 1995 ) . desenvolver várias aplicação ( inclusive software ) de opção real em o Petrobras , onde também implantar padrão de análise de risco , de análise de investimento em informação e outro . ter experiência em o área de Engenharia de Produção , com ênfase em Avaliação Econômica de Projetos , atuar principalmente em o seguinte tema : opção real , análise de investimento sob incerteza , jogo de opção real , teoria de o jogo , exploração e produção de petróleo , valor de o informação , análise de risco em projeto , análise de investimento em energia renovável , custo de capital de projeto e financiamento corporativo .</td>\n",
              "    </tr>\n",
              "    <tr>\n",
              "      <th>3</th>\n",
              "      <td>doutora em Serviço Social ( UERJ-2015 ) . mestre em Serviço Social ( UFRJ -2010 ) . graduar em Serviço Social ( UFRJ -1999 ) . possuir experiência em diversos área de o trabalho profissional de o Serviço Social ( Empresa , AssistÊncia Social , Saúde , consultoria / assessoria ) . ser docente e pesquisadora de o Pontifícia Universidade Católica de o Rio de Janeiro em o curso de graduação e pós-graduação em Serviço Social , trabalhar em empresa multinacional ( Farmacêutica - GlaxoSmithKline e Telefonia celular - Claro ) , ONG ( Obra Social de o Rio de Janeiro ) , em o setor público atuar em o Prefeitura de o Rio de Janeiro em o condição de concursar . autora de o Livro Serviço Social e Consultoria Empresarial ( 2020 ) , organizadora de coletânea sobre trabalho , Serviço Social e Direitos Humanos .</td>\n",
              "    </tr>\n",
              "    <tr>\n",
              "      <th>4</th>\n",
              "      <td>engenheiro mecânico formar por o Universidade Federal de o Rio de Janeiro ( 1980 ) , MSc em Engenharia Mecânica por o Pontifícia Universidade Católica de o Rio de Janeiro ( 1988 ) e PhD em Engenharia Mecânica - Tecnologia de Aerossóis por o University of Minnesota ( 1994 ) , USA . professor associado de o Departamento de Engenharia Mecânica de o Pontifícia Universidade Católica de o Rio de Janeiro , onde coordenar o grupo de pesquisa multidisciplinar de Engenharia Ambiental - Poluição Atmosférica atuar em o seguinte tema : tecnologia de aerossol e instrumentação , processo atmosférico , biocombustível , controle de o poluição ( poluente local e gase de efeito estufo ) , captura e armazenamento geológico de carbono , desenvolvimento de sensor ambiental , e geração de energia através de resíduo sólido urbano ( Waste to Energy , WTE ) . engenheiro de Petróleo por o Petrobras ( CEPET 81 ) , onde atuar entre 1981-1985 . membro de o IPCC - Intergovernmental Panel on Climate Change ( entre 2004-2017 ) , grupo de cientista que receber o Prêmio Nobel de o Paz em 2007 .</td>\n",
              "    </tr>\n",
              "    <tr>\n",
              "      <th>5</th>\n",
              "      <td>Flávia de Almeida Viveiros de Castro ser Juíza de Direito e Professora convidar de o EMERJ ( Escola de o Magistratura de o Estado de o Rio de Janeiro ) ESAJ ( Escola de Administração Judiciária de o Tribunal de Justiça de o Estado de o Rio de Janeiro ) e Fundação Getúlio Vargas - RJ ; possuir Pós-Doutorado em Direitos Humanos por o Instituto JUS Gentium de o Faculdade de Direito de Coimbra ( 2017/18 ) . ser doutora em Direito o Civil-Constitucional por o Universidade de Direito de o Estado de o Rio de Janeiro(2006 ) . mestre em direito por o Pontifícia Universidade Católica de o Rio de Janeiro ( 1999 ) ; Mestre em Ciência Política ( Ciência Política e Sociologia ) por o Pontifícia Universidade Católica de o Rio de Janeiro ( 1990 ) ; possuir curso de especialização em direito português por o Centro de Estudos Judiciários de Portugal ( 1997 ) e Especialização em Ciência Política , por o Instituto Metodista Bennett ( 1985 ) ; graduar em Direito e em Comunicação Social , especialidade Jornalismo por o Pontifícia Universidade Católica de o Rio de Janeiro ( 1980 e 1990 ) . ser Juíza Titular de o 6ª Vara Cível Regional de o Barra de o Tijuca , ter exercer o magistratura em vara de falência , fazenda público , criminal , tribunal de o júri , órfão e sucessão e família . já assumir o função de Juíza Eleitoral em o 175 Zona Eleitoral . já exercer o mesmo função em Marechal Hermes , Bangu e Pavuna . ser Juíza Corregedora - Auxiliar de o Corregedora de Justiça em ( 1996 ) ; exercer o docência como palestrante e professora convidar em o área de Direito Civil e Direito Tributário . ser coordenadora acadêmico de o Instituto de direito de o Pontifícia Universidade Católica de o Rio de Janeiro e coordenadora acadêmico de o curso de pós-graduação em direito imobiliário , direito fiscal , direito empresarial , direito processual civil e direito de o saúde de o Instituto de Direito de o PUC-RJ .</td>\n",
              "    </tr>\n",
              "    <tr>\n",
              "      <th>6</th>\n",
              "      <td>Vitor Nascimento Aguiar graduar se em Engenharia Civil com ênfase em Mecânica de o Solos em o Universidade Federal de o Rio de Janeiro ( UFRJ ) em 2006 . concluir o mestrado e o doutorado em Engenharia Civil ( Geotecnia ) por o COPPE/UFRJ em 2008 e 2014 . em seu pesquisa de mestrado e doutorado , investigar efeito de tempo e de velocidade de deformação em o adensamento e em o resistência a o cisalhamento de argila mole saturar . atuar por dez ano em projeto e consultoria de obra de infraestrutura em o Mecasolo Engenharia e Consultoria . realizar estágio de pós-doutorado em o Norwegian Geotechnical Institute ( NGI ) de 2017 a 2018 . atualmente ser professor de o quadro principal de o Departamento de Engenharia Civil e Ambiental de o Pontifícia Universidade Católica de o Rio de Janeiro ( PUC-Rio ) , onde lecionar o disciplina de Laboratório de Geotecnia em o graduação e o disciplina de Ensaios de Laboratório e Geotecnia Experimental em o pós-graduação . ter exercer o cargo de secretário executivo em o Associação Brasileira de Mecânica de o Solos - Núcleo RJ .</td>\n",
              "    </tr>\n",
              "  </tbody>\n",
              "</table>\n",
              "</div>"
            ],
            "text/plain": [
              "                                                                                                                                                                                                                                                                                                                                                                                                                                                                                                                                                                                                                                                                                                                                                                                                                                                                                                                                                                                                                                                                                                                                                                                                                                                                                                                                                                                                                                                                                                                                                                                                                                                                                                                                                                                                                                                                                                                                                                                                                                                                                                                                                                                                                                                                                                               documents\n",
              "0   meio ambiente desenvolvimento sustentável natureza socioambiental ético ambiental árvore asfalto drenagem natural de água filtragem reutilização de o recurso hídrico fonte natural de energia eólico e solar gase produzir reciclagem .                                                                                                                                                                                                                                                                                                                                                                                                                                                                                                                                                                                                                                                                                                                                                                                                                                                                                                                                                                                                                                                                                                                                                                                                                                                                                                                                                                                                                                                                                                                                                                                                                                                                                                                                                                                                                                                                                                                                                                                                                                                                            \n",
              "1   Maria Celina Bodin de Moraes ( Doutorado em direito civil , Università di Camerino , 1986 ) ser Professora Titular de Direito Civil de o Faculdade de Direito de o Universidade de o Estado de o Rio de Janeiro ( UERJ ) e Professora Associada de o Departamento de Direito de o Pontifícia Universidade Católica de o Rio de Janeiro ( PUC-Rio ) . ser ábitro e parecerista em Direito Privado e Editora-chefe de o Civilistica . com - revista Eletrônica de direito civil ( Qualis A2 ) . ser diretora de o Departamento de Direito de o PUC-Rio e coordenadora de o área de o Direito de o Faperj . atuar em o área de o direito privado , principalmente mediante o metodologia de o direito civil constitucional . o tema mais frequente de seu produção científico ser : princípio constitucional de o dignidade de o pessoa humano e de o solidariedade , aplicação direto de o constituição a o relação privado , proteção de o pessoa vulnerável , direito de o personalidade , relação familiar , contrato e responsabilidade civil .                                                                                                                                                                                                                                                                                                                                                                                                                                                                                                                                                                                                                                                                                                                                                                                                                                                                                                                                                                                                                                                                                                                                                                                                                                                                   \n",
              "2   possuir graduação em Engenharia Mecânica por o Pontifícia Universidade Católica de o Rio de Janeiro ( 1982 ) , mestrado em Engenharia de Produção - Departamento de Engenharia Industrial ( 1996 ) e doutorado em Engenharia de Produção por o Pontifícia Universidade Católica de o Rio de Janeiro ( 2005 ) . o mestrado e doutorado ser ambos em o área de Finanças e Análise de Investimentos . ser Consultor Master de o Controladoria - Petróleo Brasileiro - Rio de Janeiro - Matriz , onde trabalhar de 01/02/1983 até 05/12/2016 . ser Professor Adjunto de o Departamento de Engenharia Elétrica - PUC-Rio , ser pesquisador de o Grupo de Sistemas de Apoio a o decisão - Laboratório de Inteligência Computacional aplicar . ser autor de dois livro texto ( pós-graduação ) de opção real . ser Corporate Advisor de o Real Options Group . ministrar curso de opção real em o Petrobras de 1996 a 2016 , além de curso de teoria de o jogo e valor de o informação até 2016 . lá ministrar outro curso como de análise de risco em projeto , finanças corporativo e project finance . em o PUC-Rio ministra curso de opção real desde 2005 e de jogo de opção real desde 2006 . coordenar vários projeto de pesquisa entre o Petrobras e universidade ( principalmente PUC-Rio , mas também FGV e Mines Paris Tech ) . já ser orador principal em várias conferência internacional . já dar seminário de opção real em instituição internacional ( como o MIT em 2002 e 2003 ) e entidade nacional ( como o Unicamp em 1998 , UFRJ em 2003 e o Alliance e Fundação Dom Cabral em 2005 ) . criar o primeiro website dedicar a opção real ( em o PUC em 1995 ) . desenvolver várias aplicação ( inclusive software ) de opção real em o Petrobras , onde também implantar padrão de análise de risco , de análise de investimento em informação e outro . ter experiência em o área de Engenharia de Produção , com ênfase em Avaliação Econômica de Projetos , atuar principalmente em o seguinte tema : opção real , análise de investimento sob incerteza , jogo de opção real , teoria de o jogo , exploração e produção de petróleo , valor de o informação , análise de risco em projeto , análise de investimento em energia renovável , custo de capital de projeto e financiamento corporativo .\n",
              "3   doutora em Serviço Social ( UERJ-2015 ) . mestre em Serviço Social ( UFRJ -2010 ) . graduar em Serviço Social ( UFRJ -1999 ) . possuir experiência em diversos área de o trabalho profissional de o Serviço Social ( Empresa , AssistÊncia Social , Saúde , consultoria / assessoria ) . ser docente e pesquisadora de o Pontifícia Universidade Católica de o Rio de Janeiro em o curso de graduação e pós-graduação em Serviço Social , trabalhar em empresa multinacional ( Farmacêutica - GlaxoSmithKline e Telefonia celular - Claro ) , ONG ( Obra Social de o Rio de Janeiro ) , em o setor público atuar em o Prefeitura de o Rio de Janeiro em o condição de concursar . autora de o Livro Serviço Social e Consultoria Empresarial ( 2020 ) , organizadora de coletânea sobre trabalho , Serviço Social e Direitos Humanos .                                                                                                                                                                                                                                                                                                                                                                                                                                                                                                                                                                                                                                                                                                                                                                                                                                                                                                                                                                                                                                                                                                                                                                                                                                                                                                                                                                                                                                                                              \n",
              "4   engenheiro mecânico formar por o Universidade Federal de o Rio de Janeiro ( 1980 ) , MSc em Engenharia Mecânica por o Pontifícia Universidade Católica de o Rio de Janeiro ( 1988 ) e PhD em Engenharia Mecânica - Tecnologia de Aerossóis por o University of Minnesota ( 1994 ) , USA . professor associado de o Departamento de Engenharia Mecânica de o Pontifícia Universidade Católica de o Rio de Janeiro , onde coordenar o grupo de pesquisa multidisciplinar de Engenharia Ambiental - Poluição Atmosférica atuar em o seguinte tema : tecnologia de aerossol e instrumentação , processo atmosférico , biocombustível , controle de o poluição ( poluente local e gase de efeito estufo ) , captura e armazenamento geológico de carbono , desenvolvimento de sensor ambiental , e geração de energia através de resíduo sólido urbano ( Waste to Energy , WTE ) . engenheiro de Petróleo por o Petrobras ( CEPET 81 ) , onde atuar entre 1981-1985 . membro de o IPCC - Intergovernmental Panel on Climate Change ( entre 2004-2017 ) , grupo de cientista que receber o Prêmio Nobel de o Paz em 2007 .                                                                                                                                                                                                                                                                                                                                                                                                                                                                                                                                                                                                                                                                                                                                                                                                                                                                                                                                                                                                                                                                                                                                                                                                \n",
              "5   Flávia de Almeida Viveiros de Castro ser Juíza de Direito e Professora convidar de o EMERJ ( Escola de o Magistratura de o Estado de o Rio de Janeiro ) ESAJ ( Escola de Administração Judiciária de o Tribunal de Justiça de o Estado de o Rio de Janeiro ) e Fundação Getúlio Vargas - RJ ; possuir Pós-Doutorado em Direitos Humanos por o Instituto JUS Gentium de o Faculdade de Direito de Coimbra ( 2017/18 ) . ser doutora em Direito o Civil-Constitucional por o Universidade de Direito de o Estado de o Rio de Janeiro(2006 ) . mestre em direito por o Pontifícia Universidade Católica de o Rio de Janeiro ( 1999 ) ; Mestre em Ciência Política ( Ciência Política e Sociologia ) por o Pontifícia Universidade Católica de o Rio de Janeiro ( 1990 ) ; possuir curso de especialização em direito português por o Centro de Estudos Judiciários de Portugal ( 1997 ) e Especialização em Ciência Política , por o Instituto Metodista Bennett ( 1985 ) ; graduar em Direito e em Comunicação Social , especialidade Jornalismo por o Pontifícia Universidade Católica de o Rio de Janeiro ( 1980 e 1990 ) . ser Juíza Titular de o 6ª Vara Cível Regional de o Barra de o Tijuca , ter exercer o magistratura em vara de falência , fazenda público , criminal , tribunal de o júri , órfão e sucessão e família . já assumir o função de Juíza Eleitoral em o 175 Zona Eleitoral . já exercer o mesmo função em Marechal Hermes , Bangu e Pavuna . ser Juíza Corregedora - Auxiliar de o Corregedora de Justiça em ( 1996 ) ; exercer o docência como palestrante e professora convidar em o área de Direito Civil e Direito Tributário . ser coordenadora acadêmico de o Instituto de direito de o Pontifícia Universidade Católica de o Rio de Janeiro e coordenadora acadêmico de o curso de pós-graduação em direito imobiliário , direito fiscal , direito empresarial , direito processual civil e direito de o saúde de o Instituto de Direito de o PUC-RJ .                                                                                                                                                                                                                                                                                                                                \n",
              "6   Vitor Nascimento Aguiar graduar se em Engenharia Civil com ênfase em Mecânica de o Solos em o Universidade Federal de o Rio de Janeiro ( UFRJ ) em 2006 . concluir o mestrado e o doutorado em Engenharia Civil ( Geotecnia ) por o COPPE/UFRJ em 2008 e 2014 . em seu pesquisa de mestrado e doutorado , investigar efeito de tempo e de velocidade de deformação em o adensamento e em o resistência a o cisalhamento de argila mole saturar . atuar por dez ano em projeto e consultoria de obra de infraestrutura em o Mecasolo Engenharia e Consultoria . realizar estágio de pós-doutorado em o Norwegian Geotechnical Institute ( NGI ) de 2017 a 2018 . atualmente ser professor de o quadro principal de o Departamento de Engenharia Civil e Ambiental de o Pontifícia Universidade Católica de o Rio de Janeiro ( PUC-Rio ) , onde lecionar o disciplina de Laboratório de Geotecnia em o graduação e o disciplina de Ensaios de Laboratório e Geotecnia Experimental em o pós-graduação . ter exercer o cargo de secretário executivo em o Associação Brasileira de Mecânica de o Solos - Núcleo RJ .                                                                                                                                                                                                                                                                                                                                                                                                                                                                                                                                                                                                                                                                                                                                                                                                                                                                                                                                                                                                                                                                                                                                                                                                   "
            ]
          },
          "metadata": {},
          "execution_count": 7
        }
      ]
    },
    {
      "cell_type": "code",
      "metadata": {
        "id": "Cgea0X8Nodot"
      },
      "source": [
        "# removing special characters and stop words from the text\n",
        "stop = stopwords.words('portuguese')\n",
        "# stop.extend(['puc-rio', 'puc', 'rio', 'janeiro', 'pontificia', 'universidade', 'catolica'])\n",
        "documents_df['documents']=documents_df['documents'].apply(lambda x: \" \".join(normalize('NFD', x).encode('ascii', 'ignore').decode(\"utf-8\").lower() for x in x.split() if x not in stop ))\n",
        "documents_df['documents'] = documents_df['documents'].apply(lambda x: \" \".join(re.sub('[^a-zA-Z \\n]', ' ', x).lower() for x in x.split()))\n",
        "# documents_df['documents'] = documents_df['documents'].apply(lambda x: \" \".join(Word(x).lemmatize() for x in x.split() if x not in stop))"
      ],
      "execution_count": 8,
      "outputs": []
    },
    {
      "cell_type": "code",
      "metadata": {
        "colab": {
          "base_uri": "https://localhost:8080/",
          "height": 807
        },
        "id": "fMj8I122bcmH",
        "outputId": "584e6f4f-817e-402e-bfe8-7c4126ead993"
      },
      "source": [
        "documents_df"
      ],
      "execution_count": 9,
      "outputs": [
        {
          "output_type": "execute_result",
          "data": {
            "text/html": [
              "<div>\n",
              "<style scoped>\n",
              "    .dataframe tbody tr th:only-of-type {\n",
              "        vertical-align: middle;\n",
              "    }\n",
              "\n",
              "    .dataframe tbody tr th {\n",
              "        vertical-align: top;\n",
              "    }\n",
              "\n",
              "    .dataframe thead th {\n",
              "        text-align: right;\n",
              "    }\n",
              "</style>\n",
              "<table border=\"1\" class=\"dataframe\">\n",
              "  <thead>\n",
              "    <tr style=\"text-align: right;\">\n",
              "      <th></th>\n",
              "      <th>documents</th>\n",
              "    </tr>\n",
              "  </thead>\n",
              "  <tbody>\n",
              "    <tr>\n",
              "      <th>0</th>\n",
              "      <td>meio ambiente desenvolvimento sustentavel natureza socioambiental etico ambiental arvore asfalto drenagem natural agua filtragem reutilizacao recurso hidrico fonte natural energia eolico solar gase produzir reciclagem</td>\n",
              "    </tr>\n",
              "    <tr>\n",
              "      <th>1</th>\n",
              "      <td>maria celina bodin moraes   doutorado direito civil   universita di camerino          ser professora titular direito civil faculdade direito universidade estado rio janeiro   uerj   professora associada departamento direito pontificia universidade catolica rio janeiro   puc rio     ser abitro parecerista direito privado editora chefe civilistica     revista eletronica direito civil   qualis a      ser diretora departamento direito puc rio coordenadora area direito faperj   atuar area direito privado   principalmente mediante metodologia direito civil constitucional   tema frequente producao cientifico ser   principio constitucional dignidade pessoa humano solidariedade   aplicacao direto constituicao relacao privado   protecao pessoa vulneravel   direito personalidade   relacao familiar   contrato responsabilidade civil</td>\n",
              "    </tr>\n",
              "    <tr>\n",
              "      <th>2</th>\n",
              "      <td>possuir graduacao engenharia mecanica pontificia universidade catolica rio janeiro            mestrado engenharia producao   departamento engenharia industrial          doutorado engenharia producao pontificia universidade catolica rio janeiro            mestrado doutorado ser ambos area financas analise investimentos   ser consultor master controladoria   petroleo brasileiro   rio janeiro   matriz   onde trabalhar                         ser professor adjunto departamento engenharia eletrica   puc rio   ser pesquisador grupo sistemas apoio decisao   laboratorio inteligencia computacional aplicar   ser autor dois livro texto   pos graduacao   opcao real   ser corporate advisor real options group   ministrar curso opcao real petrobras             alem curso teoria jogo valor informacao        la ministrar outro curso analise risco projeto   financas corporativo project finance   puc rio ministra curso opcao real desde      jogo opcao real desde        coordenar varios projeto pesquisa petrobras universidade   principalmente puc rio   fgv mines paris tech     ser orador principal varias conferencia internacional   dar seminario opcao real instituicao internacional   mit             entidade nacional   unicamp        ufrj      alliance fundacao dom cabral          criar primeiro website dedicar opcao real   puc          desenvolver varias aplicacao   inclusive software   opcao real petrobras   onde implantar padrao analise risco   analise investimento informacao outro   ter experiencia area engenharia producao   enfase avaliacao economica projetos   atuar principalmente seguinte tema   opcao real   analise investimento sob incerteza   jogo opcao real   teoria jogo   exploracao producao petroleo   valor informacao   analise risco projeto   analise investimento energia renovavel   custo capital projeto financiamento corporativo</td>\n",
              "    </tr>\n",
              "    <tr>\n",
              "      <th>3</th>\n",
              "      <td>doutora servico social   uerj          mestre servico social   ufrj           graduar servico social   ufrj           possuir experiencia diversos area trabalho profissional servico social   empresa   assistencia social   saude   consultoria   assessoria     ser docente pesquisadora pontificia universidade catolica rio janeiro curso graduacao pos graduacao servico social   trabalhar empresa multinacional   farmaceutica   glaxosmithkline telefonia celular   claro     ong   obra social rio janeiro     setor publico atuar prefeitura rio janeiro condicao concursar   autora livro servico social consultoria empresarial            organizadora coletanea sobre trabalho   servico social direitos humanos</td>\n",
              "    </tr>\n",
              "    <tr>\n",
              "      <th>4</th>\n",
              "      <td>engenheiro mecanico formar universidade federal rio janeiro            msc engenharia mecanica pontificia universidade catolica rio janeiro          phd engenharia mecanica   tecnologia aerossois university of minnesota            usa   professor associado departamento engenharia mecanica pontificia universidade catolica rio janeiro   onde coordenar grupo pesquisa multidisciplinar engenharia ambiental   poluicao atmosferica atuar seguinte tema   tecnologia aerossol instrumentacao   processo atmosferico   biocombustivel   controle poluicao   poluente local gase efeito estufo     captura armazenamento geologico carbono   desenvolvimento sensor ambiental   geracao energia atraves residuo solido urbano   waste to energy   wte     engenheiro petroleo petrobras   cepet        onde atuar             membro ipcc   intergovernmental panel on climate change                 grupo cientista receber premio nobel paz</td>\n",
              "    </tr>\n",
              "    <tr>\n",
              "      <th>5</th>\n",
              "      <td>flavia almeida viveiros castro ser juiza direito professora convidar emerj   escola magistratura estado rio janeiro   esaj   escola administracao judiciaria tribunal justica estado rio janeiro   fundacao getulio vargas   rj   possuir pos doutorado direitos humanos instituto jus gentium faculdade direito coimbra               ser doutora direito civil constitucional universidade direito estado rio janeiro          mestre direito pontificia universidade catolica rio janeiro            mestre ciencia politica   ciencia politica sociologia   pontificia universidade catolica rio janeiro            possuir curso especializacao direito portugues centro estudos judiciarios portugal          especializacao ciencia politica   instituto metodista bennett            graduar direito comunicacao social   especialidade jornalismo pontificia universidade catolica rio janeiro                 ser juiza titular   vara civel regional barra tijuca   ter exercer magistratura vara falencia   fazenda publico   criminal   tribunal juri   orfao sucessao familia   assumir funcao juiza eleitoral     zona eleitoral   exercer funcao marechal hermes   bangu pavuna   ser juiza corregedora   auxiliar corregedora justica            exercer docencia palestrante professora convidar area direito civil direito tributario   ser coordenadora academico instituto direito pontificia universidade catolica rio janeiro coordenadora academico curso pos graduacao direito imobiliario   direito fiscal   direito empresarial   direito processual civil direito saude instituto direito puc rj</td>\n",
              "    </tr>\n",
              "    <tr>\n",
              "      <th>6</th>\n",
              "      <td>vitor nascimento aguiar graduar engenharia civil enfase mecanica solos universidade federal rio janeiro   ufrj          concluir mestrado doutorado engenharia civil   geotecnia   coppe ufrj             pesquisa mestrado doutorado   investigar efeito tempo velocidade deformacao adensamento resistencia cisalhamento argila mole saturar   atuar dez ano projeto consultoria obra infraestrutura mecasolo engenharia consultoria   realizar estagio pos doutorado norwegian geotechnical institute   ngi               atualmente ser professor quadro principal departamento engenharia civil ambiental pontificia universidade catolica rio janeiro   puc rio     onde lecionar disciplina laboratorio geotecnia graduacao disciplina ensaios laboratorio geotecnia experimental pos graduacao   ter exercer cargo secretario executivo associacao brasileira mecanica solos   nucleo rj</td>\n",
              "    </tr>\n",
              "  </tbody>\n",
              "</table>\n",
              "</div>"
            ],
            "text/plain": [
              "                                                                                                                                                                                                                                                                                                                                                                                                                                                                                                                                                                                                                                                                                                                                                                                                                                                                                                                                                                                                                                                                                                                                                                                                                                                                                                                                                                                                                                                                                                                                                                                                                                                                                                                                                                                                                                                                                                                          documents\n",
              "0  meio ambiente desenvolvimento sustentavel natureza socioambiental etico ambiental arvore asfalto drenagem natural agua filtragem reutilizacao recurso hidrico fonte natural energia eolico solar gase produzir reciclagem                                                                                                                                                                                                                                                                                                                                                                                                                                                                                                                                                                                                                                                                                                                                                                                                                                                                                                                                                                                                                                                                                                                                                                                                                                                                                                                                                                                                                                                                                                                                                                                                                                                                                                       \n",
              "1  maria celina bodin moraes   doutorado direito civil   universita di camerino          ser professora titular direito civil faculdade direito universidade estado rio janeiro   uerj   professora associada departamento direito pontificia universidade catolica rio janeiro   puc rio     ser abitro parecerista direito privado editora chefe civilistica     revista eletronica direito civil   qualis a      ser diretora departamento direito puc rio coordenadora area direito faperj   atuar area direito privado   principalmente mediante metodologia direito civil constitucional   tema frequente producao cientifico ser   principio constitucional dignidade pessoa humano solidariedade   aplicacao direto constituicao relacao privado   protecao pessoa vulneravel   direito personalidade   relacao familiar   contrato responsabilidade civil                                                                                                                                                                                                                                                                                                                                                                                                                                                                                                                                                                                                                                                                                                                                                                                                                                                                                                                                                                                                                                                                 \n",
              "2  possuir graduacao engenharia mecanica pontificia universidade catolica rio janeiro            mestrado engenharia producao   departamento engenharia industrial          doutorado engenharia producao pontificia universidade catolica rio janeiro            mestrado doutorado ser ambos area financas analise investimentos   ser consultor master controladoria   petroleo brasileiro   rio janeiro   matriz   onde trabalhar                         ser professor adjunto departamento engenharia eletrica   puc rio   ser pesquisador grupo sistemas apoio decisao   laboratorio inteligencia computacional aplicar   ser autor dois livro texto   pos graduacao   opcao real   ser corporate advisor real options group   ministrar curso opcao real petrobras             alem curso teoria jogo valor informacao        la ministrar outro curso analise risco projeto   financas corporativo project finance   puc rio ministra curso opcao real desde      jogo opcao real desde        coordenar varios projeto pesquisa petrobras universidade   principalmente puc rio   fgv mines paris tech     ser orador principal varias conferencia internacional   dar seminario opcao real instituicao internacional   mit             entidade nacional   unicamp        ufrj      alliance fundacao dom cabral          criar primeiro website dedicar opcao real   puc          desenvolver varias aplicacao   inclusive software   opcao real petrobras   onde implantar padrao analise risco   analise investimento informacao outro   ter experiencia area engenharia producao   enfase avaliacao economica projetos   atuar principalmente seguinte tema   opcao real   analise investimento sob incerteza   jogo opcao real   teoria jogo   exploracao producao petroleo   valor informacao   analise risco projeto   analise investimento energia renovavel   custo capital projeto financiamento corporativo  \n",
              "3  doutora servico social   uerj          mestre servico social   ufrj           graduar servico social   ufrj           possuir experiencia diversos area trabalho profissional servico social   empresa   assistencia social   saude   consultoria   assessoria     ser docente pesquisadora pontificia universidade catolica rio janeiro curso graduacao pos graduacao servico social   trabalhar empresa multinacional   farmaceutica   glaxosmithkline telefonia celular   claro     ong   obra social rio janeiro     setor publico atuar prefeitura rio janeiro condicao concursar   autora livro servico social consultoria empresarial            organizadora coletanea sobre trabalho   servico social direitos humanos                                                                                                                                                                                                                                                                                                                                                                                                                                                                                                                                                                                                                                                                                                                                                                                                                                                                                                                                                                                                                                                                                                                                                                                                 \n",
              "4  engenheiro mecanico formar universidade federal rio janeiro            msc engenharia mecanica pontificia universidade catolica rio janeiro          phd engenharia mecanica   tecnologia aerossois university of minnesota            usa   professor associado departamento engenharia mecanica pontificia universidade catolica rio janeiro   onde coordenar grupo pesquisa multidisciplinar engenharia ambiental   poluicao atmosferica atuar seguinte tema   tecnologia aerossol instrumentacao   processo atmosferico   biocombustivel   controle poluicao   poluente local gase efeito estufo     captura armazenamento geologico carbono   desenvolvimento sensor ambiental   geracao energia atraves residuo solido urbano   waste to energy   wte     engenheiro petroleo petrobras   cepet        onde atuar             membro ipcc   intergovernmental panel on climate change                 grupo cientista receber premio nobel paz                                                                                                                                                                                                                                                                                                                                                                                                                                                                                                                                                                                                                                                                                                                                                                                                                                                                                                                                                                            \n",
              "5  flavia almeida viveiros castro ser juiza direito professora convidar emerj   escola magistratura estado rio janeiro   esaj   escola administracao judiciaria tribunal justica estado rio janeiro   fundacao getulio vargas   rj   possuir pos doutorado direitos humanos instituto jus gentium faculdade direito coimbra               ser doutora direito civil constitucional universidade direito estado rio janeiro          mestre direito pontificia universidade catolica rio janeiro            mestre ciencia politica   ciencia politica sociologia   pontificia universidade catolica rio janeiro            possuir curso especializacao direito portugues centro estudos judiciarios portugal          especializacao ciencia politica   instituto metodista bennett            graduar direito comunicacao social   especialidade jornalismo pontificia universidade catolica rio janeiro                 ser juiza titular   vara civel regional barra tijuca   ter exercer magistratura vara falencia   fazenda publico   criminal   tribunal juri   orfao sucessao familia   assumir funcao juiza eleitoral     zona eleitoral   exercer funcao marechal hermes   bangu pavuna   ser juiza corregedora   auxiliar corregedora justica            exercer docencia palestrante professora convidar area direito civil direito tributario   ser coordenadora academico instituto direito pontificia universidade catolica rio janeiro coordenadora academico curso pos graduacao direito imobiliario   direito fiscal   direito empresarial   direito processual civil direito saude instituto direito puc rj                                                                                                                                                                                                                                                                                                    \n",
              "6  vitor nascimento aguiar graduar engenharia civil enfase mecanica solos universidade federal rio janeiro   ufrj          concluir mestrado doutorado engenharia civil   geotecnia   coppe ufrj             pesquisa mestrado doutorado   investigar efeito tempo velocidade deformacao adensamento resistencia cisalhamento argila mole saturar   atuar dez ano projeto consultoria obra infraestrutura mecasolo engenharia consultoria   realizar estagio pos doutorado norwegian geotechnical institute   ngi               atualmente ser professor quadro principal departamento engenharia civil ambiental pontificia universidade catolica rio janeiro   puc rio     onde lecionar disciplina laboratorio geotecnia graduacao disciplina ensaios laboratorio geotecnia experimental pos graduacao   ter exercer cargo secretario executivo associacao brasileira mecanica solos   nucleo rj                                                                                                                                                                                                                                                                                                                                                                                                                                                                                                                                                                                                                                                                                                                                                                                                                                                                                                                                                                                                                                "
            ]
          },
          "metadata": {},
          "execution_count": 9
        }
      ]
    },
    {
      "cell_type": "markdown",
      "metadata": {
        "id": "M6cklpWTodow"
      },
      "source": [
        "#### Tf-idf vectors"
      ]
    },
    {
      "cell_type": "markdown",
      "metadata": {
        "id": "8-G2ZRAZTxch"
      },
      "source": [
        "TfidfVectorizer: Convert a collection of raw documents to a matrix of TF-IDF features. Equivalent to CountVectorizer followed by TfidfTransformer."
      ]
    },
    {
      "cell_type": "code",
      "metadata": {
        "id": "zXaJKxWIT7ao"
      },
      "source": [
        "tfidfvectoriser=TfidfVectorizer(max_features=128)\n",
        "tfidfvectoriser.fit(documents_df['documents'])\n",
        "tfidf_vectors=tfidfvectoriser.transform(documents_df['documents'])"
      ],
      "execution_count": 10,
      "outputs": []
    },
    {
      "cell_type": "code",
      "metadata": {
        "colab": {
          "base_uri": "https://localhost:8080/"
        },
        "id": "uHOrtNQQodoz",
        "outputId": "cceb133e-6db0-4102-e1b0-07d23b912073"
      },
      "source": [
        "tfidf_vectors.shape"
      ],
      "execution_count": 11,
      "outputs": [
        {
          "output_type": "execute_result",
          "data": {
            "text/plain": [
              "(7, 128)"
            ]
          },
          "metadata": {},
          "execution_count": 11
        }
      ]
    },
    {
      "cell_type": "code",
      "metadata": {
        "colab": {
          "base_uri": "https://localhost:8080/"
        },
        "id": "7xCyYJNAuaSz",
        "outputId": "5a773628-7ac7-4973-e1b1-a1ac99efe651"
      },
      "source": [
        "# Every vector is already normalised to have unit L2 norm\n",
        "np.linalg.norm(tfidf_vectors.toarray()[0],ord=2)"
      ],
      "execution_count": 12,
      "outputs": [
        {
          "output_type": "execute_result",
          "data": {
            "text/plain": [
              "1.0"
            ]
          },
          "metadata": {},
          "execution_count": 12
        }
      ]
    },
    {
      "cell_type": "code",
      "metadata": {
        "colab": {
          "base_uri": "https://localhost:8080/"
        },
        "id": "0ZfJLWirodo2",
        "outputId": "eb4f13f3-e063-4384-f4d0-3219242d4b40"
      },
      "source": [
        "tfidf_vectors=tfidf_vectors.toarray()\n",
        "print (tfidf_vectors[0])"
      ],
      "execution_count": 13,
      "outputs": [
        {
          "output_type": "stream",
          "name": "stdout",
          "text": [
            "[0.         0.26109401 0.         0.         0.         0.\n",
            " 0.         0.         0.         0.         0.         0.\n",
            " 0.         0.         0.         0.         0.         0.\n",
            " 0.         0.3054564  0.         0.         0.         0.\n",
            " 0.         0.         0.         0.         0.         0.26109401\n",
            " 0.         0.         0.         0.         0.         0.\n",
            " 0.         0.         0.         0.         0.         0.\n",
            " 0.         0.3054564  0.         0.         0.         0.\n",
            " 0.         0.         0.         0.         0.         0.\n",
            " 0.         0.         0.         0.         0.         0.\n",
            " 0.         0.         0.         0.         0.         0.\n",
            " 0.73596337 0.36798169 0.         0.         0.         0.\n",
            " 0.         0.         0.         0.         0.         0.\n",
            " 0.         0.         0.         0.         0.         0.\n",
            " 0.         0.         0.         0.         0.         0.\n",
            " 0.         0.         0.         0.         0.         0.\n",
            " 0.         0.         0.         0.         0.         0.\n",
            " 0.         0.         0.         0.         0.         0.\n",
            " 0.         0.         0.         0.         0.         0.\n",
            " 0.         0.         0.         0.         0.         0.\n",
            " 0.         0.         0.         0.         0.         0.\n",
            " 0.         0.        ]\n"
          ]
        }
      ]
    },
    {
      "cell_type": "markdown",
      "metadata": {
        "id": "xvB33Dg6odo4"
      },
      "source": [
        "##### Every document has been converted into a 64 dimensional vector. As we set the max_features=64"
      ]
    },
    {
      "cell_type": "markdown",
      "metadata": {
        "id": "GguRnIYsodo4"
      },
      "source": [
        "### Pairwise similarity\n",
        "\n",
        "##### Pairwise cosine similarity would just be the dot product of the vectors becasue tf-idf vectors from sklearn are already normalized and L2 norm of these vectors is 1. So denominator of cosine similiarity formula is 1 in this case."
      ]
    },
    {
      "cell_type": "code",
      "metadata": {
        "id": "1GFWHXK1odo5"
      },
      "source": [
        "pairwise_similarities=np.dot(tfidf_vectors,tfidf_vectors.T)\n",
        "pairwise_differences=euclidean_distances(tfidf_vectors)"
      ],
      "execution_count": 14,
      "outputs": []
    },
    {
      "cell_type": "code",
      "metadata": {
        "colab": {
          "base_uri": "https://localhost:8080/"
        },
        "id": "zOFiIAfRodo7",
        "outputId": "38671b5a-86fa-4743-d7c6-439cdd87c9e6"
      },
      "source": [
        "print (tfidf_vectors[0])\n",
        "print (pairwise_similarities.shape)\n",
        "print (pairwise_similarities[0][:])"
      ],
      "execution_count": 15,
      "outputs": [
        {
          "output_type": "stream",
          "name": "stdout",
          "text": [
            "[0.         0.26109401 0.         0.         0.         0.\n",
            " 0.         0.         0.         0.         0.         0.\n",
            " 0.         0.         0.         0.         0.         0.\n",
            " 0.         0.3054564  0.         0.         0.         0.\n",
            " 0.         0.         0.         0.         0.         0.26109401\n",
            " 0.         0.         0.         0.         0.         0.\n",
            " 0.         0.         0.         0.         0.         0.\n",
            " 0.         0.3054564  0.         0.         0.         0.\n",
            " 0.         0.         0.         0.         0.         0.\n",
            " 0.         0.         0.         0.         0.         0.\n",
            " 0.         0.         0.         0.         0.         0.\n",
            " 0.73596337 0.36798169 0.         0.         0.         0.\n",
            " 0.         0.         0.         0.         0.         0.\n",
            " 0.         0.         0.         0.         0.         0.\n",
            " 0.         0.         0.         0.         0.         0.\n",
            " 0.         0.         0.         0.         0.         0.\n",
            " 0.         0.         0.         0.         0.         0.\n",
            " 0.         0.         0.         0.         0.         0.\n",
            " 0.         0.         0.         0.         0.         0.\n",
            " 0.         0.         0.         0.         0.         0.\n",
            " 0.         0.         0.         0.         0.         0.\n",
            " 0.         0.        ]\n",
            "(7, 7)\n",
            "[1.         0.         0.00894008 0.         0.14553449 0.\n",
            " 0.02271826]\n"
          ]
        }
      ]
    },
    {
      "cell_type": "markdown",
      "metadata": {
        "id": "x8oqU9Mwodo-"
      },
      "source": [
        "##### similarity is highest, 1 at index 0 becasue they are the same documents"
      ]
    },
    {
      "cell_type": "code",
      "metadata": {
        "id": "m487mu9_odo-"
      },
      "source": [
        "def most_similar(doc_id,similarity_matrix,matrix):\n",
        "    print (f'Document: {documents_df.iloc[doc_id][\"documents\"]}')\n",
        "    print (f'Similar Documents using {matrix}:')\n",
        "    if matrix=='Cosine Similarity':\n",
        "        similar_ix=np.argsort(similarity_matrix[doc_id])[::-1]\n",
        "    elif matrix=='Euclidean Distance':\n",
        "        similar_ix=np.argsort(similarity_matrix[doc_id])\n",
        "    for ix in similar_ix:\n",
        "        if ix==doc_id:\n",
        "            continue\n",
        "        print('Id:', ix, '... ', end=\"\")\n",
        "#        print (f'Document: {documents_df.iloc[ix][\"documents\"]}')\n",
        "        print (f'{matrix} : {similarity_matrix[doc_id][ix]}')"
      ],
      "execution_count": 16,
      "outputs": []
    },
    {
      "cell_type": "code",
      "metadata": {
        "colab": {
          "base_uri": "https://localhost:8080/"
        },
        "id": "OJsEh4QaodpA",
        "outputId": "42b0a63c-2944-4706-9fed-29158804cbf0"
      },
      "source": [
        "most_similar(0,pairwise_similarities,'Cosine Similarity')"
      ],
      "execution_count": 17,
      "outputs": [
        {
          "output_type": "stream",
          "name": "stdout",
          "text": [
            "Document: meio ambiente desenvolvimento sustentavel natureza socioambiental etico ambiental arvore asfalto drenagem natural agua filtragem reutilizacao recurso hidrico fonte natural energia eolico solar gase produzir reciclagem  \n",
            "Similar Documents using Cosine Similarity:\n",
            "Id: 4 ... Cosine Similarity : 0.1455344884543932\n",
            "Id: 6 ... Cosine Similarity : 0.022718259353533755\n",
            "Id: 2 ... Cosine Similarity : 0.00894008178769479\n",
            "Id: 5 ... Cosine Similarity : 0.0\n",
            "Id: 3 ... Cosine Similarity : 0.0\n",
            "Id: 1 ... Cosine Similarity : 0.0\n"
          ]
        }
      ]
    },
    {
      "cell_type": "code",
      "metadata": {
        "colab": {
          "base_uri": "https://localhost:8080/"
        },
        "id": "KwNyW4XqodpD",
        "outputId": "1ec86a40-c5f3-48ad-f0e1-26230b908389"
      },
      "source": [
        "most_similar(0,pairwise_differences,'Euclidean Distance')"
      ],
      "execution_count": 18,
      "outputs": [
        {
          "output_type": "stream",
          "name": "stdout",
          "text": [
            "Document: meio ambiente desenvolvimento sustentavel natureza socioambiental etico ambiental arvore asfalto drenagem natural agua filtragem reutilizacao recurso hidrico fonte natural energia eolico solar gase produzir reciclagem  \n",
            "Similar Documents using Euclidean Distance:\n",
            "Id: 4 ... Euclidean Distance : 1.3072608856273538\n",
            "Id: 6 ... Euclidean Distance : 1.3980570379254675\n",
            "Id: 2 ... Euclidean Distance : 1.407877777516433\n",
            "Id: 3 ... Euclidean Distance : 1.4142135623730947\n",
            "Id: 1 ... Euclidean Distance : 1.414213562373095\n",
            "Id: 5 ... Euclidean Distance : 1.4142135623730951\n"
          ]
        }
      ]
    },
    {
      "cell_type": "markdown",
      "metadata": {
        "id": "J3H7zfoTodpF"
      },
      "source": [
        "#### word2vec embeddings"
      ]
    },
    {
      "cell_type": "code",
      "metadata": {
        "colab": {
          "base_uri": "https://localhost:8080/"
        },
        "id": "pEbPb6BJodpF",
        "outputId": "f4bd7297-80f0-4534-ab7e-2e8002db250d"
      },
      "source": [
        "from keras.preprocessing.text import Tokenizer\n",
        "import gensim\n",
        "from keras.preprocessing.sequence import pad_sequences\n",
        "from nltk.tokenize import word_tokenize\n",
        "import nltk\n",
        "nltk.download('punkt')"
      ],
      "execution_count": 19,
      "outputs": [
        {
          "output_type": "stream",
          "name": "stdout",
          "text": [
            "[nltk_data] Downloading package punkt to /root/nltk_data...\n",
            "[nltk_data]   Package punkt is already up-to-date!\n"
          ]
        },
        {
          "output_type": "execute_result",
          "data": {
            "text/plain": [
              "True"
            ]
          },
          "metadata": {},
          "execution_count": 19
        }
      ]
    },
    {
      "cell_type": "code",
      "metadata": {
        "colab": {
          "base_uri": "https://localhost:8080/"
        },
        "id": "cHlL6XtFodpI",
        "outputId": "b0f5bf95-170e-47b1-faaa-b930e5a35086"
      },
      "source": [
        "# tokenize and pad every document to make them of the same size\n",
        "tokenizer=Tokenizer()\n",
        "tokenizer.fit_on_texts(documents_df['documents'])\n",
        "tokenized_documents=tokenizer.texts_to_sequences(documents_df['documents'])\n",
        "tokenized_paded_documents=pad_sequences(tokenized_documents,maxlen=128,padding='post')\n",
        "vocab_size=len(tokenizer.word_index)+1\n",
        "\n",
        "print (tokenized_paded_documents[0])"
      ],
      "execution_count": 20,
      "outputs": [
        {
          "output_type": "stream",
          "name": "stdout",
          "text": [
            "[113 114  60 115 116 117 118  28 119 120 121  61 122 123 124 125 126 127\n",
            "  61  39 128 129  62 130 131   0   0   0   0   0   0   0   0   0   0   0\n",
            "   0   0   0   0   0   0   0   0   0   0   0   0   0   0   0   0   0   0\n",
            "   0   0   0   0   0   0   0   0   0   0   0   0   0   0   0   0   0   0\n",
            "   0   0   0   0   0   0   0   0   0   0   0   0   0   0   0   0   0   0\n",
            "   0   0   0   0   0   0   0   0   0   0   0   0   0   0   0   0   0   0\n",
            "   0   0   0   0   0   0   0   0   0   0   0   0   0   0   0   0   0   0\n",
            "   0   0]\n"
          ]
        }
      ]
    },
    {
      "cell_type": "markdown",
      "metadata": {
        "id": "WmU-LZrwatnn"
      },
      "source": [
        "We can train our own embeddings if have enough data and computation available or we can use pre-trained embeddings. We will use pre-trained embeddings (Word2Vec and GloVe 300) provided by NILC.\n",
        "\n",
        "http://www.nilc.icmc.usp.br/embeddings"
      ]
    },
    {
      "cell_type": "code",
      "metadata": {
        "id": "SA2tdICzodpL",
        "colab": {
          "base_uri": "https://localhost:8080/"
        },
        "outputId": "9ae4a1b9-5266-4db2-b22e-08f1ba7e82c3"
      },
      "source": [
        "# loading pre-trained embeddings, each word is represented as a 300 dimensional vector\n",
        "import gensim\n",
        "# W2V_PATH=\"https://s3.amazonaws.com/dl4j-distribution/GoogleNews-vectors-negative300.bin.gz\"\n",
        "# model_w2v = gensim.models.KeyedVectors.load_word2vec_format(W2V_PATH, binary=True)\n",
        "\n",
        "!wget \"http://143.107.183.175:22980/download.php?file=embeddings/word2vec/skip_s300.zip\"\n",
        "!unzip *skip_s300.zip\n"
      ],
      "execution_count": 21,
      "outputs": [
        {
          "output_type": "stream",
          "name": "stdout",
          "text": [
            "--2021-11-03 02:54:12--  http://143.107.183.175:22980/download.php?file=embeddings/word2vec/skip_s300.zip\n",
            "Connecting to 143.107.183.175:22980... connected.\n",
            "HTTP request sent, awaiting response... 200 OK\n",
            "Length: 958619745 (914M) [application/octet-stream]\n",
            "Saving to: ‘download.php?file=embeddings%2Fword2vec%2Fskip_s300.zip.1’\n",
            "\n",
            "download.php?file=e 100%[===================>] 914.21M  5.73MB/s    in 2m 11s  \n",
            "\n",
            "2021-11-03 02:56:23 (6.97 MB/s) - ‘download.php?file=embeddings%2Fword2vec%2Fskip_s300.zip.1’ saved [958619745/958619745]\n",
            "\n",
            "Archive:  download.php?file=embeddings%2Fword2vec%2Fskip_s300.zip\n",
            "replace skip_s300.txt? [y]es, [n]o, [A]ll, [N]one, [r]ename: n\n"
          ]
        }
      ]
    },
    {
      "cell_type": "code",
      "metadata": {
        "colab": {
          "base_uri": "https://localhost:8080/"
        },
        "id": "K3KckN2Z2G_-",
        "outputId": "9ae4a1b9-5266-4db2-b22e-08f1ba7e82c3"
      },
      "source": [
        "from gensim.models import KeyedVectors\n",
        "model_w2v = KeyedVectors.load_word2vec_format('skip_s300.txt')"
      ],
      "execution_count": null,
      "outputs": [
        {
          "output_type": "stream",
          "name": "stdout",
          "text": [
            "--2021-11-03 02:54:12--  http://143.107.183.175:22980/download.php?file=embeddings/word2vec/skip_s300.zip\n",
            "Connecting to 143.107.183.175:22980... connected.\n",
            "HTTP request sent, awaiting response... 200 OK\n",
            "Length: 958619745 (914M) [application/octet-stream]\n",
            "Saving to: ‘download.php?file=embeddings%2Fword2vec%2Fskip_s300.zip.1’\n",
            "\n",
            "download.php?file=e 100%[===================>] 914.21M  5.73MB/s    in 2m 11s  \n",
            "\n",
            "2021-11-03 02:56:23 (6.97 MB/s) - ‘download.php?file=embeddings%2Fword2vec%2Fskip_s300.zip.1’ saved [958619745/958619745]\n",
            "\n",
            "Archive:  download.php?file=embeddings%2Fword2vec%2Fskip_s300.zip\n",
            "replace skip_s300.txt? [y]es, [n]o, [A]ll, [N]one, [r]ename: n\n"
          ]
        }
      ]
    },
    {
      "cell_type": "code",
      "metadata": {
        "id": "POofZ14codpO"
      },
      "source": [
        "# creating embedding matrix, every row is a vector representation from the vocabulary indexed by the tokenizer index. \n",
        "embedding_matrix=np.zeros((vocab_size,300))\n",
        "for word,i in tokenizer.word_index.items():\n",
        "    if word in model_w2v:\n",
        "        embedding_matrix[i]=model_w2v[word]"
      ],
      "execution_count": 22,
      "outputs": []
    },
    {
      "cell_type": "code",
      "metadata": {
        "id": "Xstx71L9odpR",
        "colab": {
          "base_uri": "https://localhost:8080/"
        },
        "outputId": "8ccde7e3-3a55-4ebf-d0f1-4be023a78821"
      },
      "source": [
        "embedding_matrix[0]"
      ],
      "execution_count": 23,
      "outputs": [
        {
          "output_type": "execute_result",
          "data": {
            "text/plain": [
              "array([0., 0., 0., 0., 0., 0., 0., 0., 0., 0., 0., 0., 0., 0., 0., 0., 0.,\n",
              "       0., 0., 0., 0., 0., 0., 0., 0., 0., 0., 0., 0., 0., 0., 0., 0., 0.,\n",
              "       0., 0., 0., 0., 0., 0., 0., 0., 0., 0., 0., 0., 0., 0., 0., 0., 0.,\n",
              "       0., 0., 0., 0., 0., 0., 0., 0., 0., 0., 0., 0., 0., 0., 0., 0., 0.,\n",
              "       0., 0., 0., 0., 0., 0., 0., 0., 0., 0., 0., 0., 0., 0., 0., 0., 0.,\n",
              "       0., 0., 0., 0., 0., 0., 0., 0., 0., 0., 0., 0., 0., 0., 0., 0., 0.,\n",
              "       0., 0., 0., 0., 0., 0., 0., 0., 0., 0., 0., 0., 0., 0., 0., 0., 0.,\n",
              "       0., 0., 0., 0., 0., 0., 0., 0., 0., 0., 0., 0., 0., 0., 0., 0., 0.,\n",
              "       0., 0., 0., 0., 0., 0., 0., 0., 0., 0., 0., 0., 0., 0., 0., 0., 0.,\n",
              "       0., 0., 0., 0., 0., 0., 0., 0., 0., 0., 0., 0., 0., 0., 0., 0., 0.,\n",
              "       0., 0., 0., 0., 0., 0., 0., 0., 0., 0., 0., 0., 0., 0., 0., 0., 0.,\n",
              "       0., 0., 0., 0., 0., 0., 0., 0., 0., 0., 0., 0., 0., 0., 0., 0., 0.,\n",
              "       0., 0., 0., 0., 0., 0., 0., 0., 0., 0., 0., 0., 0., 0., 0., 0., 0.,\n",
              "       0., 0., 0., 0., 0., 0., 0., 0., 0., 0., 0., 0., 0., 0., 0., 0., 0.,\n",
              "       0., 0., 0., 0., 0., 0., 0., 0., 0., 0., 0., 0., 0., 0., 0., 0., 0.,\n",
              "       0., 0., 0., 0., 0., 0., 0., 0., 0., 0., 0., 0., 0., 0., 0., 0., 0.,\n",
              "       0., 0., 0., 0., 0., 0., 0., 0., 0., 0., 0., 0., 0., 0., 0., 0., 0.,\n",
              "       0., 0., 0., 0., 0., 0., 0., 0., 0., 0., 0.])"
            ]
          },
          "metadata": {},
          "execution_count": 23
        }
      ]
    },
    {
      "cell_type": "code",
      "metadata": {
        "id": "4_LEe-S6odpU",
        "scrolled": true,
        "colab": {
          "base_uri": "https://localhost:8080/"
        },
        "outputId": "4a61ccdf-1c92-415f-f4ea-c84e0a0ed963"
      },
      "source": [
        "embedding_matrix[tokenizer.word_index['sustentavel']]"
      ],
      "execution_count": 24,
      "outputs": [
        {
          "output_type": "execute_result",
          "data": {
            "text/plain": [
              "array([ 6.52000010e-02,  5.16929999e-02,  2.11859997e-02,  4.70659994e-02,\n",
              "        8.09770003e-02,  7.90050030e-02, -1.16402999e-01, -1.36920005e-01,\n",
              "        3.48940007e-02,  1.49320001e-02,  1.15750998e-01,  8.41649994e-02,\n",
              "        1.80700002e-03,  9.49579999e-02, -2.36489996e-02,  2.02776000e-01,\n",
              "       -6.20630011e-02, -2.99110003e-02,  1.13460002e-02,  4.74819988e-02,\n",
              "        1.95152998e-01,  1.02639999e-02,  8.94199982e-02, -7.71979988e-02,\n",
              "       -6.19399995e-02,  2.36450005e-02, -6.09840006e-02,  1.04480004e-02,\n",
              "        1.02415003e-01,  5.11710010e-02, -2.09180005e-02, -3.96840014e-02,\n",
              "        1.42610997e-01,  1.98209994e-02, -5.85349984e-02,  2.92339996e-02,\n",
              "        1.64609998e-02,  2.39499994e-02, -2.70809997e-02, -1.33564994e-01,\n",
              "        4.13869992e-02, -1.08425997e-01,  5.00690006e-02,  1.87171996e-01,\n",
              "        1.20569997e-01,  1.04700001e-02,  1.24062002e-01,  3.34019996e-02,\n",
              "        1.35399997e-02, -1.42495006e-01,  1.17574997e-01,  4.55660000e-02,\n",
              "        2.20094994e-01,  4.62910011e-02, -8.69849995e-02,  2.64055014e-01,\n",
              "       -2.71949992e-02,  9.85839963e-02, -3.05698991e-01,  3.91720012e-02,\n",
              "        1.87686995e-01, -1.81159992e-02,  7.71870017e-02,  1.25387996e-01,\n",
              "        3.49330008e-02, -1.17827997e-01,  4.49739993e-02, -9.01480019e-02,\n",
              "       -2.48600002e-02, -6.56550005e-02,  8.65949988e-02, -2.57740002e-02,\n",
              "       -2.41047993e-01,  2.01189995e-01, -1.22419996e-02, -1.17594004e-01,\n",
              "       -6.36779964e-02, -1.57319997e-02, -5.55699989e-02,  6.63399994e-02,\n",
              "        6.87289983e-02, -2.97500007e-02,  1.36000002e-04,  2.22299993e-02,\n",
              "        4.78090011e-02, -2.06465006e-01, -3.18569988e-02,  2.03900002e-02,\n",
              "        6.28169999e-02, -1.29605994e-01, -8.04089978e-02, -1.10280998e-01,\n",
              "       -8.40710029e-02, -2.69510001e-02, -1.63705006e-01,  3.06529999e-02,\n",
              "       -1.54165000e-01, -1.57909006e-01, -2.22960003e-02,  3.56360003e-02,\n",
              "        1.29711002e-01, -3.90379988e-02,  4.80480008e-02, -1.19882002e-01,\n",
              "       -1.61734000e-01, -2.27551997e-01,  8.81170034e-02,  1.52820004e-02,\n",
              "       -5.97449988e-02, -1.21123001e-01, -4.63550016e-02,  1.32262006e-01,\n",
              "        6.41129985e-02, -2.11524993e-01, -7.62479976e-02,  1.16687998e-01,\n",
              "        1.00800000e-01, -1.63230002e-02, -2.89469995e-02,  1.30608007e-01,\n",
              "       -1.66498005e-01,  4.69570011e-02,  2.45639998e-02, -9.20049995e-02,\n",
              "       -6.87120035e-02,  4.69559990e-02, -1.98720004e-02, -1.83073997e-01,\n",
              "       -2.01330006e-01, -1.08929001e-01, -3.09660006e-02,  1.33956000e-01,\n",
              "       -4.52620015e-02,  1.07387997e-01,  7.87919983e-02, -1.29919007e-01,\n",
              "        1.27250999e-01,  3.57379988e-02,  1.29671007e-01, -5.00999973e-04,\n",
              "        3.01479995e-02,  1.37371004e-01, -3.15629989e-02,  1.33100003e-02,\n",
              "        7.22889975e-02,  1.10592000e-01, -1.88752994e-01,  9.56900045e-03,\n",
              "       -1.28730005e-02, -6.47410005e-02, -1.39730005e-02, -2.93930005e-02,\n",
              "        1.91864997e-01, -1.56466007e-01,  4.92350012e-02,  6.15839995e-02,\n",
              "       -4.61639985e-02, -2.71729995e-02,  2.10660007e-02, -3.63180004e-02,\n",
              "        1.70425996e-01, -6.08120002e-02,  8.21850002e-02, -3.39570008e-02,\n",
              "       -2.55178988e-01, -8.73690024e-02,  8.63699988e-03,  6.06580004e-02,\n",
              "       -1.26096994e-01, -2.88389996e-02, -1.56058997e-01,  1.43171996e-01,\n",
              "       -4.96140011e-02, -1.76110007e-02,  2.12634996e-01, -8.28200020e-03,\n",
              "       -4.60349992e-02, -1.84757993e-01,  9.66439992e-02,  1.29181996e-01,\n",
              "       -3.81259993e-02,  2.59499997e-02,  1.33389998e-02, -1.40600000e-03,\n",
              "        1.67350005e-02,  1.26323000e-01,  4.20599990e-02, -4.66430001e-02,\n",
              "        1.71070006e-02, -2.89309993e-02, -7.41600012e-03, -9.89229977e-02,\n",
              "        6.20600022e-03,  2.73470003e-02, -6.02229983e-02, -1.20299996e-03,\n",
              "       -1.15693003e-01,  8.72499961e-03, -7.39599997e-03, -9.44710001e-02,\n",
              "       -3.85349989e-02,  5.40409982e-02, -1.99330002e-02, -1.65350005e-01,\n",
              "       -2.80559994e-02,  1.26442999e-01,  2.89826989e-01, -8.37320015e-02,\n",
              "       -8.01599957e-03,  1.05091996e-01,  1.20956004e-01,  1.35730002e-02,\n",
              "       -9.35359970e-02, -9.01210010e-02, -3.12729999e-02,  1.40384004e-01,\n",
              "        1.39899999e-02, -1.03767000e-01, -1.95278004e-01, -6.90679997e-02,\n",
              "        4.78099994e-02,  1.82109997e-02,  6.62849993e-02, -7.18429983e-02,\n",
              "       -3.21189985e-02, -4.03789990e-02,  1.67679992e-02,  1.18353002e-01,\n",
              "       -2.94450000e-02,  7.23299980e-02,  5.04520014e-02,  6.33139983e-02,\n",
              "       -1.41653001e-01,  1.09398000e-01,  7.56509975e-02, -5.73140010e-02,\n",
              "        1.70666993e-01,  1.50100002e-02, -6.62790015e-02, -9.98899993e-03,\n",
              "        8.69409963e-02, -6.00699987e-03, -1.23549998e-01, -1.65987000e-01,\n",
              "       -1.55481994e-01,  5.47790006e-02,  6.62560016e-02,  1.29822999e-01,\n",
              "        1.18629998e-02,  8.81809965e-02, -1.36657000e-01,  9.34949964e-02,\n",
              "       -2.28524998e-01, -5.69200004e-03, -1.38889000e-01,  9.99180004e-02,\n",
              "       -5.47720008e-02,  1.19780004e-02,  1.14959002e-01, -2.17499994e-02,\n",
              "        1.02137998e-01, -7.24719986e-02, -1.51536003e-01, -9.88399982e-03,\n",
              "        4.71499981e-03,  3.97580005e-02, -7.29190037e-02, -5.34689985e-02,\n",
              "        1.02899000e-01, -9.71719995e-02, -1.22022003e-01, -1.08386002e-01,\n",
              "       -1.72840003e-02,  2.86810007e-02,  2.33750008e-02,  1.08719997e-01,\n",
              "       -7.82409981e-02,  8.70769992e-02, -1.80695996e-01,  2.32100002e-02,\n",
              "        1.20759998e-02,  4.41760011e-02, -1.69733003e-01,  1.31797999e-01,\n",
              "        2.14470997e-01,  3.30310017e-02, -3.34439985e-02,  4.94429991e-02,\n",
              "       -2.10430007e-02,  2.74459999e-02,  1.67999999e-04, -1.17710000e-02,\n",
              "       -3.28989998e-02, -9.71480012e-02, -3.20019983e-02, -2.08500009e-02,\n",
              "       -9.66999959e-03, -1.68575004e-01,  6.79010004e-02,  1.80740003e-02])"
            ]
          },
          "metadata": {},
          "execution_count": 24
        }
      ]
    },
    {
      "cell_type": "code",
      "metadata": {
        "id": "ze3NNOLYodpW"
      },
      "source": [
        "# creating document-word embeddings\n",
        "document_word_embeddings=np.zeros((len(tokenized_paded_documents),128,300))\n",
        "\n",
        "for i in range(len(tokenized_paded_documents)):\n",
        "    for j in range(len(tokenized_paded_documents[0])):\n",
        "        document_word_embeddings[i][j]=embedding_matrix[tokenized_paded_documents[i][j]]"
      ],
      "execution_count": 25,
      "outputs": []
    },
    {
      "cell_type": "code",
      "metadata": {
        "id": "I4JSjhQKodpc",
        "colab": {
          "base_uri": "https://localhost:8080/"
        },
        "outputId": "11419e51-25a3-42e8-db53-10d9048885c4"
      },
      "source": [
        "document_word_embeddings.shape"
      ],
      "execution_count": 26,
      "outputs": [
        {
          "output_type": "execute_result",
          "data": {
            "text/plain": [
              "(7, 128, 300)"
            ]
          },
          "metadata": {},
          "execution_count": 26
        }
      ]
    },
    {
      "cell_type": "markdown",
      "metadata": {
        "id": "X6iHQ-9sbMJi"
      },
      "source": [
        "Now we have to represent every document as a single vector. We can either average or sum over every word vector and convert every 64X300 representation into a 300-dimensional representation. But averaging or summing over all the words would lose the semantic and contextual meaning of the documents. Different lengths of the documents would also have an adverse effect on such operations.\n",
        "\n",
        "One better way of doing this could be taking a weighted average of word vectors using the tf-idf weights. This can handle the variable length problem to a certain extent but cannot keep the semantic and contextual meaning of words. After doing that we can use the pairwise distances to calculate similar documents as we did in the tf-idf model."
      ]
    },
    {
      "cell_type": "code",
      "metadata": {
        "id": "AdtxAgA4odpf",
        "scrolled": true
      },
      "source": [
        "# tf-idf vectors do not keep the original sequence of words, converting them into actual word sequences from the documents\n",
        "\n",
        "document_embeddings=np.zeros((len(tokenized_paded_documents),300))\n",
        "words=tfidfvectoriser.get_feature_names()\n",
        "\n",
        "for i in range(len(document_word_embeddings)):\n",
        "    for j in range(len(words)):\n",
        "        document_embeddings[i]+=embedding_matrix[tokenizer.word_index[words[j]]]*tfidf_vectors[i][j]\n",
        "        \n",
        "document_embeddings=document_embeddings/np.sum(tfidf_vectors,axis=1).reshape(-1,1)\n",
        "    "
      ],
      "execution_count": 27,
      "outputs": []
    },
    {
      "cell_type": "code",
      "metadata": {
        "id": "QHQl0X7modpj"
      },
      "source": [
        "pairwise_similarities=cosine_similarity(document_embeddings)\n",
        "pairwise_differences=euclidean_distances(document_embeddings)"
      ],
      "execution_count": 28,
      "outputs": []
    },
    {
      "cell_type": "code",
      "metadata": {
        "id": "W-xnkF3Rodpl",
        "colab": {
          "base_uri": "https://localhost:8080/"
        },
        "outputId": "cc917af0-8542-41f3-ca26-66d1aff4d604"
      },
      "source": [
        "most_similar(0,pairwise_similarities,'Cosine Similarity')"
      ],
      "execution_count": 29,
      "outputs": [
        {
          "output_type": "stream",
          "name": "stdout",
          "text": [
            "Document: meio ambiente desenvolvimento sustentavel natureza socioambiental etico ambiental arvore asfalto drenagem natural agua filtragem reutilizacao recurso hidrico fonte natural energia eolico solar gase produzir reciclagem  \n",
            "Similar Documents using Cosine Similarity:\n",
            "Id: 2 ... Cosine Similarity : 0.44131498565982613\n",
            "Id: 4 ... Cosine Similarity : 0.4081641287946105\n",
            "Id: 6 ... Cosine Similarity : 0.3785309886250442\n",
            "Id: 3 ... Cosine Similarity : 0.3553731961823813\n",
            "Id: 1 ... Cosine Similarity : 0.27178458607903233\n",
            "Id: 5 ... Cosine Similarity : 0.26827768544591957\n"
          ]
        }
      ]
    },
    {
      "cell_type": "code",
      "metadata": {
        "id": "SqfLobmZodpn",
        "colab": {
          "base_uri": "https://localhost:8080/"
        },
        "outputId": "0e78d3a1-305b-4619-8622-37ed6db1d05e"
      },
      "source": [
        "most_similar(0,pairwise_differences,'Euclidean Distance')"
      ],
      "execution_count": 30,
      "outputs": [
        {
          "output_type": "stream",
          "name": "stdout",
          "text": [
            "Document: meio ambiente desenvolvimento sustentavel natureza socioambiental etico ambiental arvore asfalto drenagem natural agua filtragem reutilizacao recurso hidrico fonte natural energia eolico solar gase produzir reciclagem  \n",
            "Similar Documents using Euclidean Distance:\n",
            "Id: 2 ... Euclidean Distance : 1.4990520845268887\n",
            "Id: 4 ... Euclidean Distance : 1.6028633450992862\n",
            "Id: 3 ... Euclidean Distance : 1.6945406371430412\n",
            "Id: 6 ... Euclidean Distance : 1.755560801523878\n",
            "Id: 5 ... Euclidean Distance : 1.8060854072131798\n",
            "Id: 1 ... Euclidean Distance : 1.8733028499345212\n"
          ]
        }
      ]
    },
    {
      "cell_type": "markdown",
      "metadata": {
        "id": "L7oG1uuGodpp"
      },
      "source": [
        "#### Glove embeddings"
      ]
    },
    {
      "cell_type": "markdown",
      "metadata": {
        "id": "IpK1_HfAa1Uj"
      },
      "source": [
        "Global Vectors for word Embedding (GloVe) is an unsupervised learning algorithm to produce vector representations of word. Training is performed on aggregated global word-word co-occurrence statistics from a corpus, and the resulting representations showcase interesting linear substructures of the word vector space.\n",
        "\n",
        "We will use the pre-trained Glove embeddings. All the steps would remain same as word2vec embeddings it’s just that in this case we will use the Glove pre-trained model. We are using Glove embeddings of 300-dimensions because of the large size of the embeddings file. You can use higher dimensions also"
      ]
    },
    {
      "cell_type": "code",
      "metadata": {
        "id": "Dyl2etaWodpq",
        "colab": {
          "base_uri": "https://localhost:8080/"
        },
        "outputId": "9af91d95-8b37-4df2-948d-3772dbc44418"
      },
      "source": [
        "# reading Glove word embeddings into a dictionary with \"word\" as key and values as word vectors\n",
        "\n",
        "!wget http://143.107.183.175:22980/download.php?file=embeddings/glove/glove_s300.zip\n",
        "!unzip *glove*.zip\n"
      ],
      "execution_count": 31,
      "outputs": [
        {
          "output_type": "stream",
          "name": "stdout",
          "text": [
            "--2021-11-03 03:14:51--  http://143.107.183.175:22980/download.php?file=embeddings/glove/glove_s300.zip\n",
            "Connecting to 143.107.183.175:22980... connected.\n",
            "HTTP request sent, awaiting response... 200 OK\n",
            "Length: 993190150 (947M) [application/octet-stream]\n",
            "Saving to: ‘download.php?file=embeddings%2Fglove%2Fglove_s300.zip.2’\n",
            "\n",
            "download.php?file=e 100%[===================>] 947.18M  11.2MB/s    in 95s     \n",
            "\n",
            "2021-11-03 03:16:26 (9.97 MB/s) - ‘download.php?file=embeddings%2Fglove%2Fglove_s300.zip.2’ saved [993190150/993190150]\n",
            "\n",
            "Archive:  download.php?file=embeddings%2Fglove%2Fglove_s300.zip\n",
            "replace glove_s300.txt? [y]es, [n]o, [A]ll, [N]one, [r]ename: y\n",
            "  inflating: glove_s300.txt          \n"
          ]
        },
        {
          "output_type": "stream",
          "name": "stderr",
          "text": [
            "/usr/local/lib/python3.7/dist-packages/ipykernel_launcher.py:14: DeprecationWarning: string or file could not be read to its end due to unmatched data; this will raise a ValueError in the future.\n",
            "  \n"
          ]
        }
      ]
    },
    {
      "cell_type": "code",
      "metadata": {
        "id": "EwDAd0yE0P3R"
      },
      "source": [
        "from gensim.models import KeyedVectors\n",
        "model_glo = KeyedVectors.load_word2vec_format('glove_s300.txt')\n",
        "\n",
        "# creating embedding matrix, every row is a vector representation from the vocabulary indexed by the tokenizer index. \n",
        "embedding_matrix=np.zeros((vocab_size,300))\n",
        "for word,i in tokenizer.word_index.items():\n",
        "    if word in model_w2v:\n",
        "        embedding_matrix[i]=model_glo[word]"
      ],
      "execution_count": 52,
      "outputs": []
    },
    {
      "cell_type": "code",
      "metadata": {
        "id": "elSMrWDKodpu"
      },
      "source": [
        "# tf-idf vectors do not keep the original sequence of words, converting them into actual word sequences from the documents\n",
        "\n",
        "document_embeddings=np.zeros((len(tokenized_paded_documents),300))\n",
        "words=tfidfvectoriser.get_feature_names()\n",
        "\n",
        "for i in range(documents_df.shape[0]):\n",
        "    for j in range(len(words)):\n",
        "        document_embeddings[i]+=embedding_matrix[tokenizer.word_index[words[j]]]*tfidf_vectors[i][j]\n",
        "        \n",
        "document_embeddings=document_embeddings/np.sum(tfidf_vectors,axis=1).reshape(-1,1)"
      ],
      "execution_count": 53,
      "outputs": []
    },
    {
      "cell_type": "code",
      "metadata": {
        "id": "tg2Q706Uodpw",
        "colab": {
          "base_uri": "https://localhost:8080/"
        },
        "outputId": "1b67d371-9e96-4bc0-9ab1-9b7b05122260"
      },
      "source": [
        "document_embeddings.shape"
      ],
      "execution_count": 54,
      "outputs": [
        {
          "output_type": "execute_result",
          "data": {
            "text/plain": [
              "(7, 300)"
            ]
          },
          "metadata": {},
          "execution_count": 54
        }
      ]
    },
    {
      "cell_type": "code",
      "metadata": {
        "id": "yo6yjjnyodpy"
      },
      "source": [
        "pairwise_similarities=cosine_similarity(document_embeddings)\n",
        "pairwise_differences=euclidean_distances(document_embeddings)"
      ],
      "execution_count": 55,
      "outputs": []
    },
    {
      "cell_type": "code",
      "metadata": {
        "id": "dzmfvsAlodp0",
        "colab": {
          "base_uri": "https://localhost:8080/"
        },
        "outputId": "db3fe6f5-26e1-4fe7-a362-59a2279143ff"
      },
      "source": [
        "most_similar(0,pairwise_similarities,'Cosine Similarity')"
      ],
      "execution_count": 56,
      "outputs": [
        {
          "output_type": "stream",
          "name": "stdout",
          "text": [
            "Document: meio ambiente desenvolvimento sustentavel natureza socioambiental etico ambiental arvore asfalto drenagem natural agua filtragem reutilizacao recurso hidrico fonte natural energia eolico solar gase produzir reciclagem  \n",
            "Similar Documents using Cosine Similarity:\n",
            "Id: 2 ... Cosine Similarity : 0.691233516768323\n",
            "Id: 4 ... Cosine Similarity : 0.6796115831289224\n",
            "Id: 3 ... Cosine Similarity : 0.6178128816709463\n",
            "Id: 6 ... Cosine Similarity : 0.6042152867960485\n",
            "Id: 1 ... Cosine Similarity : 0.561431484008248\n",
            "Id: 5 ... Cosine Similarity : 0.5538493661853104\n"
          ]
        }
      ]
    },
    {
      "cell_type": "code",
      "metadata": {
        "id": "EnrtapNtodp1",
        "colab": {
          "base_uri": "https://localhost:8080/"
        },
        "outputId": "99a3dacc-ae3f-471f-8397-971fc336522e"
      },
      "source": [
        "most_similar(0,pairwise_differences,'Euclidean Distance')"
      ],
      "execution_count": 57,
      "outputs": [
        {
          "output_type": "stream",
          "name": "stdout",
          "text": [
            "Document: meio ambiente desenvolvimento sustentavel natureza socioambiental etico ambiental arvore asfalto drenagem natural agua filtragem reutilizacao recurso hidrico fonte natural energia eolico solar gase produzir reciclagem  \n",
            "Similar Documents using Euclidean Distance:\n",
            "Id: 2 ... Euclidean Distance : 3.228861915998095\n",
            "Id: 4 ... Euclidean Distance : 3.2344274758486775\n",
            "Id: 3 ... Euclidean Distance : 3.474031268211265\n",
            "Id: 6 ... Euclidean Distance : 3.513033467001544\n",
            "Id: 5 ... Euclidean Distance : 3.713188972318886\n",
            "Id: 1 ... Euclidean Distance : 3.8468586514292955\n"
          ]
        }
      ]
    },
    {
      "cell_type": "markdown",
      "metadata": {
        "id": "hecViuQRodp3"
      },
      "source": [
        "#### Doc2vec model"
      ]
    },
    {
      "cell_type": "markdown",
      "metadata": {
        "id": "Gpx7PRz7bZJn"
      },
      "source": [
        "Doc2vec is an unsupervised learning algorithm to produce vector representations of sentence/paragraph/documents. This is an adaptation of word2vec. Doc2vec can represent an entire documents into a vector. So we don’t have to take average of word vectors to create document vector.\n"
      ]
    },
    {
      "cell_type": "code",
      "metadata": {
        "id": "MDLKLZXPodp4"
      },
      "source": [
        "from gensim.models.doc2vec import Doc2Vec, TaggedDocument"
      ],
      "execution_count": 38,
      "outputs": []
    },
    {
      "cell_type": "code",
      "metadata": {
        "id": "5THng5QPodp5"
      },
      "source": [
        "tagged_data = [TaggedDocument(words=word_tokenize(doc), tags=[i]) for i, doc in enumerate(documents_df['documents'])]"
      ],
      "execution_count": 39,
      "outputs": []
    },
    {
      "cell_type": "code",
      "metadata": {
        "id": "YURtty-Lodp7",
        "scrolled": true
      },
      "source": [
        "model_d2v = Doc2Vec(vector_size=100,alpha=0.025, min_count=1)\n",
        "  \n",
        "model_d2v.build_vocab(tagged_data)\n",
        "\n",
        "for epoch in range(100):\n",
        "    model_d2v.train(tagged_data,\n",
        "                total_examples=model_d2v.corpus_count,\n",
        "                epochs=model_d2v.epochs)"
      ],
      "execution_count": 40,
      "outputs": []
    },
    {
      "cell_type": "code",
      "metadata": {
        "id": "bJfa1EYWodp9"
      },
      "source": [
        "document_embeddings=np.zeros((documents_df.shape[0],100))\n",
        "\n",
        "for i in range(len(document_embeddings)):\n",
        "    document_embeddings[i]=model_d2v.docvecs[i]"
      ],
      "execution_count": 41,
      "outputs": []
    },
    {
      "cell_type": "code",
      "metadata": {
        "id": "GtkQELbxodp_"
      },
      "source": [
        "pairwise_similarities=cosine_similarity(document_embeddings)\n",
        "pairwise_differences=euclidean_distances(document_embeddings)"
      ],
      "execution_count": 42,
      "outputs": []
    },
    {
      "cell_type": "code",
      "metadata": {
        "id": "bZEEOxDvodqC",
        "colab": {
          "base_uri": "https://localhost:8080/"
        },
        "outputId": "5ef857e9-2c90-42b8-d84b-052552940906"
      },
      "source": [
        "most_similar(0,pairwise_similarities,'Cosine Similarity')"
      ],
      "execution_count": 43,
      "outputs": [
        {
          "output_type": "stream",
          "name": "stdout",
          "text": [
            "Document: meio ambiente desenvolvimento sustentavel natureza socioambiental etico ambiental arvore asfalto drenagem natural agua filtragem reutilizacao recurso hidrico fonte natural energia eolico solar gase produzir reciclagem  \n",
            "Similar Documents using Cosine Similarity:\n",
            "Id: 1 ... Cosine Similarity : 0.5763819009139642\n",
            "Id: 5 ... Cosine Similarity : 0.5533682215751361\n",
            "Id: 6 ... Cosine Similarity : 0.5316063331412926\n",
            "Id: 3 ... Cosine Similarity : 0.5189662697273635\n",
            "Id: 4 ... Cosine Similarity : 0.5105443440457733\n",
            "Id: 2 ... Cosine Similarity : 0.5054013128261482\n"
          ]
        }
      ]
    },
    {
      "cell_type": "code",
      "metadata": {
        "id": "a81ZJ4btodqF",
        "colab": {
          "base_uri": "https://localhost:8080/"
        },
        "outputId": "fd526139-6469-4be7-9e68-0746147221b9"
      },
      "source": [
        "most_similar(0,pairwise_differences,'Euclidean Distance')"
      ],
      "execution_count": 44,
      "outputs": [
        {
          "output_type": "stream",
          "name": "stdout",
          "text": [
            "Document: meio ambiente desenvolvimento sustentavel natureza socioambiental etico ambiental arvore asfalto drenagem natural agua filtragem reutilizacao recurso hidrico fonte natural energia eolico solar gase produzir reciclagem  \n",
            "Similar Documents using Euclidean Distance:\n",
            "Id: 3 ... Euclidean Distance : 17.133302275314275\n",
            "Id: 1 ... Euclidean Distance : 17.232701054266446\n",
            "Id: 5 ... Euclidean Distance : 18.735516838660384\n",
            "Id: 6 ... Euclidean Distance : 18.821521453248554\n",
            "Id: 2 ... Euclidean Distance : 19.33762842872628\n",
            "Id: 4 ... Euclidean Distance : 20.842836722900135\n"
          ]
        }
      ]
    },
    {
      "cell_type": "markdown",
      "metadata": {
        "id": "aVJRh-cSodqH"
      },
      "source": [
        "#### BERT model"
      ]
    },
    {
      "cell_type": "markdown",
      "metadata": {
        "id": "A2MUNVdXbq05"
      },
      "source": [
        "BERT- Bidirectional Encoder Representation from Transformers (BERT) is a state of the art technique for natural language processing pre-training developed by Google. BERT is trained on unlabelled text including Wikipedia and Book corpus. BERT uses transformer architecture, an attention model to learn embeddings for words.\n",
        "\n",
        "BERT consists of two pre training steps Masked Language Modelling (MLM) and Next Sentence Prediction (NSP). In BERT training text is represented using three embeddings, Token Embeddings + Segment Embeddings + Position Embeddings."
      ]
    },
    {
      "cell_type": "code",
      "metadata": {
        "id": "TY_ReGIRodqH",
        "colab": {
          "base_uri": "https://localhost:8080/"
        },
        "outputId": "c770ea36-3363-4262-9a5a-1d98494556b8"
      },
      "source": [
        "# Install the library using pip\n",
        "!pip install sentence-transformers\n",
        "from sentence_transformers import SentenceTransformer"
      ],
      "execution_count": 45,
      "outputs": [
        {
          "output_type": "stream",
          "name": "stdout",
          "text": [
            "Requirement already satisfied: sentence-transformers in /usr/local/lib/python3.7/dist-packages (2.1.0)\n",
            "Requirement already satisfied: transformers<5.0.0,>=4.6.0 in /usr/local/lib/python3.7/dist-packages (from sentence-transformers) (4.12.2)\n",
            "Requirement already satisfied: nltk in /usr/local/lib/python3.7/dist-packages (from sentence-transformers) (3.2.5)\n",
            "Requirement already satisfied: sentencepiece in /usr/local/lib/python3.7/dist-packages (from sentence-transformers) (0.1.96)\n",
            "Requirement already satisfied: scipy in /usr/local/lib/python3.7/dist-packages (from sentence-transformers) (1.4.1)\n",
            "Requirement already satisfied: tokenizers>=0.10.3 in /usr/local/lib/python3.7/dist-packages (from sentence-transformers) (0.10.3)\n",
            "Requirement already satisfied: numpy in /usr/local/lib/python3.7/dist-packages (from sentence-transformers) (1.19.5)\n",
            "Requirement already satisfied: tqdm in /usr/local/lib/python3.7/dist-packages (from sentence-transformers) (4.62.3)\n",
            "Requirement already satisfied: scikit-learn in /usr/local/lib/python3.7/dist-packages (from sentence-transformers) (0.22.2.post1)\n",
            "Requirement already satisfied: torch>=1.6.0 in /usr/local/lib/python3.7/dist-packages (from sentence-transformers) (1.9.0+cu111)\n",
            "Requirement already satisfied: huggingface-hub in /usr/local/lib/python3.7/dist-packages (from sentence-transformers) (0.1.0)\n",
            "Requirement already satisfied: torchvision in /usr/local/lib/python3.7/dist-packages (from sentence-transformers) (0.10.0+cu111)\n",
            "Requirement already satisfied: typing-extensions in /usr/local/lib/python3.7/dist-packages (from torch>=1.6.0->sentence-transformers) (3.7.4.3)\n",
            "Requirement already satisfied: packaging>=20.0 in /usr/local/lib/python3.7/dist-packages (from transformers<5.0.0,>=4.6.0->sentence-transformers) (21.0)\n",
            "Requirement already satisfied: regex!=2019.12.17 in /usr/local/lib/python3.7/dist-packages (from transformers<5.0.0,>=4.6.0->sentence-transformers) (2019.12.20)\n",
            "Requirement already satisfied: importlib-metadata in /usr/local/lib/python3.7/dist-packages (from transformers<5.0.0,>=4.6.0->sentence-transformers) (4.8.1)\n",
            "Requirement already satisfied: sacremoses in /usr/local/lib/python3.7/dist-packages (from transformers<5.0.0,>=4.6.0->sentence-transformers) (0.0.46)\n",
            "Requirement already satisfied: requests in /usr/local/lib/python3.7/dist-packages (from transformers<5.0.0,>=4.6.0->sentence-transformers) (2.23.0)\n",
            "Requirement already satisfied: filelock in /usr/local/lib/python3.7/dist-packages (from transformers<5.0.0,>=4.6.0->sentence-transformers) (3.3.0)\n",
            "Requirement already satisfied: pyyaml>=5.1 in /usr/local/lib/python3.7/dist-packages (from transformers<5.0.0,>=4.6.0->sentence-transformers) (6.0)\n",
            "Requirement already satisfied: pyparsing>=2.0.2 in /usr/local/lib/python3.7/dist-packages (from packaging>=20.0->transformers<5.0.0,>=4.6.0->sentence-transformers) (2.4.7)\n",
            "Requirement already satisfied: zipp>=0.5 in /usr/local/lib/python3.7/dist-packages (from importlib-metadata->transformers<5.0.0,>=4.6.0->sentence-transformers) (3.6.0)\n",
            "Requirement already satisfied: six in /usr/local/lib/python3.7/dist-packages (from nltk->sentence-transformers) (1.15.0)\n",
            "Requirement already satisfied: chardet<4,>=3.0.2 in /usr/local/lib/python3.7/dist-packages (from requests->transformers<5.0.0,>=4.6.0->sentence-transformers) (3.0.4)\n",
            "Requirement already satisfied: certifi>=2017.4.17 in /usr/local/lib/python3.7/dist-packages (from requests->transformers<5.0.0,>=4.6.0->sentence-transformers) (2021.5.30)\n",
            "Requirement already satisfied: idna<3,>=2.5 in /usr/local/lib/python3.7/dist-packages (from requests->transformers<5.0.0,>=4.6.0->sentence-transformers) (2.10)\n",
            "Requirement already satisfied: urllib3!=1.25.0,!=1.25.1,<1.26,>=1.21.1 in /usr/local/lib/python3.7/dist-packages (from requests->transformers<5.0.0,>=4.6.0->sentence-transformers) (1.24.3)\n",
            "Requirement already satisfied: joblib in /usr/local/lib/python3.7/dist-packages (from sacremoses->transformers<5.0.0,>=4.6.0->sentence-transformers) (1.0.1)\n",
            "Requirement already satisfied: click in /usr/local/lib/python3.7/dist-packages (from sacremoses->transformers<5.0.0,>=4.6.0->sentence-transformers) (7.1.2)\n",
            "Requirement already satisfied: pillow>=5.3.0 in /usr/local/lib/python3.7/dist-packages (from torchvision->sentence-transformers) (7.1.2)\n"
          ]
        }
      ]
    },
    {
      "cell_type": "code",
      "metadata": {
        "id": "IVXJOehRodqK"
      },
      "source": [
        "sbert_model = SentenceTransformer('bert-base-nli-mean-tokens')"
      ],
      "execution_count": 46,
      "outputs": []
    },
    {
      "cell_type": "code",
      "metadata": {
        "id": "JNvfJ6ZnodqM"
      },
      "source": [
        "document_embeddings = sbert_model.encode(documents_df['documents'])"
      ],
      "execution_count": 47,
      "outputs": []
    },
    {
      "cell_type": "code",
      "metadata": {
        "id": "FgMmPQx7o5ny"
      },
      "source": [
        "pairwise_similarities=cosine_similarity(document_embeddings)\n",
        "pairwise_differences=euclidean_distances(document_embeddings)"
      ],
      "execution_count": 48,
      "outputs": []
    },
    {
      "cell_type": "code",
      "metadata": {
        "colab": {
          "base_uri": "https://localhost:8080/"
        },
        "id": "K8jlwGz3o7mv",
        "outputId": "f77e5bc3-11ab-461e-f4d8-01e5b935730b"
      },
      "source": [
        "most_similar(0,pairwise_similarities,'Cosine Similarity')"
      ],
      "execution_count": 49,
      "outputs": [
        {
          "output_type": "stream",
          "name": "stdout",
          "text": [
            "Document: meio ambiente desenvolvimento sustentavel natureza socioambiental etico ambiental arvore asfalto drenagem natural agua filtragem reutilizacao recurso hidrico fonte natural energia eolico solar gase produzir reciclagem  \n",
            "Similar Documents using Cosine Similarity:\n",
            "Id: 6 ... Cosine Similarity : 0.7552028894424438\n",
            "Id: 3 ... Cosine Similarity : 0.7326574921607971\n",
            "Id: 1 ... Cosine Similarity : 0.683651328086853\n",
            "Id: 2 ... Cosine Similarity : 0.6647746562957764\n",
            "Id: 5 ... Cosine Similarity : 0.6478437185287476\n",
            "Id: 4 ... Cosine Similarity : 0.5696804523468018\n"
          ]
        }
      ]
    },
    {
      "cell_type": "code",
      "metadata": {
        "colab": {
          "base_uri": "https://localhost:8080/"
        },
        "id": "neuyIUs3o9Sc",
        "outputId": "9bdf23ec-5942-4a20-f84c-69ebf23aae7a"
      },
      "source": [
        "most_similar(0,pairwise_differences,'Euclidean Distance')"
      ],
      "execution_count": 50,
      "outputs": [
        {
          "output_type": "stream",
          "name": "stdout",
          "text": [
            "Document: meio ambiente desenvolvimento sustentavel natureza socioambiental etico ambiental arvore asfalto drenagem natural agua filtragem reutilizacao recurso hidrico fonte natural energia eolico solar gase produzir reciclagem  \n",
            "Similar Documents using Euclidean Distance:\n",
            "Id: 6 ... Euclidean Distance : 10.227489471435547\n",
            "Id: 3 ... Euclidean Distance : 10.631072998046875\n",
            "Id: 1 ... Euclidean Distance : 11.609855651855469\n",
            "Id: 2 ... Euclidean Distance : 12.329070091247559\n",
            "Id: 5 ... Euclidean Distance : 12.50776481628418\n",
            "Id: 4 ... Euclidean Distance : 13.743156433105469\n"
          ]
        }
      ]
    },
    {
      "cell_type": "markdown",
      "metadata": {
        "id": "vQpFJrtid7wu"
      },
      "source": [
        "## Perform Semantic Search"
      ]
    },
    {
      "cell_type": "code",
      "metadata": {
        "id": "D6wkgQmywt0k",
        "colab": {
          "base_uri": "https://localhost:8080/"
        },
        "outputId": "81a4cd75-fcd9-4462-e67e-4cb80e1feeba"
      },
      "source": [
        "import scipy\n",
        "#@title Sematic Search Form\n",
        "\n",
        "# code adapted from https://github.com/UKPLab/sentence-transformers/blob/master/examples/application_semantic_search.py\n",
        "\n",
        "query = 'meio ambiente' #@param {type: 'string'}\n",
        "\n",
        "queries = [query]\n",
        "query_embeddings = sbert_model.encode(queries)\n",
        "\n",
        "# Find the closest 5 documents of the corpus for each query sentence based on cosine similarity\n",
        "number_top_matches = 5 #@param {type: \"number\"}\n",
        "\n",
        "print(\"Semantic Search Results\")\n",
        "\n",
        "for query, query_embedding in zip(queries, query_embeddings):\n",
        "    distances = scipy.spatial.distance.cdist([query_embedding], document_embeddings, \"cosine\")[0]\n",
        "\n",
        "    results = zip(range(len(distances)), distances)\n",
        "    results = sorted(results, key=lambda x: x[1])\n",
        "\n",
        "    print(\"\\n\\n======================\\n\\n\")\n",
        "    print(\"Query:\", query)\n",
        "    print(\"\\nTop 5 most similar documents in corpus:\")\n",
        "\n",
        "    for idx, distance in results[0:number_top_matches]:\n",
        "        print(documents_df['documents'][idx].strip(), \"(Cosine Score: %.4f)\" % (1-distance))"
      ],
      "execution_count": 51,
      "outputs": [
        {
          "output_type": "stream",
          "name": "stdout",
          "text": [
            "Semantic Search Results\n",
            "\n",
            "\n",
            "======================\n",
            "\n",
            "\n",
            "Query: meio ambiente\n",
            "\n",
            "Top 5 most similar documents in corpus:\n",
            "meio ambiente desenvolvimento sustentavel natureza socioambiental etico ambiental arvore asfalto drenagem natural agua filtragem reutilizacao recurso hidrico fonte natural energia eolico solar gase produzir reciclagem (Cosine Score: 0.6329)\n",
            "maria celina bodin moraes   doutorado direito civil   universita di camerino          ser professora titular direito civil faculdade direito universidade estado rio janeiro   uerj   professora associada departamento direito pontificia universidade catolica rio janeiro   puc rio     ser abitro parecerista direito privado editora chefe civilistica     revista eletronica direito civil   qualis a      ser diretora departamento direito puc rio coordenadora area direito faperj   atuar area direito privado   principalmente mediante metodologia direito civil constitucional   tema frequente producao cientifico ser   principio constitucional dignidade pessoa humano solidariedade   aplicacao direto constituicao relacao privado   protecao pessoa vulneravel   direito personalidade   relacao familiar   contrato responsabilidade civil (Cosine Score: 0.5164)\n",
            "vitor nascimento aguiar graduar engenharia civil enfase mecanica solos universidade federal rio janeiro   ufrj          concluir mestrado doutorado engenharia civil   geotecnia   coppe ufrj             pesquisa mestrado doutorado   investigar efeito tempo velocidade deformacao adensamento resistencia cisalhamento argila mole saturar   atuar dez ano projeto consultoria obra infraestrutura mecasolo engenharia consultoria   realizar estagio pos doutorado norwegian geotechnical institute   ngi               atualmente ser professor quadro principal departamento engenharia civil ambiental pontificia universidade catolica rio janeiro   puc rio     onde lecionar disciplina laboratorio geotecnia graduacao disciplina ensaios laboratorio geotecnia experimental pos graduacao   ter exercer cargo secretario executivo associacao brasileira mecanica solos   nucleo rj (Cosine Score: 0.5162)\n",
            "doutora servico social   uerj          mestre servico social   ufrj           graduar servico social   ufrj           possuir experiencia diversos area trabalho profissional servico social   empresa   assistencia social   saude   consultoria   assessoria     ser docente pesquisadora pontificia universidade catolica rio janeiro curso graduacao pos graduacao servico social   trabalhar empresa multinacional   farmaceutica   glaxosmithkline telefonia celular   claro     ong   obra social rio janeiro     setor publico atuar prefeitura rio janeiro condicao concursar   autora livro servico social consultoria empresarial            organizadora coletanea sobre trabalho   servico social direitos humanos (Cosine Score: 0.5067)\n",
            "flavia almeida viveiros castro ser juiza direito professora convidar emerj   escola magistratura estado rio janeiro   esaj   escola administracao judiciaria tribunal justica estado rio janeiro   fundacao getulio vargas   rj   possuir pos doutorado direitos humanos instituto jus gentium faculdade direito coimbra               ser doutora direito civil constitucional universidade direito estado rio janeiro          mestre direito pontificia universidade catolica rio janeiro            mestre ciencia politica   ciencia politica sociologia   pontificia universidade catolica rio janeiro            possuir curso especializacao direito portugues centro estudos judiciarios portugal          especializacao ciencia politica   instituto metodista bennett            graduar direito comunicacao social   especialidade jornalismo pontificia universidade catolica rio janeiro                 ser juiza titular   vara civel regional barra tijuca   ter exercer magistratura vara falencia   fazenda publico   criminal   tribunal juri   orfao sucessao familia   assumir funcao juiza eleitoral     zona eleitoral   exercer funcao marechal hermes   bangu pavuna   ser juiza corregedora   auxiliar corregedora justica            exercer docencia palestrante professora convidar area direito civil direito tributario   ser coordenadora academico instituto direito pontificia universidade catolica rio janeiro coordenadora academico curso pos graduacao direito imobiliario   direito fiscal   direito empresarial   direito processual civil direito saude instituto direito puc rj (Cosine Score: 0.5026)\n"
          ]
        }
      ]
    }
  ]
}